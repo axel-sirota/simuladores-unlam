{
 "cells": [
  {
   "cell_type": "code",
   "execution_count": 1,
   "id": "80dc7077",
   "metadata": {},
   "outputs": [
    {
     "ename": "KeyboardInterrupt",
     "evalue": "",
     "output_type": "error",
     "traceback": [
      "\u001b[0;31m---------------------------------------------------------------------------\u001b[0m",
      "\u001b[0;31mKeyboardInterrupt\u001b[0m                         Traceback (most recent call last)",
      "\u001b[0;32m/var/folders/g0/jqvp4xxs5pn4cds1xb9339xm0000gn/T/ipykernel_34657/1622616935.py\u001b[0m in \u001b[0;36m<module>\u001b[0;34m\u001b[0m\n\u001b[1;32m      6\u001b[0m \u001b[0;32mfrom\u001b[0m \u001b[0mmodels\u001b[0m \u001b[0;32mimport\u001b[0m \u001b[0msir\u001b[0m\u001b[0;34m\u001b[0m\u001b[0;34m\u001b[0m\u001b[0m\n\u001b[1;32m      7\u001b[0m \u001b[0;32mfrom\u001b[0m \u001b[0mconfig\u001b[0m \u001b[0;32mimport\u001b[0m \u001b[0mget_project_root\u001b[0m\u001b[0;34m\u001b[0m\u001b[0;34m\u001b[0m\u001b[0m\n\u001b[0;32m----> 8\u001b[0;31m \u001b[0;32mimport\u001b[0m \u001b[0mtorchmetrics\u001b[0m\u001b[0;34m\u001b[0m\u001b[0;34m\u001b[0m\u001b[0m\n\u001b[0m\u001b[1;32m      9\u001b[0m \u001b[0;32mfrom\u001b[0m \u001b[0mmodels\u001b[0m\u001b[0;34m.\u001b[0m\u001b[0mpytorchtools\u001b[0m \u001b[0;32mimport\u001b[0m \u001b[0mEarlyStopping\u001b[0m\u001b[0;34m\u001b[0m\u001b[0;34m\u001b[0m\u001b[0m\n",
      "\u001b[0;32m~/.pyenv/versions/3.9.1/lib/python3.9/site-packages/torchmetrics/__init__.py\u001b[0m in \u001b[0;36m<module>\u001b[0;34m\u001b[0m\n\u001b[1;32m     12\u001b[0m \u001b[0m_PROJECT_ROOT\u001b[0m \u001b[0;34m=\u001b[0m \u001b[0mos\u001b[0m\u001b[0;34m.\u001b[0m\u001b[0mpath\u001b[0m\u001b[0;34m.\u001b[0m\u001b[0mdirname\u001b[0m\u001b[0;34m(\u001b[0m\u001b[0m_PACKAGE_ROOT\u001b[0m\u001b[0;34m)\u001b[0m\u001b[0;34m\u001b[0m\u001b[0;34m\u001b[0m\u001b[0m\n\u001b[1;32m     13\u001b[0m \u001b[0;34m\u001b[0m\u001b[0m\n\u001b[0;32m---> 14\u001b[0;31m \u001b[0;32mfrom\u001b[0m \u001b[0mtorchmetrics\u001b[0m \u001b[0;32mimport\u001b[0m \u001b[0mfunctional\u001b[0m  \u001b[0;31m# noqa: E402\u001b[0m\u001b[0;34m\u001b[0m\u001b[0;34m\u001b[0m\u001b[0m\n\u001b[0m\u001b[1;32m     15\u001b[0m \u001b[0;32mfrom\u001b[0m \u001b[0mtorchmetrics\u001b[0m\u001b[0;34m.\u001b[0m\u001b[0maggregation\u001b[0m \u001b[0;32mimport\u001b[0m \u001b[0mCatMetric\u001b[0m\u001b[0;34m,\u001b[0m \u001b[0mMaxMetric\u001b[0m\u001b[0;34m,\u001b[0m \u001b[0mMeanMetric\u001b[0m\u001b[0;34m,\u001b[0m \u001b[0mMinMetric\u001b[0m\u001b[0;34m,\u001b[0m \u001b[0mSumMetric\u001b[0m  \u001b[0;31m# noqa: E402\u001b[0m\u001b[0;34m\u001b[0m\u001b[0;34m\u001b[0m\u001b[0m\n\u001b[1;32m     16\u001b[0m from torchmetrics.audio import (  # noqa: E402\n",
      "\u001b[0;32m~/.pyenv/versions/3.9.1/lib/python3.9/site-packages/torchmetrics/functional/__init__.py\u001b[0m in \u001b[0;36m<module>\u001b[0;34m\u001b[0m\n\u001b[1;32m     75\u001b[0m \u001b[0;32mfrom\u001b[0m \u001b[0mtorchmetrics\u001b[0m\u001b[0;34m.\u001b[0m\u001b[0mfunctional\u001b[0m\u001b[0;34m.\u001b[0m\u001b[0mretrieval\u001b[0m\u001b[0;34m.\u001b[0m\u001b[0mrecall\u001b[0m \u001b[0;32mimport\u001b[0m \u001b[0mretrieval_recall\u001b[0m\u001b[0;34m\u001b[0m\u001b[0;34m\u001b[0m\u001b[0m\n\u001b[1;32m     76\u001b[0m \u001b[0;32mfrom\u001b[0m \u001b[0mtorchmetrics\u001b[0m\u001b[0;34m.\u001b[0m\u001b[0mfunctional\u001b[0m\u001b[0;34m.\u001b[0m\u001b[0mretrieval\u001b[0m\u001b[0;34m.\u001b[0m\u001b[0mreciprocal_rank\u001b[0m \u001b[0;32mimport\u001b[0m \u001b[0mretrieval_reciprocal_rank\u001b[0m\u001b[0;34m\u001b[0m\u001b[0;34m\u001b[0m\u001b[0m\n\u001b[0;32m---> 77\u001b[0;31m \u001b[0;32mfrom\u001b[0m \u001b[0mtorchmetrics\u001b[0m\u001b[0;34m.\u001b[0m\u001b[0mfunctional\u001b[0m\u001b[0;34m.\u001b[0m\u001b[0mtext\u001b[0m\u001b[0;34m.\u001b[0m\u001b[0mbleu\u001b[0m \u001b[0;32mimport\u001b[0m \u001b[0mbleu_score\u001b[0m\u001b[0;34m\u001b[0m\u001b[0;34m\u001b[0m\u001b[0m\n\u001b[0m\u001b[1;32m     78\u001b[0m \u001b[0;32mfrom\u001b[0m \u001b[0mtorchmetrics\u001b[0m\u001b[0;34m.\u001b[0m\u001b[0mfunctional\u001b[0m\u001b[0;34m.\u001b[0m\u001b[0mtext\u001b[0m\u001b[0;34m.\u001b[0m\u001b[0mcer\u001b[0m \u001b[0;32mimport\u001b[0m \u001b[0mchar_error_rate\u001b[0m\u001b[0;34m\u001b[0m\u001b[0;34m\u001b[0m\u001b[0m\n\u001b[1;32m     79\u001b[0m \u001b[0;32mfrom\u001b[0m \u001b[0mtorchmetrics\u001b[0m\u001b[0;34m.\u001b[0m\u001b[0mfunctional\u001b[0m\u001b[0;34m.\u001b[0m\u001b[0mtext\u001b[0m\u001b[0;34m.\u001b[0m\u001b[0mchrf\u001b[0m \u001b[0;32mimport\u001b[0m \u001b[0mchrf_score\u001b[0m\u001b[0;34m\u001b[0m\u001b[0;34m\u001b[0m\u001b[0m\n",
      "\u001b[0;32m~/.pyenv/versions/3.9.1/lib/python3.9/site-packages/torchmetrics/functional/text/__init__.py\u001b[0m in \u001b[0;36m<module>\u001b[0;34m\u001b[0m\n\u001b[1;32m     28\u001b[0m \u001b[0;34m\u001b[0m\u001b[0m\n\u001b[1;32m     29\u001b[0m \u001b[0;32mif\u001b[0m \u001b[0m_TRANSFORMERS_AVAILABLE\u001b[0m\u001b[0;34m:\u001b[0m\u001b[0;34m\u001b[0m\u001b[0;34m\u001b[0m\u001b[0m\n\u001b[0;32m---> 30\u001b[0;31m     \u001b[0;32mfrom\u001b[0m \u001b[0mtorchmetrics\u001b[0m\u001b[0;34m.\u001b[0m\u001b[0mfunctional\u001b[0m\u001b[0;34m.\u001b[0m\u001b[0mtext\u001b[0m\u001b[0;34m.\u001b[0m\u001b[0mbert\u001b[0m \u001b[0;32mimport\u001b[0m \u001b[0mbert_score\u001b[0m  \u001b[0;31m# noqa: F401\u001b[0m\u001b[0;34m\u001b[0m\u001b[0;34m\u001b[0m\u001b[0m\n\u001b[0m\u001b[1;32m     31\u001b[0m     \u001b[0;32mfrom\u001b[0m \u001b[0mtorchmetrics\u001b[0m\u001b[0;34m.\u001b[0m\u001b[0mfunctional\u001b[0m\u001b[0;34m.\u001b[0m\u001b[0mtext\u001b[0m\u001b[0;34m.\u001b[0m\u001b[0minfolm\u001b[0m \u001b[0;32mimport\u001b[0m \u001b[0minfolm\u001b[0m  \u001b[0;31m# noqa: F401\u001b[0m\u001b[0;34m\u001b[0m\u001b[0;34m\u001b[0m\u001b[0m\n\u001b[1;32m     32\u001b[0m \u001b[0;34m\u001b[0m\u001b[0m\n",
      "\u001b[0;32m~/.pyenv/versions/3.9.1/lib/python3.9/site-packages/torchmetrics/functional/text/bert.py\u001b[0m in \u001b[0;36m<module>\u001b[0;34m\u001b[0m\n\u001b[1;32m     22\u001b[0m \u001b[0;32mfrom\u001b[0m \u001b[0mtorch\u001b[0m\u001b[0;34m.\u001b[0m\u001b[0mutils\u001b[0m\u001b[0;34m.\u001b[0m\u001b[0mdata\u001b[0m \u001b[0;32mimport\u001b[0m \u001b[0mDataLoader\u001b[0m\u001b[0;34m\u001b[0m\u001b[0;34m\u001b[0m\u001b[0m\n\u001b[1;32m     23\u001b[0m \u001b[0;34m\u001b[0m\u001b[0m\n\u001b[0;32m---> 24\u001b[0;31m from torchmetrics.functional.text.helper_embedding_metric import (\n\u001b[0m\u001b[1;32m     25\u001b[0m     \u001b[0mTextDataset\u001b[0m\u001b[0;34m,\u001b[0m\u001b[0;34m\u001b[0m\u001b[0;34m\u001b[0m\u001b[0m\n\u001b[1;32m     26\u001b[0m     \u001b[0mTokenizedDataset\u001b[0m\u001b[0;34m,\u001b[0m\u001b[0;34m\u001b[0m\u001b[0;34m\u001b[0m\u001b[0m\n",
      "\u001b[0;32m~/.pyenv/versions/3.9.1/lib/python3.9/site-packages/torchmetrics/functional/text/helper_embedding_metric.py\u001b[0m in \u001b[0;36m<module>\u001b[0;34m\u001b[0m\n\u001b[1;32m     24\u001b[0m \u001b[0;34m\u001b[0m\u001b[0m\n\u001b[1;32m     25\u001b[0m \u001b[0;32mif\u001b[0m \u001b[0m_TRANSFORMERS_AVAILABLE\u001b[0m\u001b[0;34m:\u001b[0m\u001b[0;34m\u001b[0m\u001b[0;34m\u001b[0m\u001b[0m\n\u001b[0;32m---> 26\u001b[0;31m     \u001b[0;32mfrom\u001b[0m \u001b[0mtransformers\u001b[0m \u001b[0;32mimport\u001b[0m \u001b[0mAutoModelForMaskedLM\u001b[0m\u001b[0;34m,\u001b[0m \u001b[0mAutoTokenizer\u001b[0m\u001b[0;34m,\u001b[0m \u001b[0mPreTrainedModel\u001b[0m\u001b[0;34m,\u001b[0m \u001b[0mPreTrainedTokenizerBase\u001b[0m\u001b[0;34m\u001b[0m\u001b[0;34m\u001b[0m\u001b[0m\n\u001b[0m\u001b[1;32m     27\u001b[0m \u001b[0;32melse\u001b[0m\u001b[0;34m:\u001b[0m\u001b[0;34m\u001b[0m\u001b[0;34m\u001b[0m\u001b[0m\n\u001b[1;32m     28\u001b[0m     \u001b[0mPreTrainedModel\u001b[0m \u001b[0;34m=\u001b[0m \u001b[0mPreTrainedTokenizerBase\u001b[0m \u001b[0;34m=\u001b[0m \u001b[0;32mNone\u001b[0m  \u001b[0;31m# type: ignore\u001b[0m\u001b[0;34m\u001b[0m\u001b[0;34m\u001b[0m\u001b[0m\n",
      "\u001b[0;32m~/.pyenv/versions/3.9.1/lib/python3.9/site-packages/transformers/__init__.py\u001b[0m in \u001b[0;36m<module>\u001b[0;34m\u001b[0m\n\u001b[1;32m     28\u001b[0m \u001b[0;34m\u001b[0m\u001b[0m\n\u001b[1;32m     29\u001b[0m \u001b[0;31m# Check the dependencies satisfy the minimal versions required.\u001b[0m\u001b[0;34m\u001b[0m\u001b[0;34m\u001b[0m\u001b[0;34m\u001b[0m\u001b[0m\n\u001b[0;32m---> 30\u001b[0;31m \u001b[0;32mfrom\u001b[0m \u001b[0;34m.\u001b[0m \u001b[0;32mimport\u001b[0m \u001b[0mdependency_versions_check\u001b[0m\u001b[0;34m\u001b[0m\u001b[0;34m\u001b[0m\u001b[0m\n\u001b[0m\u001b[1;32m     31\u001b[0m from .utils import (\n\u001b[1;32m     32\u001b[0m     \u001b[0mOptionalDependencyNotAvailable\u001b[0m\u001b[0;34m,\u001b[0m\u001b[0;34m\u001b[0m\u001b[0;34m\u001b[0m\u001b[0m\n",
      "\u001b[0;32m~/.pyenv/versions/3.9.1/lib/python3.9/site-packages/transformers/dependency_versions_check.py\u001b[0m in \u001b[0;36m<module>\u001b[0;34m\u001b[0m\n\u001b[1;32m     15\u001b[0m \u001b[0;34m\u001b[0m\u001b[0m\n\u001b[1;32m     16\u001b[0m \u001b[0;32mfrom\u001b[0m \u001b[0;34m.\u001b[0m\u001b[0mdependency_versions_table\u001b[0m \u001b[0;32mimport\u001b[0m \u001b[0mdeps\u001b[0m\u001b[0;34m\u001b[0m\u001b[0;34m\u001b[0m\u001b[0m\n\u001b[0;32m---> 17\u001b[0;31m \u001b[0;32mfrom\u001b[0m \u001b[0;34m.\u001b[0m\u001b[0mutils\u001b[0m\u001b[0;34m.\u001b[0m\u001b[0mversions\u001b[0m \u001b[0;32mimport\u001b[0m \u001b[0mrequire_version\u001b[0m\u001b[0;34m,\u001b[0m \u001b[0mrequire_version_core\u001b[0m\u001b[0;34m\u001b[0m\u001b[0;34m\u001b[0m\u001b[0m\n\u001b[0m\u001b[1;32m     18\u001b[0m \u001b[0;34m\u001b[0m\u001b[0m\n\u001b[1;32m     19\u001b[0m \u001b[0;34m\u001b[0m\u001b[0m\n",
      "\u001b[0;32m~/.pyenv/versions/3.9.1/lib/python3.9/site-packages/transformers/utils/__init__.py\u001b[0m in \u001b[0;36m<module>\u001b[0;34m\u001b[0m\n\u001b[1;32m     32\u001b[0m     \u001b[0mreplace_return_docstrings\u001b[0m\u001b[0;34m,\u001b[0m\u001b[0;34m\u001b[0m\u001b[0;34m\u001b[0m\u001b[0m\n\u001b[1;32m     33\u001b[0m )\n\u001b[0;32m---> 34\u001b[0;31m from .generic import (\n\u001b[0m\u001b[1;32m     35\u001b[0m     \u001b[0mContextManagers\u001b[0m\u001b[0;34m,\u001b[0m\u001b[0;34m\u001b[0m\u001b[0;34m\u001b[0m\u001b[0m\n\u001b[1;32m     36\u001b[0m     \u001b[0mExplicitEnum\u001b[0m\u001b[0;34m,\u001b[0m\u001b[0;34m\u001b[0m\u001b[0;34m\u001b[0m\u001b[0m\n",
      "\u001b[0;32m~/.pyenv/versions/3.9.1/lib/python3.9/site-packages/transformers/utils/generic.py\u001b[0m in \u001b[0;36m<module>\u001b[0;34m\u001b[0m\n\u001b[1;32m     27\u001b[0m \u001b[0;32mimport\u001b[0m \u001b[0mnumpy\u001b[0m \u001b[0;32mas\u001b[0m \u001b[0mnp\u001b[0m\u001b[0;34m\u001b[0m\u001b[0;34m\u001b[0m\u001b[0m\n\u001b[1;32m     28\u001b[0m \u001b[0;34m\u001b[0m\u001b[0m\n\u001b[0;32m---> 29\u001b[0;31m \u001b[0;32mfrom\u001b[0m \u001b[0;34m.\u001b[0m\u001b[0mimport_utils\u001b[0m \u001b[0;32mimport\u001b[0m \u001b[0mis_flax_available\u001b[0m\u001b[0;34m,\u001b[0m \u001b[0mis_tf_available\u001b[0m\u001b[0;34m,\u001b[0m \u001b[0mis_torch_available\u001b[0m\u001b[0;34m,\u001b[0m \u001b[0mis_torch_fx_proxy\u001b[0m\u001b[0;34m\u001b[0m\u001b[0;34m\u001b[0m\u001b[0m\n\u001b[0m\u001b[1;32m     30\u001b[0m \u001b[0;34m\u001b[0m\u001b[0m\n\u001b[1;32m     31\u001b[0m \u001b[0;34m\u001b[0m\u001b[0m\n",
      "\u001b[0;32m~/.pyenv/versions/3.9.1/lib/python3.9/site-packages/transformers/utils/import_utils.py\u001b[0m in \u001b[0;36m<module>\u001b[0;34m\u001b[0m\n\u001b[1;32m     32\u001b[0m \u001b[0;32mfrom\u001b[0m \u001b[0mtransformers\u001b[0m\u001b[0;34m.\u001b[0m\u001b[0mutils\u001b[0m\u001b[0;34m.\u001b[0m\u001b[0mversions\u001b[0m \u001b[0;32mimport\u001b[0m \u001b[0mimportlib_metadata\u001b[0m\u001b[0;34m\u001b[0m\u001b[0;34m\u001b[0m\u001b[0m\n\u001b[1;32m     33\u001b[0m \u001b[0;34m\u001b[0m\u001b[0m\n\u001b[0;32m---> 34\u001b[0;31m \u001b[0;32mfrom\u001b[0m \u001b[0;34m.\u001b[0m \u001b[0;32mimport\u001b[0m \u001b[0mlogging\u001b[0m\u001b[0;34m\u001b[0m\u001b[0;34m\u001b[0m\u001b[0m\n\u001b[0m\u001b[1;32m     35\u001b[0m \u001b[0;34m\u001b[0m\u001b[0m\n\u001b[1;32m     36\u001b[0m \u001b[0;34m\u001b[0m\u001b[0m\n",
      "\u001b[0;32m~/.pyenv/versions/3.9.1/lib/python3.9/importlib/_bootstrap.py\u001b[0m in \u001b[0;36m_find_and_load\u001b[0;34m(name, import_)\u001b[0m\n",
      "\u001b[0;32m~/.pyenv/versions/3.9.1/lib/python3.9/importlib/_bootstrap.py\u001b[0m in \u001b[0;36m_find_and_load_unlocked\u001b[0;34m(name, import_)\u001b[0m\n",
      "\u001b[0;32m~/.pyenv/versions/3.9.1/lib/python3.9/importlib/_bootstrap.py\u001b[0m in \u001b[0;36m_load_unlocked\u001b[0;34m(spec)\u001b[0m\n",
      "\u001b[0;32m~/.pyenv/versions/3.9.1/lib/python3.9/importlib/_bootstrap_external.py\u001b[0m in \u001b[0;36mexec_module\u001b[0;34m(self, module)\u001b[0m\n",
      "\u001b[0;32m~/.pyenv/versions/3.9.1/lib/python3.9/importlib/_bootstrap_external.py\u001b[0m in \u001b[0;36mget_code\u001b[0;34m(self, fullname)\u001b[0m\n",
      "\u001b[0;32m~/.pyenv/versions/3.9.1/lib/python3.9/importlib/_bootstrap_external.py\u001b[0m in \u001b[0;36mget_data\u001b[0;34m(self, path)\u001b[0m\n",
      "\u001b[0;31mKeyboardInterrupt\u001b[0m: "
     ]
    }
   ],
   "source": [
    "import sys\n",
    "import os\n",
    "sys.path.append('..')\n",
    "import numpy as np\n",
    "import pandas as pd\n",
    "from models import sir\n",
    "from config import get_project_root\n",
    "import torchmetrics\n",
    "from models.pytorchtools import EarlyStopping"
   ]
  },
  {
   "cell_type": "code",
   "execution_count": null,
   "id": "0bcfc515",
   "metadata": {},
   "outputs": [],
   "source": [
    "enfermedad='parotiditis'\n",
    "DATA_FOLDER = f'{get_project_root()}/data'\n",
    "INFECTADOS_PATH = f'{DATA_FOLDER}/extrapolated/infectados_{enfermedad}_extrapolado.csv'\n",
    "HABITANTES_PATH = f'{DATA_FOLDER}/extrapolated/habitantes_{enfermedad}_extrapolado.csv'\n",
    "VACUNADOS_PATH = f'{DATA_FOLDER}/extrapolated/vacunados_{enfermedad}_extrapolado.csv'\n",
    "YEARS = [2018, 2019, 2020, 2021, 2022]\n",
    "MONTHS = ['ENE', 'FEB', 'MAR', 'ABR', 'MAY', 'JUN', 'JUL', 'AGOS', 'SEP', 'OCT', 'NOV', 'DIC']\n"
   ]
  },
  {
   "cell_type": "code",
   "execution_count": null,
   "id": "9b58ccf0",
   "metadata": {},
   "outputs": [],
   "source": [
    "habitantes_curve = pd.read_csv(HABITANTES_PATH).set_index('ANO')\n",
    "for month in MONTHS:\n",
    "    habitantes_curve[month] = habitantes_curve['JUL']\n",
    "max_habs = habitantes_curve.max().max()\n",
    "max_habs"
   ]
  },
  {
   "cell_type": "code",
   "execution_count": null,
   "id": "261f888d",
   "metadata": {},
   "outputs": [],
   "source": [
    "def extract_curve(path=None, df=None):\n",
    "    if df is None:\n",
    "        df = pd.read_csv(path).set_index('ANO')\n",
    "    df = df[df.columns[:12]].T\n",
    "    values = []\n",
    "    for year in YEARS:\n",
    "        values.extend(df[year].tolist())\n",
    "    return pd.Series(values)\n",
    "\n",
    "infectuous_curve = extract_curve(path=INFECTADOS_PATH)  \n",
    "vacunados_curve = extract_curve(path=VACUNADOS_PATH)\n",
    "recovered_curve = pd.Series([0]*len(infectuous_curve))\n",
    "max_habs = max([habitantes_curve.max().max(), vacunados_curve.max().max()])"
   ]
  },
  {
   "cell_type": "code",
   "execution_count": null,
   "id": "418a99c1",
   "metadata": {},
   "outputs": [],
   "source": [
    "habitantes_curve"
   ]
  },
  {
   "cell_type": "code",
   "execution_count": null,
   "id": "f5c8c6cb",
   "metadata": {},
   "outputs": [],
   "source": [
    "for ix, val in enumerate(infectuous_curve):\n",
    "    try:\n",
    "        recovered_curve[ix+1] += val\n",
    "    except KeyError:\n",
    "        continue"
   ]
  },
  {
   "cell_type": "code",
   "execution_count": null,
   "id": "6be172d1",
   "metadata": {},
   "outputs": [],
   "source": [
    "max_habs"
   ]
  },
  {
   "cell_type": "code",
   "execution_count": null,
   "id": "3848039b",
   "metadata": {},
   "outputs": [],
   "source": [
    "susceptible_curve = max_habs - infectuous_curve - vacunados_curve - recovered_curve\n",
    "susceptible_curve[susceptible_curve<0] = 0\n",
    "\n"
   ]
  },
  {
   "cell_type": "code",
   "execution_count": null,
   "id": "b781eec1",
   "metadata": {},
   "outputs": [],
   "source": [
    "data = pd.concat([susceptible_curve, infectuous_curve, recovered_curve, vacunados_curve], axis=1).rename(columns={0:'Susceptible', 1:'Infectados', 2:'Recuperados', 3:'Vacunados'})\n",
    "infectados_real = data.diff()['Infectados']\n",
    "infectados_real.loc[0] = 0\n",
    "infectados_real\n",
    "data['Infectados'] = infectados_real"
   ]
  },
  {
   "cell_type": "code",
   "execution_count": null,
   "id": "62d1c4f9",
   "metadata": {},
   "outputs": [],
   "source": [
    "data"
   ]
  },
  {
   "cell_type": "code",
   "execution_count": null,
   "id": "7d7850f1",
   "metadata": {},
   "outputs": [],
   "source": [
    "data_numpy = np.array(data)/max_habs"
   ]
  },
  {
   "cell_type": "code",
   "execution_count": null,
   "id": "dd08e581",
   "metadata": {},
   "outputs": [],
   "source": [
    "import torch\n",
    "import torch.nn as nn\n",
    "import torch.nn.functional as F\n"
   ]
  },
  {
   "cell_type": "code",
   "execution_count": null,
   "id": "780383ea",
   "metadata": {},
   "outputs": [],
   "source": [
    "class SIRV(nn.Module):\n",
    "    def __init__(self, epsilon=1e-7):\n",
    "        super(SIRV, self).__init__()\n",
    "        self.lambda1 = nn.Linear(1,1, bias = False) # tasa de contacto efectivo\n",
    "        self.lambda2 = nn.Linear(1,1, bias = False) # tasa de immunizacion\n",
    "        self.lambda3 = nn.Linear(1,1, bias = False) # tasa de recuperacion\n",
    "        torch.nn.init.xavier_uniform_(self.lambda1.weight, gain=0.01)\n",
    "        torch.nn.init.xavier_uniform_(self.lambda2.weight, gain=0.01)\n",
    "        torch.nn.init.xavier_uniform_(self.lambda3.weight, gain=0.01)\n",
    "        self.epsilon = epsilon\n",
    "    \n",
    "    def forward(self, x, size_of_starter_set, amount_of_prediction_in_future):\n",
    "        assert size_of_starter_set < amount_of_prediction_in_future\n",
    "        ns = torch.zeros([amount_of_prediction_in_future, 4],dtype=torch.float, requires_grad = False)\n",
    "        torch.nn.init.xavier_uniform_(ns, gain=0.01)\n",
    "        x[x==0] = self.epsilon\n",
    "        ns[:x.shape[0]] = x.view(x.shape[0], 4).clone()\n",
    "        for i in range(size_of_starter_set,amount_of_prediction_in_future):\n",
    "            a = ns[i-1].clone()\n",
    "            ns[i][0] = a[0].view(1,1) - self.lambda1(a[0]*a[1].view(1,1)) - self.lambda2(a[0].view(1,1))\n",
    "            ns[i][1] = a[1].view(1,1) + self.lambda1(a[0]*a[1].view(1,1)) - self.lambda3(a[1].view(1,1))  - self.lambda2(a[1].view(1,1))\n",
    "            ns[i][2] = a[2].view(1,1) + self.lambda3(a[1].view(1,1))\n",
    "            ns[i][3] = a[3].view(1,1) + self.lambda2(a[0].view(1,1)) + self.lambda2(a[1].view(1,1)) \n",
    "        return ns[1:].reshape(-1,4)\n"
   ]
  },
  {
   "cell_type": "code",
   "execution_count": null,
   "id": "f8a93328",
   "metadata": {},
   "outputs": [],
   "source": [
    "def loss_custom(pred, actual):\n",
    "    loss_func = nn.SmoothL1Loss()\n",
    "    loss_big = loss_func(pred[:,3], actual[:,3]) + loss_func(pred[:,0], actual[:,0])\n",
    "    loss_small = loss_func(pred[:,1], actual[:,1]) + loss_func(pred[:,2], actual[:,2])\n",
    "    return 1000*loss_small + loss_big"
   ]
  },
  {
   "cell_type": "code",
   "execution_count": null,
   "id": "e50c1d31",
   "metadata": {
    "scrolled": false
   },
   "outputs": [],
   "source": [
    "y = torch.from_numpy(data_numpy.astype(np.float32))\n"
   ]
  },
  {
   "cell_type": "code",
   "execution_count": null,
   "id": "5c62e9b3",
   "metadata": {},
   "outputs": [],
   "source": [
    "y.size()"
   ]
  },
  {
   "cell_type": "code",
   "execution_count": null,
   "id": "aa61060a",
   "metadata": {},
   "outputs": [],
   "source": [
    "def train(train_set, fold_size=10, future_size=5):\n",
    "    epsilon = 1e-15\n",
    "    sir = SIRV(epsilon=epsilon)\n",
    "    opt = torch.optim.Adam(sir.parameters(), lr=0.05)\n",
    "    best = 10000\n",
    "    early_stopping = EarlyStopping(patience=25, verbose=False, delta=1e-7)\n",
    "    for epoch in range(500):\n",
    "        out = sir(train_set[:fold_size], size_of_starter_set=min(10, fold_size), amount_of_prediction_in_future=fold_size + future_size+1)\n",
    "        out = out.squeeze()\n",
    "        loss = loss_custom(out, train_set[:fold_size + future_size])\n",
    "        loss.backward()\n",
    "        opt.step() \n",
    "        opt.zero_grad()\n",
    "        if loss.item() < best:\n",
    "            best = loss.item()\n",
    "            torch.save(sir, f'{enfermedad}_{fold_size}.pkl')\n",
    "        if epoch%100 == 0:        \n",
    "            print(f'Epoch: {epoch}, loss: {loss.item()}')\n",
    "        if loss.isnan():\n",
    "            raise ValueError()\n",
    "        for p in sir.parameters():\n",
    "            p.data.clamp_(0)\n",
    "        if epoch > 100:\n",
    "            early_stopping(loss.item(), sir)\n",
    "\n",
    "            if early_stopping.early_stop:\n",
    "                print(\"Early stopping\")\n",
    "                break\n",
    "    return best\n",
    "    \n",
    "\n",
    "def train_and_val_k_fold():\n",
    "    divergences = []\n",
    "    rmses = []\n",
    "    losses = {}\n",
    "    future_index_check = 10\n",
    "    min_datapoints = 40\n",
    "    for fold_size in range(min_datapoints, len(y)-future_index_check):\n",
    "        print(f'\\nAnalyzing fold: {fold_size}\\n')\n",
    "        folded_train_set = y[:fold_size+future_index_check].clone()\n",
    "        best_loss = train(train_set=folded_train_set, fold_size=fold_size, future_size=future_index_check)\n",
    "        model = torch.load(f'{enfermedad}_{fold_size}.pkl')\n",
    "        preds = model(folded_train_set[:fold_size], size_of_starter_set=fold_size, amount_of_prediction_in_future=len(folded_train_set)+1)[fold_size:fold_size+future_index_check]\n",
    "        target = y[fold_size:fold_size+future_index_check]\n",
    "        kl_divergence = torchmetrics.functional.kl_divergence(target, preds).detach().item()\n",
    "        rmse = torch.sqrt(torchmetrics.functional.mean_squared_error(target, preds)).detach().item()\n",
    "        print(f'\\nKL Divergence:{kl_divergence}\\n')\n",
    "        print(f'\\nRMSE:{rmse}\\n')\n",
    "        divergences.append(kl_divergence)\n",
    "        rmses.append(rmse)\n",
    "        losses[fold_size] = best_loss\n",
    "    return divergences, rmses, losses"
   ]
  },
  {
   "cell_type": "code",
   "execution_count": null,
   "id": "15d283ea",
   "metadata": {},
   "outputs": [],
   "source": [
    "divergences, rmses, losses = train_and_val_k_fold()"
   ]
  },
  {
   "cell_type": "code",
   "execution_count": null,
   "id": "481b4ea5",
   "metadata": {},
   "outputs": [],
   "source": [
    "print(f'Cross-validated KL Divergence: {pd.Series(divergences).mean()}')\n",
    "print(f'Cross-validated RMSE: {pd.Series(rmses).mean()}')"
   ]
  },
  {
   "cell_type": "code",
   "execution_count": null,
   "id": "80055f6d",
   "metadata": {},
   "outputs": [],
   "source": [
    "import matplotlib.pyplot as plt\n",
    "%matplotlib inline\n",
    "\n",
    "best_fold_size = min(losses, key=losses.get)\n",
    "model = torch.load(f'{enfermedad}_{best_fold_size}.pkl')\n",
    "torch.save(sir, f'{enfermedad}.pkl')\n",
    "\n",
    "y = torch.from_numpy(data_numpy.astype(np.float32))\n",
    "res = model(y, size_of_starter_set=best_fold_size, amount_of_prediction_in_future=len(y))\n"
   ]
  },
  {
   "cell_type": "code",
   "execution_count": null,
   "id": "d8ebd9c5",
   "metadata": {},
   "outputs": [],
   "source": [
    "for i in range(len(y)):\n",
    "    file_to_rem = pathlib.Path(f'{enfermedad}_{best_fold_size}.pkl')\n",
    "    if os.path.isfile(myfile):\n",
    "        file_to_rem.unlink()\n",
    "else:    ## Show an error ##\n",
    "    print(\"Error: %s file not found\" % myfile)"
   ]
  },
  {
   "cell_type": "code",
   "execution_count": null,
   "id": "5dc82fb3",
   "metadata": {},
   "outputs": [],
   "source": [
    "res.shape"
   ]
  },
  {
   "cell_type": "code",
   "execution_count": null,
   "id": "292be11a",
   "metadata": {},
   "outputs": [],
   "source": [
    "import os\n",
    "os.makedirs(f'figures/{enfermedad}', exist_ok=True)"
   ]
  },
  {
   "cell_type": "code",
   "execution_count": null,
   "id": "d9bf2d81",
   "metadata": {},
   "outputs": [],
   "source": [
    "predicted_susceptible = res[:,0].detach().numpy()\n",
    "real_susceptible = y[:,0].detach().numpy()\n",
    "plt.plot(real_susceptible, color = 'r', linewidth=0, marker='.', label='real_sus')\n",
    "plt.plot(predicted_susceptible, color = 'b', linewidth=0, marker='.', label='pred_sus')\n",
    "plt.ylim(0, 1)\n",
    "plt.xlim(0,len(y))\n",
    "plt.ylabel('Proportion')\n",
    "plt.xlabel('Generation')\n",
    "plt.title('Analisis de susceptibles predichos vs reales')\n",
    "plt.legend()\n",
    "plt.savefig(f'figures/{enfermedad}/accumul_prediction.png', format='png', linewidth = 0.01)"
   ]
  },
  {
   "cell_type": "code",
   "execution_count": null,
   "id": "9a87fda1",
   "metadata": {},
   "outputs": [],
   "source": [
    "predicted_vaccinated = res[:,3].detach().numpy()\n",
    "real_vaccinated = y[:,3].detach().numpy()\n",
    "plt.plot(real_vaccinated, color = 'r', linewidth=0, marker='.', label='real_vac')\n",
    "plt.plot(predicted_vaccinated, color = 'b', linewidth=0, marker='.', label='pred_vac')\n",
    "plt.ylim(0, 1)\n",
    "plt.xlim(0,len(y))\n",
    "plt.ylabel('Proportion')\n",
    "plt.xlabel('Generation')\n",
    "plt.title('Analisis de vacunados predichos vs reales')\n",
    "plt.legend()\n",
    "plt.savefig(f'figures/{enfermedad}/accumul_prediction_vaccinated.png', format='png', linewidth = 0.01)"
   ]
  },
  {
   "cell_type": "markdown",
   "id": "a60316ad",
   "metadata": {},
   "source": [
    "Que pasa si le damos mas peso a fitear a los susceptibles?\n"
   ]
  },
  {
   "cell_type": "code",
   "execution_count": null,
   "id": "133fb8d1",
   "metadata": {},
   "outputs": [],
   "source": [
    "predicted_infected = res[:,1].detach().numpy()\n",
    "real_infected = y[:,1].detach().numpy()\n",
    "plt.plot(predicted_infected, color = 'r', linewidth=0, marker='.', label='pred_inf')\n",
    "plt.plot(real_infected, color = 'b', linewidth=0, marker='.', label='real_inf')\n",
    "plt.ylim(0, 0.0001)\n",
    "plt.xlim(0,len(y))\n",
    "plt.ylabel('Proportion')\n",
    "plt.xlabel('Generation')\n",
    "plt.title('Analisis de infectados predichos vs reales')\n",
    "plt.legend()\n",
    "plt.savefig(f'figures/{enfermedad}/accumul_infected.png', format='png', linewidth = 0.01)"
   ]
  },
  {
   "cell_type": "code",
   "execution_count": null,
   "id": "a4c78e78",
   "metadata": {},
   "outputs": [],
   "source": [
    "predicted_recov = res[:,2].detach().numpy()\n",
    "real_recov = y[:,2].detach().numpy()\n",
    "plt.plot(real_recov, color = 'r', linewidth=0, marker='.', label='real_rec')\n",
    "plt.plot(predicted_recov, color = 'b', linewidth=0, marker='.', label='pred_rec')\n",
    "plt.ylim(0, 0.001)\n",
    "plt.xlim(0,len(y))\n",
    "plt.ylabel('Proportion')\n",
    "plt.xlabel('Generation')\n",
    "plt.title('Analisis de recuperados predichos vs reales')\n",
    "plt.legend()\n",
    "plt.savefig(f'figures/{enfermedad}/accumul_prediction_rec.png', format='png', linewidth = 0.01)"
   ]
  },
  {
   "cell_type": "markdown",
   "id": "5d747f24",
   "metadata": {},
   "source": [
    "Testeemos los parametros"
   ]
  },
  {
   "cell_type": "code",
   "execution_count": null,
   "id": "61711e68",
   "metadata": {},
   "outputs": [],
   "source": [
    "params = list(model.parameters())\n",
    "lambda1 = params[0].item()\n",
    "lambda2 = params[1].item()\n",
    "lambda3 = params[2].item()\n",
    "print(params)"
   ]
  },
  {
   "cell_type": "markdown",
   "id": "3b66fea9",
   "metadata": {},
   "source": [
    "Recordemos que estamos modelando:\n",
    "\n",
    "$$\\dfrac{ds}{dt} = -\\lambda_1 s i - \\lambda_2 s  $$\n",
    "\\\n",
    "$$\\dfrac{di}{dt} = \\lambda_1 s i - \\lambda_3 i - \\lambda_2 i  $$\n",
    "\n",
    "\\\n",
    "$$\\dfrac{dr}{dt} = \\lambda_3 i  $$\n",
    "\\\n",
    "$$\\dfrac{dv}{dt} = \\lambda_2 s + \\lambda_2 i   $$\n",
    "\n",
    "\n",
    "\n",
    "Entonces\n",
    "\n",
    "$$\\beta = \\lambda_1 = R_0 / d $$\n",
    "\n",
    "Con d la duración de la infeccion.\n",
    "\n",
    "$$ \\lambda_2 = \\eta $$ la tasa de inmunización y\n",
    "\n",
    "$$ \\lambda_3 = \\nu  = 1 / d $$\n",
    "\n",
    "Primero veamos la tasa de immunizacion"
   ]
  },
  {
   "cell_type": "code",
   "execution_count": null,
   "id": "90eaeb4d",
   "metadata": {},
   "outputs": [],
   "source": [
    "tasa_immunizacion = (data.apply(lambda x: x.diff()).dropna().mean()/data['Vacunados'].max()).iloc[3]"
   ]
  },
  {
   "cell_type": "code",
   "execution_count": null,
   "id": "fc002785",
   "metadata": {},
   "outputs": [],
   "source": [
    "tasa_immunizacion"
   ]
  },
  {
   "cell_type": "code",
   "execution_count": null,
   "id": "812f4167",
   "metadata": {},
   "outputs": [],
   "source": [
    "from IPython.display import Latex\n",
    "Latex(f\"\"\"Deducimos que:\n",
    "$$ \\eta = \\lambda_2 = {{{lambda2:.5f}}} \\\\approx {{{tasa_immunizacion:.5f}}} $$\"\"\")"
   ]
  },
  {
   "cell_type": "code",
   "execution_count": null,
   "id": "27af972d",
   "metadata": {},
   "outputs": [],
   "source": [
    "Latex(f\"\"\"Deducimos que:\n",
    "$$ d = 1 / \\lambda_3 = 1 / {{{lambda3:.2f}}} \\\\approx {{{1/lambda3:.2f}}} $$\n",
    "$$ R_0 =  \\lambda_1 * d = {{{lambda1:.2f}}} * d \\\\approx {{{lambda1/lambda3:.2f}}}$$\"\"\")"
   ]
  },
  {
   "cell_type": "markdown",
   "id": "d4fd225a",
   "metadata": {},
   "source": [
    "Mientras que la literatura indica:\n",
    "\n",
    "$$ d = 17.5 $$\n",
    "$$ R_0 = 2.65 $$"
   ]
  },
  {
   "cell_type": "markdown",
   "id": "a0ca8030",
   "metadata": {},
   "source": [
    "## Validemos un test de momentos"
   ]
  },
  {
   "cell_type": "markdown",
   "id": "ea725fe4",
   "metadata": {},
   "source": [
    "#### Primer momento"
   ]
  },
  {
   "cell_type": "code",
   "execution_count": null,
   "id": "61acae2d",
   "metadata": {},
   "outputs": [],
   "source": [
    "import scipy\n",
    "\n",
    "scipy.stats.ttest_ind(real_susceptible, predicted_susceptible, equal_var=False)"
   ]
  },
  {
   "cell_type": "code",
   "execution_count": null,
   "id": "461d8d26",
   "metadata": {},
   "outputs": [],
   "source": [
    "scipy.stats.ttest_ind(real_infected, predicted_infected, equal_var=False)"
   ]
  },
  {
   "cell_type": "code",
   "execution_count": null,
   "id": "be7f5ae3",
   "metadata": {},
   "outputs": [],
   "source": [
    "scipy.stats.ttest_ind(real_recov, predicted_recov, equal_var=False)"
   ]
  },
  {
   "cell_type": "code",
   "execution_count": null,
   "id": "1020a2e5",
   "metadata": {},
   "outputs": [],
   "source": [
    "scipy.stats.ttest_ind(real_vaccinated, predicted_vaccinated, equal_var=False)"
   ]
  },
  {
   "cell_type": "markdown",
   "id": "c3799d0e",
   "metadata": {},
   "source": [
    "#### Segundo momento"
   ]
  },
  {
   "cell_type": "code",
   "execution_count": null,
   "id": "264555ea",
   "metadata": {},
   "outputs": [],
   "source": [
    "scipy.stats.bartlett(real_infected, predicted_infected)"
   ]
  },
  {
   "cell_type": "code",
   "execution_count": null,
   "id": "a8d58a5a",
   "metadata": {},
   "outputs": [],
   "source": [
    "scipy.stats.bartlett(real_recov, predicted_recov)"
   ]
  },
  {
   "cell_type": "markdown",
   "id": "f29f39a8",
   "metadata": {},
   "source": [
    "#### Test de bondad de ajuste de KS"
   ]
  },
  {
   "cell_type": "code",
   "execution_count": null,
   "id": "8ab4f644",
   "metadata": {},
   "outputs": [],
   "source": [
    "scipy.stats.kstest(real_susceptible, predicted_susceptible, method='asymp')"
   ]
  },
  {
   "cell_type": "code",
   "execution_count": null,
   "id": "681bd62e",
   "metadata": {},
   "outputs": [],
   "source": [
    "scipy.stats.kstest(real_infected, predicted_infected, method='asymp')"
   ]
  },
  {
   "cell_type": "code",
   "execution_count": null,
   "id": "9e9078f7",
   "metadata": {},
   "outputs": [],
   "source": [
    "scipy.stats.kstest(real_recov, predicted_recov, method='asymp')"
   ]
  },
  {
   "cell_type": "code",
   "execution_count": null,
   "id": "83a52f64",
   "metadata": {},
   "outputs": [],
   "source": [
    "scipy.stats.kstest(real_vaccinated, predicted_vaccinated, method='asymp')"
   ]
  },
  {
   "cell_type": "code",
   "execution_count": null,
   "id": "cf38315d",
   "metadata": {},
   "outputs": [],
   "source": []
  },
  {
   "cell_type": "code",
   "execution_count": null,
   "id": "bfdd20c4",
   "metadata": {},
   "outputs": [],
   "source": []
  },
  {
   "cell_type": "code",
   "execution_count": null,
   "id": "e7f9bf17",
   "metadata": {},
   "outputs": [],
   "source": []
  },
  {
   "cell_type": "code",
   "execution_count": null,
   "id": "8bb08e0d",
   "metadata": {},
   "outputs": [],
   "source": []
  }
 ],
 "metadata": {
  "kernelspec": {
   "display_name": "simuladores",
   "language": "python",
   "name": "simuladores"
  },
  "language_info": {
   "codemirror_mode": {
    "name": "ipython",
    "version": 3
   },
   "file_extension": ".py",
   "mimetype": "text/x-python",
   "name": "python",
   "nbconvert_exporter": "python",
   "pygments_lexer": "ipython3",
   "version": "3.9.1"
  }
 },
 "nbformat": 4,
 "nbformat_minor": 5
}
