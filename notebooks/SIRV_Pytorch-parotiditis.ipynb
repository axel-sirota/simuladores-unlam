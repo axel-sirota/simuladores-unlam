{
 "cells": [
  {
   "cell_type": "code",
   "execution_count": 1,
   "id": "80dc7077",
   "metadata": {},
   "outputs": [],
   "source": [
    "import sys\n",
    "import os\n",
    "sys.path.append('..')\n",
    "import numpy as np\n",
    "import pandas as pd\n",
    "from models import sir\n",
    "from config import get_project_root\n",
    "import torchmetrics\n",
    "from models.pytorchtools import EarlyStopping\n",
    "import pathlib"
   ]
  },
  {
   "cell_type": "code",
   "execution_count": 55,
   "id": "0bcfc515",
   "metadata": {},
   "outputs": [],
   "source": [
    "enfermedad='parotiditis'\n",
    "DATA_FOLDER = f'{get_project_root()}/data'\n",
    "INFECTADOS_PATH = f'{DATA_FOLDER}/extrapolated/infectados_{enfermedad}_extrapolado.csv'\n",
    "HABITANTES_PATH = f'{DATA_FOLDER}/extrapolated/habitantes_{enfermedad}_extrapolado.csv'\n",
    "VACUNADOS_PATH = f'{DATA_FOLDER}/extrapolated/vacunados_{enfermedad}_extrapolado.csv'\n",
    "FINAL_PATH=f'{DATA_FOLDER}/final/{enfermedad}_extrapolado.csv'\n",
    "YEARS = [2018, 2019, 2020, 2021, 2022]\n",
    "MONTHS = ['ENE', 'FEB', 'MAR', 'ABR', 'MAY', 'JUN', 'JUL', 'AGOS', 'SEP', 'OCT', 'NOV', 'DIC']\n"
   ]
  },
  {
   "cell_type": "code",
   "execution_count": 3,
   "id": "9b58ccf0",
   "metadata": {},
   "outputs": [
    {
     "data": {
      "text/plain": [
       "11101945"
      ]
     },
     "execution_count": 3,
     "metadata": {},
     "output_type": "execute_result"
    }
   ],
   "source": [
    "habitantes_curve = pd.read_csv(HABITANTES_PATH).set_index('ANO')\n",
    "for month in MONTHS:\n",
    "    habitantes_curve[month] = habitantes_curve['JUL']\n",
    "max_habs = habitantes_curve.max().max()\n",
    "max_habs"
   ]
  },
  {
   "cell_type": "code",
   "execution_count": 4,
   "id": "261f888d",
   "metadata": {},
   "outputs": [],
   "source": [
    "def extract_curve(path=None, df=None):\n",
    "    if df is None:\n",
    "        df = pd.read_csv(path).set_index('ANO')\n",
    "    df = df[df.columns[:12]].T\n",
    "    values = []\n",
    "    for year in YEARS:\n",
    "        values.extend(df[year].tolist())\n",
    "    return pd.Series(values)\n",
    "\n",
    "infectuous_curve = extract_curve(path=INFECTADOS_PATH)  \n",
    "vacunados_curve = extract_curve(path=VACUNADOS_PATH)\n",
    "recovered_curve = pd.Series([0]*len(infectuous_curve))\n",
    "max_habs = max([habitantes_curve.max().max(), vacunados_curve.max().max()])"
   ]
  },
  {
   "cell_type": "code",
   "execution_count": 5,
   "id": "418a99c1",
   "metadata": {},
   "outputs": [
    {
     "data": {
      "text/html": [
       "<div>\n",
       "<style scoped>\n",
       "    .dataframe tbody tr th:only-of-type {\n",
       "        vertical-align: middle;\n",
       "    }\n",
       "\n",
       "    .dataframe tbody tr th {\n",
       "        vertical-align: top;\n",
       "    }\n",
       "\n",
       "    .dataframe thead th {\n",
       "        text-align: right;\n",
       "    }\n",
       "</style>\n",
       "<table border=\"1\" class=\"dataframe\">\n",
       "  <thead>\n",
       "    <tr style=\"text-align: right;\">\n",
       "      <th></th>\n",
       "      <th>ENE</th>\n",
       "      <th>FEB</th>\n",
       "      <th>MAR</th>\n",
       "      <th>ABR</th>\n",
       "      <th>MAY</th>\n",
       "      <th>JUN</th>\n",
       "      <th>JUL</th>\n",
       "      <th>AGOS</th>\n",
       "      <th>SEP</th>\n",
       "      <th>OCT</th>\n",
       "      <th>NOV</th>\n",
       "      <th>DIC</th>\n",
       "    </tr>\n",
       "    <tr>\n",
       "      <th>ANO</th>\n",
       "      <th></th>\n",
       "      <th></th>\n",
       "      <th></th>\n",
       "      <th></th>\n",
       "      <th></th>\n",
       "      <th></th>\n",
       "      <th></th>\n",
       "      <th></th>\n",
       "      <th></th>\n",
       "      <th></th>\n",
       "      <th></th>\n",
       "      <th></th>\n",
       "    </tr>\n",
       "  </thead>\n",
       "  <tbody>\n",
       "    <tr>\n",
       "      <th>2018</th>\n",
       "      <td>10973470</td>\n",
       "      <td>10973470</td>\n",
       "      <td>10973470</td>\n",
       "      <td>10973470</td>\n",
       "      <td>10973470</td>\n",
       "      <td>10973470</td>\n",
       "      <td>10973470</td>\n",
       "      <td>10973470</td>\n",
       "      <td>10973470</td>\n",
       "      <td>10973470</td>\n",
       "      <td>10973470</td>\n",
       "      <td>10973470</td>\n",
       "    </tr>\n",
       "    <tr>\n",
       "      <th>2019</th>\n",
       "      <td>11012606</td>\n",
       "      <td>11012606</td>\n",
       "      <td>11012606</td>\n",
       "      <td>11012606</td>\n",
       "      <td>11012606</td>\n",
       "      <td>11012606</td>\n",
       "      <td>11012606</td>\n",
       "      <td>11012606</td>\n",
       "      <td>11012606</td>\n",
       "      <td>11012606</td>\n",
       "      <td>11012606</td>\n",
       "      <td>11012606</td>\n",
       "    </tr>\n",
       "    <tr>\n",
       "      <th>2020</th>\n",
       "      <td>11047665</td>\n",
       "      <td>11047665</td>\n",
       "      <td>11047665</td>\n",
       "      <td>11047665</td>\n",
       "      <td>11047665</td>\n",
       "      <td>11047665</td>\n",
       "      <td>11047665</td>\n",
       "      <td>11047665</td>\n",
       "      <td>11047665</td>\n",
       "      <td>11047665</td>\n",
       "      <td>11047665</td>\n",
       "      <td>11047665</td>\n",
       "    </tr>\n",
       "    <tr>\n",
       "      <th>2021</th>\n",
       "      <td>11077856</td>\n",
       "      <td>11077856</td>\n",
       "      <td>11077856</td>\n",
       "      <td>11077856</td>\n",
       "      <td>11077856</td>\n",
       "      <td>11077856</td>\n",
       "      <td>11077856</td>\n",
       "      <td>11077856</td>\n",
       "      <td>11077856</td>\n",
       "      <td>11077856</td>\n",
       "      <td>11077856</td>\n",
       "      <td>11077856</td>\n",
       "    </tr>\n",
       "    <tr>\n",
       "      <th>2022</th>\n",
       "      <td>11101945</td>\n",
       "      <td>11101945</td>\n",
       "      <td>11101945</td>\n",
       "      <td>11101945</td>\n",
       "      <td>11101945</td>\n",
       "      <td>11101945</td>\n",
       "      <td>11101945</td>\n",
       "      <td>11101945</td>\n",
       "      <td>11101945</td>\n",
       "      <td>11101945</td>\n",
       "      <td>11101945</td>\n",
       "      <td>11101945</td>\n",
       "    </tr>\n",
       "  </tbody>\n",
       "</table>\n",
       "</div>"
      ],
      "text/plain": [
       "           ENE       FEB       MAR       ABR       MAY       JUN       JUL  \\\n",
       "ANO                                                                          \n",
       "2018  10973470  10973470  10973470  10973470  10973470  10973470  10973470   \n",
       "2019  11012606  11012606  11012606  11012606  11012606  11012606  11012606   \n",
       "2020  11047665  11047665  11047665  11047665  11047665  11047665  11047665   \n",
       "2021  11077856  11077856  11077856  11077856  11077856  11077856  11077856   \n",
       "2022  11101945  11101945  11101945  11101945  11101945  11101945  11101945   \n",
       "\n",
       "          AGOS       SEP       OCT       NOV       DIC  \n",
       "ANO                                                     \n",
       "2018  10973470  10973470  10973470  10973470  10973470  \n",
       "2019  11012606  11012606  11012606  11012606  11012606  \n",
       "2020  11047665  11047665  11047665  11047665  11047665  \n",
       "2021  11077856  11077856  11077856  11077856  11077856  \n",
       "2022  11101945  11101945  11101945  11101945  11101945  "
      ]
     },
     "execution_count": 5,
     "metadata": {},
     "output_type": "execute_result"
    }
   ],
   "source": [
    "habitantes_curve"
   ]
  },
  {
   "cell_type": "code",
   "execution_count": 6,
   "id": "f5c8c6cb",
   "metadata": {},
   "outputs": [],
   "source": [
    "for ix, val in enumerate(infectuous_curve):\n",
    "    try:\n",
    "        recovered_curve[ix+1] += val\n",
    "    except KeyError:\n",
    "        continue"
   ]
  },
  {
   "cell_type": "code",
   "execution_count": 7,
   "id": "6be172d1",
   "metadata": {},
   "outputs": [
    {
     "data": {
      "text/plain": [
       "11101945"
      ]
     },
     "execution_count": 7,
     "metadata": {},
     "output_type": "execute_result"
    }
   ],
   "source": [
    "max_habs"
   ]
  },
  {
   "cell_type": "code",
   "execution_count": null,
   "id": "f056e12f",
   "metadata": {},
   "outputs": [],
   "source": []
  },
  {
   "cell_type": "code",
   "execution_count": 8,
   "id": "3848039b",
   "metadata": {},
   "outputs": [],
   "source": [
    "susceptible_curve = max_habs - infectuous_curve - vacunados_curve - recovered_curve\n",
    "susceptible_curve[susceptible_curve<0] = 0\n",
    "\n"
   ]
  },
  {
   "cell_type": "code",
   "execution_count": 9,
   "id": "b781eec1",
   "metadata": {},
   "outputs": [],
   "source": [
    "data = pd.concat([susceptible_curve, infectuous_curve, recovered_curve, vacunados_curve], axis=1).rename(columns={0:'Susceptible', 1:'Infectados', 2:'Recuperados', 3:'Vacunados'})\n",
    "infectados_real = data.diff()['Infectados']\n",
    "infectados_real.loc[0] = 0\n",
    "infectados_real\n",
    "data['Infectados'] = infectados_real"
   ]
  },
  {
   "cell_type": "code",
   "execution_count": 10,
   "id": "62d1c4f9",
   "metadata": {},
   "outputs": [
    {
     "data": {
      "text/html": [
       "<div>\n",
       "<style scoped>\n",
       "    .dataframe tbody tr th:only-of-type {\n",
       "        vertical-align: middle;\n",
       "    }\n",
       "\n",
       "    .dataframe tbody tr th {\n",
       "        vertical-align: top;\n",
       "    }\n",
       "\n",
       "    .dataframe thead th {\n",
       "        text-align: right;\n",
       "    }\n",
       "</style>\n",
       "<table border=\"1\" class=\"dataframe\">\n",
       "  <thead>\n",
       "    <tr style=\"text-align: right;\">\n",
       "      <th></th>\n",
       "      <th>Susceptible</th>\n",
       "      <th>Infectados</th>\n",
       "      <th>Recuperados</th>\n",
       "      <th>Vacunados</th>\n",
       "    </tr>\n",
       "  </thead>\n",
       "  <tbody>\n",
       "    <tr>\n",
       "      <th>0</th>\n",
       "      <td>11054236.0</td>\n",
       "      <td>0.0</td>\n",
       "      <td>0</td>\n",
       "      <td>47709.0</td>\n",
       "    </tr>\n",
       "    <tr>\n",
       "      <th>1</th>\n",
       "      <td>10796649.0</td>\n",
       "      <td>0.0</td>\n",
       "      <td>0</td>\n",
       "      <td>305296.0</td>\n",
       "    </tr>\n",
       "    <tr>\n",
       "      <th>2</th>\n",
       "      <td>10018775.0</td>\n",
       "      <td>0.0</td>\n",
       "      <td>0</td>\n",
       "      <td>1083170.0</td>\n",
       "    </tr>\n",
       "    <tr>\n",
       "      <th>3</th>\n",
       "      <td>9966599.0</td>\n",
       "      <td>0.0</td>\n",
       "      <td>0</td>\n",
       "      <td>1135346.0</td>\n",
       "    </tr>\n",
       "    <tr>\n",
       "      <th>4</th>\n",
       "      <td>9900497.0</td>\n",
       "      <td>160.0</td>\n",
       "      <td>0</td>\n",
       "      <td>1201288.0</td>\n",
       "    </tr>\n",
       "    <tr>\n",
       "      <th>5</th>\n",
       "      <td>9855222.0</td>\n",
       "      <td>7.0</td>\n",
       "      <td>160</td>\n",
       "      <td>1246396.0</td>\n",
       "    </tr>\n",
       "    <tr>\n",
       "      <th>6</th>\n",
       "      <td>9810651.0</td>\n",
       "      <td>20.0</td>\n",
       "      <td>167</td>\n",
       "      <td>1290940.0</td>\n",
       "    </tr>\n",
       "    <tr>\n",
       "      <th>7</th>\n",
       "      <td>9752041.0</td>\n",
       "      <td>16.0</td>\n",
       "      <td>187</td>\n",
       "      <td>1349514.0</td>\n",
       "    </tr>\n",
       "    <tr>\n",
       "      <th>8</th>\n",
       "      <td>9675443.0</td>\n",
       "      <td>27.0</td>\n",
       "      <td>203</td>\n",
       "      <td>1426069.0</td>\n",
       "    </tr>\n",
       "    <tr>\n",
       "      <th>9</th>\n",
       "      <td>9606218.0</td>\n",
       "      <td>16.0</td>\n",
       "      <td>230</td>\n",
       "      <td>1495251.0</td>\n",
       "    </tr>\n",
       "    <tr>\n",
       "      <th>10</th>\n",
       "      <td>9550836.0</td>\n",
       "      <td>19.0</td>\n",
       "      <td>246</td>\n",
       "      <td>1550598.0</td>\n",
       "    </tr>\n",
       "    <tr>\n",
       "      <th>11</th>\n",
       "      <td>9503214.0</td>\n",
       "      <td>161.0</td>\n",
       "      <td>265</td>\n",
       "      <td>1598040.0</td>\n",
       "    </tr>\n",
       "    <tr>\n",
       "      <th>12</th>\n",
       "      <td>9451741.0</td>\n",
       "      <td>0.0</td>\n",
       "      <td>426</td>\n",
       "      <td>1649352.0</td>\n",
       "    </tr>\n",
       "    <tr>\n",
       "      <th>13</th>\n",
       "      <td>9386522.0</td>\n",
       "      <td>187.0</td>\n",
       "      <td>426</td>\n",
       "      <td>1714384.0</td>\n",
       "    </tr>\n",
       "    <tr>\n",
       "      <th>14</th>\n",
       "      <td>9320172.0</td>\n",
       "      <td>5.0</td>\n",
       "      <td>613</td>\n",
       "      <td>1780542.0</td>\n",
       "    </tr>\n",
       "    <tr>\n",
       "      <th>15</th>\n",
       "      <td>9261350.0</td>\n",
       "      <td>7.0</td>\n",
       "      <td>618</td>\n",
       "      <td>1839352.0</td>\n",
       "    </tr>\n",
       "    <tr>\n",
       "      <th>16</th>\n",
       "      <td>9201503.0</td>\n",
       "      <td>12.0</td>\n",
       "      <td>625</td>\n",
       "      <td>1899180.0</td>\n",
       "    </tr>\n",
       "    <tr>\n",
       "      <th>17</th>\n",
       "      <td>9155004.0</td>\n",
       "      <td>12.0</td>\n",
       "      <td>637</td>\n",
       "      <td>1945655.0</td>\n",
       "    </tr>\n",
       "    <tr>\n",
       "      <th>18</th>\n",
       "      <td>9103684.0</td>\n",
       "      <td>6.0</td>\n",
       "      <td>649</td>\n",
       "      <td>1996957.0</td>\n",
       "    </tr>\n",
       "    <tr>\n",
       "      <th>19</th>\n",
       "      <td>9050829.0</td>\n",
       "      <td>0.0</td>\n",
       "      <td>655</td>\n",
       "      <td>2049806.0</td>\n",
       "    </tr>\n",
       "    <tr>\n",
       "      <th>20</th>\n",
       "      <td>8977505.0</td>\n",
       "      <td>21.0</td>\n",
       "      <td>655</td>\n",
       "      <td>2123109.0</td>\n",
       "    </tr>\n",
       "    <tr>\n",
       "      <th>21</th>\n",
       "      <td>8833571.0</td>\n",
       "      <td>11.0</td>\n",
       "      <td>676</td>\n",
       "      <td>2267011.0</td>\n",
       "    </tr>\n",
       "    <tr>\n",
       "      <th>22</th>\n",
       "      <td>8734982.0</td>\n",
       "      <td>10.0</td>\n",
       "      <td>687</td>\n",
       "      <td>2365579.0</td>\n",
       "    </tr>\n",
       "    <tr>\n",
       "      <th>23</th>\n",
       "      <td>8654625.0</td>\n",
       "      <td>194.0</td>\n",
       "      <td>697</td>\n",
       "      <td>2445732.0</td>\n",
       "    </tr>\n",
       "    <tr>\n",
       "      <th>24</th>\n",
       "      <td>8639901.0</td>\n",
       "      <td>110.0</td>\n",
       "      <td>891</td>\n",
       "      <td>2460152.0</td>\n",
       "    </tr>\n",
       "    <tr>\n",
       "      <th>25</th>\n",
       "      <td>8627427.0</td>\n",
       "      <td>21.0</td>\n",
       "      <td>1001</td>\n",
       "      <td>2472495.0</td>\n",
       "    </tr>\n",
       "    <tr>\n",
       "      <th>26</th>\n",
       "      <td>8615248.0</td>\n",
       "      <td>20.0</td>\n",
       "      <td>1022</td>\n",
       "      <td>2484633.0</td>\n",
       "    </tr>\n",
       "    <tr>\n",
       "      <th>27</th>\n",
       "      <td>8602610.0</td>\n",
       "      <td>1.0</td>\n",
       "      <td>1042</td>\n",
       "      <td>2497250.0</td>\n",
       "    </tr>\n",
       "    <tr>\n",
       "      <th>28</th>\n",
       "      <td>8590106.0</td>\n",
       "      <td>5.0</td>\n",
       "      <td>1043</td>\n",
       "      <td>2509748.0</td>\n",
       "    </tr>\n",
       "    <tr>\n",
       "      <th>29</th>\n",
       "      <td>8578408.0</td>\n",
       "      <td>2.0</td>\n",
       "      <td>1048</td>\n",
       "      <td>2521439.0</td>\n",
       "    </tr>\n",
       "    <tr>\n",
       "      <th>30</th>\n",
       "      <td>8568463.0</td>\n",
       "      <td>0.0</td>\n",
       "      <td>1050</td>\n",
       "      <td>2531382.0</td>\n",
       "    </tr>\n",
       "    <tr>\n",
       "      <th>31</th>\n",
       "      <td>8562764.0</td>\n",
       "      <td>2.0</td>\n",
       "      <td>1050</td>\n",
       "      <td>2537079.0</td>\n",
       "    </tr>\n",
       "    <tr>\n",
       "      <th>32</th>\n",
       "      <td>8562340.0</td>\n",
       "      <td>0.0</td>\n",
       "      <td>1052</td>\n",
       "      <td>2537501.0</td>\n",
       "    </tr>\n",
       "    <tr>\n",
       "      <th>33</th>\n",
       "      <td>8562331.0</td>\n",
       "      <td>0.0</td>\n",
       "      <td>1052</td>\n",
       "      <td>2537510.0</td>\n",
       "    </tr>\n",
       "    <tr>\n",
       "      <th>34</th>\n",
       "      <td>8562323.0</td>\n",
       "      <td>0.0</td>\n",
       "      <td>1052</td>\n",
       "      <td>2537518.0</td>\n",
       "    </tr>\n",
       "    <tr>\n",
       "      <th>35</th>\n",
       "      <td>8562216.0</td>\n",
       "      <td>102.0</td>\n",
       "      <td>1052</td>\n",
       "      <td>2537523.0</td>\n",
       "    </tr>\n",
       "    <tr>\n",
       "      <th>36</th>\n",
       "      <td>8562064.0</td>\n",
       "      <td>48.0</td>\n",
       "      <td>1154</td>\n",
       "      <td>2537525.0</td>\n",
       "    </tr>\n",
       "    <tr>\n",
       "      <th>37</th>\n",
       "      <td>8562011.0</td>\n",
       "      <td>0.0</td>\n",
       "      <td>1202</td>\n",
       "      <td>2537530.0</td>\n",
       "    </tr>\n",
       "    <tr>\n",
       "      <th>38</th>\n",
       "      <td>8562006.0</td>\n",
       "      <td>3.0</td>\n",
       "      <td>1202</td>\n",
       "      <td>2537532.0</td>\n",
       "    </tr>\n",
       "    <tr>\n",
       "      <th>39</th>\n",
       "      <td>8561995.0</td>\n",
       "      <td>0.0</td>\n",
       "      <td>1205</td>\n",
       "      <td>2537540.0</td>\n",
       "    </tr>\n",
       "    <tr>\n",
       "      <th>40</th>\n",
       "      <td>8561991.0</td>\n",
       "      <td>3.0</td>\n",
       "      <td>1205</td>\n",
       "      <td>2537541.0</td>\n",
       "    </tr>\n",
       "    <tr>\n",
       "      <th>41</th>\n",
       "      <td>8561980.0</td>\n",
       "      <td>4.0</td>\n",
       "      <td>1208</td>\n",
       "      <td>2537545.0</td>\n",
       "    </tr>\n",
       "    <tr>\n",
       "      <th>42</th>\n",
       "      <td>8561975.0</td>\n",
       "      <td>0.0</td>\n",
       "      <td>1212</td>\n",
       "      <td>2537546.0</td>\n",
       "    </tr>\n",
       "    <tr>\n",
       "      <th>43</th>\n",
       "      <td>8561964.0</td>\n",
       "      <td>5.0</td>\n",
       "      <td>1212</td>\n",
       "      <td>2537552.0</td>\n",
       "    </tr>\n",
       "    <tr>\n",
       "      <th>44</th>\n",
       "      <td>8510901.0</td>\n",
       "      <td>4.0</td>\n",
       "      <td>1217</td>\n",
       "      <td>2588606.0</td>\n",
       "    </tr>\n",
       "    <tr>\n",
       "      <th>45</th>\n",
       "      <td>8453064.0</td>\n",
       "      <td>12.0</td>\n",
       "      <td>1221</td>\n",
       "      <td>2646427.0</td>\n",
       "    </tr>\n",
       "    <tr>\n",
       "      <th>46</th>\n",
       "      <td>8376175.0</td>\n",
       "      <td>5.0</td>\n",
       "      <td>1233</td>\n",
       "      <td>2723299.0</td>\n",
       "    </tr>\n",
       "    <tr>\n",
       "      <th>47</th>\n",
       "      <td>8332178.0</td>\n",
       "      <td>60.0</td>\n",
       "      <td>1238</td>\n",
       "      <td>2767231.0</td>\n",
       "    </tr>\n",
       "    <tr>\n",
       "      <th>48</th>\n",
       "      <td>8279521.0</td>\n",
       "      <td>0.0</td>\n",
       "      <td>1298</td>\n",
       "      <td>2819828.0</td>\n",
       "    </tr>\n",
       "    <tr>\n",
       "      <th>49</th>\n",
       "      <td>8175933.0</td>\n",
       "      <td>109.0</td>\n",
       "      <td>1298</td>\n",
       "      <td>2923307.0</td>\n",
       "    </tr>\n",
       "    <tr>\n",
       "      <th>50</th>\n",
       "      <td>8081552.0</td>\n",
       "      <td>0.0</td>\n",
       "      <td>1407</td>\n",
       "      <td>3017579.0</td>\n",
       "    </tr>\n",
       "    <tr>\n",
       "      <th>51</th>\n",
       "      <td>7997840.0</td>\n",
       "      <td>104.0</td>\n",
       "      <td>1407</td>\n",
       "      <td>3101187.0</td>\n",
       "    </tr>\n",
       "    <tr>\n",
       "      <th>52</th>\n",
       "      <td>7913638.0</td>\n",
       "      <td>15.0</td>\n",
       "      <td>1511</td>\n",
       "      <td>3185270.0</td>\n",
       "    </tr>\n",
       "    <tr>\n",
       "      <th>53</th>\n",
       "      <td>7823114.0</td>\n",
       "      <td>8.0</td>\n",
       "      <td>1526</td>\n",
       "      <td>3275771.0</td>\n",
       "    </tr>\n",
       "    <tr>\n",
       "      <th>54</th>\n",
       "      <td>7723532.0</td>\n",
       "      <td>4.0</td>\n",
       "      <td>1534</td>\n",
       "      <td>3375341.0</td>\n",
       "    </tr>\n",
       "    <tr>\n",
       "      <th>55</th>\n",
       "      <td>7618121.0</td>\n",
       "      <td>37.0</td>\n",
       "      <td>1538</td>\n",
       "      <td>3480711.0</td>\n",
       "    </tr>\n",
       "    <tr>\n",
       "      <th>56</th>\n",
       "      <td>7528718.0</td>\n",
       "      <td>9.0</td>\n",
       "      <td>1575</td>\n",
       "      <td>3570068.0</td>\n",
       "    </tr>\n",
       "    <tr>\n",
       "      <th>57</th>\n",
       "      <td>7528707.0</td>\n",
       "      <td>2.0</td>\n",
       "      <td>1584</td>\n",
       "      <td>3570068.0</td>\n",
       "    </tr>\n",
       "    <tr>\n",
       "      <th>58</th>\n",
       "      <td>7528705.0</td>\n",
       "      <td>0.0</td>\n",
       "      <td>1586</td>\n",
       "      <td>3570068.0</td>\n",
       "    </tr>\n",
       "    <tr>\n",
       "      <th>59</th>\n",
       "      <td>7528705.0</td>\n",
       "      <td>0.0</td>\n",
       "      <td>1586</td>\n",
       "      <td>3570068.0</td>\n",
       "    </tr>\n",
       "  </tbody>\n",
       "</table>\n",
       "</div>"
      ],
      "text/plain": [
       "    Susceptible  Infectados  Recuperados  Vacunados\n",
       "0    11054236.0         0.0            0    47709.0\n",
       "1    10796649.0         0.0            0   305296.0\n",
       "2    10018775.0         0.0            0  1083170.0\n",
       "3     9966599.0         0.0            0  1135346.0\n",
       "4     9900497.0       160.0            0  1201288.0\n",
       "5     9855222.0         7.0          160  1246396.0\n",
       "6     9810651.0        20.0          167  1290940.0\n",
       "7     9752041.0        16.0          187  1349514.0\n",
       "8     9675443.0        27.0          203  1426069.0\n",
       "9     9606218.0        16.0          230  1495251.0\n",
       "10    9550836.0        19.0          246  1550598.0\n",
       "11    9503214.0       161.0          265  1598040.0\n",
       "12    9451741.0         0.0          426  1649352.0\n",
       "13    9386522.0       187.0          426  1714384.0\n",
       "14    9320172.0         5.0          613  1780542.0\n",
       "15    9261350.0         7.0          618  1839352.0\n",
       "16    9201503.0        12.0          625  1899180.0\n",
       "17    9155004.0        12.0          637  1945655.0\n",
       "18    9103684.0         6.0          649  1996957.0\n",
       "19    9050829.0         0.0          655  2049806.0\n",
       "20    8977505.0        21.0          655  2123109.0\n",
       "21    8833571.0        11.0          676  2267011.0\n",
       "22    8734982.0        10.0          687  2365579.0\n",
       "23    8654625.0       194.0          697  2445732.0\n",
       "24    8639901.0       110.0          891  2460152.0\n",
       "25    8627427.0        21.0         1001  2472495.0\n",
       "26    8615248.0        20.0         1022  2484633.0\n",
       "27    8602610.0         1.0         1042  2497250.0\n",
       "28    8590106.0         5.0         1043  2509748.0\n",
       "29    8578408.0         2.0         1048  2521439.0\n",
       "30    8568463.0         0.0         1050  2531382.0\n",
       "31    8562764.0         2.0         1050  2537079.0\n",
       "32    8562340.0         0.0         1052  2537501.0\n",
       "33    8562331.0         0.0         1052  2537510.0\n",
       "34    8562323.0         0.0         1052  2537518.0\n",
       "35    8562216.0       102.0         1052  2537523.0\n",
       "36    8562064.0        48.0         1154  2537525.0\n",
       "37    8562011.0         0.0         1202  2537530.0\n",
       "38    8562006.0         3.0         1202  2537532.0\n",
       "39    8561995.0         0.0         1205  2537540.0\n",
       "40    8561991.0         3.0         1205  2537541.0\n",
       "41    8561980.0         4.0         1208  2537545.0\n",
       "42    8561975.0         0.0         1212  2537546.0\n",
       "43    8561964.0         5.0         1212  2537552.0\n",
       "44    8510901.0         4.0         1217  2588606.0\n",
       "45    8453064.0        12.0         1221  2646427.0\n",
       "46    8376175.0         5.0         1233  2723299.0\n",
       "47    8332178.0        60.0         1238  2767231.0\n",
       "48    8279521.0         0.0         1298  2819828.0\n",
       "49    8175933.0       109.0         1298  2923307.0\n",
       "50    8081552.0         0.0         1407  3017579.0\n",
       "51    7997840.0       104.0         1407  3101187.0\n",
       "52    7913638.0        15.0         1511  3185270.0\n",
       "53    7823114.0         8.0         1526  3275771.0\n",
       "54    7723532.0         4.0         1534  3375341.0\n",
       "55    7618121.0        37.0         1538  3480711.0\n",
       "56    7528718.0         9.0         1575  3570068.0\n",
       "57    7528707.0         2.0         1584  3570068.0\n",
       "58    7528705.0         0.0         1586  3570068.0\n",
       "59    7528705.0         0.0         1586  3570068.0"
      ]
     },
     "execution_count": 10,
     "metadata": {},
     "output_type": "execute_result"
    }
   ],
   "source": [
    "data"
   ]
  },
  {
   "cell_type": "code",
   "execution_count": 11,
   "id": "7d7850f1",
   "metadata": {},
   "outputs": [],
   "source": [
    "data_numpy = np.array(data)/max_habs"
   ]
  },
  {
   "cell_type": "code",
   "execution_count": 12,
   "id": "dd08e581",
   "metadata": {},
   "outputs": [],
   "source": [
    "import torch\n",
    "import torch.nn as nn\n",
    "import torch.nn.functional as F\n"
   ]
  },
  {
   "cell_type": "code",
   "execution_count": 13,
   "id": "780383ea",
   "metadata": {},
   "outputs": [],
   "source": [
    "class SIRV(nn.Module):\n",
    "    def __init__(self, epsilon=1e-7):\n",
    "        super(SIRV, self).__init__()\n",
    "        self.lambda1 = nn.Linear(1,1, bias = False) # tasa de contacto efectivo\n",
    "        self.lambda2 = nn.Linear(1,1, bias = False) # tasa de immunizacion\n",
    "        self.lambda3 = nn.Linear(1,1, bias = False) # tasa de recuperacion\n",
    "        torch.nn.init.xavier_uniform_(self.lambda1.weight, gain=0.01)\n",
    "        torch.nn.init.xavier_uniform_(self.lambda2.weight, gain=0.01)\n",
    "        torch.nn.init.xavier_uniform_(self.lambda3.weight, gain=0.01)\n",
    "       \n",
    "        self.epsilon = epsilon\n",
    "    \n",
    "    def forward(self, x, size_of_starter_set, amount_of_prediction_in_future):\n",
    "        assert size_of_starter_set < amount_of_prediction_in_future\n",
    "        ns = torch.zeros([amount_of_prediction_in_future, 4],dtype=torch.float, requires_grad = False)\n",
    "        torch.nn.init.xavier_uniform_(ns, gain=0.01)\n",
    "        x[x==0] = self.epsilon\n",
    "        ns[:x.shape[0]] = x.view(x.shape[0], 4).clone()\n",
    "        for i in range(size_of_starter_set,amount_of_prediction_in_future):\n",
    "            a = ns[i-1].clone()\n",
    "            ns[i][0] = a[0].view(1,1) - self.lambda1(a[0]*a[1].view(1,1)) - self.lambda2(a[0].view(1,1))\n",
    "            ns[i][1] = a[1].view(1,1) + self.lambda1(a[0]*a[1].view(1,1)) - self.lambda3(a[1].view(1,1))\n",
    "            ns[i][2] = a[2].view(1,1) + self.lambda3(a[1].view(1,1))\n",
    "            ns[i][3] = a[3].view(1,1) + self.lambda2(a[0].view(1,1))\n",
    "        b = torch.div(ns, ns.sum(axis=1).reshape(-1,1)).clone()\n",
    "        return b[1:].reshape(-1,4)\n"
   ]
  },
  {
   "cell_type": "code",
   "execution_count": 14,
   "id": "f8a93328",
   "metadata": {},
   "outputs": [],
   "source": [
    "def loss_custom(pred, actual):\n",
    "    loss_func = nn.SmoothL1Loss()\n",
    "    loss_big = loss_func(pred[:,3], actual[:,3]) + loss_func(pred[:,0], actual[:,0])\n",
    "    loss_inf = loss_func(pred[:,1], actual[:,1])\n",
    "    loss_recov =  loss_func(pred[:,2], actual[:,2])\n",
    "    return 100000*loss_inf + 1000*loss_recov + loss_big"
   ]
  },
  {
   "cell_type": "code",
   "execution_count": null,
   "id": "900debb7",
   "metadata": {},
   "outputs": [],
   "source": []
  },
  {
   "cell_type": "code",
   "execution_count": 15,
   "id": "e50c1d31",
   "metadata": {
    "scrolled": false
   },
   "outputs": [],
   "source": [
    "y = torch.from_numpy(data_numpy.astype(np.float32))\n"
   ]
  },
  {
   "cell_type": "code",
   "execution_count": 16,
   "id": "5c62e9b3",
   "metadata": {},
   "outputs": [
    {
     "data": {
      "text/plain": [
       "torch.Size([60, 4])"
      ]
     },
     "execution_count": 16,
     "metadata": {},
     "output_type": "execute_result"
    }
   ],
   "source": [
    "y.size()"
   ]
  },
  {
   "cell_type": "code",
   "execution_count": 17,
   "id": "c7f970e6",
   "metadata": {},
   "outputs": [],
   "source": [
    "import os\n",
    "model_checkpoint_folder = f'models/{enfermedad}/checkpoints'\n",
    "trained_models_foder = 'models/trained_models'\n",
    "os.makedirs(model_checkpoint_folder, exist_ok=True)\n",
    "os.makedirs(trained_models_foder, exist_ok=True)"
   ]
  },
  {
   "cell_type": "code",
   "execution_count": 18,
   "id": "aa61060a",
   "metadata": {},
   "outputs": [],
   "source": [
    "def train(train_set, fold_size=10, future_size=5):\n",
    "    epsilon = 1e-15\n",
    "    sir = SIRV(epsilon=epsilon)\n",
    "    opt = torch.optim.Adam(sir.parameters(), lr=0.05)\n",
    "    best = 10000\n",
    "    early_stopping = EarlyStopping(patience=50, verbose=False, delta=1e-10)\n",
    "    for epoch in range(1000):\n",
    "        out = sir(train_set[:fold_size], size_of_starter_set=min(10, fold_size), amount_of_prediction_in_future=fold_size + future_size+1)\n",
    "        out = out.squeeze()\n",
    "        loss = loss_custom(out[fold_size:], train_set[fold_size:fold_size+future_size])\n",
    "        loss.backward()\n",
    "        opt.step() \n",
    "        opt.zero_grad()\n",
    "        if loss.item() < best:\n",
    "            best = loss.item()\n",
    "            torch.save(sir, f'{model_checkpoint_folder}/{enfermedad}_{fold_size}.pkl')\n",
    "        if epoch%25 == 0:        \n",
    "            print(f'Epoch: {epoch}, loss: {loss.item()}')\n",
    "        if loss.isnan():\n",
    "            raise ValueError()\n",
    "        for p in sir.parameters():\n",
    "            p.data.clamp_(0)\n",
    "        early_stopping(loss.item(), sir)\n",
    "        if early_stopping.early_stop:\n",
    "            print(\"Early stopping\")\n",
    "            break\n",
    "    return best\n",
    "    \n",
    "\n",
    "def train_and_val_k_fold():\n",
    "    divergences = {}\n",
    "    rmses = []\n",
    "    losses = {}\n",
    "    future_index_check = 15\n",
    "    min_datapoints = 20\n",
    "    for fold_size in range(min_datapoints, len(y)-future_index_check):\n",
    "        print(f'\\nAnalyzing fold: {fold_size}\\n')\n",
    "        folded_train_set = y[:fold_size+future_index_check+1].clone()\n",
    "        best_loss = train(train_set=folded_train_set, fold_size=fold_size, future_size=future_index_check)\n",
    "        model = torch.load(f'{model_checkpoint_folder}/{enfermedad}_{fold_size}.pkl')\n",
    "        preds = model(folded_train_set[:fold_size], size_of_starter_set=fold_size, amount_of_prediction_in_future=len(folded_train_set)+1)[fold_size:fold_size+future_index_check]\n",
    "        target = y[fold_size:fold_size+future_index_check]\n",
    "        target[target==0] = 1e-15\n",
    "        kl_divergence = torch.nn.functional.kl_div(target.log(), preds, reduction='batchmean').detach().item()\n",
    "        rmse = torch.sqrt(torchmetrics.functional.mean_squared_error(target, preds)).detach().item()\n",
    "        print(f'\\nKL Divergence:{kl_divergence}\\n')\n",
    "        print(f'\\nRMSE:{rmse}\\n')\n",
    "        divergences[fold_size] = kl_divergence\n",
    "        rmses.append(rmse)\n",
    "        losses[fold_size] = best_loss\n",
    "    return divergences, rmses, losses"
   ]
  },
  {
   "cell_type": "code",
   "execution_count": 19,
   "id": "15d283ea",
   "metadata": {},
   "outputs": [
    {
     "name": "stdout",
     "output_type": "stream",
     "text": [
      "\n",
      "Analyzing fold: 20\n",
      "\n",
      "Epoch: 0, loss: 0.024355052039027214\n",
      "Epoch: 25, loss: 0.0011891437461599708\n",
      "Epoch: 50, loss: 0.0001833751011872664\n",
      "Epoch: 75, loss: 0.00014077215746510774\n",
      "Epoch: 100, loss: 0.00013542501255869865\n",
      "Epoch: 125, loss: 0.0001348929654341191\n",
      "Epoch: 150, loss: 0.00013484290684573352\n",
      "Epoch: 175, loss: 0.0001348236110061407\n",
      "Epoch: 200, loss: 0.0001348146324744448\n",
      "Epoch: 225, loss: 0.00013480983034241945\n",
      "Epoch: 250, loss: 0.00013482067151926458\n",
      "Epoch: 275, loss: 0.0013509797863662243\n",
      "EarlyStopping reached!\n",
      "Early stopping\n",
      "\n",
      "KL Divergence:0.0004671088245231658\n",
      "\n",
      "\n",
      "RMSE:0.008129146881401539\n",
      "\n",
      "\n",
      "Analyzing fold: 21\n",
      "\n",
      "Epoch: 0, loss: 0.03846080228686333\n",
      "Epoch: 25, loss: 0.00045864348066970706\n",
      "Epoch: 50, loss: 0.00031747075263410807\n",
      "Epoch: 75, loss: 0.00017536571249365807\n",
      "Epoch: 100, loss: 0.00016884678916539997\n",
      "Epoch: 125, loss: 0.000168623955687508\n",
      "Epoch: 150, loss: 0.00016852206317707896\n",
      "Epoch: 175, loss: 0.0001684752496657893\n",
      "Epoch: 200, loss: 0.00016845214122440666\n",
      "Epoch: 225, loss: 0.00016843908815644681\n",
      "Epoch: 250, loss: 0.00016843131743371487\n",
      "Epoch: 275, loss: 0.00016842616605572402\n",
      "Epoch: 300, loss: 0.00016842311015352607\n",
      "Epoch: 325, loss: 0.00016842124750837684\n",
      "Epoch: 350, loss: 0.00016841983597259969\n",
      "Epoch: 375, loss: 0.00016841915203258395\n",
      "Epoch: 400, loss: 0.00016841842443682253\n",
      "Epoch: 425, loss: 0.0001684182061580941\n",
      "Epoch: 450, loss: 0.00016841813339851797\n",
      "Epoch: 475, loss: 0.0001684178423602134\n",
      "Epoch: 500, loss: 0.00033157560392282903\n",
      "Epoch: 525, loss: 0.00039995956467464566\n",
      "EarlyStopping reached!\n",
      "Early stopping\n",
      "\n",
      "KL Divergence:0.0006040228763595223\n",
      "\n",
      "\n",
      "RMSE:0.00953508447855711\n",
      "\n",
      "\n",
      "Analyzing fold: 22\n",
      "\n",
      "Epoch: 0, loss: 0.058802951127290726\n",
      "Epoch: 25, loss: 0.0018086287891492248\n",
      "Epoch: 50, loss: 0.00032167290919460356\n",
      "Epoch: 75, loss: 0.00019534306193236262\n",
      "Epoch: 100, loss: 0.000195370550500229\n",
      "Epoch: 125, loss: 0.00019419018644839525\n",
      "Epoch: 150, loss: 0.00019406102364882827\n",
      "Epoch: 175, loss: 0.0001940098445629701\n",
      "Epoch: 200, loss: 0.0001939808571478352\n",
      "Epoch: 225, loss: 0.00019396391871850938\n",
      "Epoch: 250, loss: 0.00019395315030124038\n",
      "Epoch: 275, loss: 0.0001939462817972526\n",
      "Epoch: 300, loss: 0.00019394178525544703\n",
      "Epoch: 325, loss: 0.0001939389039762318\n",
      "Epoch: 350, loss: 0.00019393688126001507\n",
      "Epoch: 375, loss: 0.0001939353096531704\n",
      "Epoch: 400, loss: 0.0001939346402650699\n",
      "Epoch: 425, loss: 0.00019393362163100392\n",
      "Epoch: 450, loss: 0.00019393334514461458\n",
      "Epoch: 475, loss: 0.0001939332578331232\n",
      "Epoch: 500, loss: 0.00019393251568544656\n",
      "Epoch: 525, loss: 0.0001939326903084293\n",
      "Epoch: 550, loss: 0.0001950743026100099\n",
      "EarlyStopping reached!\n",
      "Early stopping\n",
      "\n",
      "KL Divergence:0.0011722350027412176\n",
      "\n",
      "\n",
      "RMSE:0.01395043171942234\n",
      "\n",
      "\n",
      "Analyzing fold: 23\n",
      "\n",
      "Epoch: 0, loss: 0.00027142043109051883\n",
      "Epoch: 25, loss: 0.000298153463518247\n",
      "Epoch: 50, loss: 0.000338036916218698\n",
      "Epoch: 75, loss: 0.00021902947628404945\n",
      "Epoch: 100, loss: 0.00020739335741382092\n",
      "Epoch: 125, loss: 0.00020675553241744637\n",
      "Epoch: 150, loss: 0.00020645199401769787\n",
      "Epoch: 175, loss: 0.0002063250431092456\n",
      "Epoch: 200, loss: 0.00020625659090001136\n",
      "Epoch: 225, loss: 0.0002062166458927095\n",
      "Epoch: 250, loss: 0.00020619123824872077\n",
      "Epoch: 275, loss: 0.00020617518748622388\n",
      "Epoch: 300, loss: 0.008411139249801636\n",
      "Epoch: 325, loss: 0.00021410676708910614\n",
      "EarlyStopping reached!\n",
      "Early stopping\n",
      "\n",
      "KL Divergence:0.0018123418558388948\n",
      "\n",
      "\n",
      "RMSE:0.01763198897242546\n",
      "\n",
      "\n",
      "Analyzing fold: 24\n",
      "\n",
      "Epoch: 0, loss: 0.016487784683704376\n",
      "Epoch: 25, loss: 0.0009851171635091305\n",
      "Epoch: 50, loss: 0.0002735242887865752\n",
      "Epoch: 75, loss: 0.00020510093600023538\n",
      "Epoch: 100, loss: 0.00020252364629413933\n",
      "Epoch: 125, loss: 0.00020208269415888935\n",
      "Epoch: 150, loss: 0.00020188184862490743\n",
      "Epoch: 175, loss: 0.002150916727259755\n",
      "EarlyStopping reached!\n",
      "Early stopping\n",
      "\n",
      "KL Divergence:0.0025930849369615316\n",
      "\n",
      "\n",
      "RMSE:0.02072925865650177\n",
      "\n",
      "\n",
      "Analyzing fold: 25\n",
      "\n",
      "Epoch: 0, loss: 0.035880591720342636\n",
      "Epoch: 25, loss: 0.0010415544966235757\n",
      "Epoch: 50, loss: 0.0002991412184201181\n",
      "Epoch: 75, loss: 0.0002004213019972667\n",
      "Epoch: 100, loss: 0.00019837114086840302\n",
      "Epoch: 125, loss: 0.00019801319285761565\n",
      "Epoch: 150, loss: 0.00019778644491452724\n",
      "Epoch: 175, loss: 0.00020000989024993032\n",
      "Epoch: 200, loss: 0.0015384940197691321\n",
      "EarlyStopping reached!\n",
      "Early stopping\n",
      "\n",
      "KL Divergence:0.002476142020896077\n",
      "\n",
      "\n",
      "RMSE:0.020539339631795883\n",
      "\n",
      "\n",
      "Analyzing fold: 26\n",
      "\n",
      "Epoch: 0, loss: 0.01610448583960533\n",
      "Epoch: 25, loss: 0.0015596100129187107\n",
      "Epoch: 50, loss: 0.00021404858853202313\n",
      "Epoch: 75, loss: 0.00020376293105073273\n",
      "EarlyStopping reached!\n",
      "Early stopping\n",
      "\n",
      "KL Divergence:0.0012919442960992455\n",
      "\n",
      "\n",
      "RMSE:0.014664891175925732\n",
      "\n",
      "\n",
      "Analyzing fold: 27\n",
      "\n",
      "Epoch: 0, loss: 0.1398882418870926\n",
      "Epoch: 25, loss: 0.0010092570446431637\n",
      "Epoch: 50, loss: 0.0003830779460258782\n",
      "Epoch: 75, loss: 0.00020895226043649018\n",
      "Epoch: 100, loss: 0.000191465049283579\n",
      "Epoch: 125, loss: 0.00019028582028113306\n",
      "Epoch: 150, loss: 0.00019010918913409114\n",
      "Epoch: 175, loss: 0.00019000434258487076\n",
      "Epoch: 200, loss: 0.00018993618141394109\n",
      "Epoch: 225, loss: 0.00018988836382050067\n",
      "Epoch: 250, loss: 0.000189854676136747\n",
      "Epoch: 275, loss: 0.00018982915207743645\n",
      "Epoch: 300, loss: 0.00018980915774591267\n",
      "Epoch: 325, loss: 0.00018979319429490715\n",
      "Epoch: 350, loss: 0.00018978088337462395\n",
      "Epoch: 375, loss: 0.0001897698821267113\n",
      "Epoch: 400, loss: 0.0001897612528409809\n",
      "Epoch: 425, loss: 0.0001897540787467733\n",
      "Epoch: 450, loss: 0.00018974780687130988\n",
      "Epoch: 475, loss: 0.00018974178237840533\n",
      "Epoch: 500, loss: 0.0001897372567327693\n",
      "Epoch: 525, loss: 0.0001897322217701003\n",
      "Epoch: 550, loss: 0.0001897285837912932\n",
      "Epoch: 575, loss: 0.00018972500402014703\n",
      "Epoch: 600, loss: 0.00018972229736391455\n",
      "Epoch: 625, loss: 0.00018971908139064908\n",
      "Epoch: 650, loss: 0.0001909387792693451\n",
      "Epoch: 675, loss: 0.0023077342193573713\n",
      "EarlyStopping reached!\n",
      "Early stopping\n",
      "\n",
      "KL Divergence:0.00230384711176157\n",
      "\n",
      "\n",
      "RMSE:0.02001318149268627\n",
      "\n",
      "\n",
      "Analyzing fold: 28\n",
      "\n",
      "Epoch: 0, loss: 0.012712976895272732\n",
      "Epoch: 25, loss: 0.0015592117561027408\n",
      "Epoch: 50, loss: 0.0002962689322885126\n",
      "Epoch: 75, loss: 0.00020286068320274353\n",
      "Epoch: 100, loss: 0.00018725225527305156\n",
      "Epoch: 125, loss: 0.000192911786143668\n",
      "Epoch: 150, loss: 0.0014919043751433492\n",
      "EarlyStopping reached!\n",
      "Early stopping\n",
      "\n",
      "KL Divergence:0.002301938831806183\n",
      "\n",
      "\n",
      "RMSE:0.02001369558274746\n",
      "\n",
      "\n",
      "Analyzing fold: 29\n",
      "\n",
      "Epoch: 0, loss: 0.3080056607723236\n",
      "Epoch: 25, loss: 0.008808234706521034\n",
      "Epoch: 50, loss: 0.00020865171973127872\n",
      "Epoch: 75, loss: 0.0002470844774506986\n",
      "Epoch: 100, loss: 0.00018343875126447529\n",
      "Epoch: 125, loss: 0.00018176047888118774\n",
      "Epoch: 150, loss: 0.00018154492136090994\n",
      "Epoch: 175, loss: 0.00018153303244616836\n",
      "Epoch: 200, loss: 0.00018153185374103487\n",
      "Epoch: 225, loss: 0.0001815315190469846\n",
      "Epoch: 250, loss: 0.0001815311552491039\n",
      "Epoch: 275, loss: 0.000181531097041443\n",
      "EarlyStopping reached!\n",
      "Early stopping\n",
      "\n",
      "KL Divergence:0.0022652277257293463\n",
      "\n",
      "\n",
      "RMSE:0.019837593659758568\n",
      "\n",
      "\n",
      "Analyzing fold: 30\n",
      "\n",
      "Epoch: 0, loss: 0.042291365563869476\n",
      "Epoch: 25, loss: 0.0024321964010596275\n",
      "Epoch: 50, loss: 0.00018810885376296937\n",
      "Epoch: 75, loss: 0.00017546933668199927\n",
      "Epoch: 100, loss: 0.00016312203661073\n",
      "Epoch: 125, loss: 0.00016205913561861962\n",
      "Epoch: 150, loss: 0.0001614231732673943\n",
      "Epoch: 175, loss: 0.00016090563440229744\n",
      "Epoch: 200, loss: 0.00016054449952207506\n",
      "Epoch: 225, loss: 0.00016031185805331916\n",
      "Epoch: 250, loss: 0.00016016443260014057\n",
      "Epoch: 275, loss: 0.00016006808436941355\n",
      "Epoch: 300, loss: 0.00017313777061644942\n",
      "Epoch: 325, loss: 0.0023511031176894903\n",
      "EarlyStopping reached!\n",
      "Early stopping\n",
      "\n",
      "KL Divergence:0.002194714732468128\n",
      "\n",
      "\n",
      "RMSE:0.01950913853943348\n",
      "\n",
      "\n",
      "Analyzing fold: 31\n",
      "\n",
      "Epoch: 0, loss: 0.4707045257091522\n",
      "Epoch: 25, loss: 0.5773659944534302\n",
      "Epoch: 50, loss: 0.15417471528053284\n",
      "Epoch: 75, loss: 0.5934520959854126\n",
      "Epoch: 100, loss: 0.593459963798523\n",
      "EarlyStopping reached!\n",
      "Early stopping\n",
      "\n",
      "KL Divergence:0.008248437196016312\n",
      "\n",
      "\n",
      "RMSE:0.039131131023168564\n",
      "\n",
      "\n",
      "Analyzing fold: 32\n",
      "\n",
      "Epoch: 0, loss: 0.29934123158454895\n",
      "Epoch: 25, loss: 0.4683595597743988\n",
      "Epoch: 50, loss: 0.5916056632995605\n",
      "Epoch: 75, loss: 0.5917258858680725\n",
      "EarlyStopping reached!\n",
      "Early stopping\n",
      "\n",
      "KL Divergence:0.0010933473240584135\n",
      "\n",
      "\n",
      "RMSE:0.013289947994053364\n",
      "\n",
      "\n",
      "Analyzing fold: 33\n",
      "\n",
      "Epoch: 0, loss: 0.0008186456398107111\n",
      "Epoch: 25, loss: 0.001957964850589633\n",
      "Epoch: 50, loss: 0.00020252990361768752\n"
     ]
    },
    {
     "name": "stdout",
     "output_type": "stream",
     "text": [
      "Epoch: 75, loss: 7.931990694487467e-05\n",
      "Epoch: 100, loss: 7.7545948443003e-05\n",
      "Epoch: 125, loss: 7.744091999484226e-05\n",
      "Epoch: 150, loss: 7.744900358375162e-05\n",
      "Epoch: 175, loss: 0.008891004137694836\n",
      "EarlyStopping reached!\n",
      "Early stopping\n",
      "\n",
      "KL Divergence:0.0015822909772396088\n",
      "\n",
      "\n",
      "RMSE:0.016407674178481102\n",
      "\n",
      "\n",
      "Analyzing fold: 34\n",
      "\n",
      "Epoch: 0, loss: 0.00686822272837162\n",
      "Epoch: 25, loss: 0.0012453872477635741\n",
      "Epoch: 50, loss: 0.00011252603871980682\n",
      "Epoch: 75, loss: 6.657430640188977e-05\n",
      "Epoch: 100, loss: 5.980110654491e-05\n",
      "Epoch: 125, loss: 5.996598702040501e-05\n",
      "Epoch: 150, loss: 0.0016986479749903083\n",
      "Epoch: 175, loss: 0.0011938042007386684\n",
      "EarlyStopping reached!\n",
      "Early stopping\n",
      "\n",
      "KL Divergence:0.0013131325831636786\n",
      "\n",
      "\n",
      "RMSE:0.01482456550002098\n",
      "\n",
      "\n",
      "Analyzing fold: 35\n",
      "\n",
      "Epoch: 0, loss: 5.098774272482842e-05\n",
      "Epoch: 25, loss: 0.00010647271119523793\n",
      "Epoch: 50, loss: 0.00021654635202139616\n",
      "EarlyStopping reached!\n",
      "Early stopping\n",
      "\n",
      "KL Divergence:0.2053408920764923\n",
      "\n",
      "\n",
      "RMSE:0.2120571732521057\n",
      "\n",
      "\n",
      "Analyzing fold: 36\n",
      "\n",
      "Epoch: 0, loss: 0.017889024689793587\n",
      "Epoch: 25, loss: 0.0003777968231588602\n",
      "Epoch: 50, loss: 0.002680483041331172\n",
      "EarlyStopping reached!\n",
      "Early stopping\n",
      "\n",
      "KL Divergence:0.001036925590597093\n",
      "\n",
      "\n",
      "RMSE:0.012141728773713112\n",
      "\n",
      "\n",
      "Analyzing fold: 37\n",
      "\n",
      "Epoch: 0, loss: 0.07952162623405457\n",
      "Epoch: 25, loss: 0.0013617252698168159\n",
      "Epoch: 50, loss: 0.0001513273164164275\n",
      "Epoch: 75, loss: 7.370064122369513e-05\n",
      "EarlyStopping reached!\n",
      "Early stopping\n",
      "\n",
      "KL Divergence:0.0011629475047811866\n",
      "\n",
      "\n",
      "RMSE:0.013835163787007332\n",
      "\n",
      "\n",
      "Analyzing fold: 38\n",
      "\n",
      "Epoch: 0, loss: 0.0022090342827141285\n",
      "Epoch: 25, loss: 0.0007503678789362311\n",
      "Epoch: 50, loss: 0.00012828937906306237\n",
      "Epoch: 75, loss: 0.00010289011697750539\n",
      "Epoch: 100, loss: 0.001951534184627235\n",
      "Epoch: 125, loss: 0.001133227488026023\n",
      "EarlyStopping reached!\n",
      "Early stopping\n",
      "\n",
      "KL Divergence:0.0005274681025184691\n",
      "\n",
      "\n",
      "RMSE:0.008677337318658829\n",
      "\n",
      "\n",
      "Analyzing fold: 39\n",
      "\n",
      "Epoch: 0, loss: 0.004366804845631123\n",
      "Epoch: 25, loss: 0.00043732504127547145\n",
      "Epoch: 50, loss: 0.0002321897482033819\n",
      "Epoch: 75, loss: 0.00016824626072775573\n",
      "Epoch: 100, loss: 0.0001401585468556732\n",
      "Epoch: 125, loss: 0.00013718439731746912\n",
      "Epoch: 150, loss: 0.00013678550021722913\n",
      "EarlyStopping reached!\n",
      "Early stopping\n",
      "\n",
      "KL Divergence:0.0005099544068798423\n",
      "\n",
      "\n",
      "RMSE:0.008568013086915016\n",
      "\n",
      "\n",
      "Analyzing fold: 40\n",
      "\n",
      "Epoch: 0, loss: 0.00046311633195728064\n",
      "Epoch: 25, loss: 0.0038571173790842295\n",
      "Epoch: 50, loss: 0.0005769344861619174\n",
      "Epoch: 75, loss: 0.00021682740771211684\n",
      "Epoch: 100, loss: 0.00018838194955606014\n",
      "Epoch: 125, loss: 0.00018583830387797207\n",
      "Epoch: 150, loss: 0.00018548514344729483\n",
      "Epoch: 175, loss: 0.00018555483256932348\n",
      "Epoch: 200, loss: 0.0025998821947723627\n",
      "EarlyStopping reached!\n",
      "Early stopping\n",
      "\n",
      "KL Divergence:0.0005870481254532933\n",
      "\n",
      "\n",
      "RMSE:0.009566128253936768\n",
      "\n",
      "\n",
      "Analyzing fold: 41\n",
      "\n",
      "Epoch: 0, loss: 0.06567496806383133\n",
      "Epoch: 25, loss: 0.0002516672248020768\n",
      "Epoch: 50, loss: 0.00025085965171456337\n",
      "Epoch: 75, loss: 0.00025018135784193873\n",
      "Epoch: 100, loss: 0.0002501711715012789\n",
      "Epoch: 125, loss: 0.0002488133904989809\n",
      "Epoch: 150, loss: 0.00024856097297742963\n",
      "Epoch: 175, loss: 0.00024855410447344184\n",
      "Epoch: 200, loss: 0.0002912975614890456\n",
      "EarlyStopping reached!\n",
      "Early stopping\n",
      "\n",
      "KL Divergence:0.0007984683034010231\n",
      "\n",
      "\n",
      "RMSE:0.011707496829330921\n",
      "\n",
      "\n",
      "Analyzing fold: 42\n",
      "\n",
      "Epoch: 0, loss: 0.06402052938938141\n",
      "Epoch: 25, loss: 0.0030950549989938736\n",
      "Epoch: 50, loss: 0.00033367954893037677\n",
      "Epoch: 75, loss: 0.0003187936672475189\n",
      "Epoch: 100, loss: 0.0003159036859869957\n",
      "Epoch: 125, loss: 0.0003150099073536694\n",
      "Epoch: 150, loss: 0.0015164930373430252\n",
      "EarlyStopping reached!\n",
      "Early stopping\n",
      "\n",
      "KL Divergence:0.001150282914750278\n",
      "\n",
      "\n",
      "RMSE:0.014562129974365234\n",
      "\n",
      "\n",
      "Analyzing fold: 43\n",
      "\n",
      "Epoch: 0, loss: 0.010860711336135864\n",
      "Epoch: 25, loss: 0.0005311605054885149\n",
      "Epoch: 50, loss: 0.00039713195292279124\n",
      "Epoch: 75, loss: 0.00035733197000809014\n",
      "Epoch: 100, loss: 0.001732444390654564\n",
      "Epoch: 125, loss: 0.002031955635175109\n",
      "EarlyStopping reached!\n",
      "Early stopping\n",
      "\n",
      "KL Divergence:0.0015633555594831705\n",
      "\n",
      "\n",
      "RMSE:0.01729356124997139\n",
      "\n",
      "\n",
      "Analyzing fold: 44\n",
      "\n",
      "Epoch: 0, loss: 0.07844128459692001\n",
      "Epoch: 25, loss: 0.5157825350761414\n",
      "Epoch: 50, loss: 0.4863724112510681\n",
      "EarlyStopping reached!\n",
      "Early stopping\n",
      "\n",
      "KL Divergence:0.10638288408517838\n",
      "\n",
      "\n",
      "RMSE:0.1561385840177536\n",
      "\n"
     ]
    }
   ],
   "source": [
    "divergences, rmses, losses = train_and_val_k_fold()"
   ]
  },
  {
   "cell_type": "code",
   "execution_count": 20,
   "id": "481b4ea5",
   "metadata": {},
   "outputs": [
    {
     "name": "stdout",
     "output_type": "stream",
     "text": [
      "Cross-validated KL Divergence: 0.014031201718607918\n",
      "Cross-validated RMSE: 0.0293101754412055\n"
     ]
    }
   ],
   "source": [
    "print(f'Cross-validated KL Divergence: {pd.Series(divergences.values()).mean()}')\n",
    "print(f'Cross-validated RMSE: {pd.Series(rmses).mean()}')"
   ]
  },
  {
   "cell_type": "code",
   "execution_count": 21,
   "id": "80055f6d",
   "metadata": {},
   "outputs": [],
   "source": [
    "import matplotlib.pyplot as plt\n",
    "%matplotlib inline\n",
    "\n",
    "best_fold_size = min(losses, key=losses.get)\n",
    "model = torch.load(f'{model_checkpoint_folder}/{enfermedad}_{best_fold_size}.pkl')\n",
    "torch.save(model, f'models/trained_models/{enfermedad}.pkl')\n",
    "\n",
    "y = torch.from_numpy(data_numpy.astype(np.float32))\n",
    "res = model(y, size_of_starter_set=best_fold_size, amount_of_prediction_in_future=len(y))\n"
   ]
  },
  {
   "cell_type": "code",
   "execution_count": 22,
   "id": "18edf790",
   "metadata": {},
   "outputs": [
    {
     "data": {
      "text/plain": [
       "35"
      ]
     },
     "execution_count": 22,
     "metadata": {},
     "output_type": "execute_result"
    }
   ],
   "source": [
    "best_fold_size"
   ]
  },
  {
   "cell_type": "code",
   "execution_count": 23,
   "id": "d8ebd9c5",
   "metadata": {},
   "outputs": [],
   "source": [
    "for i in range(len(y)):\n",
    "    file_to_rem = pathlib.Path(f'{model_checkpoint_folder}/{enfermedad}_{i}.pkl')\n",
    "    if os.path.isfile(file_to_rem):\n",
    "        file_to_rem.unlink()\n",
    "file_to_rem = pathlib.Path(f'checkpoint.pt')\n",
    "file_to_rem.unlink()"
   ]
  },
  {
   "cell_type": "code",
   "execution_count": 24,
   "id": "5dc82fb3",
   "metadata": {},
   "outputs": [
    {
     "data": {
      "text/plain": [
       "torch.Size([59, 4])"
      ]
     },
     "execution_count": 24,
     "metadata": {},
     "output_type": "execute_result"
    }
   ],
   "source": [
    "res.shape"
   ]
  },
  {
   "cell_type": "code",
   "execution_count": 25,
   "id": "292be11a",
   "metadata": {},
   "outputs": [],
   "source": [
    "import os\n",
    "os.makedirs(f'figures/{enfermedad}', exist_ok=True)"
   ]
  },
  {
   "cell_type": "code",
   "execution_count": 26,
   "id": "a2ccb063",
   "metadata": {},
   "outputs": [
    {
     "data": {
      "image/png": "[encoded data removed]",
      "text/plain": [
       "<Figure size 1080x360 with 2 Axes>"
      ]
     },
     "metadata": {
      "needs_background": "light"
     },
     "output_type": "display_data"
    }
   ],
   "source": [
    "fold_sizes = losses.keys()\n",
    "fig, ax = plt.subplots(nrows=1, ncols=2, figsize=(15, 5))\n",
    "\n",
    "ax[0].plot(fold_sizes, divergences.values(), color = 'r', linewidth=0, marker='.', label='divergences')\n",
    "ax[0].plot(fold_sizes, rmses, color = 'b', linewidth=0, marker='.', label='rmse')\n",
    "ax[1].set_yscale('log')\n",
    "ax[0].set_ylabel('Metrics')\n",
    "ax[0].set_xlabel('Fold Size')\n",
    "ax[0].set_title('Analisis de metricas')\n",
    "ax[0].legend()\n",
    "\n",
    "\n",
    "ax[1].plot(fold_sizes, losses.values(), color = 'g', linewidth=0, marker='.', label='losses')\n",
    "ax[1].set_ylabel('Loss')\n",
    "ax[1].set_yscale('log')\n",
    "ax[1].set_xlabel('Fold Size')\n",
    "ax[1].set_title('Analisis de Loss')\n",
    "ax[1].legend()\n",
    "\n",
    "plt.show()"
   ]
  },
  {
   "cell_type": "code",
   "execution_count": 27,
   "id": "d9bf2d81",
   "metadata": {},
   "outputs": [
    {
     "name": "stderr",
     "output_type": "stream",
     "text": [
      "/var/folders/g0/jqvp4xxs5pn4cds1xb9339xm0000gn/T/ipykernel_40477/700671155.py:11: MatplotlibDeprecationWarning: savefig() got unexpected keyword argument \"linewidth\" which is no longer supported as of 3.3 and will become an error two minor releases later\n",
      "  plt.savefig(f'figures/{enfermedad}/accumul_prediction.png', format='png', linewidth = 0.01)\n"
     ]
    },
    {
     "data": {
      "image/png": "[encoded data removed]",
      "text/plain": [
       "<Figure size 432x288 with 1 Axes>"
      ]
     },
     "metadata": {
      "needs_background": "light"
     },
     "output_type": "display_data"
    }
   ],
   "source": [
    "predicted_susceptible = res[:,0].detach().numpy()\n",
    "real_susceptible = y[:,0].detach().numpy()\n",
    "plt.plot(data.index, real_susceptible, color = 'r', linewidth=0, marker='.', label='real_sus')\n",
    "plt.plot(data.index[1:], predicted_susceptible, color = 'b', linewidth=0, marker='.', label='pred_sus')\n",
    "plt.ylim(0, 1)\n",
    "plt.xlim(0,len(y))\n",
    "plt.ylabel('Proportion')\n",
    "plt.xlabel('Generation')\n",
    "plt.title('Analisis de susceptibles predichos vs reales')\n",
    "plt.legend()\n",
    "plt.savefig(f'figures/{enfermedad}/accumul_prediction.png', format='png', linewidth = 0.01)"
   ]
  },
  {
   "cell_type": "code",
   "execution_count": 28,
   "id": "9a87fda1",
   "metadata": {},
   "outputs": [
    {
     "name": "stderr",
     "output_type": "stream",
     "text": [
      "/var/folders/g0/jqvp4xxs5pn4cds1xb9339xm0000gn/T/ipykernel_40477/2298925115.py:11: MatplotlibDeprecationWarning: savefig() got unexpected keyword argument \"linewidth\" which is no longer supported as of 3.3 and will become an error two minor releases later\n",
      "  plt.savefig(f'figures/{enfermedad}/accumul_prediction_vaccinated.png', format='png', linewidth = 0.01)\n"
     ]
    },
    {
     "data": {
      "image/png": "[encoded data removed]",
      "text/plain": [
       "<Figure size 432x288 with 1 Axes>"
      ]
     },
     "metadata": {
      "needs_background": "light"
     },
     "output_type": "display_data"
    }
   ],
   "source": [
    "predicted_vaccinated = res[:,3].detach().numpy()\n",
    "real_vaccinated = y[:,3].detach().numpy()\n",
    "plt.plot(data.index, real_vaccinated, color = 'r', linewidth=0, marker='.', label='real_vac')\n",
    "plt.plot(data.index[1:], predicted_vaccinated, color = 'b', linewidth=0, marker='.', label='pred_vac')\n",
    "plt.ylim(0, 1)\n",
    "plt.xlim(0,len(y))\n",
    "plt.ylabel('Proportion')\n",
    "plt.xlabel('Generation')\n",
    "plt.title('Analisis de vacunados predichos vs reales')\n",
    "plt.legend()\n",
    "plt.savefig(f'figures/{enfermedad}/accumul_prediction_vaccinated.png', format='png', linewidth = 0.01)"
   ]
  },
  {
   "cell_type": "markdown",
   "id": "a60316ad",
   "metadata": {},
   "source": [
    "Que pasa si le damos mas peso a fitear a los susceptibles?\n"
   ]
  },
  {
   "cell_type": "code",
   "execution_count": 29,
   "id": "133fb8d1",
   "metadata": {},
   "outputs": [
    {
     "name": "stderr",
     "output_type": "stream",
     "text": [
      "/var/folders/g0/jqvp4xxs5pn4cds1xb9339xm0000gn/T/ipykernel_40477/652839925.py:12: MatplotlibDeprecationWarning: savefig() got unexpected keyword argument \"linewidth\" which is no longer supported as of 3.3 and will become an error two minor releases later\n",
      "  plt.savefig(f'figures/{enfermedad}/accumul_infected.png', format='png', linewidth = 0.01)\n"
     ]
    },
    {
     "data": {
      "image/png": "[encoded data removed]",
      "text/plain": [
       "<Figure size 432x288 with 1 Axes>"
      ]
     },
     "metadata": {
      "needs_background": "light"
     },
     "output_type": "display_data"
    }
   ],
   "source": [
    "predicted_infected = res[:,1].detach().numpy()\n",
    "real_infected = y[:,1].detach().numpy()\n",
    "plt.plot(data.index, real_infected, color = 'r', linewidth=0, marker='.', label='real_inf')\n",
    "plt.plot(data.index[1:], predicted_infected, color = 'b', linewidth=0, marker='.', label='pred_inf')\n",
    "# plt.yscale('log')\n",
    "plt.xlim(0,len(y))\n",
    "plt.ylim(0,1)\n",
    "plt.ylabel('Proportion')\n",
    "plt.xlabel('Generation')\n",
    "plt.title('Analisis de infectados predichos vs reales')\n",
    "plt.legend()\n",
    "plt.savefig(f'figures/{enfermedad}/accumul_infected.png', format='png', linewidth = 0.01)"
   ]
  },
  {
   "cell_type": "code",
   "execution_count": 30,
   "id": "a4c78e78",
   "metadata": {},
   "outputs": [
    {
     "name": "stderr",
     "output_type": "stream",
     "text": [
      "/var/folders/g0/jqvp4xxs5pn4cds1xb9339xm0000gn/T/ipykernel_40477/2050763186.py:11: MatplotlibDeprecationWarning: savefig() got unexpected keyword argument \"linewidth\" which is no longer supported as of 3.3 and will become an error two minor releases later\n",
      "  plt.savefig(f'figures/{enfermedad}/accumul_prediction_rec.png', format='png', linewidth = 0.01)\n"
     ]
    },
    {
     "data": {
      "image/png": "[encoded data removed]",
      "text/plain": [
       "<Figure size 432x288 with 1 Axes>"
      ]
     },
     "metadata": {
      "needs_background": "light"
     },
     "output_type": "display_data"
    }
   ],
   "source": [
    "predicted_recov = res[:,2].detach().numpy()\n",
    "real_recov = y[:,2].detach().numpy()\n",
    "plt.plot(data.index, real_recov, color = 'r', linewidth=0, marker='.', label='real_rec')\n",
    "plt.plot(data.index[1:], predicted_recov, color = 'b', linewidth=0, marker='.', label='pred_rec')\n",
    "plt.yscale('log')\n",
    "plt.xlim(0,len(y))\n",
    "plt.ylabel('Proportion')\n",
    "plt.xlabel('Generation')\n",
    "plt.title('Analisis de recuperados predichos vs reales')\n",
    "plt.legend()\n",
    "plt.savefig(f'figures/{enfermedad}/accumul_prediction_rec.png', format='png', linewidth = 0.01)"
   ]
  },
  {
   "cell_type": "markdown",
   "id": "5d747f24",
   "metadata": {},
   "source": [
    "Testeemos los parametros"
   ]
  },
  {
   "cell_type": "code",
   "execution_count": 31,
   "id": "61711e68",
   "metadata": {},
   "outputs": [
    {
     "name": "stdout",
     "output_type": "stream",
     "text": [
      "[Parameter containing:\n",
      "tensor([[-0.0438]], requires_grad=True), Parameter containing:\n",
      "tensor([[0.0536]], requires_grad=True), Parameter containing:\n",
      "tensor([[0.0422]], requires_grad=True)]\n"
     ]
    }
   ],
   "source": [
    "params = list(model.parameters())\n",
    "lambda1 = params[0].item()\n",
    "lambda2 = params[1].item()\n",
    "lambda3 = params[2].item()\n",
    "print(params)"
   ]
  },
  {
   "cell_type": "markdown",
   "id": "3b66fea9",
   "metadata": {},
   "source": [
    "Recordemos que estamos modelando:\n",
    "\n",
    "$$\\dfrac{ds}{dt} = -\\lambda_1 s i - \\lambda_2 s  $$\n",
    "\\\n",
    "$$\\dfrac{di}{dt} = \\lambda_1 s i - \\lambda_3 i  $$\n",
    "\n",
    "\\\n",
    "$$\\dfrac{dr}{dt} = \\lambda_3 i  $$\n",
    "\\\n",
    "$$\\dfrac{dv}{dt} = \\lambda_2 s  $$\n",
    "\n",
    "\n",
    "\n",
    "Entonces\n",
    "\n",
    "$$\\beta = \\lambda_1 = R_0 / d $$\n",
    "\n",
    "Con d la duración de la infeccion.\n",
    "\n",
    "$$ \\lambda_2 = \\eta $$ la tasa de inmunización y\n",
    "\n",
    "$$ \\lambda_3 = \\nu  = 1 / d $$\n",
    "\n",
    "Primero veamos la tasa de immunizacion"
   ]
  },
  {
   "cell_type": "code",
   "execution_count": 32,
   "id": "90eaeb4d",
   "metadata": {},
   "outputs": [],
   "source": [
    "tasa_immunizacion = (data.apply(lambda x: x.diff()).dropna().mean()/data['Vacunados'].max()).iloc[3]"
   ]
  },
  {
   "cell_type": "code",
   "execution_count": 33,
   "id": "fc002785",
   "metadata": {},
   "outputs": [
    {
     "data": {
      "text/plain": [
       "0.016722650660995812"
      ]
     },
     "execution_count": 33,
     "metadata": {},
     "output_type": "execute_result"
    }
   ],
   "source": [
    "tasa_immunizacion"
   ]
  },
  {
   "cell_type": "code",
   "execution_count": 34,
   "id": "812f4167",
   "metadata": {},
   "outputs": [
    {
     "data": {
      "text/latex": [
       "Deducimos que:\n",
       "$$ \\eta = \\lambda_2 = {0.05360} \\approx {0.01672} $$"
      ],
      "text/plain": [
       "<IPython.core.display.Latex object>"
      ]
     },
     "execution_count": 34,
     "metadata": {},
     "output_type": "execute_result"
    }
   ],
   "source": [
    "from IPython.display import Latex\n",
    "Latex(f\"\"\"Deducimos que:\n",
    "$$ \\eta = \\lambda_2 = {{{lambda2:.5f}}} \\\\approx {{{tasa_immunizacion:.5f}}} $$\"\"\")"
   ]
  },
  {
   "cell_type": "code",
   "execution_count": 35,
   "id": "27af972d",
   "metadata": {},
   "outputs": [
    {
     "data": {
      "text/latex": [
       "Deducimos que:\n",
       "$$ d = 1 / \\lambda_3 = 1 / {0.04} \\approx {23.70} $$\n",
       "$$ R_0 =  \\lambda_1 * d = {-0.04} * d \\approx {-1.04}$$"
      ],
      "text/plain": [
       "<IPython.core.display.Latex object>"
      ]
     },
     "execution_count": 35,
     "metadata": {},
     "output_type": "execute_result"
    }
   ],
   "source": [
    "Latex(f\"\"\"Deducimos que:\n",
    "$$ d = 1 / \\lambda_3 = 1 / {{{lambda3:.2f}}} \\\\approx {{{1/lambda3:.2f}}} $$\n",
    "$$ R_0 =  \\lambda_1 * d = {{{lambda1:.2f}}} * d \\\\approx {{{lambda1/lambda3:.2f}}}$$\"\"\")"
   ]
  },
  {
   "cell_type": "markdown",
   "id": "d4fd225a",
   "metadata": {},
   "source": [
    "Mientras que la literatura indica:\n",
    "\n",
    "$$ d = 17.5 $$\n",
    "$$ R_0 = 2.65 $$"
   ]
  },
  {
   "cell_type": "markdown",
   "id": "a0ca8030",
   "metadata": {},
   "source": [
    "## Validemos un test de momentos"
   ]
  },
  {
   "cell_type": "code",
   "execution_count": 36,
   "id": "07bfe640",
   "metadata": {},
   "outputs": [],
   "source": [
    "real_susceptible = real_susceptible[1:]\n",
    "real_vaccinated = real_vaccinated[1:]\n",
    "real_infected = real_infected[1:]\n",
    "real_recov = real_recov[1:]"
   ]
  },
  {
   "cell_type": "markdown",
   "id": "ea725fe4",
   "metadata": {},
   "source": [
    "#### Primer momento"
   ]
  },
  {
   "cell_type": "code",
   "execution_count": 37,
   "id": "61acae2d",
   "metadata": {},
   "outputs": [
    {
     "data": {
      "text/plain": [
       "Ttest_indResult(statistic=4.365204470288949, pvalue=4.541203484271292e-05)"
      ]
     },
     "execution_count": 37,
     "metadata": {},
     "output_type": "execute_result"
    }
   ],
   "source": [
    "import scipy\n",
    "\n",
    "scipy.stats.ttest_ind(real_susceptible, predicted_susceptible, equal_var=False)"
   ]
  },
  {
   "cell_type": "code",
   "execution_count": 38,
   "id": "461d8d26",
   "metadata": {},
   "outputs": [
    {
     "data": {
      "text/plain": [
       "Ttest_indResult(statistic=1.0381629106820813, pvalue=0.30136274052156764)"
      ]
     },
     "execution_count": 38,
     "metadata": {},
     "output_type": "execute_result"
    }
   ],
   "source": [
    "scipy.stats.ttest_ind(real_infected, predicted_infected, equal_var=False)"
   ]
  },
  {
   "cell_type": "code",
   "execution_count": 39,
   "id": "be7f5ae3",
   "metadata": {},
   "outputs": [
    {
     "data": {
      "text/plain": [
       "Ttest_indResult(statistic=1.5370033217670758, pvalue=0.12720988865411903)"
      ]
     },
     "execution_count": 39,
     "metadata": {},
     "output_type": "execute_result"
    }
   ],
   "source": [
    "scipy.stats.ttest_ind(real_recov, predicted_recov, equal_var=False)"
   ]
  },
  {
   "cell_type": "code",
   "execution_count": 40,
   "id": "1020a2e5",
   "metadata": {},
   "outputs": [
    {
     "data": {
      "text/plain": [
       "Ttest_indResult(statistic=-4.368873066610841, pvalue=4.483884245071286e-05)"
      ]
     },
     "execution_count": 40,
     "metadata": {},
     "output_type": "execute_result"
    }
   ],
   "source": [
    "scipy.stats.ttest_ind(real_vaccinated, predicted_vaccinated, equal_var=False)"
   ]
  },
  {
   "cell_type": "markdown",
   "id": "c3799d0e",
   "metadata": {},
   "source": [
    "#### Segundo momento"
   ]
  },
  {
   "cell_type": "code",
   "execution_count": 41,
   "id": "264555ea",
   "metadata": {},
   "outputs": [
    {
     "data": {
      "text/plain": [
       "BartlettResult(statistic=0.24983967945061322, pvalue=0.6171879866946361)"
      ]
     },
     "execution_count": 41,
     "metadata": {},
     "output_type": "execute_result"
    }
   ],
   "source": [
    "scipy.stats.bartlett(real_infected, predicted_infected)"
   ]
  },
  {
   "cell_type": "code",
   "execution_count": 42,
   "id": "a8d58a5a",
   "metadata": {},
   "outputs": [
    {
     "data": {
      "text/plain": [
       "BartlettResult(statistic=4.2604818641074935, pvalue=0.03900885473173239)"
      ]
     },
     "execution_count": 42,
     "metadata": {},
     "output_type": "execute_result"
    }
   ],
   "source": [
    "scipy.stats.bartlett(real_recov, predicted_recov)"
   ]
  },
  {
   "cell_type": "markdown",
   "id": "f29f39a8",
   "metadata": {},
   "source": [
    "#### Test de bondad de ajuste de KS"
   ]
  },
  {
   "cell_type": "code",
   "execution_count": 43,
   "id": "8ab4f644",
   "metadata": {},
   "outputs": [
    {
     "data": {
      "text/plain": [
       "KstestResult(statistic=0.3898305084745763, pvalue=0.0001286622360209177)"
      ]
     },
     "execution_count": 43,
     "metadata": {},
     "output_type": "execute_result"
    }
   ],
   "source": [
    "scipy.stats.kstest(real_susceptible, predicted_susceptible, method='asymp')"
   ]
  },
  {
   "cell_type": "code",
   "execution_count": 44,
   "id": "681bd62e",
   "metadata": {},
   "outputs": [
    {
     "data": {
      "text/plain": [
       "KstestResult(statistic=0.423728813559322, pvalue=2.112021359190332e-05)"
      ]
     },
     "execution_count": 44,
     "metadata": {},
     "output_type": "execute_result"
    }
   ],
   "source": [
    "scipy.stats.kstest(real_infected, predicted_infected, method='asymp')"
   ]
  },
  {
   "cell_type": "code",
   "execution_count": 45,
   "id": "9e9078f7",
   "metadata": {},
   "outputs": [
    {
     "data": {
      "text/plain": [
       "KstestResult(statistic=0.4067796610169492, pvalue=5.328617355975345e-05)"
      ]
     },
     "execution_count": 45,
     "metadata": {},
     "output_type": "execute_result"
    }
   ],
   "source": [
    "scipy.stats.kstest(real_recov, predicted_recov, method='asymp')"
   ]
  },
  {
   "cell_type": "code",
   "execution_count": 46,
   "id": "83a52f64",
   "metadata": {},
   "outputs": [
    {
     "data": {
      "text/plain": [
       "KstestResult(statistic=0.38983050847457623, pvalue=0.00012866223602091804)"
      ]
     },
     "execution_count": 46,
     "metadata": {},
     "output_type": "execute_result"
    }
   ],
   "source": [
    "scipy.stats.kstest(real_vaccinated, predicted_vaccinated, method='asymp')\n"
   ]
  },
  {
   "cell_type": "markdown",
   "id": "fb7619d0",
   "metadata": {},
   "source": [
    "#### Test de pearson"
   ]
  },
  {
   "cell_type": "code",
   "execution_count": 47,
   "id": "b196fdbb",
   "metadata": {
    "pycharm": {
     "name": "#%%\n"
    }
   },
   "outputs": [
    {
     "data": {
      "text/plain": [
       "PearsonRResult(statistic=0.8630164692834174, pvalue=1.5129161149222985e-18)"
      ]
     },
     "execution_count": 47,
     "metadata": {},
     "output_type": "execute_result"
    }
   ],
   "source": [
    "scipy.stats.pearsonr(real_susceptible, predicted_susceptible)"
   ]
  },
  {
   "cell_type": "code",
   "execution_count": 48,
   "id": "577b7abd",
   "metadata": {
    "pycharm": {
     "name": "#%%\n"
    }
   },
   "outputs": [
    {
     "data": {
      "text/plain": [
       "PearsonRResult(statistic=0.8627618231846482, pvalue=1.5893994652272247e-18)"
      ]
     },
     "execution_count": 48,
     "metadata": {},
     "output_type": "execute_result"
    }
   ],
   "source": [
    "scipy.stats.pearsonr(real_infected, predicted_infected)"
   ]
  },
  {
   "cell_type": "code",
   "execution_count": 49,
   "id": "df9645f1",
   "metadata": {
    "pycharm": {
     "name": "#%%\n"
    }
   },
   "outputs": [
    {
     "data": {
      "text/plain": [
       "PearsonRResult(statistic=0.9465375815432399, pvalue=1.0926568605392869e-29)"
      ]
     },
     "execution_count": 49,
     "metadata": {},
     "output_type": "execute_result"
    }
   ],
   "source": [
    "scipy.stats.pearsonr(real_recov, predicted_recov)"
   ]
  },
  {
   "cell_type": "code",
   "execution_count": 50,
   "id": "133790b9",
   "metadata": {
    "pycharm": {
     "name": "#%%\n"
    }
   },
   "outputs": [
    {
     "data": {
      "text/plain": [
       "PearsonRResult(statistic=0.86293254493813, pvalue=1.5377241749627634e-18)"
      ]
     },
     "execution_count": 50,
     "metadata": {},
     "output_type": "execute_result"
    }
   ],
   "source": [
    "scipy.stats.pearsonr(real_vaccinated, predicted_vaccinated)\n"
   ]
  },
  {
   "cell_type": "markdown",
   "id": "cathedral-terminology",
   "metadata": {},
   "source": [
    "## Extrapolar"
   ]
  },
  {
   "cell_type": "code",
   "execution_count": 51,
   "id": "sunset-sustainability",
   "metadata": {},
   "outputs": [],
   "source": [
    "import sys\n",
    "import os\n",
    "sys.path.append('..')\n",
    "import numpy as np\n",
    "import pandas as pd\n",
    "from models import sir\n",
    "from config import get_project_root\n",
    "import torchmetrics\n",
    "from models.pytorchtools import EarlyStopping\n",
    "import pathlib\n",
    "import torch\n",
    "import torch.nn as nn\n",
    "import torch.nn.functional as F\n"
   ]
  },
  {
   "cell_type": "code",
   "execution_count": 52,
   "id": "bfdd20c4",
   "metadata": {},
   "outputs": [],
   "source": [
    "import matplotlib.pyplot as plt\n",
    "%matplotlib inline\n",
    "\n",
    "YEARS_TO_PREDICT = 5\n",
    "\n",
    "model = torch.load(f'models/trained_models/{enfermedad}.pkl')\n",
    "y = torch.from_numpy(data_numpy.astype(np.float32))\n",
    "res = model(y, size_of_starter_set=40, amount_of_prediction_in_future=len(y)+12*YEARS_TO_PREDICT)"
   ]
  },
  {
   "cell_type": "code",
   "execution_count": 53,
   "id": "e7f9bf17",
   "metadata": {},
   "outputs": [
    {
     "data": {
      "text/plain": [
       "119"
      ]
     },
     "execution_count": 53,
     "metadata": {},
     "output_type": "execute_result"
    }
   ],
   "source": [
    "res[:,0].shape[0]"
   ]
  },
  {
   "cell_type": "code",
   "execution_count": 57,
   "id": "d9468ee1",
   "metadata": {},
   "outputs": [],
   "source": [
    "import pandas as pd\n",
    "df = pd.DataFrame(res.detach().numpy(), columns=['Susceptible', 'Infected', 'Recovered', 'Vaccinated'])\n",
    "df.to_csv(path_or_buf=FINAL_PATH)"
   ]
  },
  {
   "cell_type": "code",
   "execution_count": 58,
   "id": "8bb08e0d",
   "metadata": {},
   "outputs": [
    {
     "name": "stderr",
     "output_type": "stream",
     "text": [
      "/var/folders/g0/jqvp4xxs5pn4cds1xb9339xm0000gn/T/ipykernel_40477/2674275497.py:14: UserWarning: Attempted to set non-positive bottom ylim on a log-scaled axis.\n",
      "Invalid limit will be ignored.\n",
      "  plt.ylim(0, 1)\n",
      "/var/folders/g0/jqvp4xxs5pn4cds1xb9339xm0000gn/T/ipykernel_40477/2674275497.py:22: MatplotlibDeprecationWarning: savefig() got unexpected keyword argument \"linewidth\" which is no longer supported as of 3.3 and will become an error two minor releases later\n",
      "  plt.savefig(f'figures/{enfermedad}/extrapolation_{enfermedad}_log.png', format='png', linewidth = 0.01)\n"
     ]
    },
    {
     "data": {
      "image/png": "[encoded data removed]",
      "text/plain": [
       "<Figure size 1080x720 with 1 Axes>"
      ]
     },
     "metadata": {
      "needs_background": "light"
     },
     "output_type": "display_data"
    }
   ],
   "source": [
    "plt.figure(figsize=(15,10))\n",
    "predicted_susceptible = res[:,0].detach().numpy()\n",
    "predicted_infectous = res[:,1].detach().numpy()\n",
    "predicted_recovered = res[:,2].detach().numpy()\n",
    "predicted_vaccinated = res[:,3].detach().numpy()\n",
    "\n",
    "plt.plot(range(res[:,0].shape[0]), predicted_susceptible, color = 'r', linewidth=0, marker='.', label='sus')\n",
    "plt.plot(range(res[:,0].shape[0]), predicted_infectous, color = 'b', linewidth=0, marker='o', label='inf')\n",
    "plt.plot(range(res[:,0].shape[0]), predicted_recovered, color = 'y', linewidth=0, marker='v', label='rec')\n",
    "plt.plot(range(res[:,0].shape[0]), predicted_vaccinated, color = 'g', linewidth=0, marker='x', label='vac')\n",
    "\n",
    "plt.yscale('log')\n",
    "\n",
    "plt.ylim(0, 1)\n",
    "plt.xlim(0,len(res[:,0]))\n",
    "plt.ylabel('Proportion')\n",
    "plt.xlabel('Generation')\n",
    "x = np.arange(0,len(res[:,0])+1)\n",
    "plt.xticks(np.arange(min(x), max(x)+1, 5.0))\n",
    "plt.title('Extrapolacion del modelo')\n",
    "plt.legend()\n",
    "plt.savefig(f'figures/{enfermedad}/extrapolation_{enfermedad}_log.png', format='png', linewidth = 0.01)"
   ]
  },
  {
   "cell_type": "code",
   "execution_count": 59,
   "id": "generous-graduate",
   "metadata": {},
   "outputs": [
    {
     "name": "stderr",
     "output_type": "stream",
     "text": [
      "/var/folders/g0/jqvp4xxs5pn4cds1xb9339xm0000gn/T/ipykernel_40477/3147206596.py:22: MatplotlibDeprecationWarning: savefig() got unexpected keyword argument \"linewidth\" which is no longer supported as of 3.3 and will become an error two minor releases later\n",
      "  plt.savefig(f'figures/{enfermedad}/extrapolation_{enfermedad}_vac_suc.png', format='png', linewidth = 0.01)\n"
     ]
    },
    {
     "data": {
      "image/png": "[encoded data removed]",
      "text/plain": [
       "<Figure size 1080x720 with 1 Axes>"
      ]
     },
     "metadata": {
      "needs_background": "light"
     },
     "output_type": "display_data"
    }
   ],
   "source": [
    "plt.figure(figsize=(15,10))\n",
    "predicted_susceptible = res[:,0].detach().numpy()\n",
    "# predicted_infectous = res[:,1].detach().numpy()\n",
    "# predicted_recovered = res[:,2].detach().numpy()\n",
    "predicted_vaccinated = res[:,3].detach().numpy()\n",
    "\n",
    "plt.plot(range(res[:,0].shape[0]), predicted_susceptible, color = 'r', linewidth=0, marker='.', label='sus')\n",
    "# plt.plot(range(res[:,0].shape[0]), predicted_infectous, color = 'b', linewidth=0, marker='o', label='inf')\n",
    "# plt.plot(range(res[:,0].shape[0]), predicted_recovered, color = 'y', linewidth=0, marker='v', label='rec')\n",
    "plt.plot(range(res[:,0].shape[0]), predicted_vaccinated, color = 'g', linewidth=0, marker='x', label='vac')\n",
    "\n",
    "# plt.yscale('log')\n",
    "\n",
    "plt.ylim(0, 1)\n",
    "plt.xlim(0,len(res[:,0]))\n",
    "plt.ylabel('Proportion')\n",
    "plt.xlabel('Generation')\n",
    "x = np.arange(0,len(res[:,0])+1)\n",
    "plt.xticks(np.arange(min(x), max(x)+1, 5.0))\n",
    "plt.title('Extrapolacion del modelo')\n",
    "plt.legend()\n",
    "plt.savefig(f'figures/{enfermedad}/extrapolation_{enfermedad}_vac_suc.png', format='png', linewidth = 0.01)"
   ]
  },
  {
   "cell_type": "code",
   "execution_count": 60,
   "id": "running-polls",
   "metadata": {},
   "outputs": [
    {
     "name": "stderr",
     "output_type": "stream",
     "text": [
      "/var/folders/g0/jqvp4xxs5pn4cds1xb9339xm0000gn/T/ipykernel_40477/393367125.py:21: MatplotlibDeprecationWarning: savefig() got unexpected keyword argument \"linewidth\" which is no longer supported as of 3.3 and will become an error two minor releases later\n",
      "  plt.savefig(f'figures/{enfermedad}/extrapolation_{enfermedad}_inf_rec.png', format='png', linewidth = 0.01)\n"
     ]
    },
    {
     "data": {
      "image/png": "[encoded data removed]",
      "text/plain": [
       "<Figure size 1080x720 with 1 Axes>"
      ]
     },
     "metadata": {
      "needs_background": "light"
     },
     "output_type": "display_data"
    }
   ],
   "source": [
    "plt.figure(figsize=(15,10))\n",
    "# predicted_susceptible = res[:,0].detach().numpy()\n",
    "predicted_infectous = res[:,1].detach().numpy()\n",
    "predicted_recovered = res[:,2].detach().numpy()\n",
    "# predicted_vaccinated = res[:,3].detach().numpy()\n",
    "\n",
    "# plt.plot(range(res[:,0].shape[0]), predicted_susceptible, color = 'r', linewidth=0, marker='.', label='sus')\n",
    "plt.plot(range(res[:,0].shape[0]), predicted_infectous, color = 'b', linewidth=0, marker='o', label='inf')\n",
    "plt.plot(range(res[:,0].shape[0]), predicted_recovered, color = 'y', linewidth=0, marker='v', label='rec')\n",
    "# plt.plot(range(res[:,0].shape[0]), predicted_vaccinated, color = 'g', linewidth=0, marker='x', label='vac')\n",
    "\n",
    "# plt.yscale('log')\n",
    "\n",
    "plt.xlim(0,len(res[:,0]))\n",
    "plt.ylabel('Proportion')\n",
    "plt.xlabel('Generation')\n",
    "x = np.arange(0,len(res[:,0])+1)\n",
    "plt.xticks(np.arange(min(x), max(x)+1, 5.0))\n",
    "plt.title('Extrapolacion del modelo')\n",
    "plt.legend()\n",
    "plt.savefig(f'figures/{enfermedad}/extrapolation_{enfermedad}_inf_rec.png', format='png', linewidth = 0.01)"
   ]
  },
  {
   "cell_type": "code",
   "execution_count": null,
   "id": "specific-church",
   "metadata": {},
   "outputs": [],
   "source": []
  },
  {
   "cell_type": "code",
   "execution_count": null,
   "id": "terminal-watson",
   "metadata": {},
   "outputs": [],
   "source": []
  },
  {
   "cell_type": "code",
   "execution_count": null,
   "id": "critical-guatemala",
   "metadata": {},
   "outputs": [],
   "source": []
  }
 ],
 "metadata": {
  "kernelspec": {
   "display_name": "simuladores",
   "language": "python",
   "name": "simuladores"
  },
  "language_info": {
   "codemirror_mode": {
    "name": "ipython",
    "version": 3
   },
   "file_extension": ".py",
   "mimetype": "text/x-python",
   "name": "python",
   "nbconvert_exporter": "python",
   "pygments_lexer": "ipython3",
   "version": "3.9.1"
  }
 },
 "nbformat": 4,
 "nbformat_minor": 5
}
