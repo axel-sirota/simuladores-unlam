{
 "cells": [
  {
   "cell_type": "code",
   "execution_count": 14,
   "id": "80dc7077",
   "metadata": {},
   "outputs": [],
   "source": [
    "import sys\n",
    "import os\n",
    "sys.path.append('..')\n",
    "import numpy as np\n",
    "import pandas as pd\n",
    "from models import sir\n",
    "from config import get_project_root\n",
    "import torchmetrics\n",
    "from models.pytorchtools import EarlyStopping\n",
    "import pathlib"
   ]
  },
  {
   "cell_type": "code",
   "execution_count": 15,
   "id": "0bcfc515",
   "metadata": {},
   "outputs": [],
   "source": [
    "enfermedad='parotiditis'\n",
    "DATA_FOLDER = f'{get_project_root()}/data'\n",
    "INFECTADOS_PATH = f'{DATA_FOLDER}/extrapolated/infectados_{enfermedad}_extrapolado.csv'\n",
    "HABITANTES_PATH = f'{DATA_FOLDER}/extrapolated/habitantes_{enfermedad}_extrapolado.csv'\n",
    "VACUNADOS_PATH = f'{DATA_FOLDER}/extrapolated/vacunados_{enfermedad}_extrapolado.csv'\n",
    "YEARS = [2018, 2019, 2020, 2021, 2022]\n",
    "MONTHS = ['ENE', 'FEB', 'MAR', 'ABR', 'MAY', 'JUN', 'JUL', 'AGOS', 'SEP', 'OCT', 'NOV', 'DIC']\n"
   ]
  },
  {
   "cell_type": "code",
   "execution_count": 16,
   "id": "9b58ccf0",
   "metadata": {},
   "outputs": [
    {
     "data": {
      "text/plain": [
       "11101945"
      ]
     },
     "execution_count": 16,
     "metadata": {},
     "output_type": "execute_result"
    }
   ],
   "source": [
    "habitantes_curve = pd.read_csv(HABITANTES_PATH).set_index('ANO')\n",
    "for month in MONTHS:\n",
    "    habitantes_curve[month] = habitantes_curve['JUL']\n",
    "max_habs = habitantes_curve.max().max()\n",
    "max_habs"
   ]
  },
  {
   "cell_type": "code",
   "execution_count": 17,
   "id": "261f888d",
   "metadata": {},
   "outputs": [],
   "source": [
    "def extract_curve(path=None, df=None):\n",
    "    if df is None:\n",
    "        df = pd.read_csv(path).set_index('ANO')\n",
    "    df = df[df.columns[:12]].T\n",
    "    values = []\n",
    "    for year in YEARS:\n",
    "        values.extend(df[year].tolist())\n",
    "    return pd.Series(values)\n",
    "\n",
    "infectuous_curve = extract_curve(path=INFECTADOS_PATH)  \n",
    "vacunados_curve = extract_curve(path=VACUNADOS_PATH)\n",
    "recovered_curve = pd.Series([0]*len(infectuous_curve))\n",
    "max_habs = max([habitantes_curve.max().max(), vacunados_curve.max().max()])"
   ]
  },
  {
   "cell_type": "code",
   "execution_count": 18,
   "id": "418a99c1",
   "metadata": {},
   "outputs": [
    {
     "data": {
      "text/html": [
       "<div>\n",
       "<style scoped>\n",
       "    .dataframe tbody tr th:only-of-type {\n",
       "        vertical-align: middle;\n",
       "    }\n",
       "\n",
       "    .dataframe tbody tr th {\n",
       "        vertical-align: top;\n",
       "    }\n",
       "\n",
       "    .dataframe thead th {\n",
       "        text-align: right;\n",
       "    }\n",
       "</style>\n",
       "<table border=\"1\" class=\"dataframe\">\n",
       "  <thead>\n",
       "    <tr style=\"text-align: right;\">\n",
       "      <th></th>\n",
       "      <th>ENE</th>\n",
       "      <th>FEB</th>\n",
       "      <th>MAR</th>\n",
       "      <th>ABR</th>\n",
       "      <th>MAY</th>\n",
       "      <th>JUN</th>\n",
       "      <th>JUL</th>\n",
       "      <th>AGOS</th>\n",
       "      <th>SEP</th>\n",
       "      <th>OCT</th>\n",
       "      <th>NOV</th>\n",
       "      <th>DIC</th>\n",
       "    </tr>\n",
       "    <tr>\n",
       "      <th>ANO</th>\n",
       "      <th></th>\n",
       "      <th></th>\n",
       "      <th></th>\n",
       "      <th></th>\n",
       "      <th></th>\n",
       "      <th></th>\n",
       "      <th></th>\n",
       "      <th></th>\n",
       "      <th></th>\n",
       "      <th></th>\n",
       "      <th></th>\n",
       "      <th></th>\n",
       "    </tr>\n",
       "  </thead>\n",
       "  <tbody>\n",
       "    <tr>\n",
       "      <th>2018</th>\n",
       "      <td>10973470</td>\n",
       "      <td>10973470</td>\n",
       "      <td>10973470</td>\n",
       "      <td>10973470</td>\n",
       "      <td>10973470</td>\n",
       "      <td>10973470</td>\n",
       "      <td>10973470</td>\n",
       "      <td>10973470</td>\n",
       "      <td>10973470</td>\n",
       "      <td>10973470</td>\n",
       "      <td>10973470</td>\n",
       "      <td>10973470</td>\n",
       "    </tr>\n",
       "    <tr>\n",
       "      <th>2019</th>\n",
       "      <td>11012606</td>\n",
       "      <td>11012606</td>\n",
       "      <td>11012606</td>\n",
       "      <td>11012606</td>\n",
       "      <td>11012606</td>\n",
       "      <td>11012606</td>\n",
       "      <td>11012606</td>\n",
       "      <td>11012606</td>\n",
       "      <td>11012606</td>\n",
       "      <td>11012606</td>\n",
       "      <td>11012606</td>\n",
       "      <td>11012606</td>\n",
       "    </tr>\n",
       "    <tr>\n",
       "      <th>2020</th>\n",
       "      <td>11047665</td>\n",
       "      <td>11047665</td>\n",
       "      <td>11047665</td>\n",
       "      <td>11047665</td>\n",
       "      <td>11047665</td>\n",
       "      <td>11047665</td>\n",
       "      <td>11047665</td>\n",
       "      <td>11047665</td>\n",
       "      <td>11047665</td>\n",
       "      <td>11047665</td>\n",
       "      <td>11047665</td>\n",
       "      <td>11047665</td>\n",
       "    </tr>\n",
       "    <tr>\n",
       "      <th>2021</th>\n",
       "      <td>11077856</td>\n",
       "      <td>11077856</td>\n",
       "      <td>11077856</td>\n",
       "      <td>11077856</td>\n",
       "      <td>11077856</td>\n",
       "      <td>11077856</td>\n",
       "      <td>11077856</td>\n",
       "      <td>11077856</td>\n",
       "      <td>11077856</td>\n",
       "      <td>11077856</td>\n",
       "      <td>11077856</td>\n",
       "      <td>11077856</td>\n",
       "    </tr>\n",
       "    <tr>\n",
       "      <th>2022</th>\n",
       "      <td>11101945</td>\n",
       "      <td>11101945</td>\n",
       "      <td>11101945</td>\n",
       "      <td>11101945</td>\n",
       "      <td>11101945</td>\n",
       "      <td>11101945</td>\n",
       "      <td>11101945</td>\n",
       "      <td>11101945</td>\n",
       "      <td>11101945</td>\n",
       "      <td>11101945</td>\n",
       "      <td>11101945</td>\n",
       "      <td>11101945</td>\n",
       "    </tr>\n",
       "  </tbody>\n",
       "</table>\n",
       "</div>"
      ],
      "text/plain": [
       "           ENE       FEB       MAR       ABR       MAY       JUN       JUL  \\\n",
       "ANO                                                                          \n",
       "2018  10973470  10973470  10973470  10973470  10973470  10973470  10973470   \n",
       "2019  11012606  11012606  11012606  11012606  11012606  11012606  11012606   \n",
       "2020  11047665  11047665  11047665  11047665  11047665  11047665  11047665   \n",
       "2021  11077856  11077856  11077856  11077856  11077856  11077856  11077856   \n",
       "2022  11101945  11101945  11101945  11101945  11101945  11101945  11101945   \n",
       "\n",
       "          AGOS       SEP       OCT       NOV       DIC  \n",
       "ANO                                                     \n",
       "2018  10973470  10973470  10973470  10973470  10973470  \n",
       "2019  11012606  11012606  11012606  11012606  11012606  \n",
       "2020  11047665  11047665  11047665  11047665  11047665  \n",
       "2021  11077856  11077856  11077856  11077856  11077856  \n",
       "2022  11101945  11101945  11101945  11101945  11101945  "
      ]
     },
     "execution_count": 18,
     "metadata": {},
     "output_type": "execute_result"
    }
   ],
   "source": [
    "habitantes_curve"
   ]
  },
  {
   "cell_type": "code",
   "execution_count": 19,
   "id": "f5c8c6cb",
   "metadata": {},
   "outputs": [],
   "source": [
    "for ix, val in enumerate(infectuous_curve):\n",
    "    try:\n",
    "        recovered_curve[ix+1] += val\n",
    "    except KeyError:\n",
    "        continue"
   ]
  },
  {
   "cell_type": "code",
   "execution_count": 20,
   "id": "6be172d1",
   "metadata": {},
   "outputs": [
    {
     "data": {
      "text/plain": [
       "14543538.0"
      ]
     },
     "execution_count": 20,
     "metadata": {},
     "output_type": "execute_result"
    }
   ],
   "source": [
    "max_habs"
   ]
  },
  {
   "cell_type": "code",
   "execution_count": null,
   "id": "f056e12f",
   "metadata": {},
   "outputs": [],
   "source": []
  },
  {
   "cell_type": "code",
   "execution_count": 21,
   "id": "3848039b",
   "metadata": {},
   "outputs": [],
   "source": [
    "susceptible_curve = max_habs - infectuous_curve - vacunados_curve - recovered_curve\n",
    "susceptible_curve[susceptible_curve<0] = 0\n",
    "\n"
   ]
  },
  {
   "cell_type": "code",
   "execution_count": 22,
   "id": "b781eec1",
   "metadata": {},
   "outputs": [],
   "source": [
    "data = pd.concat([susceptible_curve, infectuous_curve, recovered_curve, vacunados_curve], axis=1).rename(columns={0:'Susceptible', 1:'Infectados', 2:'Recuperados', 3:'Vacunados'})\n",
    "infectados_real = data.diff()['Infectados']\n",
    "infectados_real.loc[0] = 0\n",
    "infectados_real\n",
    "data['Infectados'] = infectados_real"
   ]
  },
  {
   "cell_type": "code",
   "execution_count": 23,
   "id": "62d1c4f9",
   "metadata": {},
   "outputs": [
    {
     "data": {
      "text/html": [
       "<div>\n",
       "<style scoped>\n",
       "    .dataframe tbody tr th:only-of-type {\n",
       "        vertical-align: middle;\n",
       "    }\n",
       "\n",
       "    .dataframe tbody tr th {\n",
       "        vertical-align: top;\n",
       "    }\n",
       "\n",
       "    .dataframe thead th {\n",
       "        text-align: right;\n",
       "    }\n",
       "</style>\n",
       "<table border=\"1\" class=\"dataframe\">\n",
       "  <thead>\n",
       "    <tr style=\"text-align: right;\">\n",
       "      <th></th>\n",
       "      <th>Susceptible</th>\n",
       "      <th>Infectados</th>\n",
       "      <th>Recuperados</th>\n",
       "      <th>Vacunados</th>\n",
       "    </tr>\n",
       "  </thead>\n",
       "  <tbody>\n",
       "    <tr>\n",
       "      <th>0</th>\n",
       "      <td>3522359.0</td>\n",
       "      <td>0.0</td>\n",
       "      <td>0</td>\n",
       "      <td>11021179.0</td>\n",
       "    </tr>\n",
       "    <tr>\n",
       "      <th>1</th>\n",
       "      <td>3264772.0</td>\n",
       "      <td>0.0</td>\n",
       "      <td>0</td>\n",
       "      <td>11278766.0</td>\n",
       "    </tr>\n",
       "    <tr>\n",
       "      <th>2</th>\n",
       "      <td>2486898.0</td>\n",
       "      <td>0.0</td>\n",
       "      <td>0</td>\n",
       "      <td>12056640.0</td>\n",
       "    </tr>\n",
       "    <tr>\n",
       "      <th>3</th>\n",
       "      <td>2434722.0</td>\n",
       "      <td>0.0</td>\n",
       "      <td>0</td>\n",
       "      <td>12108816.0</td>\n",
       "    </tr>\n",
       "    <tr>\n",
       "      <th>4</th>\n",
       "      <td>2368620.0</td>\n",
       "      <td>160.0</td>\n",
       "      <td>0</td>\n",
       "      <td>12174758.0</td>\n",
       "    </tr>\n",
       "    <tr>\n",
       "      <th>5</th>\n",
       "      <td>2323345.0</td>\n",
       "      <td>7.0</td>\n",
       "      <td>160</td>\n",
       "      <td>12219866.0</td>\n",
       "    </tr>\n",
       "    <tr>\n",
       "      <th>6</th>\n",
       "      <td>2278774.0</td>\n",
       "      <td>20.0</td>\n",
       "      <td>167</td>\n",
       "      <td>12264410.0</td>\n",
       "    </tr>\n",
       "    <tr>\n",
       "      <th>7</th>\n",
       "      <td>2220164.0</td>\n",
       "      <td>16.0</td>\n",
       "      <td>187</td>\n",
       "      <td>12322984.0</td>\n",
       "    </tr>\n",
       "    <tr>\n",
       "      <th>8</th>\n",
       "      <td>2143566.0</td>\n",
       "      <td>27.0</td>\n",
       "      <td>203</td>\n",
       "      <td>12399539.0</td>\n",
       "    </tr>\n",
       "    <tr>\n",
       "      <th>9</th>\n",
       "      <td>2074341.0</td>\n",
       "      <td>16.0</td>\n",
       "      <td>230</td>\n",
       "      <td>12468721.0</td>\n",
       "    </tr>\n",
       "    <tr>\n",
       "      <th>10</th>\n",
       "      <td>2018959.0</td>\n",
       "      <td>19.0</td>\n",
       "      <td>246</td>\n",
       "      <td>12524068.0</td>\n",
       "    </tr>\n",
       "    <tr>\n",
       "      <th>11</th>\n",
       "      <td>1971337.0</td>\n",
       "      <td>161.0</td>\n",
       "      <td>265</td>\n",
       "      <td>12571510.0</td>\n",
       "    </tr>\n",
       "    <tr>\n",
       "      <th>12</th>\n",
       "      <td>1919864.0</td>\n",
       "      <td>0.0</td>\n",
       "      <td>426</td>\n",
       "      <td>12622822.0</td>\n",
       "    </tr>\n",
       "    <tr>\n",
       "      <th>13</th>\n",
       "      <td>1854645.0</td>\n",
       "      <td>187.0</td>\n",
       "      <td>426</td>\n",
       "      <td>12687854.0</td>\n",
       "    </tr>\n",
       "    <tr>\n",
       "      <th>14</th>\n",
       "      <td>1788295.0</td>\n",
       "      <td>5.0</td>\n",
       "      <td>613</td>\n",
       "      <td>12754012.0</td>\n",
       "    </tr>\n",
       "    <tr>\n",
       "      <th>15</th>\n",
       "      <td>1729473.0</td>\n",
       "      <td>7.0</td>\n",
       "      <td>618</td>\n",
       "      <td>12812822.0</td>\n",
       "    </tr>\n",
       "    <tr>\n",
       "      <th>16</th>\n",
       "      <td>1669626.0</td>\n",
       "      <td>12.0</td>\n",
       "      <td>625</td>\n",
       "      <td>12872650.0</td>\n",
       "    </tr>\n",
       "    <tr>\n",
       "      <th>17</th>\n",
       "      <td>1623127.0</td>\n",
       "      <td>12.0</td>\n",
       "      <td>637</td>\n",
       "      <td>12919125.0</td>\n",
       "    </tr>\n",
       "    <tr>\n",
       "      <th>18</th>\n",
       "      <td>1571807.0</td>\n",
       "      <td>6.0</td>\n",
       "      <td>649</td>\n",
       "      <td>12970427.0</td>\n",
       "    </tr>\n",
       "    <tr>\n",
       "      <th>19</th>\n",
       "      <td>1518952.0</td>\n",
       "      <td>0.0</td>\n",
       "      <td>655</td>\n",
       "      <td>13023276.0</td>\n",
       "    </tr>\n",
       "    <tr>\n",
       "      <th>20</th>\n",
       "      <td>1445628.0</td>\n",
       "      <td>21.0</td>\n",
       "      <td>655</td>\n",
       "      <td>13096579.0</td>\n",
       "    </tr>\n",
       "    <tr>\n",
       "      <th>21</th>\n",
       "      <td>1301694.0</td>\n",
       "      <td>11.0</td>\n",
       "      <td>676</td>\n",
       "      <td>13240481.0</td>\n",
       "    </tr>\n",
       "    <tr>\n",
       "      <th>22</th>\n",
       "      <td>1203105.0</td>\n",
       "      <td>10.0</td>\n",
       "      <td>687</td>\n",
       "      <td>13339049.0</td>\n",
       "    </tr>\n",
       "    <tr>\n",
       "      <th>23</th>\n",
       "      <td>1122748.0</td>\n",
       "      <td>194.0</td>\n",
       "      <td>697</td>\n",
       "      <td>13419202.0</td>\n",
       "    </tr>\n",
       "    <tr>\n",
       "      <th>24</th>\n",
       "      <td>1108024.0</td>\n",
       "      <td>110.0</td>\n",
       "      <td>891</td>\n",
       "      <td>13433622.0</td>\n",
       "    </tr>\n",
       "    <tr>\n",
       "      <th>25</th>\n",
       "      <td>1095550.0</td>\n",
       "      <td>21.0</td>\n",
       "      <td>1001</td>\n",
       "      <td>13445965.0</td>\n",
       "    </tr>\n",
       "    <tr>\n",
       "      <th>26</th>\n",
       "      <td>1083371.0</td>\n",
       "      <td>20.0</td>\n",
       "      <td>1022</td>\n",
       "      <td>13458103.0</td>\n",
       "    </tr>\n",
       "    <tr>\n",
       "      <th>27</th>\n",
       "      <td>1070733.0</td>\n",
       "      <td>1.0</td>\n",
       "      <td>1042</td>\n",
       "      <td>13470720.0</td>\n",
       "    </tr>\n",
       "    <tr>\n",
       "      <th>28</th>\n",
       "      <td>1058229.0</td>\n",
       "      <td>5.0</td>\n",
       "      <td>1043</td>\n",
       "      <td>13483218.0</td>\n",
       "    </tr>\n",
       "    <tr>\n",
       "      <th>29</th>\n",
       "      <td>1046531.0</td>\n",
       "      <td>2.0</td>\n",
       "      <td>1048</td>\n",
       "      <td>13494909.0</td>\n",
       "    </tr>\n",
       "    <tr>\n",
       "      <th>30</th>\n",
       "      <td>1036586.0</td>\n",
       "      <td>0.0</td>\n",
       "      <td>1050</td>\n",
       "      <td>13504852.0</td>\n",
       "    </tr>\n",
       "    <tr>\n",
       "      <th>31</th>\n",
       "      <td>1030887.0</td>\n",
       "      <td>2.0</td>\n",
       "      <td>1050</td>\n",
       "      <td>13510549.0</td>\n",
       "    </tr>\n",
       "    <tr>\n",
       "      <th>32</th>\n",
       "      <td>1030463.0</td>\n",
       "      <td>0.0</td>\n",
       "      <td>1052</td>\n",
       "      <td>13510971.0</td>\n",
       "    </tr>\n",
       "    <tr>\n",
       "      <th>33</th>\n",
       "      <td>1030454.0</td>\n",
       "      <td>0.0</td>\n",
       "      <td>1052</td>\n",
       "      <td>13510980.0</td>\n",
       "    </tr>\n",
       "    <tr>\n",
       "      <th>34</th>\n",
       "      <td>1030446.0</td>\n",
       "      <td>0.0</td>\n",
       "      <td>1052</td>\n",
       "      <td>13510988.0</td>\n",
       "    </tr>\n",
       "    <tr>\n",
       "      <th>35</th>\n",
       "      <td>1030339.0</td>\n",
       "      <td>102.0</td>\n",
       "      <td>1052</td>\n",
       "      <td>13510993.0</td>\n",
       "    </tr>\n",
       "    <tr>\n",
       "      <th>36</th>\n",
       "      <td>1030187.0</td>\n",
       "      <td>48.0</td>\n",
       "      <td>1154</td>\n",
       "      <td>13510995.0</td>\n",
       "    </tr>\n",
       "    <tr>\n",
       "      <th>37</th>\n",
       "      <td>1030134.0</td>\n",
       "      <td>0.0</td>\n",
       "      <td>1202</td>\n",
       "      <td>13511000.0</td>\n",
       "    </tr>\n",
       "    <tr>\n",
       "      <th>38</th>\n",
       "      <td>1030129.0</td>\n",
       "      <td>3.0</td>\n",
       "      <td>1202</td>\n",
       "      <td>13511002.0</td>\n",
       "    </tr>\n",
       "    <tr>\n",
       "      <th>39</th>\n",
       "      <td>1030118.0</td>\n",
       "      <td>0.0</td>\n",
       "      <td>1205</td>\n",
       "      <td>13511010.0</td>\n",
       "    </tr>\n",
       "    <tr>\n",
       "      <th>40</th>\n",
       "      <td>1030114.0</td>\n",
       "      <td>3.0</td>\n",
       "      <td>1205</td>\n",
       "      <td>13511011.0</td>\n",
       "    </tr>\n",
       "    <tr>\n",
       "      <th>41</th>\n",
       "      <td>1030103.0</td>\n",
       "      <td>4.0</td>\n",
       "      <td>1208</td>\n",
       "      <td>13511015.0</td>\n",
       "    </tr>\n",
       "    <tr>\n",
       "      <th>42</th>\n",
       "      <td>1030098.0</td>\n",
       "      <td>0.0</td>\n",
       "      <td>1212</td>\n",
       "      <td>13511016.0</td>\n",
       "    </tr>\n",
       "    <tr>\n",
       "      <th>43</th>\n",
       "      <td>1030087.0</td>\n",
       "      <td>5.0</td>\n",
       "      <td>1212</td>\n",
       "      <td>13511022.0</td>\n",
       "    </tr>\n",
       "    <tr>\n",
       "      <th>44</th>\n",
       "      <td>979024.0</td>\n",
       "      <td>4.0</td>\n",
       "      <td>1217</td>\n",
       "      <td>13562076.0</td>\n",
       "    </tr>\n",
       "    <tr>\n",
       "      <th>45</th>\n",
       "      <td>921187.0</td>\n",
       "      <td>12.0</td>\n",
       "      <td>1221</td>\n",
       "      <td>13619897.0</td>\n",
       "    </tr>\n",
       "    <tr>\n",
       "      <th>46</th>\n",
       "      <td>844298.0</td>\n",
       "      <td>5.0</td>\n",
       "      <td>1233</td>\n",
       "      <td>13696769.0</td>\n",
       "    </tr>\n",
       "    <tr>\n",
       "      <th>47</th>\n",
       "      <td>800301.0</td>\n",
       "      <td>60.0</td>\n",
       "      <td>1238</td>\n",
       "      <td>13740701.0</td>\n",
       "    </tr>\n",
       "    <tr>\n",
       "      <th>48</th>\n",
       "      <td>747644.0</td>\n",
       "      <td>0.0</td>\n",
       "      <td>1298</td>\n",
       "      <td>13793298.0</td>\n",
       "    </tr>\n",
       "    <tr>\n",
       "      <th>49</th>\n",
       "      <td>644056.0</td>\n",
       "      <td>109.0</td>\n",
       "      <td>1298</td>\n",
       "      <td>13896777.0</td>\n",
       "    </tr>\n",
       "    <tr>\n",
       "      <th>50</th>\n",
       "      <td>549675.0</td>\n",
       "      <td>0.0</td>\n",
       "      <td>1407</td>\n",
       "      <td>13991049.0</td>\n",
       "    </tr>\n",
       "    <tr>\n",
       "      <th>51</th>\n",
       "      <td>465963.0</td>\n",
       "      <td>104.0</td>\n",
       "      <td>1407</td>\n",
       "      <td>14074657.0</td>\n",
       "    </tr>\n",
       "    <tr>\n",
       "      <th>52</th>\n",
       "      <td>381761.0</td>\n",
       "      <td>15.0</td>\n",
       "      <td>1511</td>\n",
       "      <td>14158740.0</td>\n",
       "    </tr>\n",
       "    <tr>\n",
       "      <th>53</th>\n",
       "      <td>291237.0</td>\n",
       "      <td>8.0</td>\n",
       "      <td>1526</td>\n",
       "      <td>14249241.0</td>\n",
       "    </tr>\n",
       "    <tr>\n",
       "      <th>54</th>\n",
       "      <td>191655.0</td>\n",
       "      <td>4.0</td>\n",
       "      <td>1534</td>\n",
       "      <td>14348811.0</td>\n",
       "    </tr>\n",
       "    <tr>\n",
       "      <th>55</th>\n",
       "      <td>86244.0</td>\n",
       "      <td>37.0</td>\n",
       "      <td>1538</td>\n",
       "      <td>14454181.0</td>\n",
       "    </tr>\n",
       "    <tr>\n",
       "      <th>56</th>\n",
       "      <td>0.0</td>\n",
       "      <td>9.0</td>\n",
       "      <td>1575</td>\n",
       "      <td>14543538.0</td>\n",
       "    </tr>\n",
       "    <tr>\n",
       "      <th>57</th>\n",
       "      <td>0.0</td>\n",
       "      <td>2.0</td>\n",
       "      <td>1584</td>\n",
       "      <td>14543538.0</td>\n",
       "    </tr>\n",
       "    <tr>\n",
       "      <th>58</th>\n",
       "      <td>0.0</td>\n",
       "      <td>0.0</td>\n",
       "      <td>1586</td>\n",
       "      <td>14543538.0</td>\n",
       "    </tr>\n",
       "    <tr>\n",
       "      <th>59</th>\n",
       "      <td>0.0</td>\n",
       "      <td>0.0</td>\n",
       "      <td>1586</td>\n",
       "      <td>14543538.0</td>\n",
       "    </tr>\n",
       "  </tbody>\n",
       "</table>\n",
       "</div>"
      ],
      "text/plain": [
       "    Susceptible  Infectados  Recuperados   Vacunados\n",
       "0     3522359.0         0.0            0  11021179.0\n",
       "1     3264772.0         0.0            0  11278766.0\n",
       "2     2486898.0         0.0            0  12056640.0\n",
       "3     2434722.0         0.0            0  12108816.0\n",
       "4     2368620.0       160.0            0  12174758.0\n",
       "5     2323345.0         7.0          160  12219866.0\n",
       "6     2278774.0        20.0          167  12264410.0\n",
       "7     2220164.0        16.0          187  12322984.0\n",
       "8     2143566.0        27.0          203  12399539.0\n",
       "9     2074341.0        16.0          230  12468721.0\n",
       "10    2018959.0        19.0          246  12524068.0\n",
       "11    1971337.0       161.0          265  12571510.0\n",
       "12    1919864.0         0.0          426  12622822.0\n",
       "13    1854645.0       187.0          426  12687854.0\n",
       "14    1788295.0         5.0          613  12754012.0\n",
       "15    1729473.0         7.0          618  12812822.0\n",
       "16    1669626.0        12.0          625  12872650.0\n",
       "17    1623127.0        12.0          637  12919125.0\n",
       "18    1571807.0         6.0          649  12970427.0\n",
       "19    1518952.0         0.0          655  13023276.0\n",
       "20    1445628.0        21.0          655  13096579.0\n",
       "21    1301694.0        11.0          676  13240481.0\n",
       "22    1203105.0        10.0          687  13339049.0\n",
       "23    1122748.0       194.0          697  13419202.0\n",
       "24    1108024.0       110.0          891  13433622.0\n",
       "25    1095550.0        21.0         1001  13445965.0\n",
       "26    1083371.0        20.0         1022  13458103.0\n",
       "27    1070733.0         1.0         1042  13470720.0\n",
       "28    1058229.0         5.0         1043  13483218.0\n",
       "29    1046531.0         2.0         1048  13494909.0\n",
       "30    1036586.0         0.0         1050  13504852.0\n",
       "31    1030887.0         2.0         1050  13510549.0\n",
       "32    1030463.0         0.0         1052  13510971.0\n",
       "33    1030454.0         0.0         1052  13510980.0\n",
       "34    1030446.0         0.0         1052  13510988.0\n",
       "35    1030339.0       102.0         1052  13510993.0\n",
       "36    1030187.0        48.0         1154  13510995.0\n",
       "37    1030134.0         0.0         1202  13511000.0\n",
       "38    1030129.0         3.0         1202  13511002.0\n",
       "39    1030118.0         0.0         1205  13511010.0\n",
       "40    1030114.0         3.0         1205  13511011.0\n",
       "41    1030103.0         4.0         1208  13511015.0\n",
       "42    1030098.0         0.0         1212  13511016.0\n",
       "43    1030087.0         5.0         1212  13511022.0\n",
       "44     979024.0         4.0         1217  13562076.0\n",
       "45     921187.0        12.0         1221  13619897.0\n",
       "46     844298.0         5.0         1233  13696769.0\n",
       "47     800301.0        60.0         1238  13740701.0\n",
       "48     747644.0         0.0         1298  13793298.0\n",
       "49     644056.0       109.0         1298  13896777.0\n",
       "50     549675.0         0.0         1407  13991049.0\n",
       "51     465963.0       104.0         1407  14074657.0\n",
       "52     381761.0        15.0         1511  14158740.0\n",
       "53     291237.0         8.0         1526  14249241.0\n",
       "54     191655.0         4.0         1534  14348811.0\n",
       "55      86244.0        37.0         1538  14454181.0\n",
       "56          0.0         9.0         1575  14543538.0\n",
       "57          0.0         2.0         1584  14543538.0\n",
       "58          0.0         0.0         1586  14543538.0\n",
       "59          0.0         0.0         1586  14543538.0"
      ]
     },
     "execution_count": 23,
     "metadata": {},
     "output_type": "execute_result"
    }
   ],
   "source": [
    "data"
   ]
  },
  {
   "cell_type": "code",
   "execution_count": 24,
   "id": "7d7850f1",
   "metadata": {},
   "outputs": [],
   "source": [
    "data_numpy = np.array(data)/max_habs"
   ]
  },
  {
   "cell_type": "code",
   "execution_count": 25,
   "id": "dd08e581",
   "metadata": {},
   "outputs": [],
   "source": [
    "import torch\n",
    "import torch.nn as nn\n",
    "import torch.nn.functional as F\n"
   ]
  },
  {
   "cell_type": "code",
   "execution_count": 26,
   "id": "780383ea",
   "metadata": {},
   "outputs": [],
   "source": [
    "class SIRV(nn.Module):\n",
    "    def __init__(self, epsilon=1e-7):\n",
    "        super(SIRV, self).__init__()\n",
    "        self.lambda1 = nn.Linear(1,1, bias = False) # tasa de contacto efectivo\n",
    "        self.lambda2 = nn.Linear(1,1, bias = False) # tasa de immunizacion\n",
    "        self.lambda3 = nn.Linear(1,1, bias = False) # tasa de recuperacion\n",
    "        torch.nn.init.xavier_uniform_(self.lambda1.weight, gain=0.01)\n",
    "        torch.nn.init.xavier_uniform_(self.lambda2.weight, gain=0.01)\n",
    "        torch.nn.init.xavier_uniform_(self.lambda3.weight, gain=0.01)\n",
    "       \n",
    "        self.epsilon = epsilon\n",
    "    \n",
    "    def forward(self, x, size_of_starter_set, amount_of_prediction_in_future):\n",
    "        assert size_of_starter_set < amount_of_prediction_in_future\n",
    "        ns = torch.zeros([amount_of_prediction_in_future, 4],dtype=torch.float, requires_grad = False)\n",
    "        torch.nn.init.xavier_uniform_(ns, gain=0.01)\n",
    "        x[x==0] = self.epsilon\n",
    "        ns[:x.shape[0]] = x.view(x.shape[0], 4).clone()\n",
    "        for i in range(size_of_starter_set,amount_of_prediction_in_future):\n",
    "            a = ns[i-1].clone()\n",
    "            ns[i][0] = a[0].view(1,1) - self.lambda1(a[0]*a[1].view(1,1)) - self.lambda2(a[0].view(1,1))\n",
    "            ns[i][1] = a[1].view(1,1) + self.lambda1(a[0]*a[1].view(1,1)) - self.lambda3(a[1].view(1,1))\n",
    "            ns[i][2] = a[2].view(1,1) + self.lambda3(a[1].view(1,1))\n",
    "            ns[i][3] = a[3].view(1,1) + self.lambda2(a[0].view(1,1))\n",
    "        b = torch.div(ns, ns.sum(axis=1).reshape(-1,1)).clone()\n",
    "        return b[1:].reshape(-1,4)\n"
   ]
  },
  {
   "cell_type": "code",
   "execution_count": 27,
   "id": "f8a93328",
   "metadata": {},
   "outputs": [],
   "source": [
    "def loss_custom(pred, actual):\n",
    "    loss_func = nn.SmoothL1Loss()\n",
    "    loss_big = loss_func(pred[:,3], actual[:,3]) + loss_func(pred[:,0], actual[:,0])\n",
    "    loss_inf = loss_func(pred[:,1], actual[:,1])\n",
    "    loss_recov =  loss_func(pred[:,2], actual[:,2])\n",
    "    return 100000*loss_inf + 1000*loss_recov + loss_big"
   ]
  },
  {
   "cell_type": "code",
   "execution_count": null,
   "id": "900debb7",
   "metadata": {},
   "outputs": [],
   "source": []
  },
  {
   "cell_type": "code",
   "execution_count": 28,
   "id": "e50c1d31",
   "metadata": {
    "scrolled": false
   },
   "outputs": [],
   "source": [
    "y = torch.from_numpy(data_numpy.astype(np.float32))\n"
   ]
  },
  {
   "cell_type": "code",
   "execution_count": 29,
   "id": "5c62e9b3",
   "metadata": {},
   "outputs": [
    {
     "data": {
      "text/plain": [
       "torch.Size([60, 4])"
      ]
     },
     "execution_count": 29,
     "metadata": {},
     "output_type": "execute_result"
    }
   ],
   "source": [
    "y.size()"
   ]
  },
  {
   "cell_type": "code",
   "execution_count": 30,
   "id": "c7f970e6",
   "metadata": {},
   "outputs": [],
   "source": [
    "import os\n",
    "model_checkpoint_folder = f'models/{enfermedad}/checkpoints'\n",
    "trained_models_foder = 'models/trained_models'\n",
    "os.makedirs(model_checkpoint_folder, exist_ok=True)\n",
    "os.makedirs(trained_models_foder, exist_ok=True)"
   ]
  },
  {
   "cell_type": "code",
   "execution_count": 31,
   "id": "aa61060a",
   "metadata": {},
   "outputs": [],
   "source": [
    "def train(train_set, fold_size=10, future_size=5):\n",
    "    epsilon = 1e-15\n",
    "    sir = SIRV(epsilon=epsilon)\n",
    "    opt = torch.optim.Adam(sir.parameters(), lr=0.05)\n",
    "    best = 10000\n",
    "    early_stopping = EarlyStopping(patience=50, verbose=False, delta=1e-10)\n",
    "    for epoch in range(1000):\n",
    "        out = sir(train_set[:fold_size], size_of_starter_set=min(10, fold_size), amount_of_prediction_in_future=fold_size + future_size+1)\n",
    "        out = out.squeeze()\n",
    "        loss = loss_custom(out[fold_size:], train_set[fold_size:fold_size+future_size])\n",
    "        loss.backward()\n",
    "        opt.step() \n",
    "        opt.zero_grad()\n",
    "        if loss.item() < best:\n",
    "            best = loss.item()\n",
    "            torch.save(sir, f'{model_checkpoint_folder}/{enfermedad}_{fold_size}.pkl')\n",
    "        if epoch%25 == 0:        \n",
    "            print(f'Epoch: {epoch}, loss: {loss.item()}')\n",
    "        if loss.isnan():\n",
    "            raise ValueError()\n",
    "        for p in sir.parameters():\n",
    "            p.data.clamp_(0)\n",
    "        early_stopping(loss.item(), sir)\n",
    "        if early_stopping.early_stop:\n",
    "            print(\"Early stopping\")\n",
    "            break\n",
    "    return best\n",
    "    \n",
    "\n",
    "def train_and_val_k_fold():\n",
    "    divergences = {}\n",
    "    rmses = []\n",
    "    losses = {}\n",
    "    future_index_check = 15\n",
    "    min_datapoints = 20\n",
    "    for fold_size in range(min_datapoints, len(y)-future_index_check):\n",
    "        print(f'\\nAnalyzing fold: {fold_size}\\n')\n",
    "        folded_train_set = y[:fold_size+future_index_check+1].clone()\n",
    "        best_loss = train(train_set=folded_train_set, fold_size=fold_size, future_size=future_index_check)\n",
    "        model = torch.load(f'{model_checkpoint_folder}/{enfermedad}_{fold_size}.pkl')\n",
    "        preds = model(folded_train_set[:fold_size], size_of_starter_set=fold_size, amount_of_prediction_in_future=len(folded_train_set)+1)[fold_size:fold_size+future_index_check]\n",
    "        target = y[fold_size:fold_size+future_index_check]\n",
    "        target[target==0] = 1e-15\n",
    "        kl_divergence = torch.nn.functional.kl_div(target.log(), preds, reduction='batchmean').detach().item()\n",
    "        rmse = torch.sqrt(torchmetrics.functional.mean_squared_error(target, preds)).detach().item()\n",
    "        print(f'\\nKL Divergence:{kl_divergence}\\n')\n",
    "        print(f'\\nRMSE:{rmse}\\n')\n",
    "        divergences[fold_size] = kl_divergence\n",
    "        rmses.append(rmse)\n",
    "        losses[fold_size] = best_loss\n",
    "    return divergences, rmses, losses"
   ]
  },
  {
   "cell_type": "code",
   "execution_count": 19,
   "id": "15d283ea",
   "metadata": {},
   "outputs": [
    {
     "name": "stdout",
     "output_type": "stream",
     "text": [
      "\n",
      "Analyzing fold: 20\n",
      "\n",
      "Epoch: 0, loss: 0.003880295669659972\n",
      "Epoch: 25, loss: 0.00032065322739072144\n",
      "Epoch: 50, loss: 4.27394152211491e-05\n",
      "Epoch: 75, loss: 3.6725316022057086e-05\n",
      "Epoch: 100, loss: 3.6647197703132406e-05\n",
      "Epoch: 125, loss: 3.6167428334010765e-05\n",
      "Epoch: 150, loss: 3.6083656596019864e-05\n",
      "Epoch: 175, loss: 3.6053093936061487e-05\n",
      "Epoch: 200, loss: 3.6041976272827014e-05\n",
      "Epoch: 225, loss: 3.6037898098584265e-05\n",
      "Epoch: 250, loss: 3.6036348319612443e-05\n",
      "Epoch: 275, loss: 3.603577351896092e-05\n",
      "Epoch: 300, loss: 3.603562436182983e-05\n",
      "Epoch: 325, loss: 3.603648656280711e-05\n",
      "Epoch: 350, loss: 3.603556251619011e-05\n",
      "Epoch: 375, loss: 3.603551522246562e-05\n",
      "EarlyStopping reached!\n",
      "Early stopping\n",
      "\n",
      "KL Divergence:0.00035622058203443885\n",
      "\n",
      "\n",
      "RMSE:0.004500285722315311\n",
      "\n",
      "\n",
      "Analyzing fold: 21\n",
      "\n",
      "Epoch: 0, loss: 0.003376978449523449\n",
      "Epoch: 25, loss: 0.00012110575335100293\n",
      "Epoch: 50, loss: 9.653409506427124e-05\n",
      "Epoch: 75, loss: 4.992823232896626e-05\n",
      "Epoch: 100, loss: 4.553026519715786e-05\n",
      "Epoch: 125, loss: 4.52940548711922e-05\n",
      "Epoch: 150, loss: 4.520495349424891e-05\n",
      "Epoch: 175, loss: 4.5169137592893094e-05\n",
      "Epoch: 200, loss: 4.515619730227627e-05\n",
      "Epoch: 225, loss: 4.5151122321840376e-05\n",
      "Epoch: 250, loss: 4.514935426414013e-05\n",
      "Epoch: 275, loss: 4.514860120252706e-05\n",
      "Epoch: 300, loss: 4.5148382923798636e-05\n",
      "Epoch: 325, loss: 4.5148335630074143e-05\n",
      "Epoch: 350, loss: 4.514835018198937e-05\n",
      "EarlyStopping reached!\n",
      "Early stopping\n",
      "\n",
      "KL Divergence:0.0003943750634789467\n",
      "\n",
      "\n",
      "RMSE:0.0046877022832632065\n",
      "\n",
      "\n",
      "Analyzing fold: 22\n",
      "\n",
      "Epoch: 0, loss: 0.00250294734723866\n",
      "Epoch: 25, loss: 0.0005559589480981231\n",
      "Epoch: 50, loss: 8.082427666522563e-05\n",
      "Epoch: 75, loss: 5.7760455092648044e-05\n",
      "Epoch: 100, loss: 5.551444337470457e-05\n",
      "Epoch: 125, loss: 5.5078147852327675e-05\n",
      "Epoch: 150, loss: 5.496555604622699e-05\n",
      "Epoch: 175, loss: 5.492218770086765e-05\n",
      "Epoch: 200, loss: 5.490646799444221e-05\n",
      "Epoch: 225, loss: 5.490057446877472e-05\n",
      "Epoch: 250, loss: 5.489843897521496e-05\n",
      "Epoch: 275, loss: 5.4897431255085394e-05\n",
      "Epoch: 300, loss: 5.4897031077416614e-05\n",
      "Epoch: 325, loss: 5.489695831784047e-05\n",
      "Epoch: 350, loss: 5.489694740390405e-05\n",
      "EarlyStopping reached!\n",
      "Early stopping\n",
      "\n",
      "KL Divergence:0.0006588206742890179\n",
      "\n",
      "\n",
      "RMSE:0.006048796232789755\n",
      "\n",
      "\n",
      "Analyzing fold: 23\n",
      "\n",
      "Epoch: 0, loss: 0.003307380946353078\n",
      "Epoch: 25, loss: 0.0005493308999575675\n",
      "Epoch: 50, loss: 0.00011517139500938356\n",
      "Epoch: 75, loss: 6.604243390029296e-05\n",
      "Epoch: 100, loss: 6.137445598142222e-05\n",
      "Epoch: 125, loss: 6.084746928536333e-05\n",
      "Epoch: 150, loss: 6.0733444115612656e-05\n",
      "Epoch: 175, loss: 6.070414383430034e-05\n",
      "Epoch: 200, loss: 6.069368464522995e-05\n",
      "Epoch: 225, loss: 6.068995571695268e-05\n",
      "Epoch: 250, loss: 6.0688598750857636e-05\n",
      "Epoch: 275, loss: 6.069046139600687e-05\n",
      "Epoch: 300, loss: 6.068799120839685e-05\n",
      "Epoch: 325, loss: 6.068773291190155e-05\n",
      "Epoch: 350, loss: 6.068787115509622e-05\n",
      "Epoch: 375, loss: 6.068780203349888e-05\n",
      "EarlyStopping reached!\n",
      "Early stopping\n",
      "\n",
      "KL Divergence:0.0011217326391488314\n",
      "\n",
      "\n",
      "RMSE:0.008023417554795742\n",
      "\n",
      "\n",
      "Analyzing fold: 24\n",
      "\n",
      "Epoch: 0, loss: 0.0011867884313687682\n",
      "Epoch: 25, loss: 0.000332535506458953\n",
      "Epoch: 50, loss: 6.677943747490644e-05\n",
      "Epoch: 75, loss: 6.281084642978385e-05\n",
      "Epoch: 100, loss: 6.0803944506915286e-05\n",
      "Epoch: 125, loss: 6.04744054726325e-05\n",
      "Epoch: 150, loss: 6.0291877161944285e-05\n",
      "Epoch: 175, loss: 6.0190279327798635e-05\n",
      "Epoch: 200, loss: 6.013489473843947e-05\n",
      "Epoch: 225, loss: 6.010396100464277e-05\n",
      "Epoch: 250, loss: 6.0085993027314544e-05\n",
      "Epoch: 275, loss: 6.007513729855418e-05\n",
      "Epoch: 300, loss: 6.0068552556913346e-05\n",
      "Epoch: 325, loss: 6.006412877468392e-05\n",
      "Epoch: 350, loss: 6.0061247495468706e-05\n",
      "Epoch: 375, loss: 6.0059333918616176e-05\n",
      "Epoch: 400, loss: 6.0058097005821764e-05\n",
      "Epoch: 425, loss: 6.0057209338992834e-05\n",
      "Epoch: 450, loss: 6.0056634538341314e-05\n",
      "Epoch: 475, loss: 6.005618706694804e-05\n",
      "Epoch: 500, loss: 6.005597970215604e-05\n",
      "Epoch: 525, loss: 6.005582690704614e-05\n",
      "Epoch: 550, loss: 6.005559771438129e-05\n",
      "Epoch: 575, loss: 6.005551040288992e-05\n",
      "EarlyStopping reached!\n",
      "Early stopping\n",
      "\n",
      "KL Divergence:0.0016827721847221255\n",
      "\n",
      "\n",
      "RMSE:0.009886602871119976\n",
      "\n",
      "\n",
      "Analyzing fold: 25\n",
      "\n",
      "Epoch: 0, loss: 0.007731102406978607\n",
      "Epoch: 25, loss: 0.004754303488880396\n",
      "Epoch: 50, loss: 0.0004071500734426081\n",
      "Epoch: 75, loss: 0.0001441034401068464\n",
      "Epoch: 100, loss: 6.244317046366632e-05\n",
      "Epoch: 125, loss: 6.085177665227093e-05\n",
      "Epoch: 150, loss: 6.00588864472229e-05\n",
      "Epoch: 175, loss: 5.9963491366943344e-05\n",
      "Epoch: 200, loss: 5.989237979520112e-05\n",
      "Epoch: 225, loss: 5.9840978792635724e-05\n",
      "Epoch: 250, loss: 5.980364585411735e-05\n",
      "Epoch: 275, loss: 5.9776182752102613e-05\n",
      "Epoch: 300, loss: 5.9755842812592164e-05\n",
      "Epoch: 325, loss: 5.974014493403956e-05\n",
      "Epoch: 350, loss: 5.972822691546753e-05\n",
      "Epoch: 375, loss: 5.971905920887366e-05\n",
      "Epoch: 400, loss: 5.971149948891252e-05\n",
      "Epoch: 425, loss: 5.9705529565690085e-05\n",
      "Epoch: 450, loss: 5.970059282844886e-05\n",
      "Epoch: 475, loss: 5.9696609241655096e-05\n",
      "Epoch: 500, loss: 5.9693207731470466e-05\n",
      "Epoch: 525, loss: 5.9690344642149284e-05\n",
      "Epoch: 550, loss: 5.9687979955924675e-05\n",
      "Epoch: 575, loss: 5.9686066379072145e-05\n",
      "Epoch: 600, loss: 5.968423283775337e-05\n",
      "Epoch: 625, loss: 5.9682890423573554e-05\n",
      "Epoch: 650, loss: 5.968148252577521e-05\n",
      "Epoch: 675, loss: 5.9680387494154274e-05\n",
      "Epoch: 700, loss: 5.9679310652427375e-05\n",
      "Epoch: 725, loss: 5.967856486677192e-05\n",
      "Epoch: 750, loss: 5.9677859098883346e-05\n",
      "Epoch: 775, loss: 5.967731340206228e-05\n",
      "Epoch: 800, loss: 5.9676720411516726e-05\n",
      "Epoch: 825, loss: 5.967613105894998e-05\n",
      "Epoch: 850, loss: 5.967575270915404e-05\n",
      "Epoch: 875, loss: 5.9675334341591224e-05\n",
      "Epoch: 900, loss: 5.9674806834664196e-05\n",
      "Epoch: 925, loss: 5.967463584966026e-05\n",
      "Epoch: 950, loss: 5.967434117337689e-05\n",
      "Epoch: 975, loss: 5.967394827166572e-05\n",
      "\n",
      "KL Divergence:0.0016676080413162708\n",
      "\n",
      "\n",
      "RMSE:0.00983932800590992\n",
      "\n",
      "\n",
      "Analyzing fold: 26\n",
      "\n",
      "Epoch: 0, loss: 0.0009554275311529636\n",
      "Epoch: 25, loss: 0.00016238632088061422\n",
      "Epoch: 50, loss: 8.631470700493082e-05\n",
      "Epoch: 75, loss: 6.0267997469054535e-05\n",
      "Epoch: 100, loss: 5.981374124530703e-05\n",
      "Epoch: 125, loss: 5.961412898614071e-05\n",
      "Epoch: 150, loss: 5.952119317953475e-05\n",
      "Epoch: 175, loss: 5.9483230870682746e-05\n",
      "Epoch: 200, loss: 5.946323290118016e-05\n",
      "Epoch: 225, loss: 5.9451394918141887e-05\n",
      "Epoch: 250, loss: 5.944344593444839e-05\n",
      "Epoch: 275, loss: 5.9438050811877474e-05\n",
      "Epoch: 300, loss: 5.943420183029957e-05\n",
      "Epoch: 325, loss: 5.943126234342344e-05\n",
      "Epoch: 350, loss: 5.9428981330711395e-05\n",
      "Epoch: 375, loss: 5.942740244790912e-05\n",
      "Epoch: 400, loss: 5.9425954532343894e-05\n",
      "Epoch: 425, loss: 5.9424954088171944e-05\n",
      "Epoch: 450, loss: 5.94240591453854e-05\n",
      "Epoch: 475, loss: 5.9423389757284895e-05\n",
      "Epoch: 500, loss: 5.942269854131155e-05\n",
      "Epoch: 525, loss: 5.942228381172754e-05\n",
      "Epoch: 550, loss: 5.942189091001637e-05\n",
      "Epoch: 575, loss: 5.942162169958465e-05\n",
      "Epoch: 600, loss: 5.942133429925889e-05\n",
      "Epoch: 625, loss: 5.94211342104245e-05\n",
      "Epoch: 650, loss: 5.942071948084049e-05\n",
      "Epoch: 675, loss: 5.9420635807327926e-05\n",
      "Epoch: 700, loss: 5.9420322941150516e-05\n",
      "Epoch: 725, loss: 5.9424466599011794e-05\n",
      "EarlyStopping reached!\n",
      "Early stopping\n",
      "\n",
      "KL Divergence:0.0016466964734718204\n",
      "\n",
      "\n",
      "RMSE:0.00977567583322525\n",
      "\n",
      "\n",
      "Analyzing fold: 27\n",
      "\n",
      "Epoch: 0, loss: 0.014597746543586254\n",
      "Epoch: 25, loss: 0.005032164976000786\n",
      "Epoch: 50, loss: 0.0050384290516376495\n",
      "EarlyStopping reached!\n",
      "Early stopping\n",
      "\n",
      "KL Divergence:0.010358759202063084\n",
      "\n",
      "\n",
      "RMSE:0.023347970098257065\n",
      "\n",
      "\n",
      "Analyzing fold: 28\n",
      "\n",
      "Epoch: 0, loss: 0.006064905319362879\n",
      "Epoch: 25, loss: 0.00488777132704854\n",
      "Epoch: 50, loss: 0.00322954379953444\n",
      "EarlyStopping reached!\n",
      "Early stopping\n",
      "\n",
      "KL Divergence:0.012328558601439\n",
      "\n",
      "\n",
      "RMSE:0.02521415427327156\n",
      "\n",
      "\n",
      "Analyzing fold: 29\n",
      "\n",
      "Epoch: 0, loss: 0.001801184262149036\n",
      "Epoch: 25, loss: 0.0007978919893503189\n",
      "Epoch: 50, loss: 7.05635902704671e-05\n",
      "Epoch: 75, loss: 5.879103628103621e-05\n",
      "Epoch: 100, loss: 5.734294973080978e-05\n",
      "Epoch: 125, loss: 5.706464435206726e-05\n",
      "Epoch: 150, loss: 5.6874454458011314e-05\n",
      "Epoch: 175, loss: 5.678761954186484e-05\n",
      "Epoch: 200, loss: 5.674207568517886e-05\n",
      "Epoch: 225, loss: 5.6715791288297623e-05\n",
      "Epoch: 250, loss: 5.669968595611863e-05\n",
      "Epoch: 275, loss: 5.668886296916753e-05\n",
      "Epoch: 300, loss: 5.6681365094846115e-05\n",
      "Epoch: 325, loss: 5.6676137319300324e-05\n",
      "Epoch: 350, loss: 5.6671993661439046e-05\n",
      "Epoch: 375, loss: 5.6669068726478145e-05\n"
     ]
    },
    {
     "name": "stdout",
     "output_type": "stream",
     "text": [
      "Epoch: 400, loss: 5.6666591262910515e-05\n",
      "Epoch: 425, loss: 5.6664626754354686e-05\n",
      "Epoch: 450, loss: 5.666303331963718e-05\n",
      "Epoch: 475, loss: 5.666169818141498e-05\n",
      "Epoch: 500, loss: 5.666089418809861e-05\n",
      "Epoch: 525, loss: 5.665997014148161e-05\n",
      "Epoch: 550, loss: 5.6659184338059276e-05\n",
      "Epoch: 575, loss: 5.665870412485674e-05\n",
      "Epoch: 600, loss: 5.665810022037476e-05\n",
      "Epoch: 625, loss: 5.6657645473023877e-05\n",
      "Epoch: 650, loss: 5.665717981173657e-05\n",
      "Epoch: 675, loss: 5.6656834203749895e-05\n",
      "Epoch: 700, loss: 5.6656535889487714e-05\n",
      "Epoch: 725, loss: 5.66562739550136e-05\n",
      "Epoch: 750, loss: 5.6656110245967284e-05\n",
      "Epoch: 775, loss: 5.665588105330244e-05\n",
      "Epoch: 800, loss: 5.6655797379789874e-05\n",
      "Epoch: 825, loss: 5.6655484513612464e-05\n",
      "Epoch: 850, loss: 5.665538628818467e-05\n",
      "Epoch: 875, loss: 5.665526259690523e-05\n",
      "Epoch: 900, loss: 5.665518619935028e-05\n",
      "Epoch: 925, loss: 5.6655069784028456e-05\n",
      "Epoch: 950, loss: 5.6655084335943684e-05\n",
      "Epoch: 975, loss: 5.665506250807084e-05\n",
      "EarlyStopping reached!\n",
      "Early stopping\n",
      "\n",
      "KL Divergence:0.0016707692993804812\n",
      "\n",
      "\n",
      "RMSE:0.00984371080994606\n",
      "\n",
      "\n",
      "Analyzing fold: 30\n",
      "\n",
      "Epoch: 0, loss: 0.0038714001420885324\n",
      "Epoch: 25, loss: 0.004715420305728912\n",
      "Epoch: 50, loss: 0.0003573902358766645\n",
      "Epoch: 75, loss: 0.00015012510993983597\n",
      "Epoch: 100, loss: 5.8963421906810254e-05\n",
      "Epoch: 125, loss: 5.1236344006611034e-05\n",
      "Epoch: 150, loss: 5.067466918262653e-05\n",
      "Epoch: 175, loss: 5.039316602051258e-05\n",
      "Epoch: 200, loss: 5.0232556532137096e-05\n",
      "Epoch: 225, loss: 5.0150199967902154e-05\n",
      "Epoch: 250, loss: 5.010652239434421e-05\n",
      "Epoch: 275, loss: 5.0081525841960683e-05\n",
      "Epoch: 300, loss: 5.006616993341595e-05\n",
      "Epoch: 325, loss: 5.005602361052297e-05\n",
      "Epoch: 350, loss: 5.004915874451399e-05\n",
      "Epoch: 375, loss: 5.004422928323038e-05\n",
      "Epoch: 400, loss: 5.0040569476550445e-05\n",
      "Epoch: 425, loss: 5.0037815526593477e-05\n",
      "Epoch: 450, loss: 5.003586193197407e-05\n",
      "Epoch: 475, loss: 5.0034152081934735e-05\n",
      "Epoch: 500, loss: 5.003282421967015e-05\n",
      "Epoch: 525, loss: 5.003184560337104e-05\n",
      "Epoch: 550, loss: 5.003087062505074e-05\n",
      "Epoch: 575, loss: 5.003027763450518e-05\n",
      "Epoch: 600, loss: 5.0029597332468256e-05\n",
      "Epoch: 625, loss: 5.002918260288425e-05\n",
      "Epoch: 650, loss: 5.002880789106712e-05\n",
      "Epoch: 675, loss: 5.0028374971589074e-05\n",
      "Epoch: 700, loss: 5.002811303711496e-05\n",
      "Epoch: 725, loss: 5.002794569008984e-05\n",
      "Epoch: 750, loss: 5.0027658289764076e-05\n",
      "Epoch: 775, loss: 5.002754551242106e-05\n",
      "Epoch: 800, loss: 5.0027283577946946e-05\n",
      "Epoch: 825, loss: 5.002713805879466e-05\n",
      "Epoch: 850, loss: 5.002713078283705e-05\n",
      "EarlyStopping reached!\n",
      "Early stopping\n",
      "\n",
      "KL Divergence:0.0016348857898265123\n",
      "\n",
      "\n",
      "RMSE:0.00971582718193531\n",
      "\n",
      "\n",
      "Analyzing fold: 31\n",
      "\n",
      "Epoch: 0, loss: 0.0026926028076559305\n",
      "Epoch: 25, loss: 0.003137810854241252\n",
      "Epoch: 50, loss: 7.408708188449964e-05\n",
      "Epoch: 75, loss: 4.188206003163941e-05\n",
      "Epoch: 100, loss: 4.258298213244416e-05\n",
      "Epoch: 125, loss: 4.110057852813043e-05\n",
      "Epoch: 150, loss: 4.0861785237211734e-05\n",
      "Epoch: 175, loss: 4.06897124776151e-05\n",
      "Epoch: 200, loss: 4.0586310205981135e-05\n",
      "Epoch: 225, loss: 4.0525304939365014e-05\n",
      "Epoch: 250, loss: 4.048883783980273e-05\n",
      "Epoch: 275, loss: 4.046622052555904e-05\n",
      "Epoch: 300, loss: 4.045153400511481e-05\n",
      "Epoch: 325, loss: 4.0441620512865484e-05\n",
      "Epoch: 350, loss: 4.043474473292008e-05\n",
      "Epoch: 375, loss: 4.0429760701954365e-05\n",
      "Epoch: 400, loss: 4.0426159102935344e-05\n",
      "Epoch: 425, loss: 4.042345244670287e-05\n",
      "Epoch: 450, loss: 4.042130967718549e-05\n",
      "Epoch: 475, loss: 4.041969805257395e-05\n",
      "Epoch: 500, loss: 4.041848660563119e-05\n",
      "Epoch: 525, loss: 4.0417362470179796e-05\n",
      "Epoch: 550, loss: 4.041666761622764e-05\n",
      "Epoch: 575, loss: 4.041600550408475e-05\n",
      "Epoch: 600, loss: 4.041548527311534e-05\n",
      "Epoch: 625, loss: 4.0415074181510136e-05\n",
      "Epoch: 650, loss: 4.041467764182016e-05\n",
      "Epoch: 675, loss: 4.0414437535218894e-05\n",
      "Epoch: 700, loss: 4.0414175600744784e-05\n",
      "Epoch: 725, loss: 4.041395732201636e-05\n",
      "Epoch: 750, loss: 4.041379361297004e-05\n",
      "Epoch: 775, loss: 4.04136189899873e-05\n",
      "Epoch: 800, loss: 4.0413568058284e-05\n",
      "Epoch: 825, loss: 4.041352804051712e-05\n",
      "Epoch: 850, loss: 4.0413360693491995e-05\n",
      "Epoch: 875, loss: 4.041335341753438e-05\n",
      "Epoch: 900, loss: 4.041323336423375e-05\n",
      "Epoch: 925, loss: 4.041313150082715e-05\n",
      "EarlyStopping reached!\n",
      "Early stopping\n",
      "\n",
      "KL Divergence:0.0015370827168226242\n",
      "\n",
      "\n",
      "RMSE:0.009386232122778893\n",
      "\n",
      "\n",
      "Analyzing fold: 32\n",
      "\n",
      "Epoch: 0, loss: 0.0013142706593498588\n",
      "Epoch: 25, loss: 0.00016050627164077014\n",
      "Epoch: 50, loss: 4.234030348015949e-05\n",
      "Epoch: 75, loss: 3.362961069797166e-05\n",
      "Epoch: 100, loss: 3.1138381018536165e-05\n",
      "Epoch: 125, loss: 3.072629988309927e-05\n",
      "Epoch: 150, loss: 3.0666717066196725e-05\n",
      "Epoch: 175, loss: 3.065538112423383e-05\n",
      "Epoch: 200, loss: 3.065067357965745e-05\n",
      "Epoch: 225, loss: 3.064842530875467e-05\n",
      "Epoch: 250, loss: 3.064719567191787e-05\n",
      "Epoch: 275, loss: 3.064639895455912e-05\n",
      "Epoch: 300, loss: 3.0646078812424093e-05\n",
      "Epoch: 325, loss: 3.0645776860183105e-05\n",
      "Epoch: 350, loss: 3.064561678911559e-05\n",
      "Epoch: 375, loss: 3.064558040932752e-05\n",
      "EarlyStopping reached!\n",
      "Early stopping\n",
      "\n",
      "KL Divergence:0.00135462312027812\n",
      "\n",
      "\n",
      "RMSE:0.008770653046667576\n",
      "\n",
      "\n",
      "Analyzing fold: 33\n",
      "\n",
      "Epoch: 0, loss: 0.020458808168768883\n",
      "Epoch: 25, loss: 0.00468257674947381\n",
      "Epoch: 50, loss: 0.004684984218329191\n",
      "EarlyStopping reached!\n",
      "Early stopping\n",
      "\n",
      "KL Divergence:0.00948985293507576\n",
      "\n",
      "\n",
      "RMSE:0.021923331543803215\n",
      "\n",
      "\n",
      "Analyzing fold: 34\n",
      "\n",
      "Epoch: 0, loss: 0.007345897611230612\n",
      "Epoch: 25, loss: 0.004522294271737337\n",
      "Epoch: 50, loss: 0.004524727817624807\n",
      "EarlyStopping reached!\n",
      "Early stopping\n",
      "\n",
      "KL Divergence:0.010531873442232609\n",
      "\n",
      "\n",
      "RMSE:0.02269921265542507\n",
      "\n",
      "\n",
      "Analyzing fold: 35\n",
      "\n",
      "Epoch: 0, loss: 0.0054171159863471985\n",
      "Epoch: 25, loss: 0.004319285042583942\n",
      "Epoch: 50, loss: 0.0043212915770709515\n",
      "EarlyStopping reached!\n",
      "Early stopping\n",
      "\n",
      "KL Divergence:0.009906335733830929\n",
      "\n",
      "\n",
      "RMSE:0.021801207214593887\n",
      "\n",
      "\n",
      "Analyzing fold: 36\n",
      "\n",
      "Epoch: 0, loss: 0.030998162925243378\n",
      "Epoch: 25, loss: 0.004084483720362186\n",
      "Epoch: 50, loss: 0.004085321445018053\n",
      "EarlyStopping reached!\n",
      "Early stopping\n",
      "\n",
      "KL Divergence:0.00620563980191946\n",
      "\n",
      "\n",
      "RMSE:0.017455028370022774\n",
      "\n",
      "\n",
      "Analyzing fold: 37\n",
      "\n",
      "Epoch: 0, loss: 0.00158881105016917\n",
      "Epoch: 25, loss: 0.0037856062408536673\n",
      "Epoch: 50, loss: 0.003656923770904541\n",
      "EarlyStopping reached!\n",
      "Early stopping\n",
      "\n",
      "KL Divergence:0.003787857247516513\n",
      "\n",
      "\n",
      "RMSE:0.013826198875904083\n",
      "\n",
      "\n",
      "Analyzing fold: 38\n",
      "\n",
      "Epoch: 0, loss: 0.0018377617234364152\n",
      "Epoch: 25, loss: 0.0035230955109000206\n",
      "Epoch: 50, loss: 0.0035235590767115355\n",
      "EarlyStopping reached!\n",
      "Early stopping\n",
      "\n",
      "KL Divergence:0.00283277640119195\n",
      "\n",
      "\n",
      "RMSE:0.012014959938824177\n",
      "\n",
      "\n",
      "Analyzing fold: 39\n",
      "\n",
      "Epoch: 0, loss: 0.012062476947903633\n",
      "Epoch: 25, loss: 0.003222589148208499\n",
      "Epoch: 50, loss: 0.003222825238481164\n",
      "EarlyStopping reached!\n",
      "Early stopping\n",
      "\n",
      "KL Divergence:0.004057383164763451\n",
      "\n",
      "\n",
      "RMSE:0.013909507542848587\n",
      "\n",
      "\n",
      "Analyzing fold: 40\n",
      "\n",
      "Epoch: 0, loss: 0.0132049061357975\n",
      "Epoch: 25, loss: 0.0028995093889534473\n",
      "Epoch: 50, loss: 0.0028996188193559647\n",
      "EarlyStopping reached!\n",
      "Early stopping\n",
      "\n",
      "KL Divergence:0.0030093942768871784\n",
      "\n",
      "\n",
      "RMSE:0.011893517337739468\n",
      "\n",
      "\n",
      "Analyzing fold: 41\n",
      "\n",
      "Epoch: 0, loss: 0.010007625445723534\n",
      "Epoch: 25, loss: 0.002566973678767681\n",
      "Epoch: 50, loss: 0.0025670502800494432\n",
      "EarlyStopping reached!\n",
      "Early stopping\n",
      "\n",
      "KL Divergence:0.0028404882177710533\n",
      "\n",
      "\n",
      "RMSE:0.010521998628973961\n",
      "\n",
      "\n",
      "Analyzing fold: 42\n",
      "\n",
      "Epoch: 0, loss: 0.011623046360909939\n",
      "Epoch: 25, loss: 0.00223203981295228\n",
      "Epoch: 50, loss: 0.002232067286968231\n",
      "EarlyStopping reached!\n",
      "Early stopping\n",
      "\n",
      "KL Divergence:0.03782489150762558\n",
      "\n",
      "\n",
      "RMSE:0.009159626439213753\n",
      "\n",
      "\n",
      "Analyzing fold: 43\n",
      "\n",
      "Epoch: 0, loss: 0.004601109307259321\n",
      "Epoch: 25, loss: 0.0018970513483509421\n",
      "Epoch: 50, loss: 0.0018970328383147717\n",
      "EarlyStopping reached!\n",
      "Early stopping\n",
      "\n",
      "KL Divergence:0.06659174710512161\n",
      "\n",
      "\n",
      "RMSE:0.008502671495079994\n",
      "\n",
      "\n",
      "Analyzing fold: 44\n",
      "\n",
      "Epoch: 0, loss: 0.04356551915407181\n",
      "Epoch: 25, loss: 0.001562104094773531\n",
      "Epoch: 50, loss: 0.0015621284255757928\n",
      "EarlyStopping reached!\n",
      "Early stopping\n",
      "\n",
      "KL Divergence:0.14124873280525208\n",
      "\n",
      "\n",
      "RMSE:0.009540718048810959\n",
      "\n"
     ]
    }
   ],
   "source": [
    "divergences, rmses, losses = train_and_val_k_fold()"
   ]
  },
  {
   "cell_type": "code",
   "execution_count": 20,
   "id": "481b4ea5",
   "metadata": {},
   "outputs": [
    {
     "name": "stdout",
     "output_type": "stream",
     "text": [
      "Cross-validated KL Divergence: 0.013389595081098377\n",
      "Cross-validated RMSE: 0.012491533365100622\n"
     ]
    }
   ],
   "source": [
    "print(f'Cross-validated KL Divergence: {pd.Series(divergences.values()).mean()}')\n",
    "print(f'Cross-validated RMSE: {pd.Series(rmses).mean()}')"
   ]
  },
  {
   "cell_type": "code",
   "execution_count": 21,
   "id": "80055f6d",
   "metadata": {},
   "outputs": [],
   "source": [
    "import matplotlib.pyplot as plt\n",
    "%matplotlib inline\n",
    "\n",
    "best_fold_size = min(losses, key=losses.get)\n",
    "model = torch.load(f'{model_checkpoint_folder}/{enfermedad}_{best_fold_size}.pkl')\n",
    "torch.save(model, f'models/trained_models/{enfermedad}.pkl')\n",
    "\n",
    "y = torch.from_numpy(data_numpy.astype(np.float32))\n",
    "res = model(y, size_of_starter_set=best_fold_size, amount_of_prediction_in_future=len(y))\n"
   ]
  },
  {
   "cell_type": "code",
   "execution_count": 22,
   "id": "18edf790",
   "metadata": {},
   "outputs": [
    {
     "data": {
      "text/plain": [
       "32"
      ]
     },
     "execution_count": 22,
     "metadata": {},
     "output_type": "execute_result"
    }
   ],
   "source": [
    "best_fold_size"
   ]
  },
  {
   "cell_type": "code",
   "execution_count": 23,
   "id": "d8ebd9c5",
   "metadata": {},
   "outputs": [],
   "source": [
    "for i in range(len(y)):\n",
    "    file_to_rem = pathlib.Path(f'{model_checkpoint_folder}/{enfermedad}_{i}.pkl')\n",
    "    if os.path.isfile(file_to_rem):\n",
    "        file_to_rem.unlink()\n",
    "file_to_rem = pathlib.Path(f'checkpoint.pt')\n",
    "file_to_rem.unlink()"
   ]
  },
  {
   "cell_type": "code",
   "execution_count": 24,
   "id": "5dc82fb3",
   "metadata": {},
   "outputs": [
    {
     "data": {
      "text/plain": [
       "torch.Size([59, 4])"
      ]
     },
     "execution_count": 24,
     "metadata": {},
     "output_type": "execute_result"
    }
   ],
   "source": [
    "res.shape"
   ]
  },
  {
   "cell_type": "code",
   "execution_count": 25,
   "id": "292be11a",
   "metadata": {},
   "outputs": [],
   "source": [
    "import os\n",
    "os.makedirs(f'figures/{enfermedad}', exist_ok=True)"
   ]
  },
  {
   "cell_type": "code",
   "execution_count": 26,
   "id": "a2ccb063",
   "metadata": {},
   "outputs": [
    {
     "data": {
      "image/png": "[encoded data removed]",
      "text/plain": [
       "<Figure size 1080x360 with 2 Axes>"
      ]
     },
     "metadata": {
      "needs_background": "light"
     },
     "output_type": "display_data"
    }
   ],
   "source": [
    "fold_sizes = losses.keys()\n",
    "fig, ax = plt.subplots(nrows=1, ncols=2, figsize=(15, 5))\n",
    "\n",
    "ax[0].plot(fold_sizes, divergences.values(), color = 'r', linewidth=0, marker='.', label='divergences')\n",
    "ax[0].plot(fold_sizes, rmses, color = 'b', linewidth=0, marker='.', label='rmse')\n",
    "ax[1].set_yscale('log')\n",
    "ax[0].set_ylabel('Metrics')\n",
    "ax[0].set_xlabel('Fold Size')\n",
    "ax[0].set_title('Analisis de metricas')\n",
    "ax[0].legend()\n",
    "\n",
    "\n",
    "ax[1].plot(fold_sizes, losses.values(), color = 'g', linewidth=0, marker='.', label='losses')\n",
    "ax[1].set_ylabel('Loss')\n",
    "ax[1].set_yscale('log')\n",
    "ax[1].set_xlabel('Fold Size')\n",
    "ax[1].set_title('Analisis de Loss')\n",
    "ax[1].legend()\n",
    "\n",
    "plt.show()"
   ]
  },
  {
   "cell_type": "code",
   "execution_count": 27,
   "id": "d9bf2d81",
   "metadata": {},
   "outputs": [
    {
     "name": "stderr",
     "output_type": "stream",
     "text": [
      "/var/folders/g0/jqvp4xxs5pn4cds1xb9339xm0000gn/T/ipykernel_62205/700671155.py:11: MatplotlibDeprecationWarning: savefig() got unexpected keyword argument \"linewidth\" which is no longer supported as of 3.3 and will become an error two minor releases later\n",
      "  plt.savefig(f'figures/{enfermedad}/accumul_prediction.png', format='png', linewidth = 0.01)\n"
     ]
    },
    {
     "data": {
      "image/png": "[encoded data removed]",
      "text/plain": [
       "<Figure size 432x288 with 1 Axes>"
      ]
     },
     "metadata": {
      "needs_background": "light"
     },
     "output_type": "display_data"
    }
   ],
   "source": [
    "predicted_susceptible = res[:,0].detach().numpy()\n",
    "real_susceptible = y[:,0].detach().numpy()\n",
    "plt.plot(data.index, real_susceptible, color = 'r', linewidth=0, marker='.', label='real_sus')\n",
    "plt.plot(data.index[1:], predicted_susceptible, color = 'b', linewidth=0, marker='.', label='pred_sus')\n",
    "plt.ylim(0, 1)\n",
    "plt.xlim(0,len(y))\n",
    "plt.ylabel('Proportion')\n",
    "plt.xlabel('Generation')\n",
    "plt.title('Analisis de susceptibles predichos vs reales')\n",
    "plt.legend()\n",
    "plt.savefig(f'figures/{enfermedad}/accumul_prediction.png', format='png', linewidth = 0.01)"
   ]
  },
  {
   "cell_type": "code",
   "execution_count": 28,
   "id": "9a87fda1",
   "metadata": {},
   "outputs": [
    {
     "name": "stderr",
     "output_type": "stream",
     "text": [
      "/var/folders/g0/jqvp4xxs5pn4cds1xb9339xm0000gn/T/ipykernel_62205/2298925115.py:11: MatplotlibDeprecationWarning: savefig() got unexpected keyword argument \"linewidth\" which is no longer supported as of 3.3 and will become an error two minor releases later\n",
      "  plt.savefig(f'figures/{enfermedad}/accumul_prediction_vaccinated.png', format='png', linewidth = 0.01)\n"
     ]
    },
    {
     "data": {
      "image/png": "[encoded data removed]",
      "text/plain": [
       "<Figure size 432x288 with 1 Axes>"
      ]
     },
     "metadata": {
      "needs_background": "light"
     },
     "output_type": "display_data"
    }
   ],
   "source": [
    "predicted_vaccinated = res[:,3].detach().numpy()\n",
    "real_vaccinated = y[:,3].detach().numpy()\n",
    "plt.plot(data.index, real_vaccinated, color = 'r', linewidth=0, marker='.', label='real_vac')\n",
    "plt.plot(data.index[1:], predicted_vaccinated, color = 'b', linewidth=0, marker='.', label='pred_vac')\n",
    "plt.ylim(0, 1)\n",
    "plt.xlim(0,len(y))\n",
    "plt.ylabel('Proportion')\n",
    "plt.xlabel('Generation')\n",
    "plt.title('Analisis de vacunados predichos vs reales')\n",
    "plt.legend()\n",
    "plt.savefig(f'figures/{enfermedad}/accumul_prediction_vaccinated.png', format='png', linewidth = 0.01)"
   ]
  },
  {
   "cell_type": "markdown",
   "id": "a60316ad",
   "metadata": {},
   "source": [
    "Que pasa si le damos mas peso a fitear a los susceptibles?\n"
   ]
  },
  {
   "cell_type": "code",
   "execution_count": 29,
   "id": "133fb8d1",
   "metadata": {},
   "outputs": [
    {
     "name": "stderr",
     "output_type": "stream",
     "text": [
      "/var/folders/g0/jqvp4xxs5pn4cds1xb9339xm0000gn/T/ipykernel_62205/652839925.py:12: MatplotlibDeprecationWarning: savefig() got unexpected keyword argument \"linewidth\" which is no longer supported as of 3.3 and will become an error two minor releases later\n",
      "  plt.savefig(f'figures/{enfermedad}/accumul_infected.png', format='png', linewidth = 0.01)\n"
     ]
    },
    {
     "data": {
      "image/png": "[encoded data removed]",
      "text/plain": [
       "<Figure size 432x288 with 1 Axes>"
      ]
     },
     "metadata": {
      "needs_background": "light"
     },
     "output_type": "display_data"
    }
   ],
   "source": [
    "predicted_infected = res[:,1].detach().numpy()\n",
    "real_infected = y[:,1].detach().numpy()\n",
    "plt.plot(data.index, real_infected, color = 'r', linewidth=0, marker='.', label='real_inf')\n",
    "plt.plot(data.index[1:], predicted_infected, color = 'b', linewidth=0, marker='.', label='pred_inf')\n",
    "# plt.yscale('log')\n",
    "plt.xlim(0,len(y))\n",
    "plt.ylim(0,1)\n",
    "plt.ylabel('Proportion')\n",
    "plt.xlabel('Generation')\n",
    "plt.title('Analisis de infectados predichos vs reales')\n",
    "plt.legend()\n",
    "plt.savefig(f'figures/{enfermedad}/accumul_infected.png', format='png', linewidth = 0.01)"
   ]
  },
  {
   "cell_type": "code",
   "execution_count": 30,
   "id": "a4c78e78",
   "metadata": {},
   "outputs": [
    {
     "name": "stderr",
     "output_type": "stream",
     "text": [
      "/var/folders/g0/jqvp4xxs5pn4cds1xb9339xm0000gn/T/ipykernel_62205/2050763186.py:11: MatplotlibDeprecationWarning: savefig() got unexpected keyword argument \"linewidth\" which is no longer supported as of 3.3 and will become an error two minor releases later\n",
      "  plt.savefig(f'figures/{enfermedad}/accumul_prediction_rec.png', format='png', linewidth = 0.01)\n"
     ]
    },
    {
     "data": {
      "image/png": "[encoded data removed]",
      "text/plain": [
       "<Figure size 432x288 with 1 Axes>"
      ]
     },
     "metadata": {
      "needs_background": "light"
     },
     "output_type": "display_data"
    }
   ],
   "source": [
    "predicted_recov = res[:,2].detach().numpy()\n",
    "real_recov = y[:,2].detach().numpy()\n",
    "plt.plot(data.index, real_recov, color = 'r', linewidth=0, marker='.', label='real_rec')\n",
    "plt.plot(data.index[1:], predicted_recov, color = 'b', linewidth=0, marker='.', label='pred_rec')\n",
    "plt.yscale('log')\n",
    "plt.xlim(0,len(y))\n",
    "plt.ylabel('Proportion')\n",
    "plt.xlabel('Generation')\n",
    "plt.title('Analisis de recuperados predichos vs reales')\n",
    "plt.legend()\n",
    "plt.savefig(f'figures/{enfermedad}/accumul_prediction_rec.png', format='png', linewidth = 0.01)"
   ]
  },
  {
   "cell_type": "markdown",
   "id": "5d747f24",
   "metadata": {},
   "source": [
    "Testeemos los parametros"
   ]
  },
  {
   "cell_type": "code",
   "execution_count": 31,
   "id": "61711e68",
   "metadata": {},
   "outputs": [
    {
     "name": "stdout",
     "output_type": "stream",
     "text": [
      "[Parameter containing:\n",
      "tensor([[6.5018]], requires_grad=True), Parameter containing:\n",
      "tensor([[0.0231]], requires_grad=True), Parameter containing:\n",
      "tensor([[0.6818]], requires_grad=True)]\n"
     ]
    }
   ],
   "source": [
    "params = list(model.parameters())\n",
    "lambda1 = params[0].item()\n",
    "lambda2 = params[1].item()\n",
    "lambda3 = params[2].item()\n",
    "print(params)"
   ]
  },
  {
   "cell_type": "markdown",
   "id": "3b66fea9",
   "metadata": {},
   "source": [
    "Recordemos que estamos modelando:\n",
    "\n",
    "$$\\dfrac{ds}{dt} = -\\lambda_1 s i - \\lambda_2 s  $$\n",
    "\\\n",
    "$$\\dfrac{di}{dt} = \\lambda_1 s i - \\lambda_3 i  $$\n",
    "\n",
    "\\\n",
    "$$\\dfrac{dr}{dt} = \\lambda_3 i  $$\n",
    "\\\n",
    "$$\\dfrac{dv}{dt} = \\lambda_2 s  $$\n",
    "\n",
    "\n",
    "\n",
    "Entonces\n",
    "\n",
    "$$\\beta = \\lambda_1 = R_0 / d $$\n",
    "\n",
    "Con d la duración de la infeccion.\n",
    "\n",
    "$$ \\lambda_2 = \\eta $$ la tasa de inmunización y\n",
    "\n",
    "$$ \\lambda_3 = \\nu  = 1 / d $$\n",
    "\n",
    "Primero veamos la tasa de immunizacion"
   ]
  },
  {
   "cell_type": "code",
   "execution_count": 32,
   "id": "90eaeb4d",
   "metadata": {},
   "outputs": [],
   "source": [
    "tasa_immunizacion = (data.apply(lambda x: x.diff()).dropna().mean()/data['Vacunados'].max()).iloc[3]"
   ]
  },
  {
   "cell_type": "code",
   "execution_count": 33,
   "id": "fc002785",
   "metadata": {},
   "outputs": [
    {
     "data": {
      "text/plain": [
       "0.004104984633037711"
      ]
     },
     "execution_count": 33,
     "metadata": {},
     "output_type": "execute_result"
    }
   ],
   "source": [
    "tasa_immunizacion"
   ]
  },
  {
   "cell_type": "code",
   "execution_count": 34,
   "id": "812f4167",
   "metadata": {},
   "outputs": [
    {
     "data": {
      "text/latex": [
       "Deducimos que:\n",
       "$$ \\eta = \\lambda_2 = {0.02307} \\approx {0.00410} $$"
      ],
      "text/plain": [
       "<IPython.core.display.Latex object>"
      ]
     },
     "execution_count": 34,
     "metadata": {},
     "output_type": "execute_result"
    }
   ],
   "source": [
    "from IPython.display import Latex\n",
    "Latex(f\"\"\"Deducimos que:\n",
    "$$ \\eta = \\lambda_2 = {{{lambda2:.5f}}} \\\\approx {{{tasa_immunizacion:.5f}}} $$\"\"\")"
   ]
  },
  {
   "cell_type": "code",
   "execution_count": 35,
   "id": "27af972d",
   "metadata": {},
   "outputs": [
    {
     "data": {
      "text/latex": [
       "Deducimos que:\n",
       "$$ d = 1 / \\lambda_3 = 1 / {0.68} \\approx {1.47} $$\n",
       "$$ R_0 =  \\lambda_1 * d = {6.50} * d \\approx {9.54}$$"
      ],
      "text/plain": [
       "<IPython.core.display.Latex object>"
      ]
     },
     "execution_count": 35,
     "metadata": {},
     "output_type": "execute_result"
    }
   ],
   "source": [
    "Latex(f\"\"\"Deducimos que:\n",
    "$$ d = 1 / \\lambda_3 = 1 / {{{lambda3:.2f}}} \\\\approx {{{1/lambda3:.2f}}} $$\n",
    "$$ R_0 =  \\lambda_1 * d = {{{lambda1:.2f}}} * d \\\\approx {{{lambda1/lambda3:.2f}}}$$\"\"\")"
   ]
  },
  {
   "cell_type": "markdown",
   "id": "d4fd225a",
   "metadata": {},
   "source": [
    "Mientras que la literatura indica:\n",
    "\n",
    "$$ d = 17.5 $$\n",
    "$$ R_0 = 2.65 $$"
   ]
  },
  {
   "cell_type": "markdown",
   "id": "a0ca8030",
   "metadata": {},
   "source": [
    "## Validemos un test de momentos"
   ]
  },
  {
   "cell_type": "markdown",
   "id": "ea725fe4",
   "metadata": {},
   "source": [
    "#### Primer momento"
   ]
  },
  {
   "cell_type": "code",
   "execution_count": 36,
   "id": "61acae2d",
   "metadata": {},
   "outputs": [
    {
     "data": {
      "text/plain": [
       "Ttest_indResult(statistic=0.075863890886255, pvalue=0.9396602786709073)"
      ]
     },
     "execution_count": 36,
     "metadata": {},
     "output_type": "execute_result"
    }
   ],
   "source": [
    "import scipy\n",
    "\n",
    "scipy.stats.ttest_ind(real_susceptible, predicted_susceptible, equal_var=False)"
   ]
  },
  {
   "cell_type": "code",
   "execution_count": 37,
   "id": "461d8d26",
   "metadata": {},
   "outputs": [
    {
     "data": {
      "text/plain": [
       "Ttest_indResult(statistic=0.9828777645062206, pvalue=0.32769961056106156)"
      ]
     },
     "execution_count": 37,
     "metadata": {},
     "output_type": "execute_result"
    }
   ],
   "source": [
    "scipy.stats.ttest_ind(real_infected, predicted_infected, equal_var=False)"
   ]
  },
  {
   "cell_type": "code",
   "execution_count": 38,
   "id": "be7f5ae3",
   "metadata": {},
   "outputs": [
    {
     "data": {
      "text/plain": [
       "Ttest_indResult(statistic=1.3143971935831147, pvalue=0.19146727348730277)"
      ]
     },
     "execution_count": 38,
     "metadata": {},
     "output_type": "execute_result"
    }
   ],
   "source": [
    "scipy.stats.ttest_ind(real_recov, predicted_recov, equal_var=False)"
   ]
  },
  {
   "cell_type": "code",
   "execution_count": 39,
   "id": "1020a2e5",
   "metadata": {},
   "outputs": [
    {
     "data": {
      "text/plain": [
       "Ttest_indResult(statistic=-0.08204903030450336, pvalue=0.934751512014803)"
      ]
     },
     "execution_count": 39,
     "metadata": {},
     "output_type": "execute_result"
    }
   ],
   "source": [
    "scipy.stats.ttest_ind(real_vaccinated, predicted_vaccinated, equal_var=False)"
   ]
  },
  {
   "cell_type": "markdown",
   "id": "c3799d0e",
   "metadata": {},
   "source": [
    "#### Segundo momento"
   ]
  },
  {
   "cell_type": "code",
   "execution_count": 40,
   "id": "264555ea",
   "metadata": {},
   "outputs": [
    {
     "data": {
      "text/plain": [
       "BartlettResult(statistic=0.2143864459796158, pvalue=0.6433508630527554)"
      ]
     },
     "execution_count": 40,
     "metadata": {},
     "output_type": "execute_result"
    }
   ],
   "source": [
    "scipy.stats.bartlett(real_infected, predicted_infected)"
   ]
  },
  {
   "cell_type": "code",
   "execution_count": 41,
   "id": "a8d58a5a",
   "metadata": {},
   "outputs": [
    {
     "data": {
      "text/plain": [
       "BartlettResult(statistic=4.868882686964077, pvalue=0.02734519989526493)"
      ]
     },
     "execution_count": 41,
     "metadata": {},
     "output_type": "execute_result"
    }
   ],
   "source": [
    "scipy.stats.bartlett(real_recov, predicted_recov)"
   ]
  },
  {
   "cell_type": "markdown",
   "id": "f29f39a8",
   "metadata": {},
   "source": [
    "#### Test de bondad de ajuste de KS"
   ]
  },
  {
   "cell_type": "code",
   "execution_count": 42,
   "id": "8ab4f644",
   "metadata": {},
   "outputs": [
    {
     "data": {
      "text/plain": [
       "KstestResult(statistic=0.20790960451977403, pvalue=0.12919638485662055)"
      ]
     },
     "execution_count": 42,
     "metadata": {},
     "output_type": "execute_result"
    }
   ],
   "source": [
    "scipy.stats.kstest(real_susceptible, predicted_susceptible, method='asymp')"
   ]
  },
  {
   "cell_type": "code",
   "execution_count": 43,
   "id": "681bd62e",
   "metadata": {},
   "outputs": [
    {
     "data": {
      "text/plain": [
       "KstestResult(statistic=0.29322033898305083, pvalue=0.008836994258872966)"
      ]
     },
     "execution_count": 43,
     "metadata": {},
     "output_type": "execute_result"
    }
   ],
   "source": [
    "scipy.stats.kstest(real_infected, predicted_infected, method='asymp')"
   ]
  },
  {
   "cell_type": "code",
   "execution_count": 44,
   "id": "9e9078f7",
   "metadata": {},
   "outputs": [
    {
     "data": {
      "text/plain": [
       "KstestResult(statistic=0.4, pvalue=7.621035572702763e-05)"
      ]
     },
     "execution_count": 44,
     "metadata": {},
     "output_type": "execute_result"
    }
   ],
   "source": [
    "scipy.stats.kstest(real_recov, predicted_recov, method='asymp')"
   ]
  },
  {
   "cell_type": "code",
   "execution_count": 45,
   "id": "83a52f64",
   "metadata": {},
   "outputs": [
    {
     "data": {
      "text/plain": [
       "KstestResult(statistic=0.22485875706214686, pvalue=0.08173887663523505)"
      ]
     },
     "execution_count": 45,
     "metadata": {},
     "output_type": "execute_result"
    }
   ],
   "source": [
    "scipy.stats.kstest(real_vaccinated, predicted_vaccinated, method='asymp')"
   ]
  },
  {
   "cell_type": "markdown",
   "id": "cathedral-terminology",
   "metadata": {},
   "source": [
    "## Extrapolar"
   ]
  },
  {
   "cell_type": "code",
   "execution_count": 32,
   "id": "sunset-sustainability",
   "metadata": {},
   "outputs": [],
   "source": [
    "import sys\n",
    "import os\n",
    "sys.path.append('..')\n",
    "import numpy as np\n",
    "import pandas as pd\n",
    "from models import sir\n",
    "from config import get_project_root\n",
    "import torchmetrics\n",
    "from models.pytorchtools import EarlyStopping\n",
    "import pathlib\n",
    "import torch\n",
    "import torch.nn as nn\n",
    "import torch.nn.functional as F\n"
   ]
  },
  {
   "cell_type": "code",
   "execution_count": 47,
   "id": "bfdd20c4",
   "metadata": {},
   "outputs": [],
   "source": [
    "import matplotlib.pyplot as plt\n",
    "%matplotlib inline\n",
    "\n",
    "YEARS_TO_PREDICT = 5\n",
    "\n",
    "model = torch.load(f'models/trained_models/{enfermedad}.pkl')\n",
    "y = torch.from_numpy(data_numpy.astype(np.float32))\n",
    "res = model(y, size_of_starter_set=40, amount_of_prediction_in_future=len(y)+12*YEARS_TO_PREDICT)"
   ]
  },
  {
   "cell_type": "code",
   "execution_count": 48,
   "id": "e7f9bf17",
   "metadata": {},
   "outputs": [
    {
     "data": {
      "text/plain": [
       "119"
      ]
     },
     "execution_count": 48,
     "metadata": {},
     "output_type": "execute_result"
    }
   ],
   "source": [
    "res[:,0].shape[0]"
   ]
  },
  {
   "cell_type": "code",
   "execution_count": 49,
   "id": "8bb08e0d",
   "metadata": {},
   "outputs": [
    {
     "name": "stderr",
     "output_type": "stream",
     "text": [
      "/var/folders/g0/jqvp4xxs5pn4cds1xb9339xm0000gn/T/ipykernel_2383/2038456406.py:14: UserWarning: Attempted to set non-positive bottom ylim on a log-scaled axis.\n",
      "Invalid limit will be ignored.\n",
      "  plt.ylim(0, 1)\n",
      "/var/folders/g0/jqvp4xxs5pn4cds1xb9339xm0000gn/T/ipykernel_2383/2038456406.py:20: MatplotlibDeprecationWarning: savefig() got unexpected keyword argument \"linewidth\" which is no longer supported as of 3.3 and will become an error two minor releases later\n",
      "  plt.savefig(f'figures/{enfermedad}/extrapolation_{enfermedad}_log.png', format='png', linewidth = 0.01)\n"
     ]
    },
    {
     "data": {
      "image/png": "[encoded data removed]",
      "text/plain": [
       "<Figure size 1080x720 with 1 Axes>"
      ]
     },
     "metadata": {
      "needs_background": "light"
     },
     "output_type": "display_data"
    }
   ],
   "source": [
    "plt.figure(figsize=(15,10))\n",
    "predicted_susceptible = res[:,0].detach().numpy()\n",
    "predicted_infectous = res[:,1].detach().numpy()\n",
    "predicted_recovered = res[:,2].detach().numpy()\n",
    "predicted_vaccinated = res[:,3].detach().numpy()\n",
    "\n",
    "plt.plot(range(res[:,0].shape[0]), predicted_susceptible, color = 'r', linewidth=0, marker='.', label='sus')\n",
    "plt.plot(range(res[:,0].shape[0]), predicted_infectous, color = 'b', linewidth=0, marker='o', label='inf')\n",
    "plt.plot(range(res[:,0].shape[0]), predicted_recovered, color = 'y', linewidth=0, marker='v', label='rec')\n",
    "plt.plot(range(res[:,0].shape[0]), predicted_vaccinated, color = 'g', linewidth=0, marker='x', label='vac')\n",
    "\n",
    "plt.yscale('log')\n",
    "\n",
    "plt.ylim(0, 1)\n",
    "plt.xlim(0,len(res[:,0]))\n",
    "plt.ylabel('log-Proportion')\n",
    "plt.xlabel('Generation')\n",
    "plt.title('Extrapolacion del modelo')\n",
    "plt.legend()\n",
    "plt.savefig(f'figures/{enfermedad}/extrapolation_{enfermedad}_log.png', format='png', linewidth = 0.01)"
   ]
  },
  {
   "cell_type": "code",
   "execution_count": 50,
   "id": "generous-graduate",
   "metadata": {},
   "outputs": [
    {
     "name": "stderr",
     "output_type": "stream",
     "text": [
      "/var/folders/g0/jqvp4xxs5pn4cds1xb9339xm0000gn/T/ipykernel_2383/1912378081.py:20: MatplotlibDeprecationWarning: savefig() got unexpected keyword argument \"linewidth\" which is no longer supported as of 3.3 and will become an error two minor releases later\n",
      "  plt.savefig(f'figures/{enfermedad}/extrapolation_{enfermedad}_vac_suc.png', format='png', linewidth = 0.01)\n"
     ]
    },
    {
     "data": {
      "image/png": "[encoded data removed]",
      "text/plain": [
       "<Figure size 1080x720 with 1 Axes>"
      ]
     },
     "metadata": {
      "needs_background": "light"
     },
     "output_type": "display_data"
    }
   ],
   "source": [
    "plt.figure(figsize=(15,10))\n",
    "predicted_susceptible = res[:,0].detach().numpy()\n",
    "# predicted_infectous = res[:,1].detach().numpy()\n",
    "# predicted_recovered = res[:,2].detach().numpy()\n",
    "predicted_vaccinated = res[:,3].detach().numpy()\n",
    "\n",
    "plt.plot(range(res[:,0].shape[0]), predicted_susceptible, color = 'r', linewidth=0, marker='.', label='sus')\n",
    "# plt.plot(range(res[:,0].shape[0]), predicted_infectous, color = 'b', linewidth=0, marker='o', label='inf')\n",
    "# plt.plot(range(res[:,0].shape[0]), predicted_recovered, color = 'y', linewidth=0, marker='v', label='rec')\n",
    "plt.plot(range(res[:,0].shape[0]), predicted_vaccinated, color = 'g', linewidth=0, marker='x', label='vac')\n",
    "\n",
    "# plt.yscale('log')\n",
    "\n",
    "plt.ylim(0, 1)\n",
    "plt.xlim(0,len(res[:,0]))\n",
    "plt.ylabel('Proportion')\n",
    "plt.xlabel('Generation')\n",
    "plt.title('Extrapolacion del modelo')\n",
    "plt.legend()\n",
    "plt.savefig(f'figures/{enfermedad}/extrapolation_{enfermedad}_vac_suc.png', format='png', linewidth = 0.01)"
   ]
  },
  {
   "cell_type": "code",
   "execution_count": 51,
   "id": "running-polls",
   "metadata": {},
   "outputs": [
    {
     "name": "stderr",
     "output_type": "stream",
     "text": [
      "/var/folders/g0/jqvp4xxs5pn4cds1xb9339xm0000gn/T/ipykernel_2383/2545713931.py:19: MatplotlibDeprecationWarning: savefig() got unexpected keyword argument \"linewidth\" which is no longer supported as of 3.3 and will become an error two minor releases later\n",
      "  plt.savefig(f'figures/{enfermedad}/extrapolation_{enfermedad}_inf_rec.png', format='png', linewidth = 0.01)\n"
     ]
    },
    {
     "data": {
      "image/png": "[encoded data removed]",
      "text/plain": [
       "<Figure size 1080x720 with 1 Axes>"
      ]
     },
     "metadata": {
      "needs_background": "light"
     },
     "output_type": "display_data"
    }
   ],
   "source": [
    "plt.figure(figsize=(15,10))\n",
    "# predicted_susceptible = res[:,0].detach().numpy()\n",
    "predicted_infectous = res[:,1].detach().numpy()\n",
    "predicted_recovered = res[:,2].detach().numpy()\n",
    "# predicted_vaccinated = res[:,3].detach().numpy()\n",
    "\n",
    "# plt.plot(range(res[:,0].shape[0]), predicted_susceptible, color = 'r', linewidth=0, marker='.', label='sus')\n",
    "plt.plot(range(res[:,0].shape[0]), predicted_infectous, color = 'b', linewidth=0, marker='o', label='inf')\n",
    "plt.plot(range(res[:,0].shape[0]), predicted_recovered, color = 'y', linewidth=0, marker='v', label='rec')\n",
    "# plt.plot(range(res[:,0].shape[0]), predicted_vaccinated, color = 'g', linewidth=0, marker='x', label='vac')\n",
    "\n",
    "# plt.yscale('log')\n",
    "\n",
    "plt.xlim(0,len(res[:,0]))\n",
    "plt.ylabel('Proportion')\n",
    "plt.xlabel('Generation')\n",
    "plt.title('Extrapolacion del modelo')\n",
    "plt.legend()\n",
    "plt.savefig(f'figures/{enfermedad}/extrapolation_{enfermedad}_inf_rec.png', format='png', linewidth = 0.01)"
   ]
  },
  {
   "cell_type": "code",
   "execution_count": null,
   "id": "specific-church",
   "metadata": {},
   "outputs": [],
   "source": []
  },
  {
   "cell_type": "code",
   "execution_count": null,
   "id": "terminal-watson",
   "metadata": {},
   "outputs": [],
   "source": []
  },
  {
   "cell_type": "code",
   "execution_count": null,
   "id": "critical-guatemala",
   "metadata": {},
   "outputs": [],
   "source": []
  }
 ],
 "metadata": {
  "kernelspec": {
   "display_name": "simuladores",
   "language": "python",
   "name": "simuladores"
  },
  "language_info": {
   "codemirror_mode": {
    "name": "ipython",
    "version": 3
   },
   "file_extension": ".py",
   "mimetype": "text/x-python",
   "name": "python",
   "nbconvert_exporter": "python",
   "pygments_lexer": "ipython3",
   "version": "3.9.1"
  }
 },
 "nbformat": 4,
 "nbformat_minor": 5
}
