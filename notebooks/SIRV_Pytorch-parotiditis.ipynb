{
 "cells": [
  {
   "cell_type": "code",
   "execution_count": 1,
   "id": "80dc7077",
   "metadata": {},
   "outputs": [],
   "source": [
    "import sys\n",
    "import os\n",
    "sys.path.append('..')\n",
    "import numpy as np\n",
    "import pandas as pd\n",
    "from models import sir\n",
    "from config import get_project_root\n",
    "import torchmetrics\n",
    "from models.pytorchtools import EarlyStopping\n",
    "import pathlib"
   ]
  },
  {
   "cell_type": "code",
   "execution_count": 2,
   "id": "0bcfc515",
   "metadata": {},
   "outputs": [],
   "source": [
    "enfermedad='parotiditis'\n",
    "DATA_FOLDER = f'{get_project_root()}/data'\n",
    "INFECTADOS_PATH = f'{DATA_FOLDER}/extrapolated/infectados_{enfermedad}_extrapolado.csv'\n",
    "HABITANTES_PATH = f'{DATA_FOLDER}/extrapolated/habitantes_{enfermedad}_extrapolado.csv'\n",
    "VACUNADOS_PATH = f'{DATA_FOLDER}/extrapolated/vacunados_{enfermedad}_extrapolado.csv'\n",
    "FINAL_PATH=f'{DATA_FOLDER}/final/{enfermedad}_extrapolado.csv'\n",
    "YEARS = [2018, 2019, 2020, 2021, 2022]\n",
    "MONTHS = ['ENE', 'FEB', 'MAR', 'ABR', 'MAY', 'JUN', 'JUL', 'AGOS', 'SEP', 'OCT', 'NOV', 'DIC']\n"
   ]
  },
  {
   "cell_type": "code",
   "execution_count": 3,
   "id": "9b58ccf0",
   "metadata": {},
   "outputs": [
    {
     "data": {
      "text/plain": [
       "11101945"
      ]
     },
     "execution_count": 3,
     "metadata": {},
     "output_type": "execute_result"
    }
   ],
   "source": [
    "habitantes_curve = pd.read_csv(HABITANTES_PATH).set_index('ANO')\n",
    "for month in MONTHS:\n",
    "    habitantes_curve[month] = habitantes_curve['JUL']\n",
    "max_habs = habitantes_curve.max().max()\n",
    "max_habs"
   ]
  },
  {
   "cell_type": "code",
   "execution_count": 4,
   "id": "261f888d",
   "metadata": {},
   "outputs": [],
   "source": [
    "def extract_curve(path=None, df=None):\n",
    "    if df is None:\n",
    "        df = pd.read_csv(path).set_index('ANO')\n",
    "    df = df[df.columns[:12]].T\n",
    "    values = []\n",
    "    for year in YEARS:\n",
    "        values.extend(df[year].tolist())\n",
    "    return pd.Series(values)\n",
    "\n",
    "infectuous_curve = extract_curve(path=INFECTADOS_PATH)  \n",
    "vacunados_curve = extract_curve(path=VACUNADOS_PATH)\n",
    "recovered_curve = pd.Series([0]*len(infectuous_curve))\n",
    "max_habs = max([habitantes_curve.max().max(), vacunados_curve.max().max()])"
   ]
  },
  {
   "cell_type": "code",
   "execution_count": 5,
   "id": "418a99c1",
   "metadata": {},
   "outputs": [
    {
     "data": {
      "text/html": [
       "<div>\n",
       "<style scoped>\n",
       "    .dataframe tbody tr th:only-of-type {\n",
       "        vertical-align: middle;\n",
       "    }\n",
       "\n",
       "    .dataframe tbody tr th {\n",
       "        vertical-align: top;\n",
       "    }\n",
       "\n",
       "    .dataframe thead th {\n",
       "        text-align: right;\n",
       "    }\n",
       "</style>\n",
       "<table border=\"1\" class=\"dataframe\">\n",
       "  <thead>\n",
       "    <tr style=\"text-align: right;\">\n",
       "      <th></th>\n",
       "      <th>ENE</th>\n",
       "      <th>FEB</th>\n",
       "      <th>MAR</th>\n",
       "      <th>ABR</th>\n",
       "      <th>MAY</th>\n",
       "      <th>JUN</th>\n",
       "      <th>JUL</th>\n",
       "      <th>AGOS</th>\n",
       "      <th>SEP</th>\n",
       "      <th>OCT</th>\n",
       "      <th>NOV</th>\n",
       "      <th>DIC</th>\n",
       "    </tr>\n",
       "    <tr>\n",
       "      <th>ANO</th>\n",
       "      <th></th>\n",
       "      <th></th>\n",
       "      <th></th>\n",
       "      <th></th>\n",
       "      <th></th>\n",
       "      <th></th>\n",
       "      <th></th>\n",
       "      <th></th>\n",
       "      <th></th>\n",
       "      <th></th>\n",
       "      <th></th>\n",
       "      <th></th>\n",
       "    </tr>\n",
       "  </thead>\n",
       "  <tbody>\n",
       "    <tr>\n",
       "      <th>2018</th>\n",
       "      <td>10973470</td>\n",
       "      <td>10973470</td>\n",
       "      <td>10973470</td>\n",
       "      <td>10973470</td>\n",
       "      <td>10973470</td>\n",
       "      <td>10973470</td>\n",
       "      <td>10973470</td>\n",
       "      <td>10973470</td>\n",
       "      <td>10973470</td>\n",
       "      <td>10973470</td>\n",
       "      <td>10973470</td>\n",
       "      <td>10973470</td>\n",
       "    </tr>\n",
       "    <tr>\n",
       "      <th>2019</th>\n",
       "      <td>11012606</td>\n",
       "      <td>11012606</td>\n",
       "      <td>11012606</td>\n",
       "      <td>11012606</td>\n",
       "      <td>11012606</td>\n",
       "      <td>11012606</td>\n",
       "      <td>11012606</td>\n",
       "      <td>11012606</td>\n",
       "      <td>11012606</td>\n",
       "      <td>11012606</td>\n",
       "      <td>11012606</td>\n",
       "      <td>11012606</td>\n",
       "    </tr>\n",
       "    <tr>\n",
       "      <th>2020</th>\n",
       "      <td>11047665</td>\n",
       "      <td>11047665</td>\n",
       "      <td>11047665</td>\n",
       "      <td>11047665</td>\n",
       "      <td>11047665</td>\n",
       "      <td>11047665</td>\n",
       "      <td>11047665</td>\n",
       "      <td>11047665</td>\n",
       "      <td>11047665</td>\n",
       "      <td>11047665</td>\n",
       "      <td>11047665</td>\n",
       "      <td>11047665</td>\n",
       "    </tr>\n",
       "    <tr>\n",
       "      <th>2021</th>\n",
       "      <td>11077856</td>\n",
       "      <td>11077856</td>\n",
       "      <td>11077856</td>\n",
       "      <td>11077856</td>\n",
       "      <td>11077856</td>\n",
       "      <td>11077856</td>\n",
       "      <td>11077856</td>\n",
       "      <td>11077856</td>\n",
       "      <td>11077856</td>\n",
       "      <td>11077856</td>\n",
       "      <td>11077856</td>\n",
       "      <td>11077856</td>\n",
       "    </tr>\n",
       "    <tr>\n",
       "      <th>2022</th>\n",
       "      <td>11101945</td>\n",
       "      <td>11101945</td>\n",
       "      <td>11101945</td>\n",
       "      <td>11101945</td>\n",
       "      <td>11101945</td>\n",
       "      <td>11101945</td>\n",
       "      <td>11101945</td>\n",
       "      <td>11101945</td>\n",
       "      <td>11101945</td>\n",
       "      <td>11101945</td>\n",
       "      <td>11101945</td>\n",
       "      <td>11101945</td>\n",
       "    </tr>\n",
       "  </tbody>\n",
       "</table>\n",
       "</div>"
      ],
      "text/plain": [
       "           ENE       FEB       MAR       ABR       MAY       JUN       JUL  \\\n",
       "ANO                                                                          \n",
       "2018  10973470  10973470  10973470  10973470  10973470  10973470  10973470   \n",
       "2019  11012606  11012606  11012606  11012606  11012606  11012606  11012606   \n",
       "2020  11047665  11047665  11047665  11047665  11047665  11047665  11047665   \n",
       "2021  11077856  11077856  11077856  11077856  11077856  11077856  11077856   \n",
       "2022  11101945  11101945  11101945  11101945  11101945  11101945  11101945   \n",
       "\n",
       "          AGOS       SEP       OCT       NOV       DIC  \n",
       "ANO                                                     \n",
       "2018  10973470  10973470  10973470  10973470  10973470  \n",
       "2019  11012606  11012606  11012606  11012606  11012606  \n",
       "2020  11047665  11047665  11047665  11047665  11047665  \n",
       "2021  11077856  11077856  11077856  11077856  11077856  \n",
       "2022  11101945  11101945  11101945  11101945  11101945  "
      ]
     },
     "execution_count": 5,
     "metadata": {},
     "output_type": "execute_result"
    }
   ],
   "source": [
    "habitantes_curve"
   ]
  },
  {
   "cell_type": "code",
   "execution_count": 6,
   "id": "f5c8c6cb",
   "metadata": {},
   "outputs": [],
   "source": [
    "for ix, val in enumerate(infectuous_curve):\n",
    "    try:\n",
    "        recovered_curve[ix+1] += val\n",
    "    except KeyError:\n",
    "        continue"
   ]
  },
  {
   "cell_type": "code",
   "execution_count": 7,
   "id": "6be172d1",
   "metadata": {},
   "outputs": [
    {
     "data": {
      "text/plain": [
       "11101945"
      ]
     },
     "execution_count": 7,
     "metadata": {},
     "output_type": "execute_result"
    }
   ],
   "source": [
    "max_habs"
   ]
  },
  {
   "cell_type": "code",
   "execution_count": null,
   "id": "f056e12f",
   "metadata": {},
   "outputs": [],
   "source": []
  },
  {
   "cell_type": "code",
   "execution_count": 8,
   "id": "3848039b",
   "metadata": {},
   "outputs": [],
   "source": [
    "susceptible_curve = max_habs - infectuous_curve - vacunados_curve - recovered_curve\n",
    "susceptible_curve[susceptible_curve<0] = 0\n",
    "\n"
   ]
  },
  {
   "cell_type": "code",
   "execution_count": 9,
   "id": "b781eec1",
   "metadata": {},
   "outputs": [],
   "source": [
    "data = pd.concat([susceptible_curve, infectuous_curve, recovered_curve, vacunados_curve], axis=1).rename(columns={0:'Susceptible', 1:'Infectados', 2:'Recuperados', 3:'Vacunados'})\n",
    "infectados_real = data.diff()['Infectados']\n",
    "infectados_real.loc[0] = 0\n",
    "infectados_real\n",
    "data['Infectados'] = infectados_real"
   ]
  },
  {
   "cell_type": "code",
   "execution_count": 10,
   "id": "62d1c4f9",
   "metadata": {},
   "outputs": [
    {
     "data": {
      "text/html": [
       "<div>\n",
       "<style scoped>\n",
       "    .dataframe tbody tr th:only-of-type {\n",
       "        vertical-align: middle;\n",
       "    }\n",
       "\n",
       "    .dataframe tbody tr th {\n",
       "        vertical-align: top;\n",
       "    }\n",
       "\n",
       "    .dataframe thead th {\n",
       "        text-align: right;\n",
       "    }\n",
       "</style>\n",
       "<table border=\"1\" class=\"dataframe\">\n",
       "  <thead>\n",
       "    <tr style=\"text-align: right;\">\n",
       "      <th></th>\n",
       "      <th>Susceptible</th>\n",
       "      <th>Infectados</th>\n",
       "      <th>Recuperados</th>\n",
       "      <th>Vacunados</th>\n",
       "    </tr>\n",
       "  </thead>\n",
       "  <tbody>\n",
       "    <tr>\n",
       "      <th>0</th>\n",
       "      <td>11054236.0</td>\n",
       "      <td>0.0</td>\n",
       "      <td>0</td>\n",
       "      <td>47709.0</td>\n",
       "    </tr>\n",
       "    <tr>\n",
       "      <th>1</th>\n",
       "      <td>10796649.0</td>\n",
       "      <td>0.0</td>\n",
       "      <td>0</td>\n",
       "      <td>305296.0</td>\n",
       "    </tr>\n",
       "    <tr>\n",
       "      <th>2</th>\n",
       "      <td>10018775.0</td>\n",
       "      <td>0.0</td>\n",
       "      <td>0</td>\n",
       "      <td>1083170.0</td>\n",
       "    </tr>\n",
       "    <tr>\n",
       "      <th>3</th>\n",
       "      <td>9966599.0</td>\n",
       "      <td>0.0</td>\n",
       "      <td>0</td>\n",
       "      <td>1135346.0</td>\n",
       "    </tr>\n",
       "    <tr>\n",
       "      <th>4</th>\n",
       "      <td>9900497.0</td>\n",
       "      <td>160.0</td>\n",
       "      <td>0</td>\n",
       "      <td>1201288.0</td>\n",
       "    </tr>\n",
       "    <tr>\n",
       "      <th>5</th>\n",
       "      <td>9855222.0</td>\n",
       "      <td>7.0</td>\n",
       "      <td>160</td>\n",
       "      <td>1246396.0</td>\n",
       "    </tr>\n",
       "    <tr>\n",
       "      <th>6</th>\n",
       "      <td>9810651.0</td>\n",
       "      <td>20.0</td>\n",
       "      <td>167</td>\n",
       "      <td>1290940.0</td>\n",
       "    </tr>\n",
       "    <tr>\n",
       "      <th>7</th>\n",
       "      <td>9752041.0</td>\n",
       "      <td>16.0</td>\n",
       "      <td>187</td>\n",
       "      <td>1349514.0</td>\n",
       "    </tr>\n",
       "    <tr>\n",
       "      <th>8</th>\n",
       "      <td>9675443.0</td>\n",
       "      <td>27.0</td>\n",
       "      <td>203</td>\n",
       "      <td>1426069.0</td>\n",
       "    </tr>\n",
       "    <tr>\n",
       "      <th>9</th>\n",
       "      <td>9606218.0</td>\n",
       "      <td>16.0</td>\n",
       "      <td>230</td>\n",
       "      <td>1495251.0</td>\n",
       "    </tr>\n",
       "    <tr>\n",
       "      <th>10</th>\n",
       "      <td>9550836.0</td>\n",
       "      <td>19.0</td>\n",
       "      <td>246</td>\n",
       "      <td>1550598.0</td>\n",
       "    </tr>\n",
       "    <tr>\n",
       "      <th>11</th>\n",
       "      <td>9503214.0</td>\n",
       "      <td>161.0</td>\n",
       "      <td>265</td>\n",
       "      <td>1598040.0</td>\n",
       "    </tr>\n",
       "    <tr>\n",
       "      <th>12</th>\n",
       "      <td>9451741.0</td>\n",
       "      <td>0.0</td>\n",
       "      <td>426</td>\n",
       "      <td>1649352.0</td>\n",
       "    </tr>\n",
       "    <tr>\n",
       "      <th>13</th>\n",
       "      <td>9386522.0</td>\n",
       "      <td>187.0</td>\n",
       "      <td>426</td>\n",
       "      <td>1714384.0</td>\n",
       "    </tr>\n",
       "    <tr>\n",
       "      <th>14</th>\n",
       "      <td>9320172.0</td>\n",
       "      <td>5.0</td>\n",
       "      <td>613</td>\n",
       "      <td>1780542.0</td>\n",
       "    </tr>\n",
       "    <tr>\n",
       "      <th>15</th>\n",
       "      <td>9261350.0</td>\n",
       "      <td>7.0</td>\n",
       "      <td>618</td>\n",
       "      <td>1839352.0</td>\n",
       "    </tr>\n",
       "    <tr>\n",
       "      <th>16</th>\n",
       "      <td>9201503.0</td>\n",
       "      <td>12.0</td>\n",
       "      <td>625</td>\n",
       "      <td>1899180.0</td>\n",
       "    </tr>\n",
       "    <tr>\n",
       "      <th>17</th>\n",
       "      <td>9155004.0</td>\n",
       "      <td>12.0</td>\n",
       "      <td>637</td>\n",
       "      <td>1945655.0</td>\n",
       "    </tr>\n",
       "    <tr>\n",
       "      <th>18</th>\n",
       "      <td>9103684.0</td>\n",
       "      <td>6.0</td>\n",
       "      <td>649</td>\n",
       "      <td>1996957.0</td>\n",
       "    </tr>\n",
       "    <tr>\n",
       "      <th>19</th>\n",
       "      <td>9050829.0</td>\n",
       "      <td>0.0</td>\n",
       "      <td>655</td>\n",
       "      <td>2049806.0</td>\n",
       "    </tr>\n",
       "    <tr>\n",
       "      <th>20</th>\n",
       "      <td>8977505.0</td>\n",
       "      <td>21.0</td>\n",
       "      <td>655</td>\n",
       "      <td>2123109.0</td>\n",
       "    </tr>\n",
       "    <tr>\n",
       "      <th>21</th>\n",
       "      <td>8833571.0</td>\n",
       "      <td>11.0</td>\n",
       "      <td>676</td>\n",
       "      <td>2267011.0</td>\n",
       "    </tr>\n",
       "    <tr>\n",
       "      <th>22</th>\n",
       "      <td>8734982.0</td>\n",
       "      <td>10.0</td>\n",
       "      <td>687</td>\n",
       "      <td>2365579.0</td>\n",
       "    </tr>\n",
       "    <tr>\n",
       "      <th>23</th>\n",
       "      <td>8654625.0</td>\n",
       "      <td>194.0</td>\n",
       "      <td>697</td>\n",
       "      <td>2445732.0</td>\n",
       "    </tr>\n",
       "    <tr>\n",
       "      <th>24</th>\n",
       "      <td>8639901.0</td>\n",
       "      <td>110.0</td>\n",
       "      <td>891</td>\n",
       "      <td>2460152.0</td>\n",
       "    </tr>\n",
       "    <tr>\n",
       "      <th>25</th>\n",
       "      <td>8627427.0</td>\n",
       "      <td>21.0</td>\n",
       "      <td>1001</td>\n",
       "      <td>2472495.0</td>\n",
       "    </tr>\n",
       "    <tr>\n",
       "      <th>26</th>\n",
       "      <td>8615248.0</td>\n",
       "      <td>20.0</td>\n",
       "      <td>1022</td>\n",
       "      <td>2484633.0</td>\n",
       "    </tr>\n",
       "    <tr>\n",
       "      <th>27</th>\n",
       "      <td>8602610.0</td>\n",
       "      <td>1.0</td>\n",
       "      <td>1042</td>\n",
       "      <td>2497250.0</td>\n",
       "    </tr>\n",
       "    <tr>\n",
       "      <th>28</th>\n",
       "      <td>8590106.0</td>\n",
       "      <td>5.0</td>\n",
       "      <td>1043</td>\n",
       "      <td>2509748.0</td>\n",
       "    </tr>\n",
       "    <tr>\n",
       "      <th>29</th>\n",
       "      <td>8578408.0</td>\n",
       "      <td>2.0</td>\n",
       "      <td>1048</td>\n",
       "      <td>2521439.0</td>\n",
       "    </tr>\n",
       "    <tr>\n",
       "      <th>30</th>\n",
       "      <td>8568463.0</td>\n",
       "      <td>0.0</td>\n",
       "      <td>1050</td>\n",
       "      <td>2531382.0</td>\n",
       "    </tr>\n",
       "    <tr>\n",
       "      <th>31</th>\n",
       "      <td>8562764.0</td>\n",
       "      <td>2.0</td>\n",
       "      <td>1050</td>\n",
       "      <td>2537079.0</td>\n",
       "    </tr>\n",
       "    <tr>\n",
       "      <th>32</th>\n",
       "      <td>8562340.0</td>\n",
       "      <td>0.0</td>\n",
       "      <td>1052</td>\n",
       "      <td>2537501.0</td>\n",
       "    </tr>\n",
       "    <tr>\n",
       "      <th>33</th>\n",
       "      <td>8562331.0</td>\n",
       "      <td>0.0</td>\n",
       "      <td>1052</td>\n",
       "      <td>2537510.0</td>\n",
       "    </tr>\n",
       "    <tr>\n",
       "      <th>34</th>\n",
       "      <td>8562323.0</td>\n",
       "      <td>0.0</td>\n",
       "      <td>1052</td>\n",
       "      <td>2537518.0</td>\n",
       "    </tr>\n",
       "    <tr>\n",
       "      <th>35</th>\n",
       "      <td>8562216.0</td>\n",
       "      <td>102.0</td>\n",
       "      <td>1052</td>\n",
       "      <td>2537523.0</td>\n",
       "    </tr>\n",
       "    <tr>\n",
       "      <th>36</th>\n",
       "      <td>8562064.0</td>\n",
       "      <td>48.0</td>\n",
       "      <td>1154</td>\n",
       "      <td>2537525.0</td>\n",
       "    </tr>\n",
       "    <tr>\n",
       "      <th>37</th>\n",
       "      <td>8562011.0</td>\n",
       "      <td>0.0</td>\n",
       "      <td>1202</td>\n",
       "      <td>2537530.0</td>\n",
       "    </tr>\n",
       "    <tr>\n",
       "      <th>38</th>\n",
       "      <td>8562006.0</td>\n",
       "      <td>3.0</td>\n",
       "      <td>1202</td>\n",
       "      <td>2537532.0</td>\n",
       "    </tr>\n",
       "    <tr>\n",
       "      <th>39</th>\n",
       "      <td>8561995.0</td>\n",
       "      <td>0.0</td>\n",
       "      <td>1205</td>\n",
       "      <td>2537540.0</td>\n",
       "    </tr>\n",
       "    <tr>\n",
       "      <th>40</th>\n",
       "      <td>8561991.0</td>\n",
       "      <td>3.0</td>\n",
       "      <td>1205</td>\n",
       "      <td>2537541.0</td>\n",
       "    </tr>\n",
       "    <tr>\n",
       "      <th>41</th>\n",
       "      <td>8561980.0</td>\n",
       "      <td>4.0</td>\n",
       "      <td>1208</td>\n",
       "      <td>2537545.0</td>\n",
       "    </tr>\n",
       "    <tr>\n",
       "      <th>42</th>\n",
       "      <td>8561975.0</td>\n",
       "      <td>0.0</td>\n",
       "      <td>1212</td>\n",
       "      <td>2537546.0</td>\n",
       "    </tr>\n",
       "    <tr>\n",
       "      <th>43</th>\n",
       "      <td>8561964.0</td>\n",
       "      <td>5.0</td>\n",
       "      <td>1212</td>\n",
       "      <td>2537552.0</td>\n",
       "    </tr>\n",
       "    <tr>\n",
       "      <th>44</th>\n",
       "      <td>8510901.0</td>\n",
       "      <td>4.0</td>\n",
       "      <td>1217</td>\n",
       "      <td>2588606.0</td>\n",
       "    </tr>\n",
       "    <tr>\n",
       "      <th>45</th>\n",
       "      <td>8453064.0</td>\n",
       "      <td>12.0</td>\n",
       "      <td>1221</td>\n",
       "      <td>2646427.0</td>\n",
       "    </tr>\n",
       "    <tr>\n",
       "      <th>46</th>\n",
       "      <td>8376175.0</td>\n",
       "      <td>5.0</td>\n",
       "      <td>1233</td>\n",
       "      <td>2723299.0</td>\n",
       "    </tr>\n",
       "    <tr>\n",
       "      <th>47</th>\n",
       "      <td>8332178.0</td>\n",
       "      <td>60.0</td>\n",
       "      <td>1238</td>\n",
       "      <td>2767231.0</td>\n",
       "    </tr>\n",
       "    <tr>\n",
       "      <th>48</th>\n",
       "      <td>8279521.0</td>\n",
       "      <td>0.0</td>\n",
       "      <td>1298</td>\n",
       "      <td>2819828.0</td>\n",
       "    </tr>\n",
       "    <tr>\n",
       "      <th>49</th>\n",
       "      <td>8175933.0</td>\n",
       "      <td>109.0</td>\n",
       "      <td>1298</td>\n",
       "      <td>2923307.0</td>\n",
       "    </tr>\n",
       "    <tr>\n",
       "      <th>50</th>\n",
       "      <td>8081552.0</td>\n",
       "      <td>0.0</td>\n",
       "      <td>1407</td>\n",
       "      <td>3017579.0</td>\n",
       "    </tr>\n",
       "    <tr>\n",
       "      <th>51</th>\n",
       "      <td>7997840.0</td>\n",
       "      <td>104.0</td>\n",
       "      <td>1407</td>\n",
       "      <td>3101187.0</td>\n",
       "    </tr>\n",
       "    <tr>\n",
       "      <th>52</th>\n",
       "      <td>7913638.0</td>\n",
       "      <td>15.0</td>\n",
       "      <td>1511</td>\n",
       "      <td>3185270.0</td>\n",
       "    </tr>\n",
       "    <tr>\n",
       "      <th>53</th>\n",
       "      <td>7823114.0</td>\n",
       "      <td>8.0</td>\n",
       "      <td>1526</td>\n",
       "      <td>3275771.0</td>\n",
       "    </tr>\n",
       "    <tr>\n",
       "      <th>54</th>\n",
       "      <td>7723532.0</td>\n",
       "      <td>4.0</td>\n",
       "      <td>1534</td>\n",
       "      <td>3375341.0</td>\n",
       "    </tr>\n",
       "    <tr>\n",
       "      <th>55</th>\n",
       "      <td>7618121.0</td>\n",
       "      <td>37.0</td>\n",
       "      <td>1538</td>\n",
       "      <td>3480711.0</td>\n",
       "    </tr>\n",
       "    <tr>\n",
       "      <th>56</th>\n",
       "      <td>7528718.0</td>\n",
       "      <td>9.0</td>\n",
       "      <td>1575</td>\n",
       "      <td>3570068.0</td>\n",
       "    </tr>\n",
       "    <tr>\n",
       "      <th>57</th>\n",
       "      <td>7528707.0</td>\n",
       "      <td>2.0</td>\n",
       "      <td>1584</td>\n",
       "      <td>3570068.0</td>\n",
       "    </tr>\n",
       "    <tr>\n",
       "      <th>58</th>\n",
       "      <td>7528705.0</td>\n",
       "      <td>0.0</td>\n",
       "      <td>1586</td>\n",
       "      <td>3570068.0</td>\n",
       "    </tr>\n",
       "    <tr>\n",
       "      <th>59</th>\n",
       "      <td>7528705.0</td>\n",
       "      <td>0.0</td>\n",
       "      <td>1586</td>\n",
       "      <td>3570068.0</td>\n",
       "    </tr>\n",
       "  </tbody>\n",
       "</table>\n",
       "</div>"
      ],
      "text/plain": [
       "    Susceptible  Infectados  Recuperados  Vacunados\n",
       "0    11054236.0         0.0            0    47709.0\n",
       "1    10796649.0         0.0            0   305296.0\n",
       "2    10018775.0         0.0            0  1083170.0\n",
       "3     9966599.0         0.0            0  1135346.0\n",
       "4     9900497.0       160.0            0  1201288.0\n",
       "5     9855222.0         7.0          160  1246396.0\n",
       "6     9810651.0        20.0          167  1290940.0\n",
       "7     9752041.0        16.0          187  1349514.0\n",
       "8     9675443.0        27.0          203  1426069.0\n",
       "9     9606218.0        16.0          230  1495251.0\n",
       "10    9550836.0        19.0          246  1550598.0\n",
       "11    9503214.0       161.0          265  1598040.0\n",
       "12    9451741.0         0.0          426  1649352.0\n",
       "13    9386522.0       187.0          426  1714384.0\n",
       "14    9320172.0         5.0          613  1780542.0\n",
       "15    9261350.0         7.0          618  1839352.0\n",
       "16    9201503.0        12.0          625  1899180.0\n",
       "17    9155004.0        12.0          637  1945655.0\n",
       "18    9103684.0         6.0          649  1996957.0\n",
       "19    9050829.0         0.0          655  2049806.0\n",
       "20    8977505.0        21.0          655  2123109.0\n",
       "21    8833571.0        11.0          676  2267011.0\n",
       "22    8734982.0        10.0          687  2365579.0\n",
       "23    8654625.0       194.0          697  2445732.0\n",
       "24    8639901.0       110.0          891  2460152.0\n",
       "25    8627427.0        21.0         1001  2472495.0\n",
       "26    8615248.0        20.0         1022  2484633.0\n",
       "27    8602610.0         1.0         1042  2497250.0\n",
       "28    8590106.0         5.0         1043  2509748.0\n",
       "29    8578408.0         2.0         1048  2521439.0\n",
       "30    8568463.0         0.0         1050  2531382.0\n",
       "31    8562764.0         2.0         1050  2537079.0\n",
       "32    8562340.0         0.0         1052  2537501.0\n",
       "33    8562331.0         0.0         1052  2537510.0\n",
       "34    8562323.0         0.0         1052  2537518.0\n",
       "35    8562216.0       102.0         1052  2537523.0\n",
       "36    8562064.0        48.0         1154  2537525.0\n",
       "37    8562011.0         0.0         1202  2537530.0\n",
       "38    8562006.0         3.0         1202  2537532.0\n",
       "39    8561995.0         0.0         1205  2537540.0\n",
       "40    8561991.0         3.0         1205  2537541.0\n",
       "41    8561980.0         4.0         1208  2537545.0\n",
       "42    8561975.0         0.0         1212  2537546.0\n",
       "43    8561964.0         5.0         1212  2537552.0\n",
       "44    8510901.0         4.0         1217  2588606.0\n",
       "45    8453064.0        12.0         1221  2646427.0\n",
       "46    8376175.0         5.0         1233  2723299.0\n",
       "47    8332178.0        60.0         1238  2767231.0\n",
       "48    8279521.0         0.0         1298  2819828.0\n",
       "49    8175933.0       109.0         1298  2923307.0\n",
       "50    8081552.0         0.0         1407  3017579.0\n",
       "51    7997840.0       104.0         1407  3101187.0\n",
       "52    7913638.0        15.0         1511  3185270.0\n",
       "53    7823114.0         8.0         1526  3275771.0\n",
       "54    7723532.0         4.0         1534  3375341.0\n",
       "55    7618121.0        37.0         1538  3480711.0\n",
       "56    7528718.0         9.0         1575  3570068.0\n",
       "57    7528707.0         2.0         1584  3570068.0\n",
       "58    7528705.0         0.0         1586  3570068.0\n",
       "59    7528705.0         0.0         1586  3570068.0"
      ]
     },
     "execution_count": 10,
     "metadata": {},
     "output_type": "execute_result"
    }
   ],
   "source": [
    "data"
   ]
  },
  {
   "cell_type": "code",
   "execution_count": 11,
   "id": "7d7850f1",
   "metadata": {},
   "outputs": [],
   "source": [
    "data_numpy = np.array(data)/max_habs"
   ]
  },
  {
   "cell_type": "code",
   "execution_count": 12,
   "id": "dd08e581",
   "metadata": {},
   "outputs": [],
   "source": [
    "import torch\n",
    "import torch.nn as nn\n",
    "import torch.nn.functional as F\n"
   ]
  },
  {
   "cell_type": "code",
   "execution_count": 13,
   "id": "780383ea",
   "metadata": {},
   "outputs": [],
   "source": [
    "class SIRV(nn.Module):\n",
    "    def __init__(self, epsilon=1e-7):\n",
    "        super(SIRV, self).__init__()\n",
    "        self.lambda1 = nn.Linear(1,1, bias = False) # tasa de contacto efectivo\n",
    "        self.lambda2 = nn.Linear(1,1, bias = False) # tasa de immunizacion\n",
    "        self.lambda3 = nn.Linear(1,1, bias = False) # tasa de recuperacion\n",
    "        torch.nn.init.xavier_uniform_(self.lambda1.weight, gain=0.01)\n",
    "        torch.nn.init.xavier_uniform_(self.lambda2.weight, gain=0.01)\n",
    "        torch.nn.init.xavier_uniform_(self.lambda3.weight, gain=0.01)\n",
    "       \n",
    "        self.epsilon = epsilon\n",
    "    \n",
    "    def forward(self, x, size_of_starter_set, amount_of_prediction_in_future):\n",
    "        assert size_of_starter_set < amount_of_prediction_in_future\n",
    "        ns = torch.zeros([amount_of_prediction_in_future, 4],dtype=torch.float, requires_grad = False)\n",
    "        torch.nn.init.xavier_uniform_(ns, gain=0.01)\n",
    "        x[x==0] = self.epsilon\n",
    "        ns[:x.shape[0]] = x.view(x.shape[0], 4).clone()\n",
    "        for i in range(size_of_starter_set,amount_of_prediction_in_future):\n",
    "            a = ns[i-1].clone()\n",
    "            ns[i][0] = a[0].view(1,1) - self.lambda1(a[0]*a[1].view(1,1)) - self.lambda2(a[0].view(1,1))\n",
    "            ns[i][1] = a[1].view(1,1) + self.lambda1(a[0]*a[1].view(1,1)) - self.lambda3(a[1].view(1,1))\n",
    "            ns[i][2] = a[2].view(1,1) + self.lambda3(a[1].view(1,1))\n",
    "            ns[i][3] = a[3].view(1,1) + self.lambda2(a[0].view(1,1))\n",
    "        b = torch.div(ns, ns.sum(axis=1).reshape(-1,1)).clone()\n",
    "        return b[1:].reshape(-1,4)\n"
   ]
  },
  {
   "cell_type": "code",
   "execution_count": 14,
   "id": "f8a93328",
   "metadata": {},
   "outputs": [],
   "source": [
    "def loss_custom(pred, actual):\n",
    "    loss_func = nn.SmoothL1Loss()\n",
    "    loss_big = loss_func(pred[:,3], actual[:,3]) + loss_func(pred[:,0], actual[:,0])\n",
    "    loss_inf = loss_func(pred[:,1], actual[:,1])\n",
    "    loss_recov =  loss_func(pred[:,2], actual[:,2])\n",
    "    return 100000*loss_inf + 1000*loss_recov + loss_big"
   ]
  },
  {
   "cell_type": "code",
   "execution_count": null,
   "id": "900debb7",
   "metadata": {},
   "outputs": [],
   "source": []
  },
  {
   "cell_type": "code",
   "execution_count": 15,
   "id": "e50c1d31",
   "metadata": {
    "scrolled": false
   },
   "outputs": [],
   "source": [
    "y = torch.from_numpy(data_numpy.astype(np.float32))\n"
   ]
  },
  {
   "cell_type": "code",
   "execution_count": 16,
   "id": "5c62e9b3",
   "metadata": {},
   "outputs": [
    {
     "data": {
      "text/plain": [
       "torch.Size([60, 4])"
      ]
     },
     "execution_count": 16,
     "metadata": {},
     "output_type": "execute_result"
    }
   ],
   "source": [
    "y.size()"
   ]
  },
  {
   "cell_type": "code",
   "execution_count": 17,
   "id": "c7f970e6",
   "metadata": {},
   "outputs": [],
   "source": [
    "import os\n",
    "model_checkpoint_folder = f'models/{enfermedad}/checkpoints'\n",
    "trained_models_foder = 'models/trained_models'\n",
    "os.makedirs(model_checkpoint_folder, exist_ok=True)\n",
    "os.makedirs(trained_models_foder, exist_ok=True)"
   ]
  },
  {
   "cell_type": "code",
   "execution_count": 18,
   "id": "aa61060a",
   "metadata": {},
   "outputs": [],
   "source": [
    "def train(train_set, fold_size=10, future_size=5):\n",
    "    epsilon = 1e-15\n",
    "    sir = SIRV(epsilon=epsilon)\n",
    "    opt = torch.optim.Adam(sir.parameters(), lr=0.05)\n",
    "    best = 10000\n",
    "    early_stopping = EarlyStopping(patience=50, verbose=False, delta=1e-10)\n",
    "    for epoch in range(1000):\n",
    "        out = sir(train_set[:fold_size], size_of_starter_set=min(10, fold_size), amount_of_prediction_in_future=fold_size + future_size+1)\n",
    "        out = out.squeeze()\n",
    "        loss = loss_custom(out[fold_size:], train_set[fold_size:fold_size+future_size])\n",
    "        loss.backward()\n",
    "        opt.step() \n",
    "        opt.zero_grad()\n",
    "        if loss.item() < best:\n",
    "            best = loss.item()\n",
    "            torch.save(sir, f'{model_checkpoint_folder}/{enfermedad}_{fold_size}.pkl')\n",
    "        if epoch%25 == 0:        \n",
    "            print(f'Epoch: {epoch}, loss: {loss.item()}')\n",
    "        if loss.isnan():\n",
    "            raise ValueError()\n",
    "        for p in sir.parameters():\n",
    "            p.data.clamp_(0)\n",
    "        early_stopping(loss.item(), sir)\n",
    "        if early_stopping.early_stop:\n",
    "            print(\"Early stopping\")\n",
    "            break\n",
    "    return best\n",
    "    \n",
    "\n",
    "def train_and_val_k_fold():\n",
    "    divergences = {}\n",
    "    rmses = []\n",
    "    losses = {}\n",
    "    future_index_check = 15\n",
    "    min_datapoints = 20\n",
    "    for fold_size in range(min_datapoints, len(y)-future_index_check):\n",
    "        print(f'\\nAnalyzing fold: {fold_size}\\n')\n",
    "        folded_train_set = y[:fold_size+future_index_check+1].clone()\n",
    "        best_loss = train(train_set=folded_train_set, fold_size=fold_size, future_size=future_index_check)\n",
    "        model = torch.load(f'{model_checkpoint_folder}/{enfermedad}_{fold_size}.pkl')\n",
    "        preds = model(folded_train_set[:fold_size], size_of_starter_set=fold_size, amount_of_prediction_in_future=len(folded_train_set)+1)[fold_size:fold_size+future_index_check]\n",
    "        target = y[fold_size:fold_size+future_index_check]\n",
    "        target[target==0] = 1e-15\n",
    "        kl_divergence = torch.nn.functional.kl_div(target.log(), preds, reduction='batchmean').detach().item()\n",
    "        rmse = torch.sqrt(torchmetrics.functional.mean_squared_error(target, preds)).detach().item()\n",
    "        print(f'\\nKL Divergence:{kl_divergence}\\n')\n",
    "        print(f'\\nRMSE:{rmse}\\n')\n",
    "        divergences[fold_size] = kl_divergence\n",
    "        rmses.append(rmse)\n",
    "        losses[fold_size] = best_loss\n",
    "    return divergences, rmses, losses"
   ]
  },
  {
   "cell_type": "code",
   "execution_count": 19,
   "id": "15d283ea",
   "metadata": {},
   "outputs": [
    {
     "name": "stdout",
     "output_type": "stream",
     "text": [
      "\n",
      "Analyzing fold: 20\n",
      "\n",
      "Epoch: 0, loss: 0.0033181074541062117\n",
      "Epoch: 25, loss: 0.00025840403395704925\n",
      "Epoch: 50, loss: 0.00014684868801850826\n",
      "Epoch: 75, loss: 0.00013579845835920423\n",
      "Epoch: 100, loss: 0.0001351482787868008\n",
      "Epoch: 125, loss: 0.00013499824854079634\n",
      "Epoch: 150, loss: 0.000134882444399409\n",
      "Epoch: 175, loss: 0.0001348477235296741\n",
      "Epoch: 200, loss: 0.00013482941722031683\n",
      "Epoch: 225, loss: 0.00013481915812008083\n",
      "Epoch: 250, loss: 0.0001348129299003631\n",
      "Epoch: 275, loss: 0.00013480948109645396\n",
      "Epoch: 300, loss: 0.0001348076475551352\n",
      "Epoch: 325, loss: 0.00014466571155935526\n",
      "EarlyStopping reached!\n",
      "Early stopping\n",
      "\n",
      "KL Divergence:0.00046664223191328347\n",
      "\n",
      "\n",
      "RMSE:0.008123877458274364\n",
      "\n",
      "\n",
      "Analyzing fold: 21\n",
      "\n",
      "Epoch: 0, loss: 0.0020285018254071474\n",
      "Epoch: 25, loss: 0.0003115300787612796\n",
      "Epoch: 50, loss: 0.00021434930386021733\n",
      "Epoch: 75, loss: 0.00016918187611736357\n",
      "Epoch: 100, loss: 0.00016913856961764395\n",
      "Epoch: 125, loss: 0.00016854779096320271\n",
      "Epoch: 150, loss: 0.00016846158541738987\n",
      "Epoch: 175, loss: 0.0001684408780420199\n",
      "Epoch: 200, loss: 0.0001684308226685971\n",
      "Epoch: 225, loss: 0.0001684255403233692\n",
      "Epoch: 250, loss: 0.00016842232435010374\n",
      "Epoch: 275, loss: 0.0001707670307951048\n",
      "Epoch: 300, loss: 0.00020123663125559688\n",
      "EarlyStopping reached!\n",
      "Early stopping\n",
      "\n",
      "KL Divergence:0.0006045830086804926\n",
      "\n",
      "\n",
      "RMSE:0.009534759446978569\n",
      "\n",
      "\n",
      "Analyzing fold: 22\n",
      "\n",
      "Epoch: 0, loss: 0.0007047588005661964\n",
      "Epoch: 25, loss: 0.001068290788680315\n",
      "Epoch: 50, loss: 0.0002038505335804075\n",
      "Epoch: 75, loss: 0.00019456013978924602\n",
      "Epoch: 100, loss: 0.00019471588893793523\n",
      "Epoch: 125, loss: 0.00019405163766350597\n",
      "Epoch: 150, loss: 0.00019399453594814986\n",
      "Epoch: 175, loss: 0.00019396422430872917\n",
      "Epoch: 200, loss: 0.00019395066192373633\n",
      "Epoch: 225, loss: 0.00019499029440339655\n",
      "Epoch: 250, loss: 0.0006571052363142371\n",
      "EarlyStopping reached!\n",
      "Early stopping\n",
      "\n",
      "KL Divergence:0.0011739092878997326\n",
      "\n",
      "\n",
      "RMSE:0.013957507908344269\n",
      "\n",
      "\n",
      "Analyzing fold: 23\n",
      "\n",
      "Epoch: 0, loss: 0.003616972826421261\n",
      "Epoch: 25, loss: 0.0011134020751342177\n",
      "Epoch: 50, loss: 0.0002701315388549119\n",
      "Epoch: 75, loss: 0.0002071032504318282\n",
      "Epoch: 100, loss: 0.00020643977040890604\n",
      "Epoch: 125, loss: 0.0002063252031803131\n",
      "Epoch: 150, loss: 0.00020621744624804705\n",
      "Epoch: 175, loss: 0.0002061814593616873\n",
      "Epoch: 200, loss: 0.00020616358960978687\n",
      "Epoch: 225, loss: 0.0002061543200397864\n",
      "Epoch: 250, loss: 0.00020663556642830372\n",
      "Epoch: 275, loss: 0.002915929304435849\n",
      "EarlyStopping reached!\n",
      "Early stopping\n",
      "\n",
      "KL Divergence:0.0018084250623360276\n",
      "\n",
      "\n",
      "RMSE:0.01761368289589882\n",
      "\n",
      "\n",
      "Analyzing fold: 24\n",
      "\n",
      "Epoch: 0, loss: 0.10178295522928238\n",
      "Epoch: 25, loss: 0.0024450342170894146\n",
      "Epoch: 50, loss: 0.00029139118851162493\n",
      "Epoch: 75, loss: 0.00020412096637301147\n",
      "Epoch: 100, loss: 0.00020257818687241524\n",
      "Epoch: 125, loss: 0.0002021187829086557\n",
      "Epoch: 150, loss: 0.00020185827452223748\n",
      "Epoch: 175, loss: 0.00020174570090603083\n",
      "Epoch: 200, loss: 0.00020167854381725192\n",
      "Epoch: 225, loss: 0.00020163526642136276\n",
      "Epoch: 250, loss: 0.00020160572603344917\n",
      "Epoch: 275, loss: 0.00020158410188741982\n",
      "Epoch: 300, loss: 0.0002015683421632275\n",
      "Epoch: 325, loss: 0.00020155652600806206\n",
      "Epoch: 350, loss: 0.00020154690719209611\n",
      "Epoch: 375, loss: 0.0002015389472944662\n",
      "Epoch: 400, loss: 0.00020153306832071394\n",
      "Epoch: 425, loss: 0.00020152833894826472\n",
      "Epoch: 450, loss: 0.00020152424986008555\n",
      "Epoch: 475, loss: 0.00020152039360255003\n",
      "Epoch: 500, loss: 0.00020151736680418253\n",
      "Epoch: 525, loss: 0.00020151521312072873\n",
      "Epoch: 550, loss: 0.0002015131467487663\n",
      "Epoch: 575, loss: 0.0002015109930653125\n",
      "Epoch: 600, loss: 0.00020150998898316175\n",
      "Epoch: 625, loss: 0.00020150831551291049\n",
      "Epoch: 650, loss: 0.0002015078061958775\n",
      "Epoch: 675, loss: 0.0011306426022201777\n",
      "EarlyStopping reached!\n",
      "Early stopping\n",
      "\n",
      "KL Divergence:0.002560069551691413\n",
      "\n",
      "\n",
      "RMSE:0.02076973207294941\n",
      "\n",
      "\n",
      "Analyzing fold: 25\n",
      "\n",
      "Epoch: 0, loss: 0.012226257473230362\n",
      "Epoch: 25, loss: 0.0008902539266273379\n",
      "Epoch: 50, loss: 0.00029834857559762895\n",
      "Epoch: 75, loss: 0.0002017837978200987\n",
      "Epoch: 100, loss: 0.00019837771833408624\n",
      "Epoch: 125, loss: 0.00019783308380283415\n",
      "Epoch: 150, loss: 0.0036225731018930674\n",
      "Epoch: 175, loss: 0.0013710183557122946\n",
      "EarlyStopping reached!\n",
      "Early stopping\n",
      "\n",
      "KL Divergence:0.002472467487677932\n",
      "\n",
      "\n",
      "RMSE:0.020549995824694633\n",
      "\n",
      "\n",
      "Analyzing fold: 26\n",
      "\n",
      "Epoch: 0, loss: 0.2834398150444031\n",
      "Epoch: 25, loss: 0.00416603172197938\n",
      "Epoch: 50, loss: 0.00019668466120492667\n",
      "Epoch: 75, loss: 0.00021351549366954714\n",
      "Epoch: 100, loss: 0.00019544833048712462\n",
      "Epoch: 125, loss: 0.00019439429161138833\n",
      "Epoch: 150, loss: 0.00019415200222283602\n",
      "Epoch: 175, loss: 0.00019405990315135568\n",
      "Epoch: 200, loss: 0.0001939986541401595\n",
      "Epoch: 225, loss: 0.00019395494018681347\n",
      "Epoch: 250, loss: 0.00019392288231756538\n",
      "Epoch: 275, loss: 0.0001938982168212533\n",
      "Epoch: 300, loss: 0.00019387873180676252\n",
      "Epoch: 325, loss: 0.00019386301573831588\n",
      "Epoch: 350, loss: 0.00019385016639716923\n",
      "Epoch: 375, loss: 0.0001938398345373571\n",
      "Epoch: 400, loss: 0.00019383084145374596\n",
      "Epoch: 425, loss: 0.00019382346363272518\n",
      "Epoch: 450, loss: 0.0001938167988555506\n",
      "Epoch: 475, loss: 0.00019381145830266178\n",
      "Epoch: 500, loss: 0.00019380630692467093\n",
      "Epoch: 525, loss: 0.0001938011555466801\n",
      "Epoch: 550, loss: 0.00019379754667170346\n",
      "Epoch: 575, loss: 0.00019379401055630296\n",
      "Epoch: 600, loss: 0.00019379060540813953\n",
      "Epoch: 625, loss: 0.00019378801516722888\n",
      "Epoch: 650, loss: 0.00019378522119950503\n",
      "Epoch: 675, loss: 0.00019378271827008575\n",
      "Epoch: 700, loss: 0.00019378098659217358\n",
      "Epoch: 725, loss: 0.00019377852731849998\n",
      "Epoch: 750, loss: 0.00019377688295207918\n",
      "Epoch: 775, loss: 0.00019377486023586243\n",
      "Epoch: 800, loss: 0.00019377352145966142\n",
      "Epoch: 825, loss: 0.000193771964404732\n",
      "Epoch: 850, loss: 0.00019377039279788733\n",
      "Epoch: 875, loss: 0.00019376871932763606\n",
      "Epoch: 900, loss: 0.0001937680208357051\n",
      "Epoch: 925, loss: 0.000193766740267165\n",
      "Epoch: 950, loss: 0.00019376561976969242\n",
      "Epoch: 975, loss: 0.00019376445561647415\n",
      "\n",
      "KL Divergence:0.0023456080816686153\n",
      "\n",
      "\n",
      "RMSE:0.020217323675751686\n",
      "\n",
      "\n",
      "Analyzing fold: 27\n",
      "\n",
      "Epoch: 0, loss: 0.22217696905136108\n",
      "Epoch: 25, loss: 0.0036600204184651375\n",
      "Epoch: 50, loss: 0.000441406766185537\n",
      "Epoch: 75, loss: 0.00020169251365587115\n",
      "Epoch: 100, loss: 0.00019144394900649786\n",
      "Epoch: 125, loss: 0.0001908102276502177\n",
      "Epoch: 150, loss: 0.000190424092579633\n",
      "Epoch: 175, loss: 0.00019022365449927747\n",
      "Epoch: 200, loss: 0.00019009469542652369\n",
      "Epoch: 225, loss: 0.0001900077040772885\n",
      "Epoch: 250, loss: 0.00018994769197888672\n",
      "Epoch: 275, loss: 0.00018990339594893157\n",
      "Epoch: 300, loss: 0.000189870479516685\n",
      "Epoch: 325, loss: 0.00018984486814588308\n",
      "Epoch: 350, loss: 0.0001898244663607329\n",
      "Epoch: 375, loss: 0.00018980859022121876\n",
      "Epoch: 400, loss: 0.00018979489686898887\n",
      "Epoch: 425, loss: 0.00018978360458277166\n",
      "Epoch: 450, loss: 0.00018977462605107576\n",
      "Epoch: 475, loss: 0.00018976640421897173\n",
      "Epoch: 500, loss: 0.00018975896819029003\n",
      "Epoch: 525, loss: 0.00018975268176291138\n",
      "Epoch: 550, loss: 0.00018974753038492054\n",
      "Epoch: 575, loss: 0.00018974240811076015\n",
      "Epoch: 600, loss: 0.00018973799888044596\n",
      "Epoch: 625, loss: 0.0001897344773169607\n",
      "Epoch: 650, loss: 0.00018973060650750995\n",
      "Epoch: 675, loss: 0.00018972829275298864\n",
      "Epoch: 700, loss: 0.00018972487305290997\n",
      "Epoch: 725, loss: 0.00018972228281199932\n",
      "Epoch: 750, loss: 0.0001897199108498171\n",
      "Epoch: 775, loss: 0.00018971764075104147\n",
      "Epoch: 800, loss: 0.00018971566169057041\n",
      "Epoch: 825, loss: 0.00018971417739521712\n",
      "Epoch: 850, loss: 0.00019013181736227125\n",
      "Epoch: 875, loss: 0.0010761353187263012\n",
      "EarlyStopping reached!\n",
      "Early stopping\n",
      "\n",
      "KL Divergence:0.0023024939000606537\n",
      "\n",
      "\n",
      "RMSE:0.020007949322462082\n",
      "\n",
      "\n",
      "Analyzing fold: 28\n",
      "\n",
      "Epoch: 0, loss: 0.011385850608348846\n",
      "Epoch: 25, loss: 0.0016867252998054028\n",
      "Epoch: 50, loss: 0.00024166192451957613\n",
      "Epoch: 75, loss: 0.00019049936963710934\n",
      "Epoch: 100, loss: 0.00023549537581857294\n",
      "Epoch: 125, loss: 0.0018422158900648355\n",
      "EarlyStopping reached!\n",
      "Early stopping\n",
      "\n",
      "KL Divergence:0.0022405299823731184\n",
      "\n",
      "\n",
      "RMSE:0.019727062433958054\n",
      "\n",
      "\n",
      "Analyzing fold: 29\n",
      "\n",
      "Epoch: 0, loss: 0.04740715026855469\n",
      "Epoch: 25, loss: 0.0011314701987430453\n",
      "Epoch: 50, loss: 0.00021203659707680345\n",
      "Epoch: 75, loss: 0.00018999727035406977\n",
      "Epoch: 100, loss: 0.0001824456558097154\n",
      "Epoch: 125, loss: 0.0002046228910330683\n",
      "Epoch: 150, loss: 0.0004340486484579742\n",
      "EarlyStopping reached!\n",
      "Early stopping\n",
      "\n",
      "KL Divergence:0.00228042621165514\n",
      "\n",
      "\n",
      "RMSE:0.01990499161183834\n",
      "\n",
      "\n",
      "Analyzing fold: 30\n",
      "\n",
      "Epoch: 0, loss: 0.060995906591415405\n"
     ]
    },
    {
     "name": "stdout",
     "output_type": "stream",
     "text": [
      "Epoch: 25, loss: 0.0010973054450005293\n",
      "Epoch: 50, loss: 0.0002777470217552036\n",
      "Epoch: 75, loss: 0.00016310304636135697\n",
      "Epoch: 100, loss: 0.000163910401170142\n",
      "Epoch: 125, loss: 0.00016578500799369067\n",
      "Epoch: 150, loss: 0.0018633708823472261\n",
      "EarlyStopping reached!\n",
      "Early stopping\n",
      "\n",
      "KL Divergence:0.00218523689545691\n",
      "\n",
      "\n",
      "RMSE:0.019460828974843025\n",
      "\n",
      "\n",
      "Analyzing fold: 31\n",
      "\n",
      "Epoch: 0, loss: 0.11454764753580093\n",
      "Epoch: 25, loss: 0.00020913194748573005\n",
      "Epoch: 50, loss: 0.00014295970322564244\n",
      "Epoch: 75, loss: 0.00013883522478863597\n",
      "Epoch: 100, loss: 0.0001381032489007339\n",
      "Epoch: 125, loss: 0.00013633703929372132\n",
      "Epoch: 150, loss: 0.00013603048864752054\n",
      "Epoch: 175, loss: 0.0001346640201518312\n",
      "Epoch: 200, loss: 0.00013422664778772742\n",
      "Epoch: 225, loss: 0.00013395474525168538\n",
      "Epoch: 250, loss: 0.00013378022413235158\n",
      "Epoch: 275, loss: 0.00013366648636292666\n",
      "Epoch: 300, loss: 0.00013358911382965744\n",
      "Epoch: 325, loss: 0.00013353457325138152\n",
      "Epoch: 350, loss: 0.00013349512300919741\n",
      "Epoch: 375, loss: 0.00013346498599275947\n",
      "Epoch: 400, loss: 0.00013344177568797022\n",
      "Epoch: 425, loss: 0.00013342361489776522\n",
      "Epoch: 450, loss: 0.00013341197336558253\n",
      "Epoch: 475, loss: 0.0016012175474315882\n",
      "EarlyStopping reached!\n",
      "Early stopping\n",
      "\n",
      "KL Divergence:0.0020735671278089285\n",
      "\n",
      "\n",
      "RMSE:0.01894453540444374\n",
      "\n",
      "\n",
      "Analyzing fold: 32\n",
      "\n",
      "Epoch: 0, loss: 0.02002709172666073\n",
      "Epoch: 25, loss: 0.0002985227620229125\n",
      "Epoch: 50, loss: 0.00010842653864528984\n",
      "Epoch: 75, loss: 0.00011444630945334211\n",
      "Epoch: 100, loss: 0.00010651391494320706\n",
      "Epoch: 125, loss: 0.00010478086187504232\n",
      "Epoch: 150, loss: 0.0001571253378642723\n",
      "Epoch: 175, loss: 0.002297949278727174\n",
      "EarlyStopping reached!\n",
      "Early stopping\n",
      "\n",
      "KL Divergence:0.0018721218220889568\n",
      "\n",
      "\n",
      "RMSE:0.017948592081665993\n",
      "\n",
      "\n",
      "Analyzing fold: 33\n",
      "\n",
      "Epoch: 0, loss: 0.06856751441955566\n",
      "Epoch: 25, loss: 0.0024305025581270456\n",
      "Epoch: 50, loss: 0.00021188812388572842\n",
      "Epoch: 75, loss: 9.898783901007846e-05\n",
      "Epoch: 100, loss: 8.246938523370773e-05\n",
      "Epoch: 125, loss: 8.096062811091542e-05\n",
      "Epoch: 150, loss: 8.094315853668377e-05\n",
      "Epoch: 175, loss: 8.09328121249564e-05\n",
      "Epoch: 200, loss: 8.092995267361403e-05\n",
      "Epoch: 225, loss: 8.092634379863739e-05\n",
      "Epoch: 250, loss: 8.09224511613138e-05\n",
      "Epoch: 275, loss: 8.091731433523819e-05\n",
      "Epoch: 300, loss: 8.093570068012923e-05\n",
      "Epoch: 325, loss: 0.002239788882434368\n",
      "EarlyStopping reached!\n",
      "Early stopping\n",
      "\n",
      "KL Divergence:0.0015868998598307371\n",
      "\n",
      "\n",
      "RMSE:0.016433805227279663\n",
      "\n",
      "\n",
      "Analyzing fold: 34\n",
      "\n",
      "Epoch: 0, loss: 0.03191850706934929\n",
      "Epoch: 25, loss: 0.0016698824474588037\n",
      "Epoch: 50, loss: 0.00022611288295593113\n",
      "Epoch: 75, loss: 6.797990499762818e-05\n",
      "EarlyStopping reached!\n",
      "Early stopping\n",
      "\n",
      "KL Divergence:0.0007568863802589476\n",
      "\n",
      "\n",
      "RMSE:0.010810693725943565\n",
      "\n",
      "\n",
      "Analyzing fold: 35\n",
      "\n",
      "Epoch: 0, loss: 0.2604827582836151\n",
      "Epoch: 25, loss: 0.5696927905082703\n",
      "Epoch: 50, loss: 0.5760090947151184\n",
      "Epoch: 75, loss: 0.5835822224617004\n",
      "EarlyStopping reached!\n",
      "Early stopping\n",
      "\n",
      "KL Divergence:0.0031542310025542974\n",
      "\n",
      "\n",
      "RMSE:0.023858245462179184\n",
      "\n",
      "\n",
      "Analyzing fold: 36\n",
      "\n",
      "Epoch: 0, loss: 0.009428360499441624\n",
      "Epoch: 25, loss: 0.0001802269252948463\n",
      "Epoch: 50, loss: 0.0001010414125630632\n",
      "Epoch: 75, loss: 0.00021918167476542294\n",
      "EarlyStopping reached!\n",
      "Early stopping\n",
      "\n",
      "KL Divergence:0.0007748355274088681\n",
      "\n",
      "\n",
      "RMSE:0.010772651061415672\n",
      "\n",
      "\n",
      "Analyzing fold: 37\n",
      "\n",
      "Epoch: 0, loss: 0.5812211632728577\n",
      "Epoch: 25, loss: 0.5736842155456543\n",
      "Epoch: 50, loss: 0.5736598372459412\n",
      "EarlyStopping reached!\n",
      "Early stopping\n",
      "\n",
      "KL Divergence:0.24832750856876373\n",
      "\n",
      "\n",
      "RMSE:0.23516486585140228\n",
      "\n",
      "\n",
      "Analyzing fold: 38\n",
      "\n",
      "Epoch: 0, loss: 0.06067536026239395\n",
      "Epoch: 25, loss: 0.0018564031925052404\n",
      "Epoch: 50, loss: 0.00022444597561843693\n",
      "Epoch: 75, loss: 0.00011009572335751727\n",
      "Epoch: 100, loss: 9.639154450269416e-05\n",
      "Epoch: 125, loss: 9.593331924406812e-05\n",
      "Epoch: 150, loss: 9.567780216457322e-05\n",
      "Epoch: 175, loss: 0.0070408666506409645\n",
      "EarlyStopping reached!\n",
      "Early stopping\n",
      "\n",
      "KL Divergence:0.0005367036792449653\n",
      "\n",
      "\n",
      "RMSE:0.008769954554736614\n",
      "\n",
      "\n",
      "Analyzing fold: 39\n",
      "\n",
      "Epoch: 0, loss: 0.3236601948738098\n",
      "Epoch: 25, loss: 0.5612993836402893\n",
      "Epoch: 50, loss: 0.5611718893051147\n",
      "EarlyStopping reached!\n",
      "Early stopping\n",
      "\n",
      "KL Divergence:0.24815773963928223\n",
      "\n",
      "\n",
      "RMSE:0.23644201457500458\n",
      "\n",
      "\n",
      "Analyzing fold: 40\n",
      "\n",
      "Epoch: 0, loss: 0.2579576075077057\n",
      "Epoch: 25, loss: 0.5539199113845825\n",
      "Epoch: 50, loss: 0.553788959980011\n",
      "EarlyStopping reached!\n",
      "Early stopping\n",
      "\n",
      "KL Divergence:0.10658159106969833\n",
      "\n",
      "\n",
      "RMSE:0.15349119901657104\n",
      "\n",
      "\n",
      "Analyzing fold: 41\n",
      "\n",
      "Epoch: 0, loss: 0.020281333476305008\n",
      "Epoch: 25, loss: 0.0008652511751279235\n",
      "Epoch: 50, loss: 0.00041862871148623526\n",
      "Epoch: 75, loss: 0.00027320036315359175\n",
      "Epoch: 100, loss: 0.00025433560949750245\n",
      "Epoch: 125, loss: 0.0002535314706619829\n",
      "Epoch: 150, loss: 0.0002535285602789372\n",
      "Epoch: 175, loss: 0.0002535635430831462\n",
      "Epoch: 200, loss: 0.003861561417579651\n",
      "EarlyStopping reached!\n",
      "Early stopping\n",
      "\n",
      "KL Divergence:0.0007967920391820371\n",
      "\n",
      "\n",
      "RMSE:0.011694392189383507\n",
      "\n",
      "\n",
      "Analyzing fold: 42\n",
      "\n",
      "Epoch: 0, loss: 0.0013022060738876462\n",
      "Epoch: 25, loss: 0.005378906615078449\n",
      "Epoch: 50, loss: 0.00046678836224600673\n",
      "Epoch: 75, loss: 0.00031680616666562855\n",
      "Epoch: 100, loss: 0.00031709406175650656\n",
      "Epoch: 125, loss: 0.0003144382790196687\n",
      "Epoch: 150, loss: 0.0003117180021945387\n",
      "Epoch: 175, loss: 0.0003724599664565176\n",
      "Epoch: 200, loss: 0.0003843347658403218\n",
      "EarlyStopping reached!\n",
      "Early stopping\n",
      "\n",
      "KL Divergence:0.0011472597252577543\n",
      "\n",
      "\n",
      "RMSE:0.01453771535307169\n",
      "\n",
      "\n",
      "Analyzing fold: 43\n",
      "\n",
      "Epoch: 0, loss: 0.027689771726727486\n",
      "Epoch: 25, loss: 0.0009911978850141168\n",
      "Epoch: 50, loss: 0.0003431527584325522\n",
      "Epoch: 75, loss: 0.0003433192614465952\n",
      "Epoch: 100, loss: 0.00033764768159016967\n",
      "Epoch: 125, loss: 0.0003353338106535375\n",
      "Epoch: 150, loss: 0.0005308449035510421\n",
      "Epoch: 175, loss: 0.0003396316315047443\n",
      "EarlyStopping reached!\n",
      "Early stopping\n",
      "\n",
      "KL Divergence:0.0015356478979811072\n",
      "\n",
      "\n",
      "RMSE:0.017128247767686844\n",
      "\n",
      "\n",
      "Analyzing fold: 44\n",
      "\n",
      "Epoch: 0, loss: 0.03356745094060898\n",
      "Epoch: 25, loss: 0.0019107528496533632\n",
      "Epoch: 50, loss: 0.0010884515941143036\n",
      "Epoch: 75, loss: 0.00031716551166027784\n",
      "Epoch: 100, loss: 0.00031812640372663736\n",
      "Epoch: 125, loss: 0.00031696754740551114\n",
      "Epoch: 150, loss: 0.0003169591655023396\n",
      "EarlyStopping reached!\n",
      "Early stopping\n",
      "\n",
      "KL Divergence:0.0020345866214483976\n",
      "\n",
      "\n",
      "RMSE:0.019933098927140236\n",
      "\n"
     ]
    }
   ],
   "source": [
    "divergences, rmses, losses = train_and_val_k_fold()"
   ]
  },
  {
   "cell_type": "code",
   "execution_count": 20,
   "id": "481b4ea5",
   "metadata": {},
   "outputs": [
    {
     "name": "stdout",
     "output_type": "stream",
     "text": [
      "Cross-validated KL Divergence: 0.025591070506488903\n",
      "Cross-validated RMSE: 0.03943190891295671\n"
     ]
    }
   ],
   "source": [
    "print(f'Cross-validated KL Divergence: {pd.Series(divergences.values()).mean()}')\n",
    "print(f'Cross-validated RMSE: {pd.Series(rmses).mean()}')"
   ]
  },
  {
   "cell_type": "code",
   "execution_count": 21,
   "id": "80055f6d",
   "metadata": {},
   "outputs": [],
   "source": [
    "import matplotlib.pyplot as plt\n",
    "%matplotlib inline\n",
    "\n",
    "best_fold_size = min(losses, key=losses.get)\n",
    "model = torch.load(f'{model_checkpoint_folder}/{enfermedad}_{best_fold_size}.pkl')\n",
    "torch.save(model, f'models/trained_models/{enfermedad}.pkl')\n",
    "\n",
    "y = torch.from_numpy(data_numpy.astype(np.float32))\n",
    "res = model(y, size_of_starter_set=best_fold_size, amount_of_prediction_in_future=len(y))\n"
   ]
  },
  {
   "cell_type": "code",
   "execution_count": 22,
   "id": "18edf790",
   "metadata": {},
   "outputs": [
    {
     "data": {
      "text/plain": [
       "36"
      ]
     },
     "execution_count": 22,
     "metadata": {},
     "output_type": "execute_result"
    }
   ],
   "source": [
    "best_fold_size"
   ]
  },
  {
   "cell_type": "code",
   "execution_count": 23,
   "id": "d8ebd9c5",
   "metadata": {},
   "outputs": [],
   "source": [
    "for i in range(len(y)):\n",
    "    file_to_rem = pathlib.Path(f'{model_checkpoint_folder}/{enfermedad}_{i}.pkl')\n",
    "    if os.path.isfile(file_to_rem):\n",
    "        file_to_rem.unlink()\n",
    "file_to_rem = pathlib.Path(f'checkpoint.pt')\n",
    "file_to_rem.unlink()"
   ]
  },
  {
   "cell_type": "code",
   "execution_count": 24,
   "id": "5dc82fb3",
   "metadata": {},
   "outputs": [
    {
     "data": {
      "text/plain": [
       "torch.Size([59, 4])"
      ]
     },
     "execution_count": 24,
     "metadata": {},
     "output_type": "execute_result"
    }
   ],
   "source": [
    "res.shape"
   ]
  },
  {
   "cell_type": "code",
   "execution_count": 25,
   "id": "292be11a",
   "metadata": {},
   "outputs": [],
   "source": [
    "import os\n",
    "os.makedirs(f'figures/{enfermedad}', exist_ok=True)"
   ]
  },
  {
   "cell_type": "code",
   "execution_count": 26,
   "id": "a2ccb063",
   "metadata": {},
   "outputs": [
    {
     "data": {
      "image/png": "[encoded data removed]",
      "text/plain": [
       "<Figure size 1080x360 with 2 Axes>"
      ]
     },
     "metadata": {
      "needs_background": "light"
     },
     "output_type": "display_data"
    }
   ],
   "source": [
    "fold_sizes = losses.keys()\n",
    "fig, ax = plt.subplots(nrows=1, ncols=2, figsize=(15, 5))\n",
    "\n",
    "ax[0].plot(fold_sizes, divergences.values(), color = 'r', linewidth=0, marker='.', label='divergences')\n",
    "ax[0].plot(fold_sizes, rmses, color = 'b', linewidth=0, marker='.', label='rmse')\n",
    "ax[1].set_yscale('log')\n",
    "ax[0].set_ylabel('Metrics')\n",
    "ax[0].set_xlabel('Fold Size')\n",
    "ax[0].set_title('Analisis de metricas')\n",
    "ax[0].legend()\n",
    "\n",
    "\n",
    "ax[1].plot(fold_sizes, losses.values(), color = 'g', linewidth=0, marker='.', label='losses')\n",
    "ax[1].set_ylabel('Loss')\n",
    "ax[1].set_yscale('log')\n",
    "ax[1].set_xlabel('Fold Size')\n",
    "ax[1].set_title('Analisis de Loss')\n",
    "ax[1].legend()\n",
    "\n",
    "plt.show()"
   ]
  },
  {
   "cell_type": "code",
   "execution_count": 27,
   "id": "d9bf2d81",
   "metadata": {},
   "outputs": [
    {
     "name": "stderr",
     "output_type": "stream",
     "text": [
      "/var/folders/g0/jqvp4xxs5pn4cds1xb9339xm0000gn/T/ipykernel_40966/386388690.py:13: MatplotlibDeprecationWarning: savefig() got unexpected keyword argument \"linewidth\" which is no longer supported as of 3.3 and will become an error two minor releases later\n",
      "  plt.savefig(f'figures/{enfermedad}/accumul_prediction.png', format='png', linewidth = 0.01)\n"
     ]
    },
    {
     "data": {
      "image/png": "[encoded data removed]",
      "text/plain": [
       "<Figure size 1080x720 with 1 Axes>"
      ]
     },
     "metadata": {
      "needs_background": "light"
     },
     "output_type": "display_data"
    }
   ],
   "source": [
    "predicted_susceptible = res[:,0].detach().numpy()\n",
    "real_susceptible = y[:,0].detach().numpy()\n",
    "plt.figure(figsize=(15,10))\n",
    "\n",
    "plt.plot(data.index, real_susceptible, color = 'r', linewidth=0, marker='.', label='real_sus')\n",
    "plt.plot(data.index[1:], predicted_susceptible, color = 'b', linewidth=0, marker='.', label='pred_sus')\n",
    "plt.ylim(0, 1)\n",
    "plt.xlim(0,len(y))\n",
    "plt.ylabel('Proportion')\n",
    "plt.xlabel('Generation')\n",
    "plt.title('Analisis de susceptibles predichos vs reales')\n",
    "plt.legend()\n",
    "plt.savefig(f'figures/{enfermedad}/accumul_prediction.png', format='png', linewidth = 0.01)"
   ]
  },
  {
   "cell_type": "code",
   "execution_count": 28,
   "id": "9a87fda1",
   "metadata": {},
   "outputs": [
    {
     "name": "stderr",
     "output_type": "stream",
     "text": [
      "/var/folders/g0/jqvp4xxs5pn4cds1xb9339xm0000gn/T/ipykernel_40966/2627413439.py:13: MatplotlibDeprecationWarning: savefig() got unexpected keyword argument \"linewidth\" which is no longer supported as of 3.3 and will become an error two minor releases later\n",
      "  plt.savefig(f'figures/{enfermedad}/accumul_prediction_vaccinated.png', format='png', linewidth = 0.01)\n"
     ]
    },
    {
     "data": {
      "image/png": "[encoded data removed]",
      "text/plain": [
       "<Figure size 1080x720 with 1 Axes>"
      ]
     },
     "metadata": {
      "needs_background": "light"
     },
     "output_type": "display_data"
    }
   ],
   "source": [
    "predicted_vaccinated = res[:,3].detach().numpy()\n",
    "real_vaccinated = y[:,3].detach().numpy()\n",
    "plt.figure(figsize=(15,10))\n",
    "\n",
    "plt.plot(data.index, real_vaccinated, color = 'r', linewidth=0, marker='.', label='real_vac')\n",
    "plt.plot(data.index[1:], predicted_vaccinated, color = 'b', linewidth=0, marker='.', label='pred_vac')\n",
    "plt.ylim(0, 1)\n",
    "plt.xlim(0,len(y))\n",
    "plt.ylabel('Proportion')\n",
    "plt.xlabel('Generation')\n",
    "plt.title('Analisis de vacunados predichos vs reales')\n",
    "plt.legend()\n",
    "plt.savefig(f'figures/{enfermedad}/accumul_prediction_vaccinated.png', format='png', linewidth = 0.01)"
   ]
  },
  {
   "cell_type": "markdown",
   "id": "a60316ad",
   "metadata": {},
   "source": [
    "Que pasa si le damos mas peso a fitear a los susceptibles?\n"
   ]
  },
  {
   "cell_type": "code",
   "execution_count": 29,
   "id": "133fb8d1",
   "metadata": {},
   "outputs": [
    {
     "name": "stderr",
     "output_type": "stream",
     "text": [
      "/var/folders/g0/jqvp4xxs5pn4cds1xb9339xm0000gn/T/ipykernel_40966/1924709514.py:13: MatplotlibDeprecationWarning: savefig() got unexpected keyword argument \"linewidth\" which is no longer supported as of 3.3 and will become an error two minor releases later\n",
      "  plt.savefig(f'figures/{enfermedad}/accumul_infected.png', format='png', linewidth = 0.01)\n"
     ]
    },
    {
     "data": {
      "image/png": "[encoded data removed]",
      "text/plain": [
       "<Figure size 1080x720 with 1 Axes>"
      ]
     },
     "metadata": {
      "needs_background": "light"
     },
     "output_type": "display_data"
    }
   ],
   "source": [
    "predicted_infected = res[:,1].detach().numpy()\n",
    "real_infected = y[:,1].detach().numpy()\n",
    "plt.figure(figsize=(15,10))\n",
    "\n",
    "plt.plot(data.index, real_infected, color = 'r', linewidth=0, marker='.', label='real_inf')\n",
    "plt.plot(data.index[1:], predicted_infected, color = 'b', linewidth=0, marker='.', label='pred_inf')\n",
    "plt.yscale('log')\n",
    "plt.xlim(0,len(y))\n",
    "plt.ylabel('Proportion')\n",
    "plt.xlabel('Generation')\n",
    "plt.title('Analisis de infectados predichos vs reales')\n",
    "plt.legend()\n",
    "plt.savefig(f'figures/{enfermedad}/accumul_infected.png', format='png', linewidth = 0.01)"
   ]
  },
  {
   "cell_type": "code",
   "execution_count": 30,
   "id": "a4c78e78",
   "metadata": {},
   "outputs": [
    {
     "name": "stderr",
     "output_type": "stream",
     "text": [
      "/var/folders/g0/jqvp4xxs5pn4cds1xb9339xm0000gn/T/ipykernel_40966/825805203.py:12: MatplotlibDeprecationWarning: savefig() got unexpected keyword argument \"linewidth\" which is no longer supported as of 3.3 and will become an error two minor releases later\n",
      "  plt.savefig(f'figures/{enfermedad}/accumul_prediction_rec.png', format='png', linewidth = 0.01)\n"
     ]
    },
    {
     "data": {
      "image/png": "[encoded data removed]",
      "text/plain": [
       "<Figure size 1080x720 with 1 Axes>"
      ]
     },
     "metadata": {
      "needs_background": "light"
     },
     "output_type": "display_data"
    }
   ],
   "source": [
    "\n",
    "predicted_recov = res[:,2].detach().numpy()\n",
    "real_recov = y[:,2].detach().numpy()\n",
    "plt.figure(figsize=(15,10))\n",
    "plt.plot(data.index, real_recov, color = 'r', linewidth=0, marker='.', label='real_rec')\n",
    "plt.plot(data.index[1:], predicted_recov, color = 'b', linewidth=0, marker='.', label='pred_rec')\n",
    "plt.yscale('log')\n",
    "plt.xlim(0,len(y))\n",
    "plt.ylabel('Proportion')\n",
    "plt.xlabel('Generation')\n",
    "plt.title('Analisis de recuperados predichos vs reales')\n",
    "plt.legend()\n",
    "plt.savefig(f'figures/{enfermedad}/accumul_prediction_rec.png', format='png', linewidth = 0.01)"
   ]
  },
  {
   "cell_type": "markdown",
   "id": "5d747f24",
   "metadata": {},
   "source": [
    "Testeemos los parametros"
   ]
  },
  {
   "cell_type": "code",
   "execution_count": 31,
   "id": "61711e68",
   "metadata": {},
   "outputs": [
    {
     "name": "stdout",
     "output_type": "stream",
     "text": [
      "[Parameter containing:\n",
      "tensor([[0.1196]], requires_grad=True), Parameter containing:\n",
      "tensor([[0.0035]], requires_grad=True), Parameter containing:\n",
      "tensor([[0.2243]], requires_grad=True)]\n"
     ]
    }
   ],
   "source": [
    "params = list(model.parameters())\n",
    "lambda1 = params[0].item()\n",
    "lambda2 = params[1].item()\n",
    "lambda3 = params[2].item()\n",
    "print(params)"
   ]
  },
  {
   "cell_type": "markdown",
   "id": "3b66fea9",
   "metadata": {},
   "source": [
    "Recordemos que estamos modelando:\n",
    "\n",
    "$$\\dfrac{ds}{dt} = -\\lambda_1 s i - \\lambda_2 s  $$\n",
    "\\\n",
    "$$\\dfrac{di}{dt} = \\lambda_1 s i - \\lambda_3 i  $$\n",
    "\n",
    "\\\n",
    "$$\\dfrac{dr}{dt} = \\lambda_3 i  $$\n",
    "\\\n",
    "$$\\dfrac{dv}{dt} = \\lambda_2 s  $$\n",
    "\n",
    "\n",
    "\n",
    "Entonces\n",
    "\n",
    "$$\\beta = \\lambda_1 = R_0 / d $$\n",
    "\n",
    "Con d la duración de la infeccion.\n",
    "\n",
    "$$ \\lambda_2 = \\eta $$ la tasa de inmunización y\n",
    "\n",
    "$$ \\lambda_3 = \\nu  = 1 / d $$\n",
    "\n",
    "Primero veamos la tasa de immunizacion"
   ]
  },
  {
   "cell_type": "code",
   "execution_count": 32,
   "id": "90eaeb4d",
   "metadata": {},
   "outputs": [],
   "source": [
    "tasa_immunizacion = (data.apply(lambda x: x.diff()).dropna().mean()/data['Vacunados'].max()).iloc[3]"
   ]
  },
  {
   "cell_type": "code",
   "execution_count": 33,
   "id": "fc002785",
   "metadata": {},
   "outputs": [
    {
     "data": {
      "text/plain": [
       "0.016722650660995812"
      ]
     },
     "execution_count": 33,
     "metadata": {},
     "output_type": "execute_result"
    }
   ],
   "source": [
    "tasa_immunizacion"
   ]
  },
  {
   "cell_type": "code",
   "execution_count": 34,
   "id": "812f4167",
   "metadata": {},
   "outputs": [
    {
     "data": {
      "text/latex": [
       "Deducimos que:\n",
       "$$ \\eta = \\lambda_2 = {0.00352} \\approx {0.01672} $$"
      ],
      "text/plain": [
       "<IPython.core.display.Latex object>"
      ]
     },
     "execution_count": 34,
     "metadata": {},
     "output_type": "execute_result"
    }
   ],
   "source": [
    "from IPython.display import Latex\n",
    "Latex(f\"\"\"Deducimos que:\n",
    "$$ \\eta = \\lambda_2 = {{{lambda2:.5f}}} \\\\approx {{{tasa_immunizacion:.5f}}} $$\"\"\")"
   ]
  },
  {
   "cell_type": "code",
   "execution_count": 35,
   "id": "27af972d",
   "metadata": {},
   "outputs": [
    {
     "data": {
      "text/latex": [
       "Deducimos que:\n",
       "$$ d = 1 / \\lambda_3 = 1 / {0.22} \\approx {4.46} $$\n",
       "$$ R_0 =  \\lambda_1 * d = {0.12} * d \\approx {0.53}$$"
      ],
      "text/plain": [
       "<IPython.core.display.Latex object>"
      ]
     },
     "execution_count": 35,
     "metadata": {},
     "output_type": "execute_result"
    }
   ],
   "source": [
    "Latex(f\"\"\"Deducimos que:\n",
    "$$ d = 1 / \\lambda_3 = 1 / {{{lambda3:.2f}}} \\\\approx {{{1/lambda3:.2f}}} $$\n",
    "$$ R_0 =  \\lambda_1 * d = {{{lambda1:.2f}}} * d \\\\approx {{{lambda1/lambda3:.2f}}}$$\"\"\")"
   ]
  },
  {
   "cell_type": "markdown",
   "id": "d4fd225a",
   "metadata": {},
   "source": [
    "Mientras que la literatura indica:\n",
    "\n",
    "$$ d = 17.5 $$\n",
    "$$ R_0 = 2.65 $$"
   ]
  },
  {
   "cell_type": "markdown",
   "id": "a0ca8030",
   "metadata": {},
   "source": [
    "## Validemos un test de momentos"
   ]
  },
  {
   "cell_type": "code",
   "execution_count": 36,
   "id": "07bfe640",
   "metadata": {},
   "outputs": [],
   "source": [
    "real_susceptible = real_susceptible[1:]\n",
    "real_vaccinated = real_vaccinated[1:]\n",
    "real_infected = real_infected[1:]\n",
    "real_recov = real_recov[1:]"
   ]
  },
  {
   "cell_type": "markdown",
   "id": "ea725fe4",
   "metadata": {},
   "source": [
    "#### Primer momento"
   ]
  },
  {
   "cell_type": "code",
   "execution_count": 37,
   "id": "61acae2d",
   "metadata": {},
   "outputs": [
    {
     "data": {
      "text/plain": [
       "Ttest_indResult(statistic=-0.1122645310510058, pvalue=0.9108086684549512)"
      ]
     },
     "execution_count": 37,
     "metadata": {},
     "output_type": "execute_result"
    }
   ],
   "source": [
    "import scipy\n",
    "\n",
    "scipy.stats.ttest_ind(real_susceptible, predicted_susceptible, equal_var=False)"
   ]
  },
  {
   "cell_type": "code",
   "execution_count": 38,
   "id": "461d8d26",
   "metadata": {},
   "outputs": [
    {
     "data": {
      "text/plain": [
       "Ttest_indResult(statistic=-0.4002777497708895, pvalue=0.6896894196155006)"
      ]
     },
     "execution_count": 38,
     "metadata": {},
     "output_type": "execute_result"
    }
   ],
   "source": [
    "scipy.stats.ttest_ind(real_infected, predicted_infected, equal_var=False)"
   ]
  },
  {
   "cell_type": "code",
   "execution_count": 39,
   "id": "be7f5ae3",
   "metadata": {},
   "outputs": [
    {
     "data": {
      "text/plain": [
       "Ttest_indResult(statistic=0.8425518737933754, pvalue=0.40125901870168723)"
      ]
     },
     "execution_count": 39,
     "metadata": {},
     "output_type": "execute_result"
    }
   ],
   "source": [
    "scipy.stats.ttest_ind(real_recov, predicted_recov, equal_var=False)"
   ]
  },
  {
   "cell_type": "code",
   "execution_count": 40,
   "id": "1020a2e5",
   "metadata": {},
   "outputs": [
    {
     "data": {
      "text/plain": [
       "Ttest_indResult(statistic=0.10468897481610402, pvalue=0.9168042926627114)"
      ]
     },
     "execution_count": 40,
     "metadata": {},
     "output_type": "execute_result"
    }
   ],
   "source": [
    "scipy.stats.ttest_ind(real_vaccinated, predicted_vaccinated, equal_var=False)"
   ]
  },
  {
   "cell_type": "markdown",
   "id": "c3799d0e",
   "metadata": {},
   "source": [
    "#### Segundo momento"
   ]
  },
  {
   "cell_type": "code",
   "execution_count": 41,
   "id": "264555ea",
   "metadata": {},
   "outputs": [
    {
     "data": {
      "text/plain": [
       "BartlettResult(statistic=0.09921048570686253, pvalue=0.7527791469508716)"
      ]
     },
     "execution_count": 41,
     "metadata": {},
     "output_type": "execute_result"
    }
   ],
   "source": [
    "scipy.stats.bartlett(real_infected, predicted_infected)"
   ]
  },
  {
   "cell_type": "code",
   "execution_count": 42,
   "id": "a8d58a5a",
   "metadata": {},
   "outputs": [
    {
     "data": {
      "text/plain": [
       "BartlettResult(statistic=1.5510308976899978, pvalue=0.21298331697474945)"
      ]
     },
     "execution_count": 42,
     "metadata": {},
     "output_type": "execute_result"
    }
   ],
   "source": [
    "scipy.stats.bartlett(real_recov, predicted_recov)"
   ]
  },
  {
   "cell_type": "markdown",
   "id": "f29f39a8",
   "metadata": {},
   "source": [
    "#### Test de bondad de ajuste de KS"
   ]
  },
  {
   "cell_type": "code",
   "execution_count": 43,
   "id": "8ab4f644",
   "metadata": {},
   "outputs": [
    {
     "data": {
      "text/plain": [
       "KstestResult(statistic=0.13559322033898308, pvalue=0.5922172777840153)"
      ]
     },
     "execution_count": 43,
     "metadata": {},
     "output_type": "execute_result"
    }
   ],
   "source": [
    "scipy.stats.kstest(real_susceptible, predicted_susceptible, method='asymp')"
   ]
  },
  {
   "cell_type": "code",
   "execution_count": 44,
   "id": "681bd62e",
   "metadata": {},
   "outputs": [
    {
     "data": {
      "text/plain": [
       "KstestResult(statistic=0.22033898305084748, pvalue=0.09268496186448694)"
      ]
     },
     "execution_count": 44,
     "metadata": {},
     "output_type": "execute_result"
    }
   ],
   "source": [
    "scipy.stats.kstest(real_infected, predicted_infected, method='asymp')"
   ]
  },
  {
   "cell_type": "code",
   "execution_count": 45,
   "id": "9e9078f7",
   "metadata": {},
   "outputs": [
    {
     "data": {
      "text/plain": [
       "KstestResult(statistic=0.2542372881355932, pvalue=0.033868595627819964)"
      ]
     },
     "execution_count": 45,
     "metadata": {},
     "output_type": "execute_result"
    }
   ],
   "source": [
    "scipy.stats.kstest(real_recov, predicted_recov, method='asymp')"
   ]
  },
  {
   "cell_type": "code",
   "execution_count": 46,
   "id": "83a52f64",
   "metadata": {},
   "outputs": [
    {
     "data": {
      "text/plain": [
       "KstestResult(statistic=0.20338983050847448, pvalue=0.1450689205086353)"
      ]
     },
     "execution_count": 46,
     "metadata": {},
     "output_type": "execute_result"
    }
   ],
   "source": [
    "scipy.stats.kstest(real_vaccinated, predicted_vaccinated, method='asymp')\n"
   ]
  },
  {
   "cell_type": "markdown",
   "id": "fb7619d0",
   "metadata": {},
   "source": [
    "#### Test de pearson"
   ]
  },
  {
   "cell_type": "code",
   "execution_count": 47,
   "id": "b196fdbb",
   "metadata": {
    "pycharm": {
     "name": "#%%\n"
    }
   },
   "outputs": [
    {
     "data": {
      "text/plain": [
       "PearsonRResult(statistic=0.9810740457890504, pvalue=2.4430194127325912e-42)"
      ]
     },
     "execution_count": 47,
     "metadata": {},
     "output_type": "execute_result"
    }
   ],
   "source": [
    "scipy.stats.pearsonr(real_susceptible, predicted_susceptible)"
   ]
  },
  {
   "cell_type": "code",
   "execution_count": 48,
   "id": "577b7abd",
   "metadata": {
    "pycharm": {
     "name": "#%%\n"
    }
   },
   "outputs": [
    {
     "data": {
      "text/plain": [
       "PearsonRResult(statistic=0.8419798939117354, pvalue=6.572704928197528e-17)"
      ]
     },
     "execution_count": 48,
     "metadata": {},
     "output_type": "execute_result"
    }
   ],
   "source": [
    "scipy.stats.pearsonr(real_infected, predicted_infected)"
   ]
  },
  {
   "cell_type": "code",
   "execution_count": 49,
   "id": "df9645f1",
   "metadata": {
    "pycharm": {
     "name": "#%%\n"
    }
   },
   "outputs": [
    {
     "data": {
      "text/plain": [
       "PearsonRResult(statistic=0.977823942886145, pvalue=2.1406769419918e-40)"
      ]
     },
     "execution_count": 49,
     "metadata": {},
     "output_type": "execute_result"
    }
   ],
   "source": [
    "scipy.stats.pearsonr(real_recov, predicted_recov)"
   ]
  },
  {
   "cell_type": "code",
   "execution_count": 50,
   "id": "133790b9",
   "metadata": {
    "pycharm": {
     "name": "#%%\n"
    }
   },
   "outputs": [
    {
     "data": {
      "text/plain": [
       "PearsonRResult(statistic=0.9810553844019927, pvalue=2.5119827388539604e-42)"
      ]
     },
     "execution_count": 50,
     "metadata": {},
     "output_type": "execute_result"
    }
   ],
   "source": [
    "scipy.stats.pearsonr(real_vaccinated, predicted_vaccinated)\n"
   ]
  },
  {
   "cell_type": "markdown",
   "id": "cathedral-terminology",
   "metadata": {},
   "source": [
    "## Extrapolar"
   ]
  },
  {
   "cell_type": "code",
   "execution_count": 51,
   "id": "sunset-sustainability",
   "metadata": {},
   "outputs": [],
   "source": [
    "import sys\n",
    "import os\n",
    "sys.path.append('..')\n",
    "import numpy as np\n",
    "import pandas as pd\n",
    "from models import sir\n",
    "from config import get_project_root\n",
    "import torchmetrics\n",
    "from models.pytorchtools import EarlyStopping\n",
    "import pathlib\n",
    "import torch\n",
    "import torch.nn as nn\n",
    "import torch.nn.functional as F\n"
   ]
  },
  {
   "cell_type": "code",
   "execution_count": 52,
   "id": "bfdd20c4",
   "metadata": {},
   "outputs": [],
   "source": [
    "import matplotlib.pyplot as plt\n",
    "%matplotlib inline\n",
    "\n",
    "YEARS_TO_PREDICT = 5\n",
    "\n",
    "model = torch.load(f'models/trained_models/{enfermedad}.pkl')\n",
    "y = torch.from_numpy(data_numpy.astype(np.float32))\n",
    "res = model(y, size_of_starter_set=40, amount_of_prediction_in_future=len(y)+12*YEARS_TO_PREDICT)"
   ]
  },
  {
   "cell_type": "code",
   "execution_count": 53,
   "id": "e7f9bf17",
   "metadata": {},
   "outputs": [
    {
     "data": {
      "text/plain": [
       "119"
      ]
     },
     "execution_count": 53,
     "metadata": {},
     "output_type": "execute_result"
    }
   ],
   "source": [
    "res[:,0].shape[0]"
   ]
  },
  {
   "cell_type": "code",
   "execution_count": 54,
   "id": "375f2551",
   "metadata": {},
   "outputs": [],
   "source": [
    "import pandas as pd\n",
    "df = pd.DataFrame(res.detach().numpy(), columns=['Susceptible', 'Infected', 'Recovered', 'Vaccinated'])\n",
    "df.to_csv(path_or_buf=FINAL_PATH)"
   ]
  },
  {
   "cell_type": "code",
   "execution_count": 55,
   "id": "8bb08e0d",
   "metadata": {},
   "outputs": [
    {
     "name": "stderr",
     "output_type": "stream",
     "text": [
      "/var/folders/g0/jqvp4xxs5pn4cds1xb9339xm0000gn/T/ipykernel_40966/2674275497.py:14: UserWarning: Attempted to set non-positive bottom ylim on a log-scaled axis.\n",
      "Invalid limit will be ignored.\n",
      "  plt.ylim(0, 1)\n",
      "/var/folders/g0/jqvp4xxs5pn4cds1xb9339xm0000gn/T/ipykernel_40966/2674275497.py:22: MatplotlibDeprecationWarning: savefig() got unexpected keyword argument \"linewidth\" which is no longer supported as of 3.3 and will become an error two minor releases later\n",
      "  plt.savefig(f'figures/{enfermedad}/extrapolation_{enfermedad}_log.png', format='png', linewidth = 0.01)\n"
     ]
    },
    {
     "data": {
      "image/png": "[encoded data removed]",
      "text/plain": [
       "<Figure size 1080x720 with 1 Axes>"
      ]
     },
     "metadata": {
      "needs_background": "light"
     },
     "output_type": "display_data"
    }
   ],
   "source": [
    "plt.figure(figsize=(15,10))\n",
    "predicted_susceptible = res[:,0].detach().numpy()\n",
    "predicted_infectous = res[:,1].detach().numpy()\n",
    "predicted_recovered = res[:,2].detach().numpy()\n",
    "predicted_vaccinated = res[:,3].detach().numpy()\n",
    "\n",
    "plt.plot(range(res[:,0].shape[0]), predicted_susceptible, color = 'r', linewidth=0, marker='.', label='sus')\n",
    "plt.plot(range(res[:,0].shape[0]), predicted_infectous, color = 'b', linewidth=0, marker='o', label='inf')\n",
    "plt.plot(range(res[:,0].shape[0]), predicted_recovered, color = 'y', linewidth=0, marker='v', label='rec')\n",
    "plt.plot(range(res[:,0].shape[0]), predicted_vaccinated, color = 'g', linewidth=0, marker='x', label='vac')\n",
    "\n",
    "plt.yscale('log')\n",
    "\n",
    "plt.ylim(0, 1)\n",
    "plt.xlim(0,len(res[:,0]))\n",
    "plt.ylabel('Proportion')\n",
    "plt.xlabel('Generation')\n",
    "x = np.arange(0,len(res[:,0])+1)\n",
    "plt.xticks(np.arange(min(x), max(x)+1, 5.0))\n",
    "plt.title('Extrapolacion del modelo')\n",
    "plt.legend()\n",
    "plt.savefig(f'figures/{enfermedad}/extrapolation_{enfermedad}_log.png', format='png', linewidth = 0.01)"
   ]
  },
  {
   "cell_type": "code",
   "execution_count": 56,
   "id": "generous-graduate",
   "metadata": {},
   "outputs": [
    {
     "name": "stderr",
     "output_type": "stream",
     "text": [
      "/var/folders/g0/jqvp4xxs5pn4cds1xb9339xm0000gn/T/ipykernel_40966/3147206596.py:22: MatplotlibDeprecationWarning: savefig() got unexpected keyword argument \"linewidth\" which is no longer supported as of 3.3 and will become an error two minor releases later\n",
      "  plt.savefig(f'figures/{enfermedad}/extrapolation_{enfermedad}_vac_suc.png', format='png', linewidth = 0.01)\n"
     ]
    },
    {
     "data": {
      "image/png": "[encoded data removed]",
      "text/plain": [
       "<Figure size 1080x720 with 1 Axes>"
      ]
     },
     "metadata": {
      "needs_background": "light"
     },
     "output_type": "display_data"
    }
   ],
   "source": [
    "plt.figure(figsize=(15,10))\n",
    "predicted_susceptible = res[:,0].detach().numpy()\n",
    "# predicted_infectous = res[:,1].detach().numpy()\n",
    "# predicted_recovered = res[:,2].detach().numpy()\n",
    "predicted_vaccinated = res[:,3].detach().numpy()\n",
    "\n",
    "plt.plot(range(res[:,0].shape[0]), predicted_susceptible, color = 'r', linewidth=0, marker='.', label='sus')\n",
    "# plt.plot(range(res[:,0].shape[0]), predicted_infectous, color = 'b', linewidth=0, marker='o', label='inf')\n",
    "# plt.plot(range(res[:,0].shape[0]), predicted_recovered, color = 'y', linewidth=0, marker='v', label='rec')\n",
    "plt.plot(range(res[:,0].shape[0]), predicted_vaccinated, color = 'g', linewidth=0, marker='x', label='vac')\n",
    "\n",
    "# plt.yscale('log')\n",
    "\n",
    "plt.ylim(0, 1)\n",
    "plt.xlim(0,len(res[:,0]))\n",
    "plt.ylabel('Proportion')\n",
    "plt.xlabel('Generation')\n",
    "x = np.arange(0,len(res[:,0])+1)\n",
    "plt.xticks(np.arange(min(x), max(x)+1, 5.0))\n",
    "plt.title('Extrapolacion del modelo')\n",
    "plt.legend()\n",
    "plt.savefig(f'figures/{enfermedad}/extrapolation_{enfermedad}_vac_suc.png', format='png', linewidth = 0.01)"
   ]
  },
  {
   "cell_type": "code",
   "execution_count": 57,
   "id": "running-polls",
   "metadata": {},
   "outputs": [
    {
     "name": "stderr",
     "output_type": "stream",
     "text": [
      "/var/folders/g0/jqvp4xxs5pn4cds1xb9339xm0000gn/T/ipykernel_40966/393367125.py:21: MatplotlibDeprecationWarning: savefig() got unexpected keyword argument \"linewidth\" which is no longer supported as of 3.3 and will become an error two minor releases later\n",
      "  plt.savefig(f'figures/{enfermedad}/extrapolation_{enfermedad}_inf_rec.png', format='png', linewidth = 0.01)\n"
     ]
    },
    {
     "data": {
      "image/png": "[encoded data removed]",
      "text/plain": [
       "<Figure size 1080x720 with 1 Axes>"
      ]
     },
     "metadata": {
      "needs_background": "light"
     },
     "output_type": "display_data"
    }
   ],
   "source": [
    "plt.figure(figsize=(15,10))\n",
    "# predicted_susceptible = res[:,0].detach().numpy()\n",
    "predicted_infectous = res[:,1].detach().numpy()\n",
    "predicted_recovered = res[:,2].detach().numpy()\n",
    "# predicted_vaccinated = res[:,3].detach().numpy()\n",
    "\n",
    "# plt.plot(range(res[:,0].shape[0]), predicted_susceptible, color = 'r', linewidth=0, marker='.', label='sus')\n",
    "plt.plot(range(res[:,0].shape[0]), predicted_infectous, color = 'b', linewidth=0, marker='o', label='inf')\n",
    "plt.plot(range(res[:,0].shape[0]), predicted_recovered, color = 'y', linewidth=0, marker='v', label='rec')\n",
    "# plt.plot(range(res[:,0].shape[0]), predicted_vaccinated, color = 'g', linewidth=0, marker='x', label='vac')\n",
    "\n",
    "# plt.yscale('log')\n",
    "\n",
    "plt.xlim(0,len(res[:,0]))\n",
    "plt.ylabel('Proportion')\n",
    "plt.xlabel('Generation')\n",
    "x = np.arange(0,len(res[:,0])+1)\n",
    "plt.xticks(np.arange(min(x), max(x)+1, 5.0))\n",
    "plt.title('Extrapolacion del modelo')\n",
    "plt.legend()\n",
    "plt.savefig(f'figures/{enfermedad}/extrapolation_{enfermedad}_inf_rec.png', format='png', linewidth = 0.01)"
   ]
  },
  {
   "cell_type": "code",
   "execution_count": null,
   "id": "specific-church",
   "metadata": {},
   "outputs": [],
   "source": []
  },
  {
   "cell_type": "code",
   "execution_count": null,
   "id": "terminal-watson",
   "metadata": {},
   "outputs": [],
   "source": []
  },
  {
   "cell_type": "code",
   "execution_count": null,
   "id": "critical-guatemala",
   "metadata": {},
   "outputs": [],
   "source": []
  }
 ],
 "metadata": {
  "kernelspec": {
   "display_name": "simuladores",
   "language": "python",
   "name": "simuladores"
  },
  "language_info": {
   "codemirror_mode": {
    "name": "ipython",
    "version": 3
   },
   "file_extension": ".py",
   "mimetype": "text/x-python",
   "name": "python",
   "nbconvert_exporter": "python",
   "pygments_lexer": "ipython3",
   "version": "3.9.1"
  }
 },
 "nbformat": 4,
 "nbformat_minor": 5
}
