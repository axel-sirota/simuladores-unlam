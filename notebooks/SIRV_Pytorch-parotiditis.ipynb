{
 "cells": [
  {
   "cell_type": "code",
   "execution_count": 23,
   "id": "80dc7077",
   "metadata": {},
   "outputs": [],
   "source": [
    "import sys\n",
    "import os\n",
    "sys.path.append('..')\n",
    "import numpy as np\n",
    "import pandas as pd\n",
    "from models import sir\n",
    "from config import get_project_root\n",
    "import torchmetrics\n",
    "from models.pytorchtools import EarlyStopping\n",
    "import pathlib"
   ]
  },
  {
   "cell_type": "code",
   "execution_count": 2,
   "id": "0bcfc515",
   "metadata": {},
   "outputs": [],
   "source": [
    "enfermedad='parotiditis'\n",
    "DATA_FOLDER = f'{get_project_root()}/data'\n",
    "INFECTADOS_PATH = f'{DATA_FOLDER}/extrapolated/infectados_{enfermedad}_extrapolado.csv'\n",
    "HABITANTES_PATH = f'{DATA_FOLDER}/extrapolated/habitantes_{enfermedad}_extrapolado.csv'\n",
    "VACUNADOS_PATH = f'{DATA_FOLDER}/extrapolated/vacunados_{enfermedad}_extrapolado.csv'\n",
    "YEARS = [2018, 2019, 2020, 2021, 2022]\n",
    "MONTHS = ['ENE', 'FEB', 'MAR', 'ABR', 'MAY', 'JUN', 'JUL', 'AGOS', 'SEP', 'OCT', 'NOV', 'DIC']\n"
   ]
  },
  {
   "cell_type": "code",
   "execution_count": 3,
   "id": "9b58ccf0",
   "metadata": {},
   "outputs": [
    {
     "data": {
      "text/plain": [
       "11101945"
      ]
     },
     "execution_count": 3,
     "metadata": {},
     "output_type": "execute_result"
    }
   ],
   "source": [
    "habitantes_curve = pd.read_csv(HABITANTES_PATH).set_index('ANO')\n",
    "for month in MONTHS:\n",
    "    habitantes_curve[month] = habitantes_curve['JUL']\n",
    "max_habs = habitantes_curve.max().max()\n",
    "max_habs"
   ]
  },
  {
   "cell_type": "code",
   "execution_count": 4,
   "id": "261f888d",
   "metadata": {},
   "outputs": [],
   "source": [
    "def extract_curve(path=None, df=None):\n",
    "    if df is None:\n",
    "        df = pd.read_csv(path).set_index('ANO')\n",
    "    df = df[df.columns[:12]].T\n",
    "    values = []\n",
    "    for year in YEARS:\n",
    "        values.extend(df[year].tolist())\n",
    "    return pd.Series(values)\n",
    "\n",
    "infectuous_curve = extract_curve(path=INFECTADOS_PATH)  \n",
    "vacunados_curve = extract_curve(path=VACUNADOS_PATH)\n",
    "recovered_curve = pd.Series([0]*len(infectuous_curve))\n",
    "max_habs = max([habitantes_curve.max().max(), vacunados_curve.max().max()])"
   ]
  },
  {
   "cell_type": "code",
   "execution_count": 5,
   "id": "418a99c1",
   "metadata": {},
   "outputs": [
    {
     "data": {
      "text/html": [
       "<div>\n",
       "<style scoped>\n",
       "    .dataframe tbody tr th:only-of-type {\n",
       "        vertical-align: middle;\n",
       "    }\n",
       "\n",
       "    .dataframe tbody tr th {\n",
       "        vertical-align: top;\n",
       "    }\n",
       "\n",
       "    .dataframe thead th {\n",
       "        text-align: right;\n",
       "    }\n",
       "</style>\n",
       "<table border=\"1\" class=\"dataframe\">\n",
       "  <thead>\n",
       "    <tr style=\"text-align: right;\">\n",
       "      <th></th>\n",
       "      <th>ENE</th>\n",
       "      <th>FEB</th>\n",
       "      <th>MAR</th>\n",
       "      <th>ABR</th>\n",
       "      <th>MAY</th>\n",
       "      <th>JUN</th>\n",
       "      <th>JUL</th>\n",
       "      <th>AGOS</th>\n",
       "      <th>SEP</th>\n",
       "      <th>OCT</th>\n",
       "      <th>NOV</th>\n",
       "      <th>DIC</th>\n",
       "    </tr>\n",
       "    <tr>\n",
       "      <th>ANO</th>\n",
       "      <th></th>\n",
       "      <th></th>\n",
       "      <th></th>\n",
       "      <th></th>\n",
       "      <th></th>\n",
       "      <th></th>\n",
       "      <th></th>\n",
       "      <th></th>\n",
       "      <th></th>\n",
       "      <th></th>\n",
       "      <th></th>\n",
       "      <th></th>\n",
       "    </tr>\n",
       "  </thead>\n",
       "  <tbody>\n",
       "    <tr>\n",
       "      <th>2018</th>\n",
       "      <td>10973470</td>\n",
       "      <td>10973470</td>\n",
       "      <td>10973470</td>\n",
       "      <td>10973470</td>\n",
       "      <td>10973470</td>\n",
       "      <td>10973470</td>\n",
       "      <td>10973470</td>\n",
       "      <td>10973470</td>\n",
       "      <td>10973470</td>\n",
       "      <td>10973470</td>\n",
       "      <td>10973470</td>\n",
       "      <td>10973470</td>\n",
       "    </tr>\n",
       "    <tr>\n",
       "      <th>2019</th>\n",
       "      <td>11012606</td>\n",
       "      <td>11012606</td>\n",
       "      <td>11012606</td>\n",
       "      <td>11012606</td>\n",
       "      <td>11012606</td>\n",
       "      <td>11012606</td>\n",
       "      <td>11012606</td>\n",
       "      <td>11012606</td>\n",
       "      <td>11012606</td>\n",
       "      <td>11012606</td>\n",
       "      <td>11012606</td>\n",
       "      <td>11012606</td>\n",
       "    </tr>\n",
       "    <tr>\n",
       "      <th>2020</th>\n",
       "      <td>11047665</td>\n",
       "      <td>11047665</td>\n",
       "      <td>11047665</td>\n",
       "      <td>11047665</td>\n",
       "      <td>11047665</td>\n",
       "      <td>11047665</td>\n",
       "      <td>11047665</td>\n",
       "      <td>11047665</td>\n",
       "      <td>11047665</td>\n",
       "      <td>11047665</td>\n",
       "      <td>11047665</td>\n",
       "      <td>11047665</td>\n",
       "    </tr>\n",
       "    <tr>\n",
       "      <th>2021</th>\n",
       "      <td>11077856</td>\n",
       "      <td>11077856</td>\n",
       "      <td>11077856</td>\n",
       "      <td>11077856</td>\n",
       "      <td>11077856</td>\n",
       "      <td>11077856</td>\n",
       "      <td>11077856</td>\n",
       "      <td>11077856</td>\n",
       "      <td>11077856</td>\n",
       "      <td>11077856</td>\n",
       "      <td>11077856</td>\n",
       "      <td>11077856</td>\n",
       "    </tr>\n",
       "    <tr>\n",
       "      <th>2022</th>\n",
       "      <td>11101945</td>\n",
       "      <td>11101945</td>\n",
       "      <td>11101945</td>\n",
       "      <td>11101945</td>\n",
       "      <td>11101945</td>\n",
       "      <td>11101945</td>\n",
       "      <td>11101945</td>\n",
       "      <td>11101945</td>\n",
       "      <td>11101945</td>\n",
       "      <td>11101945</td>\n",
       "      <td>11101945</td>\n",
       "      <td>11101945</td>\n",
       "    </tr>\n",
       "  </tbody>\n",
       "</table>\n",
       "</div>"
      ],
      "text/plain": [
       "           ENE       FEB       MAR       ABR       MAY       JUN       JUL  \\\n",
       "ANO                                                                          \n",
       "2018  10973470  10973470  10973470  10973470  10973470  10973470  10973470   \n",
       "2019  11012606  11012606  11012606  11012606  11012606  11012606  11012606   \n",
       "2020  11047665  11047665  11047665  11047665  11047665  11047665  11047665   \n",
       "2021  11077856  11077856  11077856  11077856  11077856  11077856  11077856   \n",
       "2022  11101945  11101945  11101945  11101945  11101945  11101945  11101945   \n",
       "\n",
       "          AGOS       SEP       OCT       NOV       DIC  \n",
       "ANO                                                     \n",
       "2018  10973470  10973470  10973470  10973470  10973470  \n",
       "2019  11012606  11012606  11012606  11012606  11012606  \n",
       "2020  11047665  11047665  11047665  11047665  11047665  \n",
       "2021  11077856  11077856  11077856  11077856  11077856  \n",
       "2022  11101945  11101945  11101945  11101945  11101945  "
      ]
     },
     "execution_count": 5,
     "metadata": {},
     "output_type": "execute_result"
    }
   ],
   "source": [
    "habitantes_curve"
   ]
  },
  {
   "cell_type": "code",
   "execution_count": 6,
   "id": "f5c8c6cb",
   "metadata": {},
   "outputs": [],
   "source": [
    "for ix, val in enumerate(infectuous_curve):\n",
    "    try:\n",
    "        recovered_curve[ix+1] += val\n",
    "    except KeyError:\n",
    "        continue"
   ]
  },
  {
   "cell_type": "code",
   "execution_count": 7,
   "id": "6be172d1",
   "metadata": {},
   "outputs": [
    {
     "data": {
      "text/plain": [
       "14543538.0"
      ]
     },
     "execution_count": 7,
     "metadata": {},
     "output_type": "execute_result"
    }
   ],
   "source": [
    "max_habs"
   ]
  },
  {
   "cell_type": "code",
   "execution_count": 8,
   "id": "3848039b",
   "metadata": {},
   "outputs": [],
   "source": [
    "susceptible_curve = max_habs - infectuous_curve - vacunados_curve - recovered_curve\n",
    "susceptible_curve[susceptible_curve<0] = 0\n",
    "\n"
   ]
  },
  {
   "cell_type": "code",
   "execution_count": 9,
   "id": "b781eec1",
   "metadata": {},
   "outputs": [],
   "source": [
    "data = pd.concat([susceptible_curve, infectuous_curve, recovered_curve, vacunados_curve], axis=1).rename(columns={0:'Susceptible', 1:'Infectados', 2:'Recuperados', 3:'Vacunados'})\n",
    "infectados_real = data.diff()['Infectados']\n",
    "infectados_real.loc[0] = 0\n",
    "infectados_real\n",
    "data['Infectados'] = infectados_real"
   ]
  },
  {
   "cell_type": "code",
   "execution_count": 10,
   "id": "62d1c4f9",
   "metadata": {},
   "outputs": [
    {
     "data": {
      "text/html": [
       "<div>\n",
       "<style scoped>\n",
       "    .dataframe tbody tr th:only-of-type {\n",
       "        vertical-align: middle;\n",
       "    }\n",
       "\n",
       "    .dataframe tbody tr th {\n",
       "        vertical-align: top;\n",
       "    }\n",
       "\n",
       "    .dataframe thead th {\n",
       "        text-align: right;\n",
       "    }\n",
       "</style>\n",
       "<table border=\"1\" class=\"dataframe\">\n",
       "  <thead>\n",
       "    <tr style=\"text-align: right;\">\n",
       "      <th></th>\n",
       "      <th>Susceptible</th>\n",
       "      <th>Infectados</th>\n",
       "      <th>Recuperados</th>\n",
       "      <th>Vacunados</th>\n",
       "    </tr>\n",
       "  </thead>\n",
       "  <tbody>\n",
       "    <tr>\n",
       "      <th>0</th>\n",
       "      <td>3522359.0</td>\n",
       "      <td>0.0</td>\n",
       "      <td>0</td>\n",
       "      <td>11021179.0</td>\n",
       "    </tr>\n",
       "    <tr>\n",
       "      <th>1</th>\n",
       "      <td>3264772.0</td>\n",
       "      <td>0.0</td>\n",
       "      <td>0</td>\n",
       "      <td>11278766.0</td>\n",
       "    </tr>\n",
       "    <tr>\n",
       "      <th>2</th>\n",
       "      <td>2486898.0</td>\n",
       "      <td>0.0</td>\n",
       "      <td>0</td>\n",
       "      <td>12056640.0</td>\n",
       "    </tr>\n",
       "    <tr>\n",
       "      <th>3</th>\n",
       "      <td>2434722.0</td>\n",
       "      <td>0.0</td>\n",
       "      <td>0</td>\n",
       "      <td>12108816.0</td>\n",
       "    </tr>\n",
       "    <tr>\n",
       "      <th>4</th>\n",
       "      <td>2368620.0</td>\n",
       "      <td>160.0</td>\n",
       "      <td>0</td>\n",
       "      <td>12174758.0</td>\n",
       "    </tr>\n",
       "    <tr>\n",
       "      <th>5</th>\n",
       "      <td>2323345.0</td>\n",
       "      <td>7.0</td>\n",
       "      <td>160</td>\n",
       "      <td>12219866.0</td>\n",
       "    </tr>\n",
       "    <tr>\n",
       "      <th>6</th>\n",
       "      <td>2278774.0</td>\n",
       "      <td>20.0</td>\n",
       "      <td>167</td>\n",
       "      <td>12264410.0</td>\n",
       "    </tr>\n",
       "    <tr>\n",
       "      <th>7</th>\n",
       "      <td>2220164.0</td>\n",
       "      <td>16.0</td>\n",
       "      <td>187</td>\n",
       "      <td>12322984.0</td>\n",
       "    </tr>\n",
       "    <tr>\n",
       "      <th>8</th>\n",
       "      <td>2143566.0</td>\n",
       "      <td>27.0</td>\n",
       "      <td>203</td>\n",
       "      <td>12399539.0</td>\n",
       "    </tr>\n",
       "    <tr>\n",
       "      <th>9</th>\n",
       "      <td>2074341.0</td>\n",
       "      <td>16.0</td>\n",
       "      <td>230</td>\n",
       "      <td>12468721.0</td>\n",
       "    </tr>\n",
       "    <tr>\n",
       "      <th>10</th>\n",
       "      <td>2018959.0</td>\n",
       "      <td>19.0</td>\n",
       "      <td>246</td>\n",
       "      <td>12524068.0</td>\n",
       "    </tr>\n",
       "    <tr>\n",
       "      <th>11</th>\n",
       "      <td>1971337.0</td>\n",
       "      <td>161.0</td>\n",
       "      <td>265</td>\n",
       "      <td>12571510.0</td>\n",
       "    </tr>\n",
       "    <tr>\n",
       "      <th>12</th>\n",
       "      <td>1919864.0</td>\n",
       "      <td>0.0</td>\n",
       "      <td>426</td>\n",
       "      <td>12622822.0</td>\n",
       "    </tr>\n",
       "    <tr>\n",
       "      <th>13</th>\n",
       "      <td>1854645.0</td>\n",
       "      <td>187.0</td>\n",
       "      <td>426</td>\n",
       "      <td>12687854.0</td>\n",
       "    </tr>\n",
       "    <tr>\n",
       "      <th>14</th>\n",
       "      <td>1788295.0</td>\n",
       "      <td>5.0</td>\n",
       "      <td>613</td>\n",
       "      <td>12754012.0</td>\n",
       "    </tr>\n",
       "    <tr>\n",
       "      <th>15</th>\n",
       "      <td>1729473.0</td>\n",
       "      <td>7.0</td>\n",
       "      <td>618</td>\n",
       "      <td>12812822.0</td>\n",
       "    </tr>\n",
       "    <tr>\n",
       "      <th>16</th>\n",
       "      <td>1669626.0</td>\n",
       "      <td>12.0</td>\n",
       "      <td>625</td>\n",
       "      <td>12872650.0</td>\n",
       "    </tr>\n",
       "    <tr>\n",
       "      <th>17</th>\n",
       "      <td>1623127.0</td>\n",
       "      <td>12.0</td>\n",
       "      <td>637</td>\n",
       "      <td>12919125.0</td>\n",
       "    </tr>\n",
       "    <tr>\n",
       "      <th>18</th>\n",
       "      <td>1571807.0</td>\n",
       "      <td>6.0</td>\n",
       "      <td>649</td>\n",
       "      <td>12970427.0</td>\n",
       "    </tr>\n",
       "    <tr>\n",
       "      <th>19</th>\n",
       "      <td>1518952.0</td>\n",
       "      <td>0.0</td>\n",
       "      <td>655</td>\n",
       "      <td>13023276.0</td>\n",
       "    </tr>\n",
       "    <tr>\n",
       "      <th>20</th>\n",
       "      <td>1445628.0</td>\n",
       "      <td>21.0</td>\n",
       "      <td>655</td>\n",
       "      <td>13096579.0</td>\n",
       "    </tr>\n",
       "    <tr>\n",
       "      <th>21</th>\n",
       "      <td>1301694.0</td>\n",
       "      <td>11.0</td>\n",
       "      <td>676</td>\n",
       "      <td>13240481.0</td>\n",
       "    </tr>\n",
       "    <tr>\n",
       "      <th>22</th>\n",
       "      <td>1203105.0</td>\n",
       "      <td>10.0</td>\n",
       "      <td>687</td>\n",
       "      <td>13339049.0</td>\n",
       "    </tr>\n",
       "    <tr>\n",
       "      <th>23</th>\n",
       "      <td>1122748.0</td>\n",
       "      <td>194.0</td>\n",
       "      <td>697</td>\n",
       "      <td>13419202.0</td>\n",
       "    </tr>\n",
       "    <tr>\n",
       "      <th>24</th>\n",
       "      <td>1108024.0</td>\n",
       "      <td>110.0</td>\n",
       "      <td>891</td>\n",
       "      <td>13433622.0</td>\n",
       "    </tr>\n",
       "    <tr>\n",
       "      <th>25</th>\n",
       "      <td>1095550.0</td>\n",
       "      <td>21.0</td>\n",
       "      <td>1001</td>\n",
       "      <td>13445965.0</td>\n",
       "    </tr>\n",
       "    <tr>\n",
       "      <th>26</th>\n",
       "      <td>1083371.0</td>\n",
       "      <td>20.0</td>\n",
       "      <td>1022</td>\n",
       "      <td>13458103.0</td>\n",
       "    </tr>\n",
       "    <tr>\n",
       "      <th>27</th>\n",
       "      <td>1070733.0</td>\n",
       "      <td>1.0</td>\n",
       "      <td>1042</td>\n",
       "      <td>13470720.0</td>\n",
       "    </tr>\n",
       "    <tr>\n",
       "      <th>28</th>\n",
       "      <td>1058229.0</td>\n",
       "      <td>5.0</td>\n",
       "      <td>1043</td>\n",
       "      <td>13483218.0</td>\n",
       "    </tr>\n",
       "    <tr>\n",
       "      <th>29</th>\n",
       "      <td>1046531.0</td>\n",
       "      <td>2.0</td>\n",
       "      <td>1048</td>\n",
       "      <td>13494909.0</td>\n",
       "    </tr>\n",
       "    <tr>\n",
       "      <th>30</th>\n",
       "      <td>1036586.0</td>\n",
       "      <td>0.0</td>\n",
       "      <td>1050</td>\n",
       "      <td>13504852.0</td>\n",
       "    </tr>\n",
       "    <tr>\n",
       "      <th>31</th>\n",
       "      <td>1030887.0</td>\n",
       "      <td>2.0</td>\n",
       "      <td>1050</td>\n",
       "      <td>13510549.0</td>\n",
       "    </tr>\n",
       "    <tr>\n",
       "      <th>32</th>\n",
       "      <td>1030463.0</td>\n",
       "      <td>0.0</td>\n",
       "      <td>1052</td>\n",
       "      <td>13510971.0</td>\n",
       "    </tr>\n",
       "    <tr>\n",
       "      <th>33</th>\n",
       "      <td>1030454.0</td>\n",
       "      <td>0.0</td>\n",
       "      <td>1052</td>\n",
       "      <td>13510980.0</td>\n",
       "    </tr>\n",
       "    <tr>\n",
       "      <th>34</th>\n",
       "      <td>1030446.0</td>\n",
       "      <td>0.0</td>\n",
       "      <td>1052</td>\n",
       "      <td>13510988.0</td>\n",
       "    </tr>\n",
       "    <tr>\n",
       "      <th>35</th>\n",
       "      <td>1030339.0</td>\n",
       "      <td>102.0</td>\n",
       "      <td>1052</td>\n",
       "      <td>13510993.0</td>\n",
       "    </tr>\n",
       "    <tr>\n",
       "      <th>36</th>\n",
       "      <td>1030187.0</td>\n",
       "      <td>48.0</td>\n",
       "      <td>1154</td>\n",
       "      <td>13510995.0</td>\n",
       "    </tr>\n",
       "    <tr>\n",
       "      <th>37</th>\n",
       "      <td>1030134.0</td>\n",
       "      <td>0.0</td>\n",
       "      <td>1202</td>\n",
       "      <td>13511000.0</td>\n",
       "    </tr>\n",
       "    <tr>\n",
       "      <th>38</th>\n",
       "      <td>1030129.0</td>\n",
       "      <td>3.0</td>\n",
       "      <td>1202</td>\n",
       "      <td>13511002.0</td>\n",
       "    </tr>\n",
       "    <tr>\n",
       "      <th>39</th>\n",
       "      <td>1030118.0</td>\n",
       "      <td>0.0</td>\n",
       "      <td>1205</td>\n",
       "      <td>13511010.0</td>\n",
       "    </tr>\n",
       "    <tr>\n",
       "      <th>40</th>\n",
       "      <td>1030114.0</td>\n",
       "      <td>3.0</td>\n",
       "      <td>1205</td>\n",
       "      <td>13511011.0</td>\n",
       "    </tr>\n",
       "    <tr>\n",
       "      <th>41</th>\n",
       "      <td>1030103.0</td>\n",
       "      <td>4.0</td>\n",
       "      <td>1208</td>\n",
       "      <td>13511015.0</td>\n",
       "    </tr>\n",
       "    <tr>\n",
       "      <th>42</th>\n",
       "      <td>1030098.0</td>\n",
       "      <td>0.0</td>\n",
       "      <td>1212</td>\n",
       "      <td>13511016.0</td>\n",
       "    </tr>\n",
       "    <tr>\n",
       "      <th>43</th>\n",
       "      <td>1030087.0</td>\n",
       "      <td>5.0</td>\n",
       "      <td>1212</td>\n",
       "      <td>13511022.0</td>\n",
       "    </tr>\n",
       "    <tr>\n",
       "      <th>44</th>\n",
       "      <td>979024.0</td>\n",
       "      <td>4.0</td>\n",
       "      <td>1217</td>\n",
       "      <td>13562076.0</td>\n",
       "    </tr>\n",
       "    <tr>\n",
       "      <th>45</th>\n",
       "      <td>921187.0</td>\n",
       "      <td>12.0</td>\n",
       "      <td>1221</td>\n",
       "      <td>13619897.0</td>\n",
       "    </tr>\n",
       "    <tr>\n",
       "      <th>46</th>\n",
       "      <td>844298.0</td>\n",
       "      <td>5.0</td>\n",
       "      <td>1233</td>\n",
       "      <td>13696769.0</td>\n",
       "    </tr>\n",
       "    <tr>\n",
       "      <th>47</th>\n",
       "      <td>800301.0</td>\n",
       "      <td>60.0</td>\n",
       "      <td>1238</td>\n",
       "      <td>13740701.0</td>\n",
       "    </tr>\n",
       "    <tr>\n",
       "      <th>48</th>\n",
       "      <td>747644.0</td>\n",
       "      <td>0.0</td>\n",
       "      <td>1298</td>\n",
       "      <td>13793298.0</td>\n",
       "    </tr>\n",
       "    <tr>\n",
       "      <th>49</th>\n",
       "      <td>644056.0</td>\n",
       "      <td>109.0</td>\n",
       "      <td>1298</td>\n",
       "      <td>13896777.0</td>\n",
       "    </tr>\n",
       "    <tr>\n",
       "      <th>50</th>\n",
       "      <td>549675.0</td>\n",
       "      <td>0.0</td>\n",
       "      <td>1407</td>\n",
       "      <td>13991049.0</td>\n",
       "    </tr>\n",
       "    <tr>\n",
       "      <th>51</th>\n",
       "      <td>465963.0</td>\n",
       "      <td>104.0</td>\n",
       "      <td>1407</td>\n",
       "      <td>14074657.0</td>\n",
       "    </tr>\n",
       "    <tr>\n",
       "      <th>52</th>\n",
       "      <td>381761.0</td>\n",
       "      <td>15.0</td>\n",
       "      <td>1511</td>\n",
       "      <td>14158740.0</td>\n",
       "    </tr>\n",
       "    <tr>\n",
       "      <th>53</th>\n",
       "      <td>291237.0</td>\n",
       "      <td>8.0</td>\n",
       "      <td>1526</td>\n",
       "      <td>14249241.0</td>\n",
       "    </tr>\n",
       "    <tr>\n",
       "      <th>54</th>\n",
       "      <td>191655.0</td>\n",
       "      <td>4.0</td>\n",
       "      <td>1534</td>\n",
       "      <td>14348811.0</td>\n",
       "    </tr>\n",
       "    <tr>\n",
       "      <th>55</th>\n",
       "      <td>86244.0</td>\n",
       "      <td>37.0</td>\n",
       "      <td>1538</td>\n",
       "      <td>14454181.0</td>\n",
       "    </tr>\n",
       "    <tr>\n",
       "      <th>56</th>\n",
       "      <td>0.0</td>\n",
       "      <td>9.0</td>\n",
       "      <td>1575</td>\n",
       "      <td>14543538.0</td>\n",
       "    </tr>\n",
       "    <tr>\n",
       "      <th>57</th>\n",
       "      <td>0.0</td>\n",
       "      <td>2.0</td>\n",
       "      <td>1584</td>\n",
       "      <td>14543538.0</td>\n",
       "    </tr>\n",
       "    <tr>\n",
       "      <th>58</th>\n",
       "      <td>0.0</td>\n",
       "      <td>0.0</td>\n",
       "      <td>1586</td>\n",
       "      <td>14543538.0</td>\n",
       "    </tr>\n",
       "    <tr>\n",
       "      <th>59</th>\n",
       "      <td>0.0</td>\n",
       "      <td>0.0</td>\n",
       "      <td>1586</td>\n",
       "      <td>14543538.0</td>\n",
       "    </tr>\n",
       "  </tbody>\n",
       "</table>\n",
       "</div>"
      ],
      "text/plain": [
       "    Susceptible  Infectados  Recuperados   Vacunados\n",
       "0     3522359.0         0.0            0  11021179.0\n",
       "1     3264772.0         0.0            0  11278766.0\n",
       "2     2486898.0         0.0            0  12056640.0\n",
       "3     2434722.0         0.0            0  12108816.0\n",
       "4     2368620.0       160.0            0  12174758.0\n",
       "5     2323345.0         7.0          160  12219866.0\n",
       "6     2278774.0        20.0          167  12264410.0\n",
       "7     2220164.0        16.0          187  12322984.0\n",
       "8     2143566.0        27.0          203  12399539.0\n",
       "9     2074341.0        16.0          230  12468721.0\n",
       "10    2018959.0        19.0          246  12524068.0\n",
       "11    1971337.0       161.0          265  12571510.0\n",
       "12    1919864.0         0.0          426  12622822.0\n",
       "13    1854645.0       187.0          426  12687854.0\n",
       "14    1788295.0         5.0          613  12754012.0\n",
       "15    1729473.0         7.0          618  12812822.0\n",
       "16    1669626.0        12.0          625  12872650.0\n",
       "17    1623127.0        12.0          637  12919125.0\n",
       "18    1571807.0         6.0          649  12970427.0\n",
       "19    1518952.0         0.0          655  13023276.0\n",
       "20    1445628.0        21.0          655  13096579.0\n",
       "21    1301694.0        11.0          676  13240481.0\n",
       "22    1203105.0        10.0          687  13339049.0\n",
       "23    1122748.0       194.0          697  13419202.0\n",
       "24    1108024.0       110.0          891  13433622.0\n",
       "25    1095550.0        21.0         1001  13445965.0\n",
       "26    1083371.0        20.0         1022  13458103.0\n",
       "27    1070733.0         1.0         1042  13470720.0\n",
       "28    1058229.0         5.0         1043  13483218.0\n",
       "29    1046531.0         2.0         1048  13494909.0\n",
       "30    1036586.0         0.0         1050  13504852.0\n",
       "31    1030887.0         2.0         1050  13510549.0\n",
       "32    1030463.0         0.0         1052  13510971.0\n",
       "33    1030454.0         0.0         1052  13510980.0\n",
       "34    1030446.0         0.0         1052  13510988.0\n",
       "35    1030339.0       102.0         1052  13510993.0\n",
       "36    1030187.0        48.0         1154  13510995.0\n",
       "37    1030134.0         0.0         1202  13511000.0\n",
       "38    1030129.0         3.0         1202  13511002.0\n",
       "39    1030118.0         0.0         1205  13511010.0\n",
       "40    1030114.0         3.0         1205  13511011.0\n",
       "41    1030103.0         4.0         1208  13511015.0\n",
       "42    1030098.0         0.0         1212  13511016.0\n",
       "43    1030087.0         5.0         1212  13511022.0\n",
       "44     979024.0         4.0         1217  13562076.0\n",
       "45     921187.0        12.0         1221  13619897.0\n",
       "46     844298.0         5.0         1233  13696769.0\n",
       "47     800301.0        60.0         1238  13740701.0\n",
       "48     747644.0         0.0         1298  13793298.0\n",
       "49     644056.0       109.0         1298  13896777.0\n",
       "50     549675.0         0.0         1407  13991049.0\n",
       "51     465963.0       104.0         1407  14074657.0\n",
       "52     381761.0        15.0         1511  14158740.0\n",
       "53     291237.0         8.0         1526  14249241.0\n",
       "54     191655.0         4.0         1534  14348811.0\n",
       "55      86244.0        37.0         1538  14454181.0\n",
       "56          0.0         9.0         1575  14543538.0\n",
       "57          0.0         2.0         1584  14543538.0\n",
       "58          0.0         0.0         1586  14543538.0\n",
       "59          0.0         0.0         1586  14543538.0"
      ]
     },
     "execution_count": 10,
     "metadata": {},
     "output_type": "execute_result"
    }
   ],
   "source": [
    "data"
   ]
  },
  {
   "cell_type": "code",
   "execution_count": 11,
   "id": "7d7850f1",
   "metadata": {},
   "outputs": [],
   "source": [
    "data_numpy = np.array(data)/max_habs"
   ]
  },
  {
   "cell_type": "code",
   "execution_count": 12,
   "id": "dd08e581",
   "metadata": {},
   "outputs": [],
   "source": [
    "import torch\n",
    "import torch.nn as nn\n",
    "import torch.nn.functional as F\n"
   ]
  },
  {
   "cell_type": "code",
   "execution_count": 13,
   "id": "780383ea",
   "metadata": {},
   "outputs": [],
   "source": [
    "class SIRV(nn.Module):\n",
    "    def __init__(self, epsilon=1e-7):\n",
    "        super(SIRV, self).__init__()\n",
    "        self.lambda1 = nn.Linear(1,1, bias = False) # tasa de contacto efectivo\n",
    "        self.lambda2 = nn.Linear(1,1, bias = False) # tasa de immunizacion\n",
    "        self.lambda3 = nn.Linear(1,1, bias = False) # tasa de recuperacion\n",
    "        torch.nn.init.xavier_uniform_(self.lambda1.weight, gain=0.01)\n",
    "        torch.nn.init.xavier_uniform_(self.lambda2.weight, gain=0.01)\n",
    "        torch.nn.init.xavier_uniform_(self.lambda3.weight, gain=0.01)\n",
    "        self.epsilon = epsilon\n",
    "    \n",
    "    def forward(self, x, size_of_starter_set, amount_of_prediction_in_future):\n",
    "        assert size_of_starter_set < amount_of_prediction_in_future\n",
    "        ns = torch.zeros([amount_of_prediction_in_future, 4],dtype=torch.float, requires_grad = False)\n",
    "        torch.nn.init.xavier_uniform_(ns, gain=0.01)\n",
    "        x[x==0] = self.epsilon\n",
    "        ns[:x.shape[0]] = x.view(x.shape[0], 4).clone()\n",
    "        for i in range(size_of_starter_set,amount_of_prediction_in_future):\n",
    "            a = ns[i-1].clone()\n",
    "            ns[i][0] = a[0].view(1,1) - self.lambda1(a[0]*a[1].view(1,1)) - self.lambda2(a[0].view(1,1))\n",
    "            ns[i][1] = a[1].view(1,1) + self.lambda1(a[0]*a[1].view(1,1)) - self.lambda3(a[1].view(1,1))  - self.lambda2(a[1].view(1,1))\n",
    "            ns[i][2] = a[2].view(1,1) + self.lambda3(a[1].view(1,1))\n",
    "            ns[i][3] = a[3].view(1,1) + self.lambda2(a[0].view(1,1)) + self.lambda2(a[1].view(1,1)) \n",
    "        return ns[1:].reshape(-1,4)\n"
   ]
  },
  {
   "cell_type": "code",
   "execution_count": 14,
   "id": "f8a93328",
   "metadata": {},
   "outputs": [],
   "source": [
    "def loss_custom(pred, actual):\n",
    "    loss_func = nn.SmoothL1Loss()\n",
    "    loss_big = loss_func(pred[:,3], actual[:,3]) + loss_func(pred[:,0], actual[:,0])\n",
    "    loss_small = loss_func(pred[:,1], actual[:,1]) + loss_func(pred[:,2], actual[:,2])\n",
    "    return 1000*loss_small + loss_big"
   ]
  },
  {
   "cell_type": "code",
   "execution_count": 15,
   "id": "e50c1d31",
   "metadata": {
    "scrolled": false
   },
   "outputs": [],
   "source": [
    "y = torch.from_numpy(data_numpy.astype(np.float32))\n"
   ]
  },
  {
   "cell_type": "code",
   "execution_count": 16,
   "id": "5c62e9b3",
   "metadata": {},
   "outputs": [
    {
     "data": {
      "text/plain": [
       "torch.Size([60, 4])"
      ]
     },
     "execution_count": 16,
     "metadata": {},
     "output_type": "execute_result"
    }
   ],
   "source": [
    "y.size()"
   ]
  },
  {
   "cell_type": "code",
   "execution_count": 17,
   "id": "aa61060a",
   "metadata": {},
   "outputs": [],
   "source": [
    "def train(train_set, fold_size=10, future_size=5):\n",
    "    epsilon = 1e-15\n",
    "    sir = SIRV(epsilon=epsilon)\n",
    "    opt = torch.optim.Adam(sir.parameters(), lr=0.05)\n",
    "    best = 10000\n",
    "    early_stopping = EarlyStopping(patience=25, verbose=False, delta=1e-7)\n",
    "    for epoch in range(500):\n",
    "        out = sir(train_set[:fold_size], size_of_starter_set=min(10, fold_size), amount_of_prediction_in_future=fold_size + future_size+1)\n",
    "        out = out.squeeze()\n",
    "        loss = loss_custom(out, train_set[:fold_size + future_size])\n",
    "        loss.backward()\n",
    "        opt.step() \n",
    "        opt.zero_grad()\n",
    "        if loss.item() < best:\n",
    "            best = loss.item()\n",
    "            torch.save(sir, f'{enfermedad}_{fold_size}.pkl')\n",
    "        if epoch%100 == 0:        \n",
    "            print(f'Epoch: {epoch}, loss: {loss.item()}')\n",
    "        if loss.isnan():\n",
    "            raise ValueError()\n",
    "        for p in sir.parameters():\n",
    "            p.data.clamp_(0)\n",
    "        if epoch > 100:\n",
    "            early_stopping(loss.item(), sir)\n",
    "\n",
    "            if early_stopping.early_stop:\n",
    "                print(\"Early stopping\")\n",
    "                break\n",
    "    return best\n",
    "    \n",
    "\n",
    "def train_and_val_k_fold():\n",
    "    divergences = []\n",
    "    rmses = []\n",
    "    losses = {}\n",
    "    future_index_check = 10\n",
    "    min_datapoints = 40\n",
    "    for fold_size in range(min_datapoints, len(y)-future_index_check):\n",
    "        print(f'\\nAnalyzing fold: {fold_size}\\n')\n",
    "        folded_train_set = y[:fold_size+future_index_check].clone()\n",
    "        best_loss = train(train_set=folded_train_set, fold_size=fold_size, future_size=future_index_check)\n",
    "        model = torch.load(f'{enfermedad}_{fold_size}.pkl')\n",
    "        preds = model(folded_train_set[:fold_size], size_of_starter_set=fold_size, amount_of_prediction_in_future=len(folded_train_set)+1)[fold_size:fold_size+future_index_check]\n",
    "        target = y[fold_size:fold_size+future_index_check]\n",
    "        kl_divergence = torchmetrics.functional.kl_divergence(target, preds).detach().item()\n",
    "        rmse = torch.sqrt(torchmetrics.functional.mean_squared_error(target, preds)).detach().item()\n",
    "        print(f'\\nKL Divergence:{kl_divergence}\\n')\n",
    "        print(f'\\nRMSE:{rmse}\\n')\n",
    "        divergences.append(kl_divergence)\n",
    "        rmses.append(rmse)\n",
    "        losses[fold_size] = best_loss\n",
    "    return divergences, rmses, losses"
   ]
  },
  {
   "cell_type": "code",
   "execution_count": 18,
   "id": "15d283ea",
   "metadata": {},
   "outputs": [
    {
     "name": "stdout",
     "output_type": "stream",
     "text": [
      "\n",
      "Analyzing fold: 40\n",
      "\n",
      "Epoch: 0, loss: 0.006411671172827482\n",
      "Epoch: 100, loss: 0.0001311961532337591\n",
      "EarlyStopping reached!\n",
      "Early stopping\n",
      "\n",
      "KL Divergence:0.0003156359598506242\n",
      "\n",
      "\n",
      "RMSE:0.004018383100628853\n",
      "\n",
      "\n",
      "Analyzing fold: 41\n",
      "\n",
      "Epoch: 0, loss: 0.0021782394032925367\n",
      "Epoch: 100, loss: 0.0001284898171434179\n",
      "EarlyStopping reached!\n",
      "Early stopping\n",
      "\n",
      "KL Divergence:0.0004792308318428695\n",
      "\n",
      "\n",
      "RMSE:0.004864288028329611\n",
      "\n",
      "\n",
      "Analyzing fold: 42\n",
      "\n",
      "Epoch: 0, loss: 0.007614361122250557\n",
      "Epoch: 100, loss: 0.0001351342798443511\n",
      "EarlyStopping reached!\n",
      "Early stopping\n",
      "\n",
      "KL Divergence:0.0009822690626606345\n",
      "\n",
      "\n",
      "RMSE:0.006704710423946381\n",
      "\n",
      "\n",
      "Analyzing fold: 43\n",
      "\n",
      "Epoch: 0, loss: 0.00047913994058035314\n",
      "Epoch: 100, loss: 0.00013057611067779362\n",
      "EarlyStopping reached!\n",
      "Early stopping\n",
      "\n",
      "KL Divergence:0.0020052953623235226\n",
      "\n",
      "\n",
      "RMSE:0.00928496103733778\n",
      "\n",
      "\n",
      "Analyzing fold: 44\n",
      "\n",
      "Epoch: 0, loss: 0.0008023656555451453\n",
      "Epoch: 100, loss: 0.00013630304601974785\n",
      "EarlyStopping reached!\n",
      "Early stopping\n",
      "\n",
      "KL Divergence:0.003553150687366724\n",
      "\n",
      "\n",
      "RMSE:0.01225974876433611\n",
      "\n",
      "\n",
      "Analyzing fold: 45\n",
      "\n",
      "Epoch: 0, loss: 0.0011106652673333883\n",
      "Epoch: 100, loss: 0.00014594927779398859\n",
      "EarlyStopping reached!\n",
      "Early stopping\n",
      "\n",
      "KL Divergence:0.005131142679601908\n",
      "\n",
      "\n",
      "RMSE:0.01402273029088974\n",
      "\n",
      "\n",
      "Analyzing fold: 46\n",
      "\n",
      "Epoch: 0, loss: 0.0076832096092402935\n",
      "Epoch: 100, loss: 0.00017216931155417114\n",
      "EarlyStopping reached!\n",
      "Early stopping\n",
      "\n",
      "KL Divergence:0.007425142917782068\n",
      "\n",
      "\n",
      "RMSE:0.015761129558086395\n",
      "\n",
      "\n",
      "Analyzing fold: 47\n",
      "\n",
      "Epoch: 0, loss: 0.005478750914335251\n",
      "Epoch: 100, loss: 0.0001811031688703224\n",
      "EarlyStopping reached!\n",
      "Early stopping\n",
      "\n",
      "KL Divergence:0.010640531778335571\n",
      "\n",
      "\n",
      "RMSE:0.016965078189969063\n",
      "\n",
      "\n",
      "Analyzing fold: 48\n",
      "\n",
      "Epoch: 0, loss: 0.021451875567436218\n",
      "Epoch: 100, loss: 0.0021561766043305397\n",
      "EarlyStopping reached!\n",
      "Early stopping\n",
      "\n",
      "KL Divergence:0.013779659755527973\n",
      "\n",
      "\n",
      "RMSE:0.0181319210678339\n",
      "\n",
      "\n",
      "Analyzing fold: 49\n",
      "\n",
      "Epoch: 0, loss: 0.007698908913880587\n",
      "Epoch: 100, loss: 0.00022438591986428946\n",
      "EarlyStopping reached!\n",
      "Early stopping\n",
      "\n",
      "KL Divergence:0.01707785204052925\n",
      "\n",
      "\n",
      "RMSE:0.019414624199271202\n",
      "\n"
     ]
    }
   ],
   "source": [
    "divergences, rmses, losses = train_and_val_k_fold()"
   ]
  },
  {
   "cell_type": "code",
   "execution_count": 19,
   "id": "481b4ea5",
   "metadata": {},
   "outputs": [
    {
     "name": "stdout",
     "output_type": "stream",
     "text": [
      "Cross-validated KL Divergence: 0.006138991107582115\n",
      "Cross-validated RMSE: 0.012142757466062904\n"
     ]
    }
   ],
   "source": [
    "print(f'Cross-validated KL Divergence: {pd.Series(divergences).mean()}')\n",
    "print(f'Cross-validated RMSE: {pd.Series(rmses).mean()}')"
   ]
  },
  {
   "cell_type": "code",
   "execution_count": 21,
   "id": "80055f6d",
   "metadata": {},
   "outputs": [],
   "source": [
    "import matplotlib.pyplot as plt\n",
    "%matplotlib inline\n",
    "\n",
    "best_fold_size = min(losses, key=losses.get)\n",
    "model = torch.load(f'{enfermedad}_{best_fold_size}.pkl')\n",
    "torch.save(model, f'{enfermedad}.pkl')\n",
    "\n",
    "y = torch.from_numpy(data_numpy.astype(np.float32))\n",
    "res = model(y, size_of_starter_set=best_fold_size, amount_of_prediction_in_future=len(y))\n"
   ]
  },
  {
   "cell_type": "code",
   "execution_count": 27,
   "id": "d8ebd9c5",
   "metadata": {},
   "outputs": [
    {
     "name": "stdout",
     "output_type": "stream",
     "text": [
      "Error: parotiditis_59.pkl file not found\n"
     ]
    }
   ],
   "source": [
    "for i in range(len(y)):\n",
    "    file_to_rem = pathlib.Path(f'{enfermedad}_{i}.pkl')\n",
    "    if os.path.isfile(file_to_rem):\n",
    "        file_to_rem.unlink()\n",
    "else:    ## Show an error ##\n",
    "    print(\"Error: %s file not found\" % file_to_rem)\n",
    "file_to_rem = pathlib.Path(f'checkpoint.pt')\n",
    "file_to_rem.unlink()"
   ]
  },
  {
   "cell_type": "code",
   "execution_count": 28,
   "id": "5dc82fb3",
   "metadata": {},
   "outputs": [
    {
     "data": {
      "text/plain": [
       "torch.Size([59, 4])"
      ]
     },
     "execution_count": 28,
     "metadata": {},
     "output_type": "execute_result"
    }
   ],
   "source": [
    "res.shape"
   ]
  },
  {
   "cell_type": "code",
   "execution_count": 29,
   "id": "292be11a",
   "metadata": {},
   "outputs": [],
   "source": [
    "import os\n",
    "os.makedirs(f'figures/{enfermedad}', exist_ok=True)"
   ]
  },
  {
   "cell_type": "code",
   "execution_count": 30,
   "id": "d9bf2d81",
   "metadata": {},
   "outputs": [
    {
     "name": "stderr",
     "output_type": "stream",
     "text": [
      "/var/folders/g0/jqvp4xxs5pn4cds1xb9339xm0000gn/T/ipykernel_34826/3478551153.py:11: MatplotlibDeprecationWarning: savefig() got unexpected keyword argument \"linewidth\" which is no longer supported as of 3.3 and will become an error two minor releases later\n",
      "  plt.savefig(f'figures/{enfermedad}/accumul_prediction.png', format='png', linewidth = 0.01)\n"
     ]
    },
    {
     "data": {
      "image/png": "[encoded data removed]",
      "text/plain": [
       "<Figure size 432x288 with 1 Axes>"
      ]
     },
     "metadata": {
      "needs_background": "light"
     },
     "output_type": "display_data"
    }
   ],
   "source": [
    "predicted_susceptible = res[:,0].detach().numpy()\n",
    "real_susceptible = y[:,0].detach().numpy()\n",
    "plt.plot(real_susceptible, color = 'r', linewidth=0, marker='.', label='real_sus')\n",
    "plt.plot(predicted_susceptible, color = 'b', linewidth=0, marker='.', label='pred_sus')\n",
    "plt.ylim(0, 1)\n",
    "plt.xlim(0,len(y))\n",
    "plt.ylabel('Proportion')\n",
    "plt.xlabel('Generation')\n",
    "plt.title('Analisis de susceptibles predichos vs reales')\n",
    "plt.legend()\n",
    "plt.savefig(f'figures/{enfermedad}/accumul_prediction.png', format='png', linewidth = 0.01)"
   ]
  },
  {
   "cell_type": "code",
   "execution_count": 31,
   "id": "9a87fda1",
   "metadata": {},
   "outputs": [
    {
     "name": "stderr",
     "output_type": "stream",
     "text": [
      "/var/folders/g0/jqvp4xxs5pn4cds1xb9339xm0000gn/T/ipykernel_34826/821398519.py:11: MatplotlibDeprecationWarning: savefig() got unexpected keyword argument \"linewidth\" which is no longer supported as of 3.3 and will become an error two minor releases later\n",
      "  plt.savefig(f'figures/{enfermedad}/accumul_prediction_vaccinated.png', format='png', linewidth = 0.01)\n"
     ]
    },
    {
     "data": {
      "image/png": "[encoded data removed]",
      "text/plain": [
       "<Figure size 432x288 with 1 Axes>"
      ]
     },
     "metadata": {
      "needs_background": "light"
     },
     "output_type": "display_data"
    }
   ],
   "source": [
    "predicted_vaccinated = res[:,3].detach().numpy()\n",
    "real_vaccinated = y[:,3].detach().numpy()\n",
    "plt.plot(real_vaccinated, color = 'r', linewidth=0, marker='.', label='real_vac')\n",
    "plt.plot(predicted_vaccinated, color = 'b', linewidth=0, marker='.', label='pred_vac')\n",
    "plt.ylim(0, 1)\n",
    "plt.xlim(0,len(y))\n",
    "plt.ylabel('Proportion')\n",
    "plt.xlabel('Generation')\n",
    "plt.title('Analisis de vacunados predichos vs reales')\n",
    "plt.legend()\n",
    "plt.savefig(f'figures/{enfermedad}/accumul_prediction_vaccinated.png', format='png', linewidth = 0.01)"
   ]
  },
  {
   "cell_type": "markdown",
   "id": "a60316ad",
   "metadata": {},
   "source": [
    "Que pasa si le damos mas peso a fitear a los susceptibles?\n"
   ]
  },
  {
   "cell_type": "code",
   "execution_count": 32,
   "id": "133fb8d1",
   "metadata": {},
   "outputs": [
    {
     "name": "stderr",
     "output_type": "stream",
     "text": [
      "/var/folders/g0/jqvp4xxs5pn4cds1xb9339xm0000gn/T/ipykernel_34826/721021689.py:11: MatplotlibDeprecationWarning: savefig() got unexpected keyword argument \"linewidth\" which is no longer supported as of 3.3 and will become an error two minor releases later\n",
      "  plt.savefig(f'figures/{enfermedad}/accumul_infected.png', format='png', linewidth = 0.01)\n"
     ]
    },
    {
     "data": {
      "image/png": "[encoded data removed]",
      "text/plain": [
       "<Figure size 432x288 with 1 Axes>"
      ]
     },
     "metadata": {
      "needs_background": "light"
     },
     "output_type": "display_data"
    }
   ],
   "source": [
    "predicted_infected = res[:,1].detach().numpy()\n",
    "real_infected = y[:,1].detach().numpy()\n",
    "plt.plot(predicted_infected, color = 'r', linewidth=0, marker='.', label='pred_inf')\n",
    "plt.plot(real_infected, color = 'b', linewidth=0, marker='.', label='real_inf')\n",
    "plt.ylim(0, 0.0001)\n",
    "plt.xlim(0,len(y))\n",
    "plt.ylabel('Proportion')\n",
    "plt.xlabel('Generation')\n",
    "plt.title('Analisis de infectados predichos vs reales')\n",
    "plt.legend()\n",
    "plt.savefig(f'figures/{enfermedad}/accumul_infected.png', format='png', linewidth = 0.01)"
   ]
  },
  {
   "cell_type": "code",
   "execution_count": 33,
   "id": "a4c78e78",
   "metadata": {},
   "outputs": [
    {
     "name": "stderr",
     "output_type": "stream",
     "text": [
      "/var/folders/g0/jqvp4xxs5pn4cds1xb9339xm0000gn/T/ipykernel_34826/1071918523.py:11: MatplotlibDeprecationWarning: savefig() got unexpected keyword argument \"linewidth\" which is no longer supported as of 3.3 and will become an error two minor releases later\n",
      "  plt.savefig(f'figures/{enfermedad}/accumul_prediction_rec.png', format='png', linewidth = 0.01)\n"
     ]
    },
    {
     "data": {
      "image/png": "[encoded data removed]",
      "text/plain": [
       "<Figure size 432x288 with 1 Axes>"
      ]
     },
     "metadata": {
      "needs_background": "light"
     },
     "output_type": "display_data"
    }
   ],
   "source": [
    "predicted_recov = res[:,2].detach().numpy()\n",
    "real_recov = y[:,2].detach().numpy()\n",
    "plt.plot(real_recov, color = 'r', linewidth=0, marker='.', label='real_rec')\n",
    "plt.plot(predicted_recov, color = 'b', linewidth=0, marker='.', label='pred_rec')\n",
    "plt.ylim(0, 0.001)\n",
    "plt.xlim(0,len(y))\n",
    "plt.ylabel('Proportion')\n",
    "plt.xlabel('Generation')\n",
    "plt.title('Analisis de recuperados predichos vs reales')\n",
    "plt.legend()\n",
    "plt.savefig(f'figures/{enfermedad}/accumul_prediction_rec.png', format='png', linewidth = 0.01)"
   ]
  },
  {
   "cell_type": "markdown",
   "id": "5d747f24",
   "metadata": {},
   "source": [
    "Testeemos los parametros"
   ]
  },
  {
   "cell_type": "code",
   "execution_count": 34,
   "id": "61711e68",
   "metadata": {},
   "outputs": [
    {
     "name": "stdout",
     "output_type": "stream",
     "text": [
      "[Parameter containing:\n",
      "tensor([[3.7982]], requires_grad=True), Parameter containing:\n",
      "tensor([[0.0266]], requires_grad=True), Parameter containing:\n",
      "tensor([[0.2770]], requires_grad=True)]\n"
     ]
    }
   ],
   "source": [
    "params = list(model.parameters())\n",
    "lambda1 = params[0].item()\n",
    "lambda2 = params[1].item()\n",
    "lambda3 = params[2].item()\n",
    "print(params)"
   ]
  },
  {
   "cell_type": "markdown",
   "id": "3b66fea9",
   "metadata": {},
   "source": [
    "Recordemos que estamos modelando:\n",
    "\n",
    "$$\\dfrac{ds}{dt} = -\\lambda_1 s i - \\lambda_2 s  $$\n",
    "\\\n",
    "$$\\dfrac{di}{dt} = \\lambda_1 s i - \\lambda_3 i - \\lambda_2 i  $$\n",
    "\n",
    "\\\n",
    "$$\\dfrac{dr}{dt} = \\lambda_3 i  $$\n",
    "\\\n",
    "$$\\dfrac{dv}{dt} = \\lambda_2 s + \\lambda_2 i   $$\n",
    "\n",
    "\n",
    "\n",
    "Entonces\n",
    "\n",
    "$$\\beta = \\lambda_1 = R_0 / d $$\n",
    "\n",
    "Con d la duración de la infeccion.\n",
    "\n",
    "$$ \\lambda_2 = \\eta $$ la tasa de inmunización y\n",
    "\n",
    "$$ \\lambda_3 = \\nu  = 1 / d $$\n",
    "\n",
    "Primero veamos la tasa de immunizacion"
   ]
  },
  {
   "cell_type": "code",
   "execution_count": 35,
   "id": "90eaeb4d",
   "metadata": {},
   "outputs": [],
   "source": [
    "tasa_immunizacion = (data.apply(lambda x: x.diff()).dropna().mean()/data['Vacunados'].max()).iloc[3]"
   ]
  },
  {
   "cell_type": "code",
   "execution_count": 36,
   "id": "fc002785",
   "metadata": {},
   "outputs": [
    {
     "data": {
      "text/plain": [
       "0.004104984633037711"
      ]
     },
     "execution_count": 36,
     "metadata": {},
     "output_type": "execute_result"
    }
   ],
   "source": [
    "tasa_immunizacion"
   ]
  },
  {
   "cell_type": "code",
   "execution_count": 37,
   "id": "812f4167",
   "metadata": {},
   "outputs": [
    {
     "data": {
      "text/latex": [
       "Deducimos que:\n",
       "$$ \\eta = \\lambda_2 = {0.02662} \\approx {0.00410} $$"
      ],
      "text/plain": [
       "<IPython.core.display.Latex object>"
      ]
     },
     "execution_count": 37,
     "metadata": {},
     "output_type": "execute_result"
    }
   ],
   "source": [
    "from IPython.display import Latex\n",
    "Latex(f\"\"\"Deducimos que:\n",
    "$$ \\eta = \\lambda_2 = {{{lambda2:.5f}}} \\\\approx {{{tasa_immunizacion:.5f}}} $$\"\"\")"
   ]
  },
  {
   "cell_type": "code",
   "execution_count": 38,
   "id": "27af972d",
   "metadata": {},
   "outputs": [
    {
     "data": {
      "text/latex": [
       "Deducimos que:\n",
       "$$ d = 1 / \\lambda_3 = 1 / {0.28} \\approx {3.61} $$\n",
       "$$ R_0 =  \\lambda_1 * d = {3.80} * d \\approx {13.71}$$"
      ],
      "text/plain": [
       "<IPython.core.display.Latex object>"
      ]
     },
     "execution_count": 38,
     "metadata": {},
     "output_type": "execute_result"
    }
   ],
   "source": [
    "Latex(f\"\"\"Deducimos que:\n",
    "$$ d = 1 / \\lambda_3 = 1 / {{{lambda3:.2f}}} \\\\approx {{{1/lambda3:.2f}}} $$\n",
    "$$ R_0 =  \\lambda_1 * d = {{{lambda1:.2f}}} * d \\\\approx {{{lambda1/lambda3:.2f}}}$$\"\"\")"
   ]
  },
  {
   "cell_type": "markdown",
   "id": "d4fd225a",
   "metadata": {},
   "source": [
    "Mientras que la literatura indica:\n",
    "\n",
    "$$ d = 17.5 $$\n",
    "$$ R_0 = 2.65 $$"
   ]
  },
  {
   "cell_type": "markdown",
   "id": "a0ca8030",
   "metadata": {},
   "source": [
    "## Validemos un test de momentos"
   ]
  },
  {
   "cell_type": "markdown",
   "id": "ea725fe4",
   "metadata": {},
   "source": [
    "#### Primer momento"
   ]
  },
  {
   "cell_type": "code",
   "execution_count": 39,
   "id": "61acae2d",
   "metadata": {},
   "outputs": [
    {
     "data": {
      "text/plain": [
       "Ttest_indResult(statistic=-0.3850839402297406, pvalue=0.7009110947197796)"
      ]
     },
     "execution_count": 39,
     "metadata": {},
     "output_type": "execute_result"
    }
   ],
   "source": [
    "import scipy\n",
    "\n",
    "scipy.stats.ttest_ind(real_susceptible, predicted_susceptible, equal_var=False)"
   ]
  },
  {
   "cell_type": "code",
   "execution_count": 40,
   "id": "461d8d26",
   "metadata": {},
   "outputs": [
    {
     "data": {
      "text/plain": [
       "Ttest_indResult(statistic=0.62241181542983, pvalue=0.5348827828567049)"
      ]
     },
     "execution_count": 40,
     "metadata": {},
     "output_type": "execute_result"
    }
   ],
   "source": [
    "scipy.stats.ttest_ind(real_infected, predicted_infected, equal_var=False)"
   ]
  },
  {
   "cell_type": "code",
   "execution_count": 41,
   "id": "be7f5ae3",
   "metadata": {},
   "outputs": [
    {
     "data": {
      "text/plain": [
       "Ttest_indResult(statistic=0.5073062511310857, pvalue=0.612914864383554)"
      ]
     },
     "execution_count": 41,
     "metadata": {},
     "output_type": "execute_result"
    }
   ],
   "source": [
    "scipy.stats.ttest_ind(real_recov, predicted_recov, equal_var=False)"
   ]
  },
  {
   "cell_type": "code",
   "execution_count": 42,
   "id": "1020a2e5",
   "metadata": {},
   "outputs": [
    {
     "data": {
      "text/plain": [
       "Ttest_indResult(statistic=0.38642115539851624, pvalue=0.6999236621063025)"
      ]
     },
     "execution_count": 42,
     "metadata": {},
     "output_type": "execute_result"
    }
   ],
   "source": [
    "scipy.stats.ttest_ind(real_vaccinated, predicted_vaccinated, equal_var=False)"
   ]
  },
  {
   "cell_type": "markdown",
   "id": "c3799d0e",
   "metadata": {},
   "source": [
    "#### Segundo momento"
   ]
  },
  {
   "cell_type": "code",
   "execution_count": 43,
   "id": "264555ea",
   "metadata": {},
   "outputs": [
    {
     "data": {
      "text/plain": [
       "BartlettResult(statistic=0.08219927406070032, pvalue=0.7743388537756882)"
      ]
     },
     "execution_count": 43,
     "metadata": {},
     "output_type": "execute_result"
    }
   ],
   "source": [
    "scipy.stats.bartlett(real_infected, predicted_infected)"
   ]
  },
  {
   "cell_type": "code",
   "execution_count": 44,
   "id": "a8d58a5a",
   "metadata": {},
   "outputs": [
    {
     "data": {
      "text/plain": [
       "BartlettResult(statistic=1.533557642199713, pvalue=0.21557929038205154)"
      ]
     },
     "execution_count": 44,
     "metadata": {},
     "output_type": "execute_result"
    }
   ],
   "source": [
    "scipy.stats.bartlett(real_recov, predicted_recov)"
   ]
  },
  {
   "cell_type": "markdown",
   "id": "f29f39a8",
   "metadata": {},
   "source": [
    "#### Test de bondad de ajuste de KS"
   ]
  },
  {
   "cell_type": "code",
   "execution_count": 45,
   "id": "8ab4f644",
   "metadata": {},
   "outputs": [
    {
     "data": {
      "text/plain": [
       "KstestResult(statistic=0.16666666666666666, pvalue=0.3371005640970417)"
      ]
     },
     "execution_count": 45,
     "metadata": {},
     "output_type": "execute_result"
    }
   ],
   "source": [
    "scipy.stats.kstest(real_susceptible, predicted_susceptible, method='asymp')"
   ]
  },
  {
   "cell_type": "code",
   "execution_count": 46,
   "id": "681bd62e",
   "metadata": {},
   "outputs": [
    {
     "data": {
      "text/plain": [
       "KstestResult(statistic=0.20988700564971746, pvalue=0.12270912762929465)"
      ]
     },
     "execution_count": 46,
     "metadata": {},
     "output_type": "execute_result"
    }
   ],
   "source": [
    "scipy.stats.kstest(real_infected, predicted_infected, method='asymp')"
   ]
  },
  {
   "cell_type": "code",
   "execution_count": 47,
   "id": "9e9078f7",
   "metadata": {},
   "outputs": [
    {
     "data": {
      "text/plain": [
       "KstestResult(statistic=0.2666666666666667, pvalue=0.022554710564198444)"
      ]
     },
     "execution_count": 47,
     "metadata": {},
     "output_type": "execute_result"
    }
   ],
   "source": [
    "scipy.stats.kstest(real_recov, predicted_recov, method='asymp')"
   ]
  },
  {
   "cell_type": "code",
   "execution_count": 48,
   "id": "83a52f64",
   "metadata": {},
   "outputs": [
    {
     "data": {
      "text/plain": [
       "KstestResult(statistic=0.16666666666666663, pvalue=0.3371005640970396)"
      ]
     },
     "execution_count": 48,
     "metadata": {},
     "output_type": "execute_result"
    }
   ],
   "source": [
    "scipy.stats.kstest(real_vaccinated, predicted_vaccinated, method='asymp')"
   ]
  },
  {
   "cell_type": "code",
   "execution_count": null,
   "id": "cf38315d",
   "metadata": {},
   "outputs": [],
   "source": []
  },
  {
   "cell_type": "code",
   "execution_count": null,
   "id": "bfdd20c4",
   "metadata": {},
   "outputs": [],
   "source": []
  },
  {
   "cell_type": "code",
   "execution_count": null,
   "id": "e7f9bf17",
   "metadata": {},
   "outputs": [],
   "source": []
  },
  {
   "cell_type": "code",
   "execution_count": null,
   "id": "8bb08e0d",
   "metadata": {},
   "outputs": [],
   "source": []
  }
 ],
 "metadata": {
  "kernelspec": {
   "display_name": "simuladores",
   "language": "python",
   "name": "simuladores"
  },
  "language_info": {
   "codemirror_mode": {
    "name": "ipython",
    "version": 3
   },
   "file_extension": ".py",
   "mimetype": "text/x-python",
   "name": "python",
   "nbconvert_exporter": "python",
   "pygments_lexer": "ipython3",
   "version": "3.9.1"
  }
 },
 "nbformat": 4,
 "nbformat_minor": 5
}
