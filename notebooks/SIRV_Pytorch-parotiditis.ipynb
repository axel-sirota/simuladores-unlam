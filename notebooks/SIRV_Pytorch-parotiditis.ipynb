{
 "cells": [
  {
   "cell_type": "code",
   "execution_count": 1,
   "id": "80dc7077",
   "metadata": {},
   "outputs": [],
   "source": [
    "import sys\n",
    "import os\n",
    "sys.path.append('..')\n",
    "import numpy as np\n",
    "import pandas as pd\n",
    "from models import sir\n",
    "from config import get_project_root\n",
    "import torchmetrics\n",
    "from models.pytorchtools import EarlyStopping\n",
    "import pathlib"
   ]
  },
  {
   "cell_type": "code",
   "execution_count": 2,
   "id": "0bcfc515",
   "metadata": {},
   "outputs": [],
   "source": [
    "enfermedad='parotiditis'\n",
    "DATA_FOLDER = f'{get_project_root()}/data'\n",
    "INFECTADOS_PATH = f'{DATA_FOLDER}/extrapolated/infectados_{enfermedad}_extrapolado.csv'\n",
    "HABITANTES_PATH = f'{DATA_FOLDER}/extrapolated/habitantes_{enfermedad}_extrapolado.csv'\n",
    "VACUNADOS_PATH = f'{DATA_FOLDER}/extrapolated/vacunados_{enfermedad}_extrapolado.csv'\n",
    "YEARS = [2018, 2019, 2020, 2021, 2022]\n",
    "MONTHS = ['ENE', 'FEB', 'MAR', 'ABR', 'MAY', 'JUN', 'JUL', 'AGOS', 'SEP', 'OCT', 'NOV', 'DIC']\n"
   ]
  },
  {
   "cell_type": "code",
   "execution_count": 3,
   "id": "9b58ccf0",
   "metadata": {},
   "outputs": [
    {
     "data": {
      "text/plain": [
       "11101945"
      ]
     },
     "execution_count": 3,
     "metadata": {},
     "output_type": "execute_result"
    }
   ],
   "source": [
    "habitantes_curve = pd.read_csv(HABITANTES_PATH).set_index('ANO')\n",
    "for month in MONTHS:\n",
    "    habitantes_curve[month] = habitantes_curve['JUL']\n",
    "max_habs = habitantes_curve.max().max()\n",
    "max_habs"
   ]
  },
  {
   "cell_type": "code",
   "execution_count": 4,
   "id": "261f888d",
   "metadata": {},
   "outputs": [],
   "source": [
    "def extract_curve(path=None, df=None):\n",
    "    if df is None:\n",
    "        df = pd.read_csv(path).set_index('ANO')\n",
    "    df = df[df.columns[:12]].T\n",
    "    values = []\n",
    "    for year in YEARS:\n",
    "        values.extend(df[year].tolist())\n",
    "    return pd.Series(values)\n",
    "\n",
    "infectuous_curve = extract_curve(path=INFECTADOS_PATH)  \n",
    "vacunados_curve = extract_curve(path=VACUNADOS_PATH)\n",
    "recovered_curve = pd.Series([0]*len(infectuous_curve))\n",
    "max_habs = max([habitantes_curve.max().max(), vacunados_curve.max().max()])"
   ]
  },
  {
   "cell_type": "code",
   "execution_count": 5,
   "id": "418a99c1",
   "metadata": {},
   "outputs": [
    {
     "data": {
      "text/html": [
       "<div>\n",
       "<style scoped>\n",
       "    .dataframe tbody tr th:only-of-type {\n",
       "        vertical-align: middle;\n",
       "    }\n",
       "\n",
       "    .dataframe tbody tr th {\n",
       "        vertical-align: top;\n",
       "    }\n",
       "\n",
       "    .dataframe thead th {\n",
       "        text-align: right;\n",
       "    }\n",
       "</style>\n",
       "<table border=\"1\" class=\"dataframe\">\n",
       "  <thead>\n",
       "    <tr style=\"text-align: right;\">\n",
       "      <th></th>\n",
       "      <th>ENE</th>\n",
       "      <th>FEB</th>\n",
       "      <th>MAR</th>\n",
       "      <th>ABR</th>\n",
       "      <th>MAY</th>\n",
       "      <th>JUN</th>\n",
       "      <th>JUL</th>\n",
       "      <th>AGOS</th>\n",
       "      <th>SEP</th>\n",
       "      <th>OCT</th>\n",
       "      <th>NOV</th>\n",
       "      <th>DIC</th>\n",
       "    </tr>\n",
       "    <tr>\n",
       "      <th>ANO</th>\n",
       "      <th></th>\n",
       "      <th></th>\n",
       "      <th></th>\n",
       "      <th></th>\n",
       "      <th></th>\n",
       "      <th></th>\n",
       "      <th></th>\n",
       "      <th></th>\n",
       "      <th></th>\n",
       "      <th></th>\n",
       "      <th></th>\n",
       "      <th></th>\n",
       "    </tr>\n",
       "  </thead>\n",
       "  <tbody>\n",
       "    <tr>\n",
       "      <th>2018</th>\n",
       "      <td>10973470</td>\n",
       "      <td>10973470</td>\n",
       "      <td>10973470</td>\n",
       "      <td>10973470</td>\n",
       "      <td>10973470</td>\n",
       "      <td>10973470</td>\n",
       "      <td>10973470</td>\n",
       "      <td>10973470</td>\n",
       "      <td>10973470</td>\n",
       "      <td>10973470</td>\n",
       "      <td>10973470</td>\n",
       "      <td>10973470</td>\n",
       "    </tr>\n",
       "    <tr>\n",
       "      <th>2019</th>\n",
       "      <td>11012606</td>\n",
       "      <td>11012606</td>\n",
       "      <td>11012606</td>\n",
       "      <td>11012606</td>\n",
       "      <td>11012606</td>\n",
       "      <td>11012606</td>\n",
       "      <td>11012606</td>\n",
       "      <td>11012606</td>\n",
       "      <td>11012606</td>\n",
       "      <td>11012606</td>\n",
       "      <td>11012606</td>\n",
       "      <td>11012606</td>\n",
       "    </tr>\n",
       "    <tr>\n",
       "      <th>2020</th>\n",
       "      <td>11047665</td>\n",
       "      <td>11047665</td>\n",
       "      <td>11047665</td>\n",
       "      <td>11047665</td>\n",
       "      <td>11047665</td>\n",
       "      <td>11047665</td>\n",
       "      <td>11047665</td>\n",
       "      <td>11047665</td>\n",
       "      <td>11047665</td>\n",
       "      <td>11047665</td>\n",
       "      <td>11047665</td>\n",
       "      <td>11047665</td>\n",
       "    </tr>\n",
       "    <tr>\n",
       "      <th>2021</th>\n",
       "      <td>11077856</td>\n",
       "      <td>11077856</td>\n",
       "      <td>11077856</td>\n",
       "      <td>11077856</td>\n",
       "      <td>11077856</td>\n",
       "      <td>11077856</td>\n",
       "      <td>11077856</td>\n",
       "      <td>11077856</td>\n",
       "      <td>11077856</td>\n",
       "      <td>11077856</td>\n",
       "      <td>11077856</td>\n",
       "      <td>11077856</td>\n",
       "    </tr>\n",
       "    <tr>\n",
       "      <th>2022</th>\n",
       "      <td>11101945</td>\n",
       "      <td>11101945</td>\n",
       "      <td>11101945</td>\n",
       "      <td>11101945</td>\n",
       "      <td>11101945</td>\n",
       "      <td>11101945</td>\n",
       "      <td>11101945</td>\n",
       "      <td>11101945</td>\n",
       "      <td>11101945</td>\n",
       "      <td>11101945</td>\n",
       "      <td>11101945</td>\n",
       "      <td>11101945</td>\n",
       "    </tr>\n",
       "  </tbody>\n",
       "</table>\n",
       "</div>"
      ],
      "text/plain": [
       "           ENE       FEB       MAR       ABR       MAY       JUN       JUL  \\\n",
       "ANO                                                                          \n",
       "2018  10973470  10973470  10973470  10973470  10973470  10973470  10973470   \n",
       "2019  11012606  11012606  11012606  11012606  11012606  11012606  11012606   \n",
       "2020  11047665  11047665  11047665  11047665  11047665  11047665  11047665   \n",
       "2021  11077856  11077856  11077856  11077856  11077856  11077856  11077856   \n",
       "2022  11101945  11101945  11101945  11101945  11101945  11101945  11101945   \n",
       "\n",
       "          AGOS       SEP       OCT       NOV       DIC  \n",
       "ANO                                                     \n",
       "2018  10973470  10973470  10973470  10973470  10973470  \n",
       "2019  11012606  11012606  11012606  11012606  11012606  \n",
       "2020  11047665  11047665  11047665  11047665  11047665  \n",
       "2021  11077856  11077856  11077856  11077856  11077856  \n",
       "2022  11101945  11101945  11101945  11101945  11101945  "
      ]
     },
     "execution_count": 5,
     "metadata": {},
     "output_type": "execute_result"
    }
   ],
   "source": [
    "habitantes_curve"
   ]
  },
  {
   "cell_type": "code",
   "execution_count": 6,
   "id": "f5c8c6cb",
   "metadata": {},
   "outputs": [],
   "source": [
    "for ix, val in enumerate(infectuous_curve):\n",
    "    try:\n",
    "        recovered_curve[ix+1] += val\n",
    "    except KeyError:\n",
    "        continue"
   ]
  },
  {
   "cell_type": "code",
   "execution_count": 7,
   "id": "6be172d1",
   "metadata": {},
   "outputs": [
    {
     "data": {
      "text/plain": [
       "11101945"
      ]
     },
     "execution_count": 7,
     "metadata": {},
     "output_type": "execute_result"
    }
   ],
   "source": [
    "max_habs"
   ]
  },
  {
   "cell_type": "code",
   "execution_count": null,
   "id": "f056e12f",
   "metadata": {},
   "outputs": [],
   "source": []
  },
  {
   "cell_type": "code",
   "execution_count": 8,
   "id": "3848039b",
   "metadata": {},
   "outputs": [],
   "source": [
    "susceptible_curve = max_habs - infectuous_curve - vacunados_curve - recovered_curve\n",
    "susceptible_curve[susceptible_curve<0] = 0\n",
    "\n"
   ]
  },
  {
   "cell_type": "code",
   "execution_count": 9,
   "id": "b781eec1",
   "metadata": {},
   "outputs": [],
   "source": [
    "data = pd.concat([susceptible_curve, infectuous_curve, recovered_curve, vacunados_curve], axis=1).rename(columns={0:'Susceptible', 1:'Infectados', 2:'Recuperados', 3:'Vacunados'})\n",
    "infectados_real = data.diff()['Infectados']\n",
    "infectados_real.loc[0] = 0\n",
    "infectados_real\n",
    "data['Infectados'] = infectados_real"
   ]
  },
  {
   "cell_type": "code",
   "execution_count": 10,
   "id": "62d1c4f9",
   "metadata": {},
   "outputs": [
    {
     "data": {
      "text/html": [
       "<div>\n",
       "<style scoped>\n",
       "    .dataframe tbody tr th:only-of-type {\n",
       "        vertical-align: middle;\n",
       "    }\n",
       "\n",
       "    .dataframe tbody tr th {\n",
       "        vertical-align: top;\n",
       "    }\n",
       "\n",
       "    .dataframe thead th {\n",
       "        text-align: right;\n",
       "    }\n",
       "</style>\n",
       "<table border=\"1\" class=\"dataframe\">\n",
       "  <thead>\n",
       "    <tr style=\"text-align: right;\">\n",
       "      <th></th>\n",
       "      <th>Susceptible</th>\n",
       "      <th>Infectados</th>\n",
       "      <th>Recuperados</th>\n",
       "      <th>Vacunados</th>\n",
       "    </tr>\n",
       "  </thead>\n",
       "  <tbody>\n",
       "    <tr>\n",
       "      <th>0</th>\n",
       "      <td>11054236.0</td>\n",
       "      <td>0.0</td>\n",
       "      <td>0</td>\n",
       "      <td>47709.0</td>\n",
       "    </tr>\n",
       "    <tr>\n",
       "      <th>1</th>\n",
       "      <td>10796649.0</td>\n",
       "      <td>0.0</td>\n",
       "      <td>0</td>\n",
       "      <td>305296.0</td>\n",
       "    </tr>\n",
       "    <tr>\n",
       "      <th>2</th>\n",
       "      <td>10018775.0</td>\n",
       "      <td>0.0</td>\n",
       "      <td>0</td>\n",
       "      <td>1083170.0</td>\n",
       "    </tr>\n",
       "    <tr>\n",
       "      <th>3</th>\n",
       "      <td>9966599.0</td>\n",
       "      <td>0.0</td>\n",
       "      <td>0</td>\n",
       "      <td>1135346.0</td>\n",
       "    </tr>\n",
       "    <tr>\n",
       "      <th>4</th>\n",
       "      <td>9900497.0</td>\n",
       "      <td>160.0</td>\n",
       "      <td>0</td>\n",
       "      <td>1201288.0</td>\n",
       "    </tr>\n",
       "    <tr>\n",
       "      <th>5</th>\n",
       "      <td>9855222.0</td>\n",
       "      <td>7.0</td>\n",
       "      <td>160</td>\n",
       "      <td>1246396.0</td>\n",
       "    </tr>\n",
       "    <tr>\n",
       "      <th>6</th>\n",
       "      <td>9810651.0</td>\n",
       "      <td>20.0</td>\n",
       "      <td>167</td>\n",
       "      <td>1290940.0</td>\n",
       "    </tr>\n",
       "    <tr>\n",
       "      <th>7</th>\n",
       "      <td>9752041.0</td>\n",
       "      <td>16.0</td>\n",
       "      <td>187</td>\n",
       "      <td>1349514.0</td>\n",
       "    </tr>\n",
       "    <tr>\n",
       "      <th>8</th>\n",
       "      <td>9675443.0</td>\n",
       "      <td>27.0</td>\n",
       "      <td>203</td>\n",
       "      <td>1426069.0</td>\n",
       "    </tr>\n",
       "    <tr>\n",
       "      <th>9</th>\n",
       "      <td>9606218.0</td>\n",
       "      <td>16.0</td>\n",
       "      <td>230</td>\n",
       "      <td>1495251.0</td>\n",
       "    </tr>\n",
       "    <tr>\n",
       "      <th>10</th>\n",
       "      <td>9550836.0</td>\n",
       "      <td>19.0</td>\n",
       "      <td>246</td>\n",
       "      <td>1550598.0</td>\n",
       "    </tr>\n",
       "    <tr>\n",
       "      <th>11</th>\n",
       "      <td>9503214.0</td>\n",
       "      <td>161.0</td>\n",
       "      <td>265</td>\n",
       "      <td>1598040.0</td>\n",
       "    </tr>\n",
       "    <tr>\n",
       "      <th>12</th>\n",
       "      <td>9451741.0</td>\n",
       "      <td>0.0</td>\n",
       "      <td>426</td>\n",
       "      <td>1649352.0</td>\n",
       "    </tr>\n",
       "    <tr>\n",
       "      <th>13</th>\n",
       "      <td>9386522.0</td>\n",
       "      <td>187.0</td>\n",
       "      <td>426</td>\n",
       "      <td>1714384.0</td>\n",
       "    </tr>\n",
       "    <tr>\n",
       "      <th>14</th>\n",
       "      <td>9320172.0</td>\n",
       "      <td>5.0</td>\n",
       "      <td>613</td>\n",
       "      <td>1780542.0</td>\n",
       "    </tr>\n",
       "    <tr>\n",
       "      <th>15</th>\n",
       "      <td>9261350.0</td>\n",
       "      <td>7.0</td>\n",
       "      <td>618</td>\n",
       "      <td>1839352.0</td>\n",
       "    </tr>\n",
       "    <tr>\n",
       "      <th>16</th>\n",
       "      <td>9201503.0</td>\n",
       "      <td>12.0</td>\n",
       "      <td>625</td>\n",
       "      <td>1899180.0</td>\n",
       "    </tr>\n",
       "    <tr>\n",
       "      <th>17</th>\n",
       "      <td>9155004.0</td>\n",
       "      <td>12.0</td>\n",
       "      <td>637</td>\n",
       "      <td>1945655.0</td>\n",
       "    </tr>\n",
       "    <tr>\n",
       "      <th>18</th>\n",
       "      <td>9103684.0</td>\n",
       "      <td>6.0</td>\n",
       "      <td>649</td>\n",
       "      <td>1996957.0</td>\n",
       "    </tr>\n",
       "    <tr>\n",
       "      <th>19</th>\n",
       "      <td>9050829.0</td>\n",
       "      <td>0.0</td>\n",
       "      <td>655</td>\n",
       "      <td>2049806.0</td>\n",
       "    </tr>\n",
       "    <tr>\n",
       "      <th>20</th>\n",
       "      <td>8977505.0</td>\n",
       "      <td>21.0</td>\n",
       "      <td>655</td>\n",
       "      <td>2123109.0</td>\n",
       "    </tr>\n",
       "    <tr>\n",
       "      <th>21</th>\n",
       "      <td>8833571.0</td>\n",
       "      <td>11.0</td>\n",
       "      <td>676</td>\n",
       "      <td>2267011.0</td>\n",
       "    </tr>\n",
       "    <tr>\n",
       "      <th>22</th>\n",
       "      <td>8734982.0</td>\n",
       "      <td>10.0</td>\n",
       "      <td>687</td>\n",
       "      <td>2365579.0</td>\n",
       "    </tr>\n",
       "    <tr>\n",
       "      <th>23</th>\n",
       "      <td>8654625.0</td>\n",
       "      <td>194.0</td>\n",
       "      <td>697</td>\n",
       "      <td>2445732.0</td>\n",
       "    </tr>\n",
       "    <tr>\n",
       "      <th>24</th>\n",
       "      <td>8639901.0</td>\n",
       "      <td>110.0</td>\n",
       "      <td>891</td>\n",
       "      <td>2460152.0</td>\n",
       "    </tr>\n",
       "    <tr>\n",
       "      <th>25</th>\n",
       "      <td>8627427.0</td>\n",
       "      <td>21.0</td>\n",
       "      <td>1001</td>\n",
       "      <td>2472495.0</td>\n",
       "    </tr>\n",
       "    <tr>\n",
       "      <th>26</th>\n",
       "      <td>8615248.0</td>\n",
       "      <td>20.0</td>\n",
       "      <td>1022</td>\n",
       "      <td>2484633.0</td>\n",
       "    </tr>\n",
       "    <tr>\n",
       "      <th>27</th>\n",
       "      <td>8602610.0</td>\n",
       "      <td>1.0</td>\n",
       "      <td>1042</td>\n",
       "      <td>2497250.0</td>\n",
       "    </tr>\n",
       "    <tr>\n",
       "      <th>28</th>\n",
       "      <td>8590106.0</td>\n",
       "      <td>5.0</td>\n",
       "      <td>1043</td>\n",
       "      <td>2509748.0</td>\n",
       "    </tr>\n",
       "    <tr>\n",
       "      <th>29</th>\n",
       "      <td>8578408.0</td>\n",
       "      <td>2.0</td>\n",
       "      <td>1048</td>\n",
       "      <td>2521439.0</td>\n",
       "    </tr>\n",
       "    <tr>\n",
       "      <th>30</th>\n",
       "      <td>8568463.0</td>\n",
       "      <td>0.0</td>\n",
       "      <td>1050</td>\n",
       "      <td>2531382.0</td>\n",
       "    </tr>\n",
       "    <tr>\n",
       "      <th>31</th>\n",
       "      <td>8562764.0</td>\n",
       "      <td>2.0</td>\n",
       "      <td>1050</td>\n",
       "      <td>2537079.0</td>\n",
       "    </tr>\n",
       "    <tr>\n",
       "      <th>32</th>\n",
       "      <td>8562340.0</td>\n",
       "      <td>0.0</td>\n",
       "      <td>1052</td>\n",
       "      <td>2537501.0</td>\n",
       "    </tr>\n",
       "    <tr>\n",
       "      <th>33</th>\n",
       "      <td>8562331.0</td>\n",
       "      <td>0.0</td>\n",
       "      <td>1052</td>\n",
       "      <td>2537510.0</td>\n",
       "    </tr>\n",
       "    <tr>\n",
       "      <th>34</th>\n",
       "      <td>8562323.0</td>\n",
       "      <td>0.0</td>\n",
       "      <td>1052</td>\n",
       "      <td>2537518.0</td>\n",
       "    </tr>\n",
       "    <tr>\n",
       "      <th>35</th>\n",
       "      <td>8562216.0</td>\n",
       "      <td>102.0</td>\n",
       "      <td>1052</td>\n",
       "      <td>2537523.0</td>\n",
       "    </tr>\n",
       "    <tr>\n",
       "      <th>36</th>\n",
       "      <td>8562064.0</td>\n",
       "      <td>48.0</td>\n",
       "      <td>1154</td>\n",
       "      <td>2537525.0</td>\n",
       "    </tr>\n",
       "    <tr>\n",
       "      <th>37</th>\n",
       "      <td>8562011.0</td>\n",
       "      <td>0.0</td>\n",
       "      <td>1202</td>\n",
       "      <td>2537530.0</td>\n",
       "    </tr>\n",
       "    <tr>\n",
       "      <th>38</th>\n",
       "      <td>8562006.0</td>\n",
       "      <td>3.0</td>\n",
       "      <td>1202</td>\n",
       "      <td>2537532.0</td>\n",
       "    </tr>\n",
       "    <tr>\n",
       "      <th>39</th>\n",
       "      <td>8561995.0</td>\n",
       "      <td>0.0</td>\n",
       "      <td>1205</td>\n",
       "      <td>2537540.0</td>\n",
       "    </tr>\n",
       "    <tr>\n",
       "      <th>40</th>\n",
       "      <td>8561991.0</td>\n",
       "      <td>3.0</td>\n",
       "      <td>1205</td>\n",
       "      <td>2537541.0</td>\n",
       "    </tr>\n",
       "    <tr>\n",
       "      <th>41</th>\n",
       "      <td>8561980.0</td>\n",
       "      <td>4.0</td>\n",
       "      <td>1208</td>\n",
       "      <td>2537545.0</td>\n",
       "    </tr>\n",
       "    <tr>\n",
       "      <th>42</th>\n",
       "      <td>8561975.0</td>\n",
       "      <td>0.0</td>\n",
       "      <td>1212</td>\n",
       "      <td>2537546.0</td>\n",
       "    </tr>\n",
       "    <tr>\n",
       "      <th>43</th>\n",
       "      <td>8561964.0</td>\n",
       "      <td>5.0</td>\n",
       "      <td>1212</td>\n",
       "      <td>2537552.0</td>\n",
       "    </tr>\n",
       "    <tr>\n",
       "      <th>44</th>\n",
       "      <td>8510901.0</td>\n",
       "      <td>4.0</td>\n",
       "      <td>1217</td>\n",
       "      <td>2588606.0</td>\n",
       "    </tr>\n",
       "    <tr>\n",
       "      <th>45</th>\n",
       "      <td>8453064.0</td>\n",
       "      <td>12.0</td>\n",
       "      <td>1221</td>\n",
       "      <td>2646427.0</td>\n",
       "    </tr>\n",
       "    <tr>\n",
       "      <th>46</th>\n",
       "      <td>8376175.0</td>\n",
       "      <td>5.0</td>\n",
       "      <td>1233</td>\n",
       "      <td>2723299.0</td>\n",
       "    </tr>\n",
       "    <tr>\n",
       "      <th>47</th>\n",
       "      <td>8332178.0</td>\n",
       "      <td>60.0</td>\n",
       "      <td>1238</td>\n",
       "      <td>2767231.0</td>\n",
       "    </tr>\n",
       "    <tr>\n",
       "      <th>48</th>\n",
       "      <td>8279521.0</td>\n",
       "      <td>0.0</td>\n",
       "      <td>1298</td>\n",
       "      <td>2819828.0</td>\n",
       "    </tr>\n",
       "    <tr>\n",
       "      <th>49</th>\n",
       "      <td>8175933.0</td>\n",
       "      <td>109.0</td>\n",
       "      <td>1298</td>\n",
       "      <td>2923307.0</td>\n",
       "    </tr>\n",
       "    <tr>\n",
       "      <th>50</th>\n",
       "      <td>8081552.0</td>\n",
       "      <td>0.0</td>\n",
       "      <td>1407</td>\n",
       "      <td>3017579.0</td>\n",
       "    </tr>\n",
       "    <tr>\n",
       "      <th>51</th>\n",
       "      <td>7997840.0</td>\n",
       "      <td>104.0</td>\n",
       "      <td>1407</td>\n",
       "      <td>3101187.0</td>\n",
       "    </tr>\n",
       "    <tr>\n",
       "      <th>52</th>\n",
       "      <td>7913638.0</td>\n",
       "      <td>15.0</td>\n",
       "      <td>1511</td>\n",
       "      <td>3185270.0</td>\n",
       "    </tr>\n",
       "    <tr>\n",
       "      <th>53</th>\n",
       "      <td>7823114.0</td>\n",
       "      <td>8.0</td>\n",
       "      <td>1526</td>\n",
       "      <td>3275771.0</td>\n",
       "    </tr>\n",
       "    <tr>\n",
       "      <th>54</th>\n",
       "      <td>7723532.0</td>\n",
       "      <td>4.0</td>\n",
       "      <td>1534</td>\n",
       "      <td>3375341.0</td>\n",
       "    </tr>\n",
       "    <tr>\n",
       "      <th>55</th>\n",
       "      <td>7618121.0</td>\n",
       "      <td>37.0</td>\n",
       "      <td>1538</td>\n",
       "      <td>3480711.0</td>\n",
       "    </tr>\n",
       "    <tr>\n",
       "      <th>56</th>\n",
       "      <td>7528718.0</td>\n",
       "      <td>9.0</td>\n",
       "      <td>1575</td>\n",
       "      <td>3570068.0</td>\n",
       "    </tr>\n",
       "    <tr>\n",
       "      <th>57</th>\n",
       "      <td>7528707.0</td>\n",
       "      <td>2.0</td>\n",
       "      <td>1584</td>\n",
       "      <td>3570068.0</td>\n",
       "    </tr>\n",
       "    <tr>\n",
       "      <th>58</th>\n",
       "      <td>7528705.0</td>\n",
       "      <td>0.0</td>\n",
       "      <td>1586</td>\n",
       "      <td>3570068.0</td>\n",
       "    </tr>\n",
       "    <tr>\n",
       "      <th>59</th>\n",
       "      <td>7528705.0</td>\n",
       "      <td>0.0</td>\n",
       "      <td>1586</td>\n",
       "      <td>3570068.0</td>\n",
       "    </tr>\n",
       "  </tbody>\n",
       "</table>\n",
       "</div>"
      ],
      "text/plain": [
       "    Susceptible  Infectados  Recuperados  Vacunados\n",
       "0    11054236.0         0.0            0    47709.0\n",
       "1    10796649.0         0.0            0   305296.0\n",
       "2    10018775.0         0.0            0  1083170.0\n",
       "3     9966599.0         0.0            0  1135346.0\n",
       "4     9900497.0       160.0            0  1201288.0\n",
       "5     9855222.0         7.0          160  1246396.0\n",
       "6     9810651.0        20.0          167  1290940.0\n",
       "7     9752041.0        16.0          187  1349514.0\n",
       "8     9675443.0        27.0          203  1426069.0\n",
       "9     9606218.0        16.0          230  1495251.0\n",
       "10    9550836.0        19.0          246  1550598.0\n",
       "11    9503214.0       161.0          265  1598040.0\n",
       "12    9451741.0         0.0          426  1649352.0\n",
       "13    9386522.0       187.0          426  1714384.0\n",
       "14    9320172.0         5.0          613  1780542.0\n",
       "15    9261350.0         7.0          618  1839352.0\n",
       "16    9201503.0        12.0          625  1899180.0\n",
       "17    9155004.0        12.0          637  1945655.0\n",
       "18    9103684.0         6.0          649  1996957.0\n",
       "19    9050829.0         0.0          655  2049806.0\n",
       "20    8977505.0        21.0          655  2123109.0\n",
       "21    8833571.0        11.0          676  2267011.0\n",
       "22    8734982.0        10.0          687  2365579.0\n",
       "23    8654625.0       194.0          697  2445732.0\n",
       "24    8639901.0       110.0          891  2460152.0\n",
       "25    8627427.0        21.0         1001  2472495.0\n",
       "26    8615248.0        20.0         1022  2484633.0\n",
       "27    8602610.0         1.0         1042  2497250.0\n",
       "28    8590106.0         5.0         1043  2509748.0\n",
       "29    8578408.0         2.0         1048  2521439.0\n",
       "30    8568463.0         0.0         1050  2531382.0\n",
       "31    8562764.0         2.0         1050  2537079.0\n",
       "32    8562340.0         0.0         1052  2537501.0\n",
       "33    8562331.0         0.0         1052  2537510.0\n",
       "34    8562323.0         0.0         1052  2537518.0\n",
       "35    8562216.0       102.0         1052  2537523.0\n",
       "36    8562064.0        48.0         1154  2537525.0\n",
       "37    8562011.0         0.0         1202  2537530.0\n",
       "38    8562006.0         3.0         1202  2537532.0\n",
       "39    8561995.0         0.0         1205  2537540.0\n",
       "40    8561991.0         3.0         1205  2537541.0\n",
       "41    8561980.0         4.0         1208  2537545.0\n",
       "42    8561975.0         0.0         1212  2537546.0\n",
       "43    8561964.0         5.0         1212  2537552.0\n",
       "44    8510901.0         4.0         1217  2588606.0\n",
       "45    8453064.0        12.0         1221  2646427.0\n",
       "46    8376175.0         5.0         1233  2723299.0\n",
       "47    8332178.0        60.0         1238  2767231.0\n",
       "48    8279521.0         0.0         1298  2819828.0\n",
       "49    8175933.0       109.0         1298  2923307.0\n",
       "50    8081552.0         0.0         1407  3017579.0\n",
       "51    7997840.0       104.0         1407  3101187.0\n",
       "52    7913638.0        15.0         1511  3185270.0\n",
       "53    7823114.0         8.0         1526  3275771.0\n",
       "54    7723532.0         4.0         1534  3375341.0\n",
       "55    7618121.0        37.0         1538  3480711.0\n",
       "56    7528718.0         9.0         1575  3570068.0\n",
       "57    7528707.0         2.0         1584  3570068.0\n",
       "58    7528705.0         0.0         1586  3570068.0\n",
       "59    7528705.0         0.0         1586  3570068.0"
      ]
     },
     "execution_count": 10,
     "metadata": {},
     "output_type": "execute_result"
    }
   ],
   "source": [
    "data"
   ]
  },
  {
   "cell_type": "code",
   "execution_count": 11,
   "id": "7d7850f1",
   "metadata": {},
   "outputs": [],
   "source": [
    "data_numpy = np.array(data)/max_habs"
   ]
  },
  {
   "cell_type": "code",
   "execution_count": 12,
   "id": "dd08e581",
   "metadata": {},
   "outputs": [],
   "source": [
    "import torch\n",
    "import torch.nn as nn\n",
    "import torch.nn.functional as F\n"
   ]
  },
  {
   "cell_type": "code",
   "execution_count": 13,
   "id": "780383ea",
   "metadata": {},
   "outputs": [],
   "source": [
    "class SIRV(nn.Module):\n",
    "    def __init__(self, epsilon=1e-7):\n",
    "        super(SIRV, self).__init__()\n",
    "        self.lambda1 = nn.Linear(1,1, bias = False) # tasa de contacto efectivo\n",
    "        self.lambda2 = nn.Linear(1,1, bias = False) # tasa de immunizacion\n",
    "        self.lambda3 = nn.Linear(1,1, bias = False) # tasa de recuperacion\n",
    "        torch.nn.init.xavier_uniform_(self.lambda1.weight, gain=0.01)\n",
    "        torch.nn.init.xavier_uniform_(self.lambda2.weight, gain=0.01)\n",
    "        torch.nn.init.xavier_uniform_(self.lambda3.weight, gain=0.01)\n",
    "       \n",
    "        self.epsilon = epsilon\n",
    "    \n",
    "    def forward(self, x, size_of_starter_set, amount_of_prediction_in_future):\n",
    "        assert size_of_starter_set < amount_of_prediction_in_future\n",
    "        ns = torch.zeros([amount_of_prediction_in_future, 4],dtype=torch.float, requires_grad = False)\n",
    "        torch.nn.init.xavier_uniform_(ns, gain=0.01)\n",
    "        x[x==0] = self.epsilon\n",
    "        ns[:x.shape[0]] = x.view(x.shape[0], 4).clone()\n",
    "        for i in range(size_of_starter_set,amount_of_prediction_in_future):\n",
    "            a = ns[i-1].clone()\n",
    "            ns[i][0] = a[0].view(1,1) - self.lambda1(a[0]*a[1].view(1,1)) - self.lambda2(a[0].view(1,1))\n",
    "            ns[i][1] = a[1].view(1,1) + self.lambda1(a[0]*a[1].view(1,1)) - self.lambda3(a[1].view(1,1))\n",
    "            ns[i][2] = a[2].view(1,1) + self.lambda3(a[1].view(1,1))\n",
    "            ns[i][3] = a[3].view(1,1) + self.lambda2(a[0].view(1,1))\n",
    "        b = torch.div(ns, ns.sum(axis=1).reshape(-1,1)).clone()\n",
    "        return b[1:].reshape(-1,4)\n"
   ]
  },
  {
   "cell_type": "code",
   "execution_count": 14,
   "id": "f8a93328",
   "metadata": {},
   "outputs": [],
   "source": [
    "def loss_custom(pred, actual):\n",
    "    loss_func = nn.SmoothL1Loss()\n",
    "    loss_big = loss_func(pred[:,3], actual[:,3]) + loss_func(pred[:,0], actual[:,0])\n",
    "    loss_inf = loss_func(pred[:,1], actual[:,1])\n",
    "    loss_recov =  loss_func(pred[:,2], actual[:,2])\n",
    "    return 100000*loss_inf + 1000*loss_recov + loss_big"
   ]
  },
  {
   "cell_type": "code",
   "execution_count": null,
   "id": "900debb7",
   "metadata": {},
   "outputs": [],
   "source": []
  },
  {
   "cell_type": "code",
   "execution_count": 15,
   "id": "e50c1d31",
   "metadata": {
    "scrolled": false
   },
   "outputs": [],
   "source": [
    "y = torch.from_numpy(data_numpy.astype(np.float32))\n"
   ]
  },
  {
   "cell_type": "code",
   "execution_count": 16,
   "id": "5c62e9b3",
   "metadata": {},
   "outputs": [
    {
     "data": {
      "text/plain": [
       "torch.Size([60, 4])"
      ]
     },
     "execution_count": 16,
     "metadata": {},
     "output_type": "execute_result"
    }
   ],
   "source": [
    "y.size()"
   ]
  },
  {
   "cell_type": "code",
   "execution_count": 17,
   "id": "c7f970e6",
   "metadata": {},
   "outputs": [],
   "source": [
    "import os\n",
    "model_checkpoint_folder = f'models/{enfermedad}/checkpoints'\n",
    "trained_models_foder = 'models/trained_models'\n",
    "os.makedirs(model_checkpoint_folder, exist_ok=True)\n",
    "os.makedirs(trained_models_foder, exist_ok=True)"
   ]
  },
  {
   "cell_type": "code",
   "execution_count": 18,
   "id": "aa61060a",
   "metadata": {},
   "outputs": [],
   "source": [
    "def train(train_set, fold_size=10, future_size=5):\n",
    "    epsilon = 1e-15\n",
    "    sir = SIRV(epsilon=epsilon)\n",
    "    opt = torch.optim.Adam(sir.parameters(), lr=0.05)\n",
    "    best = 10000\n",
    "    early_stopping = EarlyStopping(patience=50, verbose=False, delta=1e-10)\n",
    "    for epoch in range(1000):\n",
    "        out = sir(train_set[:fold_size], size_of_starter_set=min(10, fold_size), amount_of_prediction_in_future=fold_size + future_size+1)\n",
    "        out = out.squeeze()\n",
    "        loss = loss_custom(out[fold_size:], train_set[fold_size:fold_size+future_size])\n",
    "        loss.backward()\n",
    "        opt.step() \n",
    "        opt.zero_grad()\n",
    "        if loss.item() < best:\n",
    "            best = loss.item()\n",
    "            torch.save(sir, f'{model_checkpoint_folder}/{enfermedad}_{fold_size}.pkl')\n",
    "        if epoch%25 == 0:        \n",
    "            print(f'Epoch: {epoch}, loss: {loss.item()}')\n",
    "        if loss.isnan():\n",
    "            raise ValueError()\n",
    "        for p in sir.parameters():\n",
    "            p.data.clamp_(0)\n",
    "        early_stopping(loss.item(), sir)\n",
    "        if early_stopping.early_stop:\n",
    "            print(\"Early stopping\")\n",
    "            break\n",
    "    return best\n",
    "    \n",
    "\n",
    "def train_and_val_k_fold():\n",
    "    divergences = {}\n",
    "    rmses = []\n",
    "    losses = {}\n",
    "    future_index_check = 15\n",
    "    min_datapoints = 20\n",
    "    for fold_size in range(min_datapoints, len(y)-future_index_check):\n",
    "        print(f'\\nAnalyzing fold: {fold_size}\\n')\n",
    "        folded_train_set = y[:fold_size+future_index_check+1].clone()\n",
    "        best_loss = train(train_set=folded_train_set, fold_size=fold_size, future_size=future_index_check)\n",
    "        model = torch.load(f'{model_checkpoint_folder}/{enfermedad}_{fold_size}.pkl')\n",
    "        preds = model(folded_train_set[:fold_size], size_of_starter_set=fold_size, amount_of_prediction_in_future=len(folded_train_set)+1)[fold_size:fold_size+future_index_check]\n",
    "        target = y[fold_size:fold_size+future_index_check]\n",
    "        target[target==0] = 1e-15\n",
    "        kl_divergence = torch.nn.functional.kl_div(target.log(), preds, reduction='batchmean').detach().item()\n",
    "        rmse = torch.sqrt(torchmetrics.functional.mean_squared_error(target, preds)).detach().item()\n",
    "        print(f'\\nKL Divergence:{kl_divergence}\\n')\n",
    "        print(f'\\nRMSE:{rmse}\\n')\n",
    "        divergences[fold_size] = kl_divergence\n",
    "        rmses.append(rmse)\n",
    "        losses[fold_size] = best_loss\n",
    "    return divergences, rmses, losses"
   ]
  },
  {
   "cell_type": "code",
   "execution_count": 19,
   "id": "15d283ea",
   "metadata": {},
   "outputs": [
    {
     "name": "stdout",
     "output_type": "stream",
     "text": [
      "\n",
      "Analyzing fold: 20\n",
      "\n",
      "Epoch: 0, loss: 0.0719798356294632\n",
      "Epoch: 25, loss: 0.0005336393951438367\n",
      "Epoch: 50, loss: 0.0002599461004137993\n",
      "Epoch: 75, loss: 0.00013772000966127962\n",
      "Epoch: 100, loss: 0.00013565771223511547\n",
      "Epoch: 125, loss: 0.00013503084483090788\n",
      "Epoch: 150, loss: 0.00013492755533661693\n",
      "Epoch: 175, loss: 0.00013487596879713237\n",
      "Epoch: 200, loss: 0.00013484738883562386\n",
      "Epoch: 225, loss: 0.00013483082875609398\n",
      "Epoch: 250, loss: 0.00013482091890182346\n",
      "Epoch: 275, loss: 0.00013481469068210572\n",
      "Epoch: 300, loss: 0.0001348108780803159\n",
      "Epoch: 325, loss: 0.0001348083169432357\n",
      "Epoch: 350, loss: 0.00013480680354405195\n",
      "Epoch: 375, loss: 0.00013480572670232505\n",
      "Epoch: 400, loss: 0.00013480502821039408\n",
      "Epoch: 425, loss: 0.0001348047808278352\n",
      "Epoch: 450, loss: 0.0001348038495052606\n",
      "Epoch: 475, loss: 0.00013480355846695602\n",
      "Epoch: 500, loss: 0.00013480382040143013\n",
      "Epoch: 525, loss: 0.00013480348570737988\n",
      "EarlyStopping reached!\n",
      "Early stopping\n",
      "\n",
      "KL Divergence:0.0004669454647228122\n",
      "\n",
      "\n",
      "RMSE:0.00812720600515604\n",
      "\n",
      "\n",
      "Analyzing fold: 21\n",
      "\n",
      "Epoch: 0, loss: 0.20163996517658234\n",
      "Epoch: 25, loss: 0.0004357451689429581\n",
      "Epoch: 50, loss: 0.00018214205920230597\n",
      "Epoch: 75, loss: 0.00017108413157984614\n",
      "Epoch: 100, loss: 0.00016941623471211642\n",
      "Epoch: 125, loss: 0.00016880409384611994\n",
      "Epoch: 150, loss: 0.00016865173529367894\n",
      "Epoch: 175, loss: 0.00016856848378665745\n",
      "Epoch: 200, loss: 0.00016851691179908812\n",
      "Epoch: 225, loss: 0.00016848469385877252\n",
      "Epoch: 250, loss: 0.00016846408834680915\n",
      "Epoch: 275, loss: 0.00016845048230607063\n",
      "Epoch: 300, loss: 0.00016844076162669808\n",
      "Epoch: 325, loss: 0.00016843403864186257\n",
      "Epoch: 350, loss: 0.00016842965851537883\n",
      "Epoch: 375, loss: 0.00016842619515955448\n",
      "Epoch: 400, loss: 0.00016842398326843977\n",
      "Epoch: 425, loss: 0.0001684220478637144\n",
      "Epoch: 450, loss: 0.00016842081095091999\n",
      "Epoch: 475, loss: 0.00016841980686876923\n",
      "Epoch: 500, loss: 0.00016841909382492304\n",
      "Epoch: 525, loss: 0.00016841854085214436\n",
      "Epoch: 550, loss: 0.00016841832257341594\n",
      "Epoch: 575, loss: 0.00016841819160617888\n",
      "Epoch: 600, loss: 0.00016841785691212863\n",
      "Epoch: 625, loss: 0.00016841819160617888\n",
      "EarlyStopping reached!\n",
      "Early stopping\n",
      "\n",
      "KL Divergence:0.0006044285255484283\n",
      "\n",
      "\n",
      "RMSE:0.009538711048662663\n",
      "\n",
      "\n",
      "Analyzing fold: 22\n",
      "\n",
      "Epoch: 0, loss: 0.07575605809688568\n",
      "Epoch: 25, loss: 0.0002801227674353868\n",
      "Epoch: 50, loss: 0.0002511186175979674\n",
      "EarlyStopping reached!\n",
      "Early stopping\n",
      "\n",
      "KL Divergence:0.005884953308850527\n",
      "\n",
      "\n",
      "RMSE:0.03280557692050934\n",
      "\n",
      "\n",
      "Analyzing fold: 23\n",
      "\n",
      "Epoch: 0, loss: 0.11370793730020523\n",
      "Epoch: 25, loss: 0.0011068874737247825\n",
      "Epoch: 50, loss: 0.0003208674897905439\n",
      "Epoch: 75, loss: 0.00021127764193806797\n",
      "Epoch: 100, loss: 0.00020784608204849064\n",
      "Epoch: 125, loss: 0.00020658288849517703\n",
      "Epoch: 150, loss: 0.00020637117268051952\n",
      "Epoch: 175, loss: 0.0002062827697955072\n",
      "Epoch: 200, loss: 0.00020623323507606983\n",
      "Epoch: 225, loss: 0.00020620306895580143\n",
      "Epoch: 250, loss: 0.0002061825798591599\n",
      "Epoch: 275, loss: 0.00020616959955077618\n",
      "Epoch: 300, loss: 0.00020616018446162343\n",
      "Epoch: 325, loss: 0.00020615376706700772\n",
      "Epoch: 350, loss: 0.0002061498526018113\n",
      "Epoch: 375, loss: 0.00020614620007108897\n",
      "Epoch: 400, loss: 0.00020614397362805903\n",
      "Epoch: 425, loss: 0.00020614225650206208\n",
      "Epoch: 450, loss: 0.00020614088862203062\n",
      "Epoch: 475, loss: 0.0002061398990917951\n",
      "Epoch: 500, loss: 0.00020613925880752504\n",
      "Epoch: 525, loss: 0.0002061381674138829\n",
      "Epoch: 550, loss: 0.00020613824017345905\n",
      "Epoch: 575, loss: 0.00020613757078535855\n",
      "Epoch: 600, loss: 0.00020613789092749357\n",
      "Epoch: 625, loss: 0.00020613787637557834\n",
      "EarlyStopping reached!\n",
      "Early stopping\n",
      "\n",
      "KL Divergence:0.0018093062099069357\n",
      "\n",
      "\n",
      "RMSE:0.017620813101530075\n",
      "\n",
      "\n",
      "Analyzing fold: 24\n",
      "\n",
      "Epoch: 0, loss: 0.0027870216872543097\n",
      "Epoch: 25, loss: 0.0009065326303243637\n",
      "Epoch: 50, loss: 0.0002105834719259292\n",
      "Epoch: 75, loss: 0.00020257347205188125\n",
      "Epoch: 100, loss: 0.00020253559341654181\n",
      "Epoch: 125, loss: 0.00020176803809590638\n",
      "Epoch: 150, loss: 0.00020165953901596367\n",
      "Epoch: 175, loss: 0.00020160703570581973\n",
      "Epoch: 200, loss: 0.00020157812105026096\n",
      "Epoch: 225, loss: 0.00020173663506284356\n",
      "Epoch: 250, loss: 0.0019403259502723813\n",
      "EarlyStopping reached!\n",
      "Early stopping\n",
      "\n",
      "KL Divergence:0.002577637555077672\n",
      "\n",
      "\n",
      "RMSE:0.020779043436050415\n",
      "\n",
      "\n",
      "Analyzing fold: 25\n",
      "\n",
      "Epoch: 0, loss: 0.00022139768407214433\n",
      "Epoch: 25, loss: 0.0007152748294174671\n",
      "Epoch: 50, loss: 0.00022299955890048295\n",
      "Epoch: 75, loss: 0.0002045817964244634\n",
      "Epoch: 100, loss: 0.000198010093299672\n",
      "Epoch: 125, loss: 0.00019780687580350786\n",
      "Epoch: 150, loss: 0.0001976543280761689\n",
      "Epoch: 175, loss: 0.00019760473514907062\n",
      "Epoch: 200, loss: 0.0001975750783458352\n",
      "Epoch: 225, loss: 0.00019755370158236474\n",
      "Epoch: 250, loss: 0.00020152713113930076\n",
      "Epoch: 275, loss: 0.00020232827228028327\n",
      "EarlyStopping reached!\n",
      "Early stopping\n",
      "\n",
      "KL Divergence:0.0024575451388955116\n",
      "\n",
      "\n",
      "RMSE:0.020521916449069977\n",
      "\n",
      "\n",
      "Analyzing fold: 26\n",
      "\n",
      "Epoch: 0, loss: 0.00028286915039643645\n",
      "Epoch: 25, loss: 0.0016434881836175919\n",
      "Epoch: 50, loss: 0.00034414714900776744\n",
      "Epoch: 75, loss: 0.0002051888732239604\n",
      "Epoch: 100, loss: 0.00019570288714021444\n",
      "Epoch: 125, loss: 0.000194599007954821\n",
      "Epoch: 150, loss: 0.00019422291370574385\n",
      "Epoch: 175, loss: 0.00019407426589168608\n",
      "Epoch: 200, loss: 0.0001939915819093585\n",
      "Epoch: 225, loss: 0.0001939390494953841\n",
      "Epoch: 250, loss: 0.003617317881435156\n",
      "Epoch: 275, loss: 0.0005424725241027772\n",
      "EarlyStopping reached!\n",
      "Early stopping\n",
      "\n",
      "KL Divergence:0.0023535643704235554\n",
      "\n",
      "\n",
      "RMSE:0.020234931260347366\n",
      "\n",
      "\n",
      "Analyzing fold: 27\n",
      "\n",
      "Epoch: 0, loss: 0.002424754435196519\n",
      "Epoch: 25, loss: 0.00021760963136330247\n",
      "Epoch: 50, loss: 0.0002697639574762434\n",
      "Epoch: 75, loss: 0.0001936674671014771\n",
      "Epoch: 100, loss: 0.00019075747695751488\n",
      "Epoch: 125, loss: 0.00019962676742579788\n",
      "Epoch: 150, loss: 0.0014860538067296147\n",
      "EarlyStopping reached!\n",
      "Early stopping\n",
      "\n",
      "KL Divergence:0.0022950242273509502\n",
      "\n",
      "\n",
      "RMSE:0.01995418407022953\n",
      "\n",
      "\n",
      "Analyzing fold: 28\n",
      "\n",
      "Epoch: 0, loss: 0.3024003207683563\n",
      "Epoch: 25, loss: 0.0007469955016858876\n",
      "Epoch: 50, loss: 0.0008189202635549009\n",
      "Epoch: 75, loss: 0.0001995000202441588\n",
      "Epoch: 100, loss: 0.00018786459986586124\n",
      "Epoch: 125, loss: 0.0001879790797829628\n",
      "Epoch: 150, loss: 0.0001878599141491577\n",
      "Epoch: 175, loss: 0.00018785496649798006\n",
      "Epoch: 200, loss: 0.00018785387510433793\n",
      "Epoch: 225, loss: 0.00018785256543196738\n",
      "Epoch: 250, loss: 0.00018785204156301916\n",
      "Epoch: 275, loss: 0.00018784988787956536\n",
      "Epoch: 300, loss: 0.0001878488255897537\n",
      "Epoch: 325, loss: 0.00018784697749651968\n",
      "Epoch: 350, loss: 0.00018784486746881157\n",
      "Epoch: 375, loss: 0.00018784288840834051\n",
      "Epoch: 400, loss: 0.00018784070562105626\n",
      "Epoch: 425, loss: 0.00018783827545121312\n",
      "Epoch: 450, loss: 0.000187835335964337\n",
      "Epoch: 475, loss: 0.00018783184350468218\n",
      "Epoch: 500, loss: 0.000187828263733536\n",
      "Epoch: 525, loss: 0.00018782407278195024\n",
      "Epoch: 550, loss: 0.0001878188195405528\n",
      "Epoch: 575, loss: 0.00018781375547405332\n",
      "Epoch: 600, loss: 0.0001878065668279305\n",
      "Epoch: 625, loss: 0.0001877984614111483\n",
      "Epoch: 650, loss: 0.0001877880422398448\n",
      "Epoch: 675, loss: 0.00018777427612803876\n",
      "Epoch: 700, loss: 0.0001877547474578023\n",
      "Epoch: 725, loss: 0.00018772503244690597\n",
      "Epoch: 750, loss: 0.0001876683672890067\n",
      "Epoch: 775, loss: 0.00018748904403764755\n",
      "Epoch: 800, loss: 0.00018635805463418365\n",
      "Epoch: 825, loss: 0.00018599435861688107\n",
      "Epoch: 850, loss: 0.0001858220639405772\n",
      "Epoch: 875, loss: 0.00018568443192634732\n",
      "Epoch: 900, loss: 0.00018556488794274628\n",
      "Epoch: 925, loss: 0.00018546155479270965\n",
      "Epoch: 950, loss: 0.0001853725261753425\n",
      "Epoch: 975, loss: 0.00018530663510318846\n",
      "\n",
      "KL Divergence:0.0022710489574819803\n",
      "\n",
      "\n",
      "RMSE:0.019870085641741753\n",
      "\n",
      "\n",
      "Analyzing fold: 29\n",
      "\n",
      "Epoch: 0, loss: 0.21121425926685333\n",
      "Epoch: 25, loss: 0.0016817711293697357\n",
      "Epoch: 50, loss: 0.0006242605741135776\n",
      "Epoch: 75, loss: 0.00018421674030832946\n",
      "Epoch: 100, loss: 0.00018182308122050017\n",
      "Epoch: 125, loss: 0.00018099480075761676\n",
      "Epoch: 150, loss: 0.000181186172994785\n",
      "Epoch: 175, loss: 0.0001801012986106798\n",
      "Epoch: 200, loss: 0.00017919216770678759\n",
      "Epoch: 225, loss: 0.0001789570669643581\n",
      "Epoch: 250, loss: 0.00017879888764582574\n",
      "Epoch: 275, loss: 0.00017868114809971303\n",
      "Epoch: 300, loss: 0.00017859462241176516\n",
      "Epoch: 325, loss: 0.00017852915334515274\n",
      "Epoch: 350, loss: 0.00017847938579507172\n",
      "Epoch: 375, loss: 0.0001784401829354465\n",
      "Epoch: 400, loss: 0.00017840943473856896\n",
      "Epoch: 425, loss: 0.00017838386702351272\n"
     ]
    },
    {
     "name": "stdout",
     "output_type": "stream",
     "text": [
      "Epoch: 450, loss: 0.0001783637999324128\n",
      "Epoch: 475, loss: 0.0001783464103937149\n",
      "Epoch: 500, loss: 0.0001783319894457236\n",
      "Epoch: 525, loss: 0.00017831944569479674\n",
      "Epoch: 550, loss: 0.00017830892466008663\n",
      "Epoch: 575, loss: 0.00017830001888796687\n",
      "Epoch: 600, loss: 0.00017829205899033695\n",
      "Epoch: 625, loss: 0.00017828487034421414\n",
      "Epoch: 650, loss: 0.00017827891861088574\n",
      "Epoch: 675, loss: 0.00017827312694862485\n",
      "Epoch: 700, loss: 0.00017826854309532791\n",
      "Epoch: 725, loss: 0.00017826510884333402\n",
      "Epoch: 750, loss: 0.0034528591204434633\n",
      "EarlyStopping reached!\n",
      "Early stopping\n",
      "\n",
      "KL Divergence:0.002263436559587717\n",
      "\n",
      "\n",
      "RMSE:0.01982356421649456\n",
      "\n",
      "\n",
      "Analyzing fold: 30\n",
      "\n",
      "Epoch: 0, loss: 0.0001684032758930698\n",
      "Epoch: 25, loss: 0.00024925809702835977\n",
      "Epoch: 50, loss: 0.00021455620299093425\n",
      "Epoch: 75, loss: 0.0001749556977301836\n",
      "Epoch: 100, loss: 0.00016249515465460718\n",
      "Epoch: 125, loss: 0.00016095770115498453\n",
      "Epoch: 150, loss: 0.0001605278957867995\n",
      "Epoch: 175, loss: 0.00016029324615374207\n",
      "Epoch: 200, loss: 0.002007000381127\n",
      "Epoch: 225, loss: 0.0010953955352306366\n",
      "EarlyStopping reached!\n",
      "Early stopping\n",
      "\n",
      "KL Divergence:0.002192435087636113\n",
      "\n",
      "\n",
      "RMSE:0.019497672095894814\n",
      "\n",
      "\n",
      "Analyzing fold: 31\n",
      "\n",
      "Epoch: 0, loss: 0.3854510188102722\n",
      "Epoch: 25, loss: 0.5504573583602905\n",
      "Epoch: 50, loss: 0.592877984046936\n",
      "Epoch: 75, loss: 0.5934383869171143\n",
      "EarlyStopping reached!\n",
      "Early stopping\n",
      "\n",
      "KL Divergence:0.0023242596071213484\n",
      "\n",
      "\n",
      "RMSE:0.020135322585701942\n",
      "\n",
      "\n",
      "Analyzing fold: 32\n",
      "\n",
      "Epoch: 0, loss: 0.4137932062149048\n",
      "Epoch: 25, loss: 0.5775953531265259\n",
      "Epoch: 50, loss: 0.17306563258171082\n",
      "Epoch: 75, loss: 0.591748058795929\n",
      "Epoch: 100, loss: 0.5917531251907349\n",
      "EarlyStopping reached!\n",
      "Early stopping\n",
      "\n",
      "KL Divergence:0.009564860723912716\n",
      "\n",
      "\n",
      "RMSE:0.04229501634836197\n",
      "\n",
      "\n",
      "Analyzing fold: 33\n",
      "\n",
      "Epoch: 0, loss: 0.1590811163187027\n",
      "Epoch: 25, loss: 0.0036215842701494694\n",
      "Epoch: 50, loss: 0.00010047929390566424\n",
      "Epoch: 75, loss: 9.893786045722663e-05\n",
      "Epoch: 100, loss: 8.349515701411292e-05\n",
      "Epoch: 125, loss: 8.115341188386083e-05\n",
      "Epoch: 150, loss: 8.09157791081816e-05\n",
      "EarlyStopping reached!\n",
      "Early stopping\n",
      "\n",
      "KL Divergence:0.0016105882823467255\n",
      "\n",
      "\n",
      "RMSE:0.016567334532737732\n",
      "\n",
      "\n",
      "Analyzing fold: 34\n",
      "\n",
      "Epoch: 0, loss: 0.2362499237060547\n",
      "Epoch: 25, loss: 0.48190435767173767\n",
      "Epoch: 50, loss: 0.586996853351593\n",
      "Epoch: 75, loss: 0.5870658755302429\n",
      "EarlyStopping reached!\n",
      "Early stopping\n",
      "\n",
      "KL Divergence:0.0002304790250491351\n",
      "\n",
      "\n",
      "RMSE:0.004701976198703051\n",
      "\n",
      "\n",
      "Analyzing fold: 35\n",
      "\n",
      "Epoch: 0, loss: 0.0006555482395924628\n",
      "Epoch: 25, loss: 0.002769489074125886\n",
      "Epoch: 50, loss: 0.00011007647844962776\n",
      "Epoch: 75, loss: 5.982641232549213e-05\n",
      "Epoch: 100, loss: 4.692080256063491e-05\n",
      "Epoch: 125, loss: 4.5119086280465126e-05\n",
      "Epoch: 150, loss: 4.5026008592685685e-05\n",
      "Epoch: 175, loss: 0.0005135034443810582\n",
      "Epoch: 200, loss: 5.7818921050056815e-05\n",
      "EarlyStopping reached!\n",
      "Early stopping\n",
      "\n",
      "KL Divergence:0.0010593016631901264\n",
      "\n",
      "\n",
      "RMSE:0.013143367134034634\n",
      "\n",
      "\n",
      "Analyzing fold: 36\n",
      "\n",
      "Epoch: 0, loss: 0.07967532426118851\n",
      "Epoch: 25, loss: 0.0015084096230566502\n",
      "Epoch: 50, loss: 0.00018069506040774286\n",
      "Epoch: 75, loss: 5.8475481637287885e-05\n",
      "Epoch: 100, loss: 5.4116168030304834e-05\n",
      "Epoch: 125, loss: 5.119525667396374e-05\n",
      "Epoch: 150, loss: 5.1152568630641326e-05\n",
      "Epoch: 175, loss: 5.1152121159248054e-05\n",
      "Epoch: 200, loss: 5.1152193918824196e-05\n",
      "Epoch: 225, loss: 5.11518883286044e-05\n",
      "Epoch: 250, loss: 5.1151706429664046e-05\n",
      "Epoch: 275, loss: 5.115160456625745e-05\n",
      "Epoch: 300, loss: 0.0034185973927378654\n",
      "EarlyStopping reached!\n",
      "Early stopping\n",
      "\n",
      "KL Divergence:0.000830482691526413\n",
      "\n",
      "\n",
      "RMSE:0.011407570913434029\n",
      "\n",
      "\n",
      "Analyzing fold: 37\n",
      "\n",
      "Epoch: 0, loss: 0.001123713213019073\n",
      "Epoch: 25, loss: 0.0006347195012494922\n",
      "Epoch: 50, loss: 6.47503329673782e-05\n",
      "Epoch: 75, loss: 7.358150469372049e-05\n",
      "Epoch: 100, loss: 6.446469342336059e-05\n",
      "Epoch: 125, loss: 7.755653496133164e-05\n",
      "Epoch: 150, loss: 9.892520029097795e-05\n",
      "EarlyStopping reached!\n",
      "Early stopping\n",
      "\n",
      "KL Divergence:0.0006789706530980766\n",
      "\n",
      "\n",
      "RMSE:0.009884016588330269\n",
      "\n",
      "\n",
      "Analyzing fold: 38\n",
      "\n",
      "Epoch: 0, loss: 0.012193391099572182\n",
      "Epoch: 25, loss: 0.0012086700880900025\n",
      "Epoch: 50, loss: 0.00013077988114673644\n",
      "Epoch: 75, loss: 0.00011460980022093281\n",
      "Epoch: 100, loss: 0.0024938948918133974\n",
      "Epoch: 125, loss: 0.0010049627162516117\n",
      "EarlyStopping reached!\n",
      "Early stopping\n",
      "\n",
      "KL Divergence:0.0005463017732836306\n",
      "\n",
      "\n",
      "RMSE:0.00886583048850298\n",
      "\n",
      "\n",
      "Analyzing fold: 39\n",
      "\n",
      "Epoch: 0, loss: 0.04865558445453644\n",
      "Epoch: 25, loss: 0.0005391144077293575\n",
      "Epoch: 50, loss: 0.0005383539828471839\n",
      "Epoch: 75, loss: 0.0001628959143999964\n",
      "Epoch: 100, loss: 0.0001359757879981771\n",
      "Epoch: 125, loss: 0.00013268044858705252\n",
      "Epoch: 150, loss: 0.0001324337936239317\n",
      "Epoch: 175, loss: 0.00013233296340331435\n",
      "Epoch: 200, loss: 0.000132280561956577\n",
      "Epoch: 225, loss: 0.0001702895388007164\n",
      "Epoch: 250, loss: 0.0024477019906044006\n",
      "EarlyStopping reached!\n",
      "Early stopping\n",
      "\n",
      "KL Divergence:0.0005092464271001518\n",
      "\n",
      "\n",
      "RMSE:0.008568855002522469\n",
      "\n",
      "\n",
      "Analyzing fold: 40\n",
      "\n",
      "Epoch: 0, loss: 0.02283794991672039\n",
      "Epoch: 25, loss: 0.00019007091759704053\n",
      "Epoch: 50, loss: 0.00031458542798645794\n",
      "Epoch: 75, loss: 0.0001902679359773174\n",
      "EarlyStopping reached!\n",
      "Early stopping\n",
      "\n",
      "KL Divergence:0.0013030102709308267\n",
      "\n",
      "\n",
      "RMSE:0.015383342280983925\n",
      "\n",
      "\n",
      "Analyzing fold: 41\n",
      "\n",
      "Epoch: 0, loss: 0.008267957717180252\n",
      "Epoch: 25, loss: 0.0002699443430174142\n",
      "Epoch: 50, loss: 0.00025568873388692737\n",
      "Epoch: 75, loss: 0.0002547813637647778\n",
      "Epoch: 100, loss: 0.0004387310182210058\n",
      "EarlyStopping reached!\n",
      "Early stopping\n",
      "\n",
      "KL Divergence:0.0008738694596104324\n",
      "\n",
      "\n",
      "RMSE:0.012357305735349655\n",
      "\n",
      "\n",
      "Analyzing fold: 42\n",
      "\n",
      "Epoch: 0, loss: 0.034751903265714645\n",
      "Epoch: 25, loss: 0.00046756479423493147\n",
      "Epoch: 50, loss: 0.0020479243248701096\n",
      "EarlyStopping reached!\n",
      "Early stopping\n",
      "\n",
      "KL Divergence:0.0014073892962187529\n",
      "\n",
      "\n",
      "RMSE:0.016272908076643944\n",
      "\n",
      "\n",
      "Analyzing fold: 43\n",
      "\n",
      "Epoch: 0, loss: 0.017160704359412193\n",
      "Epoch: 25, loss: 0.004590366501361132\n",
      "Epoch: 50, loss: 0.000501821341458708\n",
      "Epoch: 75, loss: 0.0003537152661010623\n",
      "Epoch: 100, loss: 0.00033853601780720055\n",
      "Epoch: 125, loss: 0.0003351411141920835\n",
      "Epoch: 150, loss: 0.0003351905907038599\n",
      "EarlyStopping reached!\n",
      "Early stopping\n",
      "\n",
      "KL Divergence:0.001524273306131363\n",
      "\n",
      "\n",
      "RMSE:0.01705985888838768\n",
      "\n",
      "\n",
      "Analyzing fold: 44\n",
      "\n",
      "Epoch: 0, loss: 0.02342410571873188\n",
      "Epoch: 25, loss: 0.0010785242775455117\n",
      "Epoch: 50, loss: 0.0005555361858569086\n",
      "Epoch: 75, loss: 0.0024416835512965918\n",
      "Epoch: 100, loss: 0.00040289515163749456\n",
      "EarlyStopping reached!\n",
      "Early stopping\n",
      "\n",
      "KL Divergence:0.001866351580247283\n",
      "\n",
      "\n",
      "RMSE:0.019041383638978004\n",
      "\n"
     ]
    }
   ],
   "source": [
    "divergences, rmses, losses = train_and_val_k_fold()"
   ]
  },
  {
   "cell_type": "code",
   "execution_count": 20,
   "id": "481b4ea5",
   "metadata": {},
   "outputs": [
    {
     "name": "stdout",
     "output_type": "stream",
     "text": [
      "Cross-validated KL Divergence: 0.001980228406609967\n",
      "Cross-validated RMSE: 0.01697831170633435\n"
     ]
    }
   ],
   "source": [
    "print(f'Cross-validated KL Divergence: {pd.Series(divergences.values()).mean()}')\n",
    "print(f'Cross-validated RMSE: {pd.Series(rmses).mean()}')"
   ]
  },
  {
   "cell_type": "code",
   "execution_count": 21,
   "id": "80055f6d",
   "metadata": {},
   "outputs": [],
   "source": [
    "import matplotlib.pyplot as plt\n",
    "%matplotlib inline\n",
    "\n",
    "best_fold_size = min(losses, key=losses.get)\n",
    "model = torch.load(f'{model_checkpoint_folder}/{enfermedad}_{best_fold_size}.pkl')\n",
    "torch.save(model, f'models/trained_models/{enfermedad}.pkl')\n",
    "\n",
    "y = torch.from_numpy(data_numpy.astype(np.float32))\n",
    "res = model(y, size_of_starter_set=best_fold_size, amount_of_prediction_in_future=len(y))\n"
   ]
  },
  {
   "cell_type": "code",
   "execution_count": 22,
   "id": "18edf790",
   "metadata": {},
   "outputs": [
    {
     "data": {
      "text/plain": [
       "35"
      ]
     },
     "execution_count": 22,
     "metadata": {},
     "output_type": "execute_result"
    }
   ],
   "source": [
    "best_fold_size"
   ]
  },
  {
   "cell_type": "code",
   "execution_count": 23,
   "id": "d8ebd9c5",
   "metadata": {},
   "outputs": [],
   "source": [
    "for i in range(len(y)):\n",
    "    file_to_rem = pathlib.Path(f'{model_checkpoint_folder}/{enfermedad}_{i}.pkl')\n",
    "    if os.path.isfile(file_to_rem):\n",
    "        file_to_rem.unlink()\n",
    "file_to_rem = pathlib.Path(f'checkpoint.pt')\n",
    "file_to_rem.unlink()"
   ]
  },
  {
   "cell_type": "code",
   "execution_count": 24,
   "id": "5dc82fb3",
   "metadata": {},
   "outputs": [
    {
     "data": {
      "text/plain": [
       "torch.Size([59, 4])"
      ]
     },
     "execution_count": 24,
     "metadata": {},
     "output_type": "execute_result"
    }
   ],
   "source": [
    "res.shape"
   ]
  },
  {
   "cell_type": "code",
   "execution_count": 25,
   "id": "292be11a",
   "metadata": {},
   "outputs": [],
   "source": [
    "import os\n",
    "os.makedirs(f'figures/{enfermedad}', exist_ok=True)"
   ]
  },
  {
   "cell_type": "code",
   "execution_count": 26,
   "id": "a2ccb063",
   "metadata": {},
   "outputs": [
    {
     "data": {
      "image/png": "[encoded data removed]",
      "text/plain": [
       "<Figure size 1080x360 with 2 Axes>"
      ]
     },
     "metadata": {
      "needs_background": "light"
     },
     "output_type": "display_data"
    }
   ],
   "source": [
    "fold_sizes = losses.keys()\n",
    "fig, ax = plt.subplots(nrows=1, ncols=2, figsize=(15, 5))\n",
    "\n",
    "ax[0].plot(fold_sizes, divergences.values(), color = 'r', linewidth=0, marker='.', label='divergences')\n",
    "ax[0].plot(fold_sizes, rmses, color = 'b', linewidth=0, marker='.', label='rmse')\n",
    "ax[1].set_yscale('log')\n",
    "ax[0].set_ylabel('Metrics')\n",
    "ax[0].set_xlabel('Fold Size')\n",
    "ax[0].set_title('Analisis de metricas')\n",
    "ax[0].legend()\n",
    "\n",
    "\n",
    "ax[1].plot(fold_sizes, losses.values(), color = 'g', linewidth=0, marker='.', label='losses')\n",
    "ax[1].set_ylabel('Loss')\n",
    "ax[1].set_yscale('log')\n",
    "ax[1].set_xlabel('Fold Size')\n",
    "ax[1].set_title('Analisis de Loss')\n",
    "ax[1].legend()\n",
    "\n",
    "plt.show()"
   ]
  },
  {
   "cell_type": "code",
   "execution_count": 27,
   "id": "d9bf2d81",
   "metadata": {},
   "outputs": [
    {
     "name": "stderr",
     "output_type": "stream",
     "text": [
      "/var/folders/g0/jqvp4xxs5pn4cds1xb9339xm0000gn/T/ipykernel_34741/700671155.py:11: MatplotlibDeprecationWarning: savefig() got unexpected keyword argument \"linewidth\" which is no longer supported as of 3.3 and will become an error two minor releases later\n",
      "  plt.savefig(f'figures/{enfermedad}/accumul_prediction.png', format='png', linewidth = 0.01)\n"
     ]
    },
    {
     "data": {
      "image/png": "[encoded data removed]",
      "text/plain": [
       "<Figure size 432x288 with 1 Axes>"
      ]
     },
     "metadata": {
      "needs_background": "light"
     },
     "output_type": "display_data"
    }
   ],
   "source": [
    "predicted_susceptible = res[:,0].detach().numpy()\n",
    "real_susceptible = y[:,0].detach().numpy()\n",
    "plt.plot(data.index, real_susceptible, color = 'r', linewidth=0, marker='.', label='real_sus')\n",
    "plt.plot(data.index[1:], predicted_susceptible, color = 'b', linewidth=0, marker='.', label='pred_sus')\n",
    "plt.ylim(0, 1)\n",
    "plt.xlim(0,len(y))\n",
    "plt.ylabel('Proportion')\n",
    "plt.xlabel('Generation')\n",
    "plt.title('Analisis de susceptibles predichos vs reales')\n",
    "plt.legend()\n",
    "plt.savefig(f'figures/{enfermedad}/accumul_prediction.png', format='png', linewidth = 0.01)"
   ]
  },
  {
   "cell_type": "code",
   "execution_count": 28,
   "id": "9a87fda1",
   "metadata": {},
   "outputs": [
    {
     "name": "stderr",
     "output_type": "stream",
     "text": [
      "/var/folders/g0/jqvp4xxs5pn4cds1xb9339xm0000gn/T/ipykernel_34741/2298925115.py:11: MatplotlibDeprecationWarning: savefig() got unexpected keyword argument \"linewidth\" which is no longer supported as of 3.3 and will become an error two minor releases later\n",
      "  plt.savefig(f'figures/{enfermedad}/accumul_prediction_vaccinated.png', format='png', linewidth = 0.01)\n"
     ]
    },
    {
     "data": {
      "image/png": "[encoded data removed]",
      "text/plain": [
       "<Figure size 432x288 with 1 Axes>"
      ]
     },
     "metadata": {
      "needs_background": "light"
     },
     "output_type": "display_data"
    }
   ],
   "source": [
    "predicted_vaccinated = res[:,3].detach().numpy()\n",
    "real_vaccinated = y[:,3].detach().numpy()\n",
    "plt.plot(data.index, real_vaccinated, color = 'r', linewidth=0, marker='.', label='real_vac')\n",
    "plt.plot(data.index[1:], predicted_vaccinated, color = 'b', linewidth=0, marker='.', label='pred_vac')\n",
    "plt.ylim(0, 1)\n",
    "plt.xlim(0,len(y))\n",
    "plt.ylabel('Proportion')\n",
    "plt.xlabel('Generation')\n",
    "plt.title('Analisis de vacunados predichos vs reales')\n",
    "plt.legend()\n",
    "plt.savefig(f'figures/{enfermedad}/accumul_prediction_vaccinated.png', format='png', linewidth = 0.01)"
   ]
  },
  {
   "cell_type": "markdown",
   "id": "a60316ad",
   "metadata": {},
   "source": [
    "Que pasa si le damos mas peso a fitear a los susceptibles?\n"
   ]
  },
  {
   "cell_type": "code",
   "execution_count": 29,
   "id": "133fb8d1",
   "metadata": {},
   "outputs": [
    {
     "name": "stderr",
     "output_type": "stream",
     "text": [
      "/var/folders/g0/jqvp4xxs5pn4cds1xb9339xm0000gn/T/ipykernel_34741/652839925.py:12: MatplotlibDeprecationWarning: savefig() got unexpected keyword argument \"linewidth\" which is no longer supported as of 3.3 and will become an error two minor releases later\n",
      "  plt.savefig(f'figures/{enfermedad}/accumul_infected.png', format='png', linewidth = 0.01)\n"
     ]
    },
    {
     "data": {
      "image/png": "[encoded data removed]",
      "text/plain": [
       "<Figure size 432x288 with 1 Axes>"
      ]
     },
     "metadata": {
      "needs_background": "light"
     },
     "output_type": "display_data"
    }
   ],
   "source": [
    "predicted_infected = res[:,1].detach().numpy()\n",
    "real_infected = y[:,1].detach().numpy()\n",
    "plt.plot(data.index, real_infected, color = 'r', linewidth=0, marker='.', label='real_inf')\n",
    "plt.plot(data.index[1:], predicted_infected, color = 'b', linewidth=0, marker='.', label='pred_inf')\n",
    "# plt.yscale('log')\n",
    "plt.xlim(0,len(y))\n",
    "plt.ylim(0,1)\n",
    "plt.ylabel('Proportion')\n",
    "plt.xlabel('Generation')\n",
    "plt.title('Analisis de infectados predichos vs reales')\n",
    "plt.legend()\n",
    "plt.savefig(f'figures/{enfermedad}/accumul_infected.png', format='png', linewidth = 0.01)"
   ]
  },
  {
   "cell_type": "code",
   "execution_count": 30,
   "id": "a4c78e78",
   "metadata": {},
   "outputs": [
    {
     "name": "stderr",
     "output_type": "stream",
     "text": [
      "/var/folders/g0/jqvp4xxs5pn4cds1xb9339xm0000gn/T/ipykernel_34741/2050763186.py:11: MatplotlibDeprecationWarning: savefig() got unexpected keyword argument \"linewidth\" which is no longer supported as of 3.3 and will become an error two minor releases later\n",
      "  plt.savefig(f'figures/{enfermedad}/accumul_prediction_rec.png', format='png', linewidth = 0.01)\n"
     ]
    },
    {
     "data": {
      "image/png": "[encoded data removed]",
      "text/plain": [
       "<Figure size 432x288 with 1 Axes>"
      ]
     },
     "metadata": {
      "needs_background": "light"
     },
     "output_type": "display_data"
    }
   ],
   "source": [
    "predicted_recov = res[:,2].detach().numpy()\n",
    "real_recov = y[:,2].detach().numpy()\n",
    "plt.plot(data.index, real_recov, color = 'r', linewidth=0, marker='.', label='real_rec')\n",
    "plt.plot(data.index[1:], predicted_recov, color = 'b', linewidth=0, marker='.', label='pred_rec')\n",
    "plt.yscale('log')\n",
    "plt.xlim(0,len(y))\n",
    "plt.ylabel('Proportion')\n",
    "plt.xlabel('Generation')\n",
    "plt.title('Analisis de recuperados predichos vs reales')\n",
    "plt.legend()\n",
    "plt.savefig(f'figures/{enfermedad}/accumul_prediction_rec.png', format='png', linewidth = 0.01)"
   ]
  },
  {
   "cell_type": "markdown",
   "id": "5d747f24",
   "metadata": {},
   "source": [
    "Testeemos los parametros"
   ]
  },
  {
   "cell_type": "code",
   "execution_count": 31,
   "id": "61711e68",
   "metadata": {},
   "outputs": [
    {
     "name": "stdout",
     "output_type": "stream",
     "text": [
      "[Parameter containing:\n",
      "tensor([[1.0975]], requires_grad=True), Parameter containing:\n",
      "tensor([[0.0037]], requires_grad=True), Parameter containing:\n",
      "tensor([[0.8745]], requires_grad=True)]\n"
     ]
    }
   ],
   "source": [
    "params = list(model.parameters())\n",
    "lambda1 = params[0].item()\n",
    "lambda2 = params[1].item()\n",
    "lambda3 = params[2].item()\n",
    "print(params)"
   ]
  },
  {
   "cell_type": "markdown",
   "id": "3b66fea9",
   "metadata": {},
   "source": [
    "Recordemos que estamos modelando:\n",
    "\n",
    "$$\\dfrac{ds}{dt} = -\\lambda_1 s i - \\lambda_2 s  $$\n",
    "\\\n",
    "$$\\dfrac{di}{dt} = \\lambda_1 s i - \\lambda_3 i  $$\n",
    "\n",
    "\\\n",
    "$$\\dfrac{dr}{dt} = \\lambda_3 i  $$\n",
    "\\\n",
    "$$\\dfrac{dv}{dt} = \\lambda_2 s  $$\n",
    "\n",
    "\n",
    "\n",
    "Entonces\n",
    "\n",
    "$$\\beta = \\lambda_1 = R_0 / d $$\n",
    "\n",
    "Con d la duración de la infeccion.\n",
    "\n",
    "$$ \\lambda_2 = \\eta $$ la tasa de inmunización y\n",
    "\n",
    "$$ \\lambda_3 = \\nu  = 1 / d $$\n",
    "\n",
    "Primero veamos la tasa de immunizacion"
   ]
  },
  {
   "cell_type": "code",
   "execution_count": 32,
   "id": "90eaeb4d",
   "metadata": {},
   "outputs": [],
   "source": [
    "tasa_immunizacion = (data.apply(lambda x: x.diff()).dropna().mean()/data['Vacunados'].max()).iloc[3]"
   ]
  },
  {
   "cell_type": "code",
   "execution_count": 33,
   "id": "fc002785",
   "metadata": {},
   "outputs": [
    {
     "data": {
      "text/plain": [
       "0.016722650660995812"
      ]
     },
     "execution_count": 33,
     "metadata": {},
     "output_type": "execute_result"
    }
   ],
   "source": [
    "tasa_immunizacion"
   ]
  },
  {
   "cell_type": "code",
   "execution_count": 34,
   "id": "812f4167",
   "metadata": {},
   "outputs": [
    {
     "data": {
      "text/latex": [
       "Deducimos que:\n",
       "$$ \\eta = \\lambda_2 = {0.00365} \\approx {0.01672} $$"
      ],
      "text/plain": [
       "<IPython.core.display.Latex object>"
      ]
     },
     "execution_count": 34,
     "metadata": {},
     "output_type": "execute_result"
    }
   ],
   "source": [
    "from IPython.display import Latex\n",
    "Latex(f\"\"\"Deducimos que:\n",
    "$$ \\eta = \\lambda_2 = {{{lambda2:.5f}}} \\\\approx {{{tasa_immunizacion:.5f}}} $$\"\"\")"
   ]
  },
  {
   "cell_type": "code",
   "execution_count": 35,
   "id": "27af972d",
   "metadata": {},
   "outputs": [
    {
     "data": {
      "text/latex": [
       "Deducimos que:\n",
       "$$ d = 1 / \\lambda_3 = 1 / {0.87} \\approx {1.14} $$\n",
       "$$ R_0 =  \\lambda_1 * d = {1.10} * d \\approx {1.26}$$"
      ],
      "text/plain": [
       "<IPython.core.display.Latex object>"
      ]
     },
     "execution_count": 35,
     "metadata": {},
     "output_type": "execute_result"
    }
   ],
   "source": [
    "Latex(f\"\"\"Deducimos que:\n",
    "$$ d = 1 / \\lambda_3 = 1 / {{{lambda3:.2f}}} \\\\approx {{{1/lambda3:.2f}}} $$\n",
    "$$ R_0 =  \\lambda_1 * d = {{{lambda1:.2f}}} * d \\\\approx {{{lambda1/lambda3:.2f}}}$$\"\"\")"
   ]
  },
  {
   "cell_type": "markdown",
   "id": "d4fd225a",
   "metadata": {},
   "source": [
    "Mientras que la literatura indica:\n",
    "\n",
    "$$ d = 17.5 $$\n",
    "$$ R_0 = 2.65 $$"
   ]
  },
  {
   "cell_type": "markdown",
   "id": "a0ca8030",
   "metadata": {},
   "source": [
    "## Validemos un test de momentos"
   ]
  },
  {
   "cell_type": "code",
   "execution_count": 36,
   "id": "07bfe640",
   "metadata": {},
   "outputs": [],
   "source": [
    "real_susceptible = real_susceptible[1:]\n",
    "real_vaccinated = real_vaccinated[1:]\n",
    "real_infected = real_infected[1:]\n",
    "real_recov = real_recov[1:]"
   ]
  },
  {
   "cell_type": "markdown",
   "id": "ea725fe4",
   "metadata": {},
   "source": [
    "#### Primer momento"
   ]
  },
  {
   "cell_type": "code",
   "execution_count": 37,
   "id": "61acae2d",
   "metadata": {},
   "outputs": [
    {
     "data": {
      "text/plain": [
       "Ttest_indResult(statistic=0.03215383783417819, pvalue=0.9744047435323212)"
      ]
     },
     "execution_count": 37,
     "metadata": {},
     "output_type": "execute_result"
    }
   ],
   "source": [
    "import scipy\n",
    "\n",
    "scipy.stats.ttest_ind(real_susceptible, predicted_susceptible, equal_var=False)"
   ]
  },
  {
   "cell_type": "code",
   "execution_count": 38,
   "id": "461d8d26",
   "metadata": {},
   "outputs": [
    {
     "data": {
      "text/plain": [
       "Ttest_indResult(statistic=1.0381629106820813, pvalue=0.30136274052156764)"
      ]
     },
     "execution_count": 38,
     "metadata": {},
     "output_type": "execute_result"
    }
   ],
   "source": [
    "scipy.stats.ttest_ind(real_infected, predicted_infected, equal_var=False)"
   ]
  },
  {
   "cell_type": "code",
   "execution_count": 39,
   "id": "be7f5ae3",
   "metadata": {},
   "outputs": [
    {
     "data": {
      "text/plain": [
       "Ttest_indResult(statistic=1.5370044114977874, pvalue=0.12720962204747793)"
      ]
     },
     "execution_count": 39,
     "metadata": {},
     "output_type": "execute_result"
    }
   ],
   "source": [
    "scipy.stats.ttest_ind(real_recov, predicted_recov, equal_var=False)"
   ]
  },
  {
   "cell_type": "code",
   "execution_count": 40,
   "id": "1020a2e5",
   "metadata": {},
   "outputs": [
    {
     "data": {
      "text/plain": [
       "Ttest_indResult(statistic=-0.04028694346850038, pvalue=0.9679337591389725)"
      ]
     },
     "execution_count": 40,
     "metadata": {},
     "output_type": "execute_result"
    }
   ],
   "source": [
    "scipy.stats.ttest_ind(real_vaccinated, predicted_vaccinated, equal_var=False)"
   ]
  },
  {
   "cell_type": "markdown",
   "id": "c3799d0e",
   "metadata": {},
   "source": [
    "#### Segundo momento"
   ]
  },
  {
   "cell_type": "code",
   "execution_count": 41,
   "id": "264555ea",
   "metadata": {},
   "outputs": [
    {
     "data": {
      "text/plain": [
       "BartlettResult(statistic=0.24983967945061322, pvalue=0.6171879866946361)"
      ]
     },
     "execution_count": 41,
     "metadata": {},
     "output_type": "execute_result"
    }
   ],
   "source": [
    "scipy.stats.bartlett(real_infected, predicted_infected)"
   ]
  },
  {
   "cell_type": "code",
   "execution_count": 42,
   "id": "a8d58a5a",
   "metadata": {},
   "outputs": [
    {
     "data": {
      "text/plain": [
       "BartlettResult(statistic=4.2604850315819, pvalue=0.03900878199705553)"
      ]
     },
     "execution_count": 42,
     "metadata": {},
     "output_type": "execute_result"
    }
   ],
   "source": [
    "scipy.stats.bartlett(real_recov, predicted_recov)"
   ]
  },
  {
   "cell_type": "markdown",
   "id": "f29f39a8",
   "metadata": {},
   "source": [
    "#### Test de bondad de ajuste de KS"
   ]
  },
  {
   "cell_type": "code",
   "execution_count": 43,
   "id": "8ab4f644",
   "metadata": {},
   "outputs": [
    {
     "data": {
      "text/plain": [
       "KstestResult(statistic=0.15254237288135597, pvalue=0.4438359856030284)"
      ]
     },
     "execution_count": 43,
     "metadata": {},
     "output_type": "execute_result"
    }
   ],
   "source": [
    "scipy.stats.kstest(real_susceptible, predicted_susceptible, method='asymp')"
   ]
  },
  {
   "cell_type": "code",
   "execution_count": 44,
   "id": "681bd62e",
   "metadata": {},
   "outputs": [
    {
     "data": {
      "text/plain": [
       "KstestResult(statistic=0.423728813559322, pvalue=2.112021359190332e-05)"
      ]
     },
     "execution_count": 44,
     "metadata": {},
     "output_type": "execute_result"
    }
   ],
   "source": [
    "scipy.stats.kstest(real_infected, predicted_infected, method='asymp')"
   ]
  },
  {
   "cell_type": "code",
   "execution_count": 45,
   "id": "9e9078f7",
   "metadata": {},
   "outputs": [
    {
     "data": {
      "text/plain": [
       "KstestResult(statistic=0.4067796610169492, pvalue=5.328617355975345e-05)"
      ]
     },
     "execution_count": 45,
     "metadata": {},
     "output_type": "execute_result"
    }
   ],
   "source": [
    "scipy.stats.kstest(real_recov, predicted_recov, method='asymp')"
   ]
  },
  {
   "cell_type": "code",
   "execution_count": 46,
   "id": "83a52f64",
   "metadata": {},
   "outputs": [
    {
     "data": {
      "text/plain": [
       "KstestResult(statistic=0.20338983050847448, pvalue=0.1450689205086353)"
      ]
     },
     "execution_count": 46,
     "metadata": {},
     "output_type": "execute_result"
    }
   ],
   "source": [
    "scipy.stats.kstest(real_vaccinated, predicted_vaccinated, method='asymp')\n"
   ]
  },
  {
   "cell_type": "markdown",
   "id": "fb7619d0",
   "metadata": {},
   "source": [
    "#### Test de pearson"
   ]
  },
  {
   "cell_type": "code",
   "execution_count": 47,
   "id": "b196fdbb",
   "metadata": {
    "pycharm": {
     "name": "#%%\n"
    }
   },
   "outputs": [
    {
     "data": {
      "text/plain": [
       "PearsonRResult(statistic=0.9814353620012437, pvalue=1.4172543544202474e-42)"
      ]
     },
     "execution_count": 47,
     "metadata": {},
     "output_type": "execute_result"
    }
   ],
   "source": [
    "scipy.stats.pearsonr(real_susceptible, predicted_susceptible)"
   ]
  },
  {
   "cell_type": "code",
   "execution_count": 48,
   "id": "577b7abd",
   "metadata": {
    "pycharm": {
     "name": "#%%\n"
    }
   },
   "outputs": [
    {
     "data": {
      "text/plain": [
       "PearsonRResult(statistic=0.862761823186394, pvalue=1.5893994646903617e-18)"
      ]
     },
     "execution_count": 48,
     "metadata": {},
     "output_type": "execute_result"
    }
   ],
   "source": [
    "scipy.stats.pearsonr(real_infected, predicted_infected)"
   ]
  },
  {
   "cell_type": "code",
   "execution_count": 49,
   "id": "df9645f1",
   "metadata": {
    "pycharm": {
     "name": "#%%\n"
    }
   },
   "outputs": [
    {
     "data": {
      "text/plain": [
       "PearsonRResult(statistic=0.9465375769946289, pvalue=1.0926594422965218e-29)"
      ]
     },
     "execution_count": 49,
     "metadata": {},
     "output_type": "execute_result"
    }
   ],
   "source": [
    "scipy.stats.pearsonr(real_recov, predicted_recov)"
   ]
  },
  {
   "cell_type": "code",
   "execution_count": 50,
   "id": "133790b9",
   "metadata": {
    "pycharm": {
     "name": "#%%\n"
    }
   },
   "outputs": [
    {
     "data": {
      "text/plain": [
       "PearsonRResult(statistic=0.9814125574415201, pvalue=1.4672698080049587e-42)"
      ]
     },
     "execution_count": 50,
     "metadata": {},
     "output_type": "execute_result"
    }
   ],
   "source": [
    "scipy.stats.pearsonr(real_vaccinated, predicted_vaccinated)\n"
   ]
  },
  {
   "cell_type": "markdown",
   "id": "cathedral-terminology",
   "metadata": {},
   "source": [
    "## Extrapolar"
   ]
  },
  {
   "cell_type": "code",
   "execution_count": 51,
   "id": "sunset-sustainability",
   "metadata": {},
   "outputs": [],
   "source": [
    "import sys\n",
    "import os\n",
    "sys.path.append('..')\n",
    "import numpy as np\n",
    "import pandas as pd\n",
    "from models import sir\n",
    "from config import get_project_root\n",
    "import torchmetrics\n",
    "from models.pytorchtools import EarlyStopping\n",
    "import pathlib\n",
    "import torch\n",
    "import torch.nn as nn\n",
    "import torch.nn.functional as F\n"
   ]
  },
  {
   "cell_type": "code",
   "execution_count": 52,
   "id": "bfdd20c4",
   "metadata": {},
   "outputs": [],
   "source": [
    "import matplotlib.pyplot as plt\n",
    "%matplotlib inline\n",
    "\n",
    "YEARS_TO_PREDICT = 5\n",
    "\n",
    "model = torch.load(f'models/trained_models/{enfermedad}.pkl')\n",
    "y = torch.from_numpy(data_numpy.astype(np.float32))\n",
    "res = model(y, size_of_starter_set=40, amount_of_prediction_in_future=len(y)+12*YEARS_TO_PREDICT)"
   ]
  },
  {
   "cell_type": "code",
   "execution_count": 53,
   "id": "e7f9bf17",
   "metadata": {},
   "outputs": [
    {
     "data": {
      "text/plain": [
       "119"
      ]
     },
     "execution_count": 53,
     "metadata": {},
     "output_type": "execute_result"
    }
   ],
   "source": [
    "res[:,0].shape[0]"
   ]
  },
  {
   "cell_type": "code",
   "execution_count": 54,
   "id": "8bb08e0d",
   "metadata": {},
   "outputs": [
    {
     "name": "stderr",
     "output_type": "stream",
     "text": [
      "/var/folders/g0/jqvp4xxs5pn4cds1xb9339xm0000gn/T/ipykernel_34741/2038456406.py:14: UserWarning: Attempted to set non-positive bottom ylim on a log-scaled axis.\n",
      "Invalid limit will be ignored.\n",
      "  plt.ylim(0, 1)\n",
      "/var/folders/g0/jqvp4xxs5pn4cds1xb9339xm0000gn/T/ipykernel_34741/2038456406.py:20: MatplotlibDeprecationWarning: savefig() got unexpected keyword argument \"linewidth\" which is no longer supported as of 3.3 and will become an error two minor releases later\n",
      "  plt.savefig(f'figures/{enfermedad}/extrapolation_{enfermedad}_log.png', format='png', linewidth = 0.01)\n"
     ]
    },
    {
     "data": {
      "image/png": "[encoded data removed]",
      "text/plain": [
       "<Figure size 1080x720 with 1 Axes>"
      ]
     },
     "metadata": {
      "needs_background": "light"
     },
     "output_type": "display_data"
    }
   ],
   "source": [
    "plt.figure(figsize=(15,10))\n",
    "predicted_susceptible = res[:,0].detach().numpy()\n",
    "predicted_infectous = res[:,1].detach().numpy()\n",
    "predicted_recovered = res[:,2].detach().numpy()\n",
    "predicted_vaccinated = res[:,3].detach().numpy()\n",
    "\n",
    "plt.plot(range(res[:,0].shape[0]), predicted_susceptible, color = 'r', linewidth=0, marker='.', label='sus')\n",
    "plt.plot(range(res[:,0].shape[0]), predicted_infectous, color = 'b', linewidth=0, marker='o', label='inf')\n",
    "plt.plot(range(res[:,0].shape[0]), predicted_recovered, color = 'y', linewidth=0, marker='v', label='rec')\n",
    "plt.plot(range(res[:,0].shape[0]), predicted_vaccinated, color = 'g', linewidth=0, marker='x', label='vac')\n",
    "\n",
    "plt.yscale('log')\n",
    "\n",
    "plt.ylim(0, 1)\n",
    "plt.xlim(0,len(res[:,0]))\n",
    "plt.ylabel('log-Proportion')\n",
    "plt.xlabel('Generation')\n",
    "plt.title('Extrapolacion del modelo')\n",
    "plt.legend()\n",
    "plt.savefig(f'figures/{enfermedad}/extrapolation_{enfermedad}_log.png', format='png', linewidth = 0.01)"
   ]
  },
  {
   "cell_type": "code",
   "execution_count": 55,
   "id": "generous-graduate",
   "metadata": {},
   "outputs": [
    {
     "name": "stderr",
     "output_type": "stream",
     "text": [
      "/var/folders/g0/jqvp4xxs5pn4cds1xb9339xm0000gn/T/ipykernel_34741/1912378081.py:20: MatplotlibDeprecationWarning: savefig() got unexpected keyword argument \"linewidth\" which is no longer supported as of 3.3 and will become an error two minor releases later\n",
      "  plt.savefig(f'figures/{enfermedad}/extrapolation_{enfermedad}_vac_suc.png', format='png', linewidth = 0.01)\n"
     ]
    },
    {
     "data": {
      "image/png": "[encoded data removed]",
      "text/plain": [
       "<Figure size 1080x720 with 1 Axes>"
      ]
     },
     "metadata": {
      "needs_background": "light"
     },
     "output_type": "display_data"
    }
   ],
   "source": [
    "plt.figure(figsize=(15,10))\n",
    "predicted_susceptible = res[:,0].detach().numpy()\n",
    "# predicted_infectous = res[:,1].detach().numpy()\n",
    "# predicted_recovered = res[:,2].detach().numpy()\n",
    "predicted_vaccinated = res[:,3].detach().numpy()\n",
    "\n",
    "plt.plot(range(res[:,0].shape[0]), predicted_susceptible, color = 'r', linewidth=0, marker='.', label='sus')\n",
    "# plt.plot(range(res[:,0].shape[0]), predicted_infectous, color = 'b', linewidth=0, marker='o', label='inf')\n",
    "# plt.plot(range(res[:,0].shape[0]), predicted_recovered, color = 'y', linewidth=0, marker='v', label='rec')\n",
    "plt.plot(range(res[:,0].shape[0]), predicted_vaccinated, color = 'g', linewidth=0, marker='x', label='vac')\n",
    "\n",
    "# plt.yscale('log')\n",
    "\n",
    "plt.ylim(0, 1)\n",
    "plt.xlim(0,len(res[:,0]))\n",
    "plt.ylabel('Proportion')\n",
    "plt.xlabel('Generation')\n",
    "plt.title('Extrapolacion del modelo')\n",
    "plt.legend()\n",
    "plt.savefig(f'figures/{enfermedad}/extrapolation_{enfermedad}_vac_suc.png', format='png', linewidth = 0.01)"
   ]
  },
  {
   "cell_type": "code",
   "execution_count": 56,
   "id": "running-polls",
   "metadata": {},
   "outputs": [
    {
     "name": "stderr",
     "output_type": "stream",
     "text": [
      "/var/folders/g0/jqvp4xxs5pn4cds1xb9339xm0000gn/T/ipykernel_34741/2545713931.py:19: MatplotlibDeprecationWarning: savefig() got unexpected keyword argument \"linewidth\" which is no longer supported as of 3.3 and will become an error two minor releases later\n",
      "  plt.savefig(f'figures/{enfermedad}/extrapolation_{enfermedad}_inf_rec.png', format='png', linewidth = 0.01)\n"
     ]
    },
    {
     "data": {
      "image/png": "[encoded data removed]",
      "text/plain": [
       "<Figure size 1080x720 with 1 Axes>"
      ]
     },
     "metadata": {
      "needs_background": "light"
     },
     "output_type": "display_data"
    }
   ],
   "source": [
    "plt.figure(figsize=(15,10))\n",
    "# predicted_susceptible = res[:,0].detach().numpy()\n",
    "predicted_infectous = res[:,1].detach().numpy()\n",
    "predicted_recovered = res[:,2].detach().numpy()\n",
    "# predicted_vaccinated = res[:,3].detach().numpy()\n",
    "\n",
    "# plt.plot(range(res[:,0].shape[0]), predicted_susceptible, color = 'r', linewidth=0, marker='.', label='sus')\n",
    "plt.plot(range(res[:,0].shape[0]), predicted_infectous, color = 'b', linewidth=0, marker='o', label='inf')\n",
    "plt.plot(range(res[:,0].shape[0]), predicted_recovered, color = 'y', linewidth=0, marker='v', label='rec')\n",
    "# plt.plot(range(res[:,0].shape[0]), predicted_vaccinated, color = 'g', linewidth=0, marker='x', label='vac')\n",
    "\n",
    "# plt.yscale('log')\n",
    "\n",
    "plt.xlim(0,len(res[:,0]))\n",
    "plt.ylabel('Proportion')\n",
    "plt.xlabel('Generation')\n",
    "plt.title('Extrapolacion del modelo')\n",
    "plt.legend()\n",
    "plt.savefig(f'figures/{enfermedad}/extrapolation_{enfermedad}_inf_rec.png', format='png', linewidth = 0.01)"
   ]
  },
  {
   "cell_type": "code",
   "execution_count": null,
   "id": "specific-church",
   "metadata": {},
   "outputs": [],
   "source": []
  },
  {
   "cell_type": "code",
   "execution_count": null,
   "id": "terminal-watson",
   "metadata": {},
   "outputs": [],
   "source": []
  },
  {
   "cell_type": "code",
   "execution_count": null,
   "id": "critical-guatemala",
   "metadata": {},
   "outputs": [],
   "source": []
  }
 ],
 "metadata": {
  "kernelspec": {
   "display_name": "simuladores",
   "language": "python",
   "name": "simuladores"
  },
  "language_info": {
   "codemirror_mode": {
    "name": "ipython",
    "version": 3
   },
   "file_extension": ".py",
   "mimetype": "text/x-python",
   "name": "python",
   "nbconvert_exporter": "python",
   "pygments_lexer": "ipython3",
   "version": "3.9.1"
  }
 },
 "nbformat": 4,
 "nbformat_minor": 5
}
