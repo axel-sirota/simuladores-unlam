{
 "cells": [
  {
   "cell_type": "code",
   "execution_count": 1,
   "id": "80dc7077",
   "metadata": {},
   "outputs": [],
   "source": [
    "import sys\n",
    "import os\n",
    "sys.path.append('..')\n",
    "import numpy as np\n",
    "import pandas as pd\n",
    "from models import sir\n",
    "from config import get_project_root\n",
    "import torchmetrics\n",
    "from models.pytorchtools import EarlyStopping"
   ]
  },
  {
   "cell_type": "code",
   "execution_count": 53,
   "id": "0bcfc515",
   "metadata": {},
   "outputs": [],
   "source": [
    "enfermedad='sarampion'\n",
    "DATA_FOLDER = f'{get_project_root()}/data'\n",
    "INFECTADOS_PATH = f'{DATA_FOLDER}/extrapolated/infectados_{enfermedad}_extrapolado.csv'\n",
    "HABITANTES_PATH = f'{DATA_FOLDER}/extrapolated/habitantes_{enfermedad}_extrapolado.csv'\n",
    "VACUNADOS_PATH = f'{DATA_FOLDER}/extrapolated/vacunados_{enfermedad}_extrapolado.csv'\n",
    "FINAL_PATH=f'{DATA_FOLDER}/final/{enfermedad}_extrapolado.csv'\n",
    "YEARS = [2018, 2019, 2020, 2021, 2022]\n",
    "MONTHS = ['ENE', 'FEB', 'MAR', 'ABR', 'MAY', 'JUN', 'JUL', 'AGOS', 'SEP', 'OCT', 'NOV', 'DIC']\n"
   ]
  },
  {
   "cell_type": "code",
   "execution_count": 3,
   "id": "9b58ccf0",
   "metadata": {},
   "outputs": [
    {
     "data": {
      "text/plain": [
       "11101945"
      ]
     },
     "execution_count": 3,
     "metadata": {},
     "output_type": "execute_result"
    }
   ],
   "source": [
    "habitantes_curve = pd.read_csv(HABITANTES_PATH).set_index('ANO')\n",
    "for month in MONTHS:\n",
    "    habitantes_curve[month] = habitantes_curve['JUL']\n",
    "max_habs = habitantes_curve.max().max()\n",
    "max_habs"
   ]
  },
  {
   "cell_type": "code",
   "execution_count": 4,
   "id": "261f888d",
   "metadata": {},
   "outputs": [],
   "source": [
    "def extract_curve(path=None, df=None):\n",
    "    if df is None:\n",
    "        df = pd.read_csv(path).set_index('ANO')\n",
    "    df = df[df.columns[:12]].T\n",
    "    values = []\n",
    "    for year in YEARS:\n",
    "        values.extend(df[year].tolist())\n",
    "    return pd.Series(values)\n",
    "\n",
    "infectuous_curve = extract_curve(path=INFECTADOS_PATH)  \n",
    "vacunados_curve = extract_curve(path=VACUNADOS_PATH)\n",
    "recovered_curve = pd.Series([0]*len(infectuous_curve))\n",
    "max_habs = max([habitantes_curve.max().max(), vacunados_curve.max().max()])"
   ]
  },
  {
   "cell_type": "code",
   "execution_count": 5,
   "id": "418a99c1",
   "metadata": {},
   "outputs": [
    {
     "data": {
      "text/html": [
       "<div>\n",
       "<style scoped>\n",
       "    .dataframe tbody tr th:only-of-type {\n",
       "        vertical-align: middle;\n",
       "    }\n",
       "\n",
       "    .dataframe tbody tr th {\n",
       "        vertical-align: top;\n",
       "    }\n",
       "\n",
       "    .dataframe thead th {\n",
       "        text-align: right;\n",
       "    }\n",
       "</style>\n",
       "<table border=\"1\" class=\"dataframe\">\n",
       "  <thead>\n",
       "    <tr style=\"text-align: right;\">\n",
       "      <th></th>\n",
       "      <th>ENE</th>\n",
       "      <th>FEB</th>\n",
       "      <th>MAR</th>\n",
       "      <th>ABR</th>\n",
       "      <th>MAY</th>\n",
       "      <th>JUN</th>\n",
       "      <th>JUL</th>\n",
       "      <th>AGOS</th>\n",
       "      <th>SEP</th>\n",
       "      <th>OCT</th>\n",
       "      <th>NOV</th>\n",
       "      <th>DIC</th>\n",
       "    </tr>\n",
       "    <tr>\n",
       "      <th>ANO</th>\n",
       "      <th></th>\n",
       "      <th></th>\n",
       "      <th></th>\n",
       "      <th></th>\n",
       "      <th></th>\n",
       "      <th></th>\n",
       "      <th></th>\n",
       "      <th></th>\n",
       "      <th></th>\n",
       "      <th></th>\n",
       "      <th></th>\n",
       "      <th></th>\n",
       "    </tr>\n",
       "  </thead>\n",
       "  <tbody>\n",
       "    <tr>\n",
       "      <th>2018</th>\n",
       "      <td>10973470</td>\n",
       "      <td>10973470</td>\n",
       "      <td>10973470</td>\n",
       "      <td>10973470</td>\n",
       "      <td>10973470</td>\n",
       "      <td>10973470</td>\n",
       "      <td>10973470</td>\n",
       "      <td>10973470</td>\n",
       "      <td>10973470</td>\n",
       "      <td>10973470</td>\n",
       "      <td>10973470</td>\n",
       "      <td>10973470</td>\n",
       "    </tr>\n",
       "    <tr>\n",
       "      <th>2019</th>\n",
       "      <td>11012606</td>\n",
       "      <td>11012606</td>\n",
       "      <td>11012606</td>\n",
       "      <td>11012606</td>\n",
       "      <td>11012606</td>\n",
       "      <td>11012606</td>\n",
       "      <td>11012606</td>\n",
       "      <td>11012606</td>\n",
       "      <td>11012606</td>\n",
       "      <td>11012606</td>\n",
       "      <td>11012606</td>\n",
       "      <td>11012606</td>\n",
       "    </tr>\n",
       "    <tr>\n",
       "      <th>2020</th>\n",
       "      <td>11047665</td>\n",
       "      <td>11047665</td>\n",
       "      <td>11047665</td>\n",
       "      <td>11047665</td>\n",
       "      <td>11047665</td>\n",
       "      <td>11047665</td>\n",
       "      <td>11047665</td>\n",
       "      <td>11047665</td>\n",
       "      <td>11047665</td>\n",
       "      <td>11047665</td>\n",
       "      <td>11047665</td>\n",
       "      <td>11047665</td>\n",
       "    </tr>\n",
       "    <tr>\n",
       "      <th>2021</th>\n",
       "      <td>11077856</td>\n",
       "      <td>11077856</td>\n",
       "      <td>11077856</td>\n",
       "      <td>11077856</td>\n",
       "      <td>11077856</td>\n",
       "      <td>11077856</td>\n",
       "      <td>11077856</td>\n",
       "      <td>11077856</td>\n",
       "      <td>11077856</td>\n",
       "      <td>11077856</td>\n",
       "      <td>11077856</td>\n",
       "      <td>11077856</td>\n",
       "    </tr>\n",
       "    <tr>\n",
       "      <th>2022</th>\n",
       "      <td>11101945</td>\n",
       "      <td>11101945</td>\n",
       "      <td>11101945</td>\n",
       "      <td>11101945</td>\n",
       "      <td>11101945</td>\n",
       "      <td>11101945</td>\n",
       "      <td>11101945</td>\n",
       "      <td>11101945</td>\n",
       "      <td>11101945</td>\n",
       "      <td>11101945</td>\n",
       "      <td>11101945</td>\n",
       "      <td>11101945</td>\n",
       "    </tr>\n",
       "  </tbody>\n",
       "</table>\n",
       "</div>"
      ],
      "text/plain": [
       "           ENE       FEB       MAR       ABR       MAY       JUN       JUL  \\\n",
       "ANO                                                                          \n",
       "2018  10973470  10973470  10973470  10973470  10973470  10973470  10973470   \n",
       "2019  11012606  11012606  11012606  11012606  11012606  11012606  11012606   \n",
       "2020  11047665  11047665  11047665  11047665  11047665  11047665  11047665   \n",
       "2021  11077856  11077856  11077856  11077856  11077856  11077856  11077856   \n",
       "2022  11101945  11101945  11101945  11101945  11101945  11101945  11101945   \n",
       "\n",
       "          AGOS       SEP       OCT       NOV       DIC  \n",
       "ANO                                                     \n",
       "2018  10973470  10973470  10973470  10973470  10973470  \n",
       "2019  11012606  11012606  11012606  11012606  11012606  \n",
       "2020  11047665  11047665  11047665  11047665  11047665  \n",
       "2021  11077856  11077856  11077856  11077856  11077856  \n",
       "2022  11101945  11101945  11101945  11101945  11101945  "
      ]
     },
     "execution_count": 5,
     "metadata": {},
     "output_type": "execute_result"
    }
   ],
   "source": [
    "habitantes_curve"
   ]
  },
  {
   "cell_type": "code",
   "execution_count": 6,
   "id": "f5c8c6cb",
   "metadata": {},
   "outputs": [],
   "source": [
    "for ix, val in enumerate(infectuous_curve):\n",
    "    try:\n",
    "        recovered_curve[ix+1] += val\n",
    "    except KeyError:\n",
    "        continue"
   ]
  },
  {
   "cell_type": "code",
   "execution_count": 7,
   "id": "6be172d1",
   "metadata": {},
   "outputs": [
    {
     "data": {
      "text/plain": [
       "11101945"
      ]
     },
     "execution_count": 7,
     "metadata": {},
     "output_type": "execute_result"
    }
   ],
   "source": [
    "max_habs"
   ]
  },
  {
   "cell_type": "code",
   "execution_count": 8,
   "id": "3848039b",
   "metadata": {},
   "outputs": [],
   "source": [
    "susceptible_curve = max_habs - infectuous_curve - vacunados_curve - recovered_curve\n",
    "susceptible_curve[susceptible_curve<0] = 0\n",
    "\n"
   ]
  },
  {
   "cell_type": "code",
   "execution_count": 9,
   "id": "b781eec1",
   "metadata": {},
   "outputs": [],
   "source": [
    "data = pd.concat([susceptible_curve, infectuous_curve, recovered_curve, vacunados_curve], axis=1).rename(columns={0:'Susceptible', 1:'Infectados', 2:'Recuperados', 3:'Vacunados'})\n",
    "infectados_real = data.diff()['Infectados']\n",
    "infectados_real.loc[0] = 0\n",
    "infectados_real\n",
    "data['Infectados'] = infectados_real"
   ]
  },
  {
   "cell_type": "code",
   "execution_count": 10,
   "id": "62d1c4f9",
   "metadata": {},
   "outputs": [
    {
     "data": {
      "text/html": [
       "<div>\n",
       "<style scoped>\n",
       "    .dataframe tbody tr th:only-of-type {\n",
       "        vertical-align: middle;\n",
       "    }\n",
       "\n",
       "    .dataframe tbody tr th {\n",
       "        vertical-align: top;\n",
       "    }\n",
       "\n",
       "    .dataframe thead th {\n",
       "        text-align: right;\n",
       "    }\n",
       "</style>\n",
       "<table border=\"1\" class=\"dataframe\">\n",
       "  <thead>\n",
       "    <tr style=\"text-align: right;\">\n",
       "      <th></th>\n",
       "      <th>Susceptible</th>\n",
       "      <th>Infectados</th>\n",
       "      <th>Recuperados</th>\n",
       "      <th>Vacunados</th>\n",
       "    </tr>\n",
       "  </thead>\n",
       "  <tbody>\n",
       "    <tr>\n",
       "      <th>0</th>\n",
       "      <td>11054236.0</td>\n",
       "      <td>0.0</td>\n",
       "      <td>0</td>\n",
       "      <td>47709.0</td>\n",
       "    </tr>\n",
       "    <tr>\n",
       "      <th>1</th>\n",
       "      <td>10796649.0</td>\n",
       "      <td>0.0</td>\n",
       "      <td>0</td>\n",
       "      <td>305296.0</td>\n",
       "    </tr>\n",
       "    <tr>\n",
       "      <th>2</th>\n",
       "      <td>10018775.0</td>\n",
       "      <td>0.0</td>\n",
       "      <td>0</td>\n",
       "      <td>1083170.0</td>\n",
       "    </tr>\n",
       "    <tr>\n",
       "      <th>3</th>\n",
       "      <td>9966599.0</td>\n",
       "      <td>0.0</td>\n",
       "      <td>0</td>\n",
       "      <td>1135346.0</td>\n",
       "    </tr>\n",
       "    <tr>\n",
       "      <th>4</th>\n",
       "      <td>9900645.0</td>\n",
       "      <td>12.0</td>\n",
       "      <td>0</td>\n",
       "      <td>1201288.0</td>\n",
       "    </tr>\n",
       "    <tr>\n",
       "      <th>5</th>\n",
       "      <td>9855525.0</td>\n",
       "      <td>0.0</td>\n",
       "      <td>12</td>\n",
       "      <td>1246396.0</td>\n",
       "    </tr>\n",
       "    <tr>\n",
       "      <th>6</th>\n",
       "      <td>9810981.0</td>\n",
       "      <td>0.0</td>\n",
       "      <td>12</td>\n",
       "      <td>1290940.0</td>\n",
       "    </tr>\n",
       "    <tr>\n",
       "      <th>7</th>\n",
       "      <td>9752403.0</td>\n",
       "      <td>4.0</td>\n",
       "      <td>12</td>\n",
       "      <td>1349514.0</td>\n",
       "    </tr>\n",
       "    <tr>\n",
       "      <th>8</th>\n",
       "      <td>9675843.0</td>\n",
       "      <td>1.0</td>\n",
       "      <td>16</td>\n",
       "      <td>1426069.0</td>\n",
       "    </tr>\n",
       "    <tr>\n",
       "      <th>9</th>\n",
       "      <td>9606658.0</td>\n",
       "      <td>2.0</td>\n",
       "      <td>17</td>\n",
       "      <td>1495251.0</td>\n",
       "    </tr>\n",
       "    <tr>\n",
       "      <th>10</th>\n",
       "      <td>9551309.0</td>\n",
       "      <td>0.0</td>\n",
       "      <td>19</td>\n",
       "      <td>1550598.0</td>\n",
       "    </tr>\n",
       "    <tr>\n",
       "      <th>11</th>\n",
       "      <td>9503855.0</td>\n",
       "      <td>12.0</td>\n",
       "      <td>19</td>\n",
       "      <td>1598040.0</td>\n",
       "    </tr>\n",
       "    <tr>\n",
       "      <th>12</th>\n",
       "      <td>9452531.0</td>\n",
       "      <td>0.0</td>\n",
       "      <td>31</td>\n",
       "      <td>1649352.0</td>\n",
       "    </tr>\n",
       "    <tr>\n",
       "      <th>13</th>\n",
       "      <td>9387499.0</td>\n",
       "      <td>0.0</td>\n",
       "      <td>31</td>\n",
       "      <td>1714384.0</td>\n",
       "    </tr>\n",
       "    <tr>\n",
       "      <th>14</th>\n",
       "      <td>9321341.0</td>\n",
       "      <td>0.0</td>\n",
       "      <td>31</td>\n",
       "      <td>1780542.0</td>\n",
       "    </tr>\n",
       "    <tr>\n",
       "      <th>15</th>\n",
       "      <td>9262406.0</td>\n",
       "      <td>125.0</td>\n",
       "      <td>31</td>\n",
       "      <td>1839352.0</td>\n",
       "    </tr>\n",
       "    <tr>\n",
       "      <th>16</th>\n",
       "      <td>9202328.0</td>\n",
       "      <td>125.0</td>\n",
       "      <td>156</td>\n",
       "      <td>1899180.0</td>\n",
       "    </tr>\n",
       "    <tr>\n",
       "      <th>17</th>\n",
       "      <td>9155728.0</td>\n",
       "      <td>0.0</td>\n",
       "      <td>281</td>\n",
       "      <td>1945655.0</td>\n",
       "    </tr>\n",
       "    <tr>\n",
       "      <th>18</th>\n",
       "      <td>9104426.0</td>\n",
       "      <td>0.0</td>\n",
       "      <td>281</td>\n",
       "      <td>1996957.0</td>\n",
       "    </tr>\n",
       "    <tr>\n",
       "      <th>19</th>\n",
       "      <td>9051577.0</td>\n",
       "      <td>0.0</td>\n",
       "      <td>281</td>\n",
       "      <td>2049806.0</td>\n",
       "    </tr>\n",
       "    <tr>\n",
       "      <th>20</th>\n",
       "      <td>8978248.0</td>\n",
       "      <td>26.0</td>\n",
       "      <td>281</td>\n",
       "      <td>2123109.0</td>\n",
       "    </tr>\n",
       "    <tr>\n",
       "      <th>21</th>\n",
       "      <td>8834297.0</td>\n",
       "      <td>23.0</td>\n",
       "      <td>307</td>\n",
       "      <td>2267011.0</td>\n",
       "    </tr>\n",
       "    <tr>\n",
       "      <th>22</th>\n",
       "      <td>8735669.0</td>\n",
       "      <td>37.0</td>\n",
       "      <td>330</td>\n",
       "      <td>2365579.0</td>\n",
       "    </tr>\n",
       "    <tr>\n",
       "      <th>23</th>\n",
       "      <td>8655323.0</td>\n",
       "      <td>156.0</td>\n",
       "      <td>367</td>\n",
       "      <td>2445732.0</td>\n",
       "    </tr>\n",
       "    <tr>\n",
       "      <th>24</th>\n",
       "      <td>8640700.0</td>\n",
       "      <td>47.0</td>\n",
       "      <td>523</td>\n",
       "      <td>2460152.0</td>\n",
       "    </tr>\n",
       "    <tr>\n",
       "      <th>25</th>\n",
       "      <td>8628288.0</td>\n",
       "      <td>22.0</td>\n",
       "      <td>570</td>\n",
       "      <td>2472495.0</td>\n",
       "    </tr>\n",
       "    <tr>\n",
       "      <th>26</th>\n",
       "      <td>8616121.0</td>\n",
       "      <td>7.0</td>\n",
       "      <td>592</td>\n",
       "      <td>2484633.0</td>\n",
       "    </tr>\n",
       "    <tr>\n",
       "      <th>27</th>\n",
       "      <td>8603497.0</td>\n",
       "      <td>0.0</td>\n",
       "      <td>599</td>\n",
       "      <td>2497250.0</td>\n",
       "    </tr>\n",
       "    <tr>\n",
       "      <th>28</th>\n",
       "      <td>8590998.0</td>\n",
       "      <td>1.0</td>\n",
       "      <td>599</td>\n",
       "      <td>2509748.0</td>\n",
       "    </tr>\n",
       "    <tr>\n",
       "      <th>29</th>\n",
       "      <td>8579306.0</td>\n",
       "      <td>0.0</td>\n",
       "      <td>600</td>\n",
       "      <td>2521439.0</td>\n",
       "    </tr>\n",
       "    <tr>\n",
       "      <th>30</th>\n",
       "      <td>8569363.0</td>\n",
       "      <td>0.0</td>\n",
       "      <td>600</td>\n",
       "      <td>2531382.0</td>\n",
       "    </tr>\n",
       "    <tr>\n",
       "      <th>31</th>\n",
       "      <td>8563666.0</td>\n",
       "      <td>0.0</td>\n",
       "      <td>600</td>\n",
       "      <td>2537079.0</td>\n",
       "    </tr>\n",
       "    <tr>\n",
       "      <th>32</th>\n",
       "      <td>8563244.0</td>\n",
       "      <td>0.0</td>\n",
       "      <td>600</td>\n",
       "      <td>2537501.0</td>\n",
       "    </tr>\n",
       "    <tr>\n",
       "      <th>33</th>\n",
       "      <td>8563235.0</td>\n",
       "      <td>0.0</td>\n",
       "      <td>600</td>\n",
       "      <td>2537510.0</td>\n",
       "    </tr>\n",
       "    <tr>\n",
       "      <th>34</th>\n",
       "      <td>8563227.0</td>\n",
       "      <td>0.0</td>\n",
       "      <td>600</td>\n",
       "      <td>2537518.0</td>\n",
       "    </tr>\n",
       "    <tr>\n",
       "      <th>35</th>\n",
       "      <td>8563145.0</td>\n",
       "      <td>77.0</td>\n",
       "      <td>600</td>\n",
       "      <td>2537523.0</td>\n",
       "    </tr>\n",
       "    <tr>\n",
       "      <th>36</th>\n",
       "      <td>8563066.0</td>\n",
       "      <td>0.0</td>\n",
       "      <td>677</td>\n",
       "      <td>2537525.0</td>\n",
       "    </tr>\n",
       "    <tr>\n",
       "      <th>37</th>\n",
       "      <td>8563061.0</td>\n",
       "      <td>0.0</td>\n",
       "      <td>677</td>\n",
       "      <td>2537530.0</td>\n",
       "    </tr>\n",
       "    <tr>\n",
       "      <th>38</th>\n",
       "      <td>8563059.0</td>\n",
       "      <td>0.0</td>\n",
       "      <td>677</td>\n",
       "      <td>2537532.0</td>\n",
       "    </tr>\n",
       "    <tr>\n",
       "      <th>39</th>\n",
       "      <td>8563051.0</td>\n",
       "      <td>0.0</td>\n",
       "      <td>677</td>\n",
       "      <td>2537540.0</td>\n",
       "    </tr>\n",
       "    <tr>\n",
       "      <th>40</th>\n",
       "      <td>8563050.0</td>\n",
       "      <td>0.0</td>\n",
       "      <td>677</td>\n",
       "      <td>2537541.0</td>\n",
       "    </tr>\n",
       "    <tr>\n",
       "      <th>41</th>\n",
       "      <td>8563046.0</td>\n",
       "      <td>0.0</td>\n",
       "      <td>677</td>\n",
       "      <td>2537545.0</td>\n",
       "    </tr>\n",
       "    <tr>\n",
       "      <th>42</th>\n",
       "      <td>8563045.0</td>\n",
       "      <td>0.0</td>\n",
       "      <td>677</td>\n",
       "      <td>2537546.0</td>\n",
       "    </tr>\n",
       "    <tr>\n",
       "      <th>43</th>\n",
       "      <td>8563039.0</td>\n",
       "      <td>0.0</td>\n",
       "      <td>677</td>\n",
       "      <td>2537552.0</td>\n",
       "    </tr>\n",
       "    <tr>\n",
       "      <th>44</th>\n",
       "      <td>8511985.0</td>\n",
       "      <td>0.0</td>\n",
       "      <td>677</td>\n",
       "      <td>2588606.0</td>\n",
       "    </tr>\n",
       "    <tr>\n",
       "      <th>45</th>\n",
       "      <td>8454164.0</td>\n",
       "      <td>0.0</td>\n",
       "      <td>677</td>\n",
       "      <td>2646427.0</td>\n",
       "    </tr>\n",
       "    <tr>\n",
       "      <th>46</th>\n",
       "      <td>8377292.0</td>\n",
       "      <td>0.0</td>\n",
       "      <td>677</td>\n",
       "      <td>2723299.0</td>\n",
       "    </tr>\n",
       "    <tr>\n",
       "      <th>47</th>\n",
       "      <td>8333360.0</td>\n",
       "      <td>0.0</td>\n",
       "      <td>677</td>\n",
       "      <td>2767231.0</td>\n",
       "    </tr>\n",
       "    <tr>\n",
       "      <th>48</th>\n",
       "      <td>8287835.0</td>\n",
       "      <td>1.0</td>\n",
       "      <td>677</td>\n",
       "      <td>2812755.0</td>\n",
       "    </tr>\n",
       "    <tr>\n",
       "      <th>49</th>\n",
       "      <td>8201109.0</td>\n",
       "      <td>0.0</td>\n",
       "      <td>678</td>\n",
       "      <td>2899480.0</td>\n",
       "    </tr>\n",
       "    <tr>\n",
       "      <th>50</th>\n",
       "      <td>8120992.0</td>\n",
       "      <td>1.0</td>\n",
       "      <td>678</td>\n",
       "      <td>2979596.0</td>\n",
       "    </tr>\n",
       "    <tr>\n",
       "      <th>51</th>\n",
       "      <td>8043366.0</td>\n",
       "      <td>0.0</td>\n",
       "      <td>679</td>\n",
       "      <td>3057221.0</td>\n",
       "    </tr>\n",
       "    <tr>\n",
       "      <th>52</th>\n",
       "      <td>7971030.0</td>\n",
       "      <td>0.0</td>\n",
       "      <td>679</td>\n",
       "      <td>3129557.0</td>\n",
       "    </tr>\n",
       "    <tr>\n",
       "      <th>53</th>\n",
       "      <td>7901451.0</td>\n",
       "      <td>0.0</td>\n",
       "      <td>679</td>\n",
       "      <td>3199136.0</td>\n",
       "    </tr>\n",
       "    <tr>\n",
       "      <th>54</th>\n",
       "      <td>7901451.0</td>\n",
       "      <td>0.0</td>\n",
       "      <td>679</td>\n",
       "      <td>3199136.0</td>\n",
       "    </tr>\n",
       "    <tr>\n",
       "      <th>55</th>\n",
       "      <td>7901451.0</td>\n",
       "      <td>0.0</td>\n",
       "      <td>679</td>\n",
       "      <td>3199136.0</td>\n",
       "    </tr>\n",
       "    <tr>\n",
       "      <th>56</th>\n",
       "      <td>7901451.0</td>\n",
       "      <td>0.0</td>\n",
       "      <td>679</td>\n",
       "      <td>3199136.0</td>\n",
       "    </tr>\n",
       "    <tr>\n",
       "      <th>57</th>\n",
       "      <td>7901451.0</td>\n",
       "      <td>0.0</td>\n",
       "      <td>679</td>\n",
       "      <td>3199136.0</td>\n",
       "    </tr>\n",
       "    <tr>\n",
       "      <th>58</th>\n",
       "      <td>7901451.0</td>\n",
       "      <td>0.0</td>\n",
       "      <td>679</td>\n",
       "      <td>3199136.0</td>\n",
       "    </tr>\n",
       "    <tr>\n",
       "      <th>59</th>\n",
       "      <td>7901450.0</td>\n",
       "      <td>1.0</td>\n",
       "      <td>679</td>\n",
       "      <td>3199136.0</td>\n",
       "    </tr>\n",
       "  </tbody>\n",
       "</table>\n",
       "</div>"
      ],
      "text/plain": [
       "    Susceptible  Infectados  Recuperados  Vacunados\n",
       "0    11054236.0         0.0            0    47709.0\n",
       "1    10796649.0         0.0            0   305296.0\n",
       "2    10018775.0         0.0            0  1083170.0\n",
       "3     9966599.0         0.0            0  1135346.0\n",
       "4     9900645.0        12.0            0  1201288.0\n",
       "5     9855525.0         0.0           12  1246396.0\n",
       "6     9810981.0         0.0           12  1290940.0\n",
       "7     9752403.0         4.0           12  1349514.0\n",
       "8     9675843.0         1.0           16  1426069.0\n",
       "9     9606658.0         2.0           17  1495251.0\n",
       "10    9551309.0         0.0           19  1550598.0\n",
       "11    9503855.0        12.0           19  1598040.0\n",
       "12    9452531.0         0.0           31  1649352.0\n",
       "13    9387499.0         0.0           31  1714384.0\n",
       "14    9321341.0         0.0           31  1780542.0\n",
       "15    9262406.0       125.0           31  1839352.0\n",
       "16    9202328.0       125.0          156  1899180.0\n",
       "17    9155728.0         0.0          281  1945655.0\n",
       "18    9104426.0         0.0          281  1996957.0\n",
       "19    9051577.0         0.0          281  2049806.0\n",
       "20    8978248.0        26.0          281  2123109.0\n",
       "21    8834297.0        23.0          307  2267011.0\n",
       "22    8735669.0        37.0          330  2365579.0\n",
       "23    8655323.0       156.0          367  2445732.0\n",
       "24    8640700.0        47.0          523  2460152.0\n",
       "25    8628288.0        22.0          570  2472495.0\n",
       "26    8616121.0         7.0          592  2484633.0\n",
       "27    8603497.0         0.0          599  2497250.0\n",
       "28    8590998.0         1.0          599  2509748.0\n",
       "29    8579306.0         0.0          600  2521439.0\n",
       "30    8569363.0         0.0          600  2531382.0\n",
       "31    8563666.0         0.0          600  2537079.0\n",
       "32    8563244.0         0.0          600  2537501.0\n",
       "33    8563235.0         0.0          600  2537510.0\n",
       "34    8563227.0         0.0          600  2537518.0\n",
       "35    8563145.0        77.0          600  2537523.0\n",
       "36    8563066.0         0.0          677  2537525.0\n",
       "37    8563061.0         0.0          677  2537530.0\n",
       "38    8563059.0         0.0          677  2537532.0\n",
       "39    8563051.0         0.0          677  2537540.0\n",
       "40    8563050.0         0.0          677  2537541.0\n",
       "41    8563046.0         0.0          677  2537545.0\n",
       "42    8563045.0         0.0          677  2537546.0\n",
       "43    8563039.0         0.0          677  2537552.0\n",
       "44    8511985.0         0.0          677  2588606.0\n",
       "45    8454164.0         0.0          677  2646427.0\n",
       "46    8377292.0         0.0          677  2723299.0\n",
       "47    8333360.0         0.0          677  2767231.0\n",
       "48    8287835.0         1.0          677  2812755.0\n",
       "49    8201109.0         0.0          678  2899480.0\n",
       "50    8120992.0         1.0          678  2979596.0\n",
       "51    8043366.0         0.0          679  3057221.0\n",
       "52    7971030.0         0.0          679  3129557.0\n",
       "53    7901451.0         0.0          679  3199136.0\n",
       "54    7901451.0         0.0          679  3199136.0\n",
       "55    7901451.0         0.0          679  3199136.0\n",
       "56    7901451.0         0.0          679  3199136.0\n",
       "57    7901451.0         0.0          679  3199136.0\n",
       "58    7901451.0         0.0          679  3199136.0\n",
       "59    7901450.0         1.0          679  3199136.0"
      ]
     },
     "execution_count": 10,
     "metadata": {},
     "output_type": "execute_result"
    }
   ],
   "source": [
    "data"
   ]
  },
  {
   "cell_type": "code",
   "execution_count": 11,
   "id": "7d7850f1",
   "metadata": {},
   "outputs": [],
   "source": [
    "data_numpy = np.array(data)/max_habs"
   ]
  },
  {
   "cell_type": "code",
   "execution_count": 12,
   "id": "dd08e581",
   "metadata": {},
   "outputs": [],
   "source": [
    "import torch\n",
    "import torch.nn as nn\n",
    "import torch.nn.functional as F\n"
   ]
  },
  {
   "cell_type": "code",
   "execution_count": 13,
   "id": "780383ea",
   "metadata": {},
   "outputs": [],
   "source": [
    "class SIRV(nn.Module):\n",
    "    def __init__(self, epsilon=1e-7):\n",
    "        super(SIRV, self).__init__()\n",
    "        self.lambda1 = nn.Linear(1,1, bias = False) # tasa de contacto efectivo\n",
    "        self.lambda2 = nn.Linear(1,1, bias = False) # tasa de immunizacion\n",
    "        self.lambda3 = nn.Linear(1,1, bias = False) # tasa de recuperacion\n",
    "        torch.nn.init.xavier_uniform_(self.lambda1.weight, gain=0.01)\n",
    "        torch.nn.init.xavier_uniform_(self.lambda2.weight, gain=0.01)\n",
    "        torch.nn.init.xavier_uniform_(self.lambda3.weight, gain=0.01)\n",
    "        self.epsilon = epsilon\n",
    "    \n",
    "    def forward(self, x, size_of_starter_set, amount_of_prediction_in_future):\n",
    "        assert size_of_starter_set < amount_of_prediction_in_future\n",
    "        ns = torch.zeros([amount_of_prediction_in_future, 4],dtype=torch.float, requires_grad = False)\n",
    "        torch.nn.init.xavier_uniform_(ns, gain=0.01)\n",
    "        x[x==0] = self.epsilon\n",
    "        ns[:x.shape[0]] = x.view(x.shape[0], 4).clone()\n",
    "        for i in range(size_of_starter_set,amount_of_prediction_in_future):\n",
    "            a = ns[i-1].clone()\n",
    "            ns[i][0] = a[0].view(1,1) - self.lambda1(a[0]*a[1].view(1,1)) - self.lambda2(a[0].view(1,1))\n",
    "            ns[i][1] = a[1].view(1,1) + self.lambda1(a[0]*a[1].view(1,1)) - self.lambda3(a[1].view(1,1))  - self.lambda2(a[1].view(1,1))\n",
    "            ns[i][2] = a[2].view(1,1) + self.lambda3(a[1].view(1,1))\n",
    "            ns[i][3] = a[3].view(1,1) + self.lambda2(a[0].view(1,1)) + self.lambda2(a[1].view(1,1)) \n",
    "        return ns[1:].reshape(-1,4)\n"
   ]
  },
  {
   "cell_type": "code",
   "execution_count": 14,
   "id": "f8a93328",
   "metadata": {},
   "outputs": [],
   "source": [
    "def loss_custom(pred, actual):\n",
    "    loss_func = nn.SmoothL1Loss()\n",
    "    loss_big = loss_func(pred[:,3], actual[:,3]) + loss_func(pred[:,0], actual[:,0])\n",
    "    loss_small = loss_func(pred[:,1], actual[:,1]) + loss_func(pred[:,2], actual[:,2])\n",
    "    return 1000*loss_small + loss_big"
   ]
  },
  {
   "cell_type": "code",
   "execution_count": 15,
   "id": "e50c1d31",
   "metadata": {
    "scrolled": false
   },
   "outputs": [],
   "source": [
    "y = torch.from_numpy(data_numpy.astype(np.float32))\n"
   ]
  },
  {
   "cell_type": "code",
   "execution_count": 16,
   "id": "5c62e9b3",
   "metadata": {},
   "outputs": [
    {
     "data": {
      "text/plain": [
       "torch.Size([60, 4])"
      ]
     },
     "execution_count": 16,
     "metadata": {},
     "output_type": "execute_result"
    }
   ],
   "source": [
    "y.size()"
   ]
  },
  {
   "cell_type": "code",
   "execution_count": 17,
   "id": "swiss-headquarters",
   "metadata": {},
   "outputs": [],
   "source": [
    "import os\n",
    "model_checkpoint_folder = f'models/{enfermedad}/checkpoints'\n",
    "trained_models_foder = 'models/trained_models'\n",
    "os.makedirs(model_checkpoint_folder, exist_ok=True)\n",
    "os.makedirs(trained_models_foder, exist_ok=True)"
   ]
  },
  {
   "cell_type": "code",
   "execution_count": 18,
   "id": "aa61060a",
   "metadata": {},
   "outputs": [],
   "source": [
    "def train(train_set, fold_size=10, future_size=5):\n",
    "    epsilon = 1e-15\n",
    "    sir = SIRV(epsilon=epsilon)\n",
    "    opt = torch.optim.Adam(sir.parameters(), lr=0.05)\n",
    "    best = 10000\n",
    "    early_stopping = EarlyStopping(patience=25, verbose=False, delta=1e-7)\n",
    "    for epoch in range(500):\n",
    "        out = sir(train_set[:fold_size], size_of_starter_set=min(10, fold_size), amount_of_prediction_in_future=fold_size + future_size+1)\n",
    "        out = out.squeeze()\n",
    "        loss = loss_custom(out, train_set[:fold_size + future_size])\n",
    "        loss.backward()\n",
    "        opt.step() \n",
    "        opt.zero_grad()\n",
    "        if loss.item() < best:\n",
    "            best = loss.item()\n",
    "            torch.save(sir, f'{model_checkpoint_folder}/{enfermedad}_{fold_size}.pkl')\n",
    "        if epoch%25 == 0:        \n",
    "            print(f'Epoch: {epoch}, loss: {loss.item()}')\n",
    "        if loss.isnan():\n",
    "            raise ValueError()\n",
    "        for p in sir.parameters():\n",
    "            p.data.clamp_(0)\n",
    "        early_stopping(loss.item(), sir)\n",
    "        if early_stopping.early_stop:\n",
    "            print(\"Early stopping\")\n",
    "            break\n",
    "    return best\n",
    "    \n",
    "\n",
    "def train_and_val_k_fold():\n",
    "    divergences = {}\n",
    "    rmses = []\n",
    "    losses = {}\n",
    "    future_index_check = 10\n",
    "    min_datapoints = 25\n",
    "    for fold_size in range(min_datapoints, len(y)-future_index_check):\n",
    "        print(f'\\nAnalyzing fold: {fold_size}\\n')\n",
    "        folded_train_set = y[:fold_size+future_index_check+1].clone()\n",
    "        best_loss = train(train_set=folded_train_set, fold_size=fold_size, future_size=future_index_check)\n",
    "        model = torch.load(f'{model_checkpoint_folder}/{enfermedad}_{fold_size}.pkl')\n",
    "        preds = model(folded_train_set[:fold_size], size_of_starter_set=fold_size, amount_of_prediction_in_future=len(folded_train_set)+1)[fold_size:fold_size+future_index_check]\n",
    "        target = y[fold_size:fold_size+future_index_check]\n",
    "        target[target==0] = 1e-15\n",
    "        kl_divergence = torch.nn.functional.kl_div(target.log(), preds, reduction='batchmean').detach().item()\n",
    "        rmse = torch.sqrt(torchmetrics.functional.mean_squared_error(target, preds)).detach().item()\n",
    "        print(f'\\nKL Divergence:{kl_divergence}\\n')\n",
    "        print(f'\\nRMSE:{rmse}\\n')\n",
    "        divergences[fold_size] = kl_divergence\n",
    "        rmses.append(rmse)\n",
    "        losses[fold_size] = best_loss\n",
    "    return divergences, rmses, losses"
   ]
  },
  {
   "cell_type": "code",
   "execution_count": 19,
   "id": "15d283ea",
   "metadata": {},
   "outputs": [
    {
     "name": "stdout",
     "output_type": "stream",
     "text": [
      "\n",
      "Analyzing fold: 25\n",
      "\n",
      "Epoch: 0, loss: 0.003703154856339097\n",
      "Epoch: 25, loss: 0.0006289099692367017\n",
      "Epoch: 50, loss: 0.00024066027253866196\n",
      "EarlyStopping reached!\n",
      "Early stopping\n",
      "\n",
      "KL Divergence:0.0015546756330877542\n",
      "\n",
      "\n",
      "RMSE:0.015599574893712997\n",
      "\n",
      "\n",
      "Analyzing fold: 26\n",
      "\n",
      "Epoch: 0, loss: 0.05765194818377495\n",
      "Epoch: 25, loss: 0.00023413405870087445\n",
      "EarlyStopping reached!\n",
      "Early stopping\n",
      "\n",
      "KL Divergence:0.00021568211377598345\n",
      "\n",
      "\n",
      "RMSE:0.006111232563853264\n",
      "\n",
      "\n",
      "Analyzing fold: 27\n",
      "\n",
      "Epoch: 0, loss: 0.010805520229041576\n",
      "Epoch: 25, loss: 0.0007491266587749124\n",
      "Epoch: 50, loss: 0.00024009926710277796\n",
      "EarlyStopping reached!\n",
      "Early stopping\n",
      "\n",
      "KL Divergence:0.002425123704597354\n",
      "\n",
      "\n",
      "RMSE:0.020879507064819336\n",
      "\n",
      "\n",
      "Analyzing fold: 28\n",
      "\n",
      "Epoch: 0, loss: 0.004460052587091923\n",
      "Epoch: 25, loss: 0.0003748201997950673\n",
      "Epoch: 50, loss: 0.0002534357481636107\n",
      "EarlyStopping reached!\n",
      "Early stopping\n",
      "\n",
      "KL Divergence:0.001942851347848773\n",
      "\n",
      "\n",
      "RMSE:0.018789032474160194\n",
      "\n",
      "\n",
      "Analyzing fold: 29\n",
      "\n",
      "Epoch: 0, loss: 0.010436484590172768\n",
      "Epoch: 25, loss: 0.0008549561607651412\n",
      "Epoch: 50, loss: 0.00027300993679091334\n",
      "EarlyStopping reached!\n",
      "Early stopping\n",
      "\n",
      "KL Divergence:0.0007747195777483284\n",
      "\n",
      "\n",
      "RMSE:0.011758595705032349\n",
      "\n",
      "\n",
      "Analyzing fold: 30\n",
      "\n",
      "Epoch: 0, loss: 0.0029209121130406857\n",
      "Epoch: 25, loss: 0.0004452020803000778\n",
      "Epoch: 50, loss: 0.0002748083497863263\n",
      "Epoch: 75, loss: 0.0002778163179755211\n",
      "EarlyStopping reached!\n",
      "Early stopping\n",
      "\n",
      "KL Divergence:0.0020437301136553288\n",
      "\n",
      "\n",
      "RMSE:0.01927005499601364\n",
      "\n",
      "\n",
      "Analyzing fold: 31\n",
      "\n",
      "Epoch: 0, loss: 0.12035874277353287\n",
      "Epoch: 25, loss: 0.000803278642706573\n",
      "Epoch: 50, loss: 0.00030410740873776376\n",
      "EarlyStopping reached!\n",
      "Early stopping\n",
      "\n",
      "KL Divergence:0.002408404601737857\n",
      "\n",
      "\n",
      "RMSE:0.02094247192144394\n",
      "\n",
      "\n",
      "Analyzing fold: 32\n",
      "\n",
      "Epoch: 0, loss: 0.015108263120055199\n",
      "Epoch: 25, loss: 0.000515192630700767\n",
      "Epoch: 50, loss: 0.0003565680526662618\n",
      "Epoch: 75, loss: 0.00030513774254359305\n",
      "Epoch: 100, loss: 0.00030300026992335916\n",
      "EarlyStopping reached!\n",
      "Early stopping\n",
      "\n",
      "KL Divergence:0.0016789864748716354\n",
      "\n",
      "\n",
      "RMSE:0.017426179721951485\n",
      "\n",
      "\n",
      "Analyzing fold: 33\n",
      "\n",
      "Epoch: 0, loss: 0.0009326056460849941\n",
      "Epoch: 25, loss: 0.000402363803004846\n",
      "Epoch: 50, loss: 0.0003616086905822158\n",
      "EarlyStopping reached!\n",
      "Early stopping\n",
      "\n",
      "KL Divergence:0.0012583856005221605\n",
      "\n",
      "\n",
      "RMSE:0.01504638884216547\n",
      "\n",
      "\n",
      "Analyzing fold: 34\n",
      "\n",
      "Epoch: 0, loss: 0.009691816754639149\n",
      "Epoch: 25, loss: 0.0005176301929168403\n",
      "Epoch: 50, loss: 0.00041645413148216903\n",
      "EarlyStopping reached!\n",
      "Early stopping\n",
      "\n",
      "KL Divergence:0.0020895558409392834\n",
      "\n",
      "\n",
      "RMSE:0.019470250234007835\n",
      "\n",
      "\n",
      "Analyzing fold: 35\n",
      "\n",
      "Epoch: 0, loss: 0.018236346542835236\n",
      "Epoch: 25, loss: 0.0010965908877551556\n",
      "Epoch: 50, loss: 0.0004363121697679162\n",
      "EarlyStopping reached!\n",
      "Early stopping\n",
      "\n",
      "KL Divergence:0.0007048522820696235\n",
      "\n",
      "\n",
      "RMSE:0.011203477159142494\n",
      "\n",
      "\n",
      "Analyzing fold: 36\n",
      "\n",
      "Epoch: 0, loss: 0.18331901729106903\n",
      "Epoch: 25, loss: 0.0032820298802107573\n",
      "Epoch: 50, loss: 0.0006096184952184558\n",
      "Epoch: 75, loss: 0.00036965703475289047\n",
      "EarlyStopping reached!\n",
      "Early stopping\n",
      "\n",
      "KL Divergence:0.0014581196010112762\n",
      "\n",
      "\n",
      "RMSE:0.01603364758193493\n",
      "\n",
      "\n",
      "Analyzing fold: 37\n",
      "\n",
      "Epoch: 0, loss: 0.012001379393041134\n",
      "Epoch: 25, loss: 0.0003488862421363592\n",
      "Epoch: 50, loss: 0.00034940068144351244\n",
      "EarlyStopping reached!\n",
      "Early stopping\n",
      "\n",
      "KL Divergence:0.001527381711639464\n",
      "\n",
      "\n",
      "RMSE:0.016722621396183968\n",
      "\n",
      "\n",
      "Analyzing fold: 38\n",
      "\n",
      "Epoch: 0, loss: 0.024904197081923485\n",
      "Epoch: 25, loss: 0.0012833105865865946\n",
      "Epoch: 50, loss: 0.00040882464963942766\n",
      "EarlyStopping reached!\n",
      "Early stopping\n",
      "\n",
      "KL Divergence:0.0002557532861828804\n",
      "\n",
      "\n",
      "RMSE:0.006776544731110334\n",
      "\n",
      "\n",
      "Analyzing fold: 39\n",
      "\n",
      "Epoch: 0, loss: 0.0659959465265274\n",
      "Epoch: 25, loss: 0.0015754909254610538\n",
      "Epoch: 50, loss: 0.00041087440331466496\n",
      "EarlyStopping reached!\n",
      "Early stopping\n",
      "\n",
      "KL Divergence:0.0003039902076125145\n",
      "\n",
      "\n",
      "RMSE:0.007408585865050554\n",
      "\n",
      "\n",
      "Analyzing fold: 40\n",
      "\n",
      "Epoch: 0, loss: 0.01055449340492487\n",
      "Epoch: 25, loss: 0.0007412497652694583\n",
      "Epoch: 50, loss: 0.00039411874604411423\n",
      "EarlyStopping reached!\n",
      "Early stopping\n",
      "\n",
      "KL Divergence:0.00048498771502636373\n",
      "\n",
      "\n",
      "RMSE:0.009421754628419876\n",
      "\n",
      "\n",
      "Analyzing fold: 41\n",
      "\n",
      "Epoch: 0, loss: 0.0005358369089663029\n",
      "Epoch: 25, loss: 0.0011883617844432592\n",
      "Epoch: 50, loss: 0.00037074307329021394\n",
      "EarlyStopping reached!\n",
      "Early stopping\n",
      "\n",
      "KL Divergence:0.0004863005015067756\n",
      "\n",
      "\n",
      "RMSE:0.009473541751503944\n",
      "\n",
      "\n",
      "Analyzing fold: 42\n",
      "\n",
      "Epoch: 0, loss: 0.013397512026131153\n",
      "Epoch: 25, loss: 0.0005161932785995305\n",
      "EarlyStopping reached!\n",
      "Early stopping\n",
      "\n",
      "KL Divergence:0.062093544751405716\n",
      "\n",
      "\n",
      "RMSE:0.09770508855581284\n",
      "\n",
      "\n",
      "Analyzing fold: 43\n",
      "\n",
      "Epoch: 0, loss: 0.035277169197797775\n",
      "Epoch: 25, loss: 0.0011031428584828973\n",
      "Epoch: 50, loss: 0.00040471606189385056\n",
      "EarlyStopping reached!\n",
      "Early stopping\n",
      "\n",
      "KL Divergence:0.00010091920557897538\n",
      "\n",
      "\n",
      "RMSE:0.004385070875287056\n",
      "\n",
      "\n",
      "Analyzing fold: 44\n",
      "\n",
      "Epoch: 0, loss: 0.008536122739315033\n",
      "Epoch: 25, loss: 0.0003811094502452761\n",
      "EarlyStopping reached!\n",
      "Early stopping\n",
      "\n",
      "KL Divergence:0.0023579609114676714\n",
      "\n",
      "\n",
      "RMSE:0.02134149707853794\n",
      "\n",
      "\n",
      "Analyzing fold: 45\n",
      "\n",
      "Epoch: 0, loss: 0.08788598328828812\n",
      "Epoch: 25, loss: 0.002837853040546179\n",
      "EarlyStopping reached!\n",
      "Early stopping\n",
      "\n",
      "KL Divergence:6.168130494188517e-05\n",
      "\n",
      "\n",
      "RMSE:0.003426790237426758\n",
      "\n",
      "\n",
      "Analyzing fold: 46\n",
      "\n",
      "Epoch: 0, loss: 0.12389924377202988\n",
      "Epoch: 25, loss: 0.0007488818955607712\n",
      "Epoch: 50, loss: 0.0005906280130147934\n",
      "EarlyStopping reached!\n",
      "Early stopping\n",
      "\n",
      "KL Divergence:0.000908583402633667\n",
      "\n",
      "\n",
      "RMSE:0.013447055593132973\n",
      "\n",
      "\n",
      "Analyzing fold: 47\n",
      "\n",
      "Epoch: 0, loss: 0.12393946200609207\n",
      "Epoch: 25, loss: 0.0037377248518168926\n",
      "Epoch: 50, loss: 0.0007435060106217861\n",
      "Epoch: 75, loss: 0.00033453499781899154\n",
      "EarlyStopping reached!\n",
      "Early stopping\n",
      "\n",
      "KL Divergence:0.00018128249212168157\n",
      "\n",
      "\n",
      "RMSE:0.006040745880454779\n",
      "\n",
      "\n",
      "Analyzing fold: 48\n",
      "\n",
      "Epoch: 0, loss: 0.2062554806470871\n",
      "Epoch: 25, loss: 0.1957729309797287\n",
      "Epoch: 50, loss: 0.0015544474590569735\n",
      "EarlyStopping reached!\n",
      "Early stopping\n",
      "\n",
      "KL Divergence:0.0004754658730234951\n",
      "\n",
      "\n",
      "RMSE:0.009779520332813263\n",
      "\n",
      "\n",
      "Analyzing fold: 49\n",
      "\n",
      "Epoch: 0, loss: 0.0382978618144989\n",
      "Epoch: 25, loss: 0.001230815309099853\n",
      "Epoch: 50, loss: 0.0003013470850419253\n",
      "EarlyStopping reached!\n",
      "Early stopping\n",
      "\n",
      "KL Divergence:0.00010615307837724686\n",
      "\n",
      "\n",
      "RMSE:0.004633181728422642\n",
      "\n"
     ]
    }
   ],
   "source": [
    "divergences, rmses, losses = train_and_val_k_fold()"
   ]
  },
  {
   "cell_type": "code",
   "execution_count": 20,
   "id": "481b4ea5",
   "metadata": {},
   "outputs": [
    {
     "name": "stdout",
     "output_type": "stream",
     "text": [
      "Cross-validated KL Divergence: 0.0035159636533353476\n",
      "Cross-validated RMSE: 0.016123696472495796\n"
     ]
    }
   ],
   "source": [
    "print(f'Cross-validated KL Divergence: {pd.Series(divergences.values()).mean()}')\n",
    "print(f'Cross-validated RMSE: {pd.Series(rmses).mean()}')"
   ]
  },
  {
   "cell_type": "code",
   "execution_count": 21,
   "id": "80055f6d",
   "metadata": {},
   "outputs": [],
   "source": [
    "import matplotlib.pyplot as plt\n",
    "%matplotlib inline\n",
    "\n",
    "best_fold_size = min(losses, key=losses.get)\n",
    "model = torch.load(f'{model_checkpoint_folder}/{enfermedad}_{best_fold_size}.pkl')\n",
    "torch.save(model, f'models/trained_models/{enfermedad}.pkl')\n",
    "\n",
    "y = torch.from_numpy(data_numpy.astype(np.float32))\n",
    "res = model(y, size_of_starter_set=best_fold_size, amount_of_prediction_in_future=len(y))\n"
   ]
  },
  {
   "cell_type": "code",
   "execution_count": null,
   "id": "d8ebd9c5",
   "metadata": {},
   "outputs": [],
   "source": []
  },
  {
   "cell_type": "code",
   "execution_count": 22,
   "id": "5dc82fb3",
   "metadata": {},
   "outputs": [],
   "source": [
    "import pathlib\n",
    "for i in range(len(y)):\n",
    "    file_to_rem = pathlib.Path(f'{model_checkpoint_folder}/{enfermedad}_{i}.pkl')\n",
    "    if os.path.isfile(file_to_rem):\n",
    "        file_to_rem.unlink()\n",
    "file_to_rem = pathlib.Path(f'checkpoint.pt')\n",
    "file_to_rem.unlink()"
   ]
  },
  {
   "cell_type": "code",
   "execution_count": 23,
   "id": "292be11a",
   "metadata": {},
   "outputs": [],
   "source": [
    "import os\n",
    "os.makedirs(f'figures/{enfermedad}', exist_ok=True)"
   ]
  },
  {
   "cell_type": "code",
   "execution_count": 24,
   "id": "orange-deputy",
   "metadata": {},
   "outputs": [
    {
     "data": {
      "image/png": "[encoded data removed]",
      "text/plain": [
       "<Figure size 1080x360 with 2 Axes>"
      ]
     },
     "metadata": {
      "needs_background": "light"
     },
     "output_type": "display_data"
    }
   ],
   "source": [
    "fold_sizes = losses.keys()\n",
    "fig, ax = plt.subplots(nrows=1, ncols=2, figsize=(15, 5))\n",
    "\n",
    "ax[0].plot(fold_sizes, divergences.values(), color = 'r', linewidth=0, marker='.', label='divergences')\n",
    "ax[0].plot(fold_sizes, rmses, color = 'b', linewidth=0, marker='.', label='rmse')\n",
    "ax[1].set_yscale('log')\n",
    "ax[0].set_ylabel('Metrics')\n",
    "ax[0].set_xlabel('Fold Size')\n",
    "ax[0].set_title('Analisis de metricas')\n",
    "ax[0].legend()\n",
    "\n",
    "\n",
    "ax[1].plot(fold_sizes, losses.values(), color = 'g', linewidth=0, marker='.', label='losses')\n",
    "ax[1].set_ylabel('Loss')\n",
    "ax[1].set_yscale('log')\n",
    "ax[1].set_xlabel('Fold Size')\n",
    "ax[1].set_title('Analisis de Loss')\n",
    "ax[1].legend()\n",
    "\n",
    "plt.show()"
   ]
  },
  {
   "cell_type": "code",
   "execution_count": 25,
   "id": "d9bf2d81",
   "metadata": {},
   "outputs": [
    {
     "name": "stderr",
     "output_type": "stream",
     "text": [
      "/var/folders/g0/jqvp4xxs5pn4cds1xb9339xm0000gn/T/ipykernel_40435/700671155.py:11: MatplotlibDeprecationWarning: savefig() got unexpected keyword argument \"linewidth\" which is no longer supported as of 3.3 and will become an error two minor releases later\n",
      "  plt.savefig(f'figures/{enfermedad}/accumul_prediction.png', format='png', linewidth = 0.01)\n"
     ]
    },
    {
     "data": {
      "image/png": "[encoded data removed]",
      "text/plain": [
       "<Figure size 432x288 with 1 Axes>"
      ]
     },
     "metadata": {
      "needs_background": "light"
     },
     "output_type": "display_data"
    }
   ],
   "source": [
    "predicted_susceptible = res[:,0].detach().numpy()\n",
    "real_susceptible = y[:,0].detach().numpy()\n",
    "plt.plot(data.index, real_susceptible, color = 'r', linewidth=0, marker='.', label='real_sus')\n",
    "plt.plot(data.index[1:], predicted_susceptible, color = 'b', linewidth=0, marker='.', label='pred_sus')\n",
    "plt.ylim(0, 1)\n",
    "plt.xlim(0,len(y))\n",
    "plt.ylabel('Proportion')\n",
    "plt.xlabel('Generation')\n",
    "plt.title('Analisis de susceptibles predichos vs reales')\n",
    "plt.legend()\n",
    "plt.savefig(f'figures/{enfermedad}/accumul_prediction.png', format='png', linewidth = 0.01)"
   ]
  },
  {
   "cell_type": "code",
   "execution_count": 26,
   "id": "9a87fda1",
   "metadata": {},
   "outputs": [
    {
     "name": "stderr",
     "output_type": "stream",
     "text": [
      "/var/folders/g0/jqvp4xxs5pn4cds1xb9339xm0000gn/T/ipykernel_40435/2298925115.py:11: MatplotlibDeprecationWarning: savefig() got unexpected keyword argument \"linewidth\" which is no longer supported as of 3.3 and will become an error two minor releases later\n",
      "  plt.savefig(f'figures/{enfermedad}/accumul_prediction_vaccinated.png', format='png', linewidth = 0.01)\n"
     ]
    },
    {
     "data": {
      "image/png": "[encoded data removed]",
      "text/plain": [
       "<Figure size 432x288 with 1 Axes>"
      ]
     },
     "metadata": {
      "needs_background": "light"
     },
     "output_type": "display_data"
    }
   ],
   "source": [
    "predicted_vaccinated = res[:,3].detach().numpy()\n",
    "real_vaccinated = y[:,3].detach().numpy()\n",
    "plt.plot(data.index, real_vaccinated, color = 'r', linewidth=0, marker='.', label='real_vac')\n",
    "plt.plot(data.index[1:], predicted_vaccinated, color = 'b', linewidth=0, marker='.', label='pred_vac')\n",
    "plt.ylim(0, 1)\n",
    "plt.xlim(0,len(y))\n",
    "plt.ylabel('Proportion')\n",
    "plt.xlabel('Generation')\n",
    "plt.title('Analisis de vacunados predichos vs reales')\n",
    "plt.legend()\n",
    "plt.savefig(f'figures/{enfermedad}/accumul_prediction_vaccinated.png', format='png', linewidth = 0.01)"
   ]
  },
  {
   "cell_type": "markdown",
   "id": "a60316ad",
   "metadata": {},
   "source": [
    "Que pasa si le damos mas peso a fitear a los susceptibles?\n"
   ]
  },
  {
   "cell_type": "code",
   "execution_count": 27,
   "id": "133fb8d1",
   "metadata": {},
   "outputs": [
    {
     "name": "stderr",
     "output_type": "stream",
     "text": [
      "/var/folders/g0/jqvp4xxs5pn4cds1xb9339xm0000gn/T/ipykernel_40435/652839925.py:12: MatplotlibDeprecationWarning: savefig() got unexpected keyword argument \"linewidth\" which is no longer supported as of 3.3 and will become an error two minor releases later\n",
      "  plt.savefig(f'figures/{enfermedad}/accumul_infected.png', format='png', linewidth = 0.01)\n"
     ]
    },
    {
     "data": {
      "image/png": "[encoded data removed]",
      "text/plain": [
       "<Figure size 432x288 with 1 Axes>"
      ]
     },
     "metadata": {
      "needs_background": "light"
     },
     "output_type": "display_data"
    }
   ],
   "source": [
    "predicted_infected = res[:,1].detach().numpy()\n",
    "real_infected = y[:,1].detach().numpy()\n",
    "plt.plot(data.index, real_infected, color = 'r', linewidth=0, marker='.', label='real_inf')\n",
    "plt.plot(data.index[1:], predicted_infected, color = 'b', linewidth=0, marker='.', label='pred_inf')\n",
    "# plt.yscale('log')\n",
    "plt.xlim(0,len(y))\n",
    "plt.ylim(0,1)\n",
    "plt.ylabel('Proportion')\n",
    "plt.xlabel('Generation')\n",
    "plt.title('Analisis de infectados predichos vs reales')\n",
    "plt.legend()\n",
    "plt.savefig(f'figures/{enfermedad}/accumul_infected.png', format='png', linewidth = 0.01)"
   ]
  },
  {
   "cell_type": "code",
   "execution_count": 28,
   "id": "a4c78e78",
   "metadata": {},
   "outputs": [
    {
     "name": "stderr",
     "output_type": "stream",
     "text": [
      "/var/folders/g0/jqvp4xxs5pn4cds1xb9339xm0000gn/T/ipykernel_40435/2050763186.py:11: MatplotlibDeprecationWarning: savefig() got unexpected keyword argument \"linewidth\" which is no longer supported as of 3.3 and will become an error two minor releases later\n",
      "  plt.savefig(f'figures/{enfermedad}/accumul_prediction_rec.png', format='png', linewidth = 0.01)\n"
     ]
    },
    {
     "data": {
      "image/png": "[encoded data removed]",
      "text/plain": [
       "<Figure size 432x288 with 1 Axes>"
      ]
     },
     "metadata": {
      "needs_background": "light"
     },
     "output_type": "display_data"
    }
   ],
   "source": [
    "predicted_recov = res[:,2].detach().numpy()\n",
    "real_recov = y[:,2].detach().numpy()\n",
    "plt.plot(data.index, real_recov, color = 'r', linewidth=0, marker='.', label='real_rec')\n",
    "plt.plot(data.index[1:], predicted_recov, color = 'b', linewidth=0, marker='.', label='pred_rec')\n",
    "plt.yscale('log')\n",
    "plt.xlim(0,len(y))\n",
    "plt.ylabel('Proportion')\n",
    "plt.xlabel('Generation')\n",
    "plt.title('Analisis de recuperados predichos vs reales')\n",
    "plt.legend()\n",
    "plt.savefig(f'figures/{enfermedad}/accumul_prediction_rec.png', format='png', linewidth = 0.01)"
   ]
  },
  {
   "cell_type": "markdown",
   "id": "5d747f24",
   "metadata": {},
   "source": [
    "Testeemos los parametros"
   ]
  },
  {
   "cell_type": "code",
   "execution_count": 29,
   "id": "61711e68",
   "metadata": {},
   "outputs": [
    {
     "name": "stdout",
     "output_type": "stream",
     "text": [
      "[Parameter containing:\n",
      "tensor([[0.8326]], requires_grad=True), Parameter containing:\n",
      "tensor([[0.0051]], requires_grad=True), Parameter containing:\n",
      "tensor([[0.4884]], requires_grad=True)]\n"
     ]
    }
   ],
   "source": [
    "params = list(model.parameters())\n",
    "lambda1 = params[0].item()\n",
    "lambda2 = params[1].item()\n",
    "lambda3 = params[2].item()\n",
    "print(params)"
   ]
  },
  {
   "cell_type": "markdown",
   "id": "3b66fea9",
   "metadata": {},
   "source": [
    "Recordemos que estamos modelando:\n",
    "\n",
    "$$\\dfrac{ds}{dt} = -\\lambda_1 s i - \\lambda_2 s  $$\n",
    "\\\n",
    "$$\\dfrac{di}{dt} = \\lambda_1 s i - \\lambda_3 i - \\lambda_2 i  $$\n",
    "\n",
    "\\\n",
    "$$\\dfrac{dr}{dt} = \\lambda_3 i  $$\n",
    "\\\n",
    "$$\\dfrac{dv}{dt} = \\lambda_2 s + \\lambda_2 i   $$\n",
    "\n",
    "\n",
    "\n",
    "Entonces\n",
    "\n",
    "$$\\beta = \\lambda_1 = R_0 / d $$\n",
    "\n",
    "Con d la duración de la infeccion.\n",
    "\n",
    "$$ \\lambda_2 = \\eta $$ la tasa de inmunización y\n",
    "\n",
    "$$ \\lambda_3 = \\nu  = 1 / d $$\n",
    "\n",
    "Primero veamos la tasa de immunizacion"
   ]
  },
  {
   "cell_type": "code",
   "execution_count": 30,
   "id": "90eaeb4d",
   "metadata": {},
   "outputs": [],
   "source": [
    "tasa_immunizacion = (data.apply(lambda x: x.diff()).dropna().mean()/data['Vacunados'].max()).iloc[3]"
   ]
  },
  {
   "cell_type": "code",
   "execution_count": 31,
   "id": "fc002785",
   "metadata": {},
   "outputs": [
    {
     "data": {
      "text/plain": [
       "0.016696388321456965"
      ]
     },
     "execution_count": 31,
     "metadata": {},
     "output_type": "execute_result"
    }
   ],
   "source": [
    "tasa_immunizacion"
   ]
  },
  {
   "cell_type": "code",
   "execution_count": 32,
   "id": "812f4167",
   "metadata": {},
   "outputs": [
    {
     "data": {
      "text/latex": [
       "Deducimos que:\n",
       "$$ \\eta = \\lambda_2 = {0.00507} \\approx {0.01670} $$"
      ],
      "text/plain": [
       "<IPython.core.display.Latex object>"
      ]
     },
     "execution_count": 32,
     "metadata": {},
     "output_type": "execute_result"
    }
   ],
   "source": [
    "from IPython.display import Latex\n",
    "Latex(f\"\"\"Deducimos que:\n",
    "$$ \\eta = \\lambda_2 = {{{lambda2:.5f}}} \\\\approx {{{tasa_immunizacion:.5f}}} $$\"\"\")"
   ]
  },
  {
   "cell_type": "code",
   "execution_count": 33,
   "id": "27af972d",
   "metadata": {},
   "outputs": [
    {
     "data": {
      "text/latex": [
       "Deducimos que:\n",
       "$$ d = 1 / \\lambda_3 = 1 / {0.49} \\approx {2.05} $$\n",
       "$$ R_0 =  \\lambda_1 * d = {0.83} * d \\approx {1.70}$$"
      ],
      "text/plain": [
       "<IPython.core.display.Latex object>"
      ]
     },
     "execution_count": 33,
     "metadata": {},
     "output_type": "execute_result"
    }
   ],
   "source": [
    "Latex(f\"\"\"Deducimos que:\n",
    "$$ d = 1 / \\lambda_3 = 1 / {{{lambda3:.2f}}} \\\\approx {{{1/lambda3:.2f}}} $$\n",
    "$$ R_0 =  \\lambda_1 * d = {{{lambda1:.2f}}} * d \\\\approx {{{lambda1/lambda3:.2f}}}$$\"\"\")"
   ]
  },
  {
   "cell_type": "markdown",
   "id": "d4fd225a",
   "metadata": {},
   "source": [
    "Mientras que la literatura indica:\n",
    "\n",
    "$$ d = 17.5 $$\n",
    "$$ R_0 = 2.65 $$"
   ]
  },
  {
   "cell_type": "markdown",
   "id": "a0ca8030",
   "metadata": {},
   "source": [
    "## Validemos un test de momentos"
   ]
  },
  {
   "cell_type": "code",
   "execution_count": 34,
   "id": "2da4b226",
   "metadata": {},
   "outputs": [],
   "source": [
    "real_susceptible = real_susceptible[1:]\n",
    "real_vaccinated = real_vaccinated[1:]\n",
    "real_infected = real_infected[1:]\n",
    "real_recov = real_recov[1:]"
   ]
  },
  {
   "cell_type": "markdown",
   "id": "ea725fe4",
   "metadata": {},
   "source": [
    "#### Primer momento"
   ]
  },
  {
   "cell_type": "code",
   "execution_count": 35,
   "id": "61acae2d",
   "metadata": {},
   "outputs": [
    {
     "data": {
      "text/plain": [
       "Ttest_indResult(statistic=1.9244076042264975, pvalue=0.05695845936850254)"
      ]
     },
     "execution_count": 35,
     "metadata": {},
     "output_type": "execute_result"
    }
   ],
   "source": [
    "import scipy\n",
    "\n",
    "scipy.stats.ttest_ind(real_susceptible, predicted_susceptible, equal_var=False)"
   ]
  },
  {
   "cell_type": "code",
   "execution_count": 36,
   "id": "461d8d26",
   "metadata": {},
   "outputs": [
    {
     "data": {
      "text/plain": [
       "Ttest_indResult(statistic=-5.887364765667406, pvalue=2.0126351683119188e-07)"
      ]
     },
     "execution_count": 36,
     "metadata": {},
     "output_type": "execute_result"
    }
   ],
   "source": [
    "scipy.stats.ttest_ind(real_infected, predicted_infected, equal_var=False)"
   ]
  },
  {
   "cell_type": "code",
   "execution_count": 37,
   "id": "be7f5ae3",
   "metadata": {},
   "outputs": [
    {
     "data": {
      "text/plain": [
       "Ttest_indResult(statistic=-4.429777371651056, pvalue=4.0946003126323254e-05)"
      ]
     },
     "execution_count": 37,
     "metadata": {},
     "output_type": "execute_result"
    }
   ],
   "source": [
    "scipy.stats.ttest_ind(real_recov, predicted_recov, equal_var=False)"
   ]
  },
  {
   "cell_type": "code",
   "execution_count": 38,
   "id": "1020a2e5",
   "metadata": {},
   "outputs": [
    {
     "data": {
      "text/plain": [
       "Ttest_indResult(statistic=-1.9171495196875246, pvalue=0.05788225080418798)"
      ]
     },
     "execution_count": 38,
     "metadata": {},
     "output_type": "execute_result"
    }
   ],
   "source": [
    "scipy.stats.ttest_ind(real_vaccinated, predicted_vaccinated, equal_var=False)"
   ]
  },
  {
   "cell_type": "markdown",
   "id": "c3799d0e",
   "metadata": {},
   "source": [
    "#### Segundo momento"
   ]
  },
  {
   "cell_type": "code",
   "execution_count": 39,
   "id": "264555ea",
   "metadata": {},
   "outputs": [
    {
     "data": {
      "text/plain": [
       "BartlettResult(statistic=211.39819879326328, pvalue=6.804922228344495e-48)"
      ]
     },
     "execution_count": 39,
     "metadata": {},
     "output_type": "execute_result"
    }
   ],
   "source": [
    "scipy.stats.bartlett(real_infected, predicted_infected)"
   ]
  },
  {
   "cell_type": "code",
   "execution_count": 40,
   "id": "a8d58a5a",
   "metadata": {},
   "outputs": [
    {
     "data": {
      "text/plain": [
       "BartlettResult(statistic=165.88657136754816, pvalue=5.856571792848509e-38)"
      ]
     },
     "execution_count": 40,
     "metadata": {},
     "output_type": "execute_result"
    }
   ],
   "source": [
    "scipy.stats.bartlett(real_recov, predicted_recov)"
   ]
  },
  {
   "cell_type": "markdown",
   "id": "f29f39a8",
   "metadata": {},
   "source": [
    "#### Test de bondad de ajuste de KS"
   ]
  },
  {
   "cell_type": "code",
   "execution_count": 41,
   "id": "8ab4f644",
   "metadata": {},
   "outputs": [
    {
     "data": {
      "text/plain": [
       "KstestResult(statistic=0.3050847457627119, pvalue=0.005639028166027793)"
      ]
     },
     "execution_count": 41,
     "metadata": {},
     "output_type": "execute_result"
    }
   ],
   "source": [
    "scipy.stats.kstest(real_susceptible, predicted_susceptible, method='asymp')"
   ]
  },
  {
   "cell_type": "code",
   "execution_count": 42,
   "id": "681bd62e",
   "metadata": {},
   "outputs": [
    {
     "data": {
      "text/plain": [
       "KstestResult(statistic=0.576271186440678, pvalue=5.689128299575534e-10)"
      ]
     },
     "execution_count": 42,
     "metadata": {},
     "output_type": "execute_result"
    }
   ],
   "source": [
    "scipy.stats.kstest(real_infected, predicted_infected, method='asymp')"
   ]
  },
  {
   "cell_type": "code",
   "execution_count": 43,
   "id": "9e9078f7",
   "metadata": {},
   "outputs": [
    {
     "data": {
      "text/plain": [
       "KstestResult(statistic=0.5084745762711864, pvalue=1.0256536305433669e-07)"
      ]
     },
     "execution_count": 43,
     "metadata": {},
     "output_type": "execute_result"
    }
   ],
   "source": [
    "scipy.stats.kstest(real_recov, predicted_recov, method='asymp')"
   ]
  },
  {
   "cell_type": "code",
   "execution_count": 44,
   "id": "83a52f64",
   "metadata": {},
   "outputs": [
    {
     "data": {
      "text/plain": [
       "KstestResult(statistic=0.3050847457627119, pvalue=0.005639028166027793)"
      ]
     },
     "execution_count": 44,
     "metadata": {},
     "output_type": "execute_result"
    }
   ],
   "source": [
    "scipy.stats.kstest(real_vaccinated, predicted_vaccinated, method='asymp')"
   ]
  },
  {
   "cell_type": "markdown",
   "id": "c75849da",
   "metadata": {},
   "source": [
    "#### Test de pearson"
   ]
  },
  {
   "cell_type": "code",
   "execution_count": 45,
   "id": "d8edac1f",
   "metadata": {},
   "outputs": [
    {
     "data": {
      "text/plain": [
       "PearsonRResult(statistic=0.977580990998783, pvalue=2.9107104643830987e-40)"
      ]
     },
     "execution_count": 45,
     "metadata": {},
     "output_type": "execute_result"
    }
   ],
   "source": [
    "scipy.stats.pearsonr(real_susceptible, predicted_susceptible)"
   ]
  },
  {
   "cell_type": "code",
   "execution_count": 46,
   "id": "00aae526",
   "metadata": {},
   "outputs": [
    {
     "data": {
      "text/plain": [
       "PearsonRResult(statistic=-0.1841185136983835, pvalue=0.16273001677222143)"
      ]
     },
     "execution_count": 46,
     "metadata": {},
     "output_type": "execute_result"
    }
   ],
   "source": [
    "scipy.stats.pearsonr(real_infected, predicted_infected)"
   ]
  },
  {
   "cell_type": "code",
   "execution_count": 47,
   "id": "2c4fcfa1",
   "metadata": {},
   "outputs": [
    {
     "data": {
      "text/plain": [
       "PearsonRResult(statistic=0.622219424149596, pvalue=1.434256859701685e-07)"
      ]
     },
     "execution_count": 47,
     "metadata": {},
     "output_type": "execute_result"
    }
   ],
   "source": [
    "scipy.stats.pearsonr(real_recov, predicted_recov)"
   ]
  },
  {
   "cell_type": "code",
   "execution_count": 48,
   "id": "2267255c",
   "metadata": {},
   "outputs": [
    {
     "data": {
      "text/plain": [
       "PearsonRResult(statistic=0.9776131622824915, pvalue=2.7951959355282253e-40)"
      ]
     },
     "execution_count": 48,
     "metadata": {},
     "output_type": "execute_result"
    }
   ],
   "source": [
    "scipy.stats.pearsonr(real_vaccinated, predicted_vaccinated)"
   ]
  },
  {
   "cell_type": "markdown",
   "id": "pressing-origin",
   "metadata": {},
   "source": [
    "## Extrapolar"
   ]
  },
  {
   "cell_type": "code",
   "execution_count": 49,
   "id": "bfdd20c4",
   "metadata": {},
   "outputs": [],
   "source": [
    "import sys\n",
    "import os\n",
    "sys.path.append('..')\n",
    "import numpy as np\n",
    "import pandas as pd\n",
    "from models import sir\n",
    "from config import get_project_root\n",
    "import torchmetrics\n",
    "from models.pytorchtools import EarlyStopping\n",
    "import pathlib\n",
    "import torch\n",
    "import torch.nn as nn\n",
    "import torch.nn.functional as F\n"
   ]
  },
  {
   "cell_type": "code",
   "execution_count": 50,
   "id": "e7f9bf17",
   "metadata": {},
   "outputs": [],
   "source": [
    "import matplotlib.pyplot as plt\n",
    "%matplotlib inline\n",
    "\n",
    "YEARS_TO_PREDICT = 5\n",
    "\n",
    "model = torch.load(f'models/trained_models/{enfermedad}.pkl')\n",
    "y = torch.from_numpy(data_numpy.astype(np.float32))\n",
    "res = model(y, size_of_starter_set=40, amount_of_prediction_in_future=len(y)+12*YEARS_TO_PREDICT)"
   ]
  },
  {
   "cell_type": "code",
   "execution_count": 51,
   "id": "8bb08e0d",
   "metadata": {},
   "outputs": [
    {
     "data": {
      "text/plain": [
       "119"
      ]
     },
     "execution_count": 51,
     "metadata": {},
     "output_type": "execute_result"
    }
   ],
   "source": [
    "res[:,0].shape[0]"
   ]
  },
  {
   "cell_type": "code",
   "execution_count": 54,
   "id": "6e14e7ba",
   "metadata": {},
   "outputs": [],
   "source": [
    "import pandas as pd\n",
    "df = pd.DataFrame(res.detach().numpy(), columns=['Susceptible', 'Infected', 'Recovered', 'Vaccinated'])\n",
    "df.to_csv(path_or_buf=FINAL_PATH)"
   ]
  },
  {
   "cell_type": "code",
   "execution_count": 55,
   "id": "inside-county",
   "metadata": {},
   "outputs": [
    {
     "name": "stderr",
     "output_type": "stream",
     "text": [
      "/var/folders/g0/jqvp4xxs5pn4cds1xb9339xm0000gn/T/ipykernel_40435/3745585583.py:14: UserWarning: Attempted to set non-positive bottom ylim on a log-scaled axis.\n",
      "Invalid limit will be ignored.\n",
      "  plt.ylim(0, 1)\n",
      "/var/folders/g0/jqvp4xxs5pn4cds1xb9339xm0000gn/T/ipykernel_40435/3745585583.py:22: MatplotlibDeprecationWarning: savefig() got unexpected keyword argument \"linewidth\" which is no longer supported as of 3.3 and will become an error two minor releases later\n",
      "  plt.savefig(f'figures/{enfermedad}/extrapolation_{enfermedad}_log.png', format='png', linewidth = 0.01)\n"
     ]
    },
    {
     "data": {
      "image/png": "[encoded data removed]",
      "text/plain": [
       "<Figure size 1080x720 with 1 Axes>"
      ]
     },
     "metadata": {
      "needs_background": "light"
     },
     "output_type": "display_data"
    }
   ],
   "source": [
    "plt.figure(figsize=(15,10))\n",
    "predicted_susceptible = res[:,0].detach().numpy()\n",
    "predicted_infectous = res[:,1].detach().numpy()\n",
    "predicted_recovered = res[:,2].detach().numpy()\n",
    "predicted_vaccinated = res[:,3].detach().numpy()\n",
    "\n",
    "plt.plot(range(res[:,0].shape[0]), predicted_susceptible, color = 'r', linewidth=0, marker='.', label='sus')\n",
    "plt.plot(range(res[:,0].shape[0]), predicted_infectous, color = 'b', linewidth=0, marker='o', label='inf')\n",
    "plt.plot(range(res[:,0].shape[0]), predicted_recovered, color = 'y', linewidth=0, marker='v', label='rec')\n",
    "plt.plot(range(res[:,0].shape[0]), predicted_vaccinated, color = 'g', linewidth=0, marker='x', label='vac')\n",
    "\n",
    "plt.yscale('log')\n",
    "\n",
    "plt.ylim(0, 1)\n",
    "plt.xlim(0,len(res[:,0]))\n",
    "plt.ylabel('log-Proportion')\n",
    "plt.xlabel('Generation')\n",
    "x = np.arange(0,len(res[:,0])+1)\n",
    "plt.xticks(np.arange(min(x), max(x)+1, 5.0))\n",
    "plt.title('Extrapolacion del modelo')\n",
    "plt.legend()\n",
    "plt.savefig(f'figures/{enfermedad}/extrapolation_{enfermedad}_log.png', format='png', linewidth = 0.01)"
   ]
  },
  {
   "cell_type": "code",
   "execution_count": 56,
   "id": "yellow-thesis",
   "metadata": {},
   "outputs": [
    {
     "name": "stderr",
     "output_type": "stream",
     "text": [
      "/var/folders/g0/jqvp4xxs5pn4cds1xb9339xm0000gn/T/ipykernel_40435/3147206596.py:22: MatplotlibDeprecationWarning: savefig() got unexpected keyword argument \"linewidth\" which is no longer supported as of 3.3 and will become an error two minor releases later\n",
      "  plt.savefig(f'figures/{enfermedad}/extrapolation_{enfermedad}_vac_suc.png', format='png', linewidth = 0.01)\n"
     ]
    },
    {
     "data": {
      "image/png": "[encoded data removed]",
      "text/plain": [
       "<Figure size 1080x720 with 1 Axes>"
      ]
     },
     "metadata": {
      "needs_background": "light"
     },
     "output_type": "display_data"
    }
   ],
   "source": [
    "plt.figure(figsize=(15,10))\n",
    "predicted_susceptible = res[:,0].detach().numpy()\n",
    "# predicted_infectous = res[:,1].detach().numpy()\n",
    "# predicted_recovered = res[:,2].detach().numpy()\n",
    "predicted_vaccinated = res[:,3].detach().numpy()\n",
    "\n",
    "plt.plot(range(res[:,0].shape[0]), predicted_susceptible, color = 'r', linewidth=0, marker='.', label='sus')\n",
    "# plt.plot(range(res[:,0].shape[0]), predicted_infectous, color = 'b', linewidth=0, marker='o', label='inf')\n",
    "# plt.plot(range(res[:,0].shape[0]), predicted_recovered, color = 'y', linewidth=0, marker='v', label='rec')\n",
    "plt.plot(range(res[:,0].shape[0]), predicted_vaccinated, color = 'g', linewidth=0, marker='x', label='vac')\n",
    "\n",
    "# plt.yscale('log')\n",
    "\n",
    "plt.ylim(0, 1)\n",
    "plt.xlim(0,len(res[:,0]))\n",
    "plt.ylabel('Proportion')\n",
    "plt.xlabel('Generation')\n",
    "x = np.arange(0,len(res[:,0])+1)\n",
    "plt.xticks(np.arange(min(x), max(x)+1, 5.0))\n",
    "plt.title('Extrapolacion del modelo')\n",
    "plt.legend()\n",
    "plt.savefig(f'figures/{enfermedad}/extrapolation_{enfermedad}_vac_suc.png', format='png', linewidth = 0.01)"
   ]
  },
  {
   "cell_type": "code",
   "execution_count": 57,
   "id": "dedicated-latter",
   "metadata": {},
   "outputs": [
    {
     "name": "stderr",
     "output_type": "stream",
     "text": [
      "/var/folders/g0/jqvp4xxs5pn4cds1xb9339xm0000gn/T/ipykernel_40435/393367125.py:21: MatplotlibDeprecationWarning: savefig() got unexpected keyword argument \"linewidth\" which is no longer supported as of 3.3 and will become an error two minor releases later\n",
      "  plt.savefig(f'figures/{enfermedad}/extrapolation_{enfermedad}_inf_rec.png', format='png', linewidth = 0.01)\n"
     ]
    },
    {
     "data": {
      "image/png": "[encoded data removed]",
      "text/plain": [
       "<Figure size 1080x720 with 1 Axes>"
      ]
     },
     "metadata": {
      "needs_background": "light"
     },
     "output_type": "display_data"
    }
   ],
   "source": [
    "plt.figure(figsize=(15,10))\n",
    "# predicted_susceptible = res[:,0].detach().numpy()\n",
    "predicted_infectous = res[:,1].detach().numpy()\n",
    "predicted_recovered = res[:,2].detach().numpy()\n",
    "# predicted_vaccinated = res[:,3].detach().numpy()\n",
    "\n",
    "# plt.plot(range(res[:,0].shape[0]), predicted_susceptible, color = 'r', linewidth=0, marker='.', label='sus')\n",
    "plt.plot(range(res[:,0].shape[0]), predicted_infectous, color = 'b', linewidth=0, marker='o', label='inf')\n",
    "plt.plot(range(res[:,0].shape[0]), predicted_recovered, color = 'y', linewidth=0, marker='v', label='rec')\n",
    "# plt.plot(range(res[:,0].shape[0]), predicted_vaccinated, color = 'g', linewidth=0, marker='x', label='vac')\n",
    "\n",
    "# plt.yscale('log')\n",
    "\n",
    "plt.xlim(0,len(res[:,0]))\n",
    "plt.ylabel('Proportion')\n",
    "plt.xlabel('Generation')\n",
    "x = np.arange(0,len(res[:,0])+1)\n",
    "plt.xticks(np.arange(min(x), max(x)+1, 5.0))\n",
    "plt.title('Extrapolacion del modelo')\n",
    "plt.legend()\n",
    "plt.savefig(f'figures/{enfermedad}/extrapolation_{enfermedad}_inf_rec.png', format='png', linewidth = 0.01)"
   ]
  },
  {
   "cell_type": "code",
   "execution_count": null,
   "id": "included-bridal",
   "metadata": {},
   "outputs": [],
   "source": []
  },
  {
   "cell_type": "code",
   "execution_count": null,
   "id": "heated-raise",
   "metadata": {},
   "outputs": [],
   "source": []
  },
  {
   "cell_type": "code",
   "execution_count": null,
   "id": "7c597d02",
   "metadata": {},
   "outputs": [],
   "source": []
  },
  {
   "cell_type": "code",
   "execution_count": null,
   "id": "ef397512",
   "metadata": {},
   "outputs": [],
   "source": []
  }
 ],
 "metadata": {
  "kernelspec": {
   "display_name": "simuladores",
   "language": "python",
   "name": "simuladores"
  },
  "language_info": {
   "codemirror_mode": {
    "name": "ipython",
    "version": 3
   },
   "file_extension": ".py",
   "mimetype": "text/x-python",
   "name": "python",
   "nbconvert_exporter": "python",
   "pygments_lexer": "ipython3",
   "version": "3.9.1"
  }
 },
 "nbformat": 4,
 "nbformat_minor": 5
}
