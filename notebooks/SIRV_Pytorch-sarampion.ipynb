{
 "cells": [
  {
   "cell_type": "code",
   "execution_count": 1,
   "id": "80dc7077",
   "metadata": {},
   "outputs": [],
   "source": [
    "import sys\n",
    "import os\n",
    "sys.path.append('..')\n",
    "import numpy as np\n",
    "import pandas as pd\n",
    "from models import sir\n",
    "from config import get_project_root\n",
    "import torchmetrics\n",
    "from models.pytorchtools import EarlyStopping"
   ]
  },
  {
   "cell_type": "code",
   "execution_count": 2,
   "id": "0bcfc515",
   "metadata": {},
   "outputs": [],
   "source": [
    "enfermedad='sarampion'\n",
    "DATA_FOLDER = f'{get_project_root()}/data'\n",
    "INFECTADOS_PATH = f'{DATA_FOLDER}/extrapolated/infectados_{enfermedad}_extrapolado.csv'\n",
    "HABITANTES_PATH = f'{DATA_FOLDER}/extrapolated/habitantes_{enfermedad}_extrapolado.csv'\n",
    "VACUNADOS_PATH = f'{DATA_FOLDER}/extrapolated/vacunados_{enfermedad}_extrapolado.csv'\n",
    "YEARS = [2018, 2019, 2020, 2021, 2022]\n",
    "MONTHS = ['ENE', 'FEB', 'MAR', 'ABR', 'MAY', 'JUN', 'JUL', 'AGOS', 'SEP', 'OCT', 'NOV', 'DIC']\n"
   ]
  },
  {
   "cell_type": "code",
   "execution_count": 3,
   "id": "9b58ccf0",
   "metadata": {},
   "outputs": [
    {
     "data": {
      "text/plain": [
       "11101945"
      ]
     },
     "execution_count": 3,
     "metadata": {},
     "output_type": "execute_result"
    }
   ],
   "source": [
    "habitantes_curve = pd.read_csv(HABITANTES_PATH).set_index('ANO')\n",
    "for month in MONTHS:\n",
    "    habitantes_curve[month] = habitantes_curve['JUL']\n",
    "max_habs = habitantes_curve.max().max()\n",
    "max_habs"
   ]
  },
  {
   "cell_type": "code",
   "execution_count": 4,
   "id": "261f888d",
   "metadata": {},
   "outputs": [],
   "source": [
    "def extract_curve(path=None, df=None):\n",
    "    if df is None:\n",
    "        df = pd.read_csv(path).set_index('ANO')\n",
    "    df = df[df.columns[:12]].T\n",
    "    values = []\n",
    "    for year in YEARS:\n",
    "        values.extend(df[year].tolist())\n",
    "    return pd.Series(values)\n",
    "\n",
    "infectuous_curve = extract_curve(path=INFECTADOS_PATH)  \n",
    "vacunados_curve = extract_curve(path=VACUNADOS_PATH)\n",
    "recovered_curve = pd.Series([0]*len(infectuous_curve))\n",
    "max_habs = max([habitantes_curve.max().max(), vacunados_curve.max().max()])"
   ]
  },
  {
   "cell_type": "code",
   "execution_count": 5,
   "id": "418a99c1",
   "metadata": {},
   "outputs": [
    {
     "data": {
      "text/html": [
       "<div>\n",
       "<style scoped>\n",
       "    .dataframe tbody tr th:only-of-type {\n",
       "        vertical-align: middle;\n",
       "    }\n",
       "\n",
       "    .dataframe tbody tr th {\n",
       "        vertical-align: top;\n",
       "    }\n",
       "\n",
       "    .dataframe thead th {\n",
       "        text-align: right;\n",
       "    }\n",
       "</style>\n",
       "<table border=\"1\" class=\"dataframe\">\n",
       "  <thead>\n",
       "    <tr style=\"text-align: right;\">\n",
       "      <th></th>\n",
       "      <th>ENE</th>\n",
       "      <th>FEB</th>\n",
       "      <th>MAR</th>\n",
       "      <th>ABR</th>\n",
       "      <th>MAY</th>\n",
       "      <th>JUN</th>\n",
       "      <th>JUL</th>\n",
       "      <th>AGOS</th>\n",
       "      <th>SEP</th>\n",
       "      <th>OCT</th>\n",
       "      <th>NOV</th>\n",
       "      <th>DIC</th>\n",
       "    </tr>\n",
       "    <tr>\n",
       "      <th>ANO</th>\n",
       "      <th></th>\n",
       "      <th></th>\n",
       "      <th></th>\n",
       "      <th></th>\n",
       "      <th></th>\n",
       "      <th></th>\n",
       "      <th></th>\n",
       "      <th></th>\n",
       "      <th></th>\n",
       "      <th></th>\n",
       "      <th></th>\n",
       "      <th></th>\n",
       "    </tr>\n",
       "  </thead>\n",
       "  <tbody>\n",
       "    <tr>\n",
       "      <th>2018</th>\n",
       "      <td>10973470</td>\n",
       "      <td>10973470</td>\n",
       "      <td>10973470</td>\n",
       "      <td>10973470</td>\n",
       "      <td>10973470</td>\n",
       "      <td>10973470</td>\n",
       "      <td>10973470</td>\n",
       "      <td>10973470</td>\n",
       "      <td>10973470</td>\n",
       "      <td>10973470</td>\n",
       "      <td>10973470</td>\n",
       "      <td>10973470</td>\n",
       "    </tr>\n",
       "    <tr>\n",
       "      <th>2019</th>\n",
       "      <td>11012606</td>\n",
       "      <td>11012606</td>\n",
       "      <td>11012606</td>\n",
       "      <td>11012606</td>\n",
       "      <td>11012606</td>\n",
       "      <td>11012606</td>\n",
       "      <td>11012606</td>\n",
       "      <td>11012606</td>\n",
       "      <td>11012606</td>\n",
       "      <td>11012606</td>\n",
       "      <td>11012606</td>\n",
       "      <td>11012606</td>\n",
       "    </tr>\n",
       "    <tr>\n",
       "      <th>2020</th>\n",
       "      <td>11047665</td>\n",
       "      <td>11047665</td>\n",
       "      <td>11047665</td>\n",
       "      <td>11047665</td>\n",
       "      <td>11047665</td>\n",
       "      <td>11047665</td>\n",
       "      <td>11047665</td>\n",
       "      <td>11047665</td>\n",
       "      <td>11047665</td>\n",
       "      <td>11047665</td>\n",
       "      <td>11047665</td>\n",
       "      <td>11047665</td>\n",
       "    </tr>\n",
       "    <tr>\n",
       "      <th>2021</th>\n",
       "      <td>11077856</td>\n",
       "      <td>11077856</td>\n",
       "      <td>11077856</td>\n",
       "      <td>11077856</td>\n",
       "      <td>11077856</td>\n",
       "      <td>11077856</td>\n",
       "      <td>11077856</td>\n",
       "      <td>11077856</td>\n",
       "      <td>11077856</td>\n",
       "      <td>11077856</td>\n",
       "      <td>11077856</td>\n",
       "      <td>11077856</td>\n",
       "    </tr>\n",
       "    <tr>\n",
       "      <th>2022</th>\n",
       "      <td>11101945</td>\n",
       "      <td>11101945</td>\n",
       "      <td>11101945</td>\n",
       "      <td>11101945</td>\n",
       "      <td>11101945</td>\n",
       "      <td>11101945</td>\n",
       "      <td>11101945</td>\n",
       "      <td>11101945</td>\n",
       "      <td>11101945</td>\n",
       "      <td>11101945</td>\n",
       "      <td>11101945</td>\n",
       "      <td>11101945</td>\n",
       "    </tr>\n",
       "  </tbody>\n",
       "</table>\n",
       "</div>"
      ],
      "text/plain": [
       "           ENE       FEB       MAR       ABR       MAY       JUN       JUL  \\\n",
       "ANO                                                                          \n",
       "2018  10973470  10973470  10973470  10973470  10973470  10973470  10973470   \n",
       "2019  11012606  11012606  11012606  11012606  11012606  11012606  11012606   \n",
       "2020  11047665  11047665  11047665  11047665  11047665  11047665  11047665   \n",
       "2021  11077856  11077856  11077856  11077856  11077856  11077856  11077856   \n",
       "2022  11101945  11101945  11101945  11101945  11101945  11101945  11101945   \n",
       "\n",
       "          AGOS       SEP       OCT       NOV       DIC  \n",
       "ANO                                                     \n",
       "2018  10973470  10973470  10973470  10973470  10973470  \n",
       "2019  11012606  11012606  11012606  11012606  11012606  \n",
       "2020  11047665  11047665  11047665  11047665  11047665  \n",
       "2021  11077856  11077856  11077856  11077856  11077856  \n",
       "2022  11101945  11101945  11101945  11101945  11101945  "
      ]
     },
     "execution_count": 5,
     "metadata": {},
     "output_type": "execute_result"
    }
   ],
   "source": [
    "habitantes_curve"
   ]
  },
  {
   "cell_type": "code",
   "execution_count": 6,
   "id": "f5c8c6cb",
   "metadata": {},
   "outputs": [],
   "source": [
    "for ix, val in enumerate(infectuous_curve):\n",
    "    try:\n",
    "        recovered_curve[ix+1] += val\n",
    "    except KeyError:\n",
    "        continue"
   ]
  },
  {
   "cell_type": "code",
   "execution_count": 45,
   "id": "6be172d1",
   "metadata": {},
   "outputs": [
    {
     "data": {
      "text/plain": [
       "14172606.0"
      ]
     },
     "execution_count": 45,
     "metadata": {},
     "output_type": "execute_result"
    }
   ],
   "source": [
    "max_habs"
   ]
  },
  {
   "cell_type": "code",
   "execution_count": 56,
   "id": "3848039b",
   "metadata": {},
   "outputs": [],
   "source": [
    "susceptible_curve = max_habs - infectuous_curve - vacunados_curve - recovered_curve\n",
    "susceptible_curve[susceptible_curve<0] = 0\n",
    "\n"
   ]
  },
  {
   "cell_type": "code",
   "execution_count": 57,
   "id": "b781eec1",
   "metadata": {},
   "outputs": [],
   "source": [
    "data = pd.concat([susceptible_curve, infectuous_curve, recovered_curve, vacunados_curve], axis=1).rename(columns={0:'Susceptible', 1:'Infectados', 2:'Recuperados', 3:'Vacunados'})\n",
    "infectados_real = data.diff()['Infectados']\n",
    "infectados_real.loc[0] = 0\n",
    "infectados_real\n",
    "data['Infectados'] = infectados_real"
   ]
  },
  {
   "cell_type": "code",
   "execution_count": 58,
   "id": "62d1c4f9",
   "metadata": {},
   "outputs": [
    {
     "data": {
      "text/html": [
       "<div>\n",
       "<style scoped>\n",
       "    .dataframe tbody tr th:only-of-type {\n",
       "        vertical-align: middle;\n",
       "    }\n",
       "\n",
       "    .dataframe tbody tr th {\n",
       "        vertical-align: top;\n",
       "    }\n",
       "\n",
       "    .dataframe thead th {\n",
       "        text-align: right;\n",
       "    }\n",
       "</style>\n",
       "<table border=\"1\" class=\"dataframe\">\n",
       "  <thead>\n",
       "    <tr style=\"text-align: right;\">\n",
       "      <th></th>\n",
       "      <th>Susceptible</th>\n",
       "      <th>Infectados</th>\n",
       "      <th>Recuperados</th>\n",
       "      <th>Vacunados</th>\n",
       "    </tr>\n",
       "  </thead>\n",
       "  <tbody>\n",
       "    <tr>\n",
       "      <th>0</th>\n",
       "      <td>3151427.0</td>\n",
       "      <td>0.0</td>\n",
       "      <td>0</td>\n",
       "      <td>11021179.0</td>\n",
       "    </tr>\n",
       "    <tr>\n",
       "      <th>1</th>\n",
       "      <td>2893840.0</td>\n",
       "      <td>0.0</td>\n",
       "      <td>0</td>\n",
       "      <td>11278766.0</td>\n",
       "    </tr>\n",
       "    <tr>\n",
       "      <th>2</th>\n",
       "      <td>2115966.0</td>\n",
       "      <td>0.0</td>\n",
       "      <td>0</td>\n",
       "      <td>12056640.0</td>\n",
       "    </tr>\n",
       "    <tr>\n",
       "      <th>3</th>\n",
       "      <td>2063790.0</td>\n",
       "      <td>0.0</td>\n",
       "      <td>0</td>\n",
       "      <td>12108816.0</td>\n",
       "    </tr>\n",
       "    <tr>\n",
       "      <th>4</th>\n",
       "      <td>1997836.0</td>\n",
       "      <td>12.0</td>\n",
       "      <td>0</td>\n",
       "      <td>12174758.0</td>\n",
       "    </tr>\n",
       "    <tr>\n",
       "      <th>5</th>\n",
       "      <td>1952716.0</td>\n",
       "      <td>0.0</td>\n",
       "      <td>12</td>\n",
       "      <td>12219866.0</td>\n",
       "    </tr>\n",
       "    <tr>\n",
       "      <th>6</th>\n",
       "      <td>1908172.0</td>\n",
       "      <td>0.0</td>\n",
       "      <td>12</td>\n",
       "      <td>12264410.0</td>\n",
       "    </tr>\n",
       "    <tr>\n",
       "      <th>7</th>\n",
       "      <td>1849594.0</td>\n",
       "      <td>4.0</td>\n",
       "      <td>12</td>\n",
       "      <td>12322984.0</td>\n",
       "    </tr>\n",
       "    <tr>\n",
       "      <th>8</th>\n",
       "      <td>1773034.0</td>\n",
       "      <td>1.0</td>\n",
       "      <td>16</td>\n",
       "      <td>12399539.0</td>\n",
       "    </tr>\n",
       "    <tr>\n",
       "      <th>9</th>\n",
       "      <td>1703849.0</td>\n",
       "      <td>2.0</td>\n",
       "      <td>17</td>\n",
       "      <td>12468721.0</td>\n",
       "    </tr>\n",
       "    <tr>\n",
       "      <th>10</th>\n",
       "      <td>1648500.0</td>\n",
       "      <td>0.0</td>\n",
       "      <td>19</td>\n",
       "      <td>12524068.0</td>\n",
       "    </tr>\n",
       "    <tr>\n",
       "      <th>11</th>\n",
       "      <td>1601046.0</td>\n",
       "      <td>12.0</td>\n",
       "      <td>19</td>\n",
       "      <td>12571510.0</td>\n",
       "    </tr>\n",
       "    <tr>\n",
       "      <th>12</th>\n",
       "      <td>1549722.0</td>\n",
       "      <td>0.0</td>\n",
       "      <td>31</td>\n",
       "      <td>12622822.0</td>\n",
       "    </tr>\n",
       "    <tr>\n",
       "      <th>13</th>\n",
       "      <td>1484690.0</td>\n",
       "      <td>0.0</td>\n",
       "      <td>31</td>\n",
       "      <td>12687854.0</td>\n",
       "    </tr>\n",
       "    <tr>\n",
       "      <th>14</th>\n",
       "      <td>1418532.0</td>\n",
       "      <td>0.0</td>\n",
       "      <td>31</td>\n",
       "      <td>12754012.0</td>\n",
       "    </tr>\n",
       "    <tr>\n",
       "      <th>15</th>\n",
       "      <td>1359597.0</td>\n",
       "      <td>125.0</td>\n",
       "      <td>31</td>\n",
       "      <td>12812822.0</td>\n",
       "    </tr>\n",
       "    <tr>\n",
       "      <th>16</th>\n",
       "      <td>1299519.0</td>\n",
       "      <td>125.0</td>\n",
       "      <td>156</td>\n",
       "      <td>12872650.0</td>\n",
       "    </tr>\n",
       "    <tr>\n",
       "      <th>17</th>\n",
       "      <td>1252919.0</td>\n",
       "      <td>0.0</td>\n",
       "      <td>281</td>\n",
       "      <td>12919125.0</td>\n",
       "    </tr>\n",
       "    <tr>\n",
       "      <th>18</th>\n",
       "      <td>1201617.0</td>\n",
       "      <td>0.0</td>\n",
       "      <td>281</td>\n",
       "      <td>12970427.0</td>\n",
       "    </tr>\n",
       "    <tr>\n",
       "      <th>19</th>\n",
       "      <td>1148768.0</td>\n",
       "      <td>0.0</td>\n",
       "      <td>281</td>\n",
       "      <td>13023276.0</td>\n",
       "    </tr>\n",
       "    <tr>\n",
       "      <th>20</th>\n",
       "      <td>1075439.0</td>\n",
       "      <td>26.0</td>\n",
       "      <td>281</td>\n",
       "      <td>13096579.0</td>\n",
       "    </tr>\n",
       "    <tr>\n",
       "      <th>21</th>\n",
       "      <td>931488.0</td>\n",
       "      <td>23.0</td>\n",
       "      <td>307</td>\n",
       "      <td>13240481.0</td>\n",
       "    </tr>\n",
       "    <tr>\n",
       "      <th>22</th>\n",
       "      <td>832860.0</td>\n",
       "      <td>37.0</td>\n",
       "      <td>330</td>\n",
       "      <td>13339049.0</td>\n",
       "    </tr>\n",
       "    <tr>\n",
       "      <th>23</th>\n",
       "      <td>752514.0</td>\n",
       "      <td>156.0</td>\n",
       "      <td>367</td>\n",
       "      <td>13419202.0</td>\n",
       "    </tr>\n",
       "    <tr>\n",
       "      <th>24</th>\n",
       "      <td>737891.0</td>\n",
       "      <td>47.0</td>\n",
       "      <td>523</td>\n",
       "      <td>13433622.0</td>\n",
       "    </tr>\n",
       "    <tr>\n",
       "      <th>25</th>\n",
       "      <td>725479.0</td>\n",
       "      <td>22.0</td>\n",
       "      <td>570</td>\n",
       "      <td>13445965.0</td>\n",
       "    </tr>\n",
       "    <tr>\n",
       "      <th>26</th>\n",
       "      <td>713312.0</td>\n",
       "      <td>7.0</td>\n",
       "      <td>592</td>\n",
       "      <td>13458103.0</td>\n",
       "    </tr>\n",
       "    <tr>\n",
       "      <th>27</th>\n",
       "      <td>700688.0</td>\n",
       "      <td>0.0</td>\n",
       "      <td>599</td>\n",
       "      <td>13470720.0</td>\n",
       "    </tr>\n",
       "    <tr>\n",
       "      <th>28</th>\n",
       "      <td>688189.0</td>\n",
       "      <td>1.0</td>\n",
       "      <td>599</td>\n",
       "      <td>13483218.0</td>\n",
       "    </tr>\n",
       "    <tr>\n",
       "      <th>29</th>\n",
       "      <td>676497.0</td>\n",
       "      <td>0.0</td>\n",
       "      <td>600</td>\n",
       "      <td>13494909.0</td>\n",
       "    </tr>\n",
       "    <tr>\n",
       "      <th>30</th>\n",
       "      <td>666554.0</td>\n",
       "      <td>0.0</td>\n",
       "      <td>600</td>\n",
       "      <td>13504852.0</td>\n",
       "    </tr>\n",
       "    <tr>\n",
       "      <th>31</th>\n",
       "      <td>660857.0</td>\n",
       "      <td>0.0</td>\n",
       "      <td>600</td>\n",
       "      <td>13510549.0</td>\n",
       "    </tr>\n",
       "    <tr>\n",
       "      <th>32</th>\n",
       "      <td>660435.0</td>\n",
       "      <td>0.0</td>\n",
       "      <td>600</td>\n",
       "      <td>13510971.0</td>\n",
       "    </tr>\n",
       "    <tr>\n",
       "      <th>33</th>\n",
       "      <td>660426.0</td>\n",
       "      <td>0.0</td>\n",
       "      <td>600</td>\n",
       "      <td>13510980.0</td>\n",
       "    </tr>\n",
       "    <tr>\n",
       "      <th>34</th>\n",
       "      <td>660418.0</td>\n",
       "      <td>0.0</td>\n",
       "      <td>600</td>\n",
       "      <td>13510988.0</td>\n",
       "    </tr>\n",
       "    <tr>\n",
       "      <th>35</th>\n",
       "      <td>660336.0</td>\n",
       "      <td>77.0</td>\n",
       "      <td>600</td>\n",
       "      <td>13510993.0</td>\n",
       "    </tr>\n",
       "    <tr>\n",
       "      <th>36</th>\n",
       "      <td>660257.0</td>\n",
       "      <td>0.0</td>\n",
       "      <td>677</td>\n",
       "      <td>13510995.0</td>\n",
       "    </tr>\n",
       "    <tr>\n",
       "      <th>37</th>\n",
       "      <td>660252.0</td>\n",
       "      <td>0.0</td>\n",
       "      <td>677</td>\n",
       "      <td>13511000.0</td>\n",
       "    </tr>\n",
       "    <tr>\n",
       "      <th>38</th>\n",
       "      <td>660250.0</td>\n",
       "      <td>0.0</td>\n",
       "      <td>677</td>\n",
       "      <td>13511002.0</td>\n",
       "    </tr>\n",
       "    <tr>\n",
       "      <th>39</th>\n",
       "      <td>660242.0</td>\n",
       "      <td>0.0</td>\n",
       "      <td>677</td>\n",
       "      <td>13511010.0</td>\n",
       "    </tr>\n",
       "    <tr>\n",
       "      <th>40</th>\n",
       "      <td>660241.0</td>\n",
       "      <td>0.0</td>\n",
       "      <td>677</td>\n",
       "      <td>13511011.0</td>\n",
       "    </tr>\n",
       "    <tr>\n",
       "      <th>41</th>\n",
       "      <td>660237.0</td>\n",
       "      <td>0.0</td>\n",
       "      <td>677</td>\n",
       "      <td>13511015.0</td>\n",
       "    </tr>\n",
       "    <tr>\n",
       "      <th>42</th>\n",
       "      <td>660236.0</td>\n",
       "      <td>0.0</td>\n",
       "      <td>677</td>\n",
       "      <td>13511016.0</td>\n",
       "    </tr>\n",
       "    <tr>\n",
       "      <th>43</th>\n",
       "      <td>660230.0</td>\n",
       "      <td>0.0</td>\n",
       "      <td>677</td>\n",
       "      <td>13511022.0</td>\n",
       "    </tr>\n",
       "    <tr>\n",
       "      <th>44</th>\n",
       "      <td>609176.0</td>\n",
       "      <td>0.0</td>\n",
       "      <td>677</td>\n",
       "      <td>13562076.0</td>\n",
       "    </tr>\n",
       "    <tr>\n",
       "      <th>45</th>\n",
       "      <td>551355.0</td>\n",
       "      <td>0.0</td>\n",
       "      <td>677</td>\n",
       "      <td>13619897.0</td>\n",
       "    </tr>\n",
       "    <tr>\n",
       "      <th>46</th>\n",
       "      <td>474483.0</td>\n",
       "      <td>0.0</td>\n",
       "      <td>677</td>\n",
       "      <td>13696769.0</td>\n",
       "    </tr>\n",
       "    <tr>\n",
       "      <th>47</th>\n",
       "      <td>430551.0</td>\n",
       "      <td>0.0</td>\n",
       "      <td>677</td>\n",
       "      <td>13740701.0</td>\n",
       "    </tr>\n",
       "    <tr>\n",
       "      <th>48</th>\n",
       "      <td>385026.0</td>\n",
       "      <td>1.0</td>\n",
       "      <td>677</td>\n",
       "      <td>13786225.0</td>\n",
       "    </tr>\n",
       "    <tr>\n",
       "      <th>49</th>\n",
       "      <td>298300.0</td>\n",
       "      <td>0.0</td>\n",
       "      <td>678</td>\n",
       "      <td>13872950.0</td>\n",
       "    </tr>\n",
       "    <tr>\n",
       "      <th>50</th>\n",
       "      <td>218183.0</td>\n",
       "      <td>1.0</td>\n",
       "      <td>678</td>\n",
       "      <td>13953066.0</td>\n",
       "    </tr>\n",
       "    <tr>\n",
       "      <th>51</th>\n",
       "      <td>140557.0</td>\n",
       "      <td>0.0</td>\n",
       "      <td>679</td>\n",
       "      <td>14030691.0</td>\n",
       "    </tr>\n",
       "    <tr>\n",
       "      <th>52</th>\n",
       "      <td>68221.0</td>\n",
       "      <td>0.0</td>\n",
       "      <td>679</td>\n",
       "      <td>14103027.0</td>\n",
       "    </tr>\n",
       "    <tr>\n",
       "      <th>53</th>\n",
       "      <td>0.0</td>\n",
       "      <td>0.0</td>\n",
       "      <td>679</td>\n",
       "      <td>14172606.0</td>\n",
       "    </tr>\n",
       "    <tr>\n",
       "      <th>54</th>\n",
       "      <td>0.0</td>\n",
       "      <td>0.0</td>\n",
       "      <td>679</td>\n",
       "      <td>14172606.0</td>\n",
       "    </tr>\n",
       "    <tr>\n",
       "      <th>55</th>\n",
       "      <td>0.0</td>\n",
       "      <td>0.0</td>\n",
       "      <td>679</td>\n",
       "      <td>14172606.0</td>\n",
       "    </tr>\n",
       "    <tr>\n",
       "      <th>56</th>\n",
       "      <td>0.0</td>\n",
       "      <td>0.0</td>\n",
       "      <td>679</td>\n",
       "      <td>14172606.0</td>\n",
       "    </tr>\n",
       "    <tr>\n",
       "      <th>57</th>\n",
       "      <td>0.0</td>\n",
       "      <td>0.0</td>\n",
       "      <td>679</td>\n",
       "      <td>14172606.0</td>\n",
       "    </tr>\n",
       "    <tr>\n",
       "      <th>58</th>\n",
       "      <td>0.0</td>\n",
       "      <td>0.0</td>\n",
       "      <td>679</td>\n",
       "      <td>14172606.0</td>\n",
       "    </tr>\n",
       "    <tr>\n",
       "      <th>59</th>\n",
       "      <td>0.0</td>\n",
       "      <td>1.0</td>\n",
       "      <td>679</td>\n",
       "      <td>14172606.0</td>\n",
       "    </tr>\n",
       "  </tbody>\n",
       "</table>\n",
       "</div>"
      ],
      "text/plain": [
       "    Susceptible  Infectados  Recuperados   Vacunados\n",
       "0     3151427.0         0.0            0  11021179.0\n",
       "1     2893840.0         0.0            0  11278766.0\n",
       "2     2115966.0         0.0            0  12056640.0\n",
       "3     2063790.0         0.0            0  12108816.0\n",
       "4     1997836.0        12.0            0  12174758.0\n",
       "5     1952716.0         0.0           12  12219866.0\n",
       "6     1908172.0         0.0           12  12264410.0\n",
       "7     1849594.0         4.0           12  12322984.0\n",
       "8     1773034.0         1.0           16  12399539.0\n",
       "9     1703849.0         2.0           17  12468721.0\n",
       "10    1648500.0         0.0           19  12524068.0\n",
       "11    1601046.0        12.0           19  12571510.0\n",
       "12    1549722.0         0.0           31  12622822.0\n",
       "13    1484690.0         0.0           31  12687854.0\n",
       "14    1418532.0         0.0           31  12754012.0\n",
       "15    1359597.0       125.0           31  12812822.0\n",
       "16    1299519.0       125.0          156  12872650.0\n",
       "17    1252919.0         0.0          281  12919125.0\n",
       "18    1201617.0         0.0          281  12970427.0\n",
       "19    1148768.0         0.0          281  13023276.0\n",
       "20    1075439.0        26.0          281  13096579.0\n",
       "21     931488.0        23.0          307  13240481.0\n",
       "22     832860.0        37.0          330  13339049.0\n",
       "23     752514.0       156.0          367  13419202.0\n",
       "24     737891.0        47.0          523  13433622.0\n",
       "25     725479.0        22.0          570  13445965.0\n",
       "26     713312.0         7.0          592  13458103.0\n",
       "27     700688.0         0.0          599  13470720.0\n",
       "28     688189.0         1.0          599  13483218.0\n",
       "29     676497.0         0.0          600  13494909.0\n",
       "30     666554.0         0.0          600  13504852.0\n",
       "31     660857.0         0.0          600  13510549.0\n",
       "32     660435.0         0.0          600  13510971.0\n",
       "33     660426.0         0.0          600  13510980.0\n",
       "34     660418.0         0.0          600  13510988.0\n",
       "35     660336.0        77.0          600  13510993.0\n",
       "36     660257.0         0.0          677  13510995.0\n",
       "37     660252.0         0.0          677  13511000.0\n",
       "38     660250.0         0.0          677  13511002.0\n",
       "39     660242.0         0.0          677  13511010.0\n",
       "40     660241.0         0.0          677  13511011.0\n",
       "41     660237.0         0.0          677  13511015.0\n",
       "42     660236.0         0.0          677  13511016.0\n",
       "43     660230.0         0.0          677  13511022.0\n",
       "44     609176.0         0.0          677  13562076.0\n",
       "45     551355.0         0.0          677  13619897.0\n",
       "46     474483.0         0.0          677  13696769.0\n",
       "47     430551.0         0.0          677  13740701.0\n",
       "48     385026.0         1.0          677  13786225.0\n",
       "49     298300.0         0.0          678  13872950.0\n",
       "50     218183.0         1.0          678  13953066.0\n",
       "51     140557.0         0.0          679  14030691.0\n",
       "52      68221.0         0.0          679  14103027.0\n",
       "53          0.0         0.0          679  14172606.0\n",
       "54          0.0         0.0          679  14172606.0\n",
       "55          0.0         0.0          679  14172606.0\n",
       "56          0.0         0.0          679  14172606.0\n",
       "57          0.0         0.0          679  14172606.0\n",
       "58          0.0         0.0          679  14172606.0\n",
       "59          0.0         1.0          679  14172606.0"
      ]
     },
     "execution_count": 58,
     "metadata": {},
     "output_type": "execute_result"
    }
   ],
   "source": [
    "data"
   ]
  },
  {
   "cell_type": "code",
   "execution_count": 59,
   "id": "7d7850f1",
   "metadata": {},
   "outputs": [],
   "source": [
    "data_numpy = np.array(data)/max_habs"
   ]
  },
  {
   "cell_type": "code",
   "execution_count": 60,
   "id": "dd08e581",
   "metadata": {},
   "outputs": [],
   "source": [
    "import torch\n",
    "import torch.nn as nn\n",
    "import torch.nn.functional as F\n"
   ]
  },
  {
   "cell_type": "code",
   "execution_count": 61,
   "id": "780383ea",
   "metadata": {},
   "outputs": [],
   "source": [
    "class SIRV(nn.Module):\n",
    "    def __init__(self, epsilon=1e-7):\n",
    "        super(SIRV, self).__init__()\n",
    "        self.lambda1 = nn.Linear(1,1, bias = False) # tasa de contacto efectivo\n",
    "        self.lambda2 = nn.Linear(1,1, bias = False) # tasa de immunizacion\n",
    "        self.lambda3 = nn.Linear(1,1, bias = False) # tasa de recuperacion\n",
    "        torch.nn.init.xavier_uniform_(self.lambda1.weight, gain=0.01)\n",
    "        torch.nn.init.xavier_uniform_(self.lambda2.weight, gain=0.01)\n",
    "        torch.nn.init.xavier_uniform_(self.lambda3.weight, gain=0.01)\n",
    "        self.epsilon = epsilon\n",
    "    \n",
    "    def forward(self, x, size_of_starter_set, amount_of_prediction_in_future):\n",
    "        assert size_of_starter_set < amount_of_prediction_in_future\n",
    "        ns = torch.zeros([amount_of_prediction_in_future, 4],dtype=torch.float, requires_grad = False)\n",
    "        torch.nn.init.xavier_uniform_(ns, gain=0.01)\n",
    "        x[x==0] = self.epsilon\n",
    "        ns[:x.shape[0]] = x.view(x.shape[0], 4).clone()\n",
    "        for i in range(size_of_starter_set,amount_of_prediction_in_future):\n",
    "            a = ns[i-1].clone()\n",
    "            ns[i][0] = a[0].view(1,1) - self.lambda1(a[0]*a[1].view(1,1)) - self.lambda2(a[0].view(1,1))\n",
    "            ns[i][1] = a[1].view(1,1) + self.lambda1(a[0]*a[1].view(1,1)) - self.lambda3(a[1].view(1,1))  - self.lambda2(a[1].view(1,1))\n",
    "            ns[i][2] = a[2].view(1,1) + self.lambda3(a[1].view(1,1))\n",
    "            ns[i][3] = a[3].view(1,1) + self.lambda2(a[0].view(1,1)) + self.lambda2(a[1].view(1,1)) \n",
    "        return ns[1:].reshape(-1,4)\n"
   ]
  },
  {
   "cell_type": "code",
   "execution_count": 62,
   "id": "f8a93328",
   "metadata": {},
   "outputs": [],
   "source": [
    "def loss_custom(pred, actual):\n",
    "    loss_func = nn.SmoothL1Loss()\n",
    "    loss_big = loss_func(pred[:,3], actual[:,3]) + loss_func(pred[:,0], actual[:,0])\n",
    "    loss_small = loss_func(pred[:,1], actual[:,1]) + loss_func(pred[:,2], actual[:,2])\n",
    "    return 1000*loss_small + loss_big"
   ]
  },
  {
   "cell_type": "code",
   "execution_count": 63,
   "id": "e50c1d31",
   "metadata": {
    "scrolled": false
   },
   "outputs": [],
   "source": [
    "y = torch.from_numpy(data_numpy.astype(np.float32))\n"
   ]
  },
  {
   "cell_type": "code",
   "execution_count": 64,
   "id": "5c62e9b3",
   "metadata": {},
   "outputs": [
    {
     "data": {
      "text/plain": [
       "torch.Size([60, 4])"
      ]
     },
     "execution_count": 64,
     "metadata": {},
     "output_type": "execute_result"
    }
   ],
   "source": [
    "y.size()"
   ]
  },
  {
   "cell_type": "code",
   "execution_count": 65,
   "id": "aa61060a",
   "metadata": {},
   "outputs": [],
   "source": [
    "def train(train_set, fold_size=10, future_size=5):\n",
    "    epsilon = 1e-15\n",
    "    sir = SIRV(epsilon=epsilon)\n",
    "    opt = torch.optim.Adam(sir.parameters(), lr=0.05)\n",
    "    best = 10000\n",
    "    early_stopping = EarlyStopping(patience=25, verbose=False, delta=1e-7)\n",
    "    for epoch in range(500):\n",
    "        out = sir(train_set[:fold_size], size_of_starter_set=min(10, fold_size), amount_of_prediction_in_future=fold_size + future_size+1)\n",
    "        out = out.squeeze()\n",
    "        loss = loss_custom(out, train_set[:fold_size + future_size])\n",
    "        loss.backward()\n",
    "        opt.step() \n",
    "        opt.zero_grad()\n",
    "        if loss.item() < best:\n",
    "            best = loss.item()\n",
    "            torch.save(sir, f'{enfermedad}_{fold_size}.pkl')\n",
    "        if epoch%100 == 0:        \n",
    "            print(f'Epoch: {epoch}, loss: {loss.item()}')\n",
    "        if loss.isnan():\n",
    "            raise ValueError()\n",
    "        for p in sir.parameters():\n",
    "            p.data.clamp_(0)\n",
    "        if epoch > 100:\n",
    "            early_stopping(loss.item(), sir)\n",
    "\n",
    "            if early_stopping.early_stop:\n",
    "                print(\"Early stopping\")\n",
    "                break\n",
    "    return best\n",
    "    \n",
    "\n",
    "def train_and_val_k_fold():\n",
    "    divergences = []\n",
    "    rmses = []\n",
    "    losses = {}\n",
    "    future_index_check = 10\n",
    "    min_datapoints = 40\n",
    "    for fold_size in range(min_datapoints, len(y)-future_index_check):\n",
    "        print(f'\\nAnalyzing fold: {fold_size}\\n')\n",
    "        folded_train_set = y[:fold_size+future_index_check].clone()\n",
    "        best_loss = train(train_set=folded_train_set, fold_size=fold_size, future_size=future_index_check)\n",
    "        model = torch.load(f'{enfermedad}_{fold_size}.pkl')\n",
    "        preds = model(folded_train_set[:fold_size], size_of_starter_set=fold_size, amount_of_prediction_in_future=len(folded_train_set)+1)[fold_size:fold_size+future_index_check]\n",
    "        target = y[fold_size:fold_size+future_index_check]\n",
    "        kl_divergence = torchmetrics.functional.kl_divergence(target, preds).detach().item()\n",
    "        rmse = torch.sqrt(torchmetrics.functional.mean_squared_error(target, preds)).detach().item()\n",
    "        print(f'\\nKL Divergence:{kl_divergence}\\n')\n",
    "        print(f'\\nRMSE:{rmse}\\n')\n",
    "        divergences.append(kl_divergence)\n",
    "        rmses.append(rmse)\n",
    "        losses[fold_size] = best_loss\n",
    "    return divergences, rmses, losses"
   ]
  },
  {
   "cell_type": "code",
   "execution_count": 66,
   "id": "15d283ea",
   "metadata": {},
   "outputs": [
    {
     "name": "stdout",
     "output_type": "stream",
     "text": [
      "\n",
      "Analyzing fold: 40\n",
      "\n",
      "Epoch: 0, loss: 0.004197909962385893\n",
      "Epoch: 100, loss: 0.00012003599113086239\n",
      "EarlyStopping reached!\n",
      "Early stopping\n",
      "\n",
      "KL Divergence:0.00046816468238830566\n",
      "\n",
      "\n",
      "RMSE:0.003955730237066746\n",
      "\n",
      "\n",
      "Analyzing fold: 41\n",
      "\n",
      "Epoch: 0, loss: 0.003816177835687995\n",
      "Epoch: 100, loss: 0.00011865332635352388\n",
      "EarlyStopping reached!\n",
      "Early stopping\n",
      "\n",
      "KL Divergence:0.0009443500894121826\n",
      "\n",
      "\n",
      "RMSE:0.005138383712619543\n",
      "\n",
      "\n",
      "Analyzing fold: 42\n",
      "\n",
      "Epoch: 0, loss: 0.009759915061295033\n",
      "Epoch: 100, loss: 0.0001596458605490625\n",
      "EarlyStopping reached!\n",
      "Early stopping\n",
      "\n",
      "KL Divergence:0.0020837076008319855\n",
      "\n",
      "\n",
      "RMSE:0.007246125023812056\n",
      "\n",
      "\n",
      "Analyzing fold: 43\n",
      "\n",
      "Epoch: 0, loss: 0.0018237525364384055\n",
      "Epoch: 100, loss: 0.00012386232265271246\n",
      "EarlyStopping reached!\n",
      "Early stopping\n",
      "\n",
      "KL Divergence:0.003932905849069357\n",
      "\n",
      "\n",
      "RMSE:0.009466649033129215\n",
      "\n",
      "\n",
      "Analyzing fold: 44\n",
      "\n",
      "Epoch: 0, loss: 0.008466445840895176\n",
      "Epoch: 100, loss: 0.0001312502718064934\n",
      "EarlyStopping reached!\n",
      "Early stopping\n",
      "\n",
      "KL Divergence:0.007271259091794491\n",
      "\n",
      "\n",
      "RMSE:0.012006152421236038\n",
      "\n",
      "\n",
      "Analyzing fold: 45\n",
      "\n",
      "Epoch: 0, loss: 0.0017001557862386107\n",
      "Epoch: 100, loss: 0.0001352475374005735\n",
      "EarlyStopping reached!\n",
      "Early stopping\n",
      "\n",
      "KL Divergence:0.009595231153070927\n",
      "\n",
      "\n",
      "RMSE:0.012928440235555172\n",
      "\n",
      "\n",
      "Analyzing fold: 46\n",
      "\n",
      "Epoch: 0, loss: 0.016297832131385803\n",
      "Epoch: 100, loss: 0.0012911034282296896\n",
      "EarlyStopping reached!\n",
      "Early stopping\n",
      "\n",
      "KL Divergence:0.010739478282630444\n",
      "\n",
      "\n",
      "RMSE:0.012614951469004154\n",
      "\n",
      "\n",
      "Analyzing fold: 47\n",
      "\n",
      "Epoch: 0, loss: 0.0009886260377243161\n",
      "Epoch: 100, loss: 0.00014274814748205245\n",
      "EarlyStopping reached!\n",
      "Early stopping\n",
      "\n",
      "KL Divergence:0.011724227108061314\n",
      "\n",
      "\n",
      "RMSE:0.01231318898499012\n",
      "\n",
      "\n",
      "Analyzing fold: 48\n",
      "\n",
      "Epoch: 0, loss: 0.0038796085864305496\n",
      "Epoch: 100, loss: 0.00014793015725445002\n",
      "EarlyStopping reached!\n",
      "Early stopping\n",
      "\n",
      "KL Divergence:0.01283503882586956\n",
      "\n",
      "\n",
      "RMSE:0.012279144488275051\n",
      "\n",
      "\n",
      "Analyzing fold: 49\n",
      "\n",
      "Epoch: 0, loss: 0.001168275368399918\n",
      "Epoch: 100, loss: 0.00014721664774697274\n",
      "EarlyStopping reached!\n",
      "Early stopping\n",
      "\n",
      "KL Divergence:0.013452920131385326\n",
      "\n",
      "\n",
      "RMSE:0.011910272762179375\n",
      "\n"
     ]
    }
   ],
   "source": [
    "divergences, rmses, losses = train_and_val_k_fold()"
   ]
  },
  {
   "cell_type": "code",
   "execution_count": 67,
   "id": "481b4ea5",
   "metadata": {},
   "outputs": [
    {
     "name": "stdout",
     "output_type": "stream",
     "text": [
      "Cross-validated KL Divergence: 0.007304728281451389\n",
      "Cross-validated RMSE: 0.009985903836786747\n"
     ]
    }
   ],
   "source": [
    "print(f'Cross-validated KL Divergence: {pd.Series(divergences).mean()}')\n",
    "print(f'Cross-validated RMSE: {pd.Series(rmses).mean()}')"
   ]
  },
  {
   "cell_type": "code",
   "execution_count": 68,
   "id": "80055f6d",
   "metadata": {},
   "outputs": [],
   "source": [
    "import matplotlib.pyplot as plt\n",
    "%matplotlib inline\n",
    "\n",
    "best_fold_size = min(losses, key=losses.get)\n",
    "model = torch.load(f'{enfermedad}_{best_fold_size}.pkl')\n",
    "torch.save(sir, f'{enfermedad}.pkl')\n",
    "\n",
    "y = torch.from_numpy(data_numpy.astype(np.float32))\n",
    "res = model(y, size_of_starter_set=best_fold_size, amount_of_prediction_in_future=len(y))\n"
   ]
  },
  {
   "cell_type": "code",
   "execution_count": null,
   "id": "d8ebd9c5",
   "metadata": {},
   "outputs": [],
   "source": [
    "for i in range(len(y)):\n",
    "    file_to_rem = pathlib.Path(f'{enfermedad}_{best_fold_size}.pkl')\n",
    "    if os.path.isfile(myfile):\n",
    "        file_to_rem.unlink()\n",
    "else:    ## Show an error ##\n",
    "    print(\"Error: %s file not found\" % myfile)"
   ]
  },
  {
   "cell_type": "code",
   "execution_count": 69,
   "id": "5dc82fb3",
   "metadata": {},
   "outputs": [
    {
     "data": {
      "text/plain": [
       "torch.Size([59, 4])"
      ]
     },
     "execution_count": 69,
     "metadata": {},
     "output_type": "execute_result"
    }
   ],
   "source": [
    "res.shape"
   ]
  },
  {
   "cell_type": "code",
   "execution_count": 70,
   "id": "292be11a",
   "metadata": {},
   "outputs": [],
   "source": [
    "import os\n",
    "os.makedirs(f'figures/{enfermedad}', exist_ok=True)"
   ]
  },
  {
   "cell_type": "code",
   "execution_count": 90,
   "id": "d9bf2d81",
   "metadata": {},
   "outputs": [
    {
     "name": "stderr",
     "output_type": "stream",
     "text": [
      "/var/folders/g0/jqvp4xxs5pn4cds1xb9339xm0000gn/T/ipykernel_32973/3478551153.py:11: MatplotlibDeprecationWarning: savefig() got unexpected keyword argument \"linewidth\" which is no longer supported as of 3.3 and will become an error two minor releases later\n",
      "  plt.savefig(f'figures/{enfermedad}/accumul_prediction.png', format='png', linewidth = 0.01)\n"
     ]
    },
    {
     "data": {
      "image/png": "[encoded data removed]",
      "text/plain": [
       "<Figure size 432x288 with 1 Axes>"
      ]
     },
     "metadata": {
      "needs_background": "light"
     },
     "output_type": "display_data"
    }
   ],
   "source": [
    "predicted_susceptible = res[:,0].detach().numpy()\n",
    "real_susceptible = y[:,0].detach().numpy()\n",
    "plt.plot(real_susceptible, color = 'r', linewidth=0, marker='.', label='real_sus')\n",
    "plt.plot(predicted_susceptible, color = 'b', linewidth=0, marker='.', label='pred_sus')\n",
    "plt.ylim(0, 1)\n",
    "plt.xlim(0,len(y))\n",
    "plt.ylabel('Proportion')\n",
    "plt.xlabel('Generation')\n",
    "plt.title('Analisis de susceptibles predichos vs reales')\n",
    "plt.legend()\n",
    "plt.savefig(f'figures/{enfermedad}/accumul_prediction.png', format='png', linewidth = 0.01)"
   ]
  },
  {
   "cell_type": "code",
   "execution_count": 91,
   "id": "9a87fda1",
   "metadata": {},
   "outputs": [
    {
     "name": "stderr",
     "output_type": "stream",
     "text": [
      "/var/folders/g0/jqvp4xxs5pn4cds1xb9339xm0000gn/T/ipykernel_32973/821398519.py:11: MatplotlibDeprecationWarning: savefig() got unexpected keyword argument \"linewidth\" which is no longer supported as of 3.3 and will become an error two minor releases later\n",
      "  plt.savefig(f'figures/{enfermedad}/accumul_prediction_vaccinated.png', format='png', linewidth = 0.01)\n"
     ]
    },
    {
     "data": {
      "image/png": "[encoded data removed]",
      "text/plain": [
       "<Figure size 432x288 with 1 Axes>"
      ]
     },
     "metadata": {
      "needs_background": "light"
     },
     "output_type": "display_data"
    }
   ],
   "source": [
    "predicted_vaccinated = res[:,3].detach().numpy()\n",
    "real_vaccinated = y[:,3].detach().numpy()\n",
    "plt.plot(real_vaccinated, color = 'r', linewidth=0, marker='.', label='real_vac')\n",
    "plt.plot(predicted_vaccinated, color = 'b', linewidth=0, marker='.', label='pred_vac')\n",
    "plt.ylim(0, 1)\n",
    "plt.xlim(0,len(y))\n",
    "plt.ylabel('Proportion')\n",
    "plt.xlabel('Generation')\n",
    "plt.title('Analisis de vacunados predichos vs reales')\n",
    "plt.legend()\n",
    "plt.savefig(f'figures/{enfermedad}/accumul_prediction_vaccinated.png', format='png', linewidth = 0.01)"
   ]
  },
  {
   "cell_type": "markdown",
   "id": "a60316ad",
   "metadata": {},
   "source": [
    "Que pasa si le damos mas peso a fitear a los susceptibles?\n"
   ]
  },
  {
   "cell_type": "code",
   "execution_count": 92,
   "id": "133fb8d1",
   "metadata": {},
   "outputs": [
    {
     "name": "stderr",
     "output_type": "stream",
     "text": [
      "/var/folders/g0/jqvp4xxs5pn4cds1xb9339xm0000gn/T/ipykernel_32973/721021689.py:11: MatplotlibDeprecationWarning: savefig() got unexpected keyword argument \"linewidth\" which is no longer supported as of 3.3 and will become an error two minor releases later\n",
      "  plt.savefig(f'figures/{enfermedad}/accumul_infected.png', format='png', linewidth = 0.01)\n"
     ]
    },
    {
     "data": {
      "image/png": "[encoded data removed]",
      "text/plain": [
       "<Figure size 432x288 with 1 Axes>"
      ]
     },
     "metadata": {
      "needs_background": "light"
     },
     "output_type": "display_data"
    }
   ],
   "source": [
    "predicted_infected = res[:,1].detach().numpy()\n",
    "real_infected = y[:,1].detach().numpy()\n",
    "plt.plot(predicted_infected, color = 'r', linewidth=0, marker='.', label='pred_inf')\n",
    "plt.plot(real_infected, color = 'b', linewidth=0, marker='.', label='real_inf')\n",
    "plt.ylim(0, 0.0001)\n",
    "plt.xlim(0,len(y))\n",
    "plt.ylabel('Proportion')\n",
    "plt.xlabel('Generation')\n",
    "plt.title('Analisis de infectados predichos vs reales')\n",
    "plt.legend()\n",
    "plt.savefig(f'figures/{enfermedad}/accumul_infected.png', format='png', linewidth = 0.01)"
   ]
  },
  {
   "cell_type": "code",
   "execution_count": 93,
   "id": "a4c78e78",
   "metadata": {},
   "outputs": [
    {
     "name": "stderr",
     "output_type": "stream",
     "text": [
      "/var/folders/g0/jqvp4xxs5pn4cds1xb9339xm0000gn/T/ipykernel_32973/1071918523.py:11: MatplotlibDeprecationWarning: savefig() got unexpected keyword argument \"linewidth\" which is no longer supported as of 3.3 and will become an error two minor releases later\n",
      "  plt.savefig(f'figures/{enfermedad}/accumul_prediction_rec.png', format='png', linewidth = 0.01)\n"
     ]
    },
    {
     "data": {
      "image/png": "[encoded data removed]",
      "text/plain": [
       "<Figure size 432x288 with 1 Axes>"
      ]
     },
     "metadata": {
      "needs_background": "light"
     },
     "output_type": "display_data"
    }
   ],
   "source": [
    "predicted_recov = res[:,2].detach().numpy()\n",
    "real_recov = y[:,2].detach().numpy()\n",
    "plt.plot(real_recov, color = 'r', linewidth=0, marker='.', label='real_rec')\n",
    "plt.plot(predicted_recov, color = 'b', linewidth=0, marker='.', label='pred_rec')\n",
    "plt.ylim(0, 0.001)\n",
    "plt.xlim(0,len(y))\n",
    "plt.ylabel('Proportion')\n",
    "plt.xlabel('Generation')\n",
    "plt.title('Analisis de recuperados predichos vs reales')\n",
    "plt.legend()\n",
    "plt.savefig(f'figures/{enfermedad}/accumul_prediction_rec.png', format='png', linewidth = 0.01)"
   ]
  },
  {
   "cell_type": "markdown",
   "id": "5d747f24",
   "metadata": {},
   "source": [
    "Testeemos los parametros"
   ]
  },
  {
   "cell_type": "code",
   "execution_count": 75,
   "id": "61711e68",
   "metadata": {},
   "outputs": [
    {
     "name": "stdout",
     "output_type": "stream",
     "text": [
      "[Parameter containing:\n",
      "tensor([[0.5014]], requires_grad=True), Parameter containing:\n",
      "tensor([[0.0363]], requires_grad=True), Parameter containing:\n",
      "tensor([[0.5847]], requires_grad=True)]\n"
     ]
    }
   ],
   "source": [
    "params = list(model.parameters())\n",
    "lambda1 = params[0].item()\n",
    "lambda2 = params[1].item()\n",
    "lambda3 = params[2].item()\n",
    "print(params)"
   ]
  },
  {
   "cell_type": "markdown",
   "id": "3b66fea9",
   "metadata": {},
   "source": [
    "Recordemos que estamos modelando:\n",
    "\n",
    "$$\\dfrac{ds}{dt} = -\\lambda_1 s i - \\lambda_2 s  $$\n",
    "\\\n",
    "$$\\dfrac{di}{dt} = \\lambda_1 s i - \\lambda_3 i - \\lambda_2 i  $$\n",
    "\n",
    "\\\n",
    "$$\\dfrac{dr}{dt} = \\lambda_3 i  $$\n",
    "\\\n",
    "$$\\dfrac{dv}{dt} = \\lambda_2 s + \\lambda_2 i   $$\n",
    "\n",
    "\n",
    "\n",
    "Entonces\n",
    "\n",
    "$$\\beta = \\lambda_1 = R_0 / d $$\n",
    "\n",
    "Con d la duración de la infeccion.\n",
    "\n",
    "$$ \\lambda_2 = \\eta $$ la tasa de inmunización y\n",
    "\n",
    "$$ \\lambda_3 = \\nu  = 1 / d $$\n",
    "\n",
    "Primero veamos la tasa de immunizacion"
   ]
  },
  {
   "cell_type": "code",
   "execution_count": 76,
   "id": "90eaeb4d",
   "metadata": {},
   "outputs": [],
   "source": [
    "tasa_immunizacion = (data.apply(lambda x: x.diff()).dropna().mean()/data['Vacunados'].max()).iloc[3]"
   ]
  },
  {
   "cell_type": "code",
   "execution_count": 77,
   "id": "fc002785",
   "metadata": {},
   "outputs": [
    {
     "data": {
      "text/plain": [
       "0.003768821129237103"
      ]
     },
     "execution_count": 77,
     "metadata": {},
     "output_type": "execute_result"
    }
   ],
   "source": [
    "tasa_immunizacion"
   ]
  },
  {
   "cell_type": "code",
   "execution_count": 78,
   "id": "812f4167",
   "metadata": {},
   "outputs": [
    {
     "data": {
      "text/latex": [
       "Deducimos que:\n",
       "$$ \\eta = \\lambda_2 = {0.03630} \\approx {0.00377} $$"
      ],
      "text/plain": [
       "<IPython.core.display.Latex object>"
      ]
     },
     "execution_count": 78,
     "metadata": {},
     "output_type": "execute_result"
    }
   ],
   "source": [
    "from IPython.display import Latex\n",
    "Latex(f\"\"\"Deducimos que:\n",
    "$$ \\eta = \\lambda_2 = {{{lambda2:.5f}}} \\\\approx {{{tasa_immunizacion:.5f}}} $$\"\"\")"
   ]
  },
  {
   "cell_type": "code",
   "execution_count": 79,
   "id": "27af972d",
   "metadata": {},
   "outputs": [
    {
     "data": {
      "text/latex": [
       "Deducimos que:\n",
       "$$ d = 1 / \\lambda_3 = 1 / {0.58} \\approx {1.71} $$\n",
       "$$ R_0 =  \\lambda_1 * d = {0.50} * d \\approx {0.86}$$"
      ],
      "text/plain": [
       "<IPython.core.display.Latex object>"
      ]
     },
     "execution_count": 79,
     "metadata": {},
     "output_type": "execute_result"
    }
   ],
   "source": [
    "Latex(f\"\"\"Deducimos que:\n",
    "$$ d = 1 / \\lambda_3 = 1 / {{{lambda3:.2f}}} \\\\approx {{{1/lambda3:.2f}}} $$\n",
    "$$ R_0 =  \\lambda_1 * d = {{{lambda1:.2f}}} * d \\\\approx {{{lambda1/lambda3:.2f}}}$$\"\"\")"
   ]
  },
  {
   "cell_type": "markdown",
   "id": "d4fd225a",
   "metadata": {},
   "source": [
    "Mientras que la literatura indica:\n",
    "\n",
    "$$ d = 17.5 $$\n",
    "$$ R_0 = 2.65 $$"
   ]
  },
  {
   "cell_type": "markdown",
   "id": "a0ca8030",
   "metadata": {},
   "source": [
    "## Validemos un test de momentos"
   ]
  },
  {
   "cell_type": "markdown",
   "id": "ea725fe4",
   "metadata": {},
   "source": [
    "#### Primer momento"
   ]
  },
  {
   "cell_type": "code",
   "execution_count": 80,
   "id": "61acae2d",
   "metadata": {},
   "outputs": [
    {
     "data": {
      "text/plain": [
       "Ttest_indResult(statistic=-0.20834462688865749, pvalue=0.8353340819388474)"
      ]
     },
     "execution_count": 80,
     "metadata": {},
     "output_type": "execute_result"
    }
   ],
   "source": [
    "import scipy\n",
    "\n",
    "scipy.stats.ttest_ind(real_susceptible, predicted_susceptible, equal_var=False)"
   ]
  },
  {
   "cell_type": "code",
   "execution_count": 81,
   "id": "461d8d26",
   "metadata": {},
   "outputs": [
    {
     "data": {
      "text/plain": [
       "Ttest_indResult(statistic=-0.02417318239353432, pvalue=0.9807556747599588)"
      ]
     },
     "execution_count": 81,
     "metadata": {},
     "output_type": "execute_result"
    }
   ],
   "source": [
    "scipy.stats.ttest_ind(real_infected, predicted_infected, equal_var=False)"
   ]
  },
  {
   "cell_type": "code",
   "execution_count": 82,
   "id": "be7f5ae3",
   "metadata": {},
   "outputs": [
    {
     "data": {
      "text/plain": [
       "Ttest_indResult(statistic=-0.13485333609462244, pvalue=0.8929595562958634)"
      ]
     },
     "execution_count": 82,
     "metadata": {},
     "output_type": "execute_result"
    }
   ],
   "source": [
    "scipy.stats.ttest_ind(real_recov, predicted_recov, equal_var=False)"
   ]
  },
  {
   "cell_type": "code",
   "execution_count": 83,
   "id": "1020a2e5",
   "metadata": {},
   "outputs": [
    {
     "data": {
      "text/plain": [
       "Ttest_indResult(statistic=0.2099131577556304, pvalue=0.8341126366977136)"
      ]
     },
     "execution_count": 83,
     "metadata": {},
     "output_type": "execute_result"
    }
   ],
   "source": [
    "scipy.stats.ttest_ind(real_vaccinated, predicted_vaccinated, equal_var=False)"
   ]
  },
  {
   "cell_type": "markdown",
   "id": "c3799d0e",
   "metadata": {},
   "source": [
    "#### Segundo momento"
   ]
  },
  {
   "cell_type": "code",
   "execution_count": 84,
   "id": "264555ea",
   "metadata": {},
   "outputs": [
    {
     "data": {
      "text/plain": [
       "BartlettResult(statistic=0.0037152942488554485, pvalue=0.9513964698638504)"
      ]
     },
     "execution_count": 84,
     "metadata": {},
     "output_type": "execute_result"
    }
   ],
   "source": [
    "scipy.stats.bartlett(real_infected, predicted_infected)"
   ]
  },
  {
   "cell_type": "code",
   "execution_count": 85,
   "id": "a8d58a5a",
   "metadata": {},
   "outputs": [
    {
     "data": {
      "text/plain": [
       "BartlettResult(statistic=0.009536563744814217, pvalue=0.9222059863526999)"
      ]
     },
     "execution_count": 85,
     "metadata": {},
     "output_type": "execute_result"
    }
   ],
   "source": [
    "scipy.stats.bartlett(real_recov, predicted_recov)"
   ]
  },
  {
   "cell_type": "markdown",
   "id": "f29f39a8",
   "metadata": {},
   "source": [
    "#### Test de bondad de ajuste de KS"
   ]
  },
  {
   "cell_type": "code",
   "execution_count": 86,
   "id": "8ab4f644",
   "metadata": {},
   "outputs": [
    {
     "data": {
      "text/plain": [
       "KstestResult(statistic=0.18333333333333332, pvalue=0.23503052818957304)"
      ]
     },
     "execution_count": 86,
     "metadata": {},
     "output_type": "execute_result"
    }
   ],
   "source": [
    "scipy.stats.kstest(real_susceptible, predicted_susceptible, method='asymp')"
   ]
  },
  {
   "cell_type": "code",
   "execution_count": 87,
   "id": "681bd62e",
   "metadata": {},
   "outputs": [
    {
     "data": {
      "text/plain": [
       "KstestResult(statistic=0.3220338983050847, pvalue=0.0028709466816607687)"
      ]
     },
     "execution_count": 87,
     "metadata": {},
     "output_type": "execute_result"
    }
   ],
   "source": [
    "scipy.stats.kstest(real_infected, predicted_infected, method='asymp')"
   ]
  },
  {
   "cell_type": "code",
   "execution_count": 88,
   "id": "9e9078f7",
   "metadata": {},
   "outputs": [
    {
     "data": {
      "text/plain": [
       "KstestResult(statistic=0.18333333333333335, pvalue=0.23503052818957304)"
      ]
     },
     "execution_count": 88,
     "metadata": {},
     "output_type": "execute_result"
    }
   ],
   "source": [
    "scipy.stats.kstest(real_recov, predicted_recov, method='asymp')"
   ]
  },
  {
   "cell_type": "code",
   "execution_count": 89,
   "id": "83a52f64",
   "metadata": {},
   "outputs": [
    {
     "data": {
      "text/plain": [
       "KstestResult(statistic=0.18333333333333335, pvalue=0.23503052818957304)"
      ]
     },
     "execution_count": 89,
     "metadata": {},
     "output_type": "execute_result"
    }
   ],
   "source": [
    "scipy.stats.kstest(real_vaccinated, predicted_vaccinated, method='asymp')"
   ]
  },
  {
   "cell_type": "code",
   "execution_count": null,
   "id": "cf38315d",
   "metadata": {},
   "outputs": [],
   "source": []
  },
  {
   "cell_type": "code",
   "execution_count": null,
   "id": "bfdd20c4",
   "metadata": {},
   "outputs": [],
   "source": []
  },
  {
   "cell_type": "code",
   "execution_count": null,
   "id": "e7f9bf17",
   "metadata": {},
   "outputs": [],
   "source": []
  },
  {
   "cell_type": "code",
   "execution_count": null,
   "id": "8bb08e0d",
   "metadata": {},
   "outputs": [],
   "source": []
  }
 ],
 "metadata": {
  "kernelspec": {
   "display_name": "simuladores",
   "language": "python",
   "name": "simuladores"
  },
  "language_info": {
   "codemirror_mode": {
    "name": "ipython",
    "version": 3
   },
   "file_extension": ".py",
   "mimetype": "text/x-python",
   "name": "python",
   "nbconvert_exporter": "python",
   "pygments_lexer": "ipython3",
   "version": "3.9.1"
  }
 },
 "nbformat": 4,
 "nbformat_minor": 5
}
