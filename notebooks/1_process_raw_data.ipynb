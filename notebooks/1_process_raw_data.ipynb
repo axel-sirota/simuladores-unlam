{
 "cells": [
  {
   "cell_type": "code",
   "execution_count": 1,
   "id": "ceb61190",
   "metadata": {},
   "outputs": [],
   "source": [
    "import pandas as pd\n",
    "import os\n",
    "import sys\n",
    "sys.path.append('..')\n",
    "from config import get_project_root\n",
    "\n",
    "DATA_PATH= f\"{get_project_root()}/data\"\n",
    "RAW_PATH = f'{DATA_PATH}/EFE_raw.csv'\n",
    "INITIAL_POP = 44_044_811"
   ]
  },
  {
   "cell_type": "code",
   "execution_count": 2,
   "id": "d6181ce2",
   "metadata": {},
   "outputs": [],
   "source": [
    "def process_raw_data(path):\n",
    "    raw_df = pd.read_csv(path, na_values='NN',thousands=r'.', sep=',')\n",
    "    raw_df.rename(columns={'AÑO':'ANO'}, inplace=True)  # Cambiar las Enies\n",
    "    raw_df.set_index('ANO', inplace=True)  # Indexar por ANO\n",
    "    raw_df.dropna(how='all', inplace=True)  # Remover filas vacias\n",
    "    raw_df.drop(raw_df.tail(2).index,inplace=True)  # Quitar la ultima fila de la pop total\n",
    "    return raw_df\n"
   ]
  },
  {
   "cell_type": "code",
   "execution_count": 3,
   "id": "8764c3c6",
   "metadata": {},
   "outputs": [],
   "source": [
    "def extract_significant_df(raw_df, batch: int):\n",
    "    df = raw_df[raw_df.columns[batch*14:(batch+1)*14]].copy(deep=True)  # Obtener 12 meses y total\n",
    "    df.columns=df.iloc[0]   # Primera fila son las columnas\n",
    "    df.drop(df.head(1).index,inplace=True)  # remover primera fila\n",
    "    df.dropna(how='all', axis=1, inplace=True)\n",
    "    df = df.apply(lambda x: x.str.replace('.', '', regex=False))\n",
    "    df = df.apply(pd.to_numeric)\n",
    "    return df"
   ]
  },
  {
   "cell_type": "code",
   "execution_count": 4,
   "id": "77255e1c",
   "metadata": {},
   "outputs": [
    {
     "data": {
      "text/plain": "     Cantidad de infectados Unnamed: 2 Unnamed: 3 Unnamed: 4 Unnamed: 5  \\\nANO                                                                       \nNaN                     ENE        FEB        MAR        ABR        MAY   \n2018                      0          0          0          0         12   \n2019                      0          0          0        125        125   \n2020                     47         22          7          0          1   \n2021                      0          0          0          0          0   \n2022                      1          0          1          0          0   \n\n     Unnamed: 6 Unnamed: 7 Unnamed: 8 Unnamed: 9 Unnamed: 10  ... Unnamed: 75  \\\nANO                                                           ...               \nNaN         JUN        JUL       AGOS        SEP         OCT  ...         MAY   \n2018          0          0          4          1           2  ...         NaN   \n2019          0          0          0         26          23  ...         NaN   \n2020          0          0          0          0           0  ...         NaN   \n2021          0          0          0          0           0  ...         NaN   \n2022          0        NaN        NaN        NaN         NaN  ...         NaN   \n\n     Unnamed: 76 Unnamed: 77 Unnamed: 78 Unnamed: 79 Unnamed: 80 Unnamed: 81  \\\nANO                                                                            \nNaN          JUN         JUL        AGOS         SEP         OCT         NOV   \n2018         NaN         NaN         NaN         NaN         NaN         NaN   \n2019         NaN         NaN         NaN         NaN         NaN         NaN   \n2020         NaN         NaN         NaN         NaN         NaN         NaN   \n2021         NaN         NaN         NaN         NaN         NaN         NaN   \n2022         NaN         NaN         NaN         NaN         NaN         NaN   \n\n     Unnamed: 82 Unnamed: 83 Unnamed: 84  \nANO                                       \nNaN          DIC       otros       Total  \n2018         NaN         NaN           0  \n2019         NaN         NaN           0  \n2020         NaN         NaN           0  \n2021         NaN         NaN           0  \n2022         NaN         NaN           0  \n\n[6 rows x 84 columns]",
      "text/html": "<div>\n<style scoped>\n    .dataframe tbody tr th:only-of-type {\n        vertical-align: middle;\n    }\n\n    .dataframe tbody tr th {\n        vertical-align: top;\n    }\n\n    .dataframe thead th {\n        text-align: right;\n    }\n</style>\n<table border=\"1\" class=\"dataframe\">\n  <thead>\n    <tr style=\"text-align: right;\">\n      <th></th>\n      <th>Cantidad de infectados</th>\n      <th>Unnamed: 2</th>\n      <th>Unnamed: 3</th>\n      <th>Unnamed: 4</th>\n      <th>Unnamed: 5</th>\n      <th>Unnamed: 6</th>\n      <th>Unnamed: 7</th>\n      <th>Unnamed: 8</th>\n      <th>Unnamed: 9</th>\n      <th>Unnamed: 10</th>\n      <th>...</th>\n      <th>Unnamed: 75</th>\n      <th>Unnamed: 76</th>\n      <th>Unnamed: 77</th>\n      <th>Unnamed: 78</th>\n      <th>Unnamed: 79</th>\n      <th>Unnamed: 80</th>\n      <th>Unnamed: 81</th>\n      <th>Unnamed: 82</th>\n      <th>Unnamed: 83</th>\n      <th>Unnamed: 84</th>\n    </tr>\n    <tr>\n      <th>ANO</th>\n      <th></th>\n      <th></th>\n      <th></th>\n      <th></th>\n      <th></th>\n      <th></th>\n      <th></th>\n      <th></th>\n      <th></th>\n      <th></th>\n      <th></th>\n      <th></th>\n      <th></th>\n      <th></th>\n      <th></th>\n      <th></th>\n      <th></th>\n      <th></th>\n      <th></th>\n      <th></th>\n      <th></th>\n    </tr>\n  </thead>\n  <tbody>\n    <tr>\n      <th>NaN</th>\n      <td>ENE</td>\n      <td>FEB</td>\n      <td>MAR</td>\n      <td>ABR</td>\n      <td>MAY</td>\n      <td>JUN</td>\n      <td>JUL</td>\n      <td>AGOS</td>\n      <td>SEP</td>\n      <td>OCT</td>\n      <td>...</td>\n      <td>MAY</td>\n      <td>JUN</td>\n      <td>JUL</td>\n      <td>AGOS</td>\n      <td>SEP</td>\n      <td>OCT</td>\n      <td>NOV</td>\n      <td>DIC</td>\n      <td>otros</td>\n      <td>Total</td>\n    </tr>\n    <tr>\n      <th>2018</th>\n      <td>0</td>\n      <td>0</td>\n      <td>0</td>\n      <td>0</td>\n      <td>12</td>\n      <td>0</td>\n      <td>0</td>\n      <td>4</td>\n      <td>1</td>\n      <td>2</td>\n      <td>...</td>\n      <td>NaN</td>\n      <td>NaN</td>\n      <td>NaN</td>\n      <td>NaN</td>\n      <td>NaN</td>\n      <td>NaN</td>\n      <td>NaN</td>\n      <td>NaN</td>\n      <td>NaN</td>\n      <td>0</td>\n    </tr>\n    <tr>\n      <th>2019</th>\n      <td>0</td>\n      <td>0</td>\n      <td>0</td>\n      <td>125</td>\n      <td>125</td>\n      <td>0</td>\n      <td>0</td>\n      <td>0</td>\n      <td>26</td>\n      <td>23</td>\n      <td>...</td>\n      <td>NaN</td>\n      <td>NaN</td>\n      <td>NaN</td>\n      <td>NaN</td>\n      <td>NaN</td>\n      <td>NaN</td>\n      <td>NaN</td>\n      <td>NaN</td>\n      <td>NaN</td>\n      <td>0</td>\n    </tr>\n    <tr>\n      <th>2020</th>\n      <td>47</td>\n      <td>22</td>\n      <td>7</td>\n      <td>0</td>\n      <td>1</td>\n      <td>0</td>\n      <td>0</td>\n      <td>0</td>\n      <td>0</td>\n      <td>0</td>\n      <td>...</td>\n      <td>NaN</td>\n      <td>NaN</td>\n      <td>NaN</td>\n      <td>NaN</td>\n      <td>NaN</td>\n      <td>NaN</td>\n      <td>NaN</td>\n      <td>NaN</td>\n      <td>NaN</td>\n      <td>0</td>\n    </tr>\n    <tr>\n      <th>2021</th>\n      <td>0</td>\n      <td>0</td>\n      <td>0</td>\n      <td>0</td>\n      <td>0</td>\n      <td>0</td>\n      <td>0</td>\n      <td>0</td>\n      <td>0</td>\n      <td>0</td>\n      <td>...</td>\n      <td>NaN</td>\n      <td>NaN</td>\n      <td>NaN</td>\n      <td>NaN</td>\n      <td>NaN</td>\n      <td>NaN</td>\n      <td>NaN</td>\n      <td>NaN</td>\n      <td>NaN</td>\n      <td>0</td>\n    </tr>\n    <tr>\n      <th>2022</th>\n      <td>1</td>\n      <td>0</td>\n      <td>1</td>\n      <td>0</td>\n      <td>0</td>\n      <td>0</td>\n      <td>NaN</td>\n      <td>NaN</td>\n      <td>NaN</td>\n      <td>NaN</td>\n      <td>...</td>\n      <td>NaN</td>\n      <td>NaN</td>\n      <td>NaN</td>\n      <td>NaN</td>\n      <td>NaN</td>\n      <td>NaN</td>\n      <td>NaN</td>\n      <td>NaN</td>\n      <td>NaN</td>\n      <td>0</td>\n    </tr>\n  </tbody>\n</table>\n<p>6 rows × 84 columns</p>\n</div>"
     },
     "execution_count": 4,
     "metadata": {},
     "output_type": "execute_result"
    }
   ],
   "source": [
    "raw = process_raw_data(RAW_PATH)\n",
    "raw"
   ]
  },
  {
   "cell_type": "markdown",
   "id": "c3a66bc6",
   "metadata": {},
   "source": [
    "## Infectados"
   ]
  },
  {
   "cell_type": "code",
   "execution_count": 5,
   "id": "1ab342ac",
   "metadata": {},
   "outputs": [],
   "source": [
    "# Infectados son los primeros 14\n",
    "\n",
    "infectados = extract_significant_df(raw, batch=0)"
   ]
  },
  {
   "cell_type": "code",
   "execution_count": 6,
   "id": "980b4263",
   "metadata": {},
   "outputs": [
    {
     "data": {
      "text/plain": "nan   ENE  FEB  MAR  ABR  MAY  JUN  JUL  AGOS   SEP   OCT   NOV   DIC  otros  \\\nANO                                                                            \n2018    0    0    0    0   12    0  0.0   4.0   1.0   2.0   0.0   0.0     12   \n2019    0    0    0  125  125    0  0.0   0.0  26.0  23.0  37.0  31.0    125   \n2020   47   22    7    0    1    0  0.0   0.0   0.0   0.0   0.0   0.0     77   \n2021    0    0    0    0    0    0  0.0   0.0   0.0   0.0   0.0   0.0      0   \n2022    1    0    1    0    0    0  NaN   NaN   NaN   NaN   NaN   NaN      1   \n\nnan   Total  \nANO          \n2018     31  \n2019    492  \n2020    154  \n2021      0  \n2022      3  ",
      "text/html": "<div>\n<style scoped>\n    .dataframe tbody tr th:only-of-type {\n        vertical-align: middle;\n    }\n\n    .dataframe tbody tr th {\n        vertical-align: top;\n    }\n\n    .dataframe thead th {\n        text-align: right;\n    }\n</style>\n<table border=\"1\" class=\"dataframe\">\n  <thead>\n    <tr style=\"text-align: right;\">\n      <th>nan</th>\n      <th>ENE</th>\n      <th>FEB</th>\n      <th>MAR</th>\n      <th>ABR</th>\n      <th>MAY</th>\n      <th>JUN</th>\n      <th>JUL</th>\n      <th>AGOS</th>\n      <th>SEP</th>\n      <th>OCT</th>\n      <th>NOV</th>\n      <th>DIC</th>\n      <th>otros</th>\n      <th>Total</th>\n    </tr>\n    <tr>\n      <th>ANO</th>\n      <th></th>\n      <th></th>\n      <th></th>\n      <th></th>\n      <th></th>\n      <th></th>\n      <th></th>\n      <th></th>\n      <th></th>\n      <th></th>\n      <th></th>\n      <th></th>\n      <th></th>\n      <th></th>\n    </tr>\n  </thead>\n  <tbody>\n    <tr>\n      <th>2018</th>\n      <td>0</td>\n      <td>0</td>\n      <td>0</td>\n      <td>0</td>\n      <td>12</td>\n      <td>0</td>\n      <td>0.0</td>\n      <td>4.0</td>\n      <td>1.0</td>\n      <td>2.0</td>\n      <td>0.0</td>\n      <td>0.0</td>\n      <td>12</td>\n      <td>31</td>\n    </tr>\n    <tr>\n      <th>2019</th>\n      <td>0</td>\n      <td>0</td>\n      <td>0</td>\n      <td>125</td>\n      <td>125</td>\n      <td>0</td>\n      <td>0.0</td>\n      <td>0.0</td>\n      <td>26.0</td>\n      <td>23.0</td>\n      <td>37.0</td>\n      <td>31.0</td>\n      <td>125</td>\n      <td>492</td>\n    </tr>\n    <tr>\n      <th>2020</th>\n      <td>47</td>\n      <td>22</td>\n      <td>7</td>\n      <td>0</td>\n      <td>1</td>\n      <td>0</td>\n      <td>0.0</td>\n      <td>0.0</td>\n      <td>0.0</td>\n      <td>0.0</td>\n      <td>0.0</td>\n      <td>0.0</td>\n      <td>77</td>\n      <td>154</td>\n    </tr>\n    <tr>\n      <th>2021</th>\n      <td>0</td>\n      <td>0</td>\n      <td>0</td>\n      <td>0</td>\n      <td>0</td>\n      <td>0</td>\n      <td>0.0</td>\n      <td>0.0</td>\n      <td>0.0</td>\n      <td>0.0</td>\n      <td>0.0</td>\n      <td>0.0</td>\n      <td>0</td>\n      <td>0</td>\n    </tr>\n    <tr>\n      <th>2022</th>\n      <td>1</td>\n      <td>0</td>\n      <td>1</td>\n      <td>0</td>\n      <td>0</td>\n      <td>0</td>\n      <td>NaN</td>\n      <td>NaN</td>\n      <td>NaN</td>\n      <td>NaN</td>\n      <td>NaN</td>\n      <td>NaN</td>\n      <td>1</td>\n      <td>3</td>\n    </tr>\n  </tbody>\n</table>\n</div>"
     },
     "execution_count": 6,
     "metadata": {},
     "output_type": "execute_result"
    }
   ],
   "source": [
    "infectados"
   ]
  },
  {
   "cell_type": "markdown",
   "id": "26548548",
   "metadata": {},
   "source": [
    "Parece que aca los NaN serian 0 asi se condice con los totales, los ponemos y escribimos el csv correspondiente"
   ]
  },
  {
   "cell_type": "code",
   "execution_count": 7,
   "id": "cbdb61f0",
   "metadata": {},
   "outputs": [
    {
     "data": {
      "text/plain": "nan   ENE  FEB  MAR  ABR  MAY  JUN  JUL  AGOS   SEP   OCT   NOV   DIC  otros  \\\nANO                                                                            \n2018    0    0    0    0   12    0  0.0   4.0   1.0   2.0   0.0   0.0     12   \n2019    0    0    0  125  125    0  0.0   0.0  26.0  23.0  37.0  31.0    125   \n2020   47   22    7    0    1    0  0.0   0.0   0.0   0.0   0.0   0.0     77   \n2021    0    0    0    0    0    0  0.0   0.0   0.0   0.0   0.0   0.0      0   \n2022    1    0    1    0    0    0  0.0   0.0   0.0   0.0   0.0   0.0      1   \n\nnan   Total  \nANO          \n2018     31  \n2019    492  \n2020    154  \n2021      0  \n2022      3  ",
      "text/html": "<div>\n<style scoped>\n    .dataframe tbody tr th:only-of-type {\n        vertical-align: middle;\n    }\n\n    .dataframe tbody tr th {\n        vertical-align: top;\n    }\n\n    .dataframe thead th {\n        text-align: right;\n    }\n</style>\n<table border=\"1\" class=\"dataframe\">\n  <thead>\n    <tr style=\"text-align: right;\">\n      <th>nan</th>\n      <th>ENE</th>\n      <th>FEB</th>\n      <th>MAR</th>\n      <th>ABR</th>\n      <th>MAY</th>\n      <th>JUN</th>\n      <th>JUL</th>\n      <th>AGOS</th>\n      <th>SEP</th>\n      <th>OCT</th>\n      <th>NOV</th>\n      <th>DIC</th>\n      <th>otros</th>\n      <th>Total</th>\n    </tr>\n    <tr>\n      <th>ANO</th>\n      <th></th>\n      <th></th>\n      <th></th>\n      <th></th>\n      <th></th>\n      <th></th>\n      <th></th>\n      <th></th>\n      <th></th>\n      <th></th>\n      <th></th>\n      <th></th>\n      <th></th>\n      <th></th>\n    </tr>\n  </thead>\n  <tbody>\n    <tr>\n      <th>2018</th>\n      <td>0</td>\n      <td>0</td>\n      <td>0</td>\n      <td>0</td>\n      <td>12</td>\n      <td>0</td>\n      <td>0.0</td>\n      <td>4.0</td>\n      <td>1.0</td>\n      <td>2.0</td>\n      <td>0.0</td>\n      <td>0.0</td>\n      <td>12</td>\n      <td>31</td>\n    </tr>\n    <tr>\n      <th>2019</th>\n      <td>0</td>\n      <td>0</td>\n      <td>0</td>\n      <td>125</td>\n      <td>125</td>\n      <td>0</td>\n      <td>0.0</td>\n      <td>0.0</td>\n      <td>26.0</td>\n      <td>23.0</td>\n      <td>37.0</td>\n      <td>31.0</td>\n      <td>125</td>\n      <td>492</td>\n    </tr>\n    <tr>\n      <th>2020</th>\n      <td>47</td>\n      <td>22</td>\n      <td>7</td>\n      <td>0</td>\n      <td>1</td>\n      <td>0</td>\n      <td>0.0</td>\n      <td>0.0</td>\n      <td>0.0</td>\n      <td>0.0</td>\n      <td>0.0</td>\n      <td>0.0</td>\n      <td>77</td>\n      <td>154</td>\n    </tr>\n    <tr>\n      <th>2021</th>\n      <td>0</td>\n      <td>0</td>\n      <td>0</td>\n      <td>0</td>\n      <td>0</td>\n      <td>0</td>\n      <td>0.0</td>\n      <td>0.0</td>\n      <td>0.0</td>\n      <td>0.0</td>\n      <td>0.0</td>\n      <td>0.0</td>\n      <td>0</td>\n      <td>0</td>\n    </tr>\n    <tr>\n      <th>2022</th>\n      <td>1</td>\n      <td>0</td>\n      <td>1</td>\n      <td>0</td>\n      <td>0</td>\n      <td>0</td>\n      <td>0.0</td>\n      <td>0.0</td>\n      <td>0.0</td>\n      <td>0.0</td>\n      <td>0.0</td>\n      <td>0.0</td>\n      <td>1</td>\n      <td>3</td>\n    </tr>\n  </tbody>\n</table>\n</div>"
     },
     "execution_count": 7,
     "metadata": {},
     "output_type": "execute_result"
    }
   ],
   "source": [
    "infectados.fillna(0, inplace=True)\n",
    "infectados"
   ]
  },
  {
   "cell_type": "code",
   "execution_count": 8,
   "id": "09206771",
   "metadata": {},
   "outputs": [],
   "source": [
    "infectados.to_csv(f'{DATA_PATH}/preprocessed/infectados.csv')"
   ]
  },
  {
   "cell_type": "markdown",
   "id": "d4907ff4",
   "metadata": {},
   "source": [
    "## Vacunados"
   ]
  },
  {
   "cell_type": "code",
   "execution_count": 9,
   "id": "c2c3ffbf",
   "metadata": {},
   "outputs": [
    {
     "data": {
      "text/plain": "nan     ENE     FEB     MAR     ABR     MAY    JUN      JUL     AGOS      SEP  \\\nANO                                                                             \n2018  48076   55626   69592   76943   58997  44889  45554.0  66286.0  52629.0   \n2019  51939   65760   67004   59395   60711  47079  51991.0  53737.0  74098.0   \n2020  15092   25081   32811   19156   21227  22352  19945.0  13777.0   6366.0   \n2021   3444    3472    3445    4383    4100   3828   3487.0   2769.0  55193.0   \n2022  88752  247518  227124  178109  136552  72294      NaN      NaN      NaN   \n\nnan        OCT       NOV      DIC    Total  \nANO                                         \n2018  778760.0  258334.0  48350.0  1604036  \n2019  145010.0   99466.0  80905.0   857095  \n2020    4859.0    5921.0   3899.0   190486  \n2021   62399.0   81989.0  52543.0   281052  \n2022       NaN       NaN      NaN   950349  ",
      "text/html": "<div>\n<style scoped>\n    .dataframe tbody tr th:only-of-type {\n        vertical-align: middle;\n    }\n\n    .dataframe tbody tr th {\n        vertical-align: top;\n    }\n\n    .dataframe thead th {\n        text-align: right;\n    }\n</style>\n<table border=\"1\" class=\"dataframe\">\n  <thead>\n    <tr style=\"text-align: right;\">\n      <th>nan</th>\n      <th>ENE</th>\n      <th>FEB</th>\n      <th>MAR</th>\n      <th>ABR</th>\n      <th>MAY</th>\n      <th>JUN</th>\n      <th>JUL</th>\n      <th>AGOS</th>\n      <th>SEP</th>\n      <th>OCT</th>\n      <th>NOV</th>\n      <th>DIC</th>\n      <th>Total</th>\n    </tr>\n    <tr>\n      <th>ANO</th>\n      <th></th>\n      <th></th>\n      <th></th>\n      <th></th>\n      <th></th>\n      <th></th>\n      <th></th>\n      <th></th>\n      <th></th>\n      <th></th>\n      <th></th>\n      <th></th>\n      <th></th>\n    </tr>\n  </thead>\n  <tbody>\n    <tr>\n      <th>2018</th>\n      <td>48076</td>\n      <td>55626</td>\n      <td>69592</td>\n      <td>76943</td>\n      <td>58997</td>\n      <td>44889</td>\n      <td>45554.0</td>\n      <td>66286.0</td>\n      <td>52629.0</td>\n      <td>778760.0</td>\n      <td>258334.0</td>\n      <td>48350.0</td>\n      <td>1604036</td>\n    </tr>\n    <tr>\n      <th>2019</th>\n      <td>51939</td>\n      <td>65760</td>\n      <td>67004</td>\n      <td>59395</td>\n      <td>60711</td>\n      <td>47079</td>\n      <td>51991.0</td>\n      <td>53737.0</td>\n      <td>74098.0</td>\n      <td>145010.0</td>\n      <td>99466.0</td>\n      <td>80905.0</td>\n      <td>857095</td>\n    </tr>\n    <tr>\n      <th>2020</th>\n      <td>15092</td>\n      <td>25081</td>\n      <td>32811</td>\n      <td>19156</td>\n      <td>21227</td>\n      <td>22352</td>\n      <td>19945.0</td>\n      <td>13777.0</td>\n      <td>6366.0</td>\n      <td>4859.0</td>\n      <td>5921.0</td>\n      <td>3899.0</td>\n      <td>190486</td>\n    </tr>\n    <tr>\n      <th>2021</th>\n      <td>3444</td>\n      <td>3472</td>\n      <td>3445</td>\n      <td>4383</td>\n      <td>4100</td>\n      <td>3828</td>\n      <td>3487.0</td>\n      <td>2769.0</td>\n      <td>55193.0</td>\n      <td>62399.0</td>\n      <td>81989.0</td>\n      <td>52543.0</td>\n      <td>281052</td>\n    </tr>\n    <tr>\n      <th>2022</th>\n      <td>88752</td>\n      <td>247518</td>\n      <td>227124</td>\n      <td>178109</td>\n      <td>136552</td>\n      <td>72294</td>\n      <td>NaN</td>\n      <td>NaN</td>\n      <td>NaN</td>\n      <td>NaN</td>\n      <td>NaN</td>\n      <td>NaN</td>\n      <td>950349</td>\n    </tr>\n  </tbody>\n</table>\n</div>"
     },
     "execution_count": 9,
     "metadata": {},
     "output_type": "execute_result"
    }
   ],
   "source": [
    "vacunados = extract_significant_df(raw, batch=1)\n",
    "vacunados"
   ]
  },
  {
   "cell_type": "markdown",
   "id": "67764ce1",
   "metadata": {},
   "source": [
    "Validemos los Nan"
   ]
  },
  {
   "cell_type": "code",
   "execution_count": 10,
   "id": "065c1d17",
   "metadata": {},
   "outputs": [
    {
     "data": {
      "text/plain": "ANO\n2018    True\n2019    True\n2020    True\n2021    True\n2022    True\ndtype: bool"
     },
     "execution_count": 10,
     "metadata": {},
     "output_type": "execute_result"
    }
   ],
   "source": [
    "vacunados[vacunados.columns[0:12]].sum(axis=1) == vacunados.Total"
   ]
  },
  {
   "cell_type": "markdown",
   "id": "e47d2363",
   "metadata": {},
   "source": [
    "En efecto los NaN deberian ser 0"
   ]
  },
  {
   "cell_type": "code",
   "execution_count": 11,
   "id": "4cfef1ea",
   "metadata": {},
   "outputs": [],
   "source": [
    "vacunados.fillna(0, inplace=True)\n",
    "vacunados.to_csv(f'{DATA_PATH}/preprocessed/vacunados.csv')"
   ]
  },
  {
   "cell_type": "markdown",
   "id": "2fd60511",
   "metadata": {},
   "source": [
    "## Habitantes"
   ]
  },
  {
   "cell_type": "code",
   "execution_count": 12,
   "id": "41201e33",
   "metadata": {},
   "outputs": [
    {
     "data": {
      "text/plain": "nan        JUL\nANO           \n2018  44494502\n2019  44938712\n2020  45376763\n2021  45808747\n2022  47327407",
      "text/html": "<div>\n<style scoped>\n    .dataframe tbody tr th:only-of-type {\n        vertical-align: middle;\n    }\n\n    .dataframe tbody tr th {\n        vertical-align: top;\n    }\n\n    .dataframe thead th {\n        text-align: right;\n    }\n</style>\n<table border=\"1\" class=\"dataframe\">\n  <thead>\n    <tr style=\"text-align: right;\">\n      <th>nan</th>\n      <th>JUL</th>\n    </tr>\n    <tr>\n      <th>ANO</th>\n      <th></th>\n    </tr>\n  </thead>\n  <tbody>\n    <tr>\n      <th>2018</th>\n      <td>44494502</td>\n    </tr>\n    <tr>\n      <th>2019</th>\n      <td>44938712</td>\n    </tr>\n    <tr>\n      <th>2020</th>\n      <td>45376763</td>\n    </tr>\n    <tr>\n      <th>2021</th>\n      <td>45808747</td>\n    </tr>\n    <tr>\n      <th>2022</th>\n      <td>47327407</td>\n    </tr>\n  </tbody>\n</table>\n</div>"
     },
     "execution_count": 12,
     "metadata": {},
     "output_type": "execute_result"
    }
   ],
   "source": [
    "habitantes = extract_significant_df(raw, batch=2)\n",
    "habitantes"
   ]
  },
  {
   "cell_type": "code",
   "execution_count": 13,
   "id": "2ba1632b",
   "metadata": {},
   "outputs": [],
   "source": [
    "habitantes.fillna(0, inplace=True)"
   ]
  },
  {
   "cell_type": "code",
   "execution_count": 14,
   "id": "5ef449be",
   "metadata": {},
   "outputs": [],
   "source": [
    "habitantes.fillna(0, inplace=True)\n",
    "habitantes.to_csv(f'{DATA_PATH}/preprocessed/habitantes.csv')"
   ]
  },
  {
   "cell_type": "code",
   "execution_count": 14,
   "id": "f0b816ae",
   "metadata": {},
   "outputs": [],
   "source": []
  }
 ],
 "metadata": {
  "kernelspec": {
   "display_name": "Python 3 (ipykernel)",
   "language": "python",
   "name": "python3"
  },
  "language_info": {
   "codemirror_mode": {
    "name": "ipython",
    "version": 3
   },
   "file_extension": ".py",
   "mimetype": "text/x-python",
   "name": "python",
   "nbconvert_exporter": "python",
   "pygments_lexer": "ipython3",
   "version": "3.9.1"
  }
 },
 "nbformat": 4,
 "nbformat_minor": 5
}