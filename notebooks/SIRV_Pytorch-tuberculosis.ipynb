{
 "cells": [
  {
   "cell_type": "code",
   "execution_count": 1,
   "id": "94c58b65",
   "metadata": {},
   "outputs": [],
   "source": [
    "import sys\n",
    "import os\n",
    "sys.path.append('..')\n",
    "import numpy as np\n",
    "import pandas as pd\n",
    "from models import sir\n",
    "from config import get_project_root\n",
    "import torchmetrics\n",
    "from models.pytorchtools import EarlyStopping"
   ]
  },
  {
   "cell_type": "code",
   "execution_count": 2,
   "id": "0bcfc515",
   "metadata": {},
   "outputs": [],
   "source": [
    "enfermedad='tuberculosis'\n",
    "DATA_FOLDER = f'{get_project_root()}/data'\n",
    "INFECTADOS_PATH = f'{DATA_FOLDER}/extrapolated/infectados_{enfermedad}_extrapolado.csv'\n",
    "HABITANTES_PATH = f'{DATA_FOLDER}/extrapolated/habitantes_{enfermedad}_extrapolado.csv'\n",
    "VACUNADOS_PATH = f'{DATA_FOLDER}/extrapolated/vacunados_{enfermedad}_extrapolado.csv'\n",
    "FINAL_PATH=f'{DATA_FOLDER}/final/{enfermedad}_extrapolado.csv'\n",
    "YEARS = [2018, 2019, 2020, 2021, 2022]\n",
    "MONTHS = ['ENE', 'FEB', 'MAR', 'ABR', 'MAY', 'JUN', 'JUL', 'AGOS', 'SEP', 'OCT', 'NOV', 'DIC']\n"
   ]
  },
  {
   "cell_type": "code",
   "execution_count": 3,
   "id": "9b58ccf0",
   "metadata": {},
   "outputs": [
    {
     "data": {
      "text/plain": [
       "46234830"
      ]
     },
     "execution_count": 3,
     "metadata": {},
     "output_type": "execute_result"
    }
   ],
   "source": [
    "habitantes_curve = pd.read_csv(HABITANTES_PATH).set_index('ANO')\n",
    "for month in MONTHS:\n",
    "    habitantes_curve[month] = habitantes_curve['JUL']\n",
    "max_habs = habitantes_curve.max().max()\n",
    "max_habs"
   ]
  },
  {
   "cell_type": "code",
   "execution_count": 4,
   "id": "261f888d",
   "metadata": {},
   "outputs": [],
   "source": [
    "def extract_curve(path=None, df=None):\n",
    "    if df is None:\n",
    "        df = pd.read_csv(path).set_index('ANO')\n",
    "    df = df[df.columns[:12]].T\n",
    "    values = []\n",
    "    for year in YEARS:\n",
    "        values.extend(df[year].tolist())\n",
    "    return pd.Series(values)\n",
    "\n",
    "infectuous_curve = extract_curve(path=INFECTADOS_PATH)  \n",
    "vacunados_curve = extract_curve(path=VACUNADOS_PATH)\n",
    "recovered_curve = pd.Series([0]*len(infectuous_curve))\n",
    "max_habs = max([habitantes_curve.max().max(), vacunados_curve.max().max()])"
   ]
  },
  {
   "cell_type": "code",
   "execution_count": 5,
   "id": "418a99c1",
   "metadata": {},
   "outputs": [
    {
     "data": {
      "text/html": [
       "<div>\n",
       "<style scoped>\n",
       "    .dataframe tbody tr th:only-of-type {\n",
       "        vertical-align: middle;\n",
       "    }\n",
       "\n",
       "    .dataframe tbody tr th {\n",
       "        vertical-align: top;\n",
       "    }\n",
       "\n",
       "    .dataframe thead th {\n",
       "        text-align: right;\n",
       "    }\n",
       "</style>\n",
       "<table border=\"1\" class=\"dataframe\">\n",
       "  <thead>\n",
       "    <tr style=\"text-align: right;\">\n",
       "      <th></th>\n",
       "      <th>ENE</th>\n",
       "      <th>FEB</th>\n",
       "      <th>MAR</th>\n",
       "      <th>ABR</th>\n",
       "      <th>MAY</th>\n",
       "      <th>JUN</th>\n",
       "      <th>JUL</th>\n",
       "      <th>AGOS</th>\n",
       "      <th>SEP</th>\n",
       "      <th>OCT</th>\n",
       "      <th>NOV</th>\n",
       "      <th>DIC</th>\n",
       "    </tr>\n",
       "    <tr>\n",
       "      <th>ANO</th>\n",
       "      <th></th>\n",
       "      <th></th>\n",
       "      <th></th>\n",
       "      <th></th>\n",
       "      <th></th>\n",
       "      <th></th>\n",
       "      <th></th>\n",
       "      <th></th>\n",
       "      <th></th>\n",
       "      <th></th>\n",
       "      <th></th>\n",
       "      <th></th>\n",
       "    </tr>\n",
       "  </thead>\n",
       "  <tbody>\n",
       "    <tr>\n",
       "      <th>2018</th>\n",
       "      <td>44494502</td>\n",
       "      <td>44494502</td>\n",
       "      <td>44494502</td>\n",
       "      <td>44494502</td>\n",
       "      <td>44494502</td>\n",
       "      <td>44494502</td>\n",
       "      <td>44494502</td>\n",
       "      <td>44494502</td>\n",
       "      <td>44494502</td>\n",
       "      <td>44494502</td>\n",
       "      <td>44494502</td>\n",
       "      <td>44494502</td>\n",
       "    </tr>\n",
       "    <tr>\n",
       "      <th>2019</th>\n",
       "      <td>44938712</td>\n",
       "      <td>44938712</td>\n",
       "      <td>44938712</td>\n",
       "      <td>44938712</td>\n",
       "      <td>44938712</td>\n",
       "      <td>44938712</td>\n",
       "      <td>44938712</td>\n",
       "      <td>44938712</td>\n",
       "      <td>44938712</td>\n",
       "      <td>44938712</td>\n",
       "      <td>44938712</td>\n",
       "      <td>44938712</td>\n",
       "    </tr>\n",
       "    <tr>\n",
       "      <th>2020</th>\n",
       "      <td>45376763</td>\n",
       "      <td>45376763</td>\n",
       "      <td>45376763</td>\n",
       "      <td>45376763</td>\n",
       "      <td>45376763</td>\n",
       "      <td>45376763</td>\n",
       "      <td>45376763</td>\n",
       "      <td>45376763</td>\n",
       "      <td>45376763</td>\n",
       "      <td>45376763</td>\n",
       "      <td>45376763</td>\n",
       "      <td>45376763</td>\n",
       "    </tr>\n",
       "    <tr>\n",
       "      <th>2021</th>\n",
       "      <td>45808747</td>\n",
       "      <td>45808747</td>\n",
       "      <td>45808747</td>\n",
       "      <td>45808747</td>\n",
       "      <td>45808747</td>\n",
       "      <td>45808747</td>\n",
       "      <td>45808747</td>\n",
       "      <td>45808747</td>\n",
       "      <td>45808747</td>\n",
       "      <td>45808747</td>\n",
       "      <td>45808747</td>\n",
       "      <td>45808747</td>\n",
       "    </tr>\n",
       "    <tr>\n",
       "      <th>2022</th>\n",
       "      <td>46234830</td>\n",
       "      <td>46234830</td>\n",
       "      <td>46234830</td>\n",
       "      <td>46234830</td>\n",
       "      <td>46234830</td>\n",
       "      <td>46234830</td>\n",
       "      <td>46234830</td>\n",
       "      <td>46234830</td>\n",
       "      <td>46234830</td>\n",
       "      <td>46234830</td>\n",
       "      <td>46234830</td>\n",
       "      <td>46234830</td>\n",
       "    </tr>\n",
       "  </tbody>\n",
       "</table>\n",
       "</div>"
      ],
      "text/plain": [
       "           ENE       FEB       MAR       ABR       MAY       JUN       JUL  \\\n",
       "ANO                                                                          \n",
       "2018  44494502  44494502  44494502  44494502  44494502  44494502  44494502   \n",
       "2019  44938712  44938712  44938712  44938712  44938712  44938712  44938712   \n",
       "2020  45376763  45376763  45376763  45376763  45376763  45376763  45376763   \n",
       "2021  45808747  45808747  45808747  45808747  45808747  45808747  45808747   \n",
       "2022  46234830  46234830  46234830  46234830  46234830  46234830  46234830   \n",
       "\n",
       "          AGOS       SEP       OCT       NOV       DIC  \n",
       "ANO                                                     \n",
       "2018  44494502  44494502  44494502  44494502  44494502  \n",
       "2019  44938712  44938712  44938712  44938712  44938712  \n",
       "2020  45376763  45376763  45376763  45376763  45376763  \n",
       "2021  45808747  45808747  45808747  45808747  45808747  \n",
       "2022  46234830  46234830  46234830  46234830  46234830  "
      ]
     },
     "execution_count": 5,
     "metadata": {},
     "output_type": "execute_result"
    }
   ],
   "source": [
    "habitantes_curve"
   ]
  },
  {
   "cell_type": "code",
   "execution_count": 6,
   "id": "f5c8c6cb",
   "metadata": {},
   "outputs": [],
   "source": [
    "for ix, val in enumerate(infectuous_curve):\n",
    "    try:\n",
    "        recovered_curve[ix+1] += val\n",
    "    except KeyError:\n",
    "        continue"
   ]
  },
  {
   "cell_type": "code",
   "execution_count": 7,
   "id": "3848039b",
   "metadata": {},
   "outputs": [],
   "source": [
    "susceptible_curve = max_habs - infectuous_curve - vacunados_curve - recovered_curve\n",
    "\n"
   ]
  },
  {
   "cell_type": "code",
   "execution_count": 8,
   "id": "b781eec1",
   "metadata": {},
   "outputs": [],
   "source": [
    "data = pd.concat([susceptible_curve, infectuous_curve, recovered_curve, vacunados_curve], axis=1).rename(columns={0:'Susceptible', 1:'Infectados', 2:'Recuperados', 3:'Vacunados'})\n",
    "infectados_real = data.diff()['Infectados']\n",
    "infectados_real.loc[0] = 0\n",
    "infectados_real\n",
    "data['Infectados'] = infectados_real"
   ]
  },
  {
   "cell_type": "code",
   "execution_count": 9,
   "id": "62d1c4f9",
   "metadata": {},
   "outputs": [
    {
     "data": {
      "text/html": [
       "<div>\n",
       "<style scoped>\n",
       "    .dataframe tbody tr th:only-of-type {\n",
       "        vertical-align: middle;\n",
       "    }\n",
       "\n",
       "    .dataframe tbody tr th {\n",
       "        vertical-align: top;\n",
       "    }\n",
       "\n",
       "    .dataframe thead th {\n",
       "        text-align: right;\n",
       "    }\n",
       "</style>\n",
       "<table border=\"1\" class=\"dataframe\">\n",
       "  <thead>\n",
       "    <tr style=\"text-align: right;\">\n",
       "      <th></th>\n",
       "      <th>Susceptible</th>\n",
       "      <th>Infectados</th>\n",
       "      <th>Recuperados</th>\n",
       "      <th>Vacunados</th>\n",
       "    </tr>\n",
       "  </thead>\n",
       "  <tbody>\n",
       "    <tr>\n",
       "      <th>0</th>\n",
       "      <td>46219260.0</td>\n",
       "      <td>0.0</td>\n",
       "      <td>0</td>\n",
       "      <td>15570.0</td>\n",
       "    </tr>\n",
       "    <tr>\n",
       "      <th>1</th>\n",
       "      <td>46205896.0</td>\n",
       "      <td>0.0</td>\n",
       "      <td>0</td>\n",
       "      <td>28934.0</td>\n",
       "    </tr>\n",
       "    <tr>\n",
       "      <th>2</th>\n",
       "      <td>46190196.0</td>\n",
       "      <td>0.0</td>\n",
       "      <td>0</td>\n",
       "      <td>44634.0</td>\n",
       "    </tr>\n",
       "    <tr>\n",
       "      <th>3</th>\n",
       "      <td>46175861.0</td>\n",
       "      <td>0.0</td>\n",
       "      <td>0</td>\n",
       "      <td>58969.0</td>\n",
       "    </tr>\n",
       "    <tr>\n",
       "      <th>4</th>\n",
       "      <td>46161539.0</td>\n",
       "      <td>0.0</td>\n",
       "      <td>0</td>\n",
       "      <td>73291.0</td>\n",
       "    </tr>\n",
       "    <tr>\n",
       "      <th>5</th>\n",
       "      <td>46148087.0</td>\n",
       "      <td>0.0</td>\n",
       "      <td>0</td>\n",
       "      <td>86743.0</td>\n",
       "    </tr>\n",
       "    <tr>\n",
       "      <th>6</th>\n",
       "      <td>46134589.0</td>\n",
       "      <td>0.0</td>\n",
       "      <td>0</td>\n",
       "      <td>100241.0</td>\n",
       "    </tr>\n",
       "    <tr>\n",
       "      <th>7</th>\n",
       "      <td>46119625.0</td>\n",
       "      <td>12.0</td>\n",
       "      <td>0</td>\n",
       "      <td>115193.0</td>\n",
       "    </tr>\n",
       "    <tr>\n",
       "      <th>8</th>\n",
       "      <td>46105437.0</td>\n",
       "      <td>9.0</td>\n",
       "      <td>12</td>\n",
       "      <td>129360.0</td>\n",
       "    </tr>\n",
       "    <tr>\n",
       "      <th>9</th>\n",
       "      <td>46091415.0</td>\n",
       "      <td>0.0</td>\n",
       "      <td>21</td>\n",
       "      <td>143373.0</td>\n",
       "    </tr>\n",
       "    <tr>\n",
       "      <th>10</th>\n",
       "      <td>46078611.0</td>\n",
       "      <td>0.0</td>\n",
       "      <td>21</td>\n",
       "      <td>156177.0</td>\n",
       "    </tr>\n",
       "    <tr>\n",
       "      <th>11</th>\n",
       "      <td>46065943.0</td>\n",
       "      <td>42.0</td>\n",
       "      <td>21</td>\n",
       "      <td>168803.0</td>\n",
       "    </tr>\n",
       "    <tr>\n",
       "      <th>12</th>\n",
       "      <td>46051702.0</td>\n",
       "      <td>0.0</td>\n",
       "      <td>63</td>\n",
       "      <td>183002.0</td>\n",
       "    </tr>\n",
       "    <tr>\n",
       "      <th>13</th>\n",
       "      <td>46038473.0</td>\n",
       "      <td>0.0</td>\n",
       "      <td>63</td>\n",
       "      <td>196231.0</td>\n",
       "    </tr>\n",
       "    <tr>\n",
       "      <th>14</th>\n",
       "      <td>46023868.0</td>\n",
       "      <td>0.0</td>\n",
       "      <td>63</td>\n",
       "      <td>210836.0</td>\n",
       "    </tr>\n",
       "    <tr>\n",
       "      <th>15</th>\n",
       "      <td>46009443.0</td>\n",
       "      <td>214.0</td>\n",
       "      <td>63</td>\n",
       "      <td>225047.0</td>\n",
       "    </tr>\n",
       "    <tr>\n",
       "      <th>16</th>\n",
       "      <td>45995057.0</td>\n",
       "      <td>0.0</td>\n",
       "      <td>277</td>\n",
       "      <td>239219.0</td>\n",
       "    </tr>\n",
       "    <tr>\n",
       "      <th>17</th>\n",
       "      <td>45981636.0</td>\n",
       "      <td>239.0</td>\n",
       "      <td>277</td>\n",
       "      <td>252401.0</td>\n",
       "    </tr>\n",
       "    <tr>\n",
       "      <th>18</th>\n",
       "      <td>45967504.0</td>\n",
       "      <td>425.0</td>\n",
       "      <td>516</td>\n",
       "      <td>265869.0</td>\n",
       "    </tr>\n",
       "    <tr>\n",
       "      <th>19</th>\n",
       "      <td>45953635.0</td>\n",
       "      <td>656.0</td>\n",
       "      <td>941</td>\n",
       "      <td>278657.0</td>\n",
       "    </tr>\n",
       "    <tr>\n",
       "      <th>20</th>\n",
       "      <td>45940047.0</td>\n",
       "      <td>640.0</td>\n",
       "      <td>1597</td>\n",
       "      <td>290949.0</td>\n",
       "    </tr>\n",
       "    <tr>\n",
       "      <th>21</th>\n",
       "      <td>45927249.0</td>\n",
       "      <td>902.0</td>\n",
       "      <td>2237</td>\n",
       "      <td>302205.0</td>\n",
       "    </tr>\n",
       "    <tr>\n",
       "      <th>22</th>\n",
       "      <td>45915134.0</td>\n",
       "      <td>680.0</td>\n",
       "      <td>3139</td>\n",
       "      <td>312738.0</td>\n",
       "    </tr>\n",
       "    <tr>\n",
       "      <th>23</th>\n",
       "      <td>45896511.0</td>\n",
       "      <td>5530.0</td>\n",
       "      <td>3819</td>\n",
       "      <td>325151.0</td>\n",
       "    </tr>\n",
       "    <tr>\n",
       "      <th>24</th>\n",
       "      <td>45877632.0</td>\n",
       "      <td>705.0</td>\n",
       "      <td>9349</td>\n",
       "      <td>337795.0</td>\n",
       "    </tr>\n",
       "    <tr>\n",
       "      <th>25</th>\n",
       "      <td>45866261.0</td>\n",
       "      <td>426.0</td>\n",
       "      <td>10054</td>\n",
       "      <td>348035.0</td>\n",
       "    </tr>\n",
       "    <tr>\n",
       "      <th>26</th>\n",
       "      <td>45857582.0</td>\n",
       "      <td>185.0</td>\n",
       "      <td>10480</td>\n",
       "      <td>356103.0</td>\n",
       "    </tr>\n",
       "    <tr>\n",
       "      <th>27</th>\n",
       "      <td>45849533.0</td>\n",
       "      <td>709.0</td>\n",
       "      <td>10665</td>\n",
       "      <td>363258.0</td>\n",
       "    </tr>\n",
       "    <tr>\n",
       "      <th>28</th>\n",
       "      <td>45839961.0</td>\n",
       "      <td>922.0</td>\n",
       "      <td>11374</td>\n",
       "      <td>371199.0</td>\n",
       "    </tr>\n",
       "    <tr>\n",
       "      <th>29</th>\n",
       "      <td>45830196.0</td>\n",
       "      <td>217.0</td>\n",
       "      <td>12296</td>\n",
       "      <td>379825.0</td>\n",
       "    </tr>\n",
       "    <tr>\n",
       "      <th>30</th>\n",
       "      <td>45821164.0</td>\n",
       "      <td>397.0</td>\n",
       "      <td>12513</td>\n",
       "      <td>388243.0</td>\n",
       "    </tr>\n",
       "    <tr>\n",
       "      <th>31</th>\n",
       "      <td>45812396.0</td>\n",
       "      <td>557.0</td>\n",
       "      <td>12910</td>\n",
       "      <td>396057.0</td>\n",
       "    </tr>\n",
       "    <tr>\n",
       "      <th>32</th>\n",
       "      <td>45803710.0</td>\n",
       "      <td>0.0</td>\n",
       "      <td>13467</td>\n",
       "      <td>404186.0</td>\n",
       "    </tr>\n",
       "    <tr>\n",
       "      <th>33</th>\n",
       "      <td>45796996.0</td>\n",
       "      <td>0.0</td>\n",
       "      <td>13467</td>\n",
       "      <td>410900.0</td>\n",
       "    </tr>\n",
       "    <tr>\n",
       "      <th>34</th>\n",
       "      <td>45790081.0</td>\n",
       "      <td>217.0</td>\n",
       "      <td>13467</td>\n",
       "      <td>417598.0</td>\n",
       "    </tr>\n",
       "    <tr>\n",
       "      <th>35</th>\n",
       "      <td>45777900.0</td>\n",
       "      <td>4972.0</td>\n",
       "      <td>13684</td>\n",
       "      <td>424590.0</td>\n",
       "    </tr>\n",
       "    <tr>\n",
       "      <th>36</th>\n",
       "      <td>45764733.0</td>\n",
       "      <td>0.0</td>\n",
       "      <td>18656</td>\n",
       "      <td>432785.0</td>\n",
       "    </tr>\n",
       "    <tr>\n",
       "      <th>37</th>\n",
       "      <td>45756545.0</td>\n",
       "      <td>0.0</td>\n",
       "      <td>18656</td>\n",
       "      <td>440973.0</td>\n",
       "    </tr>\n",
       "    <tr>\n",
       "      <th>38</th>\n",
       "      <td>45747635.0</td>\n",
       "      <td>0.0</td>\n",
       "      <td>18656</td>\n",
       "      <td>449883.0</td>\n",
       "    </tr>\n",
       "    <tr>\n",
       "      <th>39</th>\n",
       "      <td>45739261.0</td>\n",
       "      <td>0.0</td>\n",
       "      <td>18656</td>\n",
       "      <td>458257.0</td>\n",
       "    </tr>\n",
       "    <tr>\n",
       "      <th>40</th>\n",
       "      <td>45731575.0</td>\n",
       "      <td>214.0</td>\n",
       "      <td>18656</td>\n",
       "      <td>465729.0</td>\n",
       "    </tr>\n",
       "    <tr>\n",
       "      <th>41</th>\n",
       "      <td>45724380.0</td>\n",
       "      <td>0.0</td>\n",
       "      <td>18870</td>\n",
       "      <td>472710.0</td>\n",
       "    </tr>\n",
       "    <tr>\n",
       "      <th>42</th>\n",
       "      <td>45717358.0</td>\n",
       "      <td>440.0</td>\n",
       "      <td>18870</td>\n",
       "      <td>479292.0</td>\n",
       "    </tr>\n",
       "    <tr>\n",
       "      <th>43</th>\n",
       "      <td>45710224.0</td>\n",
       "      <td>1041.0</td>\n",
       "      <td>19310</td>\n",
       "      <td>484945.0</td>\n",
       "    </tr>\n",
       "    <tr>\n",
       "      <th>44</th>\n",
       "      <td>45697525.0</td>\n",
       "      <td>1060.0</td>\n",
       "      <td>20351</td>\n",
       "      <td>495543.0</td>\n",
       "    </tr>\n",
       "    <tr>\n",
       "      <th>45</th>\n",
       "      <td>45685597.0</td>\n",
       "      <td>513.0</td>\n",
       "      <td>21411</td>\n",
       "      <td>505898.0</td>\n",
       "    </tr>\n",
       "    <tr>\n",
       "      <th>46</th>\n",
       "      <td>45673648.0</td>\n",
       "      <td>1143.0</td>\n",
       "      <td>21924</td>\n",
       "      <td>516191.0</td>\n",
       "    </tr>\n",
       "    <tr>\n",
       "      <th>47</th>\n",
       "      <td>45656662.0</td>\n",
       "      <td>5602.0</td>\n",
       "      <td>23067</td>\n",
       "      <td>526432.0</td>\n",
       "    </tr>\n",
       "    <tr>\n",
       "      <th>48</th>\n",
       "      <td>45634667.0</td>\n",
       "      <td>0.0</td>\n",
       "      <td>28669</td>\n",
       "      <td>542825.0</td>\n",
       "    </tr>\n",
       "    <tr>\n",
       "      <th>49</th>\n",
       "      <td>45618520.0</td>\n",
       "      <td>0.0</td>\n",
       "      <td>28669</td>\n",
       "      <td>558972.0</td>\n",
       "    </tr>\n",
       "    <tr>\n",
       "      <th>50</th>\n",
       "      <td>45598793.0</td>\n",
       "      <td>275.0</td>\n",
       "      <td>28669</td>\n",
       "      <td>578424.0</td>\n",
       "    </tr>\n",
       "    <tr>\n",
       "      <th>51</th>\n",
       "      <td>45579112.0</td>\n",
       "      <td>619.0</td>\n",
       "      <td>28944</td>\n",
       "      <td>597211.0</td>\n",
       "    </tr>\n",
       "    <tr>\n",
       "      <th>52</th>\n",
       "      <td>45558239.0</td>\n",
       "      <td>682.0</td>\n",
       "      <td>29563</td>\n",
       "      <td>616783.0</td>\n",
       "    </tr>\n",
       "    <tr>\n",
       "      <th>53</th>\n",
       "      <td>45538550.0</td>\n",
       "      <td>402.0</td>\n",
       "      <td>30245</td>\n",
       "      <td>635388.0</td>\n",
       "    </tr>\n",
       "    <tr>\n",
       "      <th>54</th>\n",
       "      <td>45518331.0</td>\n",
       "      <td>604.0</td>\n",
       "      <td>30647</td>\n",
       "      <td>654601.0</td>\n",
       "    </tr>\n",
       "    <tr>\n",
       "      <th>55</th>\n",
       "      <td>45499026.0</td>\n",
       "      <td>946.0</td>\n",
       "      <td>31251</td>\n",
       "      <td>672356.0</td>\n",
       "    </tr>\n",
       "    <tr>\n",
       "      <th>56</th>\n",
       "      <td>45482186.0</td>\n",
       "      <td>1001.0</td>\n",
       "      <td>32197</td>\n",
       "      <td>687249.0</td>\n",
       "    </tr>\n",
       "    <tr>\n",
       "      <th>57</th>\n",
       "      <td>45481185.0</td>\n",
       "      <td>0.0</td>\n",
       "      <td>33198</td>\n",
       "      <td>687249.0</td>\n",
       "    </tr>\n",
       "    <tr>\n",
       "      <th>58</th>\n",
       "      <td>45481185.0</td>\n",
       "      <td>0.0</td>\n",
       "      <td>33198</td>\n",
       "      <td>687249.0</td>\n",
       "    </tr>\n",
       "    <tr>\n",
       "      <th>59</th>\n",
       "      <td>45480900.0</td>\n",
       "      <td>285.0</td>\n",
       "      <td>33198</td>\n",
       "      <td>687249.0</td>\n",
       "    </tr>\n",
       "  </tbody>\n",
       "</table>\n",
       "</div>"
      ],
      "text/plain": [
       "    Susceptible  Infectados  Recuperados  Vacunados\n",
       "0    46219260.0         0.0            0    15570.0\n",
       "1    46205896.0         0.0            0    28934.0\n",
       "2    46190196.0         0.0            0    44634.0\n",
       "3    46175861.0         0.0            0    58969.0\n",
       "4    46161539.0         0.0            0    73291.0\n",
       "5    46148087.0         0.0            0    86743.0\n",
       "6    46134589.0         0.0            0   100241.0\n",
       "7    46119625.0        12.0            0   115193.0\n",
       "8    46105437.0         9.0           12   129360.0\n",
       "9    46091415.0         0.0           21   143373.0\n",
       "10   46078611.0         0.0           21   156177.0\n",
       "11   46065943.0        42.0           21   168803.0\n",
       "12   46051702.0         0.0           63   183002.0\n",
       "13   46038473.0         0.0           63   196231.0\n",
       "14   46023868.0         0.0           63   210836.0\n",
       "15   46009443.0       214.0           63   225047.0\n",
       "16   45995057.0         0.0          277   239219.0\n",
       "17   45981636.0       239.0          277   252401.0\n",
       "18   45967504.0       425.0          516   265869.0\n",
       "19   45953635.0       656.0          941   278657.0\n",
       "20   45940047.0       640.0         1597   290949.0\n",
       "21   45927249.0       902.0         2237   302205.0\n",
       "22   45915134.0       680.0         3139   312738.0\n",
       "23   45896511.0      5530.0         3819   325151.0\n",
       "24   45877632.0       705.0         9349   337795.0\n",
       "25   45866261.0       426.0        10054   348035.0\n",
       "26   45857582.0       185.0        10480   356103.0\n",
       "27   45849533.0       709.0        10665   363258.0\n",
       "28   45839961.0       922.0        11374   371199.0\n",
       "29   45830196.0       217.0        12296   379825.0\n",
       "30   45821164.0       397.0        12513   388243.0\n",
       "31   45812396.0       557.0        12910   396057.0\n",
       "32   45803710.0         0.0        13467   404186.0\n",
       "33   45796996.0         0.0        13467   410900.0\n",
       "34   45790081.0       217.0        13467   417598.0\n",
       "35   45777900.0      4972.0        13684   424590.0\n",
       "36   45764733.0         0.0        18656   432785.0\n",
       "37   45756545.0         0.0        18656   440973.0\n",
       "38   45747635.0         0.0        18656   449883.0\n",
       "39   45739261.0         0.0        18656   458257.0\n",
       "40   45731575.0       214.0        18656   465729.0\n",
       "41   45724380.0         0.0        18870   472710.0\n",
       "42   45717358.0       440.0        18870   479292.0\n",
       "43   45710224.0      1041.0        19310   484945.0\n",
       "44   45697525.0      1060.0        20351   495543.0\n",
       "45   45685597.0       513.0        21411   505898.0\n",
       "46   45673648.0      1143.0        21924   516191.0\n",
       "47   45656662.0      5602.0        23067   526432.0\n",
       "48   45634667.0         0.0        28669   542825.0\n",
       "49   45618520.0         0.0        28669   558972.0\n",
       "50   45598793.0       275.0        28669   578424.0\n",
       "51   45579112.0       619.0        28944   597211.0\n",
       "52   45558239.0       682.0        29563   616783.0\n",
       "53   45538550.0       402.0        30245   635388.0\n",
       "54   45518331.0       604.0        30647   654601.0\n",
       "55   45499026.0       946.0        31251   672356.0\n",
       "56   45482186.0      1001.0        32197   687249.0\n",
       "57   45481185.0         0.0        33198   687249.0\n",
       "58   45481185.0         0.0        33198   687249.0\n",
       "59   45480900.0       285.0        33198   687249.0"
      ]
     },
     "execution_count": 9,
     "metadata": {},
     "output_type": "execute_result"
    }
   ],
   "source": [
    "data"
   ]
  },
  {
   "cell_type": "code",
   "execution_count": 10,
   "id": "7d7850f1",
   "metadata": {},
   "outputs": [],
   "source": [
    "data_numpy = np.array(data)/max_habs"
   ]
  },
  {
   "cell_type": "code",
   "execution_count": 11,
   "id": "dd08e581",
   "metadata": {},
   "outputs": [],
   "source": [
    "import torch\n",
    "import torch.nn as nn\n",
    "import torch.nn.functional as F\n"
   ]
  },
  {
   "cell_type": "code",
   "execution_count": 12,
   "id": "780383ea",
   "metadata": {},
   "outputs": [],
   "source": [
    "class SIRV(nn.Module):\n",
    "    def __init__(self, epsilon=1e-7):\n",
    "        super(SIRV, self).__init__()\n",
    "        self.lambda1 = nn.Linear(1,1, bias = False) # tasa de contacto efectivo\n",
    "        self.lambda2 = nn.Linear(1,1, bias = False) # tasa de immunizacion\n",
    "        self.lambda3 = nn.Linear(1,1, bias = False) # tasa de recuperacion\n",
    "        torch.nn.init.xavier_uniform_(self.lambda1.weight, gain=0.01)\n",
    "        torch.nn.init.xavier_uniform_(self.lambda2.weight, gain=0.01)\n",
    "        torch.nn.init.xavier_uniform_(self.lambda3.weight, gain=0.01)\n",
    "        self.epsilon = epsilon\n",
    "    \n",
    "    def forward(self, x, size_of_starter_set, amount_of_prediction_in_future):\n",
    "        assert size_of_starter_set < amount_of_prediction_in_future\n",
    "        ns = torch.zeros([amount_of_prediction_in_future, 4],dtype=torch.float, requires_grad = False)\n",
    "        torch.nn.init.xavier_uniform_(ns, gain=0.01)\n",
    "        x[x==0] = self.epsilon\n",
    "        ns[:x.shape[0]] = x.view(x.shape[0], 4).clone()\n",
    "        for i in range(size_of_starter_set,amount_of_prediction_in_future):\n",
    "            a = ns[i-1].clone()\n",
    "            ns[i][0] = a[0].view(1,1) - self.lambda1(a[0]*a[1].view(1,1)) - self.lambda2(a[0].view(1,1))\n",
    "            ns[i][1] = a[1].view(1,1) + self.lambda1(a[0]*a[1].view(1,1)) - self.lambda3(a[1].view(1,1))  - self.lambda2(a[1].view(1,1))\n",
    "            ns[i][2] = a[2].view(1,1) + self.lambda3(a[1].view(1,1))\n",
    "            ns[i][3] = a[3].view(1,1) + self.lambda2(a[0].view(1,1)) + self.lambda2(a[1].view(1,1)) \n",
    "        return ns[1:].reshape(-1,4)\n"
   ]
  },
  {
   "cell_type": "code",
   "execution_count": 13,
   "id": "f8a93328",
   "metadata": {},
   "outputs": [],
   "source": [
    "def loss_custom(pred, actual):\n",
    "    loss_func = nn.SmoothL1Loss()\n",
    "    loss_big = loss_func(pred[:,3], actual[:,3]) + loss_func(pred[:,0], actual[:,0])\n",
    "    loss_small = loss_func(pred[:,1], actual[:,1]) + loss_func(pred[:,2], actual[:,2])\n",
    "    return 1000*loss_small + loss_big"
   ]
  },
  {
   "cell_type": "code",
   "execution_count": 14,
   "id": "e50c1d31",
   "metadata": {
    "scrolled": false
   },
   "outputs": [],
   "source": [
    "y = torch.from_numpy(data_numpy.astype(np.float32))\n"
   ]
  },
  {
   "cell_type": "code",
   "execution_count": 15,
   "id": "5c62e9b3",
   "metadata": {},
   "outputs": [
    {
     "data": {
      "text/plain": [
       "torch.Size([60, 4])"
      ]
     },
     "execution_count": 15,
     "metadata": {},
     "output_type": "execute_result"
    }
   ],
   "source": [
    "y.size()"
   ]
  },
  {
   "cell_type": "code",
   "execution_count": 16,
   "id": "industrial-spirit",
   "metadata": {},
   "outputs": [],
   "source": [
    "import os\n",
    "model_checkpoint_folder = f'models/{enfermedad}/checkpoints'\n",
    "trained_models_foder = 'models/trained_models'\n",
    "os.makedirs(model_checkpoint_folder, exist_ok=True)\n",
    "os.makedirs(trained_models_foder, exist_ok=True)"
   ]
  },
  {
   "cell_type": "code",
   "execution_count": 17,
   "id": "aa61060a",
   "metadata": {},
   "outputs": [],
   "source": [
    "def train(train_set, fold_size=10, future_size=5):\n",
    "    assert fold_size >= 10\n",
    "    epsilon = 1e-15\n",
    "    sir = SIRV(epsilon=epsilon)\n",
    "    opt = torch.optim.Adam(sir.parameters(), lr=0.05)\n",
    "    best = 10000\n",
    "    early_stopping = EarlyStopping(patience=25, verbose=False, delta=1e-7)\n",
    "    for epoch in range(500):\n",
    "        out = sir(train_set[:fold_size], size_of_starter_set=min(10, fold_size), amount_of_prediction_in_future=fold_size + future_size+1)\n",
    "        out = out.squeeze()\n",
    "        loss = loss_custom(out, train_set[:fold_size + future_size])\n",
    "        loss.backward()\n",
    "        opt.step() \n",
    "        opt.zero_grad()\n",
    "        if loss.item() < best:\n",
    "            best = loss.item()\n",
    "            torch.save(sir, f'{model_checkpoint_folder}/{enfermedad}_{fold_size}.pkl')\n",
    "        if epoch%100 == 0:        \n",
    "            print(f'Epoch: {epoch}, loss: {loss.item()}')\n",
    "        if loss.isnan():\n",
    "            raise ValueError()\n",
    "        for p in sir.parameters():\n",
    "            p.data.clamp_(0)\n",
    "        early_stopping(loss.item(), sir)\n",
    "        if early_stopping.early_stop:\n",
    "            print(\"Early stopping\")\n",
    "            break\n",
    "    return best\n",
    "    \n",
    "\n",
    "def train_and_val_k_fold():\n",
    "    divergences = {}\n",
    "    rmses = []\n",
    "    losses = {}\n",
    "    future_index_check = 10\n",
    "    min_datapoints = 40\n",
    "    for fold_size in range(min_datapoints, len(y)-future_index_check):\n",
    "        print(f'\\nAnalyzing fold: {fold_size}\\n')\n",
    "        folded_train_set = y[:fold_size+future_index_check+1].clone()\n",
    "        best_loss = train(train_set=folded_train_set, fold_size=fold_size, future_size=future_index_check)\n",
    "        model = torch.load(f'{model_checkpoint_folder}/{enfermedad}_{fold_size}.pkl')\n",
    "        preds = model(folded_train_set[:fold_size], size_of_starter_set=fold_size, amount_of_prediction_in_future=len(folded_train_set)+1)[fold_size:fold_size+future_index_check]\n",
    "        target = y[fold_size:fold_size+future_index_check]\n",
    "        target[target==0] = 1e-15\n",
    "        kl_divergence = torch.nn.functional.kl_div(target.log(), preds, reduction='batchmean').detach().item()\n",
    "        rmse = torch.sqrt(torchmetrics.functional.mean_squared_error(target, preds)).detach().item()\n",
    "        print(f'\\nKL Divergence:{kl_divergence}\\n')\n",
    "        print(f'\\nRMSE:{rmse}\\n')\n",
    "        divergences[fold_size] = kl_divergence\n",
    "        rmses.append(rmse)\n",
    "        losses[fold_size] = best_loss\n",
    "    return divergences, rmses, losses"
   ]
  },
  {
   "cell_type": "code",
   "execution_count": 18,
   "id": "15d283ea",
   "metadata": {},
   "outputs": [
    {
     "name": "stdout",
     "output_type": "stream",
     "text": [
      "\n",
      "Analyzing fold: 40\n",
      "\n",
      "Epoch: 0, loss: 0.009814106859266758\n",
      "EarlyStopping reached!\n",
      "Early stopping\n",
      "\n",
      "KL Divergence:0.00010637005470925942\n",
      "\n",
      "\n",
      "RMSE:0.0002383742539677769\n",
      "\n",
      "\n",
      "Analyzing fold: 41\n",
      "\n",
      "Epoch: 0, loss: 0.11290865391492844\n",
      "EarlyStopping reached!\n",
      "Early stopping\n",
      "\n",
      "KL Divergence:0.0002039661630988121\n",
      "\n",
      "\n",
      "RMSE:0.0007073336746543646\n",
      "\n",
      "\n",
      "Analyzing fold: 42\n",
      "\n",
      "Epoch: 0, loss: 0.003766567213460803\n",
      "EarlyStopping reached!\n",
      "Early stopping\n",
      "\n",
      "KL Divergence:0.00019087261171080172\n",
      "\n",
      "\n",
      "RMSE:0.0005968479090370238\n",
      "\n",
      "\n",
      "Analyzing fold: 43\n",
      "\n",
      "Epoch: 0, loss: 0.00404667342081666\n",
      "EarlyStopping reached!\n",
      "Early stopping\n",
      "\n",
      "KL Divergence:0.00039217513403855264\n",
      "\n",
      "\n",
      "RMSE:0.0014227968640625477\n",
      "\n",
      "\n",
      "Analyzing fold: 44\n",
      "\n",
      "Epoch: 0, loss: 0.02597322314977646\n",
      "EarlyStopping reached!\n",
      "Early stopping\n",
      "\n",
      "KL Divergence:0.00029831423307769\n",
      "\n",
      "\n",
      "RMSE:0.0004951800801791251\n",
      "\n",
      "\n",
      "Analyzing fold: 45\n",
      "\n",
      "Epoch: 0, loss: 0.0925401821732521\n",
      "EarlyStopping reached!\n",
      "Early stopping\n",
      "\n",
      "KL Divergence:0.0004404534993227571\n",
      "\n",
      "\n",
      "RMSE:0.0012975066201761365\n",
      "\n",
      "\n",
      "Analyzing fold: 46\n",
      "\n",
      "Epoch: 0, loss: 0.10053350031375885\n",
      "EarlyStopping reached!\n",
      "Early stopping\n",
      "\n",
      "KL Divergence:0.0002593474928289652\n",
      "\n",
      "\n",
      "RMSE:0.0007447858224622905\n",
      "\n",
      "\n",
      "Analyzing fold: 47\n",
      "\n",
      "Epoch: 0, loss: 0.01659756898880005\n",
      "EarlyStopping reached!\n",
      "Early stopping\n",
      "\n",
      "KL Divergence:0.00037388672353699803\n",
      "\n",
      "\n",
      "RMSE:0.0008517709793522954\n",
      "\n",
      "\n",
      "Analyzing fold: 48\n",
      "\n",
      "Epoch: 0, loss: 0.005250090267509222\n",
      "EarlyStopping reached!\n",
      "Early stopping\n",
      "\n",
      "KL Divergence:0.0013855276629328728\n",
      "\n",
      "\n",
      "RMSE:0.0016333209350705147\n",
      "\n",
      "\n",
      "Analyzing fold: 49\n",
      "\n",
      "Epoch: 0, loss: 0.01627589575946331\n",
      "EarlyStopping reached!\n",
      "Early stopping\n",
      "\n",
      "KL Divergence:5.981024514767341e-05\n",
      "\n",
      "\n",
      "RMSE:0.00023205876641441137\n",
      "\n"
     ]
    }
   ],
   "source": [
    "divergences, rmses, losses = train_and_val_k_fold()"
   ]
  },
  {
   "cell_type": "code",
   "execution_count": 19,
   "id": "2c294de7",
   "metadata": {},
   "outputs": [
    {
     "name": "stdout",
     "output_type": "stream",
     "text": [
      "Cross-validated KL Divergence: 0.00037107238204043825\n",
      "Cross-validated RMSE: 0.0008219975905376486\n"
     ]
    }
   ],
   "source": [
    "print(f'Cross-validated KL Divergence: {pd.Series(divergences.values()).mean()}')\n",
    "print(f'Cross-validated RMSE: {pd.Series(rmses).mean()}')"
   ]
  },
  {
   "cell_type": "code",
   "execution_count": 20,
   "id": "80055f6d",
   "metadata": {},
   "outputs": [],
   "source": [
    "import matplotlib.pyplot as plt\n",
    "%matplotlib inline\n",
    "\n",
    "best_fold_size = min(losses, key=losses.get)\n",
    "model = torch.load(f'{model_checkpoint_folder}/{enfermedad}_{best_fold_size}.pkl')\n",
    "torch.save(model, f'models/trained_models/{enfermedad}.pkl')\n",
    "y = torch.from_numpy(data_numpy.astype(np.float32))\n",
    "res = model(y, size_of_starter_set=best_fold_size, amount_of_prediction_in_future=len(y))\n"
   ]
  },
  {
   "cell_type": "code",
   "execution_count": 21,
   "id": "5cad9937",
   "metadata": {},
   "outputs": [],
   "source": [
    "import pathlib\n",
    "for i in range(len(y)):\n",
    "    file_to_rem = pathlib.Path(f'{model_checkpoint_folder}/{enfermedad}_{i}.pkl')\n",
    "    if os.path.isfile(file_to_rem):\n",
    "        file_to_rem.unlink()\n",
    "file_to_rem = pathlib.Path(f'checkpoint.pt')\n",
    "file_to_rem.unlink()"
   ]
  },
  {
   "cell_type": "code",
   "execution_count": 22,
   "id": "5dc82fb3",
   "metadata": {},
   "outputs": [
    {
     "data": {
      "text/plain": [
       "torch.Size([59, 4])"
      ]
     },
     "execution_count": 22,
     "metadata": {},
     "output_type": "execute_result"
    }
   ],
   "source": [
    "res.shape"
   ]
  },
  {
   "cell_type": "code",
   "execution_count": 23,
   "id": "292be11a",
   "metadata": {},
   "outputs": [],
   "source": [
    "import os\n",
    "os.makedirs(f'figures/{enfermedad}', exist_ok=True)"
   ]
  },
  {
   "cell_type": "code",
   "execution_count": 24,
   "id": "tropical-virgin",
   "metadata": {},
   "outputs": [
    {
     "data": {
      "image/png": "[encoded data removed]",
      "text/plain": [
       "<Figure size 1080x360 with 2 Axes>"
      ]
     },
     "metadata": {
      "needs_background": "light"
     },
     "output_type": "display_data"
    }
   ],
   "source": [
    "fold_sizes = losses.keys()\n",
    "fig, ax = plt.subplots(nrows=1, ncols=2, figsize=(15, 5))\n",
    "\n",
    "ax[0].plot(fold_sizes, divergences.values(), color = 'r', linewidth=0, marker='.', label='divergences')\n",
    "ax[0].plot(fold_sizes, rmses, color = 'b', linewidth=0, marker='.', label='rmse')\n",
    "ax[1].set_yscale('log')\n",
    "ax[0].set_ylabel('Metrics')\n",
    "ax[0].set_xlabel('Fold Size')\n",
    "ax[0].set_title('Analisis de metricas')\n",
    "ax[0].legend()\n",
    "\n",
    "\n",
    "ax[1].plot(fold_sizes, losses.values(), color = 'g', linewidth=0, marker='.', label='losses')\n",
    "ax[1].set_ylabel('Loss')\n",
    "ax[1].set_yscale('log')\n",
    "ax[1].set_xlabel('Fold Size')\n",
    "ax[1].set_title('Analisis de Loss')\n",
    "ax[1].legend()\n",
    "\n",
    "plt.show()"
   ]
  },
  {
   "cell_type": "code",
   "execution_count": 25,
   "id": "d9bf2d81",
   "metadata": {},
   "outputs": [
    {
     "name": "stderr",
     "output_type": "stream",
     "text": [
      "/var/folders/g0/jqvp4xxs5pn4cds1xb9339xm0000gn/T/ipykernel_40390/700671155.py:11: MatplotlibDeprecationWarning: savefig() got unexpected keyword argument \"linewidth\" which is no longer supported as of 3.3 and will become an error two minor releases later\n",
      "  plt.savefig(f'figures/{enfermedad}/accumul_prediction.png', format='png', linewidth = 0.01)\n"
     ]
    },
    {
     "data": {
      "image/png": "[encoded data removed]",
      "text/plain": [
       "<Figure size 432x288 with 1 Axes>"
      ]
     },
     "metadata": {
      "needs_background": "light"
     },
     "output_type": "display_data"
    }
   ],
   "source": [
    "predicted_susceptible = res[:,0].detach().numpy()\n",
    "real_susceptible = y[:,0].detach().numpy()\n",
    "plt.plot(data.index, real_susceptible, color = 'r', linewidth=0, marker='.', label='real_sus')\n",
    "plt.plot(data.index[1:], predicted_susceptible, color = 'b', linewidth=0, marker='.', label='pred_sus')\n",
    "plt.ylim(0, 1)\n",
    "plt.xlim(0,len(y))\n",
    "plt.ylabel('Proportion')\n",
    "plt.xlabel('Generation')\n",
    "plt.title('Analisis de susceptibles predichos vs reales')\n",
    "plt.legend()\n",
    "plt.savefig(f'figures/{enfermedad}/accumul_prediction.png', format='png', linewidth = 0.01)"
   ]
  },
  {
   "cell_type": "code",
   "execution_count": 26,
   "id": "9a87fda1",
   "metadata": {},
   "outputs": [
    {
     "name": "stderr",
     "output_type": "stream",
     "text": [
      "/var/folders/g0/jqvp4xxs5pn4cds1xb9339xm0000gn/T/ipykernel_40390/2298925115.py:11: MatplotlibDeprecationWarning: savefig() got unexpected keyword argument \"linewidth\" which is no longer supported as of 3.3 and will become an error two minor releases later\n",
      "  plt.savefig(f'figures/{enfermedad}/accumul_prediction_vaccinated.png', format='png', linewidth = 0.01)\n"
     ]
    },
    {
     "data": {
      "image/png": "[encoded data removed]",
      "text/plain": [
       "<Figure size 432x288 with 1 Axes>"
      ]
     },
     "metadata": {
      "needs_background": "light"
     },
     "output_type": "display_data"
    }
   ],
   "source": [
    "predicted_vaccinated = res[:,3].detach().numpy()\n",
    "real_vaccinated = y[:,3].detach().numpy()\n",
    "plt.plot(data.index, real_vaccinated, color = 'r', linewidth=0, marker='.', label='real_vac')\n",
    "plt.plot(data.index[1:], predicted_vaccinated, color = 'b', linewidth=0, marker='.', label='pred_vac')\n",
    "plt.ylim(0, 1)\n",
    "plt.xlim(0,len(y))\n",
    "plt.ylabel('Proportion')\n",
    "plt.xlabel('Generation')\n",
    "plt.title('Analisis de vacunados predichos vs reales')\n",
    "plt.legend()\n",
    "plt.savefig(f'figures/{enfermedad}/accumul_prediction_vaccinated.png', format='png', linewidth = 0.01)"
   ]
  },
  {
   "cell_type": "markdown",
   "id": "a60316ad",
   "metadata": {},
   "source": [
    "Que pasa si le damos mas peso a fitear a los susceptibles?\n"
   ]
  },
  {
   "cell_type": "code",
   "execution_count": 27,
   "id": "133fb8d1",
   "metadata": {},
   "outputs": [
    {
     "name": "stderr",
     "output_type": "stream",
     "text": [
      "/var/folders/g0/jqvp4xxs5pn4cds1xb9339xm0000gn/T/ipykernel_40390/652839925.py:12: MatplotlibDeprecationWarning: savefig() got unexpected keyword argument \"linewidth\" which is no longer supported as of 3.3 and will become an error two minor releases later\n",
      "  plt.savefig(f'figures/{enfermedad}/accumul_infected.png', format='png', linewidth = 0.01)\n"
     ]
    },
    {
     "data": {
      "image/png": "[encoded data removed]",
      "text/plain": [
       "<Figure size 432x288 with 1 Axes>"
      ]
     },
     "metadata": {
      "needs_background": "light"
     },
     "output_type": "display_data"
    }
   ],
   "source": [
    "predicted_infected = res[:,1].detach().numpy()\n",
    "real_infected = y[:,1].detach().numpy()\n",
    "plt.plot(data.index, real_infected, color = 'r', linewidth=0, marker='.', label='real_inf')\n",
    "plt.plot(data.index[1:], predicted_infected, color = 'b', linewidth=0, marker='.', label='pred_inf')\n",
    "# plt.yscale('log')\n",
    "plt.xlim(0,len(y))\n",
    "plt.ylim(0,1)\n",
    "plt.ylabel('Proportion')\n",
    "plt.xlabel('Generation')\n",
    "plt.title('Analisis de infectados predichos vs reales')\n",
    "plt.legend()\n",
    "plt.savefig(f'figures/{enfermedad}/accumul_infected.png', format='png', linewidth = 0.01)"
   ]
  },
  {
   "cell_type": "code",
   "execution_count": 28,
   "id": "a4c78e78",
   "metadata": {},
   "outputs": [
    {
     "name": "stderr",
     "output_type": "stream",
     "text": [
      "/var/folders/g0/jqvp4xxs5pn4cds1xb9339xm0000gn/T/ipykernel_40390/2050763186.py:11: MatplotlibDeprecationWarning: savefig() got unexpected keyword argument \"linewidth\" which is no longer supported as of 3.3 and will become an error two minor releases later\n",
      "  plt.savefig(f'figures/{enfermedad}/accumul_prediction_rec.png', format='png', linewidth = 0.01)\n"
     ]
    },
    {
     "data": {
      "image/png": "[encoded data removed]",
      "text/plain": [
       "<Figure size 432x288 with 1 Axes>"
      ]
     },
     "metadata": {
      "needs_background": "light"
     },
     "output_type": "display_data"
    }
   ],
   "source": [
    "predicted_recov = res[:,2].detach().numpy()\n",
    "real_recov = y[:,2].detach().numpy()\n",
    "plt.plot(data.index, real_recov, color = 'r', linewidth=0, marker='.', label='real_rec')\n",
    "plt.plot(data.index[1:], predicted_recov, color = 'b', linewidth=0, marker='.', label='pred_rec')\n",
    "plt.yscale('log')\n",
    "plt.xlim(0,len(y))\n",
    "plt.ylabel('Proportion')\n",
    "plt.xlabel('Generation')\n",
    "plt.title('Analisis de recuperados predichos vs reales')\n",
    "plt.legend()\n",
    "plt.savefig(f'figures/{enfermedad}/accumul_prediction_rec.png', format='png', linewidth = 0.01)"
   ]
  },
  {
   "cell_type": "markdown",
   "id": "5d747f24",
   "metadata": {},
   "source": [
    "Testeemos los parametros"
   ]
  },
  {
   "cell_type": "code",
   "execution_count": 29,
   "id": "61711e68",
   "metadata": {},
   "outputs": [
    {
     "name": "stdout",
     "output_type": "stream",
     "text": [
      "[Parameter containing:\n",
      "tensor([[0.0073]], requires_grad=True), Parameter containing:\n",
      "tensor([[0.0002]], requires_grad=True), Parameter containing:\n",
      "tensor([[0.0075]], requires_grad=True)]\n"
     ]
    }
   ],
   "source": [
    "params = list(model.parameters())\n",
    "lambda1 = params[0].item()\n",
    "lambda2 = params[1].item()\n",
    "lambda3 = params[2].item()\n",
    "print(params)"
   ]
  },
  {
   "cell_type": "markdown",
   "id": "3b66fea9",
   "metadata": {},
   "source": [
    "Recordemos que estamos modelando:\n",
    "\n",
    "$$\\dfrac{ds}{dt} = -\\lambda_1 s i - \\lambda_2 s  $$\n",
    "\\\n",
    "$$\\dfrac{di}{dt} = \\lambda_1 s i - \\lambda_3 i - \\lambda_2 i  $$\n",
    "\n",
    "\\\n",
    "$$\\dfrac{dr}{dt} = \\lambda_3 i  $$\n",
    "\\\n",
    "$$\\dfrac{dv}{dt} = \\lambda_2 s + \\lambda_2 i   $$\n",
    "\n",
    "\n",
    "\n",
    "Entonces\n",
    "\n",
    "$$\\beta = \\lambda_1 = R_0 / d $$\n",
    "\n",
    "Con d la duración de la infeccion.\n",
    "\n",
    "$$ \\lambda_2 = \\eta $$ la tasa de inmunización y\n",
    "\n",
    "$$ \\lambda_3 = \\nu  = 1 / d $$\n",
    "\n",
    "Primero veamos la tasa de immunizacion"
   ]
  },
  {
   "cell_type": "code",
   "execution_count": 30,
   "id": "90eaeb4d",
   "metadata": {},
   "outputs": [],
   "source": [
    "tasa_immunizacion = (data.apply(lambda x: x.diff()).dropna().mean()/data['Vacunados'].max()).iloc[3]"
   ]
  },
  {
   "cell_type": "code",
   "execution_count": 31,
   "id": "fc002785",
   "metadata": {},
   "outputs": [
    {
     "data": {
      "text/plain": [
       "0.01656516027016187"
      ]
     },
     "execution_count": 31,
     "metadata": {},
     "output_type": "execute_result"
    }
   ],
   "source": [
    "tasa_immunizacion"
   ]
  },
  {
   "cell_type": "code",
   "execution_count": 32,
   "id": "812f4167",
   "metadata": {},
   "outputs": [
    {
     "data": {
      "text/latex": [
       "Deducimos que:\n",
       "$$ \\eta = \\lambda_2 = {0.00015} \\approx {0.01657} $$"
      ],
      "text/plain": [
       "<IPython.core.display.Latex object>"
      ]
     },
     "execution_count": 32,
     "metadata": {},
     "output_type": "execute_result"
    }
   ],
   "source": [
    "from IPython.display import Latex\n",
    "Latex(f\"\"\"Deducimos que:\n",
    "$$ \\eta = \\lambda_2 = {{{lambda2:.5f}}} \\\\approx {{{tasa_immunizacion:.5f}}} $$\"\"\")"
   ]
  },
  {
   "cell_type": "code",
   "execution_count": 33,
   "id": "27af972d",
   "metadata": {},
   "outputs": [
    {
     "data": {
      "text/latex": [
       "Deducimos que:\n",
       "$$ d = 1 / \\lambda_3 = 1 / {0.01} \\approx {133.72} $$\n",
       "$$ R_0 =  \\lambda_1 * d = {0.01} * d \\approx {0.97}$$"
      ],
      "text/plain": [
       "<IPython.core.display.Latex object>"
      ]
     },
     "execution_count": 33,
     "metadata": {},
     "output_type": "execute_result"
    }
   ],
   "source": [
    "Latex(f\"\"\"Deducimos que:\n",
    "$$ d = 1 / \\lambda_3 = 1 / {{{lambda3:.2f}}} \\\\approx {{{1/lambda3:.2f}}} $$\n",
    "$$ R_0 =  \\lambda_1 * d = {{{lambda1:.2f}}} * d \\\\approx {{{lambda1/lambda3:.2f}}}$$\"\"\")"
   ]
  },
  {
   "cell_type": "markdown",
   "id": "d4fd225a",
   "metadata": {},
   "source": [
    "Mientras que la literatura indica:\n",
    "\n",
    "$$ d = 17.5 $$\n",
    "$$ R_0 = 2.65 $$"
   ]
  },
  {
   "cell_type": "markdown",
   "id": "a0ca8030",
   "metadata": {},
   "source": [
    "## Validemos un test de momentos"
   ]
  },
  {
   "cell_type": "code",
   "execution_count": 34,
   "id": "af0ac2d0",
   "metadata": {},
   "outputs": [],
   "source": [
    "real_susceptible = real_susceptible[1:]\n",
    "real_vaccinated = real_vaccinated[1:]\n",
    "real_infected = real_infected[1:]\n",
    "real_recov = real_recov[1:]"
   ]
  },
  {
   "cell_type": "markdown",
   "id": "ea725fe4",
   "metadata": {},
   "source": [
    "#### Primer momento"
   ]
  },
  {
   "cell_type": "code",
   "execution_count": 35,
   "id": "61acae2d",
   "metadata": {},
   "outputs": [
    {
     "data": {
      "text/plain": [
       "Ttest_indResult(statistic=-0.5788886396940734, pvalue=0.5638104803294688)"
      ]
     },
     "execution_count": 35,
     "metadata": {},
     "output_type": "execute_result"
    }
   ],
   "source": [
    "import scipy\n",
    "\n",
    "scipy.stats.ttest_ind(real_susceptible, predicted_susceptible, equal_var=False)"
   ]
  },
  {
   "cell_type": "code",
   "execution_count": 36,
   "id": "461d8d26",
   "metadata": {},
   "outputs": [
    {
     "data": {
      "text/plain": [
       "Ttest_indResult(statistic=1.2671816845721253, pvalue=0.20772094294427362)"
      ]
     },
     "execution_count": 36,
     "metadata": {},
     "output_type": "execute_result"
    }
   ],
   "source": [
    "scipy.stats.ttest_ind(real_infected, predicted_infected, equal_var=False)"
   ]
  },
  {
   "cell_type": "code",
   "execution_count": 37,
   "id": "be7f5ae3",
   "metadata": {},
   "outputs": [
    {
     "data": {
      "text/plain": [
       "Ttest_indResult(statistic=1.43239008718418, pvalue=0.15503122317939622)"
      ]
     },
     "execution_count": 37,
     "metadata": {},
     "output_type": "execute_result"
    }
   ],
   "source": [
    "scipy.stats.ttest_ind(real_recov, predicted_recov, equal_var=False)"
   ]
  },
  {
   "cell_type": "code",
   "execution_count": 38,
   "id": "1020a2e5",
   "metadata": {},
   "outputs": [
    {
     "data": {
      "text/plain": [
       "Ttest_indResult(statistic=0.4700168296659223, pvalue=0.639238213157935)"
      ]
     },
     "execution_count": 38,
     "metadata": {},
     "output_type": "execute_result"
    }
   ],
   "source": [
    "scipy.stats.ttest_ind(real_vaccinated, predicted_vaccinated, equal_var=False)"
   ]
  },
  {
   "cell_type": "markdown",
   "id": "c3799d0e",
   "metadata": {},
   "source": [
    "#### Segundo momento"
   ]
  },
  {
   "cell_type": "code",
   "execution_count": 39,
   "id": "264555ea",
   "metadata": {},
   "outputs": [
    {
     "data": {
      "text/plain": [
       "BartlettResult(statistic=2.1401097292200575, pvalue=0.14349162747751523)"
      ]
     },
     "execution_count": 39,
     "metadata": {},
     "output_type": "execute_result"
    }
   ],
   "source": [
    "scipy.stats.bartlett(real_infected, predicted_infected)"
   ]
  },
  {
   "cell_type": "code",
   "execution_count": 40,
   "id": "a8d58a5a",
   "metadata": {},
   "outputs": [
    {
     "data": {
      "text/plain": [
       "BartlettResult(statistic=7.052893519628816, pvalue=0.007913731463601572)"
      ]
     },
     "execution_count": 40,
     "metadata": {},
     "output_type": "execute_result"
    }
   ],
   "source": [
    "scipy.stats.bartlett(real_recov, predicted_recov)"
   ]
  },
  {
   "cell_type": "markdown",
   "id": "f29f39a8",
   "metadata": {},
   "source": [
    "#### Test de bondad de ajuste de KS"
   ]
  },
  {
   "cell_type": "code",
   "execution_count": 41,
   "id": "8ab4f644",
   "metadata": {},
   "outputs": [
    {
     "data": {
      "text/plain": [
       "KstestResult(statistic=0.15254237288135594, pvalue=0.44383598560302884)"
      ]
     },
     "execution_count": 41,
     "metadata": {},
     "output_type": "execute_result"
    }
   ],
   "source": [
    "scipy.stats.kstest(real_susceptible, predicted_susceptible, method='asymp')"
   ]
  },
  {
   "cell_type": "code",
   "execution_count": 42,
   "id": "681bd62e",
   "metadata": {},
   "outputs": [
    {
     "data": {
      "text/plain": [
       "KstestResult(statistic=0.3389830508474576, pvalue=0.0014046789179446018)"
      ]
     },
     "execution_count": 42,
     "metadata": {},
     "output_type": "execute_result"
    }
   ],
   "source": [
    "scipy.stats.kstest(real_infected, predicted_infected, method='asymp')"
   ]
  },
  {
   "cell_type": "code",
   "execution_count": 43,
   "id": "9e9078f7",
   "metadata": {},
   "outputs": [
    {
     "data": {
      "text/plain": [
       "KstestResult(statistic=0.3220338983050848, pvalue=0.0028709466816604357)"
      ]
     },
     "execution_count": 43,
     "metadata": {},
     "output_type": "execute_result"
    }
   ],
   "source": [
    "scipy.stats.kstest(real_recov, predicted_recov, method='asymp')"
   ]
  },
  {
   "cell_type": "code",
   "execution_count": 44,
   "id": "83a52f64",
   "metadata": {},
   "outputs": [
    {
     "data": {
      "text/plain": [
       "KstestResult(statistic=0.13559322033898313, pvalue=0.5922172777840148)"
      ]
     },
     "execution_count": 44,
     "metadata": {},
     "output_type": "execute_result"
    }
   ],
   "source": [
    "scipy.stats.kstest(real_vaccinated, predicted_vaccinated, method='asymp')\n"
   ]
  },
  {
   "cell_type": "markdown",
   "id": "98900be5",
   "metadata": {},
   "source": [
    "#### Test de pearson"
   ]
  },
  {
   "cell_type": "code",
   "execution_count": 45,
   "id": "6aa40a3e",
   "metadata": {
    "pycharm": {
     "name": "#%%\n"
    }
   },
   "outputs": [
    {
     "data": {
      "text/plain": [
       "PearsonRResult(statistic=0.9877286436383523, pvalue=1.1584888671610221e-47)"
      ]
     },
     "execution_count": 45,
     "metadata": {},
     "output_type": "execute_result"
    }
   ],
   "source": [
    "scipy.stats.pearsonr(real_susceptible, predicted_susceptible)"
   ]
  },
  {
   "cell_type": "code",
   "execution_count": 46,
   "id": "fc149c9e",
   "metadata": {
    "pycharm": {
     "name": "#%%\n"
    }
   },
   "outputs": [
    {
     "data": {
      "text/plain": [
       "PearsonRResult(statistic=0.7530792172508592, pvalue=5.970912300384942e-12)"
      ]
     },
     "execution_count": 46,
     "metadata": {},
     "output_type": "execute_result"
    }
   ],
   "source": [
    "scipy.stats.pearsonr(real_infected, predicted_infected)"
   ]
  },
  {
   "cell_type": "code",
   "execution_count": 47,
   "id": "32e3546f",
   "metadata": {
    "pycharm": {
     "name": "#%%\n"
    }
   },
   "outputs": [
    {
     "data": {
      "text/plain": [
       "PearsonRResult(statistic=0.9385280371933683, pvalue=5.2349379009839445e-28)"
      ]
     },
     "execution_count": 47,
     "metadata": {},
     "output_type": "execute_result"
    }
   ],
   "source": [
    "scipy.stats.pearsonr(real_recov, predicted_recov)"
   ]
  },
  {
   "cell_type": "code",
   "execution_count": 48,
   "id": "cbe63414",
   "metadata": {
    "pycharm": {
     "name": "#%%\n"
    }
   },
   "outputs": [
    {
     "data": {
      "text/plain": [
       "PearsonRResult(statistic=0.9905722965666448, pvalue=6.56918240755625e-51)"
      ]
     },
     "execution_count": 48,
     "metadata": {},
     "output_type": "execute_result"
    }
   ],
   "source": [
    "scipy.stats.pearsonr(real_vaccinated, predicted_vaccinated)\n",
    "\n"
   ]
  },
  {
   "cell_type": "markdown",
   "id": "complimentary-afghanistan",
   "metadata": {},
   "source": [
    "## Extrapolacion"
   ]
  },
  {
   "cell_type": "code",
   "execution_count": 49,
   "id": "bfdd20c4",
   "metadata": {},
   "outputs": [
    {
     "data": {
      "text/plain": [
       "tensor([[9.9937e-01, 1.0000e-15, 1.0000e-15, 6.2581e-04],\n",
       "        [9.9903e-01, 1.0000e-15, 1.0000e-15, 9.6538e-04],\n",
       "        [9.9872e-01, 1.0000e-15, 1.0000e-15, 1.2754e-03],\n",
       "        [9.9841e-01, 1.0000e-15, 1.0000e-15, 1.5852e-03],\n",
       "        [9.9812e-01, 1.0000e-15, 1.0000e-15, 1.8761e-03],\n",
       "        [9.9783e-01, 1.0000e-15, 1.0000e-15, 2.1681e-03],\n",
       "        [9.9751e-01, 2.5954e-07, 1.0000e-15, 2.4915e-03],\n",
       "        [9.9720e-01, 1.9466e-07, 2.5954e-07, 2.7979e-03],\n",
       "        [9.9690e-01, 1.0000e-15, 4.5420e-07, 3.1010e-03],\n",
       "        [9.9662e-01, 1.0000e-15, 4.5420e-07, 3.3779e-03],\n",
       "        [9.9635e-01, 9.0841e-07, 4.5420e-07, 3.6510e-03],\n",
       "        [9.9604e-01, 1.0000e-15, 1.3626e-06, 3.9581e-03],\n",
       "        [9.9575e-01, 1.0000e-15, 1.3626e-06, 4.2442e-03],\n",
       "        [9.9544e-01, 1.0000e-15, 1.3626e-06, 4.5601e-03],\n",
       "        [9.9513e-01, 4.6285e-06, 1.3626e-06, 4.8675e-03],\n",
       "        [9.9481e-01, 1.0000e-15, 5.9912e-06, 5.1740e-03],\n",
       "        [9.9452e-01, 5.1693e-06, 5.9912e-06, 5.4591e-03],\n",
       "        [9.9422e-01, 9.1922e-06, 1.1160e-05, 5.7504e-03],\n",
       "        [9.9392e-01, 1.4188e-05, 2.0353e-05, 6.0270e-03],\n",
       "        [9.9362e-01, 1.3842e-05, 3.4541e-05, 6.2929e-03],\n",
       "        [9.9335e-01, 1.9509e-05, 4.8383e-05, 6.5363e-03],\n",
       "        [9.9309e-01, 1.4708e-05, 6.7893e-05, 6.7641e-03],\n",
       "        [9.9268e-01, 1.1961e-04, 8.2600e-05, 7.0326e-03],\n",
       "        [9.9227e-01, 1.5248e-05, 2.0221e-04, 7.3061e-03],\n",
       "        [9.9203e-01, 9.2138e-06, 2.1746e-04, 7.5276e-03],\n",
       "        [9.9184e-01, 4.0013e-06, 2.2667e-04, 7.7021e-03],\n",
       "        [9.9167e-01, 1.5335e-05, 2.3067e-04, 7.8568e-03],\n",
       "        [9.9146e-01, 1.9942e-05, 2.4601e-04, 8.0286e-03],\n",
       "        [9.9125e-01, 4.6934e-06, 2.6595e-04, 8.2151e-03],\n",
       "        [9.9105e-01, 8.5866e-06, 2.7064e-04, 8.3972e-03],\n",
       "        [9.9086e-01, 1.2047e-05, 2.7923e-04, 8.5662e-03],\n",
       "        [9.9068e-01, 1.0000e-15, 2.9127e-04, 8.7420e-03],\n",
       "        [9.9053e-01, 1.0000e-15, 2.9127e-04, 8.8872e-03],\n",
       "        [9.9038e-01, 4.6934e-06, 2.9127e-04, 9.0321e-03],\n",
       "        [9.9012e-01, 1.0754e-04, 2.9597e-04, 9.1833e-03],\n",
       "        [9.8983e-01, 1.0000e-15, 4.0351e-04, 9.3606e-03],\n",
       "        [9.8966e-01, 1.0000e-15, 4.0351e-04, 9.5377e-03],\n",
       "        [9.8946e-01, 1.0000e-15, 4.0351e-04, 9.7304e-03],\n",
       "        [9.8928e-01, 1.0000e-15, 4.0351e-04, 9.9115e-03],\n",
       "        [9.8913e-01, 9.9954e-16, 4.0351e-04, 1.0065e-02],\n",
       "        [9.8897e-01, 9.9908e-16, 4.0351e-04, 1.0218e-02],\n",
       "        [9.8882e-01, 9.9862e-16, 4.0351e-04, 1.0371e-02],\n",
       "        [9.8867e-01, 9.9815e-16, 4.0351e-04, 1.0524e-02],\n",
       "        [9.8852e-01, 9.9769e-16, 4.0351e-04, 1.0677e-02],\n",
       "        [9.8836e-01, 9.9722e-16, 4.0351e-04, 1.0831e-02],\n",
       "        [9.8821e-01, 9.9676e-16, 4.0351e-04, 1.0984e-02],\n",
       "        [9.8806e-01, 9.9629e-16, 4.0351e-04, 1.1137e-02],\n",
       "        [9.8790e-01, 9.9582e-16, 4.0351e-04, 1.1290e-02],\n",
       "        [9.8775e-01, 9.9536e-16, 4.0351e-04, 1.1443e-02],\n",
       "        [9.8760e-01, 9.9489e-16, 4.0351e-04, 1.1596e-02],\n",
       "        [9.8744e-01, 9.9442e-16, 4.0351e-04, 1.1749e-02],\n",
       "        [9.8729e-01, 9.9395e-16, 4.0351e-04, 1.1902e-02],\n",
       "        [9.8714e-01, 9.9347e-16, 4.0351e-04, 1.2055e-02],\n",
       "        [9.8699e-01, 9.9300e-16, 4.0351e-04, 1.2208e-02],\n",
       "        [9.8683e-01, 9.9253e-16, 4.0351e-04, 1.2360e-02],\n",
       "        [9.8668e-01, 9.9205e-16, 4.0351e-04, 1.2513e-02],\n",
       "        [9.8653e-01, 9.9158e-16, 4.0351e-04, 1.2666e-02],\n",
       "        [9.8637e-01, 9.9110e-16, 4.0351e-04, 1.2819e-02],\n",
       "        [9.8622e-01, 9.9062e-16, 4.0351e-04, 1.2972e-02],\n",
       "        [9.8607e-01, 9.9015e-16, 4.0351e-04, 1.3125e-02],\n",
       "        [9.8592e-01, 9.8967e-16, 4.0351e-04, 1.3277e-02],\n",
       "        [9.8576e-01, 9.8919e-16, 4.0351e-04, 1.3430e-02],\n",
       "        [9.8561e-01, 9.8871e-16, 4.0351e-04, 1.3583e-02],\n",
       "        [9.8546e-01, 9.8822e-16, 4.0351e-04, 1.3735e-02],\n",
       "        [9.8530e-01, 9.8774e-16, 4.0351e-04, 1.3888e-02],\n",
       "        [9.8515e-01, 9.8726e-16, 4.0351e-04, 1.4041e-02],\n",
       "        [9.8500e-01, 9.8678e-16, 4.0351e-04, 1.4193e-02],\n",
       "        [9.8485e-01, 9.8629e-16, 4.0351e-04, 1.4346e-02],\n",
       "        [9.8469e-01, 9.8580e-16, 4.0351e-04, 1.4498e-02],\n",
       "        [9.8454e-01, 9.8532e-16, 4.0351e-04, 1.4651e-02],\n",
       "        [9.8439e-01, 9.8483e-16, 4.0351e-04, 1.4803e-02],\n",
       "        [9.8424e-01, 9.8434e-16, 4.0351e-04, 1.4956e-02],\n",
       "        [9.8408e-01, 9.8385e-16, 4.0351e-04, 1.5108e-02],\n",
       "        [9.8393e-01, 9.8336e-16, 4.0351e-04, 1.5261e-02],\n",
       "        [9.8378e-01, 9.8287e-16, 4.0351e-04, 1.5413e-02],\n",
       "        [9.8363e-01, 9.8238e-16, 4.0351e-04, 1.5566e-02],\n",
       "        [9.8347e-01, 9.8189e-16, 4.0351e-04, 1.5718e-02],\n",
       "        [9.8332e-01, 9.8139e-16, 4.0351e-04, 1.5870e-02],\n",
       "        [9.8317e-01, 9.8090e-16, 4.0351e-04, 1.6023e-02],\n",
       "        [9.8302e-01, 9.8041e-16, 4.0351e-04, 1.6175e-02],\n",
       "        [9.8287e-01, 9.7991e-16, 4.0351e-04, 1.6327e-02],\n",
       "        [9.8271e-01, 9.7941e-16, 4.0351e-04, 1.6479e-02],\n",
       "        [9.8256e-01, 9.7892e-16, 4.0351e-04, 1.6632e-02],\n",
       "        [9.8241e-01, 9.7842e-16, 4.0351e-04, 1.6784e-02],\n",
       "        [9.8226e-01, 9.7792e-16, 4.0351e-04, 1.6936e-02],\n",
       "        [9.8210e-01, 9.7742e-16, 4.0351e-04, 1.7088e-02],\n",
       "        [9.8195e-01, 9.7692e-16, 4.0351e-04, 1.7240e-02],\n",
       "        [9.8180e-01, 9.7642e-16, 4.0351e-04, 1.7392e-02],\n",
       "        [9.8165e-01, 9.7591e-16, 4.0351e-04, 1.7544e-02],\n",
       "        [9.8150e-01, 9.7541e-16, 4.0351e-04, 1.7697e-02],\n",
       "        [9.8134e-01, 9.7491e-16, 4.0351e-04, 1.7849e-02],\n",
       "        [9.8119e-01, 9.7440e-16, 4.0351e-04, 1.8001e-02],\n",
       "        [9.8104e-01, 9.7389e-16, 4.0351e-04, 1.8153e-02],\n",
       "        [9.8089e-01, 9.7339e-16, 4.0351e-04, 1.8305e-02],\n",
       "        [9.8074e-01, 9.7288e-16, 4.0351e-04, 1.8456e-02],\n",
       "        [9.8058e-01, 9.7237e-16, 4.0351e-04, 1.8608e-02],\n",
       "        [9.8043e-01, 9.7186e-16, 4.0351e-04, 1.8760e-02],\n",
       "        [9.8028e-01, 9.7135e-16, 4.0351e-04, 1.8912e-02],\n",
       "        [9.8013e-01, 9.7084e-16, 4.0351e-04, 1.9064e-02],\n",
       "        [9.7998e-01, 9.7033e-16, 4.0351e-04, 1.9216e-02],\n",
       "        [9.7983e-01, 9.6982e-16, 4.0351e-04, 1.9368e-02],\n",
       "        [9.7967e-01, 9.6931e-16, 4.0351e-04, 1.9519e-02],\n",
       "        [9.7952e-01, 9.6879e-16, 4.0351e-04, 1.9671e-02],\n",
       "        [9.7937e-01, 9.6828e-16, 4.0351e-04, 1.9823e-02],\n",
       "        [9.7922e-01, 9.6776e-16, 4.0351e-04, 1.9975e-02],\n",
       "        [9.7907e-01, 9.6725e-16, 4.0351e-04, 2.0126e-02],\n",
       "        [9.7892e-01, 9.6673e-16, 4.0351e-04, 2.0278e-02],\n",
       "        [9.7876e-01, 9.6621e-16, 4.0351e-04, 2.0430e-02],\n",
       "        [9.7861e-01, 9.6569e-16, 4.0351e-04, 2.0581e-02],\n",
       "        [9.7846e-01, 9.6517e-16, 4.0351e-04, 2.0733e-02],\n",
       "        [9.7831e-01, 9.6465e-16, 4.0351e-04, 2.0884e-02],\n",
       "        [9.7816e-01, 9.6413e-16, 4.0351e-04, 2.1036e-02],\n",
       "        [9.7801e-01, 9.6361e-16, 4.0351e-04, 2.1187e-02],\n",
       "        [9.7785e-01, 9.6309e-16, 4.0351e-04, 2.1339e-02],\n",
       "        [9.7770e-01, 9.6257e-16, 4.0351e-04, 2.1490e-02],\n",
       "        [9.7755e-01, 9.6204e-16, 4.0351e-04, 2.1642e-02],\n",
       "        [9.7740e-01, 9.6152e-16, 4.0351e-04, 2.1793e-02],\n",
       "        [9.7725e-01, 9.6099e-16, 4.0351e-04, 2.1945e-02],\n",
       "        [9.7710e-01, 9.6047e-16, 4.0351e-04, 2.2096e-02]],\n",
       "       grad_fn=<ReshapeAliasBackward0>)"
      ]
     },
     "execution_count": 49,
     "metadata": {},
     "output_type": "execute_result"
    }
   ],
   "source": [
    "import matplotlib.pyplot as plt\n",
    "%matplotlib inline\n",
    "\n",
    "YEARS_TO_PREDICT = 5\n",
    "\n",
    "model = torch.load(f'models/trained_models/{enfermedad}.pkl')\n",
    "y = torch.from_numpy(data_numpy.astype(np.float32))\n",
    "res = model(y, size_of_starter_set=40, amount_of_prediction_in_future=len(y)+12*YEARS_TO_PREDICT)\n",
    "res"
   ]
  },
  {
   "cell_type": "code",
   "execution_count": 50,
   "id": "occupied-cedar",
   "metadata": {},
   "outputs": [
    {
     "data": {
      "text/plain": [
       "119"
      ]
     },
     "execution_count": 50,
     "metadata": {},
     "output_type": "execute_result"
    }
   ],
   "source": [
    "res[:,0].shape[0]"
   ]
  },
  {
   "cell_type": "code",
   "execution_count": 51,
   "id": "3a2e525e",
   "metadata": {},
   "outputs": [],
   "source": [
    "import pandas as pd\n",
    "df = pd.DataFrame(res.detach().numpy(), columns=['Susceptible', 'Infected', 'Recovered', 'Vaccinated'])\n",
    "df.to_csv(path_or_buf=FINAL_PATH)"
   ]
  },
  {
   "cell_type": "code",
   "execution_count": 52,
   "id": "e7f9bf17",
   "metadata": {},
   "outputs": [
    {
     "name": "stderr",
     "output_type": "stream",
     "text": [
      "/var/folders/g0/jqvp4xxs5pn4cds1xb9339xm0000gn/T/ipykernel_40390/4168997823.py:14: UserWarning: Attempted to set non-positive bottom ylim on a log-scaled axis.\n",
      "Invalid limit will be ignored.\n",
      "  plt.ylim(0, 1)\n",
      "/var/folders/g0/jqvp4xxs5pn4cds1xb9339xm0000gn/T/ipykernel_40390/4168997823.py:22: MatplotlibDeprecationWarning: savefig() got unexpected keyword argument \"linewidth\" which is no longer supported as of 3.3 and will become an error two minor releases later\n",
      "  plt.savefig(f'figures/{enfermedad}/extrapolation_{enfermedad}.png', format='png', linewidth = 0.01)\n"
     ]
    },
    {
     "data": {
      "image/png": "[encoded data removed]",
      "text/plain": [
       "<Figure size 1080x720 with 1 Axes>"
      ]
     },
     "metadata": {
      "needs_background": "light"
     },
     "output_type": "display_data"
    }
   ],
   "source": [
    "plt.figure(figsize=(15,10))\n",
    "predicted_susceptible = res[:,0].detach().numpy()\n",
    "predicted_infectous = res[:,1].detach().numpy()\n",
    "predicted_recovered = res[:,2].detach().numpy()\n",
    "predicted_vaccinated = res[:,3].detach().numpy()\n",
    "\n",
    "plt.plot(range(res[:,0].shape[0]), predicted_susceptible, color = 'r', linewidth=0, marker='.', label='sus')\n",
    "plt.plot(range(res[:,0].shape[0]), predicted_infectous, color = 'b', linewidth=0, marker='o', label='inf')\n",
    "plt.plot(range(res[:,0].shape[0]), predicted_recovered, color = 'y', linewidth=0, marker='v', label='rec')\n",
    "plt.plot(range(res[:,0].shape[0]), predicted_vaccinated, color = 'g', linewidth=0, marker='x', label='vac')\n",
    "\n",
    "plt.yscale('log')\n",
    "\n",
    "plt.ylim(0, 1)\n",
    "plt.xlim(0,len(res[:,0]))\n",
    "plt.ylabel('Proportion')\n",
    "plt.xlabel('Generation')\n",
    "x = np.arange(0,len(res[:,0])+1)\n",
    "plt.xticks(np.arange(min(x), max(x)+1, 5.0))\n",
    "plt.title('Extrapolacion del modelo')\n",
    "plt.legend()\n",
    "plt.savefig(f'figures/{enfermedad}/extrapolation_{enfermedad}.png', format='png', linewidth = 0.01)"
   ]
  },
  {
   "cell_type": "code",
   "execution_count": 53,
   "id": "8bb08e0d",
   "metadata": {},
   "outputs": [
    {
     "name": "stderr",
     "output_type": "stream",
     "text": [
      "/var/folders/g0/jqvp4xxs5pn4cds1xb9339xm0000gn/T/ipykernel_40390/3147206596.py:22: MatplotlibDeprecationWarning: savefig() got unexpected keyword argument \"linewidth\" which is no longer supported as of 3.3 and will become an error two minor releases later\n",
      "  plt.savefig(f'figures/{enfermedad}/extrapolation_{enfermedad}_vac_suc.png', format='png', linewidth = 0.01)\n"
     ]
    },
    {
     "data": {
      "image/png": "[encoded data removed]",
      "text/plain": [
       "<Figure size 1080x720 with 1 Axes>"
      ]
     },
     "metadata": {
      "needs_background": "light"
     },
     "output_type": "display_data"
    }
   ],
   "source": [
    "plt.figure(figsize=(15,10))\n",
    "predicted_susceptible = res[:,0].detach().numpy()\n",
    "# predicted_infectous = res[:,1].detach().numpy()\n",
    "# predicted_recovered = res[:,2].detach().numpy()\n",
    "predicted_vaccinated = res[:,3].detach().numpy()\n",
    "\n",
    "plt.plot(range(res[:,0].shape[0]), predicted_susceptible, color = 'r', linewidth=0, marker='.', label='sus')\n",
    "# plt.plot(range(res[:,0].shape[0]), predicted_infectous, color = 'b', linewidth=0, marker='o', label='inf')\n",
    "# plt.plot(range(res[:,0].shape[0]), predicted_recovered, color = 'y', linewidth=0, marker='v', label='rec')\n",
    "plt.plot(range(res[:,0].shape[0]), predicted_vaccinated, color = 'g', linewidth=0, marker='x', label='vac')\n",
    "\n",
    "# plt.yscale('log')\n",
    "\n",
    "plt.ylim(0, 1)\n",
    "plt.xlim(0,len(res[:,0]))\n",
    "plt.ylabel('Proportion')\n",
    "plt.xlabel('Generation')\n",
    "x = np.arange(0,len(res[:,0])+1)\n",
    "plt.xticks(np.arange(min(x), max(x)+1, 5.0))\n",
    "plt.title('Extrapolacion del modelo')\n",
    "plt.legend()\n",
    "plt.savefig(f'figures/{enfermedad}/extrapolation_{enfermedad}_vac_suc.png', format='png', linewidth = 0.01)"
   ]
  },
  {
   "cell_type": "code",
   "execution_count": 54,
   "id": "encouraging-corner",
   "metadata": {},
   "outputs": [
    {
     "name": "stderr",
     "output_type": "stream",
     "text": [
      "/var/folders/g0/jqvp4xxs5pn4cds1xb9339xm0000gn/T/ipykernel_40390/393367125.py:21: MatplotlibDeprecationWarning: savefig() got unexpected keyword argument \"linewidth\" which is no longer supported as of 3.3 and will become an error two minor releases later\n",
      "  plt.savefig(f'figures/{enfermedad}/extrapolation_{enfermedad}_inf_rec.png', format='png', linewidth = 0.01)\n"
     ]
    },
    {
     "data": {
      "image/png": "[encoded data removed]",
      "text/plain": [
       "<Figure size 1080x720 with 1 Axes>"
      ]
     },
     "metadata": {
      "needs_background": "light"
     },
     "output_type": "display_data"
    }
   ],
   "source": [
    "plt.figure(figsize=(15,10))\n",
    "# predicted_susceptible = res[:,0].detach().numpy()\n",
    "predicted_infectous = res[:,1].detach().numpy()\n",
    "predicted_recovered = res[:,2].detach().numpy()\n",
    "# predicted_vaccinated = res[:,3].detach().numpy()\n",
    "\n",
    "# plt.plot(range(res[:,0].shape[0]), predicted_susceptible, color = 'r', linewidth=0, marker='.', label='sus')\n",
    "plt.plot(range(res[:,0].shape[0]), predicted_infectous, color = 'b', linewidth=0, marker='o', label='inf')\n",
    "plt.plot(range(res[:,0].shape[0]), predicted_recovered, color = 'y', linewidth=0, marker='v', label='rec')\n",
    "# plt.plot(range(res[:,0].shape[0]), predicted_vaccinated, color = 'g', linewidth=0, marker='x', label='vac')\n",
    "\n",
    "# plt.yscale('log')\n",
    "\n",
    "plt.xlim(0,len(res[:,0]))\n",
    "plt.ylabel('Proportion')\n",
    "plt.xlabel('Generation')\n",
    "x = np.arange(0,len(res[:,0])+1)\n",
    "plt.xticks(np.arange(min(x), max(x)+1, 5.0))\n",
    "plt.title('Extrapolacion del modelo')\n",
    "plt.legend()\n",
    "plt.savefig(f'figures/{enfermedad}/extrapolation_{enfermedad}_inf_rec.png', format='png', linewidth = 0.01)"
   ]
  },
  {
   "cell_type": "code",
   "execution_count": null,
   "id": "naughty-buying",
   "metadata": {},
   "outputs": [],
   "source": []
  },
  {
   "cell_type": "code",
   "execution_count": null,
   "id": "clear-tutorial",
   "metadata": {},
   "outputs": [],
   "source": []
  },
  {
   "cell_type": "code",
   "execution_count": null,
   "id": "revolutionary-airport",
   "metadata": {},
   "outputs": [],
   "source": []
  },
  {
   "cell_type": "code",
   "execution_count": null,
   "id": "blessed-julian",
   "metadata": {},
   "outputs": [],
   "source": []
  }
 ],
 "metadata": {
  "kernelspec": {
   "display_name": "simuladores",
   "language": "python",
   "name": "simuladores"
  },
  "language_info": {
   "codemirror_mode": {
    "name": "ipython",
    "version": 3
   },
   "file_extension": ".py",
   "mimetype": "text/x-python",
   "name": "python",
   "nbconvert_exporter": "python",
   "pygments_lexer": "ipython3",
   "version": "3.9.1"
  }
 },
 "nbformat": 4,
 "nbformat_minor": 5
}
