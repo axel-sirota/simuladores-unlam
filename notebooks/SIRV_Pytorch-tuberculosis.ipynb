{
 "cells": [
  {
   "cell_type": "code",
   "execution_count": 1,
   "id": "94c58b65",
   "metadata": {},
   "outputs": [],
   "source": [
    "import sys\n",
    "import os\n",
    "sys.path.append('..')\n",
    "import numpy as np\n",
    "import pandas as pd\n",
    "from models import sir\n",
    "from config import get_project_root\n",
    "import torchmetrics\n",
    "from models.pytorchtools import EarlyStopping"
   ]
  },
  {
   "cell_type": "code",
   "execution_count": 2,
   "id": "0bcfc515",
   "metadata": {},
   "outputs": [],
   "source": [
    "enfermedad='tuberculosis'\n",
    "DATA_FOLDER = f'{get_project_root()}/data'\n",
    "INFECTADOS_PATH = f'{DATA_FOLDER}/extrapolated/infectados_{enfermedad}_extrapolado.csv'\n",
    "HABITANTES_PATH = f'{DATA_FOLDER}/extrapolated/habitantes_{enfermedad}_extrapolado.csv'\n",
    "VACUNADOS_PATH = f'{DATA_FOLDER}/extrapolated/vacunados_{enfermedad}_extrapolado.csv'\n",
    "YEARS = [2018, 2019, 2020, 2021, 2022]\n",
    "MONTHS = ['ENE', 'FEB', 'MAR', 'ABR', 'MAY', 'JUN', 'JUL', 'AGOS', 'SEP', 'OCT', 'NOV', 'DIC']\n"
   ]
  },
  {
   "cell_type": "code",
   "execution_count": 3,
   "id": "9b58ccf0",
   "metadata": {},
   "outputs": [
    {
     "data": {
      "text/plain": [
       "46234830"
      ]
     },
     "execution_count": 3,
     "metadata": {},
     "output_type": "execute_result"
    }
   ],
   "source": [
    "habitantes_curve = pd.read_csv(HABITANTES_PATH).set_index('ANO')\n",
    "for month in MONTHS:\n",
    "    habitantes_curve[month] = habitantes_curve['JUL']\n",
    "max_habs = habitantes_curve.max().max()\n",
    "max_habs"
   ]
  },
  {
   "cell_type": "code",
   "execution_count": 4,
   "id": "261f888d",
   "metadata": {},
   "outputs": [],
   "source": [
    "def extract_curve(path=None, df=None):\n",
    "    if df is None:\n",
    "        df = pd.read_csv(path).set_index('ANO')\n",
    "    df = df[df.columns[:12]].T\n",
    "    values = []\n",
    "    for year in YEARS:\n",
    "        values.extend(df[year].tolist())\n",
    "    return pd.Series(values)\n",
    "\n",
    "infectuous_curve = extract_curve(path=INFECTADOS_PATH)  \n",
    "vacunados_curve = extract_curve(path=VACUNADOS_PATH)\n",
    "recovered_curve = pd.Series([0]*len(infectuous_curve))\n",
    "max_habs = max([habitantes_curve.max().max(), vacunados_curve.max().max()])"
   ]
  },
  {
   "cell_type": "code",
   "execution_count": 5,
   "id": "418a99c1",
   "metadata": {},
   "outputs": [
    {
     "data": {
      "text/html": [
       "<div>\n",
       "<style scoped>\n",
       "    .dataframe tbody tr th:only-of-type {\n",
       "        vertical-align: middle;\n",
       "    }\n",
       "\n",
       "    .dataframe tbody tr th {\n",
       "        vertical-align: top;\n",
       "    }\n",
       "\n",
       "    .dataframe thead th {\n",
       "        text-align: right;\n",
       "    }\n",
       "</style>\n",
       "<table border=\"1\" class=\"dataframe\">\n",
       "  <thead>\n",
       "    <tr style=\"text-align: right;\">\n",
       "      <th></th>\n",
       "      <th>ENE</th>\n",
       "      <th>FEB</th>\n",
       "      <th>MAR</th>\n",
       "      <th>ABR</th>\n",
       "      <th>MAY</th>\n",
       "      <th>JUN</th>\n",
       "      <th>JUL</th>\n",
       "      <th>AGOS</th>\n",
       "      <th>SEP</th>\n",
       "      <th>OCT</th>\n",
       "      <th>NOV</th>\n",
       "      <th>DIC</th>\n",
       "    </tr>\n",
       "    <tr>\n",
       "      <th>ANO</th>\n",
       "      <th></th>\n",
       "      <th></th>\n",
       "      <th></th>\n",
       "      <th></th>\n",
       "      <th></th>\n",
       "      <th></th>\n",
       "      <th></th>\n",
       "      <th></th>\n",
       "      <th></th>\n",
       "      <th></th>\n",
       "      <th></th>\n",
       "      <th></th>\n",
       "    </tr>\n",
       "  </thead>\n",
       "  <tbody>\n",
       "    <tr>\n",
       "      <th>2018</th>\n",
       "      <td>44494502</td>\n",
       "      <td>44494502</td>\n",
       "      <td>44494502</td>\n",
       "      <td>44494502</td>\n",
       "      <td>44494502</td>\n",
       "      <td>44494502</td>\n",
       "      <td>44494502</td>\n",
       "      <td>44494502</td>\n",
       "      <td>44494502</td>\n",
       "      <td>44494502</td>\n",
       "      <td>44494502</td>\n",
       "      <td>44494502</td>\n",
       "    </tr>\n",
       "    <tr>\n",
       "      <th>2019</th>\n",
       "      <td>44938712</td>\n",
       "      <td>44938712</td>\n",
       "      <td>44938712</td>\n",
       "      <td>44938712</td>\n",
       "      <td>44938712</td>\n",
       "      <td>44938712</td>\n",
       "      <td>44938712</td>\n",
       "      <td>44938712</td>\n",
       "      <td>44938712</td>\n",
       "      <td>44938712</td>\n",
       "      <td>44938712</td>\n",
       "      <td>44938712</td>\n",
       "    </tr>\n",
       "    <tr>\n",
       "      <th>2020</th>\n",
       "      <td>45376763</td>\n",
       "      <td>45376763</td>\n",
       "      <td>45376763</td>\n",
       "      <td>45376763</td>\n",
       "      <td>45376763</td>\n",
       "      <td>45376763</td>\n",
       "      <td>45376763</td>\n",
       "      <td>45376763</td>\n",
       "      <td>45376763</td>\n",
       "      <td>45376763</td>\n",
       "      <td>45376763</td>\n",
       "      <td>45376763</td>\n",
       "    </tr>\n",
       "    <tr>\n",
       "      <th>2021</th>\n",
       "      <td>45808747</td>\n",
       "      <td>45808747</td>\n",
       "      <td>45808747</td>\n",
       "      <td>45808747</td>\n",
       "      <td>45808747</td>\n",
       "      <td>45808747</td>\n",
       "      <td>45808747</td>\n",
       "      <td>45808747</td>\n",
       "      <td>45808747</td>\n",
       "      <td>45808747</td>\n",
       "      <td>45808747</td>\n",
       "      <td>45808747</td>\n",
       "    </tr>\n",
       "    <tr>\n",
       "      <th>2022</th>\n",
       "      <td>46234830</td>\n",
       "      <td>46234830</td>\n",
       "      <td>46234830</td>\n",
       "      <td>46234830</td>\n",
       "      <td>46234830</td>\n",
       "      <td>46234830</td>\n",
       "      <td>46234830</td>\n",
       "      <td>46234830</td>\n",
       "      <td>46234830</td>\n",
       "      <td>46234830</td>\n",
       "      <td>46234830</td>\n",
       "      <td>46234830</td>\n",
       "    </tr>\n",
       "  </tbody>\n",
       "</table>\n",
       "</div>"
      ],
      "text/plain": [
       "           ENE       FEB       MAR       ABR       MAY       JUN       JUL  \\\n",
       "ANO                                                                          \n",
       "2018  44494502  44494502  44494502  44494502  44494502  44494502  44494502   \n",
       "2019  44938712  44938712  44938712  44938712  44938712  44938712  44938712   \n",
       "2020  45376763  45376763  45376763  45376763  45376763  45376763  45376763   \n",
       "2021  45808747  45808747  45808747  45808747  45808747  45808747  45808747   \n",
       "2022  46234830  46234830  46234830  46234830  46234830  46234830  46234830   \n",
       "\n",
       "          AGOS       SEP       OCT       NOV       DIC  \n",
       "ANO                                                     \n",
       "2018  44494502  44494502  44494502  44494502  44494502  \n",
       "2019  44938712  44938712  44938712  44938712  44938712  \n",
       "2020  45376763  45376763  45376763  45376763  45376763  \n",
       "2021  45808747  45808747  45808747  45808747  45808747  \n",
       "2022  46234830  46234830  46234830  46234830  46234830  "
      ]
     },
     "execution_count": 5,
     "metadata": {},
     "output_type": "execute_result"
    }
   ],
   "source": [
    "habitantes_curve"
   ]
  },
  {
   "cell_type": "code",
   "execution_count": 6,
   "id": "f5c8c6cb",
   "metadata": {},
   "outputs": [],
   "source": [
    "for ix, val in enumerate(infectuous_curve):\n",
    "    try:\n",
    "        recovered_curve[ix+1] += val\n",
    "    except KeyError:\n",
    "        continue"
   ]
  },
  {
   "cell_type": "code",
   "execution_count": 7,
   "id": "3848039b",
   "metadata": {},
   "outputs": [],
   "source": [
    "susceptible_curve = max_habs - infectuous_curve - vacunados_curve - recovered_curve\n",
    "\n"
   ]
  },
  {
   "cell_type": "code",
   "execution_count": 8,
   "id": "b781eec1",
   "metadata": {},
   "outputs": [],
   "source": [
    "data = pd.concat([susceptible_curve, infectuous_curve, recovered_curve, vacunados_curve], axis=1).rename(columns={0:'Susceptible', 1:'Infectados', 2:'Recuperados', 3:'Vacunados'})\n",
    "infectados_real = data.diff()['Infectados']\n",
    "infectados_real.loc[0] = 0\n",
    "infectados_real\n",
    "data['Infectados'] = infectados_real"
   ]
  },
  {
   "cell_type": "code",
   "execution_count": 9,
   "id": "62d1c4f9",
   "metadata": {},
   "outputs": [
    {
     "data": {
      "text/html": [
       "<div>\n",
       "<style scoped>\n",
       "    .dataframe tbody tr th:only-of-type {\n",
       "        vertical-align: middle;\n",
       "    }\n",
       "\n",
       "    .dataframe tbody tr th {\n",
       "        vertical-align: top;\n",
       "    }\n",
       "\n",
       "    .dataframe thead th {\n",
       "        text-align: right;\n",
       "    }\n",
       "</style>\n",
       "<table border=\"1\" class=\"dataframe\">\n",
       "  <thead>\n",
       "    <tr style=\"text-align: right;\">\n",
       "      <th></th>\n",
       "      <th>Susceptible</th>\n",
       "      <th>Infectados</th>\n",
       "      <th>Recuperados</th>\n",
       "      <th>Vacunados</th>\n",
       "    </tr>\n",
       "  </thead>\n",
       "  <tbody>\n",
       "    <tr>\n",
       "      <th>0</th>\n",
       "      <td>35245790.0</td>\n",
       "      <td>0.0</td>\n",
       "      <td>0</td>\n",
       "      <td>10989040.0</td>\n",
       "    </tr>\n",
       "    <tr>\n",
       "      <th>1</th>\n",
       "      <td>35232426.0</td>\n",
       "      <td>0.0</td>\n",
       "      <td>0</td>\n",
       "      <td>11002404.0</td>\n",
       "    </tr>\n",
       "    <tr>\n",
       "      <th>2</th>\n",
       "      <td>35216726.0</td>\n",
       "      <td>0.0</td>\n",
       "      <td>0</td>\n",
       "      <td>11018104.0</td>\n",
       "    </tr>\n",
       "    <tr>\n",
       "      <th>3</th>\n",
       "      <td>35202391.0</td>\n",
       "      <td>0.0</td>\n",
       "      <td>0</td>\n",
       "      <td>11032439.0</td>\n",
       "    </tr>\n",
       "    <tr>\n",
       "      <th>4</th>\n",
       "      <td>35188069.0</td>\n",
       "      <td>0.0</td>\n",
       "      <td>0</td>\n",
       "      <td>11046761.0</td>\n",
       "    </tr>\n",
       "    <tr>\n",
       "      <th>5</th>\n",
       "      <td>35174617.0</td>\n",
       "      <td>0.0</td>\n",
       "      <td>0</td>\n",
       "      <td>11060213.0</td>\n",
       "    </tr>\n",
       "    <tr>\n",
       "      <th>6</th>\n",
       "      <td>35161119.0</td>\n",
       "      <td>0.0</td>\n",
       "      <td>0</td>\n",
       "      <td>11073711.0</td>\n",
       "    </tr>\n",
       "    <tr>\n",
       "      <th>7</th>\n",
       "      <td>35146155.0</td>\n",
       "      <td>12.0</td>\n",
       "      <td>0</td>\n",
       "      <td>11088663.0</td>\n",
       "    </tr>\n",
       "    <tr>\n",
       "      <th>8</th>\n",
       "      <td>35131967.0</td>\n",
       "      <td>9.0</td>\n",
       "      <td>12</td>\n",
       "      <td>11102830.0</td>\n",
       "    </tr>\n",
       "    <tr>\n",
       "      <th>9</th>\n",
       "      <td>35117945.0</td>\n",
       "      <td>0.0</td>\n",
       "      <td>21</td>\n",
       "      <td>11116843.0</td>\n",
       "    </tr>\n",
       "    <tr>\n",
       "      <th>10</th>\n",
       "      <td>35105141.0</td>\n",
       "      <td>0.0</td>\n",
       "      <td>21</td>\n",
       "      <td>11129647.0</td>\n",
       "    </tr>\n",
       "    <tr>\n",
       "      <th>11</th>\n",
       "      <td>35092473.0</td>\n",
       "      <td>42.0</td>\n",
       "      <td>21</td>\n",
       "      <td>11142273.0</td>\n",
       "    </tr>\n",
       "    <tr>\n",
       "      <th>12</th>\n",
       "      <td>35078232.0</td>\n",
       "      <td>0.0</td>\n",
       "      <td>63</td>\n",
       "      <td>11156472.0</td>\n",
       "    </tr>\n",
       "    <tr>\n",
       "      <th>13</th>\n",
       "      <td>35065003.0</td>\n",
       "      <td>0.0</td>\n",
       "      <td>63</td>\n",
       "      <td>11169701.0</td>\n",
       "    </tr>\n",
       "    <tr>\n",
       "      <th>14</th>\n",
       "      <td>35050398.0</td>\n",
       "      <td>0.0</td>\n",
       "      <td>63</td>\n",
       "      <td>11184306.0</td>\n",
       "    </tr>\n",
       "    <tr>\n",
       "      <th>15</th>\n",
       "      <td>35035973.0</td>\n",
       "      <td>214.0</td>\n",
       "      <td>63</td>\n",
       "      <td>11198517.0</td>\n",
       "    </tr>\n",
       "    <tr>\n",
       "      <th>16</th>\n",
       "      <td>35021587.0</td>\n",
       "      <td>0.0</td>\n",
       "      <td>277</td>\n",
       "      <td>11212689.0</td>\n",
       "    </tr>\n",
       "    <tr>\n",
       "      <th>17</th>\n",
       "      <td>35008166.0</td>\n",
       "      <td>239.0</td>\n",
       "      <td>277</td>\n",
       "      <td>11225871.0</td>\n",
       "    </tr>\n",
       "    <tr>\n",
       "      <th>18</th>\n",
       "      <td>34994034.0</td>\n",
       "      <td>425.0</td>\n",
       "      <td>516</td>\n",
       "      <td>11239339.0</td>\n",
       "    </tr>\n",
       "    <tr>\n",
       "      <th>19</th>\n",
       "      <td>34980165.0</td>\n",
       "      <td>656.0</td>\n",
       "      <td>941</td>\n",
       "      <td>11252127.0</td>\n",
       "    </tr>\n",
       "    <tr>\n",
       "      <th>20</th>\n",
       "      <td>34966577.0</td>\n",
       "      <td>640.0</td>\n",
       "      <td>1597</td>\n",
       "      <td>11264419.0</td>\n",
       "    </tr>\n",
       "    <tr>\n",
       "      <th>21</th>\n",
       "      <td>34953779.0</td>\n",
       "      <td>902.0</td>\n",
       "      <td>2237</td>\n",
       "      <td>11275675.0</td>\n",
       "    </tr>\n",
       "    <tr>\n",
       "      <th>22</th>\n",
       "      <td>34941664.0</td>\n",
       "      <td>680.0</td>\n",
       "      <td>3139</td>\n",
       "      <td>11286208.0</td>\n",
       "    </tr>\n",
       "    <tr>\n",
       "      <th>23</th>\n",
       "      <td>34923041.0</td>\n",
       "      <td>5530.0</td>\n",
       "      <td>3819</td>\n",
       "      <td>11298621.0</td>\n",
       "    </tr>\n",
       "    <tr>\n",
       "      <th>24</th>\n",
       "      <td>34904162.0</td>\n",
       "      <td>705.0</td>\n",
       "      <td>9349</td>\n",
       "      <td>11311265.0</td>\n",
       "    </tr>\n",
       "    <tr>\n",
       "      <th>25</th>\n",
       "      <td>34892791.0</td>\n",
       "      <td>426.0</td>\n",
       "      <td>10054</td>\n",
       "      <td>11321505.0</td>\n",
       "    </tr>\n",
       "    <tr>\n",
       "      <th>26</th>\n",
       "      <td>34884112.0</td>\n",
       "      <td>185.0</td>\n",
       "      <td>10480</td>\n",
       "      <td>11329573.0</td>\n",
       "    </tr>\n",
       "    <tr>\n",
       "      <th>27</th>\n",
       "      <td>34876063.0</td>\n",
       "      <td>709.0</td>\n",
       "      <td>10665</td>\n",
       "      <td>11336728.0</td>\n",
       "    </tr>\n",
       "    <tr>\n",
       "      <th>28</th>\n",
       "      <td>34866491.0</td>\n",
       "      <td>922.0</td>\n",
       "      <td>11374</td>\n",
       "      <td>11344669.0</td>\n",
       "    </tr>\n",
       "    <tr>\n",
       "      <th>29</th>\n",
       "      <td>34856726.0</td>\n",
       "      <td>217.0</td>\n",
       "      <td>12296</td>\n",
       "      <td>11353295.0</td>\n",
       "    </tr>\n",
       "    <tr>\n",
       "      <th>30</th>\n",
       "      <td>34847694.0</td>\n",
       "      <td>397.0</td>\n",
       "      <td>12513</td>\n",
       "      <td>11361713.0</td>\n",
       "    </tr>\n",
       "    <tr>\n",
       "      <th>31</th>\n",
       "      <td>34838926.0</td>\n",
       "      <td>557.0</td>\n",
       "      <td>12910</td>\n",
       "      <td>11369527.0</td>\n",
       "    </tr>\n",
       "    <tr>\n",
       "      <th>32</th>\n",
       "      <td>34830240.0</td>\n",
       "      <td>0.0</td>\n",
       "      <td>13467</td>\n",
       "      <td>11377656.0</td>\n",
       "    </tr>\n",
       "    <tr>\n",
       "      <th>33</th>\n",
       "      <td>34823526.0</td>\n",
       "      <td>0.0</td>\n",
       "      <td>13467</td>\n",
       "      <td>11384370.0</td>\n",
       "    </tr>\n",
       "    <tr>\n",
       "      <th>34</th>\n",
       "      <td>34816611.0</td>\n",
       "      <td>217.0</td>\n",
       "      <td>13467</td>\n",
       "      <td>11391068.0</td>\n",
       "    </tr>\n",
       "    <tr>\n",
       "      <th>35</th>\n",
       "      <td>34804430.0</td>\n",
       "      <td>4972.0</td>\n",
       "      <td>13684</td>\n",
       "      <td>11398060.0</td>\n",
       "    </tr>\n",
       "    <tr>\n",
       "      <th>36</th>\n",
       "      <td>34791263.0</td>\n",
       "      <td>0.0</td>\n",
       "      <td>18656</td>\n",
       "      <td>11406255.0</td>\n",
       "    </tr>\n",
       "    <tr>\n",
       "      <th>37</th>\n",
       "      <td>34783075.0</td>\n",
       "      <td>0.0</td>\n",
       "      <td>18656</td>\n",
       "      <td>11414443.0</td>\n",
       "    </tr>\n",
       "    <tr>\n",
       "      <th>38</th>\n",
       "      <td>34774165.0</td>\n",
       "      <td>0.0</td>\n",
       "      <td>18656</td>\n",
       "      <td>11423353.0</td>\n",
       "    </tr>\n",
       "    <tr>\n",
       "      <th>39</th>\n",
       "      <td>34765791.0</td>\n",
       "      <td>0.0</td>\n",
       "      <td>18656</td>\n",
       "      <td>11431727.0</td>\n",
       "    </tr>\n",
       "    <tr>\n",
       "      <th>40</th>\n",
       "      <td>34758105.0</td>\n",
       "      <td>214.0</td>\n",
       "      <td>18656</td>\n",
       "      <td>11439199.0</td>\n",
       "    </tr>\n",
       "    <tr>\n",
       "      <th>41</th>\n",
       "      <td>34750910.0</td>\n",
       "      <td>0.0</td>\n",
       "      <td>18870</td>\n",
       "      <td>11446180.0</td>\n",
       "    </tr>\n",
       "    <tr>\n",
       "      <th>42</th>\n",
       "      <td>34743888.0</td>\n",
       "      <td>440.0</td>\n",
       "      <td>18870</td>\n",
       "      <td>11452762.0</td>\n",
       "    </tr>\n",
       "    <tr>\n",
       "      <th>43</th>\n",
       "      <td>34736754.0</td>\n",
       "      <td>1041.0</td>\n",
       "      <td>19310</td>\n",
       "      <td>11458415.0</td>\n",
       "    </tr>\n",
       "    <tr>\n",
       "      <th>44</th>\n",
       "      <td>34724055.0</td>\n",
       "      <td>1060.0</td>\n",
       "      <td>20351</td>\n",
       "      <td>11469013.0</td>\n",
       "    </tr>\n",
       "    <tr>\n",
       "      <th>45</th>\n",
       "      <td>34712127.0</td>\n",
       "      <td>513.0</td>\n",
       "      <td>21411</td>\n",
       "      <td>11479368.0</td>\n",
       "    </tr>\n",
       "    <tr>\n",
       "      <th>46</th>\n",
       "      <td>34700178.0</td>\n",
       "      <td>1143.0</td>\n",
       "      <td>21924</td>\n",
       "      <td>11489661.0</td>\n",
       "    </tr>\n",
       "    <tr>\n",
       "      <th>47</th>\n",
       "      <td>34683192.0</td>\n",
       "      <td>5602.0</td>\n",
       "      <td>23067</td>\n",
       "      <td>11499902.0</td>\n",
       "    </tr>\n",
       "    <tr>\n",
       "      <th>48</th>\n",
       "      <td>34661197.0</td>\n",
       "      <td>0.0</td>\n",
       "      <td>28669</td>\n",
       "      <td>11516295.0</td>\n",
       "    </tr>\n",
       "    <tr>\n",
       "      <th>49</th>\n",
       "      <td>34645050.0</td>\n",
       "      <td>0.0</td>\n",
       "      <td>28669</td>\n",
       "      <td>11532442.0</td>\n",
       "    </tr>\n",
       "    <tr>\n",
       "      <th>50</th>\n",
       "      <td>34625323.0</td>\n",
       "      <td>275.0</td>\n",
       "      <td>28669</td>\n",
       "      <td>11551894.0</td>\n",
       "    </tr>\n",
       "    <tr>\n",
       "      <th>51</th>\n",
       "      <td>34605642.0</td>\n",
       "      <td>619.0</td>\n",
       "      <td>28944</td>\n",
       "      <td>11570681.0</td>\n",
       "    </tr>\n",
       "    <tr>\n",
       "      <th>52</th>\n",
       "      <td>34584769.0</td>\n",
       "      <td>682.0</td>\n",
       "      <td>29563</td>\n",
       "      <td>11590253.0</td>\n",
       "    </tr>\n",
       "    <tr>\n",
       "      <th>53</th>\n",
       "      <td>34565080.0</td>\n",
       "      <td>402.0</td>\n",
       "      <td>30245</td>\n",
       "      <td>11608858.0</td>\n",
       "    </tr>\n",
       "    <tr>\n",
       "      <th>54</th>\n",
       "      <td>34544861.0</td>\n",
       "      <td>604.0</td>\n",
       "      <td>30647</td>\n",
       "      <td>11628071.0</td>\n",
       "    </tr>\n",
       "    <tr>\n",
       "      <th>55</th>\n",
       "      <td>34525556.0</td>\n",
       "      <td>946.0</td>\n",
       "      <td>31251</td>\n",
       "      <td>11645826.0</td>\n",
       "    </tr>\n",
       "    <tr>\n",
       "      <th>56</th>\n",
       "      <td>34508716.0</td>\n",
       "      <td>1001.0</td>\n",
       "      <td>32197</td>\n",
       "      <td>11660719.0</td>\n",
       "    </tr>\n",
       "    <tr>\n",
       "      <th>57</th>\n",
       "      <td>34507715.0</td>\n",
       "      <td>0.0</td>\n",
       "      <td>33198</td>\n",
       "      <td>11660719.0</td>\n",
       "    </tr>\n",
       "    <tr>\n",
       "      <th>58</th>\n",
       "      <td>34507715.0</td>\n",
       "      <td>0.0</td>\n",
       "      <td>33198</td>\n",
       "      <td>11660719.0</td>\n",
       "    </tr>\n",
       "    <tr>\n",
       "      <th>59</th>\n",
       "      <td>34507430.0</td>\n",
       "      <td>285.0</td>\n",
       "      <td>33198</td>\n",
       "      <td>11660719.0</td>\n",
       "    </tr>\n",
       "  </tbody>\n",
       "</table>\n",
       "</div>"
      ],
      "text/plain": [
       "    Susceptible  Infectados  Recuperados   Vacunados\n",
       "0    35245790.0         0.0            0  10989040.0\n",
       "1    35232426.0         0.0            0  11002404.0\n",
       "2    35216726.0         0.0            0  11018104.0\n",
       "3    35202391.0         0.0            0  11032439.0\n",
       "4    35188069.0         0.0            0  11046761.0\n",
       "5    35174617.0         0.0            0  11060213.0\n",
       "6    35161119.0         0.0            0  11073711.0\n",
       "7    35146155.0        12.0            0  11088663.0\n",
       "8    35131967.0         9.0           12  11102830.0\n",
       "9    35117945.0         0.0           21  11116843.0\n",
       "10   35105141.0         0.0           21  11129647.0\n",
       "11   35092473.0        42.0           21  11142273.0\n",
       "12   35078232.0         0.0           63  11156472.0\n",
       "13   35065003.0         0.0           63  11169701.0\n",
       "14   35050398.0         0.0           63  11184306.0\n",
       "15   35035973.0       214.0           63  11198517.0\n",
       "16   35021587.0         0.0          277  11212689.0\n",
       "17   35008166.0       239.0          277  11225871.0\n",
       "18   34994034.0       425.0          516  11239339.0\n",
       "19   34980165.0       656.0          941  11252127.0\n",
       "20   34966577.0       640.0         1597  11264419.0\n",
       "21   34953779.0       902.0         2237  11275675.0\n",
       "22   34941664.0       680.0         3139  11286208.0\n",
       "23   34923041.0      5530.0         3819  11298621.0\n",
       "24   34904162.0       705.0         9349  11311265.0\n",
       "25   34892791.0       426.0        10054  11321505.0\n",
       "26   34884112.0       185.0        10480  11329573.0\n",
       "27   34876063.0       709.0        10665  11336728.0\n",
       "28   34866491.0       922.0        11374  11344669.0\n",
       "29   34856726.0       217.0        12296  11353295.0\n",
       "30   34847694.0       397.0        12513  11361713.0\n",
       "31   34838926.0       557.0        12910  11369527.0\n",
       "32   34830240.0         0.0        13467  11377656.0\n",
       "33   34823526.0         0.0        13467  11384370.0\n",
       "34   34816611.0       217.0        13467  11391068.0\n",
       "35   34804430.0      4972.0        13684  11398060.0\n",
       "36   34791263.0         0.0        18656  11406255.0\n",
       "37   34783075.0         0.0        18656  11414443.0\n",
       "38   34774165.0         0.0        18656  11423353.0\n",
       "39   34765791.0         0.0        18656  11431727.0\n",
       "40   34758105.0       214.0        18656  11439199.0\n",
       "41   34750910.0         0.0        18870  11446180.0\n",
       "42   34743888.0       440.0        18870  11452762.0\n",
       "43   34736754.0      1041.0        19310  11458415.0\n",
       "44   34724055.0      1060.0        20351  11469013.0\n",
       "45   34712127.0       513.0        21411  11479368.0\n",
       "46   34700178.0      1143.0        21924  11489661.0\n",
       "47   34683192.0      5602.0        23067  11499902.0\n",
       "48   34661197.0         0.0        28669  11516295.0\n",
       "49   34645050.0         0.0        28669  11532442.0\n",
       "50   34625323.0       275.0        28669  11551894.0\n",
       "51   34605642.0       619.0        28944  11570681.0\n",
       "52   34584769.0       682.0        29563  11590253.0\n",
       "53   34565080.0       402.0        30245  11608858.0\n",
       "54   34544861.0       604.0        30647  11628071.0\n",
       "55   34525556.0       946.0        31251  11645826.0\n",
       "56   34508716.0      1001.0        32197  11660719.0\n",
       "57   34507715.0         0.0        33198  11660719.0\n",
       "58   34507715.0         0.0        33198  11660719.0\n",
       "59   34507430.0       285.0        33198  11660719.0"
      ]
     },
     "execution_count": 9,
     "metadata": {},
     "output_type": "execute_result"
    }
   ],
   "source": [
    "data"
   ]
  },
  {
   "cell_type": "code",
   "execution_count": 10,
   "id": "7d7850f1",
   "metadata": {},
   "outputs": [],
   "source": [
    "data_numpy = np.array(data)/max_habs"
   ]
  },
  {
   "cell_type": "code",
   "execution_count": 11,
   "id": "dd08e581",
   "metadata": {},
   "outputs": [],
   "source": [
    "import torch\n",
    "import torch.nn as nn\n",
    "import torch.nn.functional as F\n"
   ]
  },
  {
   "cell_type": "code",
   "execution_count": 12,
   "id": "780383ea",
   "metadata": {},
   "outputs": [],
   "source": [
    "class SIRV(nn.Module):\n",
    "    def __init__(self, epsilon=1e-7):\n",
    "        super(SIRV, self).__init__()\n",
    "        self.lambda1 = nn.Linear(1,1, bias = False) # tasa de contacto efectivo\n",
    "        self.lambda2 = nn.Linear(1,1, bias = False) # tasa de immunizacion\n",
    "        self.lambda3 = nn.Linear(1,1, bias = False) # tasa de recuperacion\n",
    "        torch.nn.init.xavier_uniform_(self.lambda1.weight, gain=0.01)\n",
    "        torch.nn.init.xavier_uniform_(self.lambda2.weight, gain=0.01)\n",
    "        torch.nn.init.xavier_uniform_(self.lambda3.weight, gain=0.01)\n",
    "        self.epsilon = epsilon\n",
    "    \n",
    "    def forward(self, x, size_of_starter_set, amount_of_prediction_in_future):\n",
    "        assert size_of_starter_set < amount_of_prediction_in_future\n",
    "        ns = torch.zeros([amount_of_prediction_in_future, 4],dtype=torch.float, requires_grad = False)\n",
    "        torch.nn.init.xavier_uniform_(ns, gain=0.01)\n",
    "        x[x==0] = self.epsilon\n",
    "        ns[:x.shape[0]] = x.view(x.shape[0], 4).clone()\n",
    "        for i in range(size_of_starter_set,amount_of_prediction_in_future):\n",
    "            a = ns[i-1].clone()\n",
    "            ns[i][0] = a[0].view(1,1) - self.lambda1(a[0]*a[1].view(1,1)) - self.lambda2(a[0].view(1,1))\n",
    "            ns[i][1] = a[1].view(1,1) + self.lambda1(a[0]*a[1].view(1,1)) - self.lambda3(a[1].view(1,1))  - self.lambda2(a[1].view(1,1))\n",
    "            ns[i][2] = a[2].view(1,1) + self.lambda3(a[1].view(1,1))\n",
    "            ns[i][3] = a[3].view(1,1) + self.lambda2(a[0].view(1,1)) + self.lambda2(a[1].view(1,1)) \n",
    "        return ns[1:].reshape(-1,4)\n"
   ]
  },
  {
   "cell_type": "code",
   "execution_count": 13,
   "id": "f8a93328",
   "metadata": {},
   "outputs": [],
   "source": [
    "def loss_custom(pred, actual):\n",
    "    loss_func = nn.SmoothL1Loss()\n",
    "    loss_big = loss_func(pred[:,3], actual[:,3]) + loss_func(pred[:,0], actual[:,0])\n",
    "    loss_small = loss_func(pred[:,1], actual[:,1]) + loss_func(pred[:,2], actual[:,2])\n",
    "    return 1000*loss_small + loss_big"
   ]
  },
  {
   "cell_type": "code",
   "execution_count": 14,
   "id": "e50c1d31",
   "metadata": {
    "scrolled": false
   },
   "outputs": [],
   "source": [
    "y = torch.from_numpy(data_numpy.astype(np.float32))\n"
   ]
  },
  {
   "cell_type": "code",
   "execution_count": 15,
   "id": "5c62e9b3",
   "metadata": {},
   "outputs": [
    {
     "data": {
      "text/plain": [
       "torch.Size([60, 4])"
      ]
     },
     "execution_count": 15,
     "metadata": {},
     "output_type": "execute_result"
    }
   ],
   "source": [
    "y.size()"
   ]
  },
  {
   "cell_type": "code",
   "execution_count": 16,
   "id": "through-synthetic",
   "metadata": {},
   "outputs": [],
   "source": [
    "import os\n",
    "model_checkpoint_folder = f'models/{enfermedad}/checkpoints'\n",
    "trained_models_foder = 'models/trained_models'\n",
    "os.makedirs(model_checkpoint_folder, exist_ok=True)\n",
    "os.makedirs(trained_models_foder, exist_ok=True)"
   ]
  },
  {
   "cell_type": "code",
   "execution_count": 19,
   "id": "aa61060a",
   "metadata": {},
   "outputs": [],
   "source": [
    "def train(train_set, fold_size=10, future_size=5):\n",
    "    assert fold_size >= 10\n",
    "    epsilon = 1e-15\n",
    "    sir = SIRV(epsilon=epsilon)\n",
    "    opt = torch.optim.Adam(sir.parameters(), lr=0.05)\n",
    "    best = 10000\n",
    "    early_stopping = EarlyStopping(patience=25, verbose=False, delta=1e-7)\n",
    "    for epoch in range(500):\n",
    "        out = sir(train_set[:fold_size], size_of_starter_set=min(10, fold_size), amount_of_prediction_in_future=fold_size + future_size+1)\n",
    "        out = out.squeeze()\n",
    "        loss = loss_custom(out, train_set[:fold_size + future_size])\n",
    "        loss.backward()\n",
    "        opt.step() \n",
    "        opt.zero_grad()\n",
    "        if loss.item() < best:\n",
    "            best = loss.item()\n",
    "            torch.save(sir, f'{model_checkpoint_folder}/{enfermedad}_{fold_size}.pkl')\n",
    "        if epoch%100 == 0:        \n",
    "            print(f'Epoch: {epoch}, loss: {loss.item()}')\n",
    "        if loss.isnan():\n",
    "            raise ValueError()\n",
    "        for p in sir.parameters():\n",
    "            p.data.clamp_(0)\n",
    "        early_stopping(loss.item(), sir)\n",
    "        if early_stopping.early_stop:\n",
    "            print(\"Early stopping\")\n",
    "            break\n",
    "    return best\n",
    "    \n",
    "\n",
    "def train_and_val_k_fold():\n",
    "    divergences = {}\n",
    "    rmses = []\n",
    "    losses = {}\n",
    "    future_index_check = 10\n",
    "    min_datapoints = 40\n",
    "    for fold_size in range(min_datapoints, len(y)-future_index_check):\n",
    "        print(f'\\nAnalyzing fold: {fold_size}\\n')\n",
    "        folded_train_set = y[:fold_size+future_index_check+1].clone()\n",
    "        best_loss = train(train_set=folded_train_set, fold_size=fold_size, future_size=future_index_check)\n",
    "        model = torch.load(f'{model_checkpoint_folder}/{enfermedad}_{fold_size}.pkl')\n",
    "        preds = model(folded_train_set[:fold_size], size_of_starter_set=fold_size, amount_of_prediction_in_future=len(folded_train_set)+1)[fold_size:fold_size+future_index_check]\n",
    "        target = y[fold_size:fold_size+future_index_check]\n",
    "        target[target==0] = 1e-15\n",
    "        kl_divergence = torch.nn.functional.kl_div(target.log(), preds, reduction='batchmean').detach().item()\n",
    "        rmse = torch.sqrt(torchmetrics.functional.mean_squared_error(target, preds)).detach().item()\n",
    "        print(f'\\nKL Divergence:{kl_divergence}\\n')\n",
    "        print(f'\\nRMSE:{rmse}\\n')\n",
    "        divergences[fold_size] = kl_divergence\n",
    "        rmses.append(rmse)\n",
    "        losses[fold_size] = best_loss\n",
    "    return divergences, rmses, losses"
   ]
  },
  {
   "cell_type": "code",
   "execution_count": 20,
   "id": "15d283ea",
   "metadata": {},
   "outputs": [
    {
     "name": "stdout",
     "output_type": "stream",
     "text": [
      "\n",
      "Analyzing fold: 40\n",
      "\n",
      "Epoch: 0, loss: 0.020208725705742836\n",
      "EarlyStopping reached!\n",
      "Early stopping\n",
      "\n",
      "KL Divergence:0.00010621703404467553\n",
      "\n",
      "\n",
      "RMSE:0.0005650428356602788\n",
      "\n",
      "\n",
      "Analyzing fold: 41\n",
      "\n",
      "Epoch: 0, loss: 0.009948384948074818\n",
      "EarlyStopping reached!\n",
      "Early stopping\n",
      "\n",
      "KL Divergence:0.00015142625488806516\n",
      "\n",
      "\n",
      "RMSE:0.00042408989975228906\n",
      "\n",
      "\n",
      "Analyzing fold: 42\n",
      "\n",
      "Epoch: 0, loss: 0.0205121748149395\n",
      "EarlyStopping reached!\n",
      "Early stopping\n",
      "\n",
      "KL Divergence:0.14184023439884186\n",
      "\n",
      "\n",
      "RMSE:0.13576428592205048\n",
      "\n",
      "\n",
      "Analyzing fold: 43\n",
      "\n",
      "Epoch: 0, loss: 0.05082370340824127\n",
      "EarlyStopping reached!\n",
      "Early stopping\n",
      "\n",
      "KL Divergence:0.00021065096370875835\n",
      "\n",
      "\n",
      "RMSE:0.00044194189831614494\n",
      "\n",
      "\n",
      "Analyzing fold: 44\n",
      "\n",
      "Epoch: 0, loss: 0.007171311415731907\n",
      "EarlyStopping reached!\n",
      "Early stopping\n",
      "\n",
      "KL Divergence:0.0002912192139774561\n",
      "\n",
      "\n",
      "RMSE:0.001085504307411611\n",
      "\n",
      "\n",
      "Analyzing fold: 45\n",
      "\n",
      "Epoch: 0, loss: 0.012858607806265354\n",
      "EarlyStopping reached!\n",
      "Early stopping\n",
      "\n",
      "KL Divergence:0.00028800690779462457\n",
      "\n",
      "\n",
      "RMSE:0.0006982835475355387\n",
      "\n",
      "\n",
      "Analyzing fold: 46\n",
      "\n",
      "Epoch: 0, loss: 0.05495356023311615\n",
      "EarlyStopping reached!\n",
      "Early stopping\n",
      "\n",
      "KL Divergence:0.00022862281184643507\n",
      "\n",
      "\n",
      "RMSE:0.0007008404354564846\n",
      "\n",
      "\n",
      "Analyzing fold: 47\n",
      "\n",
      "Epoch: 0, loss: 0.004112673457711935\n",
      "EarlyStopping reached!\n",
      "Early stopping\n",
      "\n",
      "KL Divergence:0.0002998769632540643\n",
      "\n",
      "\n",
      "RMSE:0.0002521291025914252\n",
      "\n",
      "\n",
      "Analyzing fold: 48\n",
      "\n",
      "Epoch: 0, loss: 0.038334667682647705\n",
      "EarlyStopping reached!\n",
      "Early stopping\n",
      "\n",
      "KL Divergence:0.001184577587991953\n",
      "\n",
      "\n",
      "RMSE:0.0009779103565961123\n",
      "\n",
      "\n",
      "Analyzing fold: 49\n",
      "\n",
      "Epoch: 0, loss: 0.02176736481487751\n",
      "EarlyStopping reached!\n",
      "Early stopping\n",
      "\n",
      "KL Divergence:5.611499000224285e-05\n",
      "\n",
      "\n",
      "RMSE:0.0004092278832104057\n",
      "\n"
     ]
    }
   ],
   "source": [
    "divergences, rmses, losses = train_and_val_k_fold()"
   ]
  },
  {
   "cell_type": "code",
   "execution_count": 21,
   "id": "2c294de7",
   "metadata": {},
   "outputs": [
    {
     "name": "stdout",
     "output_type": "stream",
     "text": [
      "Cross-validated KL Divergence: 0.014465694712635013\n",
      "Cross-validated RMSE: 0.014131925618858076\n"
     ]
    }
   ],
   "source": [
    "print(f'Cross-validated KL Divergence: {pd.Series(divergences.values()).mean()}')\n",
    "print(f'Cross-validated RMSE: {pd.Series(rmses).mean()}')"
   ]
  },
  {
   "cell_type": "code",
   "execution_count": 22,
   "id": "80055f6d",
   "metadata": {},
   "outputs": [],
   "source": [
    "import matplotlib.pyplot as plt\n",
    "%matplotlib inline\n",
    "\n",
    "best_fold_size = min(losses, key=losses.get)\n",
    "model = torch.load(f'{model_checkpoint_folder}/{enfermedad}_{best_fold_size}.pkl')\n",
    "torch.save(model, f'models/trained_models/{enfermedad}.pkl')\n",
    "y = torch.from_numpy(data_numpy.astype(np.float32))\n",
    "res = model(y, size_of_starter_set=best_fold_size, amount_of_prediction_in_future=len(y))\n"
   ]
  },
  {
   "cell_type": "code",
   "execution_count": 24,
   "id": "5cad9937",
   "metadata": {},
   "outputs": [],
   "source": [
    "import pathlib\n",
    "for i in range(len(y)):\n",
    "    file_to_rem = pathlib.Path(f'{model_checkpoint_folder}/{enfermedad}_{i}.pkl')\n",
    "    if os.path.isfile(file_to_rem):\n",
    "        file_to_rem.unlink()\n",
    "file_to_rem = pathlib.Path(f'checkpoint.pt')\n",
    "file_to_rem.unlink()"
   ]
  },
  {
   "cell_type": "code",
   "execution_count": 25,
   "id": "5dc82fb3",
   "metadata": {},
   "outputs": [
    {
     "data": {
      "text/plain": [
       "torch.Size([59, 4])"
      ]
     },
     "execution_count": 25,
     "metadata": {},
     "output_type": "execute_result"
    }
   ],
   "source": [
    "res.shape"
   ]
  },
  {
   "cell_type": "code",
   "execution_count": 26,
   "id": "292be11a",
   "metadata": {},
   "outputs": [],
   "source": [
    "import os\n",
    "os.makedirs(f'figures/{enfermedad}', exist_ok=True)"
   ]
  },
  {
   "cell_type": "code",
   "execution_count": 27,
   "id": "continued-pharmacy",
   "metadata": {},
   "outputs": [
    {
     "data": {
      "image/png": "[encoded data removed]",
      "text/plain": [
       "<Figure size 1080x360 with 2 Axes>"
      ]
     },
     "metadata": {
      "needs_background": "light"
     },
     "output_type": "display_data"
    }
   ],
   "source": [
    "fold_sizes = losses.keys()\n",
    "fig, ax = plt.subplots(nrows=1, ncols=2, figsize=(15, 5))\n",
    "\n",
    "ax[0].plot(fold_sizes, divergences.values(), color = 'r', linewidth=0, marker='.', label='divergences')\n",
    "ax[0].plot(fold_sizes, rmses, color = 'b', linewidth=0, marker='.', label='rmse')\n",
    "ax[1].set_yscale('log')\n",
    "ax[0].set_ylabel('Metrics')\n",
    "ax[0].set_xlabel('Fold Size')\n",
    "ax[0].set_title('Analisis de metricas')\n",
    "ax[0].legend()\n",
    "\n",
    "\n",
    "ax[1].plot(fold_sizes, losses.values(), color = 'g', linewidth=0, marker='.', label='losses')\n",
    "ax[1].set_ylabel('Loss')\n",
    "ax[1].set_yscale('log')\n",
    "ax[1].set_xlabel('Fold Size')\n",
    "ax[1].set_title('Analisis de Loss')\n",
    "ax[1].legend()\n",
    "\n",
    "plt.show()"
   ]
  },
  {
   "cell_type": "code",
   "execution_count": 28,
   "id": "d9bf2d81",
   "metadata": {},
   "outputs": [
    {
     "name": "stderr",
     "output_type": "stream",
     "text": [
      "/var/folders/g0/jqvp4xxs5pn4cds1xb9339xm0000gn/T/ipykernel_2505/700671155.py:11: MatplotlibDeprecationWarning: savefig() got unexpected keyword argument \"linewidth\" which is no longer supported as of 3.3 and will become an error two minor releases later\n",
      "  plt.savefig(f'figures/{enfermedad}/accumul_prediction.png', format='png', linewidth = 0.01)\n"
     ]
    },
    {
     "data": {
      "image/png": "[encoded data removed]",
      "text/plain": [
       "<Figure size 432x288 with 1 Axes>"
      ]
     },
     "metadata": {
      "needs_background": "light"
     },
     "output_type": "display_data"
    }
   ],
   "source": [
    "predicted_susceptible = res[:,0].detach().numpy()\n",
    "real_susceptible = y[:,0].detach().numpy()\n",
    "plt.plot(data.index, real_susceptible, color = 'r', linewidth=0, marker='.', label='real_sus')\n",
    "plt.plot(data.index[1:], predicted_susceptible, color = 'b', linewidth=0, marker='.', label='pred_sus')\n",
    "plt.ylim(0, 1)\n",
    "plt.xlim(0,len(y))\n",
    "plt.ylabel('Proportion')\n",
    "plt.xlabel('Generation')\n",
    "plt.title('Analisis de susceptibles predichos vs reales')\n",
    "plt.legend()\n",
    "plt.savefig(f'figures/{enfermedad}/accumul_prediction.png', format='png', linewidth = 0.01)"
   ]
  },
  {
   "cell_type": "code",
   "execution_count": 29,
   "id": "9a87fda1",
   "metadata": {},
   "outputs": [
    {
     "name": "stderr",
     "output_type": "stream",
     "text": [
      "/var/folders/g0/jqvp4xxs5pn4cds1xb9339xm0000gn/T/ipykernel_2505/2298925115.py:11: MatplotlibDeprecationWarning: savefig() got unexpected keyword argument \"linewidth\" which is no longer supported as of 3.3 and will become an error two minor releases later\n",
      "  plt.savefig(f'figures/{enfermedad}/accumul_prediction_vaccinated.png', format='png', linewidth = 0.01)\n"
     ]
    },
    {
     "data": {
      "image/png": "[encoded data removed]",
      "text/plain": [
       "<Figure size 432x288 with 1 Axes>"
      ]
     },
     "metadata": {
      "needs_background": "light"
     },
     "output_type": "display_data"
    }
   ],
   "source": [
    "predicted_vaccinated = res[:,3].detach().numpy()\n",
    "real_vaccinated = y[:,3].detach().numpy()\n",
    "plt.plot(data.index, real_vaccinated, color = 'r', linewidth=0, marker='.', label='real_vac')\n",
    "plt.plot(data.index[1:], predicted_vaccinated, color = 'b', linewidth=0, marker='.', label='pred_vac')\n",
    "plt.ylim(0, 1)\n",
    "plt.xlim(0,len(y))\n",
    "plt.ylabel('Proportion')\n",
    "plt.xlabel('Generation')\n",
    "plt.title('Analisis de vacunados predichos vs reales')\n",
    "plt.legend()\n",
    "plt.savefig(f'figures/{enfermedad}/accumul_prediction_vaccinated.png', format='png', linewidth = 0.01)"
   ]
  },
  {
   "cell_type": "markdown",
   "id": "a60316ad",
   "metadata": {},
   "source": [
    "Que pasa si le damos mas peso a fitear a los susceptibles?\n"
   ]
  },
  {
   "cell_type": "code",
   "execution_count": 30,
   "id": "133fb8d1",
   "metadata": {},
   "outputs": [
    {
     "name": "stderr",
     "output_type": "stream",
     "text": [
      "/var/folders/g0/jqvp4xxs5pn4cds1xb9339xm0000gn/T/ipykernel_2505/652839925.py:12: MatplotlibDeprecationWarning: savefig() got unexpected keyword argument \"linewidth\" which is no longer supported as of 3.3 and will become an error two minor releases later\n",
      "  plt.savefig(f'figures/{enfermedad}/accumul_infected.png', format='png', linewidth = 0.01)\n"
     ]
    },
    {
     "data": {
      "image/png": "[encoded data removed]",
      "text/plain": [
       "<Figure size 432x288 with 1 Axes>"
      ]
     },
     "metadata": {
      "needs_background": "light"
     },
     "output_type": "display_data"
    }
   ],
   "source": [
    "predicted_infected = res[:,1].detach().numpy()\n",
    "real_infected = y[:,1].detach().numpy()\n",
    "plt.plot(data.index, real_infected, color = 'r', linewidth=0, marker='.', label='real_inf')\n",
    "plt.plot(data.index[1:], predicted_infected, color = 'b', linewidth=0, marker='.', label='pred_inf')\n",
    "# plt.yscale('log')\n",
    "plt.xlim(0,len(y))\n",
    "plt.ylim(0,1)\n",
    "plt.ylabel('Proportion')\n",
    "plt.xlabel('Generation')\n",
    "plt.title('Analisis de infectados predichos vs reales')\n",
    "plt.legend()\n",
    "plt.savefig(f'figures/{enfermedad}/accumul_infected.png', format='png', linewidth = 0.01)"
   ]
  },
  {
   "cell_type": "code",
   "execution_count": 31,
   "id": "a4c78e78",
   "metadata": {},
   "outputs": [
    {
     "name": "stderr",
     "output_type": "stream",
     "text": [
      "/var/folders/g0/jqvp4xxs5pn4cds1xb9339xm0000gn/T/ipykernel_2505/2050763186.py:11: MatplotlibDeprecationWarning: savefig() got unexpected keyword argument \"linewidth\" which is no longer supported as of 3.3 and will become an error two minor releases later\n",
      "  plt.savefig(f'figures/{enfermedad}/accumul_prediction_rec.png', format='png', linewidth = 0.01)\n"
     ]
    },
    {
     "data": {
      "image/png": "[encoded data removed]",
      "text/plain": [
       "<Figure size 432x288 with 1 Axes>"
      ]
     },
     "metadata": {
      "needs_background": "light"
     },
     "output_type": "display_data"
    }
   ],
   "source": [
    "predicted_recov = res[:,2].detach().numpy()\n",
    "real_recov = y[:,2].detach().numpy()\n",
    "plt.plot(data.index, real_recov, color = 'r', linewidth=0, marker='.', label='real_rec')\n",
    "plt.plot(data.index[1:], predicted_recov, color = 'b', linewidth=0, marker='.', label='pred_rec')\n",
    "plt.yscale('log')\n",
    "plt.xlim(0,len(y))\n",
    "plt.ylabel('Proportion')\n",
    "plt.xlabel('Generation')\n",
    "plt.title('Analisis de recuperados predichos vs reales')\n",
    "plt.legend()\n",
    "plt.savefig(f'figures/{enfermedad}/accumul_prediction_rec.png', format='png', linewidth = 0.01)"
   ]
  },
  {
   "cell_type": "markdown",
   "id": "5d747f24",
   "metadata": {},
   "source": [
    "Testeemos los parametros"
   ]
  },
  {
   "cell_type": "code",
   "execution_count": 32,
   "id": "61711e68",
   "metadata": {},
   "outputs": [
    {
     "name": "stdout",
     "output_type": "stream",
     "text": [
      "[Parameter containing:\n",
      "tensor([[0.0128]], requires_grad=True), Parameter containing:\n",
      "tensor([[0.0004]], requires_grad=True), Parameter containing:\n",
      "tensor([[1.7509e-06]], requires_grad=True)]\n"
     ]
    }
   ],
   "source": [
    "params = list(model.parameters())\n",
    "lambda1 = params[0].item()\n",
    "lambda2 = params[1].item()\n",
    "lambda3 = params[2].item()\n",
    "print(params)"
   ]
  },
  {
   "cell_type": "markdown",
   "id": "3b66fea9",
   "metadata": {},
   "source": [
    "Recordemos que estamos modelando:\n",
    "\n",
    "$$\\dfrac{ds}{dt} = -\\lambda_1 s i - \\lambda_2 s  $$\n",
    "\\\n",
    "$$\\dfrac{di}{dt} = \\lambda_1 s i - \\lambda_3 i - \\lambda_2 i  $$\n",
    "\n",
    "\\\n",
    "$$\\dfrac{dr}{dt} = \\lambda_3 i  $$\n",
    "\\\n",
    "$$\\dfrac{dv}{dt} = \\lambda_2 s + \\lambda_2 i   $$\n",
    "\n",
    "\n",
    "\n",
    "Entonces\n",
    "\n",
    "$$\\beta = \\lambda_1 = R_0 / d $$\n",
    "\n",
    "Con d la duración de la infeccion.\n",
    "\n",
    "$$ \\lambda_2 = \\eta $$ la tasa de inmunización y\n",
    "\n",
    "$$ \\lambda_3 = \\nu  = 1 / d $$\n",
    "\n",
    "Primero veamos la tasa de immunizacion"
   ]
  },
  {
   "cell_type": "code",
   "execution_count": 33,
   "id": "90eaeb4d",
   "metadata": {},
   "outputs": [],
   "source": [
    "tasa_immunizacion = (data.apply(lambda x: x.diff()).dropna().mean()/data['Vacunados'].max()).iloc[3]"
   ]
  },
  {
   "cell_type": "code",
   "execution_count": 34,
   "id": "fc002785",
   "metadata": {},
   "outputs": [
    {
     "data": {
      "text/plain": [
       "0.0009763025616609469"
      ]
     },
     "execution_count": 34,
     "metadata": {},
     "output_type": "execute_result"
    }
   ],
   "source": [
    "tasa_immunizacion"
   ]
  },
  {
   "cell_type": "code",
   "execution_count": 35,
   "id": "812f4167",
   "metadata": {},
   "outputs": [
    {
     "data": {
      "text/latex": [
       "Deducimos que:\n",
       "$$ \\eta = \\lambda_2 = {0.00038} \\approx {0.00098} $$"
      ],
      "text/plain": [
       "<IPython.core.display.Latex object>"
      ]
     },
     "execution_count": 35,
     "metadata": {},
     "output_type": "execute_result"
    }
   ],
   "source": [
    "from IPython.display import Latex\n",
    "Latex(f\"\"\"Deducimos que:\n",
    "$$ \\eta = \\lambda_2 = {{{lambda2:.5f}}} \\\\approx {{{tasa_immunizacion:.5f}}} $$\"\"\")"
   ]
  },
  {
   "cell_type": "code",
   "execution_count": 36,
   "id": "27af972d",
   "metadata": {},
   "outputs": [
    {
     "data": {
      "text/latex": [
       "Deducimos que:\n",
       "$$ d = 1 / \\lambda_3 = 1 / {0.00} \\approx {571121.47} $$\n",
       "$$ R_0 =  \\lambda_1 * d = {0.01} * d \\approx {7289.91}$$"
      ],
      "text/plain": [
       "<IPython.core.display.Latex object>"
      ]
     },
     "execution_count": 36,
     "metadata": {},
     "output_type": "execute_result"
    }
   ],
   "source": [
    "Latex(f\"\"\"Deducimos que:\n",
    "$$ d = 1 / \\lambda_3 = 1 / {{{lambda3:.2f}}} \\\\approx {{{1/lambda3:.2f}}} $$\n",
    "$$ R_0 =  \\lambda_1 * d = {{{lambda1:.2f}}} * d \\\\approx {{{lambda1/lambda3:.2f}}}$$\"\"\")"
   ]
  },
  {
   "cell_type": "markdown",
   "id": "d4fd225a",
   "metadata": {},
   "source": [
    "Mientras que la literatura indica:\n",
    "\n",
    "$$ d = 17.5 $$\n",
    "$$ R_0 = 2.65 $$"
   ]
  },
  {
   "cell_type": "markdown",
   "id": "a0ca8030",
   "metadata": {},
   "source": [
    "## Validemos un test de momentos"
   ]
  },
  {
   "cell_type": "markdown",
   "id": "ea725fe4",
   "metadata": {},
   "source": [
    "#### Primer momento"
   ]
  },
  {
   "cell_type": "code",
   "execution_count": 37,
   "id": "61acae2d",
   "metadata": {},
   "outputs": [
    {
     "data": {
      "text/plain": [
       "Ttest_indResult(statistic=0.19057981582097888, pvalue=0.8491851123610936)"
      ]
     },
     "execution_count": 37,
     "metadata": {},
     "output_type": "execute_result"
    }
   ],
   "source": [
    "import scipy\n",
    "\n",
    "scipy.stats.ttest_ind(real_susceptible, predicted_susceptible, equal_var=False)"
   ]
  },
  {
   "cell_type": "code",
   "execution_count": 38,
   "id": "461d8d26",
   "metadata": {},
   "outputs": [
    {
     "data": {
      "text/plain": [
       "Ttest_indResult(statistic=1.2303492879985574, pvalue=0.22110388939598483)"
      ]
     },
     "execution_count": 38,
     "metadata": {},
     "output_type": "execute_result"
    }
   ],
   "source": [
    "scipy.stats.ttest_ind(real_infected, predicted_infected, equal_var=False)"
   ]
  },
  {
   "cell_type": "code",
   "execution_count": 39,
   "id": "be7f5ae3",
   "metadata": {},
   "outputs": [
    {
     "data": {
      "text/plain": [
       "Ttest_indResult(statistic=1.3230234988362668, pvalue=0.18867959792377995)"
      ]
     },
     "execution_count": 39,
     "metadata": {},
     "output_type": "execute_result"
    }
   ],
   "source": [
    "scipy.stats.ttest_ind(real_recov, predicted_recov, equal_var=False)"
   ]
  },
  {
   "cell_type": "code",
   "execution_count": 40,
   "id": "1020a2e5",
   "metadata": {},
   "outputs": [
    {
     "data": {
      "text/plain": [
       "Ttest_indResult(statistic=-0.3557608141552175, pvalue=0.7226609116288158)"
      ]
     },
     "execution_count": 40,
     "metadata": {},
     "output_type": "execute_result"
    }
   ],
   "source": [
    "scipy.stats.ttest_ind(real_vaccinated, predicted_vaccinated, equal_var=False)"
   ]
  },
  {
   "cell_type": "markdown",
   "id": "c3799d0e",
   "metadata": {},
   "source": [
    "#### Segundo momento"
   ]
  },
  {
   "cell_type": "code",
   "execution_count": 41,
   "id": "264555ea",
   "metadata": {},
   "outputs": [
    {
     "data": {
      "text/plain": [
       "BartlettResult(statistic=2.0130574342901286, pvalue=0.15595075606487593)"
      ]
     },
     "execution_count": 41,
     "metadata": {},
     "output_type": "execute_result"
    }
   ],
   "source": [
    "scipy.stats.bartlett(real_infected, predicted_infected)"
   ]
  },
  {
   "cell_type": "code",
   "execution_count": 42,
   "id": "a8d58a5a",
   "metadata": {},
   "outputs": [
    {
     "data": {
      "text/plain": [
       "BartlettResult(statistic=7.163673411262166, pvalue=0.007439468813778608)"
      ]
     },
     "execution_count": 42,
     "metadata": {},
     "output_type": "execute_result"
    }
   ],
   "source": [
    "scipy.stats.bartlett(real_recov, predicted_recov)"
   ]
  },
  {
   "cell_type": "markdown",
   "id": "f29f39a8",
   "metadata": {},
   "source": [
    "#### Test de bondad de ajuste de KS"
   ]
  },
  {
   "cell_type": "code",
   "execution_count": 43,
   "id": "8ab4f644",
   "metadata": {},
   "outputs": [
    {
     "data": {
      "text/plain": [
       "KstestResult(statistic=0.05451977401129943, pvalue=0.9999452188611287)"
      ]
     },
     "execution_count": 43,
     "metadata": {},
     "output_type": "execute_result"
    }
   ],
   "source": [
    "scipy.stats.kstest(real_susceptible, predicted_susceptible, method='asymp')"
   ]
  },
  {
   "cell_type": "code",
   "execution_count": 44,
   "id": "681bd62e",
   "metadata": {},
   "outputs": [
    {
     "data": {
      "text/plain": [
       "KstestResult(statistic=0.24519774011299433, pvalue=0.044946701857583427)"
      ]
     },
     "execution_count": 44,
     "metadata": {},
     "output_type": "execute_result"
    }
   ],
   "source": [
    "scipy.stats.kstest(real_infected, predicted_infected, method='asymp')"
   ]
  },
  {
   "cell_type": "code",
   "execution_count": 45,
   "id": "9e9078f7",
   "metadata": {},
   "outputs": [
    {
     "data": {
      "text/plain": [
       "KstestResult(statistic=0.31666666666666665, pvalue=0.003570424761788704)"
      ]
     },
     "execution_count": 45,
     "metadata": {},
     "output_type": "execute_result"
    }
   ],
   "source": [
    "scipy.stats.kstest(real_recov, predicted_recov, method='asymp')"
   ]
  },
  {
   "cell_type": "code",
   "execution_count": 46,
   "id": "83a52f64",
   "metadata": {},
   "outputs": [
    {
     "data": {
      "text/plain": [
       "KstestResult(statistic=0.05508474576271183, pvalue=0.9999317761107055)"
      ]
     },
     "execution_count": 46,
     "metadata": {},
     "output_type": "execute_result"
    }
   ],
   "source": [
    "scipy.stats.kstest(real_vaccinated, predicted_vaccinated, method='asymp')"
   ]
  },
  {
   "cell_type": "markdown",
   "id": "copyrighted-philadelphia",
   "metadata": {},
   "source": [
    "## Extrapolacion"
   ]
  },
  {
   "cell_type": "code",
   "execution_count": 47,
   "id": "bfdd20c4",
   "metadata": {},
   "outputs": [
    {
     "data": {
      "text/plain": [
       "tensor([[7.6203e-01, 1.0000e-15, 1.0000e-15, 2.3797e-01],\n",
       "        [7.6169e-01, 1.0000e-15, 1.0000e-15, 2.3831e-01],\n",
       "        [7.6138e-01, 1.0000e-15, 1.0000e-15, 2.3862e-01],\n",
       "        [7.6107e-01, 1.0000e-15, 1.0000e-15, 2.3893e-01],\n",
       "        [7.6078e-01, 1.0000e-15, 1.0000e-15, 2.3922e-01],\n",
       "        [7.6049e-01, 1.0000e-15, 1.0000e-15, 2.3951e-01],\n",
       "        [7.6017e-01, 2.5954e-07, 1.0000e-15, 2.3983e-01],\n",
       "        [7.5986e-01, 1.9466e-07, 2.5954e-07, 2.4014e-01],\n",
       "        [7.5956e-01, 1.0000e-15, 4.5420e-07, 2.4044e-01],\n",
       "        [7.5928e-01, 1.0000e-15, 4.5420e-07, 2.4072e-01],\n",
       "        [7.5901e-01, 9.0841e-07, 4.5420e-07, 2.4099e-01],\n",
       "        [7.5870e-01, 1.0000e-15, 1.3626e-06, 2.4130e-01],\n",
       "        [7.5841e-01, 1.0000e-15, 1.3626e-06, 2.4159e-01],\n",
       "        [7.5810e-01, 1.0000e-15, 1.3626e-06, 2.4190e-01],\n",
       "        [7.5778e-01, 4.6285e-06, 1.3626e-06, 2.4221e-01],\n",
       "        [7.5747e-01, 1.0000e-15, 5.9912e-06, 2.4252e-01],\n",
       "        [7.5718e-01, 5.1693e-06, 5.9912e-06, 2.4280e-01],\n",
       "        [7.5688e-01, 9.1922e-06, 1.1160e-05, 2.4309e-01],\n",
       "        [7.5658e-01, 1.4188e-05, 2.0353e-05, 2.4337e-01],\n",
       "        [7.5628e-01, 1.3842e-05, 3.4541e-05, 2.4363e-01],\n",
       "        [7.5601e-01, 1.9509e-05, 4.8383e-05, 2.4388e-01],\n",
       "        [7.5574e-01, 1.4708e-05, 6.7893e-05, 2.4411e-01],\n",
       "        [7.5534e-01, 1.1961e-04, 8.2600e-05, 2.4437e-01],\n",
       "        [7.5493e-01, 1.5248e-05, 2.0221e-04, 2.4465e-01],\n",
       "        [7.5469e-01, 9.2138e-06, 2.1746e-04, 2.4487e-01],\n",
       "        [7.5450e-01, 4.0013e-06, 2.2667e-04, 2.4504e-01],\n",
       "        [7.5432e-01, 1.5335e-05, 2.3067e-04, 2.4520e-01],\n",
       "        [7.5412e-01, 1.9942e-05, 2.4601e-04, 2.4537e-01],\n",
       "        [7.5391e-01, 4.6934e-06, 2.6595e-04, 2.4556e-01],\n",
       "        [7.5371e-01, 8.5866e-06, 2.7064e-04, 2.4574e-01],\n",
       "        [7.5352e-01, 1.2047e-05, 2.7923e-04, 2.4591e-01],\n",
       "        [7.5333e-01, 1.0000e-15, 2.9127e-04, 2.4608e-01],\n",
       "        [7.5319e-01, 1.0000e-15, 2.9127e-04, 2.4623e-01],\n",
       "        [7.5304e-01, 4.6934e-06, 2.9127e-04, 2.4637e-01],\n",
       "        [7.5278e-01, 1.0754e-04, 2.9597e-04, 2.4653e-01],\n",
       "        [7.5249e-01, 1.0000e-15, 4.0351e-04, 2.4670e-01],\n",
       "        [7.5231e-01, 1.0000e-15, 4.0351e-04, 2.4688e-01],\n",
       "        [7.5212e-01, 1.0000e-15, 4.0351e-04, 2.4707e-01],\n",
       "        [7.5194e-01, 1.0000e-15, 4.0351e-04, 2.4725e-01],\n",
       "        [7.5165e-01, 1.0092e-15, 4.0351e-04, 2.4754e-01],\n",
       "        [7.5137e-01, 1.0185e-15, 4.0351e-04, 2.4783e-01],\n",
       "        [7.5108e-01, 1.0279e-15, 4.0351e-04, 2.4811e-01],\n",
       "        [7.5079e-01, 1.0374e-15, 4.0351e-04, 2.4840e-01],\n",
       "        [7.5051e-01, 1.0469e-15, 4.0351e-04, 2.4868e-01],\n",
       "        [7.5022e-01, 1.0565e-15, 4.0351e-04, 2.4897e-01],\n",
       "        [7.4994e-01, 1.0662e-15, 4.0351e-04, 2.4926e-01],\n",
       "        [7.4965e-01, 1.0760e-15, 4.0351e-04, 2.4954e-01],\n",
       "        [7.4937e-01, 1.0859e-15, 4.0351e-04, 2.4983e-01],\n",
       "        [7.4908e-01, 1.0959e-15, 4.0351e-04, 2.5011e-01],\n",
       "        [7.4880e-01, 1.1060e-15, 4.0351e-04, 2.5040e-01],\n",
       "        [7.4851e-01, 1.1161e-15, 4.0351e-04, 2.5068e-01],\n",
       "        [7.4823e-01, 1.1263e-15, 4.0351e-04, 2.5097e-01],\n",
       "        [7.4794e-01, 1.1367e-15, 4.0351e-04, 2.5125e-01],\n",
       "        [7.4766e-01, 1.1471e-15, 4.0351e-04, 2.5154e-01],\n",
       "        [7.4737e-01, 1.1576e-15, 4.0351e-04, 2.5182e-01],\n",
       "        [7.4709e-01, 1.1682e-15, 4.0351e-04, 2.5211e-01],\n",
       "        [7.4680e-01, 1.1789e-15, 4.0351e-04, 2.5239e-01],\n",
       "        [7.4652e-01, 1.1897e-15, 4.0351e-04, 2.5268e-01],\n",
       "        [7.4623e-01, 1.2005e-15, 4.0351e-04, 2.5296e-01],\n",
       "        [7.4595e-01, 1.2115e-15, 4.0351e-04, 2.5324e-01],\n",
       "        [7.4567e-01, 1.2226e-15, 4.0351e-04, 2.5353e-01],\n",
       "        [7.4538e-01, 1.2338e-15, 4.0351e-04, 2.5381e-01],\n",
       "        [7.4510e-01, 1.2450e-15, 4.0351e-04, 2.5410e-01],\n",
       "        [7.4481e-01, 1.2564e-15, 4.0351e-04, 2.5438e-01],\n",
       "        [7.4453e-01, 1.2679e-15, 4.0351e-04, 2.5466e-01],\n",
       "        [7.4425e-01, 1.2794e-15, 4.0351e-04, 2.5495e-01],\n",
       "        [7.4396e-01, 1.2911e-15, 4.0351e-04, 2.5523e-01],\n",
       "        [7.4368e-01, 1.3029e-15, 4.0351e-04, 2.5551e-01],\n",
       "        [7.4340e-01, 1.3147e-15, 4.0351e-04, 2.5580e-01],\n",
       "        [7.4311e-01, 1.3267e-15, 4.0351e-04, 2.5608e-01],\n",
       "        [7.4283e-01, 1.3388e-15, 4.0351e-04, 2.5636e-01],\n",
       "        [7.4255e-01, 1.3510e-15, 4.0351e-04, 2.5665e-01],\n",
       "        [7.4226e-01, 1.3632e-15, 4.0351e-04, 2.5693e-01],\n",
       "        [7.4198e-01, 1.3756e-15, 4.0351e-04, 2.5721e-01],\n",
       "        [7.4170e-01, 1.3881e-15, 4.0351e-04, 2.5749e-01],\n",
       "        [7.4142e-01, 1.4007e-15, 4.0351e-04, 2.5778e-01],\n",
       "        [7.4113e-01, 1.4135e-15, 4.0351e-04, 2.5806e-01],\n",
       "        [7.4085e-01, 1.4263e-15, 4.0351e-04, 2.5834e-01],\n",
       "        [7.4057e-01, 1.4392e-15, 4.0351e-04, 2.5862e-01],\n",
       "        [7.4029e-01, 1.4523e-15, 4.0351e-04, 2.5890e-01],\n",
       "        [7.4001e-01, 1.4655e-15, 4.0351e-04, 2.5919e-01],\n",
       "        [7.3972e-01, 1.4787e-15, 4.0351e-04, 2.5947e-01],\n",
       "        [7.3944e-01, 1.4921e-15, 4.0351e-04, 2.5975e-01]],\n",
       "       grad_fn=<ReshapeAliasBackward0>)"
      ]
     },
     "execution_count": 47,
     "metadata": {},
     "output_type": "execute_result"
    }
   ],
   "source": [
    "import matplotlib.pyplot as plt\n",
    "%matplotlib inline\n",
    "\n",
    "model = torch.load(f'models/trained_models/{enfermedad}.pkl')\n",
    "y = torch.from_numpy(data_numpy.astype(np.float32))\n",
    "res = model(y, size_of_starter_set=40, amount_of_prediction_in_future=len(y)+24)\n",
    "res"
   ]
  },
  {
   "cell_type": "code",
   "execution_count": 54,
   "id": "extensive-pakistan",
   "metadata": {},
   "outputs": [
    {
     "data": {
      "text/plain": [
       "83"
      ]
     },
     "execution_count": 54,
     "metadata": {},
     "output_type": "execute_result"
    }
   ],
   "source": [
    "res[:,0].shape[0]"
   ]
  },
  {
   "cell_type": "code",
   "execution_count": 61,
   "id": "e7f9bf17",
   "metadata": {},
   "outputs": [
    {
     "name": "stderr",
     "output_type": "stream",
     "text": [
      "/var/folders/g0/jqvp4xxs5pn4cds1xb9339xm0000gn/T/ipykernel_2505/961057719.py:14: UserWarning: Attempted to set non-positive bottom ylim on a log-scaled axis.\n",
      "Invalid limit will be ignored.\n",
      "  plt.ylim(0, 1)\n",
      "/var/folders/g0/jqvp4xxs5pn4cds1xb9339xm0000gn/T/ipykernel_2505/961057719.py:20: MatplotlibDeprecationWarning: savefig() got unexpected keyword argument \"linewidth\" which is no longer supported as of 3.3 and will become an error two minor releases later\n",
      "  plt.savefig(f'figures/{enfermedad}/extrapolation_{enfermedad}.png', format='png', linewidth = 0.01)\n"
     ]
    },
    {
     "data": {
      "image/png": "[encoded data removed]",
      "text/plain": [
       "<Figure size 1080x720 with 1 Axes>"
      ]
     },
     "metadata": {
      "needs_background": "light"
     },
     "output_type": "display_data"
    }
   ],
   "source": [
    "plt.figure(figsize=(15,10))\n",
    "predicted_susceptible = res[:,0].detach().numpy()\n",
    "predicted_infectous = res[:,1].detach().numpy()\n",
    "predicted_recovered = res[:,2].detach().numpy()\n",
    "predicted_vaccinated = res[:,3].detach().numpy()\n",
    "\n",
    "plt.plot(range(res[:,0].shape[0]), predicted_susceptible, color = 'r', linewidth=0, marker='.', label='sus')\n",
    "plt.plot(range(res[:,0].shape[0]), predicted_infectous, color = 'b', linewidth=0, marker='o', label='inf')\n",
    "plt.plot(range(res[:,0].shape[0]), predicted_recovered, color = 'y', linewidth=0, marker='v', label='rec')\n",
    "plt.plot(range(res[:,0].shape[0]), predicted_vaccinated, color = 'g', linewidth=0, marker='x', label='vac')\n",
    "\n",
    "plt.yscale('log')\n",
    "\n",
    "plt.ylim(0, 1)\n",
    "plt.xlim(0,len(res[:,0]))\n",
    "plt.ylabel('log-Proportion')\n",
    "plt.xlabel('Generation')\n",
    "plt.title('Extrapolacion del modelo')\n",
    "plt.legend()\n",
    "plt.savefig(f'figures/{enfermedad}/extrapolation_{enfermedad}.png', format='png', linewidth = 0.01)"
   ]
  },
  {
   "cell_type": "code",
   "execution_count": null,
   "id": "8bb08e0d",
   "metadata": {},
   "outputs": [],
   "source": []
  },
  {
   "cell_type": "code",
   "execution_count": null,
   "id": "stopped-constraint",
   "metadata": {},
   "outputs": [],
   "source": []
  }
 ],
 "metadata": {
  "kernelspec": {
   "display_name": "simuladores",
   "language": "python",
   "name": "simuladores"
  },
  "language_info": {
   "codemirror_mode": {
    "name": "ipython",
    "version": 3
   },
   "file_extension": ".py",
   "mimetype": "text/x-python",
   "name": "python",
   "nbconvert_exporter": "python",
   "pygments_lexer": "ipython3",
   "version": "3.9.1"
  }
 },
 "nbformat": 4,
 "nbformat_minor": 5
}
